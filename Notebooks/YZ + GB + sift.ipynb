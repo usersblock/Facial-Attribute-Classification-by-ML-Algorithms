{
 "cells": [
  {
   "cell_type": "code",
   "execution_count": 11,
   "id": "6581811b",
   "metadata": {},
   "outputs": [],
   "source": [
    "import pandas as pd\n",
    "import numpy as np\n",
    "from os import listdir\n",
    "from os.path import isfile, join\n",
    "import matplotlib.pyplot as plt\n",
    "from sklearn.ensemble import GradientBoostingClassifier\n",
    "from sklearn.preprocessing import StandardScaler\n",
    "from sklearn.model_selection import train_test_split\n",
    "from sklearn.metrics import accuracy_score, confusion_matrix\n",
    "from sklearn import preprocessing\n",
    "from sklearn.metrics import classification_report\n",
    "from ipynb.fs.full.SIFT_to_Features import SIFT_nparray_to_Features\n",
    "%matplotlib inline"
   ]
  },
  {
   "cell_type": "code",
   "execution_count": 13,
   "id": "3e8ed393",
   "metadata": {},
   "outputs": [],
   "source": [
    "mypath = 'C:/Users/Yinzi/Desktop/ML PROJECT/Part 3/dataset/crop_part1'\n",
    "filenames = np.array([f for f in listdir(mypath) if isfile(join(mypath, f))])\n",
    "splitcolumns = [x.split('_')[0:3] + [mypath +'/' + x] for x in filenames if x.count('_') == 3]\n",
    "filecolumns = ['age','gender','race','file']\n",
    "df = pd.DataFrame(data = splitcolumns, columns = filecolumns)"
   ]
  },
  {
   "cell_type": "code",
   "execution_count": 14,
   "id": "de5c714b",
   "metadata": {},
   "outputs": [],
   "source": [
    "df['age']= df['age'].astype('int')\n",
    "df['gender']= df['gender'].astype('int')\n",
    "df['race']= df['race'].astype('int')"
   ]
  },
  {
   "cell_type": "code",
   "execution_count": 15,
   "id": "08b439e8",
   "metadata": {},
   "outputs": [],
   "source": [
    "images = []\n",
    "for img_path in df['file']:\n",
    "    image = plt.imread(img_path)\n",
    "    images.append(image)"
   ]
  },
  {
   "cell_type": "code",
   "execution_count": 20,
   "id": "8ffa9a91",
   "metadata": {},
   "outputs": [
    {
     "data": {
      "text/plain": [
       "9778"
      ]
     },
     "execution_count": 20,
     "metadata": {},
     "output_type": "execute_result"
    }
   ],
   "source": [
    "len(images)"
   ]
  },
  {
   "cell_type": "markdown",
   "id": "6718b056",
   "metadata": {},
   "source": [
    "### 1. Gender + sift"
   ]
  },
  {
   "cell_type": "code",
   "execution_count": 16,
   "id": "8710d001",
   "metadata": {},
   "outputs": [],
   "source": [
    "X_train, X_test, y_train, y_test = train_test_split(images, df['gender'])"
   ]
  },
  {
   "cell_type": "code",
   "execution_count": 18,
   "id": "570464e6",
   "metadata": {},
   "outputs": [
    {
     "name": "stderr",
     "output_type": "stream",
     "text": [
      "C:\\Users\\Yinzi\\ML project\\SIFT_to_Features.ipynb:72: RuntimeWarning: invalid value encountered in true_divide\n",
      "  \"        for j in bin_assignment:\\n\",\n"
     ]
    }
   ],
   "source": [
    "X_train_sift, X_test_sift = SIFT_nparray_to_Features(X_train, X_test)"
   ]
  },
  {
   "cell_type": "code",
   "execution_count": 21,
   "id": "aa4e2470",
   "metadata": {},
   "outputs": [],
   "source": [
    "gbc=GradientBoostingClassifier(n_estimators=500,learning_rate=0.05,random_state=100,max_features=5 )"
   ]
  },
  {
   "cell_type": "code",
   "execution_count": 22,
   "id": "1bf2924d",
   "metadata": {},
   "outputs": [
    {
     "data": {
      "text/plain": [
       "GradientBoostingClassifier(learning_rate=0.05, max_features=5, n_estimators=500,\n",
       "                           random_state=100)"
      ]
     },
     "execution_count": 22,
     "metadata": {},
     "output_type": "execute_result"
    }
   ],
   "source": [
    "gbc.fit(X_train_sift, y_train)"
   ]
  },
  {
   "cell_type": "code",
   "execution_count": 23,
   "id": "da1de57d",
   "metadata": {},
   "outputs": [],
   "source": [
    "y_pred_sift = pred=gbc.predict(X_test_sift)"
   ]
  },
  {
   "cell_type": "code",
   "execution_count": 24,
   "id": "68ce1ead",
   "metadata": {},
   "outputs": [
    {
     "name": "stdout",
     "output_type": "stream",
     "text": [
      "GBC accuracy is 0.65\n"
     ]
    }
   ],
   "source": [
    "print(\"GBC accuracy is %2.2f\" % accuracy_score(y_test, y_pred_sift))"
   ]
  },
  {
   "cell_type": "code",
   "execution_count": 25,
   "id": "b109cee1",
   "metadata": {},
   "outputs": [
    {
     "name": "stdout",
     "output_type": "stream",
     "text": [
      "[[604 489]\n",
      " [364 988]]\n"
     ]
    }
   ],
   "source": [
    "print(confusion_matrix(y_test, y_pred_sift))"
   ]
  },
  {
   "cell_type": "code",
   "execution_count": 26,
   "id": "6e77ceda",
   "metadata": {},
   "outputs": [
    {
     "name": "stdout",
     "output_type": "stream",
     "text": [
      "              precision    recall  f1-score   support\n",
      "\n",
      "           0       0.62      0.55      0.59      1093\n",
      "           1       0.67      0.73      0.70      1352\n",
      "\n",
      "    accuracy                           0.65      2445\n",
      "   macro avg       0.65      0.64      0.64      2445\n",
      "weighted avg       0.65      0.65      0.65      2445\n",
      "\n"
     ]
    }
   ],
   "source": [
    "print(classification_report(y_test, y_pred_sift))"
   ]
  },
  {
   "cell_type": "markdown",
   "id": "ef37600d",
   "metadata": {},
   "source": [
    "### 2. race + sift"
   ]
  },
  {
   "cell_type": "code",
   "execution_count": 28,
   "id": "31c8cbdb",
   "metadata": {},
   "outputs": [],
   "source": [
    "X2_train, X2_test, y2_train, y2_test = train_test_split(images, df['race'], test_size =0.3, random_state = 42)"
   ]
  },
  {
   "cell_type": "code",
   "execution_count": 29,
   "id": "e6556afe",
   "metadata": {},
   "outputs": [
    {
     "name": "stderr",
     "output_type": "stream",
     "text": [
      "C:\\Users\\Yinzi\\ML project\\SIFT_to_Features.ipynb:72: RuntimeWarning: invalid value encountered in true_divide\n",
      "  \"        for j in bin_assignment:\\n\",\n"
     ]
    }
   ],
   "source": [
    "X2_train_sift, X2_test_sift = SIFT_nparray_to_Features(X2_train, X2_test)"
   ]
  },
  {
   "cell_type": "code",
   "execution_count": 30,
   "id": "d1ebaed9",
   "metadata": {},
   "outputs": [
    {
     "data": {
      "text/plain": [
       "GradientBoostingClassifier(learning_rate=0.05, max_features=5, n_estimators=500,\n",
       "                           random_state=100)"
      ]
     },
     "execution_count": 30,
     "metadata": {},
     "output_type": "execute_result"
    }
   ],
   "source": [
    "gbc.fit(X2_train_sift, y2_train)"
   ]
  },
  {
   "cell_type": "code",
   "execution_count": 31,
   "id": "eb7c64c2",
   "metadata": {},
   "outputs": [],
   "source": [
    "y2_pred_sift = gbc.predict(X2_test_sift)"
   ]
  },
  {
   "cell_type": "code",
   "execution_count": 32,
   "id": "01370799",
   "metadata": {},
   "outputs": [
    {
     "name": "stdout",
     "output_type": "stream",
     "text": [
      "GBC accuracy is 0.59\n"
     ]
    }
   ],
   "source": [
    "print(\"GBC accuracy is %2.2f\" % accuracy_score(y2_test, y2_pred_sift))"
   ]
  },
  {
   "cell_type": "code",
   "execution_count": 33,
   "id": "6df658ca",
   "metadata": {},
   "outputs": [
    {
     "name": "stdout",
     "output_type": "stream",
     "text": [
      "[[1462    5   53   53    4]\n",
      " [  88   11    0   16    0]\n",
      " [ 280    4  157   23    6]\n",
      " [ 323    2   23   89   12]\n",
      " [ 262    5   18   28   10]]\n"
     ]
    }
   ],
   "source": [
    "print(confusion_matrix(y2_test, y2_pred_sift))"
   ]
  },
  {
   "cell_type": "code",
   "execution_count": 34,
   "id": "374e2d9d",
   "metadata": {},
   "outputs": [
    {
     "name": "stdout",
     "output_type": "stream",
     "text": [
      "              precision    recall  f1-score   support\n",
      "\n",
      "           0       0.61      0.93      0.73      1577\n",
      "           1       0.41      0.10      0.15       115\n",
      "           2       0.63      0.33      0.44       470\n",
      "           3       0.43      0.20      0.27       449\n",
      "           4       0.31      0.03      0.06       323\n",
      "\n",
      "    accuracy                           0.59      2934\n",
      "   macro avg       0.48      0.32      0.33      2934\n",
      "weighted avg       0.54      0.59      0.52      2934\n",
      "\n"
     ]
    }
   ],
   "source": [
    "print(classification_report(y2_test, y2_pred_sift))"
   ]
  },
  {
   "cell_type": "markdown",
   "id": "e5a19581",
   "metadata": {},
   "source": [
    "### 3 Age + sift"
   ]
  },
  {
   "cell_type": "code",
   "execution_count": 35,
   "id": "655aaec9",
   "metadata": {},
   "outputs": [],
   "source": [
    "# put the age in different interval\n",
    "df['age']=np.where(((df.age>=1) & (df.age<=2)), 1, df.age)\n",
    "df['age']=np.where(((df.age>=3) & (df.age<6)), 2, df.age)\n",
    "df['age']=np.where(((df.age>=6) & (df.age<9)), 3, df.age)\n",
    "df['age']=np.where(((df.age>=9) & (df.age<12)), 4, df.age)\n",
    "df['age']=np.where(((df.age>=12) & (df.age<21)), 5, df.age)\n",
    "df['age']=np.where(((df.age>=21) & (df.age<36)), 6, df.age)\n",
    "df['age']=np.where(((df.age>=36) & (df.age<51)), 7, df.age)\n",
    "df['age']=np.where(((df.age>=51) & (df.age<80)), 8, df.age)\n",
    "df['age']=np.where((df.age>=80), 9, df.age)"
   ]
  },
  {
   "cell_type": "code",
   "execution_count": 36,
   "id": "9318a216",
   "metadata": {},
   "outputs": [],
   "source": [
    "X3_train, X3_test, y3_train, y3_test = train_test_split(images, df['age'], test_size =0.3, random_state = 42)"
   ]
  },
  {
   "cell_type": "code",
   "execution_count": 37,
   "id": "9a8f57aa",
   "metadata": {},
   "outputs": [
    {
     "name": "stderr",
     "output_type": "stream",
     "text": [
      "C:\\Users\\Yinzi\\ML project\\SIFT_to_Features.ipynb:72: RuntimeWarning: invalid value encountered in true_divide\n",
      "  \"        for j in bin_assignment:\\n\",\n"
     ]
    }
   ],
   "source": [
    "X3_train_sift, X3_test_sift = SIFT_nparray_to_Features(X3_train, X3_test)"
   ]
  },
  {
   "cell_type": "code",
   "execution_count": 38,
   "id": "06297165",
   "metadata": {},
   "outputs": [
    {
     "data": {
      "text/plain": [
       "GradientBoostingClassifier(learning_rate=0.05, max_features=5, n_estimators=500,\n",
       "                           random_state=100)"
      ]
     },
     "execution_count": 38,
     "metadata": {},
     "output_type": "execute_result"
    }
   ],
   "source": [
    "gbc.fit(X3_train_sift, y3_train)"
   ]
  },
  {
   "cell_type": "code",
   "execution_count": 39,
   "id": "546cd821",
   "metadata": {},
   "outputs": [],
   "source": [
    "y3_pred_sift = pred=gbc.predict(X3_test_sift)"
   ]
  },
  {
   "cell_type": "code",
   "execution_count": 40,
   "id": "1d2a2900",
   "metadata": {},
   "outputs": [
    {
     "name": "stdout",
     "output_type": "stream",
     "text": [
      "GBC accuracy is 0.37\n"
     ]
    }
   ],
   "source": [
    "print(\"GBC accuracy is %2.2f\" % accuracy_score(y3_test, y3_pred_sift))"
   ]
  },
  {
   "cell_type": "code",
   "execution_count": 41,
   "id": "18030cd2",
   "metadata": {},
   "outputs": [
    {
     "name": "stdout",
     "output_type": "stream",
     "text": [
      "[[349  21   1   0  11  52  10  34   2]\n",
      " [ 85   7   2   2  14  52   8  46   0]\n",
      " [ 34  13   4   1   9  49  10  37   0]\n",
      " [ 21   4   3   2  15  25   5  42   1]\n",
      " [ 34   7   5   1  40 124  18 109   3]\n",
      " [ 36  10   1   1  31 352  58 127   0]\n",
      " [ 29   5   2   1  14 139  36 126   2]\n",
      " [ 44  10   3   0  23 119  38 288  12]\n",
      " [  4   0   0   0   3   5   3  79  21]]\n"
     ]
    }
   ],
   "source": [
    "print(confusion_matrix(y3_test, y3_pred_sift))"
   ]
  },
  {
   "cell_type": "code",
   "execution_count": 42,
   "id": "6e9d3e95",
   "metadata": {},
   "outputs": [
    {
     "name": "stdout",
     "output_type": "stream",
     "text": [
      "              precision    recall  f1-score   support\n",
      "\n",
      "           1       0.55      0.73      0.63       480\n",
      "           2       0.09      0.03      0.05       216\n",
      "           3       0.19      0.03      0.04       157\n",
      "           4       0.25      0.02      0.03       118\n",
      "           5       0.25      0.12      0.16       341\n",
      "           6       0.38      0.57      0.46       616\n",
      "           7       0.19      0.10      0.13       354\n",
      "           8       0.32      0.54      0.40       537\n",
      "           9       0.51      0.18      0.27       115\n",
      "\n",
      "    accuracy                           0.37      2934\n",
      "   macro avg       0.30      0.26      0.24      2934\n",
      "weighted avg       0.33      0.37      0.33      2934\n",
      "\n"
     ]
    }
   ],
   "source": [
    "print(classification_report(y3_test, y3_pred_sift))"
   ]
  },
  {
   "cell_type": "code",
   "execution_count": null,
   "id": "d6fc6882",
   "metadata": {},
   "outputs": [],
   "source": []
  },
  {
   "cell_type": "code",
   "execution_count": null,
   "id": "a3db4585",
   "metadata": {},
   "outputs": [],
   "source": []
  },
  {
   "cell_type": "code",
   "execution_count": null,
   "id": "6ce27aac",
   "metadata": {},
   "outputs": [],
   "source": []
  }
 ],
 "metadata": {
  "kernelspec": {
   "display_name": "Python 3 (ipykernel)",
   "language": "python",
   "name": "python3"
  },
  "language_info": {
   "codemirror_mode": {
    "name": "ipython",
    "version": 3
   },
   "file_extension": ".py",
   "mimetype": "text/x-python",
   "name": "python",
   "nbconvert_exporter": "python",
   "pygments_lexer": "ipython3",
   "version": "3.9.7"
  }
 },
 "nbformat": 4,
 "nbformat_minor": 5
}
