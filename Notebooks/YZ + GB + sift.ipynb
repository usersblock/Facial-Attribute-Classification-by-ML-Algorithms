{
 "cells": [
  {
   "cell_type": "code",
   "execution_count": 15,
   "id": "6581811b",
   "metadata": {},
   "outputs": [
    {
     "ename": "ModuleNotFoundError",
     "evalue": "No module named 'make_dataset_beta'",
     "output_type": "error",
     "traceback": [
      "\u001b[0;31m---------------------------------------------------------------------------\u001b[0m",
      "\u001b[0;31mModuleNotFoundError\u001b[0m                       Traceback (most recent call last)",
      "File \u001b[0;32m/var/folders/sk/km6c1g654036cmvl40zycd0m0000gn/T/ipykernel_22660/4277872481.py:4\u001b[0m, in \u001b[0;36m<cell line: 4>\u001b[0;34m()\u001b[0m\n\u001b[1;32m      1\u001b[0m \u001b[38;5;28;01mimport\u001b[39;00m \u001b[38;5;21;01msys\u001b[39;00m\n\u001b[1;32m      2\u001b[0m sys\u001b[38;5;241m.\u001b[39mpath\u001b[38;5;241m.\u001b[39minsert(\u001b[38;5;241m0\u001b[39m, \u001b[38;5;124m'\u001b[39m\u001b[38;5;124m..\u001b[39m\u001b[38;5;124m\\\u001b[39m\u001b[38;5;124msrc\u001b[39m\u001b[38;5;124m\\\u001b[39m\u001b[38;5;124mdata\u001b[39m\u001b[38;5;124m'\u001b[39m)\n\u001b[0;32m----> 4\u001b[0m \u001b[38;5;28;01mimport\u001b[39;00m \u001b[38;5;21;01mmake_dataset_beta\u001b[39;00m \u001b[38;5;28;01mas\u001b[39;00m \u001b[38;5;21;01mmd\u001b[39;00m\n\u001b[1;32m      5\u001b[0m \u001b[38;5;28;01mimport\u001b[39;00m \u001b[38;5;21;01mnumpy\u001b[39;00m \u001b[38;5;28;01mas\u001b[39;00m \u001b[38;5;21;01mnp\u001b[39;00m\n\u001b[1;32m      6\u001b[0m \u001b[38;5;28;01mfrom\u001b[39;00m \u001b[38;5;21;01msklearn\u001b[39;00m\u001b[38;5;21;01m.\u001b[39;00m\u001b[38;5;21;01mmodel_selection\u001b[39;00m \u001b[38;5;28;01mimport\u001b[39;00m train_test_split\n",
      "\u001b[0;31mModuleNotFoundError\u001b[0m: No module named 'make_dataset_beta'"
     ]
    },
    {
     "ename": "ModuleNotFoundError",
     "evalue": "No module named 'make_dataset_beta'",
     "output_type": "error",
     "traceback": [
      "\u001b[0;31m---------------------------------------------------------------------------\u001b[0m",
      "\u001b[0;31mModuleNotFoundError\u001b[0m                       Traceback (most recent call last)",
      "Input \u001b[0;32mIn [15]\u001b[0m, in \u001b[0;36m<cell line: 13>\u001b[0;34m()\u001b[0m\n\u001b[1;32m     11\u001b[0m \u001b[38;5;28;01mfrom\u001b[39;00m \u001b[38;5;21;01msklearn\u001b[39;00m\u001b[38;5;21;01m.\u001b[39;00m\u001b[38;5;21;01mmetrics\u001b[39;00m \u001b[38;5;28;01mimport\u001b[39;00m classification_report\n\u001b[1;32m     12\u001b[0m \u001b[38;5;66;03m#import ipynb.fs.full.server\u001b[39;00m\n\u001b[0;32m---> 13\u001b[0m \u001b[43mget_ipython\u001b[49m\u001b[43m(\u001b[49m\u001b[43m)\u001b[49m\u001b[38;5;241;43m.\u001b[39;49m\u001b[43mrun_line_magic\u001b[49m\u001b[43m(\u001b[49m\u001b[38;5;124;43m'\u001b[39;49m\u001b[38;5;124;43mrun\u001b[39;49m\u001b[38;5;124;43m'\u001b[39;49m\u001b[43m,\u001b[49m\u001b[43m \u001b[49m\u001b[38;5;124;43m'\u001b[39;49m\u001b[38;5;124;43mSIFT_to_Features.ipynb\u001b[39;49m\u001b[38;5;124;43m'\u001b[39;49m\u001b[43m)\u001b[49m\n\u001b[1;32m     14\u001b[0m \u001b[38;5;66;03m#from ipynb.SIFT_to_Features import SIFT_nparray_to_Features\u001b[39;00m\n\u001b[1;32m     15\u001b[0m get_ipython()\u001b[38;5;241m.\u001b[39mrun_line_magic(\u001b[38;5;124m'\u001b[39m\u001b[38;5;124mmatplotlib\u001b[39m\u001b[38;5;124m'\u001b[39m, \u001b[38;5;124m'\u001b[39m\u001b[38;5;124minline\u001b[39m\u001b[38;5;124m'\u001b[39m)\n",
      "File \u001b[0;32m~/opt/anaconda3/lib/python3.9/site-packages/IPython/core/interactiveshell.py:2294\u001b[0m, in \u001b[0;36mInteractiveShell.run_line_magic\u001b[0;34m(self, magic_name, line, _stack_depth)\u001b[0m\n\u001b[1;32m   2292\u001b[0m     kwargs[\u001b[38;5;124m'\u001b[39m\u001b[38;5;124mlocal_ns\u001b[39m\u001b[38;5;124m'\u001b[39m] \u001b[38;5;241m=\u001b[39m \u001b[38;5;28mself\u001b[39m\u001b[38;5;241m.\u001b[39mget_local_scope(stack_depth)\n\u001b[1;32m   2293\u001b[0m \u001b[38;5;28;01mwith\u001b[39;00m \u001b[38;5;28mself\u001b[39m\u001b[38;5;241m.\u001b[39mbuiltin_trap:\n\u001b[0;32m-> 2294\u001b[0m     result \u001b[38;5;241m=\u001b[39m \u001b[43mfn\u001b[49m\u001b[43m(\u001b[49m\u001b[38;5;241;43m*\u001b[39;49m\u001b[43margs\u001b[49m\u001b[43m,\u001b[49m\u001b[43m \u001b[49m\u001b[38;5;241;43m*\u001b[39;49m\u001b[38;5;241;43m*\u001b[39;49m\u001b[43mkwargs\u001b[49m\u001b[43m)\u001b[49m\n\u001b[1;32m   2295\u001b[0m \u001b[38;5;28;01mreturn\u001b[39;00m result\n",
      "File \u001b[0;32m~/opt/anaconda3/lib/python3.9/site-packages/IPython/core/magics/execution.py:717\u001b[0m, in \u001b[0;36mExecutionMagics.run\u001b[0;34m(self, parameter_s, runner, file_finder)\u001b[0m\n\u001b[1;32m    715\u001b[0m     \u001b[38;5;28;01mwith\u001b[39;00m preserve_keys(\u001b[38;5;28mself\u001b[39m\u001b[38;5;241m.\u001b[39mshell\u001b[38;5;241m.\u001b[39muser_ns, \u001b[38;5;124m'\u001b[39m\u001b[38;5;124m__file__\u001b[39m\u001b[38;5;124m'\u001b[39m):\n\u001b[1;32m    716\u001b[0m         \u001b[38;5;28mself\u001b[39m\u001b[38;5;241m.\u001b[39mshell\u001b[38;5;241m.\u001b[39muser_ns[\u001b[38;5;124m'\u001b[39m\u001b[38;5;124m__file__\u001b[39m\u001b[38;5;124m'\u001b[39m] \u001b[38;5;241m=\u001b[39m filename\n\u001b[0;32m--> 717\u001b[0m         \u001b[38;5;28;43mself\u001b[39;49m\u001b[38;5;241;43m.\u001b[39;49m\u001b[43mshell\u001b[49m\u001b[38;5;241;43m.\u001b[39;49m\u001b[43msafe_execfile_ipy\u001b[49m\u001b[43m(\u001b[49m\u001b[43mfilename\u001b[49m\u001b[43m,\u001b[49m\u001b[43m \u001b[49m\u001b[43mraise_exceptions\u001b[49m\u001b[38;5;241;43m=\u001b[39;49m\u001b[38;5;28;43;01mTrue\u001b[39;49;00m\u001b[43m)\u001b[49m\n\u001b[1;32m    718\u001b[0m     \u001b[38;5;28;01mreturn\u001b[39;00m\n\u001b[1;32m    720\u001b[0m \u001b[38;5;66;03m# Control the response to exit() calls made by the script being run\u001b[39;00m\n",
      "File \u001b[0;32m~/opt/anaconda3/lib/python3.9/site-packages/IPython/core/interactiveshell.py:2800\u001b[0m, in \u001b[0;36mInteractiveShell.safe_execfile_ipy\u001b[0;34m(self, fname, shell_futures, raise_exceptions)\u001b[0m\n\u001b[1;32m   2798\u001b[0m result \u001b[38;5;241m=\u001b[39m \u001b[38;5;28mself\u001b[39m\u001b[38;5;241m.\u001b[39mrun_cell(cell, silent\u001b[38;5;241m=\u001b[39m\u001b[38;5;28;01mTrue\u001b[39;00m, shell_futures\u001b[38;5;241m=\u001b[39mshell_futures)\n\u001b[1;32m   2799\u001b[0m \u001b[38;5;28;01mif\u001b[39;00m raise_exceptions:\n\u001b[0;32m-> 2800\u001b[0m     \u001b[43mresult\u001b[49m\u001b[38;5;241;43m.\u001b[39;49m\u001b[43mraise_error\u001b[49m\u001b[43m(\u001b[49m\u001b[43m)\u001b[49m\n\u001b[1;32m   2801\u001b[0m \u001b[38;5;28;01melif\u001b[39;00m \u001b[38;5;129;01mnot\u001b[39;00m result\u001b[38;5;241m.\u001b[39msuccess:\n\u001b[1;32m   2802\u001b[0m     \u001b[38;5;28;01mbreak\u001b[39;00m\n",
      "File \u001b[0;32m~/opt/anaconda3/lib/python3.9/site-packages/IPython/core/interactiveshell.py:240\u001b[0m, in \u001b[0;36mExecutionResult.raise_error\u001b[0;34m(self)\u001b[0m\n\u001b[1;32m    238\u001b[0m     \u001b[38;5;28;01mraise\u001b[39;00m \u001b[38;5;28mself\u001b[39m\u001b[38;5;241m.\u001b[39merror_before_exec\n\u001b[1;32m    239\u001b[0m \u001b[38;5;28;01mif\u001b[39;00m \u001b[38;5;28mself\u001b[39m\u001b[38;5;241m.\u001b[39merror_in_exec \u001b[38;5;129;01mis\u001b[39;00m \u001b[38;5;129;01mnot\u001b[39;00m \u001b[38;5;28;01mNone\u001b[39;00m:\n\u001b[0;32m--> 240\u001b[0m     \u001b[38;5;28;01mraise\u001b[39;00m \u001b[38;5;28mself\u001b[39m\u001b[38;5;241m.\u001b[39merror_in_exec\n",
      "    \u001b[0;31m[... skipping hidden 1 frame]\u001b[0m\n",
      "File \u001b[0;32m/var/folders/sk/km6c1g654036cmvl40zycd0m0000gn/T/ipykernel_22660/4277872481.py:4\u001b[0m, in \u001b[0;36m<cell line: 4>\u001b[0;34m()\u001b[0m\n\u001b[1;32m      1\u001b[0m \u001b[38;5;28;01mimport\u001b[39;00m \u001b[38;5;21;01msys\u001b[39;00m\n\u001b[1;32m      2\u001b[0m sys\u001b[38;5;241m.\u001b[39mpath\u001b[38;5;241m.\u001b[39minsert(\u001b[38;5;241m0\u001b[39m, \u001b[38;5;124m'\u001b[39m\u001b[38;5;124m..\u001b[39m\u001b[38;5;124m\\\u001b[39m\u001b[38;5;124msrc\u001b[39m\u001b[38;5;124m\\\u001b[39m\u001b[38;5;124mdata\u001b[39m\u001b[38;5;124m'\u001b[39m)\n\u001b[0;32m----> 4\u001b[0m \u001b[38;5;28;01mimport\u001b[39;00m \u001b[38;5;21;01mmake_dataset_beta\u001b[39;00m \u001b[38;5;28;01mas\u001b[39;00m \u001b[38;5;21;01mmd\u001b[39;00m\n\u001b[1;32m      5\u001b[0m \u001b[38;5;28;01mimport\u001b[39;00m \u001b[38;5;21;01mnumpy\u001b[39;00m \u001b[38;5;28;01mas\u001b[39;00m \u001b[38;5;21;01mnp\u001b[39;00m\n\u001b[1;32m      6\u001b[0m \u001b[38;5;28;01mfrom\u001b[39;00m \u001b[38;5;21;01msklearn\u001b[39;00m\u001b[38;5;21;01m.\u001b[39;00m\u001b[38;5;21;01mmodel_selection\u001b[39;00m \u001b[38;5;28;01mimport\u001b[39;00m train_test_split\n",
      "\u001b[0;31mModuleNotFoundError\u001b[0m: No module named 'make_dataset_beta'"
     ]
    }
   ],
   "source": [
    "import pandas as pd\n",
    "import numpy as np\n",
    "from os import listdir\n",
    "from os.path import isfile, join\n",
    "import matplotlib.pyplot as plt\n",
    "from sklearn.ensemble import GradientBoostingClassifier\n",
    "from sklearn.preprocessing import StandardScaler\n",
    "from sklearn.model_selection import train_test_split\n",
    "from sklearn.metrics import accuracy_score, confusion_matrix\n",
    "from sklearn import preprocessing\n",
    "from sklearn.metrics import classification_report\n",
    "#import ipynb.fs.full.server\n",
    "%run SIFT_to_Features.ipynb\n",
    "#from ipynb.SIFT_to_Features import SIFT_nparray_to_Features\n",
    "%matplotlib inline"
   ]
  },
  {
   "cell_type": "code",
   "execution_count": null,
   "id": "3e8ed393",
   "metadata": {},
   "outputs": [],
   "source": [
    "#mypath = 'C:/Users/Yinzi/Desktop/ML PROJECT/Part 3/dataset/crop_part1'\n",
    "mypath =\"/Users/jenifervivar/Desktop/Desktop - jenifer’s MacBook Air/Machine_learning_code/crop_part1\"\n",
    "filenames = np.array([f for f in listdir(mypath) if isfile(join(mypath, f))])\n",
    "splitcolumns = [x.split('_')[0:3] + [mypath +'/' + x] for x in filenames if x.count('_') == 3]\n",
    "filecolumns = ['age','gender','race','file']\n",
    "df = pd.DataFrame(data = splitcolumns, columns = filecolumns)"
   ]
  },
  {
   "cell_type": "code",
   "execution_count": 14,
   "id": "de5c714b",
   "metadata": {},
   "outputs": [],
   "source": [
    "df['age']= df['age'].astype('int')\n",
    "df['gender']= df['gender'].astype('int')\n",
    "df['race']= df['race'].astype('int')"
   ]
  },
  {
   "cell_type": "code",
   "execution_count": 15,
   "id": "08b439e8",
   "metadata": {},
   "outputs": [],
   "source": [
    "images = []\n",
    "for img_path in df['file']:\n",
    "    image = plt.imread(img_path)\n",
    "    images.append(image)"
   ]
  },
  {
   "cell_type": "code",
   "execution_count": 20,
   "id": "8ffa9a91",
   "metadata": {},
   "outputs": [
    {
     "data": {
      "text/plain": [
       "9778"
      ]
     },
     "execution_count": 20,
     "metadata": {},
     "output_type": "execute_result"
    }
   ],
   "source": [
    "len(images)"
   ]
  },
  {
   "cell_type": "markdown",
   "id": "6718b056",
   "metadata": {},
   "source": [
    "### 1. Gender + sift"
   ]
  },
  {
   "cell_type": "code",
   "execution_count": 16,
   "id": "8710d001",
   "metadata": {},
   "outputs": [],
   "source": [
    "X_train, X_test, y_train, y_test = train_test_split(images, df['gender'])"
   ]
  },
  {
   "cell_type": "code",
   "execution_count": 18,
   "id": "570464e6",
   "metadata": {},
   "outputs": [
    {
     "name": "stderr",
     "output_type": "stream",
     "text": [
      "C:\\Users\\Yinzi\\ML project\\SIFT_to_Features.ipynb:72: RuntimeWarning: invalid value encountered in true_divide\n",
      "  \"        for j in bin_assignment:\\n\",\n"
     ]
    }
   ],
   "source": [
    "X_train_sift, X_test_sift = SIFT_nparray_to_Features(X_train, X_test)"
   ]
  },
  {
   "cell_type": "code",
   "execution_count": 21,
   "id": "aa4e2470",
   "metadata": {},
   "outputs": [],
   "source": [
    "gbc=GradientBoostingClassifier(n_estimators=500,learning_rate=0.05,random_state=100,max_features=5 )"
   ]
  },
  {
   "cell_type": "code",
   "execution_count": 22,
   "id": "1bf2924d",
   "metadata": {},
   "outputs": [
    {
     "data": {
      "text/plain": [
       "GradientBoostingClassifier(learning_rate=0.05, max_features=5, n_estimators=500,\n",
       "                           random_state=100)"
      ]
     },
     "execution_count": 22,
     "metadata": {},
     "output_type": "execute_result"
    }
   ],
   "source": [
    "gbc.fit(X_train_sift, y_train)"
   ]
  },
  {
   "cell_type": "code",
   "execution_count": 23,
   "id": "da1de57d",
   "metadata": {},
   "outputs": [],
   "source": [
    "y_pred_sift = pred=gbc.predict(X_test_sift)"
   ]
  },
  {
   "cell_type": "code",
   "execution_count": 24,
   "id": "68ce1ead",
   "metadata": {},
   "outputs": [
    {
     "name": "stdout",
     "output_type": "stream",
     "text": [
      "GBC accuracy is 0.65\n"
     ]
    }
   ],
   "source": [
    "print(\"GBC accuracy is %2.2f\" % accuracy_score(y_test, y_pred_sift))"
   ]
  },
  {
   "cell_type": "code",
   "execution_count": 25,
   "id": "b109cee1",
   "metadata": {},
   "outputs": [
    {
     "name": "stdout",
     "output_type": "stream",
     "text": [
      "[[604 489]\n",
      " [364 988]]\n"
     ]
    }
   ],
   "source": [
    "print(confusion_matrix(y_test, y_pred_sift))"
   ]
  },
  {
   "cell_type": "code",
   "execution_count": 26,
   "id": "6e77ceda",
   "metadata": {},
   "outputs": [
    {
     "name": "stdout",
     "output_type": "stream",
     "text": [
      "              precision    recall  f1-score   support\n",
      "\n",
      "           0       0.62      0.55      0.59      1093\n",
      "           1       0.67      0.73      0.70      1352\n",
      "\n",
      "    accuracy                           0.65      2445\n",
      "   macro avg       0.65      0.64      0.64      2445\n",
      "weighted avg       0.65      0.65      0.65      2445\n",
      "\n"
     ]
    }
   ],
   "source": [
    "print(classification_report(y_test, y_pred_sift))"
   ]
  },
  {
   "cell_type": "markdown",
   "id": "ef37600d",
   "metadata": {},
   "source": [
    "### 2. race + sift"
   ]
  },
  {
   "cell_type": "code",
   "execution_count": 28,
   "id": "31c8cbdb",
   "metadata": {},
   "outputs": [],
   "source": [
    "X2_train, X2_test, y2_train, y2_test = train_test_split(images, df['race'], test_size =0.3, random_state = 42)"
   ]
  },
  {
   "cell_type": "code",
   "execution_count": 29,
   "id": "e6556afe",
   "metadata": {},
   "outputs": [
    {
     "name": "stderr",
     "output_type": "stream",
     "text": [
      "C:\\Users\\Yinzi\\ML project\\SIFT_to_Features.ipynb:72: RuntimeWarning: invalid value encountered in true_divide\n",
      "  \"        for j in bin_assignment:\\n\",\n"
     ]
    }
   ],
   "source": [
    "X2_train_sift, X2_test_sift = SIFT_nparray_to_Features(X2_train, X2_test)"
   ]
  },
  {
   "cell_type": "code",
   "execution_count": 30,
   "id": "d1ebaed9",
   "metadata": {},
   "outputs": [
    {
     "data": {
      "text/plain": [
       "GradientBoostingClassifier(learning_rate=0.05, max_features=5, n_estimators=500,\n",
       "                           random_state=100)"
      ]
     },
     "execution_count": 30,
     "metadata": {},
     "output_type": "execute_result"
    }
   ],
   "source": [
    "gbc=GradientBoostingClassifier(n_estimators=500,learning_rate=0.05,random_state=100,max_features=5 )\n",
    "gbc.fit(X2_train_sift, y2_train)"
   ]
  },
  {
   "cell_type": "code",
   "execution_count": 31,
   "id": "eb7c64c2",
   "metadata": {},
   "outputs": [],
   "source": [
    "y2_pred_sift = gbc.predict(X2_test_sift)"
   ]
  },
  {
   "cell_type": "code",
   "execution_count": 32,
   "id": "01370799",
   "metadata": {},
   "outputs": [
    {
     "name": "stdout",
     "output_type": "stream",
     "text": [
      "GBC accuracy is 0.59\n"
     ]
    }
   ],
   "source": [
    "print(\"GBC accuracy is %2.2f\" % accuracy_score(y2_test, y2_pred_sift))"
   ]
  },
  {
   "cell_type": "code",
   "execution_count": 33,
   "id": "6df658ca",
   "metadata": {},
   "outputs": [
    {
     "name": "stdout",
     "output_type": "stream",
     "text": [
      "[[1462    5   53   53    4]\n",
      " [  88   11    0   16    0]\n",
      " [ 280    4  157   23    6]\n",
      " [ 323    2   23   89   12]\n",
      " [ 262    5   18   28   10]]\n"
     ]
    }
   ],
   "source": [
    "print(confusion_matrix(y2_test, y2_pred_sift))"
   ]
  },
  {
   "cell_type": "code",
   "execution_count": 34,
   "id": "374e2d9d",
   "metadata": {},
   "outputs": [
    {
     "name": "stdout",
     "output_type": "stream",
     "text": [
      "              precision    recall  f1-score   support\n",
      "\n",
      "           0       0.61      0.93      0.73      1577\n",
      "           1       0.41      0.10      0.15       115\n",
      "           2       0.63      0.33      0.44       470\n",
      "           3       0.43      0.20      0.27       449\n",
      "           4       0.31      0.03      0.06       323\n",
      "\n",
      "    accuracy                           0.59      2934\n",
      "   macro avg       0.48      0.32      0.33      2934\n",
      "weighted avg       0.54      0.59      0.52      2934\n",
      "\n"
     ]
    }
   ],
   "source": [
    "print(classification_report(y2_test, y2_pred_sift))"
   ]
  },
  {
   "cell_type": "markdown",
   "id": "e5a19581",
   "metadata": {},
   "source": [
    "### 3 Age + sift"
   ]
  },
  {
   "cell_type": "code",
   "execution_count": 35,
   "id": "655aaec9",
   "metadata": {},
   "outputs": [],
   "source": [
    "# put the age in different interval\n",
    "df['age']=np.where(((df.age>=1) & (df.age<=2)), 1, df.age)\n",
    "df['age']=np.where(((df.age>=3) & (df.age<6)), 2, df.age)\n",
    "df['age']=np.where(((df.age>=6) & (df.age<9)), 3, df.age)\n",
    "df['age']=np.where(((df.age>=9) & (df.age<12)), 4, df.age)\n",
    "df['age']=np.where(((df.age>=12) & (df.age<21)), 5, df.age)\n",
    "df['age']=np.where(((df.age>=21) & (df.age<36)), 6, df.age)\n",
    "df['age']=np.where(((df.age>=36) & (df.age<51)), 7, df.age)\n",
    "df['age']=np.where(((df.age>=51) & (df.age<80)), 8, df.age)\n",
    "df['age']=np.where((df.age>=80), 9, df.age)"
   ]
  },
  {
   "cell_type": "code",
   "execution_count": 36,
   "id": "9318a216",
   "metadata": {},
   "outputs": [],
   "source": [
    "X3_train, X3_test, y3_train, y3_test = train_test_split(images, df['age'], test_size =0.3, random_state = 42)"
   ]
  },
  {
   "cell_type": "code",
   "execution_count": 37,
   "id": "9a8f57aa",
   "metadata": {},
   "outputs": [
    {
     "name": "stderr",
     "output_type": "stream",
     "text": [
      "C:\\Users\\Yinzi\\ML project\\SIFT_to_Features.ipynb:72: RuntimeWarning: invalid value encountered in true_divide\n",
      "  \"        for j in bin_assignment:\\n\",\n"
     ]
    }
   ],
   "source": [
    "X3_train_sift, X3_test_sift = SIFT_nparray_to_Features(X3_train, X3_test)"
   ]
  },
  {
   "cell_type": "code",
   "execution_count": 38,
   "id": "06297165",
   "metadata": {},
   "outputs": [
    {
     "data": {
      "text/plain": [
       "GradientBoostingClassifier(learning_rate=0.05, max_features=5, n_estimators=500,\n",
       "                           random_state=100)"
      ]
     },
     "execution_count": 38,
     "metadata": {},
     "output_type": "execute_result"
    }
   ],
   "source": [
    "gbc.fit(X3_train_sift, y3_train)"
   ]
  },
  {
   "cell_type": "code",
   "execution_count": 39,
   "id": "546cd821",
   "metadata": {},
   "outputs": [],
   "source": [
    "y3_pred_sift = pred=gbc.predict(X3_test_sift)"
   ]
  },
  {
   "cell_type": "code",
   "execution_count": 40,
   "id": "1d2a2900",
   "metadata": {},
   "outputs": [
    {
     "name": "stdout",
     "output_type": "stream",
     "text": [
      "GBC accuracy is 0.37\n"
     ]
    }
   ],
   "source": [
    "print(\"GBC accuracy is %2.2f\" % accuracy_score(y3_test, y3_pred_sift))"
   ]
  },
  {
   "cell_type": "code",
   "execution_count": 41,
   "id": "18030cd2",
   "metadata": {},
   "outputs": [
    {
     "name": "stdout",
     "output_type": "stream",
     "text": [
      "[[349  21   1   0  11  52  10  34   2]\n",
      " [ 85   7   2   2  14  52   8  46   0]\n",
      " [ 34  13   4   1   9  49  10  37   0]\n",
      " [ 21   4   3   2  15  25   5  42   1]\n",
      " [ 34   7   5   1  40 124  18 109   3]\n",
      " [ 36  10   1   1  31 352  58 127   0]\n",
      " [ 29   5   2   1  14 139  36 126   2]\n",
      " [ 44  10   3   0  23 119  38 288  12]\n",
      " [  4   0   0   0   3   5   3  79  21]]\n"
     ]
    }
   ],
   "source": [
    "print(confusion_matrix(y3_test, y3_pred_sift))"
   ]
  },
  {
   "cell_type": "code",
   "execution_count": 42,
   "id": "6e9d3e95",
   "metadata": {},
   "outputs": [
    {
     "name": "stdout",
     "output_type": "stream",
     "text": [
      "              precision    recall  f1-score   support\n",
      "\n",
      "           1       0.55      0.73      0.63       480\n",
      "           2       0.09      0.03      0.05       216\n",
      "           3       0.19      0.03      0.04       157\n",
      "           4       0.25      0.02      0.03       118\n",
      "           5       0.25      0.12      0.16       341\n",
      "           6       0.38      0.57      0.46       616\n",
      "           7       0.19      0.10      0.13       354\n",
      "           8       0.32      0.54      0.40       537\n",
      "           9       0.51      0.18      0.27       115\n",
      "\n",
      "    accuracy                           0.37      2934\n",
      "   macro avg       0.30      0.26      0.24      2934\n",
      "weighted avg       0.33      0.37      0.33      2934\n",
      "\n"
     ]
    }
   ],
   "source": [
    "print(classification_report(y3_test, y3_pred_sift))"
   ]
  },
  {
   "cell_type": "code",
   "execution_count": null,
   "id": "d6fc6882",
   "metadata": {},
   "outputs": [],
   "source": []
  },
  {
   "cell_type": "code",
   "execution_count": null,
   "id": "a3db4585",
   "metadata": {},
   "outputs": [],
   "source": []
  },
  {
   "cell_type": "code",
   "execution_count": null,
   "id": "6ce27aac",
   "metadata": {},
   "outputs": [],
   "source": []
  }
 ],
 "metadata": {
  "kernelspec": {
   "display_name": "Python 3 (ipykernel)",
   "language": "python",
   "name": "python3"
  },
  "language_info": {
   "codemirror_mode": {
    "name": "ipython",
    "version": 3
   },
   "file_extension": ".py",
   "mimetype": "text/x-python",
   "name": "python",
   "nbconvert_exporter": "python",
   "pygments_lexer": "ipython3",
   "version": "3.9.12"
  }
 },
 "nbformat": 4,
 "nbformat_minor": 5
}
