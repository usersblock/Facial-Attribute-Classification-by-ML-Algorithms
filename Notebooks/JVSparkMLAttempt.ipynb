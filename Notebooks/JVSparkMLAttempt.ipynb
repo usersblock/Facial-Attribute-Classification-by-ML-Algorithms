{
  "cells": [
    {
      "cell_type": "markdown",
      "source": [
        "Installation and download to load basic packages"
      ],
      "metadata": {
        "id": "kiQryHAkNGFq"
      }
    },
    {
      "cell_type": "code",
      "execution_count": null,
      "metadata": {
        "colab": {
          "base_uri": "https://localhost:8080/"
        },
        "id": "aSUDsPS9dAWO",
        "outputId": "ece6263b-dd72-4f95-e874-dc1a3830b454"
      },
      "outputs": [
        {
          "output_type": "stream",
          "name": "stdout",
          "text": [
            "Requirement already satisfied: findspark in /usr/local/lib/python3.7/dist-packages (2.0.1)\n"
          ]
        }
      ],
      "source": [
        "!pip install findspark"
      ]
    },
    {
      "cell_type": "code",
      "execution_count": null,
      "metadata": {
        "colab": {
          "base_uri": "https://localhost:8080/"
        },
        "id": "pa0F8AmjgKiI",
        "outputId": "47b684a6-8036-4c8f-e0ff-5a78fee1b4bc"
      },
      "outputs": [
        {
          "output_type": "stream",
          "name": "stdout",
          "text": [
            "Collecting pyspark\n",
            "  Downloading pyspark-3.2.1.tar.gz (281.4 MB)\n",
            "\u001b[K     |████████████████████████████████| 281.4 MB 33 kB/s \n",
            "\u001b[?25hCollecting py4j==0.10.9.3\n",
            "  Downloading py4j-0.10.9.3-py2.py3-none-any.whl (198 kB)\n",
            "\u001b[K     |████████████████████████████████| 198 kB 48.5 MB/s \n",
            "\u001b[?25hBuilding wheels for collected packages: pyspark\n",
            "  Building wheel for pyspark (setup.py) ... \u001b[?25l\u001b[?25hdone\n",
            "  Created wheel for pyspark: filename=pyspark-3.2.1-py2.py3-none-any.whl size=281853642 sha256=6a2e22c155eb06f85ad3df0a7298886d2b6de2d84091e92f160db4d9ce2317e0\n",
            "  Stored in directory: /root/.cache/pip/wheels/9f/f5/07/7cd8017084dce4e93e84e92efd1e1d5334db05f2e83bcef74f\n",
            "Successfully built pyspark\n",
            "Installing collected packages: py4j, pyspark\n",
            "Successfully installed py4j-0.10.9.3 pyspark-3.2.1\n"
          ]
        }
      ],
      "source": [
        "!pip install pyspark"
      ]
    },
    {
      "cell_type": "code",
      "execution_count": null,
      "metadata": {
        "id": "qOpxAIc5vwTc"
      },
      "outputs": [],
      "source": [
        "from io import StringIO\n",
        "from PIL import Image\n",
        "import numpy as np\n",
        "import pyspark\n",
        "import pandas as pd\n",
        "import numpy as np\n",
        "from os import listdir\n",
        "from os.path import isfile, join\n",
        "from sklearn.ensemble import RandomForestClassifier\n",
        "import matplotlib.pyplot as plt\n",
        "import os\n",
        "from pyspark import SparkContext\n",
        "from pyspark.sql import SparkSession\n",
        "from skimage.color import rgb2gray\n",
        "#np.asarray(Image.open(StringIO(rawdata)))\n",
        "from sklearn.decomposition import PCA"
      ]
    },
    {
      "cell_type": "markdown",
      "source": [
        "Creating the spark contect object that will run the big data"
      ],
      "metadata": {
        "id": "FtS42jw2NMuZ"
      }
    },
    {
      "cell_type": "code",
      "source": [
        "spark = SparkSession.builder.appName(\"Faces\").getOrCreate()"
      ],
      "metadata": {
        "id": "7QorDIYyltvX"
      },
      "execution_count": null,
      "outputs": []
    },
    {
      "cell_type": "markdown",
      "source": [
        "allowing access to local files in my drive and loading target labels"
      ],
      "metadata": {
        "id": "NWMtVa_4NXNc"
      }
    },
    {
      "cell_type": "code",
      "execution_count": null,
      "metadata": {
        "colab": {
          "base_uri": "https://localhost:8080/"
        },
        "id": "uZMn5YeQ1Nsr",
        "outputId": "d3a38798-9551-4a75-cdfc-c42c3c93842e"
      },
      "outputs": [
        {
          "output_type": "stream",
          "name": "stdout",
          "text": [
            "Current working directory /content\n"
          ]
        }
      ],
      "source": [
        "import os\n",
        "\n",
        "path = \"/usr/tmp\"\n",
        "\n",
        "# Check current working directory.\n",
        "retval = os.getcwd()\n",
        "print (\"Current working directory %s\" % retval)\n",
        "\n"
      ]
    },
    {
      "cell_type": "code",
      "source": [
        "# Load the Drive helper and mount\n",
        "from google.colab import drive\n",
        "drive.mount('/content/drive')"
      ],
      "metadata": {
        "colab": {
          "base_uri": "https://localhost:8080/"
        },
        "id": "NwdCbH9lboVR",
        "outputId": "3f32ff0c-92a6-41d2-b3ad-ff104dfb389d"
      },
      "execution_count": null,
      "outputs": [
        {
          "output_type": "stream",
          "name": "stdout",
          "text": [
            "Mounted at /content/drive\n"
          ]
        }
      ]
    },
    {
      "cell_type": "code",
      "execution_count": null,
      "metadata": {
        "id": "IbwlKk1KKOqX"
      },
      "outputs": [],
      "source": [
        "mypath = \"/content/drive/My Drive/Colab Notebooks/crop_part1/\" #drive\n",
        "filenames = np.array([f for f in listdir(mypath) if isfile(join(mypath, f))])\n",
        "splitcolumns = [x.split('_')[0:3] + [mypath  + x] for x in filenames if x.count('_') == 3]\n",
        "filecolumns = ['age','gender','race','file']\n",
        "filedf = pd.DataFrame(data = splitcolumns, columns = filecolumns)\n",
        "filedfnona = filedf.dropna()\n",
        "filedfnona['age']  = filedfnona['age'].astype(int)\n",
        "filedfnona['race'] = filedfnona['race'].astype(int)\n",
        "filedfnona['gender'] = filedfnona['gender'].astype(int)"
      ]
    },
    {
      "cell_type": "code",
      "source": [
        "filedfnona.head()"
      ],
      "metadata": {
        "colab": {
          "base_uri": "https://localhost:8080/",
          "height": 204
        },
        "id": "Jr5d3Zgqtpwr",
        "outputId": "72b28eea-1332-461f-acc6-0498cdc1be8f"
      },
      "execution_count": null,
      "outputs": [
        {
          "output_type": "execute_result",
          "data": {
            "text/plain": [
              "   age  gender  race                                               file\n",
              "0    3       1     0  /content/drive/My Drive/Colab Notebooks/crop_p...\n",
              "1    3       1     0  /content/drive/My Drive/Colab Notebooks/crop_p...\n",
              "2    3       1     0  /content/drive/My Drive/Colab Notebooks/crop_p...\n",
              "3    3       1     0  /content/drive/My Drive/Colab Notebooks/crop_p...\n",
              "4    3       1     0  /content/drive/My Drive/Colab Notebooks/crop_p..."
            ],
            "text/html": [
              "\n",
              "  <div id=\"df-2aa080c8-59c5-4951-8c9a-339c1241e92e\">\n",
              "    <div class=\"colab-df-container\">\n",
              "      <div>\n",
              "<style scoped>\n",
              "    .dataframe tbody tr th:only-of-type {\n",
              "        vertical-align: middle;\n",
              "    }\n",
              "\n",
              "    .dataframe tbody tr th {\n",
              "        vertical-align: top;\n",
              "    }\n",
              "\n",
              "    .dataframe thead th {\n",
              "        text-align: right;\n",
              "    }\n",
              "</style>\n",
              "<table border=\"1\" class=\"dataframe\">\n",
              "  <thead>\n",
              "    <tr style=\"text-align: right;\">\n",
              "      <th></th>\n",
              "      <th>age</th>\n",
              "      <th>gender</th>\n",
              "      <th>race</th>\n",
              "      <th>file</th>\n",
              "    </tr>\n",
              "  </thead>\n",
              "  <tbody>\n",
              "    <tr>\n",
              "      <th>0</th>\n",
              "      <td>3</td>\n",
              "      <td>1</td>\n",
              "      <td>0</td>\n",
              "      <td>/content/drive/My Drive/Colab Notebooks/crop_p...</td>\n",
              "    </tr>\n",
              "    <tr>\n",
              "      <th>1</th>\n",
              "      <td>3</td>\n",
              "      <td>1</td>\n",
              "      <td>0</td>\n",
              "      <td>/content/drive/My Drive/Colab Notebooks/crop_p...</td>\n",
              "    </tr>\n",
              "    <tr>\n",
              "      <th>2</th>\n",
              "      <td>3</td>\n",
              "      <td>1</td>\n",
              "      <td>0</td>\n",
              "      <td>/content/drive/My Drive/Colab Notebooks/crop_p...</td>\n",
              "    </tr>\n",
              "    <tr>\n",
              "      <th>3</th>\n",
              "      <td>3</td>\n",
              "      <td>1</td>\n",
              "      <td>0</td>\n",
              "      <td>/content/drive/My Drive/Colab Notebooks/crop_p...</td>\n",
              "    </tr>\n",
              "    <tr>\n",
              "      <th>4</th>\n",
              "      <td>3</td>\n",
              "      <td>1</td>\n",
              "      <td>0</td>\n",
              "      <td>/content/drive/My Drive/Colab Notebooks/crop_p...</td>\n",
              "    </tr>\n",
              "  </tbody>\n",
              "</table>\n",
              "</div>\n",
              "      <button class=\"colab-df-convert\" onclick=\"convertToInteractive('df-2aa080c8-59c5-4951-8c9a-339c1241e92e')\"\n",
              "              title=\"Convert this dataframe to an interactive table.\"\n",
              "              style=\"display:none;\">\n",
              "        \n",
              "  <svg xmlns=\"http://www.w3.org/2000/svg\" height=\"24px\"viewBox=\"0 0 24 24\"\n",
              "       width=\"24px\">\n",
              "    <path d=\"M0 0h24v24H0V0z\" fill=\"none\"/>\n",
              "    <path d=\"M18.56 5.44l.94 2.06.94-2.06 2.06-.94-2.06-.94-.94-2.06-.94 2.06-2.06.94zm-11 1L8.5 8.5l.94-2.06 2.06-.94-2.06-.94L8.5 2.5l-.94 2.06-2.06.94zm10 10l.94 2.06.94-2.06 2.06-.94-2.06-.94-.94-2.06-.94 2.06-2.06.94z\"/><path d=\"M17.41 7.96l-1.37-1.37c-.4-.4-.92-.59-1.43-.59-.52 0-1.04.2-1.43.59L10.3 9.45l-7.72 7.72c-.78.78-.78 2.05 0 2.83L4 21.41c.39.39.9.59 1.41.59.51 0 1.02-.2 1.41-.59l7.78-7.78 2.81-2.81c.8-.78.8-2.07 0-2.86zM5.41 20L4 18.59l7.72-7.72 1.47 1.35L5.41 20z\"/>\n",
              "  </svg>\n",
              "      </button>\n",
              "      \n",
              "  <style>\n",
              "    .colab-df-container {\n",
              "      display:flex;\n",
              "      flex-wrap:wrap;\n",
              "      gap: 12px;\n",
              "    }\n",
              "\n",
              "    .colab-df-convert {\n",
              "      background-color: #E8F0FE;\n",
              "      border: none;\n",
              "      border-radius: 50%;\n",
              "      cursor: pointer;\n",
              "      display: none;\n",
              "      fill: #1967D2;\n",
              "      height: 32px;\n",
              "      padding: 0 0 0 0;\n",
              "      width: 32px;\n",
              "    }\n",
              "\n",
              "    .colab-df-convert:hover {\n",
              "      background-color: #E2EBFA;\n",
              "      box-shadow: 0px 1px 2px rgba(60, 64, 67, 0.3), 0px 1px 3px 1px rgba(60, 64, 67, 0.15);\n",
              "      fill: #174EA6;\n",
              "    }\n",
              "\n",
              "    [theme=dark] .colab-df-convert {\n",
              "      background-color: #3B4455;\n",
              "      fill: #D2E3FC;\n",
              "    }\n",
              "\n",
              "    [theme=dark] .colab-df-convert:hover {\n",
              "      background-color: #434B5C;\n",
              "      box-shadow: 0px 1px 3px 1px rgba(0, 0, 0, 0.15);\n",
              "      filter: drop-shadow(0px 1px 2px rgba(0, 0, 0, 0.3));\n",
              "      fill: #FFFFFF;\n",
              "    }\n",
              "  </style>\n",
              "\n",
              "      <script>\n",
              "        const buttonEl =\n",
              "          document.querySelector('#df-2aa080c8-59c5-4951-8c9a-339c1241e92e button.colab-df-convert');\n",
              "        buttonEl.style.display =\n",
              "          google.colab.kernel.accessAllowed ? 'block' : 'none';\n",
              "\n",
              "        async function convertToInteractive(key) {\n",
              "          const element = document.querySelector('#df-2aa080c8-59c5-4951-8c9a-339c1241e92e');\n",
              "          const dataTable =\n",
              "            await google.colab.kernel.invokeFunction('convertToInteractive',\n",
              "                                                     [key], {});\n",
              "          if (!dataTable) return;\n",
              "\n",
              "          const docLinkHtml = 'Like what you see? Visit the ' +\n",
              "            '<a target=\"_blank\" href=https://colab.research.google.com/notebooks/data_table.ipynb>data table notebook</a>'\n",
              "            + ' to learn more about interactive tables.';\n",
              "          element.innerHTML = '';\n",
              "          dataTable['output_type'] = 'display_data';\n",
              "          await google.colab.output.renderOutput(dataTable, element);\n",
              "          const docLink = document.createElement('div');\n",
              "          docLink.innerHTML = docLinkHtml;\n",
              "          element.appendChild(docLink);\n",
              "        }\n",
              "      </script>\n",
              "    </div>\n",
              "  </div>\n",
              "  "
            ]
          },
          "metadata": {},
          "execution_count": 12
        }
      ]
    },
    {
      "cell_type": "code",
      "source": [
        ""
      ],
      "metadata": {
        "id": "er86-e3HNq_k"
      },
      "execution_count": null,
      "outputs": []
    },
    {
      "cell_type": "code",
      "execution_count": null,
      "metadata": {
        "colab": {
          "base_uri": "https://localhost:8080/",
          "height": 37
        },
        "id": "UGKsueT468Xv",
        "outputId": "e6be3c2f-4e10-4ad0-ce48-08040966a36b"
      },
      "outputs": [
        {
          "output_type": "execute_result",
          "data": {
            "text/plain": [
              "'/content/drive/My Drive/Colab Notebooks/crop_part1/3_1_0_20170109192003664.jpg.chip.jpg'"
            ],
            "application/vnd.google.colaboratory.intrinsic+json": {
              "type": "string"
            }
          },
          "metadata": {},
          "execution_count": 10
        }
      ],
      "source": [
        "filedfnona['file'][0]"
      ]
    },
    {
      "cell_type": "code",
      "execution_count": null,
      "metadata": {
        "id": "UZM9U5085At_"
      },
      "outputs": [],
      "source": [
        "#listing = os.listdir(mypath) \n",
        "images = []\n",
        "for img in filedfnona['file']:\n",
        "    image = plt.imread(img)\n",
        "    image = rgb2gray(image)\n",
        "    images.append(image)"
      ]
    },
    {
      "cell_type": "code",
      "source": [
        "plt.imshow(images[0])\n",
        "print(images[0].shape)"
      ],
      "metadata": {
        "colab": {
          "base_uri": "https://localhost:8080/",
          "height": 286
        },
        "id": "iIhJ03P81mUL",
        "outputId": "7fc53baf-5c5c-4612-c0a7-e57c70479f25"
      },
      "execution_count": null,
      "outputs": [
        {
          "output_type": "stream",
          "name": "stdout",
          "text": [
            "(200, 200)\n"
          ]
        },
        {
          "output_type": "display_data",
          "data": {
            "text/plain": [
              "<Figure size 432x288 with 1 Axes>"
            ],
            "image/png": "[encoded data removed]"
          },
          "metadata": {
            "needs_background": "light"
          }
        }
      ]
    },
    {
      "cell_type": "code",
      "source": [
        "images5 = np.array(images)"
      ],
      "metadata": {
        "id": "7zTU2O1t_LzN"
      },
      "execution_count": null,
      "outputs": []
    },
    {
      "cell_type": "code",
      "source": [
        "images5.shape"
      ],
      "metadata": {
        "colab": {
          "base_uri": "https://localhost:8080/"
        },
        "id": "b1b2zitj8xJ-",
        "outputId": "e6c87ec2-5086-420a-8530-0b1d0a77b6e7"
      },
      "execution_count": null,
      "outputs": [
        {
          "output_type": "execute_result",
          "data": {
            "text/plain": [
              "(9786, 200, 200)"
            ]
          },
          "metadata": {},
          "execution_count": 13
        }
      ]
    },
    {
      "cell_type": "code",
      "source": [
        "nsamples, nx, ny = images5.shape\n",
        "pca_dataset = images5.reshape((nsamples,nx*ny))"
      ],
      "metadata": {
        "id": "jgNqyjJS_mP7"
      },
      "execution_count": null,
      "outputs": []
    },
    {
      "cell_type": "code",
      "source": [
        "pca = PCA(n_components = 195)\n",
        "images4 = pca.fit_transform(pca_dataset)\n",
        "#X_test_pca = pca.transform(X_test)"
      ],
      "metadata": {
        "id": "a0_lr1sexsX1"
      },
      "execution_count": null,
      "outputs": []
    },
    {
      "cell_type": "code",
      "source": [
        "print(len(images4))\n",
        "filedfnona['age']  = filedfnona['age'].astype(int)\n",
        "filedfnona['race'] = filedfnona['race'].astype(int)\n",
        "filedfnona['gender'] = filedfnona['gender'].astype(int)"
      ],
      "metadata": {
        "colab": {
          "base_uri": "https://localhost:8080/"
        },
        "id": "axCJHrzPFd4O",
        "outputId": "8e0eb60b-517f-478d-f20b-82a9a53a9017"
      },
      "execution_count": null,
      "outputs": [
        {
          "output_type": "stream",
          "name": "stdout",
          "text": [
            "9786\n"
          ]
        }
      ]
    },
    {
      "cell_type": "code",
      "source": [
        "img_dict = {}\n",
        "i = 0\n",
        "for img_ in images4:\n",
        "  img_dict[i] = [img_, filedfnona['age'][i], filedfnona['race'][i], filedfnona['gender'][i]]\n",
        "  i+=1"
      ],
      "metadata": {
        "id": "i_KpIUpQDpkN"
      },
      "execution_count": 54,
      "outputs": []
    },
    {
      "cell_type": "code",
      "source": [
        "img_labels = []\n",
        "i=0\n",
        "for img_ in images4:\n",
        "  tupp = (img_, filedfnona['age'][i], filedfnona['race'][i], filedfnona['gender'][i])\n",
        "  img_labels.append(tupp)"
      ],
      "metadata": {
        "id": "Aql7mrw0FR3f"
      },
      "execution_count": 60,
      "outputs": []
    },
    {
      "cell_type": "code",
      "source": [
        "img_labels[0]"
      ],
      "metadata": {
        "colab": {
          "base_uri": "https://localhost:8080/"
        },
        "id": "ebOHYBD4J4ts",
        "outputId": "9d0a6614-995c-4bab-a47c-3abe5f554858"
      },
      "execution_count": 61,
      "outputs": [
        {
          "output_type": "execute_result",
          "data": {
            "text/plain": [
              "(array([ 3.01614885e+01,  3.88508272e+00,  1.14600842e+01,  1.44229499e+01,\n",
              "         1.21641546e+00, -9.48760186e+00,  3.62462321e+00, -4.06481665e+00,\n",
              "         2.52433880e+00,  6.64859130e-01, -2.44277170e+00,  7.04044111e-01,\n",
              "         5.49178259e+00,  1.71201052e+00, -3.32275519e+00,  5.23514603e+00,\n",
              "        -4.54651503e+00,  1.32709580e+00,  1.50769568e+00,  4.08192486e+00,\n",
              "        -1.98293919e+00,  4.46265952e-01,  1.73372407e+00,  7.63672948e-01,\n",
              "        -3.46916061e+00, -3.49299877e+00,  3.10348637e+00,  4.34619898e+00,\n",
              "         3.22713172e+00,  1.47325591e+00,  5.14171614e-01,  1.09695784e+00,\n",
              "         3.08017709e+00,  2.21245929e+00, -1.73261750e+00, -2.68394832e+00,\n",
              "         1.61507109e+00, -8.02538568e-01,  1.17358273e+00, -2.80888708e+00,\n",
              "         5.76840273e-02, -5.95528231e-01,  3.35976360e+00,  1.73496296e+00,\n",
              "        -9.02761702e-01, -1.86686922e+00,  1.92333724e-01, -1.23782491e+00,\n",
              "        -9.72541778e-01, -2.72549341e+00,  5.40160521e-01, -4.34619052e-01,\n",
              "        -2.05502690e+00,  2.61001674e+00, -1.54646263e-01,  3.58283230e-01,\n",
              "        -9.64796698e-01, -3.37456479e-02,  7.10651894e-01,  1.72876591e+00,\n",
              "         1.81211896e+00, -3.10521093e-02, -7.33424186e-01, -1.01610127e-01,\n",
              "         1.08767488e-02,  1.82111202e+00,  5.94975967e-01, -1.43733741e+00,\n",
              "        -3.72452209e-01,  1.09628992e-01,  1.14398397e+00,  3.05654213e-01,\n",
              "         1.55823631e-01, -4.78788294e-02,  2.64746146e+00, -2.54106355e-02,\n",
              "         4.16017261e-02,  1.97165913e+00, -1.81518403e-01,  1.46453155e+00,\n",
              "         1.72203669e+00,  2.60654926e-01,  7.38936326e-01,  3.24566823e-01,\n",
              "         8.32810965e-01, -3.19295680e-01, -8.94750270e-01, -2.78560571e-01,\n",
              "        -5.83678331e-01,  6.85263532e-02, -4.61673685e-01, -5.53114688e-01,\n",
              "         1.08522494e+00, -1.96940627e+00,  5.60247026e-03,  2.61600358e-01,\n",
              "         6.31563841e-01, -3.23314152e-01, -8.07410467e-01,  1.17877176e+00,\n",
              "        -4.32352649e-01, -2.66737587e-01,  1.08631973e-01, -1.30119088e+00,\n",
              "         5.60846326e-01, -1.42227583e+00, -2.46298185e-01, -1.09955974e+00,\n",
              "         2.35214739e-01,  2.32057711e-01,  3.35791206e-01,  5.28454920e-01,\n",
              "        -4.29146251e-01,  7.99522462e-01, -5.32314222e-01, -2.78973181e-01,\n",
              "         1.86954889e+00, -3.88904889e-01, -1.10041684e+00,  8.30407880e-01,\n",
              "         5.07871934e-01,  8.96884857e-02, -1.86116522e-01, -9.23419212e-01,\n",
              "         8.07227097e-01,  1.53421118e-01, -2.25393184e-01, -1.41750254e-01,\n",
              "        -5.45394068e-01,  1.40988649e+00,  1.22279806e+00, -3.07633382e-01,\n",
              "         8.67894327e-01,  2.36874728e-01, -4.20300058e-01,  7.68799660e-02,\n",
              "        -7.18254148e-01, -7.56282426e-01, -1.21417831e+00, -1.21603484e+00,\n",
              "        -1.18033424e+00,  6.84472992e-01,  6.59702032e-01, -1.01419538e+00,\n",
              "        -5.80831896e-01, -6.55645764e-01,  9.87302709e-02, -1.68263049e-01,\n",
              "         6.54536892e-01, -1.05244518e-01, -4.61339690e-01,  1.11234884e+00,\n",
              "         7.69393237e-01,  2.12391066e-01, -3.25060060e-01,  7.05260726e-02,\n",
              "        -5.37816442e-01,  1.21641287e-01, -3.64630598e-01,  1.39596886e-01,\n",
              "        -4.14656211e-01, -4.08703681e-01,  4.33921372e-01, -4.66854005e-01,\n",
              "         1.31020622e-01,  3.98624419e-01, -2.22686318e-01, -8.98031166e-01,\n",
              "         7.37576898e-01,  2.20812923e-01,  9.27361407e-01, -5.24653404e-01,\n",
              "         3.55933289e-02,  2.37147058e-01,  6.40013894e-01,  8.66692849e-01,\n",
              "        -1.69025436e-01, -4.08463433e-01,  6.15017611e-01, -5.89670922e-01,\n",
              "         1.05228416e-01, -3.03822126e-01, -3.23170487e-01,  4.21469438e-01,\n",
              "        -2.28596502e-01, -8.44417313e-01,  2.30053255e-01, -1.76308315e-01,\n",
              "         9.75347079e-02,  4.41079625e-03, -1.26345634e-01,  4.69546406e-01,\n",
              "        -7.04655687e-02,  8.32191493e-01, -3.77053871e-01]), 3, 0, 1)"
            ]
          },
          "metadata": {},
          "execution_count": 61
        }
      ]
    },
    {
      "cell_type": "code",
      "source": [
        "len(img_dict)"
      ],
      "metadata": {
        "colab": {
          "base_uri": "https://localhost:8080/"
        },
        "id": "Hr2q19lpG4qa",
        "outputId": "63189d80-0806-4440-f330-1369e4b1d5b4"
      },
      "execution_count": 55,
      "outputs": [
        {
          "output_type": "execute_result",
          "data": {
            "text/plain": [
              "9786"
            ]
          },
          "metadata": {},
          "execution_count": 55
        }
      ]
    },
    {
      "cell_type": "code",
      "source": [
        "sc = SparkContext.getOrCreate()\n",
        "img_t = sc.parallelize(img_labels)"
      ],
      "metadata": {
        "id": "svfby3piz-UX"
      },
      "execution_count": 62,
      "outputs": []
    },
    {
      "cell_type": "code",
      "source": [
        "img_t.take(1)"
      ],
      "metadata": {
        "colab": {
          "base_uri": "https://localhost:8080/"
        },
        "id": "kHgZUXmLI7SC",
        "outputId": "474ce42a-cea1-40a7-b4de-a8a6686e3556"
      },
      "execution_count": 63,
      "outputs": [
        {
          "output_type": "execute_result",
          "data": {
            "text/plain": [
              "[(array([ 3.01614885e+01,  3.88508272e+00,  1.14600842e+01,  1.44229499e+01,\n",
              "          1.21641546e+00, -9.48760186e+00,  3.62462321e+00, -4.06481665e+00,\n",
              "          2.52433880e+00,  6.64859130e-01, -2.44277170e+00,  7.04044111e-01,\n",
              "          5.49178259e+00,  1.71201052e+00, -3.32275519e+00,  5.23514603e+00,\n",
              "         -4.54651503e+00,  1.32709580e+00,  1.50769568e+00,  4.08192486e+00,\n",
              "         -1.98293919e+00,  4.46265952e-01,  1.73372407e+00,  7.63672948e-01,\n",
              "         -3.46916061e+00, -3.49299877e+00,  3.10348637e+00,  4.34619898e+00,\n",
              "          3.22713172e+00,  1.47325591e+00,  5.14171614e-01,  1.09695784e+00,\n",
              "          3.08017709e+00,  2.21245929e+00, -1.73261750e+00, -2.68394832e+00,\n",
              "          1.61507109e+00, -8.02538568e-01,  1.17358273e+00, -2.80888708e+00,\n",
              "          5.76840273e-02, -5.95528231e-01,  3.35976360e+00,  1.73496296e+00,\n",
              "         -9.02761702e-01, -1.86686922e+00,  1.92333724e-01, -1.23782491e+00,\n",
              "         -9.72541778e-01, -2.72549341e+00,  5.40160521e-01, -4.34619052e-01,\n",
              "         -2.05502690e+00,  2.61001674e+00, -1.54646263e-01,  3.58283230e-01,\n",
              "         -9.64796698e-01, -3.37456479e-02,  7.10651894e-01,  1.72876591e+00,\n",
              "          1.81211896e+00, -3.10521093e-02, -7.33424186e-01, -1.01610127e-01,\n",
              "          1.08767488e-02,  1.82111202e+00,  5.94975967e-01, -1.43733741e+00,\n",
              "         -3.72452209e-01,  1.09628992e-01,  1.14398397e+00,  3.05654213e-01,\n",
              "          1.55823631e-01, -4.78788294e-02,  2.64746146e+00, -2.54106355e-02,\n",
              "          4.16017261e-02,  1.97165913e+00, -1.81518403e-01,  1.46453155e+00,\n",
              "          1.72203669e+00,  2.60654926e-01,  7.38936326e-01,  3.24566823e-01,\n",
              "          8.32810965e-01, -3.19295680e-01, -8.94750270e-01, -2.78560571e-01,\n",
              "         -5.83678331e-01,  6.85263532e-02, -4.61673685e-01, -5.53114688e-01,\n",
              "          1.08522494e+00, -1.96940627e+00,  5.60247026e-03,  2.61600358e-01,\n",
              "          6.31563841e-01, -3.23314152e-01, -8.07410467e-01,  1.17877176e+00,\n",
              "         -4.32352649e-01, -2.66737587e-01,  1.08631973e-01, -1.30119088e+00,\n",
              "          5.60846326e-01, -1.42227583e+00, -2.46298185e-01, -1.09955974e+00,\n",
              "          2.35214739e-01,  2.32057711e-01,  3.35791206e-01,  5.28454920e-01,\n",
              "         -4.29146251e-01,  7.99522462e-01, -5.32314222e-01, -2.78973181e-01,\n",
              "          1.86954889e+00, -3.88904889e-01, -1.10041684e+00,  8.30407880e-01,\n",
              "          5.07871934e-01,  8.96884857e-02, -1.86116522e-01, -9.23419212e-01,\n",
              "          8.07227097e-01,  1.53421118e-01, -2.25393184e-01, -1.41750254e-01,\n",
              "         -5.45394068e-01,  1.40988649e+00,  1.22279806e+00, -3.07633382e-01,\n",
              "          8.67894327e-01,  2.36874728e-01, -4.20300058e-01,  7.68799660e-02,\n",
              "         -7.18254148e-01, -7.56282426e-01, -1.21417831e+00, -1.21603484e+00,\n",
              "         -1.18033424e+00,  6.84472992e-01,  6.59702032e-01, -1.01419538e+00,\n",
              "         -5.80831896e-01, -6.55645764e-01,  9.87302709e-02, -1.68263049e-01,\n",
              "          6.54536892e-01, -1.05244518e-01, -4.61339690e-01,  1.11234884e+00,\n",
              "          7.69393237e-01,  2.12391066e-01, -3.25060060e-01,  7.05260726e-02,\n",
              "         -5.37816442e-01,  1.21641287e-01, -3.64630598e-01,  1.39596886e-01,\n",
              "         -4.14656211e-01, -4.08703681e-01,  4.33921372e-01, -4.66854005e-01,\n",
              "          1.31020622e-01,  3.98624419e-01, -2.22686318e-01, -8.98031166e-01,\n",
              "          7.37576898e-01,  2.20812923e-01,  9.27361407e-01, -5.24653404e-01,\n",
              "          3.55933289e-02,  2.37147058e-01,  6.40013894e-01,  8.66692849e-01,\n",
              "         -1.69025436e-01, -4.08463433e-01,  6.15017611e-01, -5.89670922e-01,\n",
              "          1.05228416e-01, -3.03822126e-01, -3.23170487e-01,  4.21469438e-01,\n",
              "         -2.28596502e-01, -8.44417313e-01,  2.30053255e-01, -1.76308315e-01,\n",
              "          9.75347079e-02,  4.41079625e-03, -1.26345634e-01,  4.69546406e-01,\n",
              "         -7.04655687e-02,  8.32191493e-01, -3.77053871e-01]), 3, 0, 1)]"
            ]
          },
          "metadata": {},
          "execution_count": 63
        }
      ]
    },
    {
      "cell_type": "code",
      "source": [
        ""
      ],
      "metadata": {
        "id": "PzIFSjwxKl08"
      },
      "execution_count": null,
      "outputs": []
    },
    {
      "cell_type": "code",
      "execution_count": null,
      "metadata": {
        "id": "5CwFcV_5-GCP"
      },
      "outputs": [],
      "source": [
        "def adaptistEqualizer(imagesArray):\n",
        "  from skimage import exposure\n",
        "  img_adapteq = exposure.equalize_adapthist(imagesArray, clip_limit=0.03)   \n",
        "  return img_adapteq "
      ]
    },
    {
      "cell_type": "code",
      "source": [
        "def sobelChannel(img):\n",
        "  from skimage.exposure import rescale_intensity\n",
        "  from skimage import filters\n",
        "  from skimage.color.adapt_rgb import adapt_rgb, each_channel, hsv_value\n",
        "  @adapt_rgb(each_channel)\n",
        "  def sobel_each(img):\n",
        "    return filters.sobel(img)\n",
        "    \n",
        "  image = rescale_intensity(1 - sobel_each(img[0]))\n",
        "  return image, img[1], img[1], img[2]"
      ],
      "metadata": {
        "id": "7Fe-QEoNLePZ"
      },
      "execution_count": 64,
      "outputs": []
    },
    {
      "cell_type": "code",
      "source": [
        "sobel = img_t.map(sobelChannel)"
      ],
      "metadata": {
        "id": "X4NHmnp7F_c9"
      },
      "execution_count": 65,
      "outputs": []
    },
    {
      "cell_type": "code",
      "source": [
        "sobel.take(2)"
      ],
      "metadata": {
        "colab": {
          "base_uri": "https://localhost:8080/"
        },
        "id": "033ToJ7lGKu9",
        "outputId": "90552d5c-9d28-4218-b86f-1e9ee0711afe"
      },
      "execution_count": 66,
      "outputs": [
        {
          "output_type": "execute_result",
          "data": {
            "text/plain": [
              "[(array([ 1.        ,  0.58847475, -1.        ,  0.12899342,  0.87147083,\n",
              "         -0.55834198, -0.72211419, -0.36773699, -0.68445981, -0.15766487,\n",
              "         -0.42964066, -0.85857046, -0.48227141,  0.05135337, -0.61891239,\n",
              "         -0.36102897, -0.21520018, -0.75641749, -0.57717279, -0.237877  ,\n",
              "         -0.22999832, -0.62942612, -0.44475556, -0.14485602, -0.1962607 ,\n",
              "         -0.78458245, -0.85339005, -0.43422912, -0.27143419, -0.28012555,\n",
              "         -0.40706881, -0.56691462, -0.48811344, -0.16604835, -0.16150593,\n",
              "         -0.60938093, -0.52972275, -0.40352724, -0.31851346, -0.36688871,\n",
              "         -0.54775647, -0.60690314, -0.55411989, -0.1959427 , -0.23183601,\n",
              "         -0.48700485, -0.4616858 , -0.36422796, -0.34669166, -0.50969207,\n",
              "         -0.55196764, -0.28652376, -0.59291705, -0.53075338, -0.30518249,\n",
              "         -0.38349902, -0.40621421, -0.51853355, -0.5232634 , -0.487351  ,\n",
              "         -0.33190666, -0.28922077, -0.42367868, -0.46794732, -0.53196712,\n",
              "         -0.45924408, -0.25049088, -0.37495463, -0.51155353, -0.50989492,\n",
              "         -0.43816128, -0.37382832, -0.40830556, -0.56287447, -0.42873249,\n",
              "         -0.28594396, -0.53600619, -0.41539047, -0.39996127, -0.53092584,\n",
              "         -0.36210916, -0.37410321, -0.43098399, -0.43261177, -0.39253291,\n",
              "         -0.33365907, -0.42972487, -0.4444114 , -0.44636797, -0.43413998,\n",
              "         -0.39374013, -0.51154985, -0.35056934, -0.36885948, -0.54871522,\n",
              "         -0.46151832, -0.39573536, -0.34933706, -0.50911532, -0.44788754,\n",
              "         -0.34898203, -0.45690181, -0.37131338, -0.45207921, -0.42093371,\n",
              "         -0.38366232, -0.44504399, -0.4536709 , -0.49985432, -0.43297586,\n",
              "         -0.44361417, -0.3859553 , -0.44223809, -0.42190709, -0.3689207 ,\n",
              "         -0.5579973 , -0.42153963, -0.26616327, -0.49375317, -0.51488498,\n",
              "         -0.38727099, -0.38980973, -0.37247301, -0.481477  , -0.48601311,\n",
              "         -0.37141296, -0.41147616, -0.41012726, -0.51180726, -0.52357201,\n",
              "         -0.33420459, -0.4082311 , -0.45709323, -0.35752845, -0.41881987,\n",
              "         -0.41132499, -0.38224886, -0.40056992, -0.40253501, -0.42935051,\n",
              "         -0.53076029, -0.52747507, -0.33522873, -0.36011768, -0.4469907 ,\n",
              "         -0.46443027, -0.45398979, -0.45770704, -0.43093546, -0.36688991,\n",
              "         -0.49365976, -0.49437359, -0.37862008, -0.36805377, -0.4198048 ,\n",
              "         -0.4159535 , -0.43028879, -0.43692049, -0.42848734, -0.42479414,\n",
              "         -0.39772448, -0.47361233, -0.42435275, -0.41105625, -0.4745305 ,\n",
              "         -0.40829612, -0.35706878, -0.47967985, -0.48829504, -0.43782224,\n",
              "         -0.3870131 , -0.379065  , -0.46889801, -0.46034808, -0.46171305,\n",
              "         -0.38355939, -0.35823676, -0.47010638, -0.41766745, -0.39981667,\n",
              "         -0.4430411 , -0.40423834, -0.4669146 , -0.43264976, -0.35874035,\n",
              "         -0.45242882, -0.46380806, -0.42031256, -0.43732975, -0.41534917,\n",
              "         -0.45278118, -0.43054765, -0.4472132 , -0.41085592, -0.36181749]),\n",
              "  3,\n",
              "  3,\n",
              "  0),\n",
              " (array([-1.        ,  0.23301681,  1.        , -0.04514799,  0.07071971,\n",
              "          0.15720948,  0.40541246,  0.06865883,  0.05095191,  0.13257441,\n",
              "          0.29243618,  0.36266134,  0.17472704,  0.04134031,  0.14154494,\n",
              "          0.18148139, -0.0162856 ,  0.07638362,  0.04322688,  0.048782  ,\n",
              "          0.41884884,  0.25643615, -0.0114258 ,  0.12025641,  0.11663996,\n",
              "          0.19397237,  0.18816515,  0.08253273,  0.05506986,  0.21137036,\n",
              "          0.31514594,  0.07009866,  0.12634   ,  0.17886345,  0.06615531,\n",
              "          0.08376848,  0.12853372,  0.19117861,  0.22451729,  0.09245657,\n",
              "          0.17713152,  0.18970552,  0.19290463,  0.07009746,  0.04325226,\n",
              "          0.31429821,  0.19956296,  0.14510913,  0.07763654,  0.03330355,\n",
              "          0.24336683,  0.15791955,  0.0494722 ,  0.21654383,  0.19370403,\n",
              "          0.15679293,  0.05198965,  0.01786254,  0.23164726,  0.19818116,\n",
              "          0.10148577,  0.18126025,  0.20607802,  0.1032694 ,  0.17851592,\n",
              "          0.16163806,  0.13161474,  0.23877759,  0.16059896,  0.17999575,\n",
              "          0.16147015,  0.03110174,  0.08198126,  0.2228701 ,  0.20588419,\n",
              "          0.16530563,  0.12232911,  0.23227813,  0.22066916,  0.02100386,\n",
              "          0.12180775,  0.1098619 ,  0.11987765,  0.22709451,  0.15345977,\n",
              "          0.09773608,  0.11526189,  0.15175055,  0.23999795,  0.14188777,\n",
              "          0.04418548,  0.1723108 ,  0.16771672,  0.0975162 ,  0.18940351,\n",
              "          0.15817835,  0.2295717 ,  0.18900702,  0.11684937,  0.17584662,\n",
              "          0.03317821,  0.03675525,  0.17253852,  0.23578715,  0.2038915 ,\n",
              "          0.16920456,  0.13232092,  0.14449545,  0.15446943,  0.17766247,\n",
              "          0.12763478,  0.05922864,  0.10523354,  0.13446685,  0.22555319,\n",
              "          0.21624937,  0.11768086,  0.14044292,  0.10350283,  0.12988198,\n",
              "          0.17046352,  0.21408175,  0.17026869,  0.13999199,  0.22026273,\n",
              "          0.07741277,  0.0452824 ,  0.16551651,  0.19241764,  0.16022182,\n",
              "          0.16498706,  0.12486538,  0.11151724,  0.1994941 ,  0.22044647,\n",
              "          0.16827574,  0.12174917,  0.13040837,  0.12950626,  0.14498378,\n",
              "          0.19348734,  0.15834494,  0.07048857,  0.11427198,  0.1730282 ,\n",
              "          0.16400821,  0.18665596,  0.13148022,  0.11962803,  0.18246894,\n",
              "          0.14613564,  0.13191841,  0.15779709,  0.11732935,  0.1832884 ,\n",
              "          0.17163442,  0.08435101,  0.12909798,  0.20600448,  0.17337984,\n",
              "          0.11175563,  0.12452848,  0.16561224,  0.17919703,  0.1738446 ,\n",
              "          0.1188013 ,  0.11771609,  0.18981351,  0.16238898,  0.14099354,\n",
              "          0.11658534,  0.15893427,  0.15927012,  0.11837632,  0.17298432,\n",
              "          0.12955755,  0.13901475,  0.19444619,  0.13379062,  0.11181875,\n",
              "          0.19985035,  0.18891339,  0.11054601,  0.11574327,  0.12600413,\n",
              "          0.20797065,  0.16754873,  0.11796717,  0.11835667,  0.13758881,\n",
              "          0.2335079 ,  0.12847521,  0.10052919,  0.16573423,  0.14479962]),\n",
              "  3,\n",
              "  3,\n",
              "  0)]"
            ]
          },
          "metadata": {},
          "execution_count": 66
        }
      ]
    },
    {
      "cell_type": "code",
      "source": [
        "def split_age(item):\n",
        "  return item[0], item[1]"
      ],
      "metadata": {
        "id": "JWFZ-EKbXvCk"
      },
      "execution_count": 68,
      "outputs": []
    },
    {
      "cell_type": "code",
      "source": [
        "agerddSobel = sobel.map(split_age)"
      ],
      "metadata": {
        "id": "DtBZF8EqXD1N"
      },
      "execution_count": 69,
      "outputs": []
    },
    {
      "cell_type": "code",
      "source": [
        ""
      ],
      "metadata": {
        "id": "Pvtf9E-KYiaj"
      },
      "execution_count": null,
      "outputs": []
    },
    {
      "cell_type": "code",
      "source": [
        "from pyspark.ml import Pipeline\n",
        "from pyspark.ml.classification import RandomForestClassifier\n",
        "from pyspark.ml.feature import IndexToString, StringIndexer, VectorIndexer\n",
        "from pyspark.ml.evaluation import MulticlassClassificationEvaluator"
      ],
      "metadata": {
        "id": "IQm310xlwOH4"
      },
      "execution_count": 70,
      "outputs": []
    },
    {
      "cell_type": "code",
      "source": [
        "#data = spark.read.format(\"libsvm\").load(\"data/mllib/sample_libsvm_data.txt\")\n",
        "\n",
        "# Index labels, adding metadata to the label column.\n",
        "# Fit on whole dataset to include all labels in index.\n",
        "labelIndexer = StringIndexer(inputCol=\"label\", outputCol=\"indexedLabel\").fit(agerddSobel)\n",
        "\n",
        "# Automatically identify categorical features, and index them.\n",
        "# Set maxCategories so features with > 4 distinct values are treated as continuous.\n",
        "featureIndexer =VectorIndexer(inputCol=\"features\", outputCol=\"indexedFeatures\", maxCategories=4).fit(agerddSobel)"
      ],
      "metadata": {
        "colab": {
          "base_uri": "https://localhost:8080/",
          "height": 375
        },
        "id": "YyMCfiQrc-VV",
        "outputId": "f3a7c3cb-c733-448a-82fd-b5b416f54900"
      },
      "execution_count": 76,
      "outputs": [
        {
          "output_type": "error",
          "ename": "AttributeError",
          "evalue": "ignored",
          "traceback": [
            "\u001b[0;31m---------------------------------------------------------------------------\u001b[0m",
            "\u001b[0;31mAttributeError\u001b[0m                            Traceback (most recent call last)",
            "\u001b[0;32m<ipython-input-76-2b499d61ed37>\u001b[0m in \u001b[0;36m<module>\u001b[0;34m()\u001b[0m\n\u001b[1;32m      3\u001b[0m \u001b[0;31m# Index labels, adding metadata to the label column.\u001b[0m\u001b[0;34m\u001b[0m\u001b[0;34m\u001b[0m\u001b[0;34m\u001b[0m\u001b[0m\n\u001b[1;32m      4\u001b[0m \u001b[0;31m# Fit on whole dataset to include all labels in index.\u001b[0m\u001b[0;34m\u001b[0m\u001b[0;34m\u001b[0m\u001b[0;34m\u001b[0m\u001b[0m\n\u001b[0;32m----> 5\u001b[0;31m \u001b[0mlabelIndexer\u001b[0m \u001b[0;34m=\u001b[0m \u001b[0mStringIndexer\u001b[0m\u001b[0;34m(\u001b[0m\u001b[0minputCol\u001b[0m\u001b[0;34m=\u001b[0m\u001b[0;34m\"label\"\u001b[0m\u001b[0;34m,\u001b[0m \u001b[0moutputCol\u001b[0m\u001b[0;34m=\u001b[0m\u001b[0;34m\"indexedLabel\"\u001b[0m\u001b[0;34m)\u001b[0m\u001b[0;34m.\u001b[0m\u001b[0mfit\u001b[0m\u001b[0;34m(\u001b[0m\u001b[0magerddSobel\u001b[0m\u001b[0;34m)\u001b[0m\u001b[0;34m\u001b[0m\u001b[0;34m\u001b[0m\u001b[0m\n\u001b[0m\u001b[1;32m      6\u001b[0m \u001b[0;34m\u001b[0m\u001b[0m\n\u001b[1;32m      7\u001b[0m \u001b[0;31m# Automatically identify categorical features, and index them.\u001b[0m\u001b[0;34m\u001b[0m\u001b[0;34m\u001b[0m\u001b[0;34m\u001b[0m\u001b[0m\n",
            "\u001b[0;32m/usr/local/lib/python3.7/dist-packages/pyspark/ml/base.py\u001b[0m in \u001b[0;36mfit\u001b[0;34m(self, dataset, params)\u001b[0m\n\u001b[1;32m    159\u001b[0m                 \u001b[0;32mreturn\u001b[0m \u001b[0mself\u001b[0m\u001b[0;34m.\u001b[0m\u001b[0mcopy\u001b[0m\u001b[0;34m(\u001b[0m\u001b[0mparams\u001b[0m\u001b[0;34m)\u001b[0m\u001b[0;34m.\u001b[0m\u001b[0m_fit\u001b[0m\u001b[0;34m(\u001b[0m\u001b[0mdataset\u001b[0m\u001b[0;34m)\u001b[0m\u001b[0;34m\u001b[0m\u001b[0;34m\u001b[0m\u001b[0m\n\u001b[1;32m    160\u001b[0m             \u001b[0;32melse\u001b[0m\u001b[0;34m:\u001b[0m\u001b[0;34m\u001b[0m\u001b[0;34m\u001b[0m\u001b[0m\n\u001b[0;32m--> 161\u001b[0;31m                 \u001b[0;32mreturn\u001b[0m \u001b[0mself\u001b[0m\u001b[0;34m.\u001b[0m\u001b[0m_fit\u001b[0m\u001b[0;34m(\u001b[0m\u001b[0mdataset\u001b[0m\u001b[0;34m)\u001b[0m\u001b[0;34m\u001b[0m\u001b[0;34m\u001b[0m\u001b[0m\n\u001b[0m\u001b[1;32m    162\u001b[0m         \u001b[0;32melse\u001b[0m\u001b[0;34m:\u001b[0m\u001b[0;34m\u001b[0m\u001b[0;34m\u001b[0m\u001b[0m\n\u001b[1;32m    163\u001b[0m             raise TypeError(\"Params must be either a param map or a list/tuple of param maps, \"\n",
            "\u001b[0;32m/usr/local/lib/python3.7/dist-packages/pyspark/ml/wrapper.py\u001b[0m in \u001b[0;36m_fit\u001b[0;34m(self, dataset)\u001b[0m\n\u001b[1;32m    333\u001b[0m \u001b[0;34m\u001b[0m\u001b[0m\n\u001b[1;32m    334\u001b[0m     \u001b[0;32mdef\u001b[0m \u001b[0m_fit\u001b[0m\u001b[0;34m(\u001b[0m\u001b[0mself\u001b[0m\u001b[0;34m,\u001b[0m \u001b[0mdataset\u001b[0m\u001b[0;34m)\u001b[0m\u001b[0;34m:\u001b[0m\u001b[0;34m\u001b[0m\u001b[0;34m\u001b[0m\u001b[0m\n\u001b[0;32m--> 335\u001b[0;31m         \u001b[0mjava_model\u001b[0m \u001b[0;34m=\u001b[0m \u001b[0mself\u001b[0m\u001b[0;34m.\u001b[0m\u001b[0m_fit_java\u001b[0m\u001b[0;34m(\u001b[0m\u001b[0mdataset\u001b[0m\u001b[0;34m)\u001b[0m\u001b[0;34m\u001b[0m\u001b[0;34m\u001b[0m\u001b[0m\n\u001b[0m\u001b[1;32m    336\u001b[0m         \u001b[0mmodel\u001b[0m \u001b[0;34m=\u001b[0m \u001b[0mself\u001b[0m\u001b[0;34m.\u001b[0m\u001b[0m_create_model\u001b[0m\u001b[0;34m(\u001b[0m\u001b[0mjava_model\u001b[0m\u001b[0;34m)\u001b[0m\u001b[0;34m\u001b[0m\u001b[0;34m\u001b[0m\u001b[0m\n\u001b[1;32m    337\u001b[0m         \u001b[0;32mreturn\u001b[0m \u001b[0mself\u001b[0m\u001b[0;34m.\u001b[0m\u001b[0m_copyValues\u001b[0m\u001b[0;34m(\u001b[0m\u001b[0mmodel\u001b[0m\u001b[0;34m)\u001b[0m\u001b[0;34m\u001b[0m\u001b[0;34m\u001b[0m\u001b[0m\n",
            "\u001b[0;32m/usr/local/lib/python3.7/dist-packages/pyspark/ml/wrapper.py\u001b[0m in \u001b[0;36m_fit_java\u001b[0;34m(self, dataset)\u001b[0m\n\u001b[1;32m    330\u001b[0m         \"\"\"\n\u001b[1;32m    331\u001b[0m         \u001b[0mself\u001b[0m\u001b[0;34m.\u001b[0m\u001b[0m_transfer_params_to_java\u001b[0m\u001b[0;34m(\u001b[0m\u001b[0;34m)\u001b[0m\u001b[0;34m\u001b[0m\u001b[0;34m\u001b[0m\u001b[0m\n\u001b[0;32m--> 332\u001b[0;31m         \u001b[0;32mreturn\u001b[0m \u001b[0mself\u001b[0m\u001b[0;34m.\u001b[0m\u001b[0m_java_obj\u001b[0m\u001b[0;34m.\u001b[0m\u001b[0mfit\u001b[0m\u001b[0;34m(\u001b[0m\u001b[0mdataset\u001b[0m\u001b[0;34m.\u001b[0m\u001b[0m_jdf\u001b[0m\u001b[0;34m)\u001b[0m\u001b[0;34m\u001b[0m\u001b[0;34m\u001b[0m\u001b[0m\n\u001b[0m\u001b[1;32m    333\u001b[0m \u001b[0;34m\u001b[0m\u001b[0m\n\u001b[1;32m    334\u001b[0m     \u001b[0;32mdef\u001b[0m \u001b[0m_fit\u001b[0m\u001b[0;34m(\u001b[0m\u001b[0mself\u001b[0m\u001b[0;34m,\u001b[0m \u001b[0mdataset\u001b[0m\u001b[0;34m)\u001b[0m\u001b[0;34m:\u001b[0m\u001b[0;34m\u001b[0m\u001b[0;34m\u001b[0m\u001b[0m\n",
            "\u001b[0;31mAttributeError\u001b[0m: 'PipelinedRDD' object has no attribute '_jdf'"
          ]
        }
      ]
    },
    {
      "cell_type": "code",
      "source": [
        "(trainingData, testData) = agerddSobel.randomSplit([0.7, 0.3])"
      ],
      "metadata": {
        "id": "W5Bna774Z_CJ"
      },
      "execution_count": 72,
      "outputs": []
    },
    {
      "cell_type": "code",
      "source": [
        "rf = RandomForestClassifier(labelCol=\"indexedLabel\", featuresCol=\"indexedFeatures\", numTrees=10)\n"
      ],
      "metadata": {
        "id": "9qm8H-FwaHlk"
      },
      "execution_count": 71,
      "outputs": []
    },
    {
      "cell_type": "code",
      "source": [
        ""
      ],
      "metadata": {
        "id": "7eIxD3h4aMOV"
      },
      "execution_count": null,
      "outputs": []
    },
    {
      "cell_type": "code",
      "source": [
        "model = RandomForest.trainClassifier(trainingData, numClasses=2, categoricalFeaturesInfo={},\n",
        "                                     numTrees=3, featureSubsetStrategy=\"auto\",\n",
        "                                     impurity='gini', maxDepth=4, maxBins=32)\n"
      ],
      "metadata": {
        "id": "MpN1yd2GyJzz"
      },
      "execution_count": null,
      "outputs": []
    }
  ],
  "metadata": {
    "colab": {
      "name": "SparkML.ipynb",
      "provenance": [],
      "collapsed_sections": [],
      "machine_shape": "hm"
    },
    "kernelspec": {
      "display_name": "Python 3",
      "name": "python3"
    },
    "language_info": {
      "name": "python"
    }
  },
  "nbformat": 4,
  "nbformat_minor": 0
}