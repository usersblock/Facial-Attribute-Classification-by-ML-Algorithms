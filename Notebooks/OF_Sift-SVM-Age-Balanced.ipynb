{
 "cells": [
  {
   "cell_type": "code",
   "execution_count": 1,
   "id": "b172cdde",
   "metadata": {},
   "outputs": [],
   "source": [
    "import numpy as np\n",
    "import pandas as pd\n",
    "from os import listdir\n",
    "from os.path import isfile, join\n",
    "from sklearn.model_selection import train_test_split\n",
    "from imblearn.over_sampling import RandomOverSampler\n",
    "from sklearn.preprocessing import LabelEncoder\n",
    "from collections import Counter\n",
    "import cv2\n",
    "from sklearn.metrics import confusion_matrix, accuracy_score, precision_score, recall_score,f1_score\n",
    "from keras import Model\n",
    "from tensorflow.keras.layers import Input,Activation,Add, MaxPooling2D, MaxPooling1D, Flatten, Dense, Conv1D, Dropout\n",
    "from tensorflow import keras\n",
    "from tensorflow.keras import layers, models\n",
    "from skimage import color\n",
    "from skimage import filters\n",
    "import tensorflow as tf\n",
    "from sklearn import svm\n",
    "from sklearn.svm import SVC, SVR"
   ]
  },
  {
   "cell_type": "code",
   "execution_count": 13,
   "id": "d9a7aacc",
   "metadata": {},
   "outputs": [],
   "source": [
    "from sklearn.linear_model import LogisticRegression\n",
    "from sklearn.metrics import classification_report\n",
    "from sklearn.metrics import mean_squared_error\n",
    "from sklearn.metrics import mean_absolute_error\n",
    "import matplotlib.pyplot as plt\n",
    "from sklearn import metrics\n",
    "import seaborn as sns\n",
    "from ipynb.fs.full.SIFT_to_Features import SIFT_nparray_to_Features "
   ]
  },
  {
   "cell_type": "code",
   "execution_count": 14,
   "id": "b01ce8fa",
   "metadata": {},
   "outputs": [],
   "source": [
    "# Choose the label type\n",
    "Labeltype = 'gender'"
   ]
  },
  {
   "cell_type": "code",
   "execution_count": 15,
   "id": "1e09badd",
   "metadata": {},
   "outputs": [
    {
     "name": "stdout",
     "output_type": "stream",
     "text": [
      "Class=1, n=3796 (50.000%)\n",
      "Class=0, n=3796 (50.000%)\n",
      "Class=0, n=2500 (50.000%)\n",
      "Class=1, n=2500 (50.000%)\n"
     ]
    }
   ],
   "source": [
    "# Import image labels and paths to dataframe\n",
    "mypath = \"C:/Users/User/Desktop/CUNY/Faces_img/cropped.tar/cropped/crop_part1\"\n",
    "filenames = np.array([f for f in listdir(mypath) if isfile(join(mypath, f))])\n",
    "splitcolumns = [x.split('_')[0:3] + [mypath +'/'+ x] for x in filenames if x.count('_') == 3]\n",
    "filecolumns = ['age','gender','race','file']\n",
    "filedf = pd.DataFrame(data = splitcolumns, columns = filecolumns).astype({'age': 'int', 'gender': 'int', 'race': 'int'})\n",
    "\n",
    "# Convert age to appropriate labels\n",
    "filedf['age']=np.where((filedf.age<3), 0, filedf.age)\n",
    "filedf['age']=np.where(((filedf.age>=3) & (filedf.age<6)), 1, filedf.age)\n",
    "filedf['age']=np.where(((filedf.age>=6) & (filedf.age<9)), 2, filedf.age)\n",
    "filedf['age']=np.where(((filedf.age>=9) & (filedf.age<12)), 3, filedf.age)\n",
    "filedf['age']=np.where(((filedf.age>=12) & (filedf.age<21)), 4, filedf.age)\n",
    "filedf['age']=np.where(((filedf.age>=21) & (filedf.age<36)), 5, filedf.age)\n",
    "filedf['age']=np.where(((filedf.age>=36) & (filedf.age<51)), 6, filedf.age)\n",
    "filedf['age']=np.where(((filedf.age>=51) & (filedf.age<80)), 7, filedf.age)\n",
    "filedf['age']=np.where((filedf.age>=80), 8, filedf.age)\n",
    "\n",
    "dfx = filedf.loc[:,'file']\n",
    "dfy = filedf.loc[:,Labeltype]\n",
    "\n",
    "# Get Train/Test\n",
    "X_train, X_test, y_train, y_test = train_test_split(dfx, dfy, test_size=0.3, random_state=42)\n",
    "\n",
    "# Get Train/Test/Validation dataset 0.25 * 8 = 0.2\n",
    "X_train_2, X_val, y_train_2, y_val = train_test_split(X_train, y_train, test_size=0.25, random_state=42)\n",
    "\n",
    "# Encode training labels and initialize random over sampler\n",
    "yencoded = LabelEncoder().fit_transform(y_train)\n",
    "oversample = RandomOverSampler()\n",
    "\n",
    "# Over sample until training classes are balanced\n",
    "X_train_balanced, y_train_balanced = oversample.fit_resample(np.array(X_train).reshape(-1,1), yencoded)\n",
    "\n",
    "# Of all classes, proportionally sample 10000\n",
    "dxy = {'file': X_train_balanced.reshape(len(X_train_balanced)), 'label': y_train_balanced}\n",
    "dfbalanced = pd.DataFrame(data = dxy)\n",
    "balancedsamples = int(5000/len(set(dfbalanced.loc[:,'label'])))\n",
    "dfbalancedsubset = dfbalanced.groupby('label', group_keys=False).apply(lambda x: x.sample(balancedsamples)).sample(frac=1)\n",
    "\n",
    "# Count and print balanced classes\n",
    "counter = Counter(y_train_balanced)\n",
    "for k,v in counter.items():\n",
    "    per = v / len(y_train_balanced) * 100\n",
    "    print('Class=%d, n=%d (%.3f%%)' % (k, v, per))\n",
    "\n",
    "# Count and print balanced classes subsets (Total should be 10000)\n",
    "counter = Counter(dfbalancedsubset.loc[:,'label'])\n",
    "for k,v in counter.items():\n",
    "    per = v / len(dfbalancedsubset.loc[:,'label']) * 100\n",
    "    print('Class=%d, n=%d (%.3f%%)' % (k, v, per))"
   ]
  },
  {
   "cell_type": "code",
   "execution_count": 16,
   "id": "9de0f258",
   "metadata": {},
   "outputs": [
    {
     "data": {
      "text/html": [
       "<div>\n",
       "<style scoped>\n",
       "    .dataframe tbody tr th:only-of-type {\n",
       "        vertical-align: middle;\n",
       "    }\n",
       "\n",
       "    .dataframe tbody tr th {\n",
       "        vertical-align: top;\n",
       "    }\n",
       "\n",
       "    .dataframe thead th {\n",
       "        text-align: right;\n",
       "    }\n",
       "</style>\n",
       "<table border=\"1\" class=\"dataframe\">\n",
       "  <thead>\n",
       "    <tr style=\"text-align: right;\">\n",
       "      <th></th>\n",
       "      <th>file</th>\n",
       "      <th>label</th>\n",
       "    </tr>\n",
       "  </thead>\n",
       "  <tbody>\n",
       "    <tr>\n",
       "      <th>4539</th>\n",
       "      <td>C:/Users/User/Desktop/CUNY/Faces_img/cropped.t...</td>\n",
       "      <td>0</td>\n",
       "    </tr>\n",
       "    <tr>\n",
       "      <th>4277</th>\n",
       "      <td>C:/Users/User/Desktop/CUNY/Faces_img/cropped.t...</td>\n",
       "      <td>0</td>\n",
       "    </tr>\n",
       "    <tr>\n",
       "      <th>4437</th>\n",
       "      <td>C:/Users/User/Desktop/CUNY/Faces_img/cropped.t...</td>\n",
       "      <td>1</td>\n",
       "    </tr>\n",
       "    <tr>\n",
       "      <th>5685</th>\n",
       "      <td>C:/Users/User/Desktop/CUNY/Faces_img/cropped.t...</td>\n",
       "      <td>0</td>\n",
       "    </tr>\n",
       "    <tr>\n",
       "      <th>6932</th>\n",
       "      <td>C:/Users/User/Desktop/CUNY/Faces_img/cropped.t...</td>\n",
       "      <td>0</td>\n",
       "    </tr>\n",
       "  </tbody>\n",
       "</table>\n",
       "</div>"
      ],
      "text/plain": [
       "                                                   file  label\n",
       "4539  C:/Users/User/Desktop/CUNY/Faces_img/cropped.t...      0\n",
       "4277  C:/Users/User/Desktop/CUNY/Faces_img/cropped.t...      0\n",
       "4437  C:/Users/User/Desktop/CUNY/Faces_img/cropped.t...      1\n",
       "5685  C:/Users/User/Desktop/CUNY/Faces_img/cropped.t...      0\n",
       "6932  C:/Users/User/Desktop/CUNY/Faces_img/cropped.t...      0"
      ]
     },
     "execution_count": 16,
     "metadata": {},
     "output_type": "execute_result"
    }
   ],
   "source": [
    "dfbalancedsubset.head()"
   ]
  },
  {
   "cell_type": "code",
   "execution_count": 19,
   "id": "755c5df2",
   "metadata": {},
   "outputs": [],
   "source": [
    "# Get training images\n",
    "train_img_container = []\n",
    "for i in dfbalancedsubset['file']:\n",
    "    img = cv2.imread(i)\n",
    "    train_img_container.append(img)\n",
    "#train_img_container = np.array(train_img_container)"
   ]
  },
  {
   "cell_type": "code",
   "execution_count": 23,
   "id": "8c17e55e",
   "metadata": {},
   "outputs": [],
   "source": [
    "# Get testing images\n",
    "test_img_container = []\n",
    "for i in X_test:\n",
    "    img = cv2.imread(i)\n",
    "    test_img_container.append(img)\n",
    "test_img_container = np.array(test_img_container)"
   ]
  },
  {
   "cell_type": "code",
   "execution_count": 24,
   "id": "aec21adc",
   "metadata": {},
   "outputs": [
    {
     "name": "stderr",
     "output_type": "stream",
     "text": [
      "C:\\Users\\User\\SIFT_to_Features.ipynb:71: RuntimeWarning: invalid value encountered in true_divide\n",
      "  \"        for j in bin_assignment:\\n\",\n"
     ]
    }
   ],
   "source": [
    "X_train_sift,X_test_sift = SIFT_nparray_to_Features(train_img_container, test_img_container)"
   ]
  },
  {
   "cell_type": "code",
   "execution_count": 25,
   "id": "aba5ab86",
   "metadata": {},
   "outputs": [],
   "source": [
    "X_train_sift=X_train_sift/255.0\n",
    "X_test_sift=X_test_sift/255.0"
   ]
  },
  {
   "cell_type": "code",
   "execution_count": 28,
   "id": "9b28fcca",
   "metadata": {},
   "outputs": [],
   "source": [
    "model = SVC(kernel = 'linear', C=1.0, random_state=42, verbose = True)"
   ]
  },
  {
   "cell_type": "code",
   "execution_count": 29,
   "id": "c7b7c7de",
   "metadata": {},
   "outputs": [
    {
     "name": "stdout",
     "output_type": "stream",
     "text": [
      "[LibSVM]"
     ]
    },
    {
     "data": {
      "text/plain": [
       "SVC(kernel='linear', random_state=42, verbose=True)"
      ]
     },
     "execution_count": 29,
     "metadata": {},
     "output_type": "execute_result"
    }
   ],
   "source": [
    "model.fit(X_train_sift, dfbalancedsubset['label'])"
   ]
  },
  {
   "cell_type": "code",
   "execution_count": 31,
   "id": "7dbbb05f",
   "metadata": {},
   "outputs": [],
   "source": [
    "y_pred_gender = model.predict(X_train_sift)"
   ]
  },
  {
   "cell_type": "code",
   "execution_count": 33,
   "id": "8fe82826",
   "metadata": {},
   "outputs": [
    {
     "name": "stdout",
     "output_type": "stream",
     "text": [
      "accuracy: 0.6512\n",
      "              precision    recall  f1-score   support\n",
      "\n",
      "           0       0.62      0.80      0.70      2500\n",
      "           1       0.72      0.50      0.59      2500\n",
      "\n",
      "    accuracy                           0.65      5000\n",
      "   macro avg       0.67      0.65      0.64      5000\n",
      "weighted avg       0.67      0.65      0.64      5000\n",
      "\n"
     ]
    }
   ],
   "source": [
    "print(f\"accuracy: {accuracy_score(dfbalancedsubset['label'], y_pred_gender)}\")\n",
    "print(f\"{classification_report(dfbalancedsubset['label'], y_pred_gender)}\")"
   ]
  },
  {
   "cell_type": "code",
   "execution_count": 34,
   "id": "1a02515d",
   "metadata": {},
   "outputs": [
    {
     "name": "stdout",
     "output_type": "stream",
     "text": [
      "accuracy: 0.6312201772324472\n",
      "              precision    recall  f1-score   support\n",
      "\n",
      "           0       0.57      0.78      0.66      1324\n",
      "           1       0.74      0.50      0.60      1610\n",
      "\n",
      "    accuracy                           0.63      2934\n",
      "   macro avg       0.65      0.64      0.63      2934\n",
      "weighted avg       0.66      0.63      0.63      2934\n",
      "\n"
     ]
    }
   ],
   "source": [
    "y_pred_test = model.predict(X_test_sift)\n",
    "print(f\"accuracy: {accuracy_score(y_test, y_pred_test)}\")\n",
    "print(f\"{classification_report(y_test, y_pred_test)}\")"
   ]
  },
  {
   "cell_type": "code",
   "execution_count": 42,
   "id": "5cfee13c",
   "metadata": {},
   "outputs": [
    {
     "data": {
      "image/png": "[encoded data removed]",
      "text/plain": [
       "<Figure size 648x648 with 2 Axes>"
      ]
     },
     "metadata": {
      "needs_background": "light"
     },
     "output_type": "display_data"
    }
   ],
   "source": [
    "mat = metrics.confusion_matrix(y_test, y_pred_test)\n",
    "plt.figure(figsize=(9,9))\n",
    "plt.imshow(mat, interpolation='nearest', cmap='Pastel1')\n",
    "plt.title('Confusion Matrix for gender', size = 30)\n",
    "plt.colorbar()\n",
    "tick_marks = np.arange(2)\n",
    "plt.xticks(tick_marks, [\"0 Male\", \"1 Female\"], rotation=90, size = 10)\n",
    "plt.yticks(tick_marks, [\"0 Male\", \"1 Female\"], size = 10)\n",
    "plt.tight_layout()\n",
    "plt.ylabel('Actual label', size = 15)\n",
    "plt.xlabel('Predicted label', size = 15)\n",
    "width, height = mat.shape\n",
    "for x in range(width):\n",
    " for y in range(height):\n",
    "  plt.annotate(str(mat[x][y]), xy=(y, x), \n",
    "  horizontalalignment='center',\n",
    "  verticalalignment='center')"
   ]
  },
  {
   "cell_type": "code",
   "execution_count": null,
   "id": "90e8c0b2",
   "metadata": {},
   "outputs": [],
   "source": []
  }
 ],
 "metadata": {
  "kernelspec": {
   "display_name": "Python 3 (ipykernel)",
   "language": "python",
   "name": "python3"
  },
  "language_info": {
   "codemirror_mode": {
    "name": "ipython",
    "version": 3
   },
   "file_extension": ".py",
   "mimetype": "text/x-python",
   "name": "python",
   "nbconvert_exporter": "python",
   "pygments_lexer": "ipython3",
   "version": "3.9.7"
  }
 },
 "nbformat": 4,
 "nbformat_minor": 5
}
