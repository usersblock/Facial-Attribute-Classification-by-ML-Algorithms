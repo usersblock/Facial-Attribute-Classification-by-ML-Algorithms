{
 "cells": [
  {
   "cell_type": "code",
   "execution_count": 1,
   "id": "476d9130",
   "metadata": {},
   "outputs": [],
   "source": [
    "import numpy as np\n",
    "from sklearn.datasets import fetch_openml\n",
    "from sklearn.model_selection import train_test_split\n",
    "from sklearn.metrics import accuracy_score\n",
    "from sklearn.metrics import roc_auc_score\n",
    "from sklearn import metrics\n",
    "from sklearn.linear_model import SGDRegressor\n",
    "from sklearn.pipeline import make_pipeline\n",
    "from sklearn.preprocessing import StandardScaler\n",
    "from sklearn.linear_model import LogisticRegression\n",
    "import matplotlib.pyplot as plt\n",
    "import seaborn as sns\n",
    "import statsmodels.api as sm\n",
    "import pandas as pd\n",
    "from os import listdir\n",
    "from os.path import isfile, join\n",
    "import os\n",
    "import cv2\n",
    "from collections import Counter\n",
    "from sklearn.datasets import make_classification\n",
    "from imblearn.over_sampling import RandomOverSampler\n",
    "from sklearn.preprocessing import LabelEncoder"
   ]
  },
  {
   "cell_type": "code",
   "execution_count": 2,
   "id": "2a15d352",
   "metadata": {},
   "outputs": [],
   "source": [
    "from sklearn.metrics import classification_report\n",
    "from sklearn.metrics import mean_squared_error\n",
    "from sklearn.metrics import mean_absolute_error"
   ]
  },
  {
   "cell_type": "code",
   "execution_count": 3,
   "id": "5b8889ba",
   "metadata": {},
   "outputs": [],
   "source": [
    "from imblearn.over_sampling import SMOTE"
   ]
  },
  {
   "cell_type": "code",
   "execution_count": 4,
   "id": "3cd2bc63",
   "metadata": {},
   "outputs": [],
   "source": [
    "from sklearn import svm\n",
    "from sklearn.svm import SVC, SVR"
   ]
  },
  {
   "cell_type": "code",
   "execution_count": 5,
   "id": "2309823c",
   "metadata": {},
   "outputs": [],
   "source": [
    "mypath = \"C:/Users/User/Desktop/CUNY/Faces_img/cropped.tar/cropped/crop_part1\"\n"
   ]
  },
  {
   "cell_type": "code",
   "execution_count": 6,
   "id": "ea673945",
   "metadata": {},
   "outputs": [],
   "source": [
    "filenames = np.array([f for f in listdir(mypath) if isfile(join(mypath, f))])\n",
    "splitcolumns = [x.split('_')[0:3] + [mypath +'/' + x] for x in filenames if x.count('_') == 3]\n",
    "filecolumns = ['age','gender','race','file']\n",
    "filedf = pd.DataFrame(data = splitcolumns, columns = filecolumns)\n",
    "filedfnona = filedf.dropna()\n",
    "filedfnona['age']  = filedfnona['age'].astype(int)\n",
    "filedfnona['race'] = filedfnona['race'].astype(int)\n",
    "filedfnona['gender'] = filedfnona['gender'].astype(int)"
   ]
  },
  {
   "cell_type": "code",
   "execution_count": 5,
   "id": "d0eb06fa",
   "metadata": {},
   "outputs": [
    {
     "name": "stderr",
     "output_type": "stream",
     "text": [
      " 49%|████▉     | 9778/20000 [00:20<00:21, 486.61it/s]\n"
     ]
    }
   ],
   "source": [
    "from tqdm import tqdm\n",
    "images = []\n",
    "age = []\n",
    "gender = []\n",
    "race = []\n",
    "for index, row in tqdm(filedfnona.iterrows(), total=20000):\n",
    "    img = np.array(cv2.imread(mypath+'/'+row[3]))\n",
    "    img = cv2.cvtColor(img, cv2.COLOR_BGR2GRAY).ravel()\n",
    "    images.append(img)\n",
    "    age.append([row[0]])\n",
    "    gender.append([row[1]])\n",
    "    race.append([row[2]])"
   ]
  },
  {
   "cell_type": "code",
   "execution_count": 7,
   "id": "a29105cf",
   "metadata": {},
   "outputs": [
    {
     "data": {
      "text/html": [
       "<div>\n",
       "<style scoped>\n",
       "    .dataframe tbody tr th:only-of-type {\n",
       "        vertical-align: middle;\n",
       "    }\n",
       "\n",
       "    .dataframe tbody tr th {\n",
       "        vertical-align: top;\n",
       "    }\n",
       "\n",
       "    .dataframe thead th {\n",
       "        text-align: right;\n",
       "    }\n",
       "</style>\n",
       "<table border=\"1\" class=\"dataframe\">\n",
       "  <thead>\n",
       "    <tr style=\"text-align: right;\">\n",
       "      <th></th>\n",
       "      <th>age</th>\n",
       "      <th>gender</th>\n",
       "      <th>race</th>\n",
       "      <th>file</th>\n",
       "    </tr>\n",
       "  </thead>\n",
       "  <tbody>\n",
       "    <tr>\n",
       "      <th>0</th>\n",
       "      <td>100</td>\n",
       "      <td>1</td>\n",
       "      <td>0</td>\n",
       "      <td>C:/Users/User/Desktop/CUNY/Faces_img/cropped.t...</td>\n",
       "    </tr>\n",
       "    <tr>\n",
       "      <th>1</th>\n",
       "      <td>100</td>\n",
       "      <td>1</td>\n",
       "      <td>2</td>\n",
       "      <td>C:/Users/User/Desktop/CUNY/Faces_img/cropped.t...</td>\n",
       "    </tr>\n",
       "    <tr>\n",
       "      <th>2</th>\n",
       "      <td>101</td>\n",
       "      <td>1</td>\n",
       "      <td>2</td>\n",
       "      <td>C:/Users/User/Desktop/CUNY/Faces_img/cropped.t...</td>\n",
       "    </tr>\n",
       "    <tr>\n",
       "      <th>3</th>\n",
       "      <td>10</td>\n",
       "      <td>0</td>\n",
       "      <td>0</td>\n",
       "      <td>C:/Users/User/Desktop/CUNY/Faces_img/cropped.t...</td>\n",
       "    </tr>\n",
       "    <tr>\n",
       "      <th>4</th>\n",
       "      <td>10</td>\n",
       "      <td>0</td>\n",
       "      <td>0</td>\n",
       "      <td>C:/Users/User/Desktop/CUNY/Faces_img/cropped.t...</td>\n",
       "    </tr>\n",
       "  </tbody>\n",
       "</table>\n",
       "</div>"
      ],
      "text/plain": [
       "   age  gender  race                                               file\n",
       "0  100       1     0  C:/Users/User/Desktop/CUNY/Faces_img/cropped.t...\n",
       "1  100       1     2  C:/Users/User/Desktop/CUNY/Faces_img/cropped.t...\n",
       "2  101       1     2  C:/Users/User/Desktop/CUNY/Faces_img/cropped.t...\n",
       "3   10       0     0  C:/Users/User/Desktop/CUNY/Faces_img/cropped.t...\n",
       "4   10       0     0  C:/Users/User/Desktop/CUNY/Faces_img/cropped.t..."
      ]
     },
     "execution_count": 7,
     "metadata": {},
     "output_type": "execute_result"
    }
   ],
   "source": [
    "filedfnona.head()"
   ]
  },
  {
   "cell_type": "code",
   "execution_count": 8,
   "id": "b8b55714",
   "metadata": {},
   "outputs": [
    {
     "data": {
      "text/plain": [
       "9778"
      ]
     },
     "execution_count": 8,
     "metadata": {},
     "output_type": "execute_result"
    }
   ],
   "source": [
    "filedfnona['age'].count()"
   ]
  },
  {
   "cell_type": "code",
   "execution_count": 9,
   "id": "ea1490fc",
   "metadata": {},
   "outputs": [
    {
     "data": {
      "text/plain": [
       "count    9778.000000\n",
       "mean       29.415116\n",
       "std        24.775750\n",
       "min         1.000000\n",
       "25%         7.000000\n",
       "50%        25.000000\n",
       "75%        49.000000\n",
       "max       110.000000\n",
       "Name: age, dtype: float64"
      ]
     },
     "execution_count": 9,
     "metadata": {},
     "output_type": "execute_result"
    }
   ],
   "source": [
    "filedfnona['age'].describe()"
   ]
  },
  {
   "cell_type": "code",
   "execution_count": 10,
   "id": "f0b37965",
   "metadata": {},
   "outputs": [
    {
     "data": {
      "text/plain": [
       "1      1112\n",
       "2       475\n",
       "3       284\n",
       "26      279\n",
       "4       260\n",
       "       ... \n",
       "110       2\n",
       "99        2\n",
       "100       2\n",
       "91        1\n",
       "101       1\n",
       "Name: age, Length: 99, dtype: int64"
      ]
     },
     "execution_count": 10,
     "metadata": {},
     "output_type": "execute_result"
    }
   ],
   "source": [
    "filedfnona['age'].value_counts()"
   ]
  },
  {
   "cell_type": "code",
   "execution_count": 11,
   "id": "b71e0612",
   "metadata": {},
   "outputs": [
    {
     "data": {
      "text/plain": [
       "(array([3149., 1393., 1532.,  945.,  962.,  851.,  483.,  348.,  110.,\n",
       "           5.]),\n",
       " array([  1. ,  11.9,  22.8,  33.7,  44.6,  55.5,  66.4,  77.3,  88.2,\n",
       "         99.1, 110. ]),\n",
       " <BarContainer object of 10 artists>)"
      ]
     },
     "execution_count": 11,
     "metadata": {},
     "output_type": "execute_result"
    },
    {
     "data": {
      "image/png": "[encoded data removed]",
      "text/plain": [
       "<Figure size 432x288 with 1 Axes>"
      ]
     },
     "metadata": {
      "needs_background": "light"
     },
     "output_type": "display_data"
    }
   ],
   "source": [
    "plt.hist(filedfnona['age'], bins=10)"
   ]
  },
  {
   "cell_type": "code",
   "execution_count": 12,
   "id": "55d0fcbf",
   "metadata": {},
   "outputs": [
    {
     "data": {
      "text/plain": [
       "(array([5265.,    0.,  405.,    0.,    0., 1553.,    0., 1452.,    0.,\n",
       "        1103.]),\n",
       " array([0. , 0.4, 0.8, 1.2, 1.6, 2. , 2.4, 2.8, 3.2, 3.6, 4. ]),\n",
       " <BarContainer object of 10 artists>)"
      ]
     },
     "execution_count": 12,
     "metadata": {},
     "output_type": "execute_result"
    },
    {
     "data": {
      "image/png": "[encoded data removed]",
      "text/plain": [
       "<Figure size 432x288 with 1 Axes>"
      ]
     },
     "metadata": {
      "needs_background": "light"
     },
     "output_type": "display_data"
    }
   ],
   "source": [
    "plt.hist(filedfnona['race'])"
   ]
  },
  {
   "cell_type": "code",
   "execution_count": 13,
   "id": "150d23a5",
   "metadata": {},
   "outputs": [
    {
     "data": {
      "text/plain": [
       "(array([4372.,    0.,    0.,    0.,    0.,    0.,    0.,    0.,    0.,\n",
       "        5406.]),\n",
       " array([0. , 0.1, 0.2, 0.3, 0.4, 0.5, 0.6, 0.7, 0.8, 0.9, 1. ]),\n",
       " <BarContainer object of 10 artists>)"
      ]
     },
     "execution_count": 13,
     "metadata": {},
     "output_type": "execute_result"
    },
    {
     "data": {
      "image/png": "[encoded data removed]",
      "text/plain": [
       "<Figure size 432x288 with 1 Axes>"
      ]
     },
     "metadata": {
      "needs_background": "light"
     },
     "output_type": "display_data"
    }
   ],
   "source": [
    "plt.hist(filedfnona['gender'])"
   ]
  },
  {
   "cell_type": "code",
   "execution_count": 14,
   "id": "0865a585",
   "metadata": {},
   "outputs": [
    {
     "data": {
      "text/html": [
       "<div>\n",
       "<style scoped>\n",
       "    .dataframe tbody tr th:only-of-type {\n",
       "        vertical-align: middle;\n",
       "    }\n",
       "\n",
       "    .dataframe tbody tr th {\n",
       "        vertical-align: top;\n",
       "    }\n",
       "\n",
       "    .dataframe thead th {\n",
       "        text-align: right;\n",
       "    }\n",
       "</style>\n",
       "<table border=\"1\" class=\"dataframe\">\n",
       "  <thead>\n",
       "    <tr style=\"text-align: right;\">\n",
       "      <th></th>\n",
       "      <th>age</th>\n",
       "      <th>gender</th>\n",
       "      <th>race</th>\n",
       "      <th>file</th>\n",
       "    </tr>\n",
       "  </thead>\n",
       "  <tbody>\n",
       "    <tr>\n",
       "      <th>0</th>\n",
       "      <td>100</td>\n",
       "      <td>1</td>\n",
       "      <td>0</td>\n",
       "      <td>C:/Users/User/Desktop/CUNY/Faces_img/cropped.t...</td>\n",
       "    </tr>\n",
       "    <tr>\n",
       "      <th>1</th>\n",
       "      <td>100</td>\n",
       "      <td>1</td>\n",
       "      <td>2</td>\n",
       "      <td>C:/Users/User/Desktop/CUNY/Faces_img/cropped.t...</td>\n",
       "    </tr>\n",
       "    <tr>\n",
       "      <th>2</th>\n",
       "      <td>101</td>\n",
       "      <td>1</td>\n",
       "      <td>2</td>\n",
       "      <td>C:/Users/User/Desktop/CUNY/Faces_img/cropped.t...</td>\n",
       "    </tr>\n",
       "    <tr>\n",
       "      <th>3</th>\n",
       "      <td>10</td>\n",
       "      <td>0</td>\n",
       "      <td>0</td>\n",
       "      <td>C:/Users/User/Desktop/CUNY/Faces_img/cropped.t...</td>\n",
       "    </tr>\n",
       "    <tr>\n",
       "      <th>4</th>\n",
       "      <td>10</td>\n",
       "      <td>0</td>\n",
       "      <td>0</td>\n",
       "      <td>C:/Users/User/Desktop/CUNY/Faces_img/cropped.t...</td>\n",
       "    </tr>\n",
       "  </tbody>\n",
       "</table>\n",
       "</div>"
      ],
      "text/plain": [
       "   age  gender  race                                               file\n",
       "0  100       1     0  C:/Users/User/Desktop/CUNY/Faces_img/cropped.t...\n",
       "1  100       1     2  C:/Users/User/Desktop/CUNY/Faces_img/cropped.t...\n",
       "2  101       1     2  C:/Users/User/Desktop/CUNY/Faces_img/cropped.t...\n",
       "3   10       0     0  C:/Users/User/Desktop/CUNY/Faces_img/cropped.t...\n",
       "4   10       0     0  C:/Users/User/Desktop/CUNY/Faces_img/cropped.t..."
      ]
     },
     "execution_count": 14,
     "metadata": {},
     "output_type": "execute_result"
    }
   ],
   "source": [
    "balanced = filedfnona\n",
    "balanced.head()"
   ]
  },
  {
   "cell_type": "code",
   "execution_count": 15,
   "id": "981cdf71",
   "metadata": {},
   "outputs": [],
   "source": [
    "#1 infancy (0-2)\n",
    "#2 Early Childhood (Ages 3-5)\n",
    "#3 Middle Childhood (Ages 6-8)\n",
    "#4 Late Childhood (Ages 9-11)\n",
    "#5 Adolescence (Ages 12-20)\n",
    "#6 Early Adulthood (Ages 21-35)\n",
    "#7 Midlife (Ages 36-50)\n",
    "#8 Mature Adulthood (Ages 51-79)\n",
    "#9 Late Adulthood (Age 80+)"
   ]
  },
  {
   "cell_type": "code",
   "execution_count": 16,
   "id": "e6180ef2",
   "metadata": {},
   "outputs": [],
   "source": [
    "balanced['age']=np.where((balanced.age==2), 1, balanced.age)\n",
    "#balanced['age']=np.where(((balanced.age>=3) & (balanced.age<6)), 2, balanced.age)\n",
    "#balanced['age']=np.where(((balanced.age>=6) & (balanced.age<9)), 3, balanced.age)\n",
    "#balanced['age']=np.where(((balanced.age>=9) & (balanced.age<12)), 4, balanced.age)\n",
    "#balanced['age']=np.where(((balanced.age>=12) & (balanced.age<21)), 5, balanced.age)\n",
    "#balanced['age']=np.where(((balanced.age>=21) & (balanced.age<36)), 6, balanced.age)\n",
    "#balanced['age']=np.where(((balanced.age>=36) & (balanced.age<51)), 7, balanced.age)\n",
    "#balanced['age']=np.where(((balanced.age>=51) & (balanced.age<80)), 8, balanced.age)\n",
    "#balanced['age']=np.where((balanced.age>=80), 9, balanced.age)"
   ]
  },
  {
   "cell_type": "code",
   "execution_count": 17,
   "id": "8d49c19d",
   "metadata": {},
   "outputs": [],
   "source": [
    "balanced['age']=np.where(((balanced.age>=3) & (balanced.age<6)), 2, balanced.age)"
   ]
  },
  {
   "cell_type": "code",
   "execution_count": 18,
   "id": "9b16e58c",
   "metadata": {},
   "outputs": [],
   "source": [
    "balanced['age']=np.where(((balanced.age>=6) & (balanced.age<9)), 3, balanced.age)"
   ]
  },
  {
   "cell_type": "code",
   "execution_count": 19,
   "id": "e6001723",
   "metadata": {},
   "outputs": [],
   "source": [
    "balanced['age']=np.where(((balanced.age>=9) & (balanced.age<12)), 4, balanced.age)"
   ]
  },
  {
   "cell_type": "code",
   "execution_count": 20,
   "id": "4f3134df",
   "metadata": {},
   "outputs": [],
   "source": [
    "balanced['age']=np.where(((balanced.age>=12) & (balanced.age<21)), 5, balanced.age)"
   ]
  },
  {
   "cell_type": "code",
   "execution_count": 21,
   "id": "dc814cdb",
   "metadata": {},
   "outputs": [],
   "source": [
    "balanced['age']=np.where(((balanced.age>=21) & (balanced.age<36)), 6, balanced.age)"
   ]
  },
  {
   "cell_type": "code",
   "execution_count": 22,
   "id": "581aff67",
   "metadata": {},
   "outputs": [],
   "source": [
    "balanced['age']=np.where(((balanced.age>=36) & (balanced.age<51)), 7, balanced.age)"
   ]
  },
  {
   "cell_type": "code",
   "execution_count": 23,
   "id": "2d990b3f",
   "metadata": {},
   "outputs": [],
   "source": [
    "balanced['age']=np.where(((balanced.age>=51) & (balanced.age<80)), 8, balanced.age)"
   ]
  },
  {
   "cell_type": "code",
   "execution_count": 24,
   "id": "b6cfb124",
   "metadata": {},
   "outputs": [],
   "source": [
    "balanced['age']=np.where((balanced.age>=80), 9, balanced.age)"
   ]
  },
  {
   "cell_type": "code",
   "execution_count": 25,
   "id": "9b58d811",
   "metadata": {},
   "outputs": [
    {
     "data": {
      "text/plain": [
       "6    2015\n",
       "8    1866\n",
       "1    1587\n",
       "7    1213\n",
       "5    1118\n",
       "2     724\n",
       "3     476\n",
       "9     417\n",
       "4     362\n",
       "Name: age, dtype: int64"
      ]
     },
     "execution_count": 25,
     "metadata": {},
     "output_type": "execute_result"
    }
   ],
   "source": [
    "balanced['age'].value_counts()"
   ]
  },
  {
   "cell_type": "code",
   "execution_count": 26,
   "id": "89f47e45",
   "metadata": {},
   "outputs": [
    {
     "data": {
      "text/plain": [
       "0    5265\n",
       "2    1553\n",
       "3    1452\n",
       "4    1103\n",
       "1     405\n",
       "Name: race, dtype: int64"
      ]
     },
     "execution_count": 26,
     "metadata": {},
     "output_type": "execute_result"
    }
   ],
   "source": [
    "balanced['race'].value_counts()"
   ]
  },
  {
   "cell_type": "code",
   "execution_count": 27,
   "id": "24503541",
   "metadata": {},
   "outputs": [
    {
     "data": {
      "text/plain": [
       "1    5406\n",
       "0    4372\n",
       "Name: gender, dtype: int64"
      ]
     },
     "execution_count": 27,
     "metadata": {},
     "output_type": "execute_result"
    }
   ],
   "source": [
    "balanced['gender'].value_counts()"
   ]
  },
  {
   "cell_type": "code",
   "execution_count": 28,
   "id": "050b0ac6",
   "metadata": {},
   "outputs": [
    {
     "data": {
      "text/plain": [
       "(array([1587.,  724.,  476.,  362.,    0., 1118., 2015., 1213., 1866.,\n",
       "         417.]),\n",
       " array([1. , 1.8, 2.6, 3.4, 4.2, 5. , 5.8, 6.6, 7.4, 8.2, 9. ]),\n",
       " <BarContainer object of 10 artists>)"
      ]
     },
     "execution_count": 28,
     "metadata": {},
     "output_type": "execute_result"
    },
    {
     "data": {
      "image/png": "[encoded data removed]",
      "text/plain": [
       "<Figure size 432x288 with 1 Axes>"
      ]
     },
     "metadata": {
      "needs_background": "light"
     },
     "output_type": "display_data"
    }
   ],
   "source": [
    "plt.hist(balanced['age'], bins=10)"
   ]
  },
  {
   "cell_type": "code",
   "execution_count": 29,
   "id": "4b6b7f69",
   "metadata": {},
   "outputs": [
    {
     "data": {
      "text/plain": [
       "(9778,)"
      ]
     },
     "execution_count": 29,
     "metadata": {},
     "output_type": "execute_result"
    }
   ],
   "source": [
    "balanced['file'].shape"
   ]
  },
  {
   "cell_type": "code",
   "execution_count": 30,
   "id": "4af2224c",
   "metadata": {},
   "outputs": [
    {
     "data": {
      "text/html": [
       "<div>\n",
       "<style scoped>\n",
       "    .dataframe tbody tr th:only-of-type {\n",
       "        vertical-align: middle;\n",
       "    }\n",
       "\n",
       "    .dataframe tbody tr th {\n",
       "        vertical-align: top;\n",
       "    }\n",
       "\n",
       "    .dataframe thead th {\n",
       "        text-align: right;\n",
       "    }\n",
       "</style>\n",
       "<table border=\"1\" class=\"dataframe\">\n",
       "  <thead>\n",
       "    <tr style=\"text-align: right;\">\n",
       "      <th></th>\n",
       "      <th>age</th>\n",
       "      <th>gender</th>\n",
       "      <th>race</th>\n",
       "      <th>file</th>\n",
       "    </tr>\n",
       "  </thead>\n",
       "  <tbody>\n",
       "    <tr>\n",
       "      <th>0</th>\n",
       "      <td>9</td>\n",
       "      <td>1</td>\n",
       "      <td>0</td>\n",
       "      <td>C:/Users/User/Desktop/CUNY/Faces_img/cropped.t...</td>\n",
       "    </tr>\n",
       "    <tr>\n",
       "      <th>1</th>\n",
       "      <td>9</td>\n",
       "      <td>1</td>\n",
       "      <td>2</td>\n",
       "      <td>C:/Users/User/Desktop/CUNY/Faces_img/cropped.t...</td>\n",
       "    </tr>\n",
       "    <tr>\n",
       "      <th>2</th>\n",
       "      <td>9</td>\n",
       "      <td>1</td>\n",
       "      <td>2</td>\n",
       "      <td>C:/Users/User/Desktop/CUNY/Faces_img/cropped.t...</td>\n",
       "    </tr>\n",
       "    <tr>\n",
       "      <th>3</th>\n",
       "      <td>4</td>\n",
       "      <td>0</td>\n",
       "      <td>0</td>\n",
       "      <td>C:/Users/User/Desktop/CUNY/Faces_img/cropped.t...</td>\n",
       "    </tr>\n",
       "    <tr>\n",
       "      <th>4</th>\n",
       "      <td>4</td>\n",
       "      <td>0</td>\n",
       "      <td>0</td>\n",
       "      <td>C:/Users/User/Desktop/CUNY/Faces_img/cropped.t...</td>\n",
       "    </tr>\n",
       "  </tbody>\n",
       "</table>\n",
       "</div>"
      ],
      "text/plain": [
       "   age  gender  race                                               file\n",
       "0    9       1     0  C:/Users/User/Desktop/CUNY/Faces_img/cropped.t...\n",
       "1    9       1     2  C:/Users/User/Desktop/CUNY/Faces_img/cropped.t...\n",
       "2    9       1     2  C:/Users/User/Desktop/CUNY/Faces_img/cropped.t...\n",
       "3    4       0     0  C:/Users/User/Desktop/CUNY/Faces_img/cropped.t...\n",
       "4    4       0     0  C:/Users/User/Desktop/CUNY/Faces_img/cropped.t..."
      ]
     },
     "execution_count": 30,
     "metadata": {},
     "output_type": "execute_result"
    }
   ],
   "source": [
    "balanced.head()"
   ]
  },
  {
   "cell_type": "code",
   "execution_count": 31,
   "id": "bf0672f7",
   "metadata": {},
   "outputs": [],
   "source": [
    "df = balanced[['age', 'gender', 'race']]"
   ]
  },
  {
   "cell_type": "code",
   "execution_count": 32,
   "id": "e172377a",
   "metadata": {},
   "outputs": [],
   "source": [
    "df4 = balanced.values"
   ]
  },
  {
   "cell_type": "code",
   "execution_count": 33,
   "id": "9bf71184",
   "metadata": {},
   "outputs": [
    {
     "data": {
      "text/plain": [
       "array([[9, 1, 0,\n",
       "        'C:/Users/User/Desktop/CUNY/Faces_img/cropped.tar/cropped/crop_part1/100_1_0_20170110183726390.jpg.chip.jpg'],\n",
       "       [9, 1, 2,\n",
       "        'C:/Users/User/Desktop/CUNY/Faces_img/cropped.tar/cropped/crop_part1/100_1_2_20170105174847679.jpg.chip.jpg'],\n",
       "       [9, 1, 2,\n",
       "        'C:/Users/User/Desktop/CUNY/Faces_img/cropped.tar/cropped/crop_part1/101_1_2_20170105174739309.jpg.chip.jpg'],\n",
       "       ...,\n",
       "       [4, 1, 4,\n",
       "        'C:/Users/User/Desktop/CUNY/Faces_img/cropped.tar/cropped/crop_part1/9_1_4_20170103200637399.jpg.chip.jpg'],\n",
       "       [4, 1, 4,\n",
       "        'C:/Users/User/Desktop/CUNY/Faces_img/cropped.tar/cropped/crop_part1/9_1_4_20170103200814791.jpg.chip.jpg'],\n",
       "       [4, 1, 4,\n",
       "        'C:/Users/User/Desktop/CUNY/Faces_img/cropped.tar/cropped/crop_part1/9_1_4_20170103213057382.jpg.chip.jpg']],\n",
       "      dtype=object)"
      ]
     },
     "execution_count": 33,
     "metadata": {},
     "output_type": "execute_result"
    }
   ],
   "source": [
    "df4"
   ]
  },
  {
   "cell_type": "code",
   "execution_count": 34,
   "id": "9b32a0a6",
   "metadata": {},
   "outputs": [],
   "source": [
    "X_train, X_test, y_train, y_test = train_test_split(df4[:, 1:4], df4[:,0], test_size=0.33, random_state=42)"
   ]
  },
  {
   "cell_type": "code",
   "execution_count": 35,
   "id": "10f48038",
   "metadata": {},
   "outputs": [
    {
     "data": {
      "text/plain": [
       "(6551, 3)"
      ]
     },
     "execution_count": 35,
     "metadata": {},
     "output_type": "execute_result"
    }
   ],
   "source": [
    "X_train.shape"
   ]
  },
  {
   "cell_type": "code",
   "execution_count": 36,
   "id": "af2aa236",
   "metadata": {},
   "outputs": [
    {
     "data": {
      "text/plain": [
       "array([[0, 2,\n",
       "        'C:/Users/User/Desktop/CUNY/Faces_img/cropped.tar/cropped/crop_part1/1_0_2_20161219185955277.jpg.chip.jpg'],\n",
       "       [1, 3,\n",
       "        'C:/Users/User/Desktop/CUNY/Faces_img/cropped.tar/cropped/crop_part1/67_1_3_20170109151006621.jpg.chip.jpg'],\n",
       "       [0, 1,\n",
       "        'C:/Users/User/Desktop/CUNY/Faces_img/cropped.tar/cropped/crop_part1/12_0_1_20170110224244673.jpg.chip.jpg'],\n",
       "       ...,\n",
       "       [0, 0,\n",
       "        'C:/Users/User/Desktop/CUNY/Faces_img/cropped.tar/cropped/crop_part1/3_0_0_20170110213048070.jpg.chip.jpg'],\n",
       "       [1, 3,\n",
       "        'C:/Users/User/Desktop/CUNY/Faces_img/cropped.tar/cropped/crop_part1/16_1_3_20170104221802006.jpg.chip.jpg'],\n",
       "       [1, 0,\n",
       "        'C:/Users/User/Desktop/CUNY/Faces_img/cropped.tar/cropped/crop_part1/56_1_0_20170110153005989.jpg.chip.jpg']],\n",
       "      dtype=object)"
      ]
     },
     "execution_count": 36,
     "metadata": {},
     "output_type": "execute_result"
    }
   ],
   "source": [
    "X_train"
   ]
  },
  {
   "cell_type": "code",
   "execution_count": 37,
   "id": "439b7278",
   "metadata": {},
   "outputs": [],
   "source": [
    "X3, y3 = X_train, y_train"
   ]
  },
  {
   "cell_type": "code",
   "execution_count": 38,
   "id": "cccc45b0",
   "metadata": {},
   "outputs": [
    {
     "name": "stdout",
     "output_type": "stream",
     "text": [
      "Class=0, n=1059 (16.165%)\n",
      "Class=7, n=1274 (19.447%)\n",
      "Class=4, n=747 (11.403%)\n",
      "Class=2, n=305 (4.656%)\n",
      "Class=5, n=1328 (20.272%)\n",
      "Class=1, n=490 (7.480%)\n",
      "Class=6, n=828 (12.639%)\n",
      "Class=3, n=230 (3.511%)\n",
      "Class=8, n=290 (4.427%)\n"
     ]
    }
   ],
   "source": [
    "y3 = LabelEncoder().fit_transform(y3)\n",
    "# summarize distribution\n",
    "counter = Counter(y3)\n",
    "for k,v in counter.items():\n",
    "    per = v / len(y3) * 100\n",
    "    print('Class=%d, n=%d (%.3f%%)' % (k, v, per))\n"
   ]
  },
  {
   "cell_type": "code",
   "execution_count": 39,
   "id": "bfc812d3",
   "metadata": {},
   "outputs": [
    {
     "data": {
      "image/png": "[encoded data removed]",
      "text/plain": [
       "<Figure size 432x288 with 1 Axes>"
      ]
     },
     "metadata": {
      "needs_background": "light"
     },
     "output_type": "display_data"
    }
   ],
   "source": [
    "# plot the distribution\n",
    "plt.bar(counter.keys(), counter.values())\n",
    "plt.show()"
   ]
  },
  {
   "cell_type": "code",
   "execution_count": 40,
   "id": "f86371e9",
   "metadata": {},
   "outputs": [],
   "source": [
    "from imblearn.over_sampling import (RandomOverSampler, \n",
    "                                    SMOTE, \n",
    "                                    ADASYN)"
   ]
  },
  {
   "cell_type": "code",
   "execution_count": 41,
   "id": "ad450b67",
   "metadata": {},
   "outputs": [
    {
     "name": "stdout",
     "output_type": "stream",
     "text": [
      "Class=0, n=1328 (11.111%)\n",
      "Class=7, n=1328 (11.111%)\n",
      "Class=4, n=1328 (11.111%)\n",
      "Class=2, n=1328 (11.111%)\n",
      "Class=5, n=1328 (11.111%)\n",
      "Class=1, n=1328 (11.111%)\n",
      "Class=6, n=1328 (11.111%)\n",
      "Class=3, n=1328 (11.111%)\n",
      "Class=8, n=1328 (11.111%)\n"
     ]
    }
   ],
   "source": [
    "# transform the dataset\n",
    "oversample = RandomOverSampler()\n",
    "X3, y3 = oversample.fit_resample(X3, y3)\n",
    "# summarize distribution\n",
    "counter = Counter(y3)\n",
    "for k,v in counter.items():\n",
    "    per = v / len(y3) * 100\n",
    "    print('Class=%d, n=%d (%.3f%%)' % (k, v, per))"
   ]
  },
  {
   "cell_type": "code",
   "execution_count": 42,
   "id": "e4c8307d",
   "metadata": {},
   "outputs": [
    {
     "data": {
      "image/png": "[encoded data removed]",
      "text/plain": [
       "<Figure size 432x288 with 1 Axes>"
      ]
     },
     "metadata": {
      "needs_background": "light"
     },
     "output_type": "display_data"
    }
   ],
   "source": [
    "# plot the distribution\n",
    "plt.bar(counter.keys(), counter.values())\n",
    "plt.xlabel('The Stages of the Human Life Cycle')\n",
    "plt.show()"
   ]
  },
  {
   "cell_type": "code",
   "execution_count": 43,
   "id": "cae0a87d",
   "metadata": {},
   "outputs": [
    {
     "data": {
      "text/plain": [
       "(11952, 3)"
      ]
     },
     "execution_count": 43,
     "metadata": {},
     "output_type": "execute_result"
    }
   ],
   "source": [
    "X3.shape"
   ]
  },
  {
   "cell_type": "code",
   "execution_count": 44,
   "id": "712d88cc",
   "metadata": {},
   "outputs": [
    {
     "data": {
      "text/plain": [
       "(11952,)"
      ]
     },
     "execution_count": 44,
     "metadata": {},
     "output_type": "execute_result"
    }
   ],
   "source": [
    "y3.shape"
   ]
  },
  {
   "cell_type": "code",
   "execution_count": 45,
   "id": "0b512ba0",
   "metadata": {},
   "outputs": [],
   "source": [
    "age_b_array = np.column_stack( (X3, y3) )"
   ]
  },
  {
   "cell_type": "code",
   "execution_count": 46,
   "id": "51aa73a6",
   "metadata": {},
   "outputs": [
    {
     "data": {
      "text/plain": [
       "array([[0, 2,\n",
       "        'C:/Users/User/Desktop/CUNY/Faces_img/cropped.tar/cropped/crop_part1/1_0_2_20161219185955277.jpg.chip.jpg',\n",
       "        0],\n",
       "       [1, 3,\n",
       "        'C:/Users/User/Desktop/CUNY/Faces_img/cropped.tar/cropped/crop_part1/67_1_3_20170109151006621.jpg.chip.jpg',\n",
       "        7],\n",
       "       [0, 1,\n",
       "        'C:/Users/User/Desktop/CUNY/Faces_img/cropped.tar/cropped/crop_part1/12_0_1_20170110224244673.jpg.chip.jpg',\n",
       "        4],\n",
       "       ...,\n",
       "       [1, 0,\n",
       "        'C:/Users/User/Desktop/CUNY/Faces_img/cropped.tar/cropped/crop_part1/88_1_0_20170110183542726.jpg.chip.jpg',\n",
       "        8],\n",
       "       [1, 0,\n",
       "        'C:/Users/User/Desktop/CUNY/Faces_img/cropped.tar/cropped/crop_part1/85_1_0_20170110183618363.jpg.chip.jpg',\n",
       "        8],\n",
       "       [0, 0,\n",
       "        'C:/Users/User/Desktop/CUNY/Faces_img/cropped.tar/cropped/crop_part1/90_0_0_20170111211415063.jpg.chip.jpg',\n",
       "        8]], dtype=object)"
      ]
     },
     "execution_count": 46,
     "metadata": {},
     "output_type": "execute_result"
    }
   ],
   "source": [
    "age_b_array"
   ]
  },
  {
   "cell_type": "code",
   "execution_count": 47,
   "id": "cf53d1ac",
   "metadata": {},
   "outputs": [],
   "source": [
    "#gender\n",
    "Xr, yr = age_b_array[:, 1:4], age_b_array[:,0]"
   ]
  },
  {
   "cell_type": "code",
   "execution_count": 48,
   "id": "2c6aba33",
   "metadata": {},
   "outputs": [
    {
     "name": "stdout",
     "output_type": "stream",
     "text": [
      "Class=0, n=5251 (43.934%)\n",
      "Class=1, n=6701 (56.066%)\n"
     ]
    }
   ],
   "source": [
    "yr = LabelEncoder().fit_transform(yr)\n",
    "# summarize distribution\n",
    "counter = Counter(yr)\n",
    "for k,v in counter.items():\n",
    "    per = v / len(yr) * 100\n",
    "    print('Class=%d, n=%d (%.3f%%)' % (k, v, per))\n"
   ]
  },
  {
   "cell_type": "code",
   "execution_count": 49,
   "id": "18c4a989",
   "metadata": {},
   "outputs": [
    {
     "data": {
      "image/png": "[encoded data removed]",
      "text/plain": [
       "<Figure size 432x288 with 1 Axes>"
      ]
     },
     "metadata": {
      "needs_background": "light"
     },
     "output_type": "display_data"
    }
   ],
   "source": [
    "#imbalanced gender\n",
    "plt.bar(counter.keys(), counter.values())\n",
    "plt.show()"
   ]
  },
  {
   "cell_type": "code",
   "execution_count": 50,
   "id": "2bb27090",
   "metadata": {},
   "outputs": [
    {
     "name": "stdout",
     "output_type": "stream",
     "text": [
      "Class=0, n=6701 (50.000%)\n",
      "Class=1, n=6701 (50.000%)\n"
     ]
    }
   ],
   "source": [
    "# transform the dataset\n",
    "oversample = RandomOverSampler()\n",
    "Xr, yr = oversample.fit_resample(Xr, yr)\n",
    "# summarize distribution\n",
    "counter = Counter(yr)\n",
    "for k,v in counter.items():\n",
    "    per = v / len(yr) * 100\n",
    "    print('Class=%d, n=%d (%.3f%%)' % (k, v, per))"
   ]
  },
  {
   "cell_type": "code",
   "execution_count": 51,
   "id": "6cb9bb35",
   "metadata": {},
   "outputs": [
    {
     "data": {
      "image/png": "[encoded data removed]",
      "text/plain": [
       "<Figure size 432x288 with 1 Axes>"
      ]
     },
     "metadata": {
      "needs_background": "light"
     },
     "output_type": "display_data"
    }
   ],
   "source": [
    "# plot the distribution balanced gender\n",
    "plt.bar(counter.keys(), counter.values())\n",
    "plt.xlabel('Gender 0-male 1-female')\n",
    "plt.show()"
   ]
  },
  {
   "cell_type": "code",
   "execution_count": 52,
   "id": "0b0cc61f",
   "metadata": {},
   "outputs": [
    {
     "data": {
      "text/plain": [
       "(13402, 3)"
      ]
     },
     "execution_count": 52,
     "metadata": {},
     "output_type": "execute_result"
    }
   ],
   "source": [
    "Xr.shape"
   ]
  },
  {
   "cell_type": "code",
   "execution_count": 53,
   "id": "7f09a397",
   "metadata": {},
   "outputs": [],
   "source": [
    "gender_b_array = np.column_stack( (Xr, yr) )"
   ]
  },
  {
   "cell_type": "code",
   "execution_count": 54,
   "id": "b7e4c28f",
   "metadata": {},
   "outputs": [
    {
     "data": {
      "text/plain": [
       "array([[2,\n",
       "        'C:/Users/User/Desktop/CUNY/Faces_img/cropped.tar/cropped/crop_part1/1_0_2_20161219185955277.jpg.chip.jpg',\n",
       "        0, 0],\n",
       "       [3,\n",
       "        'C:/Users/User/Desktop/CUNY/Faces_img/cropped.tar/cropped/crop_part1/67_1_3_20170109151006621.jpg.chip.jpg',\n",
       "        7, 1],\n",
       "       [1,\n",
       "        'C:/Users/User/Desktop/CUNY/Faces_img/cropped.tar/cropped/crop_part1/12_0_1_20170110224244673.jpg.chip.jpg',\n",
       "        4, 0],\n",
       "       ...,\n",
       "       [0,\n",
       "        'C:/Users/User/Desktop/CUNY/Faces_img/cropped.tar/cropped/crop_part1/9_0_0_20170110224738342.jpg.chip.jpg',\n",
       "        3, 0],\n",
       "       [0,\n",
       "        'C:/Users/User/Desktop/CUNY/Faces_img/cropped.tar/cropped/crop_part1/44_0_0_20170105173313757.jpg.chip.jpg',\n",
       "        6, 0],\n",
       "       [0,\n",
       "        'C:/Users/User/Desktop/CUNY/Faces_img/cropped.tar/cropped/crop_part1/10_0_0_20170110220255346.jpg.chip.jpg',\n",
       "        3, 0]], dtype=object)"
      ]
     },
     "execution_count": 54,
     "metadata": {},
     "output_type": "execute_result"
    }
   ],
   "source": [
    "gender_b_array"
   ]
  },
  {
   "cell_type": "code",
   "execution_count": 55,
   "id": "89e8a8ba",
   "metadata": {},
   "outputs": [],
   "source": [
    "#race\n",
    "Xrace, yrace = gender_b_array[:, 1:4], gender_b_array[:,0]"
   ]
  },
  {
   "cell_type": "code",
   "execution_count": 56,
   "id": "5b069b6b",
   "metadata": {},
   "outputs": [
    {
     "name": "stdout",
     "output_type": "stream",
     "text": [
      "Class=2, n=1999 (14.916%)\n",
      "Class=3, n=1641 (12.244%)\n",
      "Class=1, n=585 (4.365%)\n",
      "Class=0, n=7764 (57.932%)\n",
      "Class=4, n=1413 (10.543%)\n"
     ]
    }
   ],
   "source": [
    "yrace = LabelEncoder().fit_transform(yrace)\n",
    "# summarize distribution\n",
    "counter = Counter(yrace)\n",
    "for k,v in counter.items():\n",
    "    per = v / len(yrace) * 100\n",
    "    print('Class=%d, n=%d (%.3f%%)' % (k, v, per))"
   ]
  },
  {
   "cell_type": "code",
   "execution_count": 57,
   "id": "6a752ab2",
   "metadata": {},
   "outputs": [
    {
     "data": {
      "image/png": "[encoded data removed]",
      "text/plain": [
       "<Figure size 432x288 with 1 Axes>"
      ]
     },
     "metadata": {
      "needs_background": "light"
     },
     "output_type": "display_data"
    }
   ],
   "source": [
    "#imbalanced race\n",
    "plt.bar(counter.keys(), counter.values())\n",
    "plt.show()"
   ]
  },
  {
   "cell_type": "code",
   "execution_count": 58,
   "id": "32639d01",
   "metadata": {},
   "outputs": [
    {
     "name": "stdout",
     "output_type": "stream",
     "text": [
      "Class=2, n=7764 (20.000%)\n",
      "Class=3, n=7764 (20.000%)\n",
      "Class=1, n=7764 (20.000%)\n",
      "Class=0, n=7764 (20.000%)\n",
      "Class=4, n=7764 (20.000%)\n"
     ]
    }
   ],
   "source": [
    "# transform the dataset\n",
    "oversample = RandomOverSampler()\n",
    "Xrace, yrace = oversample.fit_resample(Xrace, yrace)\n",
    "# summarize distribution\n",
    "counter = Counter(yrace)\n",
    "for k,v in counter.items():\n",
    "    per = v / len(yrace) * 100\n",
    "    print('Class=%d, n=%d (%.3f%%)' % (k, v, per))"
   ]
  },
  {
   "cell_type": "code",
   "execution_count": 59,
   "id": "4b8ada43",
   "metadata": {},
   "outputs": [
    {
     "data": {
      "image/png": "[encoded data removed]",
      "text/plain": [
       "<Figure size 432x288 with 1 Axes>"
      ]
     },
     "metadata": {
      "needs_background": "light"
     },
     "output_type": "display_data"
    }
   ],
   "source": [
    "# plot the distribution balanced race\n",
    "plt.bar(counter.keys(), counter.values())\n",
    "plt.xlabel('Race 0-White, 1-Black, 2-Asian, 3-Indian, 4-Others')\n",
    "plt.show()"
   ]
  },
  {
   "cell_type": "code",
   "execution_count": 60,
   "id": "40c1ac19",
   "metadata": {},
   "outputs": [
    {
     "data": {
      "text/plain": [
       "(38820, 3)"
      ]
     },
     "execution_count": 60,
     "metadata": {},
     "output_type": "execute_result"
    }
   ],
   "source": [
    "Xrace.shape"
   ]
  },
  {
   "cell_type": "code",
   "execution_count": 61,
   "id": "ef45a3d3",
   "metadata": {},
   "outputs": [],
   "source": [
    "race_b_array = np.column_stack( (Xrace, yrace) )"
   ]
  },
  {
   "cell_type": "code",
   "execution_count": 62,
   "id": "7ce8b5f1",
   "metadata": {},
   "outputs": [
    {
     "data": {
      "text/plain": [
       "array([['C:/Users/User/Desktop/CUNY/Faces_img/cropped.tar/cropped/crop_part1/1_0_2_20161219185955277.jpg.chip.jpg',\n",
       "        0, 0, 2],\n",
       "       ['C:/Users/User/Desktop/CUNY/Faces_img/cropped.tar/cropped/crop_part1/67_1_3_20170109151006621.jpg.chip.jpg',\n",
       "        7, 1, 3],\n",
       "       ['C:/Users/User/Desktop/CUNY/Faces_img/cropped.tar/cropped/crop_part1/12_0_1_20170110224244673.jpg.chip.jpg',\n",
       "        4, 0, 1],\n",
       "       ...,\n",
       "       ['C:/Users/User/Desktop/CUNY/Faces_img/cropped.tar/cropped/crop_part1/2_0_4_20161221195216736.jpg.chip.jpg',\n",
       "        0, 0, 4],\n",
       "       ['C:/Users/User/Desktop/CUNY/Faces_img/cropped.tar/cropped/crop_part1/4_1_4_20170103230711649.jpg.chip.jpg',\n",
       "        1, 1, 4],\n",
       "       ['C:/Users/User/Desktop/CUNY/Faces_img/cropped.tar/cropped/crop_part1/20_1_4_20170103224354767.jpg.chip.jpg',\n",
       "        4, 1, 4]], dtype=object)"
      ]
     },
     "execution_count": 62,
     "metadata": {},
     "output_type": "execute_result"
    }
   ],
   "source": [
    "race_b_array"
   ]
  },
  {
   "cell_type": "code",
   "execution_count": 63,
   "id": "94a2cde7",
   "metadata": {},
   "outputs": [],
   "source": [
    "df2 = pd.DataFrame(race_b_array, columns = ['file','age','gender', 'race'])\n"
   ]
  },
  {
   "cell_type": "code",
   "execution_count": 64,
   "id": "a55af651",
   "metadata": {},
   "outputs": [
    {
     "name": "stdout",
     "output_type": "stream",
     "text": [
      "                                                    file age gender race\n",
      "0      C:/Users/User/Desktop/CUNY/Faces_img/cropped.t...   0      0    2\n",
      "1      C:/Users/User/Desktop/CUNY/Faces_img/cropped.t...   7      1    3\n",
      "2      C:/Users/User/Desktop/CUNY/Faces_img/cropped.t...   4      0    1\n",
      "3      C:/Users/User/Desktop/CUNY/Faces_img/cropped.t...   4      1    2\n",
      "4      C:/Users/User/Desktop/CUNY/Faces_img/cropped.t...   7      0    0\n",
      "...                                                  ...  ..    ...  ...\n",
      "38815  C:/Users/User/Desktop/CUNY/Faces_img/cropped.t...   6      0    4\n",
      "38816  C:/Users/User/Desktop/CUNY/Faces_img/cropped.t...   4      1    4\n",
      "38817  C:/Users/User/Desktop/CUNY/Faces_img/cropped.t...   0      0    4\n",
      "38818  C:/Users/User/Desktop/CUNY/Faces_img/cropped.t...   1      1    4\n",
      "38819  C:/Users/User/Desktop/CUNY/Faces_img/cropped.t...   4      1    4\n",
      "\n",
      "[38820 rows x 4 columns]\n",
      "<class 'pandas.core.frame.DataFrame'>\n"
     ]
    }
   ],
   "source": [
    "print(df2)\n",
    "print(type(df2))"
   ]
  },
  {
   "cell_type": "code",
   "execution_count": 65,
   "id": "7d6a4976",
   "metadata": {},
   "outputs": [],
   "source": [
    "df3=df2.iloc[:500]"
   ]
  },
  {
   "cell_type": "code",
   "execution_count": 66,
   "id": "e9ce5961",
   "metadata": {},
   "outputs": [],
   "source": [
    "imagessl = []\n",
    "for img_path in df3['file']:\n",
    "    image = plt.imread(img_path)\n",
    "    imagessl.append(image)"
   ]
  },
  {
   "cell_type": "code",
   "execution_count": 91,
   "id": "1b2374c0",
   "metadata": {},
   "outputs": [
    {
     "name": "stderr",
     "output_type": "stream",
     "text": [
      "C:\\Users\\User\\AppData\\Local\\Temp/ipykernel_14728/957641470.py:1: SettingWithCopyWarning: \n",
      "A value is trying to be set on a copy of a slice from a DataFrame.\n",
      "Try using .loc[row_indexer,col_indexer] = value instead\n",
      "\n",
      "See the caveats in the documentation: https://pandas.pydata.org/pandas-docs/stable/user_guide/indexing.html#returning-a-view-versus-a-copy\n",
      "  df3['gender'] = df3['gender'].astype(int)\n"
     ]
    }
   ],
   "source": [
    "df3['gender'] = df3['gender'].astype(int)"
   ]
  },
  {
   "cell_type": "code",
   "execution_count": 67,
   "id": "cc8ec5e2",
   "metadata": {},
   "outputs": [],
   "source": [
    "y_gender=df3['gender'].astype(int)"
   ]
  },
  {
   "cell_type": "code",
   "execution_count": 68,
   "id": "c7d06c84",
   "metadata": {},
   "outputs": [],
   "source": [
    "X_img_df3 =np.array(imagessl)"
   ]
  },
  {
   "cell_type": "code",
   "execution_count": 69,
   "id": "a9443fe5",
   "metadata": {},
   "outputs": [
    {
     "data": {
      "text/plain": [
       "(500, 200, 200, 3)"
      ]
     },
     "execution_count": 69,
     "metadata": {},
     "output_type": "execute_result"
    }
   ],
   "source": [
    "X_img_df3.shape"
   ]
  },
  {
   "cell_type": "code",
   "execution_count": 70,
   "id": "10a87b20",
   "metadata": {},
   "outputs": [],
   "source": [
    "X_scaled_df3 = X_img_df3/ 255.0"
   ]
  },
  {
   "cell_type": "code",
   "execution_count": 71,
   "id": "da97616e",
   "metadata": {},
   "outputs": [
    {
     "data": {
      "text/plain": [
       "(500, 200, 200, 3)"
      ]
     },
     "execution_count": 71,
     "metadata": {},
     "output_type": "execute_result"
    }
   ],
   "source": [
    "X_scaled_df3.shape"
   ]
  },
  {
   "cell_type": "code",
   "execution_count": 72,
   "id": "0006d741",
   "metadata": {},
   "outputs": [],
   "source": [
    "nimages, nX, ny, nrgb = X_scaled_df3.shape\n",
    "X_scaled_df3 = X_scaled_df3.reshape((nimages,nX*ny*nrgb))"
   ]
  },
  {
   "cell_type": "code",
   "execution_count": 73,
   "id": "38287006",
   "metadata": {},
   "outputs": [],
   "source": [
    "model_df3 = SVC(kernel = 'linear', C=1.0, random_state=42, verbose = True)"
   ]
  },
  {
   "cell_type": "code",
   "execution_count": 74,
   "id": "387595a7",
   "metadata": {},
   "outputs": [
    {
     "name": "stdout",
     "output_type": "stream",
     "text": [
      "[LibSVM]"
     ]
    },
    {
     "data": {
      "text/plain": [
       "SVC(kernel='linear', random_state=42, verbose=True)"
      ]
     },
     "execution_count": 74,
     "metadata": {},
     "output_type": "execute_result"
    }
   ],
   "source": [
    "model_df3.fit(X_scaled_df3, y_gender)"
   ]
  },
  {
   "cell_type": "code",
   "execution_count": 75,
   "id": "a60dfa8e",
   "metadata": {},
   "outputs": [],
   "source": [
    "y_pred_gender = model_df3.predict(X_scaled_df3)"
   ]
  },
  {
   "cell_type": "code",
   "execution_count": 76,
   "id": "74243c49",
   "metadata": {},
   "outputs": [
    {
     "name": "stdout",
     "output_type": "stream",
     "text": [
      "accuracy: 1.0\n",
      "              precision    recall  f1-score   support\n",
      "\n",
      "           0       1.00      1.00      1.00       221\n",
      "           1       1.00      1.00      1.00       279\n",
      "\n",
      "    accuracy                           1.00       500\n",
      "   macro avg       1.00      1.00      1.00       500\n",
      "weighted avg       1.00      1.00      1.00       500\n",
      "\n"
     ]
    }
   ],
   "source": [
    "print(f\"accuracy: {accuracy_score(y_gender, y_pred_gender)}\")\n",
    "print(f\"{classification_report(y_gender, y_pred_gender)}\")"
   ]
  },
  {
   "cell_type": "code",
   "execution_count": 77,
   "id": "41f8a1ad",
   "metadata": {},
   "outputs": [
    {
     "data": {
      "text/plain": [
       "(3227,)"
      ]
     },
     "execution_count": 77,
     "metadata": {},
     "output_type": "execute_result"
    }
   ],
   "source": [
    "y_test.shape"
   ]
  },
  {
   "cell_type": "code",
   "execution_count": 78,
   "id": "0301836e",
   "metadata": {},
   "outputs": [],
   "source": [
    "y_test_gender = X_test[:,0].astype(int)"
   ]
  },
  {
   "cell_type": "code",
   "execution_count": 79,
   "id": "ab511e73",
   "metadata": {},
   "outputs": [],
   "source": [
    "images_test = []\n",
    "for img_path in X_test[:,-1]:\n",
    "    image = plt.imread(img_path)\n",
    "    images_test.append(image)"
   ]
  },
  {
   "cell_type": "code",
   "execution_count": 80,
   "id": "75eb6cf3",
   "metadata": {},
   "outputs": [],
   "source": [
    "X_test_new=np.array(images_test)"
   ]
  },
  {
   "cell_type": "code",
   "execution_count": 81,
   "id": "a068618d",
   "metadata": {},
   "outputs": [
    {
     "data": {
      "text/plain": [
       "(3227, 200, 200, 3)"
      ]
     },
     "execution_count": 81,
     "metadata": {},
     "output_type": "execute_result"
    }
   ],
   "source": [
    "X_test_new.shape"
   ]
  },
  {
   "cell_type": "code",
   "execution_count": 83,
   "id": "3381be31",
   "metadata": {},
   "outputs": [],
   "source": [
    "nimages, nX, ny, nrgb = X_test_new.shape\n",
    "X_test_new = X_test_new.reshape((nimages,nX*ny*nrgb))"
   ]
  },
  {
   "cell_type": "code",
   "execution_count": 84,
   "id": "b5f600b6",
   "metadata": {},
   "outputs": [
    {
     "name": "stdout",
     "output_type": "stream",
     "text": [
      "accuracy: 0.6919739696312365\n",
      "              precision    recall  f1-score   support\n",
      "\n",
      "           0       0.61      0.88      0.72      1451\n",
      "           1       0.84      0.54      0.66      1776\n",
      "\n",
      "    accuracy                           0.69      3227\n",
      "   macro avg       0.73      0.71      0.69      3227\n",
      "weighted avg       0.74      0.69      0.69      3227\n",
      "\n"
     ]
    }
   ],
   "source": [
    "y_pred_test_gender = model_df3.predict(X_test_new)\n",
    "print(f\"accuracy: {accuracy_score(y_test_gender, y_pred_test_gender)}\")\n",
    "print(f\"{classification_report(y_test_gender, y_pred_test_gender)}\")"
   ]
  },
  {
   "cell_type": "markdown",
   "id": "b954b55d",
   "metadata": {},
   "source": [
    "## Race balanced - SVM"
   ]
  },
  {
   "cell_type": "code",
   "execution_count": 88,
   "id": "8bbe98b9",
   "metadata": {},
   "outputs": [],
   "source": [
    "y_test_race = X_test[:,1].astype(int)"
   ]
  },
  {
   "cell_type": "code",
   "execution_count": 90,
   "id": "8eef3008",
   "metadata": {},
   "outputs": [
    {
     "name": "stdout",
     "output_type": "stream",
     "text": [
      "accuracy: 0.36163619460799507\n",
      "              precision    recall  f1-score   support\n",
      "\n",
      "           0       0.54      0.65      0.59      1740\n",
      "           1       0.04      0.35      0.07       124\n",
      "           2       0.00      0.00      0.00       518\n",
      "           3       0.00      0.00      0.00       497\n",
      "           4       0.00      0.00      0.00       348\n",
      "\n",
      "    accuracy                           0.36      3227\n",
      "   macro avg       0.12      0.20      0.13      3227\n",
      "weighted avg       0.29      0.36      0.32      3227\n",
      "\n"
     ]
    },
    {
     "name": "stderr",
     "output_type": "stream",
     "text": [
      "C:\\Users\\User\\anaconda3\\lib\\site-packages\\sklearn\\metrics\\_classification.py:1318: UndefinedMetricWarning: Precision and F-score are ill-defined and being set to 0.0 in labels with no predicted samples. Use `zero_division` parameter to control this behavior.\n",
      "  _warn_prf(average, modifier, msg_start, len(result))\n",
      "C:\\Users\\User\\anaconda3\\lib\\site-packages\\sklearn\\metrics\\_classification.py:1318: UndefinedMetricWarning: Precision and F-score are ill-defined and being set to 0.0 in labels with no predicted samples. Use `zero_division` parameter to control this behavior.\n",
      "  _warn_prf(average, modifier, msg_start, len(result))\n",
      "C:\\Users\\User\\anaconda3\\lib\\site-packages\\sklearn\\metrics\\_classification.py:1318: UndefinedMetricWarning: Precision and F-score are ill-defined and being set to 0.0 in labels with no predicted samples. Use `zero_division` parameter to control this behavior.\n",
      "  _warn_prf(average, modifier, msg_start, len(result))\n"
     ]
    }
   ],
   "source": [
    "y_pred_test_race = model_df3.predict(X_test_new)\n",
    "print(f\"accuracy: {accuracy_score(y_test_race, y_pred_test_race)}\")\n",
    "print(f\"{classification_report(y_test_race, y_pred_test_race)}\")"
   ]
  },
  {
   "cell_type": "markdown",
   "id": "fb8867cd",
   "metadata": {},
   "source": [
    "# Age Balanced - SVM"
   ]
  },
  {
   "cell_type": "code",
   "execution_count": 91,
   "id": "f09275d2",
   "metadata": {},
   "outputs": [],
   "source": [
    "y_test_age = y_test.astype(int)"
   ]
  },
  {
   "cell_type": "code",
   "execution_count": 92,
   "id": "54a53330",
   "metadata": {},
   "outputs": [
    {
     "name": "stdout",
     "output_type": "stream",
     "text": [
      "accuracy: 0.03160830492717694\n",
      "              precision    recall  f1-score   support\n",
      "\n",
      "           0       0.00      0.00      0.00         0\n",
      "           1       0.09      0.19      0.12       528\n",
      "           2       0.00      0.00      0.00       234\n",
      "           3       0.00      0.00      0.00       171\n",
      "           4       0.00      0.00      0.00       132\n",
      "           5       0.00      0.00      0.00       371\n",
      "           6       0.00      0.00      0.00       687\n",
      "           7       0.00      0.00      0.00       385\n",
      "           8       0.00      0.00      0.00       592\n",
      "           9       0.00      0.00      0.00       127\n",
      "\n",
      "    accuracy                           0.03      3227\n",
      "   macro avg       0.01      0.02      0.01      3227\n",
      "weighted avg       0.01      0.03      0.02      3227\n",
      "\n"
     ]
    },
    {
     "name": "stderr",
     "output_type": "stream",
     "text": [
      "C:\\Users\\User\\anaconda3\\lib\\site-packages\\sklearn\\metrics\\_classification.py:1318: UndefinedMetricWarning: Precision and F-score are ill-defined and being set to 0.0 in labels with no predicted samples. Use `zero_division` parameter to control this behavior.\n",
      "  _warn_prf(average, modifier, msg_start, len(result))\n",
      "C:\\Users\\User\\anaconda3\\lib\\site-packages\\sklearn\\metrics\\_classification.py:1318: UndefinedMetricWarning: Recall and F-score are ill-defined and being set to 0.0 in labels with no true samples. Use `zero_division` parameter to control this behavior.\n",
      "  _warn_prf(average, modifier, msg_start, len(result))\n",
      "C:\\Users\\User\\anaconda3\\lib\\site-packages\\sklearn\\metrics\\_classification.py:1318: UndefinedMetricWarning: Precision and F-score are ill-defined and being set to 0.0 in labels with no predicted samples. Use `zero_division` parameter to control this behavior.\n",
      "  _warn_prf(average, modifier, msg_start, len(result))\n",
      "C:\\Users\\User\\anaconda3\\lib\\site-packages\\sklearn\\metrics\\_classification.py:1318: UndefinedMetricWarning: Recall and F-score are ill-defined and being set to 0.0 in labels with no true samples. Use `zero_division` parameter to control this behavior.\n",
      "  _warn_prf(average, modifier, msg_start, len(result))\n",
      "C:\\Users\\User\\anaconda3\\lib\\site-packages\\sklearn\\metrics\\_classification.py:1318: UndefinedMetricWarning: Precision and F-score are ill-defined and being set to 0.0 in labels with no predicted samples. Use `zero_division` parameter to control this behavior.\n",
      "  _warn_prf(average, modifier, msg_start, len(result))\n",
      "C:\\Users\\User\\anaconda3\\lib\\site-packages\\sklearn\\metrics\\_classification.py:1318: UndefinedMetricWarning: Recall and F-score are ill-defined and being set to 0.0 in labels with no true samples. Use `zero_division` parameter to control this behavior.\n",
      "  _warn_prf(average, modifier, msg_start, len(result))\n"
     ]
    }
   ],
   "source": [
    "y_pred_test_age = model_df3.predict(X_test_new)\n",
    "print(f\"accuracy: {accuracy_score(y_test_age, y_pred_test_age)}\")\n",
    "print(f\"{classification_report(y_test_age, y_pred_test_age)}\")"
   ]
  },
  {
   "cell_type": "code",
   "execution_count": null,
   "id": "5a757c88",
   "metadata": {},
   "outputs": [],
   "source": []
  },
  {
   "cell_type": "code",
   "execution_count": 77,
   "id": "259af895",
   "metadata": {},
   "outputs": [],
   "source": [
    "images = []\n",
    "for img_path in df2['file']:\n",
    "    image = plt.imread(img_path)\n",
    "    images.append(image)"
   ]
  },
  {
   "cell_type": "code",
   "execution_count": 85,
   "id": "fd0bf597",
   "metadata": {},
   "outputs": [],
   "source": [
    "y_gender=df2['gender']"
   ]
  },
  {
   "cell_type": "code",
   "execution_count": 86,
   "id": "bc258f4c",
   "metadata": {},
   "outputs": [
    {
     "data": {
      "text/plain": [
       "(38445,)"
      ]
     },
     "execution_count": 86,
     "metadata": {},
     "output_type": "execute_result"
    }
   ],
   "source": [
    "y_gender.shape"
   ]
  },
  {
   "cell_type": "code",
   "execution_count": 78,
   "id": "0e48435c",
   "metadata": {},
   "outputs": [],
   "source": [
    "X_img =np.array(images)"
   ]
  },
  {
   "cell_type": "code",
   "execution_count": 79,
   "id": "b031446b",
   "metadata": {},
   "outputs": [
    {
     "data": {
      "text/plain": [
       "(38445, 200, 200, 3)"
      ]
     },
     "execution_count": 79,
     "metadata": {},
     "output_type": "execute_result"
    }
   ],
   "source": [
    "X_img.shape"
   ]
  },
  {
   "cell_type": "code",
   "execution_count": 80,
   "id": "4ff392f0",
   "metadata": {},
   "outputs": [],
   "source": [
    "X_scaled = X_img/ 255.0"
   ]
  },
  {
   "cell_type": "code",
   "execution_count": 81,
   "id": "83e3f30d",
   "metadata": {},
   "outputs": [],
   "source": [
    "nimages, nX, ny, nrgb = X_scaled.shape\n",
    "X_scaled = X_scaled.reshape((nimages,nX*ny*nrgb))"
   ]
  },
  {
   "cell_type": "code",
   "execution_count": 67,
   "id": "173a2d4d",
   "metadata": {},
   "outputs": [],
   "source": [
    "train=df2['file']"
   ]
  },
  {
   "cell_type": "code",
   "execution_count": 68,
   "id": "0a3c6ae7",
   "metadata": {},
   "outputs": [
    {
     "data": {
      "text/plain": [
       "(38445,)"
      ]
     },
     "execution_count": 68,
     "metadata": {},
     "output_type": "execute_result"
    }
   ],
   "source": [
    "train.shape"
   ]
  },
  {
   "cell_type": "code",
   "execution_count": 74,
   "id": "2e18073a",
   "metadata": {},
   "outputs": [],
   "source": [
    "model = SVC(kernel = 'linear', C=1.0, random_state=42, verbose = True)"
   ]
  },
  {
   "cell_type": "code",
   "execution_count": null,
   "id": "bc478d38",
   "metadata": {},
   "outputs": [],
   "source": [
    "model.fit(X_scaled, y_gender)"
   ]
  }
 ],
 "metadata": {
  "kernelspec": {
   "display_name": "Python 3 (ipykernel)",
   "language": "python",
   "name": "python3"
  },
  "language_info": {
   "codemirror_mode": {
    "name": "ipython",
    "version": 3
   },
   "file_extension": ".py",
   "mimetype": "text/x-python",
   "name": "python",
   "nbconvert_exporter": "python",
   "pygments_lexer": "ipython3",
   "version": "3.9.7"
  }
 },
 "nbformat": 4,
 "nbformat_minor": 5
}
