{
 "cells": [
  {
   "cell_type": "code",
   "execution_count": 2,
   "id": "476d9130",
   "metadata": {},
   "outputs": [],
   "source": [
    "import numpy as np\n",
    "from sklearn.datasets import fetch_openml\n",
    "from sklearn.model_selection import train_test_split\n",
    "from sklearn.metrics import accuracy_score\n",
    "from sklearn.metrics import roc_auc_score\n",
    "from sklearn import metrics\n",
    "from sklearn.linear_model import SGDRegressor\n",
    "from sklearn.pipeline import make_pipeline\n",
    "from sklearn.preprocessing import StandardScaler\n",
    "from sklearn.linear_model import LogisticRegression\n",
    "import matplotlib.pyplot as plt\n",
    "import seaborn as sns\n",
    "import statsmodels.api as sm\n",
    "import pandas as pd\n",
    "from os import listdir\n",
    "from os.path import isfile, join\n",
    "import os\n",
    "import cv2\n",
    "from collections import Counter\n",
    "from sklearn.datasets import make_classification\n",
    "from imblearn.over_sampling import RandomOverSampler\n",
    "from sklearn.preprocessing import LabelEncoder"
   ]
  },
  {
   "cell_type": "code",
   "execution_count": 1,
   "id": "5b8889ba",
   "metadata": {},
   "outputs": [],
   "source": [
    "from imblearn.over_sampling import SMOTE"
   ]
  },
  {
   "cell_type": "code",
   "execution_count": 3,
   "id": "2309823c",
   "metadata": {},
   "outputs": [],
   "source": [
    "mypath = \"C:/Users/User/Desktop/CUNY/Faces_img/cropped.tar/cropped/crop_part1\"\n"
   ]
  },
  {
   "cell_type": "code",
   "execution_count": 4,
   "id": "ea673945",
   "metadata": {},
   "outputs": [],
   "source": [
    "filenames = np.array([f for f in listdir(mypath) if isfile(join(mypath, f))])\n",
    "splitcolumns = [x.split('_')[0:3] + [x] for x in filenames if x.count('_') == 3]\n",
    "filecolumns = ['age','gender','race','file']\n",
    "filedf = pd.DataFrame(data = splitcolumns, columns = filecolumns)\n",
    "filedfnona = filedf.dropna()\n",
    "filedfnona['age']  = filedfnona['age'].astype(int)\n",
    "filedfnona['race'] = filedfnona['race'].astype(int)\n",
    "filedfnona['gender'] = filedfnona['gender'].astype(int)"
   ]
  },
  {
   "cell_type": "code",
   "execution_count": 5,
   "id": "d0eb06fa",
   "metadata": {},
   "outputs": [
    {
     "name": "stderr",
     "output_type": "stream",
     "text": [
      " 49%|████▉     | 9778/20000 [00:20<00:21, 486.61it/s]\n"
     ]
    }
   ],
   "source": [
    "from tqdm import tqdm\n",
    "images = []\n",
    "age = []\n",
    "gender = []\n",
    "race = []\n",
    "for index, row in tqdm(filedfnona.iterrows(), total=20000):\n",
    "    img = np.array(cv2.imread(mypath+'/'+row[3]))\n",
    "    img = cv2.cvtColor(img, cv2.COLOR_BGR2GRAY).ravel()\n",
    "    images.append(img)\n",
    "    age.append([row[0]])\n",
    "    gender.append([row[1]])\n",
    "    race.append([row[2]])"
   ]
  },
  {
   "cell_type": "code",
   "execution_count": 6,
   "id": "a29105cf",
   "metadata": {},
   "outputs": [
    {
     "data": {
      "text/html": [
       "<div>\n",
       "<style scoped>\n",
       "    .dataframe tbody tr th:only-of-type {\n",
       "        vertical-align: middle;\n",
       "    }\n",
       "\n",
       "    .dataframe tbody tr th {\n",
       "        vertical-align: top;\n",
       "    }\n",
       "\n",
       "    .dataframe thead th {\n",
       "        text-align: right;\n",
       "    }\n",
       "</style>\n",
       "<table border=\"1\" class=\"dataframe\">\n",
       "  <thead>\n",
       "    <tr style=\"text-align: right;\">\n",
       "      <th></th>\n",
       "      <th>age</th>\n",
       "      <th>gender</th>\n",
       "      <th>race</th>\n",
       "      <th>file</th>\n",
       "    </tr>\n",
       "  </thead>\n",
       "  <tbody>\n",
       "    <tr>\n",
       "      <th>0</th>\n",
       "      <td>100</td>\n",
       "      <td>1</td>\n",
       "      <td>0</td>\n",
       "      <td>100_1_0_20170110183726390.jpg.chip.jpg</td>\n",
       "    </tr>\n",
       "    <tr>\n",
       "      <th>1</th>\n",
       "      <td>100</td>\n",
       "      <td>1</td>\n",
       "      <td>2</td>\n",
       "      <td>100_1_2_20170105174847679.jpg.chip.jpg</td>\n",
       "    </tr>\n",
       "    <tr>\n",
       "      <th>2</th>\n",
       "      <td>101</td>\n",
       "      <td>1</td>\n",
       "      <td>2</td>\n",
       "      <td>101_1_2_20170105174739309.jpg.chip.jpg</td>\n",
       "    </tr>\n",
       "    <tr>\n",
       "      <th>3</th>\n",
       "      <td>10</td>\n",
       "      <td>0</td>\n",
       "      <td>0</td>\n",
       "      <td>10_0_0_20161220222308131.jpg.chip.jpg</td>\n",
       "    </tr>\n",
       "    <tr>\n",
       "      <th>4</th>\n",
       "      <td>10</td>\n",
       "      <td>0</td>\n",
       "      <td>0</td>\n",
       "      <td>10_0_0_20170103200329407.jpg.chip.jpg</td>\n",
       "    </tr>\n",
       "  </tbody>\n",
       "</table>\n",
       "</div>"
      ],
      "text/plain": [
       "   age  gender  race                                    file\n",
       "0  100       1     0  100_1_0_20170110183726390.jpg.chip.jpg\n",
       "1  100       1     2  100_1_2_20170105174847679.jpg.chip.jpg\n",
       "2  101       1     2  101_1_2_20170105174739309.jpg.chip.jpg\n",
       "3   10       0     0   10_0_0_20161220222308131.jpg.chip.jpg\n",
       "4   10       0     0   10_0_0_20170103200329407.jpg.chip.jpg"
      ]
     },
     "execution_count": 6,
     "metadata": {},
     "output_type": "execute_result"
    }
   ],
   "source": [
    "filedfnona.head()"
   ]
  },
  {
   "cell_type": "code",
   "execution_count": 7,
   "id": "b8b55714",
   "metadata": {},
   "outputs": [
    {
     "data": {
      "text/plain": [
       "9778"
      ]
     },
     "execution_count": 7,
     "metadata": {},
     "output_type": "execute_result"
    }
   ],
   "source": [
    "filedfnona['age'].count()"
   ]
  },
  {
   "cell_type": "code",
   "execution_count": 8,
   "id": "ea1490fc",
   "metadata": {},
   "outputs": [
    {
     "data": {
      "text/plain": [
       "count    9778.000000\n",
       "mean       29.415116\n",
       "std        24.775750\n",
       "min         1.000000\n",
       "25%         7.000000\n",
       "50%        25.000000\n",
       "75%        49.000000\n",
       "max       110.000000\n",
       "Name: age, dtype: float64"
      ]
     },
     "execution_count": 8,
     "metadata": {},
     "output_type": "execute_result"
    }
   ],
   "source": [
    "filedfnona['age'].describe()"
   ]
  },
  {
   "cell_type": "code",
   "execution_count": 9,
   "id": "f0b37965",
   "metadata": {},
   "outputs": [
    {
     "data": {
      "text/plain": [
       "1      1112\n",
       "2       475\n",
       "3       284\n",
       "26      279\n",
       "4       260\n",
       "       ... \n",
       "110       2\n",
       "99        2\n",
       "100       2\n",
       "91        1\n",
       "101       1\n",
       "Name: age, Length: 99, dtype: int64"
      ]
     },
     "execution_count": 9,
     "metadata": {},
     "output_type": "execute_result"
    }
   ],
   "source": [
    "filedfnona['age'].value_counts()"
   ]
  },
  {
   "cell_type": "code",
   "execution_count": 10,
   "id": "b71e0612",
   "metadata": {},
   "outputs": [
    {
     "data": {
      "text/plain": [
       "(array([3149., 1393., 1532.,  945.,  962.,  851.,  483.,  348.,  110.,\n",
       "           5.]),\n",
       " array([  1. ,  11.9,  22.8,  33.7,  44.6,  55.5,  66.4,  77.3,  88.2,\n",
       "         99.1, 110. ]),\n",
       " <BarContainer object of 10 artists>)"
      ]
     },
     "execution_count": 10,
     "metadata": {},
     "output_type": "execute_result"
    },
    {
     "data": {
      "image/png": "[encoded data removed]",
      "text/plain": [
       "<Figure size 432x288 with 1 Axes>"
      ]
     },
     "metadata": {
      "needs_background": "light"
     },
     "output_type": "display_data"
    }
   ],
   "source": [
    "plt.hist(filedfnona['age'], bins=10)"
   ]
  },
  {
   "cell_type": "code",
   "execution_count": 11,
   "id": "55d0fcbf",
   "metadata": {},
   "outputs": [
    {
     "data": {
      "text/plain": [
       "(array([5265.,    0.,  405.,    0.,    0., 1553.,    0., 1452.,    0.,\n",
       "        1103.]),\n",
       " array([0. , 0.4, 0.8, 1.2, 1.6, 2. , 2.4, 2.8, 3.2, 3.6, 4. ]),\n",
       " <BarContainer object of 10 artists>)"
      ]
     },
     "execution_count": 11,
     "metadata": {},
     "output_type": "execute_result"
    },
    {
     "data": {
      "image/png": "[encoded data removed]",
      "text/plain": [
       "<Figure size 432x288 with 1 Axes>"
      ]
     },
     "metadata": {
      "needs_background": "light"
     },
     "output_type": "display_data"
    }
   ],
   "source": [
    "plt.hist(filedfnona['race'])"
   ]
  },
  {
   "cell_type": "code",
   "execution_count": 12,
   "id": "150d23a5",
   "metadata": {},
   "outputs": [
    {
     "data": {
      "text/plain": [
       "(array([4372.,    0.,    0.,    0.,    0.,    0.,    0.,    0.,    0.,\n",
       "        5406.]),\n",
       " array([0. , 0.1, 0.2, 0.3, 0.4, 0.5, 0.6, 0.7, 0.8, 0.9, 1. ]),\n",
       " <BarContainer object of 10 artists>)"
      ]
     },
     "execution_count": 12,
     "metadata": {},
     "output_type": "execute_result"
    },
    {
     "data": {
      "image/png": "[encoded data removed]",
      "text/plain": [
       "<Figure size 432x288 with 1 Axes>"
      ]
     },
     "metadata": {
      "needs_background": "light"
     },
     "output_type": "display_data"
    }
   ],
   "source": [
    "plt.hist(filedfnona['gender'])"
   ]
  },
  {
   "cell_type": "code",
   "execution_count": 13,
   "id": "0865a585",
   "metadata": {},
   "outputs": [
    {
     "data": {
      "text/html": [
       "<div>\n",
       "<style scoped>\n",
       "    .dataframe tbody tr th:only-of-type {\n",
       "        vertical-align: middle;\n",
       "    }\n",
       "\n",
       "    .dataframe tbody tr th {\n",
       "        vertical-align: top;\n",
       "    }\n",
       "\n",
       "    .dataframe thead th {\n",
       "        text-align: right;\n",
       "    }\n",
       "</style>\n",
       "<table border=\"1\" class=\"dataframe\">\n",
       "  <thead>\n",
       "    <tr style=\"text-align: right;\">\n",
       "      <th></th>\n",
       "      <th>age</th>\n",
       "      <th>gender</th>\n",
       "      <th>race</th>\n",
       "      <th>file</th>\n",
       "    </tr>\n",
       "  </thead>\n",
       "  <tbody>\n",
       "    <tr>\n",
       "      <th>0</th>\n",
       "      <td>100</td>\n",
       "      <td>1</td>\n",
       "      <td>0</td>\n",
       "      <td>100_1_0_20170110183726390.jpg.chip.jpg</td>\n",
       "    </tr>\n",
       "    <tr>\n",
       "      <th>1</th>\n",
       "      <td>100</td>\n",
       "      <td>1</td>\n",
       "      <td>2</td>\n",
       "      <td>100_1_2_20170105174847679.jpg.chip.jpg</td>\n",
       "    </tr>\n",
       "    <tr>\n",
       "      <th>2</th>\n",
       "      <td>101</td>\n",
       "      <td>1</td>\n",
       "      <td>2</td>\n",
       "      <td>101_1_2_20170105174739309.jpg.chip.jpg</td>\n",
       "    </tr>\n",
       "    <tr>\n",
       "      <th>3</th>\n",
       "      <td>10</td>\n",
       "      <td>0</td>\n",
       "      <td>0</td>\n",
       "      <td>10_0_0_20161220222308131.jpg.chip.jpg</td>\n",
       "    </tr>\n",
       "    <tr>\n",
       "      <th>4</th>\n",
       "      <td>10</td>\n",
       "      <td>0</td>\n",
       "      <td>0</td>\n",
       "      <td>10_0_0_20170103200329407.jpg.chip.jpg</td>\n",
       "    </tr>\n",
       "  </tbody>\n",
       "</table>\n",
       "</div>"
      ],
      "text/plain": [
       "   age  gender  race                                    file\n",
       "0  100       1     0  100_1_0_20170110183726390.jpg.chip.jpg\n",
       "1  100       1     2  100_1_2_20170105174847679.jpg.chip.jpg\n",
       "2  101       1     2  101_1_2_20170105174739309.jpg.chip.jpg\n",
       "3   10       0     0   10_0_0_20161220222308131.jpg.chip.jpg\n",
       "4   10       0     0   10_0_0_20170103200329407.jpg.chip.jpg"
      ]
     },
     "execution_count": 13,
     "metadata": {},
     "output_type": "execute_result"
    }
   ],
   "source": [
    "balanced = filedfnona\n",
    "balanced.head()"
   ]
  },
  {
   "cell_type": "code",
   "execution_count": null,
   "id": "981cdf71",
   "metadata": {},
   "outputs": [],
   "source": [
    "#1 infancy (0-2)\n",
    "#2 Early Childhood (Ages 3-5)\n",
    "#3 Middle Childhood (Ages 6-8)\n",
    "#4 Late Childhood (Ages 9-11)\n",
    "#5 Adolescence (Ages 12-20)\n",
    "#6 Early Adulthood (Ages 21-35)\n",
    "#7 Midlife (Ages 36-50)\n",
    "#8 Mature Adulthood (Ages 51-79)\n",
    "#9 Late Adulthood (Age 80+)"
   ]
  },
  {
   "cell_type": "code",
   "execution_count": 22,
   "id": "e6180ef2",
   "metadata": {},
   "outputs": [],
   "source": [
    "#balanced['age']=np.where((balanced.age==2), 1, balanced.age)\n",
    "#balanced['age']=np.where(((balanced.age>=3) & (balanced.age<6)), 2, balanced.age)\n",
    "#balanced['age']=np.where(((balanced.age>=6) & (balanced.age<9)), 3, balanced.age)\n",
    "#balanced['age']=np.where(((balanced.age>=9) & (balanced.age<12)), 4, balanced.age)\n",
    "#balanced['age']=np.where(((balanced.age>=12) & (balanced.age<21)), 5, balanced.age)\n",
    "#balanced['age']=np.where(((balanced.age>=21) & (balanced.age<36)), 6, balanced.age)\n",
    "#balanced['age']=np.where(((balanced.age>=36) & (balanced.age<51)), 7, balanced.age)\n",
    "#balanced['age']=np.where(((balanced.age>=51) & (balanced.age<80)), 8, balanced.age)\n",
    "#balanced['age']=np.where((balanced.age>=80), 9, balanced.age)"
   ]
  },
  {
   "cell_type": "code",
   "execution_count": 23,
   "id": "9b58d811",
   "metadata": {},
   "outputs": [
    {
     "data": {
      "text/plain": [
       "6    2015\n",
       "8    1866\n",
       "1    1587\n",
       "7    1213\n",
       "5    1118\n",
       "2     724\n",
       "3     476\n",
       "9     417\n",
       "4     362\n",
       "Name: age, dtype: int64"
      ]
     },
     "execution_count": 23,
     "metadata": {},
     "output_type": "execute_result"
    }
   ],
   "source": [
    "balanced['age'].value_counts()"
   ]
  },
  {
   "cell_type": "code",
   "execution_count": 73,
   "id": "014b2bb6",
   "metadata": {},
   "outputs": [
    {
     "data": {
      "text/plain": [
       "0    5265\n",
       "2    1553\n",
       "3    1452\n",
       "4    1103\n",
       "1     405\n",
       "Name: race, dtype: int64"
      ]
     },
     "execution_count": 73,
     "metadata": {},
     "output_type": "execute_result"
    }
   ],
   "source": [
    "balanced['race'].value_counts()"
   ]
  },
  {
   "cell_type": "code",
   "execution_count": 74,
   "id": "91b9c017",
   "metadata": {},
   "outputs": [
    {
     "data": {
      "text/plain": [
       "1    5406\n",
       "0    4372\n",
       "Name: gender, dtype: int64"
      ]
     },
     "execution_count": 74,
     "metadata": {},
     "output_type": "execute_result"
    }
   ],
   "source": [
    "balanced['gender'].value_counts()"
   ]
  },
  {
   "cell_type": "code",
   "execution_count": 24,
   "id": "050b0ac6",
   "metadata": {},
   "outputs": [
    {
     "data": {
      "text/plain": [
       "(array([1587.,  724.,  476.,  362.,    0., 1118., 2015., 1213., 1866.,\n",
       "         417.]),\n",
       " array([1. , 1.8, 2.6, 3.4, 4.2, 5. , 5.8, 6.6, 7.4, 8.2, 9. ]),\n",
       " <BarContainer object of 10 artists>)"
      ]
     },
     "execution_count": 24,
     "metadata": {},
     "output_type": "execute_result"
    },
    {
     "data": {
      "image/png": "[encoded data removed]",
      "text/plain": [
       "<Figure size 432x288 with 1 Axes>"
      ]
     },
     "metadata": {
      "needs_background": "light"
     },
     "output_type": "display_data"
    }
   ],
   "source": [
    "plt.hist(balanced['age'], bins=10)"
   ]
  },
  {
   "cell_type": "code",
   "execution_count": 77,
   "id": "fea2fe98",
   "metadata": {},
   "outputs": [
    {
     "name": "stderr",
     "output_type": "stream",
     "text": [
      " 49%|████▉     | 9778/20000 [00:00<00:00, 20527.10it/s]\n"
     ]
    }
   ],
   "source": [
    "age_bal = []\n",
    "for index, row in tqdm(balanced.iterrows(), total=20000):\n",
    "    age.append([row[0]])\n",
    "    "
   ]
  },
  {
   "cell_type": "code",
   "execution_count": 25,
   "id": "bf0672f7",
   "metadata": {},
   "outputs": [],
   "source": [
    "df = balanced[['age', 'gender', 'race']]"
   ]
  },
  {
   "cell_type": "code",
   "execution_count": 56,
   "id": "8704d564",
   "metadata": {},
   "outputs": [],
   "source": [
    "df4 = balanced.values"
   ]
  },
  {
   "cell_type": "code",
   "execution_count": 61,
   "id": "cf2203f3",
   "metadata": {},
   "outputs": [],
   "source": [
    "X3, y3 = df4[:, 1:4], df1[:,0]"
   ]
  },
  {
   "cell_type": "code",
   "execution_count": 62,
   "id": "f26ce4be",
   "metadata": {},
   "outputs": [
    {
     "name": "stdout",
     "output_type": "stream",
     "text": [
      "Class=8, n=417 (4.265%)\n",
      "Class=3, n=362 (3.702%)\n",
      "Class=4, n=1118 (11.434%)\n",
      "Class=0, n=1587 (16.230%)\n",
      "Class=5, n=2015 (20.607%)\n",
      "Class=6, n=1213 (12.405%)\n",
      "Class=1, n=724 (7.404%)\n",
      "Class=7, n=1866 (19.084%)\n",
      "Class=2, n=476 (4.868%)\n"
     ]
    }
   ],
   "source": [
    "y3 = LabelEncoder().fit_transform(y3)\n",
    "# summarize distribution\n",
    "counter = Counter(y3)\n",
    "for k,v in counter.items():\n",
    "    per = v / len(y3) * 100\n",
    "    print('Class=%d, n=%d (%.3f%%)' % (k, v, per))\n"
   ]
  },
  {
   "cell_type": "code",
   "execution_count": 63,
   "id": "9310a22d",
   "metadata": {},
   "outputs": [
    {
     "data": {
      "image/png": "[encoded data removed]",
      "text/plain": [
       "<Figure size 432x288 with 1 Axes>"
      ]
     },
     "metadata": {
      "needs_background": "light"
     },
     "output_type": "display_data"
    }
   ],
   "source": [
    "# plot the distribution\n",
    "plt.bar(counter.keys(), counter.values())\n",
    "plt.show()"
   ]
  },
  {
   "cell_type": "code",
   "execution_count": 68,
   "id": "334f56c9",
   "metadata": {},
   "outputs": [],
   "source": [
    "from imblearn.over_sampling import (RandomOverSampler, \n",
    "                                    SMOTE, \n",
    "                                    ADASYN)"
   ]
  },
  {
   "cell_type": "code",
   "execution_count": 69,
   "id": "4d0f4ed5",
   "metadata": {},
   "outputs": [
    {
     "name": "stdout",
     "output_type": "stream",
     "text": [
      "Class=8, n=2015 (11.111%)\n",
      "Class=3, n=2015 (11.111%)\n",
      "Class=4, n=2015 (11.111%)\n",
      "Class=0, n=2015 (11.111%)\n",
      "Class=5, n=2015 (11.111%)\n",
      "Class=6, n=2015 (11.111%)\n",
      "Class=1, n=2015 (11.111%)\n",
      "Class=7, n=2015 (11.111%)\n",
      "Class=2, n=2015 (11.111%)\n"
     ]
    }
   ],
   "source": [
    "# transform the dataset\n",
    "oversample = RandomOverSampler()\n",
    "X3, y3 = oversample.fit_resample(X3, y3)\n",
    "# summarize distribution\n",
    "counter = Counter(y3)\n",
    "for k,v in counter.items():\n",
    "    per = v / len(y3) * 100\n",
    "    print('Class=%d, n=%d (%.3f%%)' % (k, v, per))"
   ]
  },
  {
   "cell_type": "code",
   "execution_count": 70,
   "id": "26701ae4",
   "metadata": {},
   "outputs": [
    {
     "data": {
      "image/png": "[encoded data removed]",
      "text/plain": [
       "<Figure size 432x288 with 1 Axes>"
      ]
     },
     "metadata": {
      "needs_background": "light"
     },
     "output_type": "display_data"
    }
   ],
   "source": [
    "# plot the distribution\n",
    "plt.bar(counter.keys(), counter.values())\n",
    "plt.xlabel('The Stages of the Human Life Cycle')\n",
    "plt.show()"
   ]
  },
  {
   "cell_type": "code",
   "execution_count": 72,
   "id": "2eef87e5",
   "metadata": {},
   "outputs": [
    {
     "data": {
      "text/plain": [
       "(18135, 3)"
      ]
     },
     "execution_count": 72,
     "metadata": {},
     "output_type": "execute_result"
    }
   ],
   "source": [
    "X3.shape"
   ]
  },
  {
   "cell_type": "code",
   "execution_count": 76,
   "id": "727c79cf",
   "metadata": {},
   "outputs": [
    {
     "data": {
      "text/plain": [
       "(18135,)"
      ]
     },
     "execution_count": 76,
     "metadata": {},
     "output_type": "execute_result"
    }
   ],
   "source": [
    "y3.shape"
   ]
  },
  {
   "cell_type": "code",
   "execution_count": 79,
   "id": "bd140dfd",
   "metadata": {},
   "outputs": [],
   "source": [
    "age_b_array = np.column_stack( (X3, y3) )"
   ]
  },
  {
   "cell_type": "code",
   "execution_count": 80,
   "id": "4540b431",
   "metadata": {},
   "outputs": [
    {
     "data": {
      "text/plain": [
       "array([[1, 0, '100_1_0_20170110183726390.jpg.chip.jpg', 8],\n",
       "       [1, 2, '100_1_2_20170105174847679.jpg.chip.jpg', 8],\n",
       "       [1, 2, '101_1_2_20170105174739309.jpg.chip.jpg', 8],\n",
       "       ...,\n",
       "       [1, 0, '85_1_0_20170110183752111.jpg.chip.jpg', 8],\n",
       "       [0, 0, '80_0_0_20170110183557670.jpg.chip.jpg', 8],\n",
       "       [0, 2, '80_0_2_20170111205702505.jpg.chip.jpg', 8]], dtype=object)"
      ]
     },
     "execution_count": 80,
     "metadata": {},
     "output_type": "execute_result"
    }
   ],
   "source": [
    "age_b_array"
   ]
  },
  {
   "cell_type": "code",
   "execution_count": 84,
   "id": "31ebd9a4",
   "metadata": {},
   "outputs": [],
   "source": [
    "#gender\n",
    "Xr, yr = age_b_array[:, 1:4], age_b_array[:,0]"
   ]
  },
  {
   "cell_type": "code",
   "execution_count": 85,
   "id": "4a06d6df",
   "metadata": {},
   "outputs": [
    {
     "name": "stdout",
     "output_type": "stream",
     "text": [
      "Class=1, n=10102 (55.704%)\n",
      "Class=0, n=8033 (44.296%)\n"
     ]
    }
   ],
   "source": [
    "yr = LabelEncoder().fit_transform(yr)\n",
    "# summarize distribution\n",
    "counter = Counter(yr)\n",
    "for k,v in counter.items():\n",
    "    per = v / len(yr) * 100\n",
    "    print('Class=%d, n=%d (%.3f%%)' % (k, v, per))\n"
   ]
  },
  {
   "cell_type": "code",
   "execution_count": 86,
   "id": "ee27a6fa",
   "metadata": {},
   "outputs": [
    {
     "data": {
      "image/png": "[encoded data removed]",
      "text/plain": [
       "<Figure size 432x288 with 1 Axes>"
      ]
     },
     "metadata": {
      "needs_background": "light"
     },
     "output_type": "display_data"
    }
   ],
   "source": [
    "#imbalanced gender\n",
    "plt.bar(counter.keys(), counter.values())\n",
    "plt.show()"
   ]
  },
  {
   "cell_type": "code",
   "execution_count": 87,
   "id": "426f02e7",
   "metadata": {},
   "outputs": [
    {
     "name": "stdout",
     "output_type": "stream",
     "text": [
      "Class=1, n=10102 (50.000%)\n",
      "Class=0, n=10102 (50.000%)\n"
     ]
    }
   ],
   "source": [
    "# transform the dataset\n",
    "oversample = RandomOverSampler()\n",
    "Xr, yr = oversample.fit_resample(Xr, yr)\n",
    "# summarize distribution\n",
    "counter = Counter(yr)\n",
    "for k,v in counter.items():\n",
    "    per = v / len(yr) * 100\n",
    "    print('Class=%d, n=%d (%.3f%%)' % (k, v, per))"
   ]
  },
  {
   "cell_type": "code",
   "execution_count": 88,
   "id": "51998850",
   "metadata": {},
   "outputs": [
    {
     "data": {
      "image/png": "[encoded data removed]",
      "text/plain": [
       "<Figure size 432x288 with 1 Axes>"
      ]
     },
     "metadata": {
      "needs_background": "light"
     },
     "output_type": "display_data"
    }
   ],
   "source": [
    "# plot the distribution balanced gender\n",
    "plt.bar(counter.keys(), counter.values())\n",
    "plt.xlabel('Gender 0-male 1-female')\n",
    "plt.show()"
   ]
  },
  {
   "cell_type": "code",
   "execution_count": 90,
   "id": "95dfbf63",
   "metadata": {},
   "outputs": [
    {
     "data": {
      "text/plain": [
       "(20204, 3)"
      ]
     },
     "execution_count": 90,
     "metadata": {},
     "output_type": "execute_result"
    }
   ],
   "source": [
    "Xr.shape"
   ]
  },
  {
   "cell_type": "code",
   "execution_count": 91,
   "id": "4bb9e694",
   "metadata": {},
   "outputs": [],
   "source": [
    "gender_b_array = np.column_stack( (Xr, yr) )"
   ]
  },
  {
   "cell_type": "code",
   "execution_count": 92,
   "id": "7f5a20ee",
   "metadata": {},
   "outputs": [
    {
     "data": {
      "text/plain": [
       "array([[0, '100_1_0_20170110183726390.jpg.chip.jpg', 8, 1],\n",
       "       [2, '100_1_2_20170105174847679.jpg.chip.jpg', 8, 1],\n",
       "       [2, '101_1_2_20170105174739309.jpg.chip.jpg', 8, 1],\n",
       "       ...,\n",
       "       [0, '8_0_0_20170110220011635.jpg.chip.jpg', 2, 0],\n",
       "       [0, '17_0_0_20170105183357879.jpg.chip.jpg', 4, 0],\n",
       "       [4, '9_0_4_20170110215354740.jpg.chip.jpg', 3, 0]], dtype=object)"
      ]
     },
     "execution_count": 92,
     "metadata": {},
     "output_type": "execute_result"
    }
   ],
   "source": [
    "gender_b_array"
   ]
  },
  {
   "cell_type": "code",
   "execution_count": 93,
   "id": "1fb299f7",
   "metadata": {},
   "outputs": [],
   "source": [
    "#race\n",
    "Xrace, yrace = gender_b_array[:, 1:4], gender_b_array[:,0]"
   ]
  },
  {
   "cell_type": "code",
   "execution_count": 94,
   "id": "1ba25042",
   "metadata": {},
   "outputs": [
    {
     "name": "stdout",
     "output_type": "stream",
     "text": [
      "Class=0, n=11762 (58.216%)\n",
      "Class=2, n=3074 (15.215%)\n",
      "Class=1, n=904 (4.474%)\n",
      "Class=3, n=2452 (12.136%)\n",
      "Class=4, n=2012 (9.958%)\n"
     ]
    }
   ],
   "source": [
    "yrace = LabelEncoder().fit_transform(yrace)\n",
    "# summarize distribution\n",
    "counter = Counter(yrace)\n",
    "for k,v in counter.items():\n",
    "    per = v / len(yrace) * 100\n",
    "    print('Class=%d, n=%d (%.3f%%)' % (k, v, per))"
   ]
  },
  {
   "cell_type": "code",
   "execution_count": 95,
   "id": "f40f49ce",
   "metadata": {},
   "outputs": [
    {
     "data": {
      "image/png": "[encoded data removed]",
      "text/plain": [
       "<Figure size 432x288 with 1 Axes>"
      ]
     },
     "metadata": {
      "needs_background": "light"
     },
     "output_type": "display_data"
    }
   ],
   "source": [
    "#imbalanced race\n",
    "plt.bar(counter.keys(), counter.values())\n",
    "plt.show()"
   ]
  },
  {
   "cell_type": "code",
   "execution_count": 96,
   "id": "6ae6b1e6",
   "metadata": {},
   "outputs": [
    {
     "name": "stdout",
     "output_type": "stream",
     "text": [
      "Class=0, n=11762 (20.000%)\n",
      "Class=2, n=11762 (20.000%)\n",
      "Class=1, n=11762 (20.000%)\n",
      "Class=3, n=11762 (20.000%)\n",
      "Class=4, n=11762 (20.000%)\n"
     ]
    }
   ],
   "source": [
    "# transform the dataset\n",
    "oversample = RandomOverSampler()\n",
    "Xrace, yrace = oversample.fit_resample(Xrace, yrace)\n",
    "# summarize distribution\n",
    "counter = Counter(yrace)\n",
    "for k,v in counter.items():\n",
    "    per = v / len(yrace) * 100\n",
    "    print('Class=%d, n=%d (%.3f%%)' % (k, v, per))"
   ]
  },
  {
   "cell_type": "code",
   "execution_count": 97,
   "id": "0054861d",
   "metadata": {},
   "outputs": [
    {
     "data": {
      "image/png": "[encoded data removed]",
      "text/plain": [
       "<Figure size 432x288 with 1 Axes>"
      ]
     },
     "metadata": {
      "needs_background": "light"
     },
     "output_type": "display_data"
    }
   ],
   "source": [
    "# plot the distribution balanced race\n",
    "plt.bar(counter.keys(), counter.values())\n",
    "plt.xlabel('Race 0-White, 1-Black, 2-Asian, 3-Indian, 4-Others')\n",
    "plt.show()"
   ]
  },
  {
   "cell_type": "code",
   "execution_count": 98,
   "id": "d5a41e62",
   "metadata": {},
   "outputs": [
    {
     "data": {
      "text/plain": [
       "(58810, 3)"
      ]
     },
     "execution_count": 98,
     "metadata": {},
     "output_type": "execute_result"
    }
   ],
   "source": [
    "Xrace.shape"
   ]
  },
  {
   "cell_type": "code",
   "execution_count": 99,
   "id": "a718b745",
   "metadata": {},
   "outputs": [],
   "source": [
    "race_b_array = np.column_stack( (Xrace, yrace) )"
   ]
  },
  {
   "cell_type": "code",
   "execution_count": 100,
   "id": "2aa72280",
   "metadata": {},
   "outputs": [
    {
     "data": {
      "text/plain": [
       "array([['100_1_0_20170110183726390.jpg.chip.jpg', 8, 1, 0],\n",
       "       ['100_1_2_20170105174847679.jpg.chip.jpg', 8, 1, 2],\n",
       "       ['101_1_2_20170105174739309.jpg.chip.jpg', 8, 1, 2],\n",
       "       ...,\n",
       "       ['31_1_4_20170103230257785.jpg.chip.jpg', 5, 1, 4],\n",
       "       ['47_0_4_20170104002132109.jpg.chip.jpg', 6, 0, 4],\n",
       "       ['20_1_4_20170103233322026.jpg.chip.jpg', 4, 1, 4]], dtype=object)"
      ]
     },
     "execution_count": 100,
     "metadata": {},
     "output_type": "execute_result"
    }
   ],
   "source": [
    "race_b_array"
   ]
  },
  {
   "cell_type": "code",
   "execution_count": 101,
   "id": "264ba3de",
   "metadata": {},
   "outputs": [],
   "source": [
    "df2 = pd.DataFrame(race_b_array, columns = ['file','age','gender', 'race'])\n"
   ]
  },
  {
   "cell_type": "code",
   "execution_count": 102,
   "id": "3b45a74d",
   "metadata": {},
   "outputs": [
    {
     "name": "stdout",
     "output_type": "stream",
     "text": [
      "                                         file age gender race\n",
      "0      100_1_0_20170110183726390.jpg.chip.jpg   8      1    0\n",
      "1      100_1_2_20170105174847679.jpg.chip.jpg   8      1    2\n",
      "2      101_1_2_20170105174739309.jpg.chip.jpg   8      1    2\n",
      "3       10_0_0_20161220222308131.jpg.chip.jpg   3      0    0\n",
      "4       10_0_0_20170103200329407.jpg.chip.jpg   3      0    0\n",
      "...                                       ...  ..    ...  ...\n",
      "58805   27_0_4_20170104011307960.jpg.chip.jpg   5      0    4\n",
      "58806    8_1_4_20161223232240516.jpg.chip.jpg   2      1    4\n",
      "58807   31_1_4_20170103230257785.jpg.chip.jpg   5      1    4\n",
      "58808   47_0_4_20170104002132109.jpg.chip.jpg   6      0    4\n",
      "58809   20_1_4_20170103233322026.jpg.chip.jpg   4      1    4\n",
      "\n",
      "[58810 rows x 4 columns]\n",
      "<class 'pandas.core.frame.DataFrame'>\n"
     ]
    }
   ],
   "source": [
    "print(df2)\n",
    "print(type(df2))"
   ]
  },
  {
   "cell_type": "code",
   "execution_count": null,
   "id": "bca97a53",
   "metadata": {},
   "outputs": [],
   "source": []
  },
  {
   "cell_type": "code",
   "execution_count": null,
   "id": "ac698337",
   "metadata": {},
   "outputs": [],
   "source": []
  },
  {
   "cell_type": "code",
   "execution_count": null,
   "id": "8efe5c89",
   "metadata": {},
   "outputs": [],
   "source": []
  }
 ],
 "metadata": {
  "kernelspec": {
   "display_name": "Python 3 (ipykernel)",
   "language": "python",
   "name": "python3"
  },
  "language_info": {
   "codemirror_mode": {
    "name": "ipython",
    "version": 3
   },
   "file_extension": ".py",
   "mimetype": "text/x-python",
   "name": "python",
   "nbconvert_exporter": "python",
   "pygments_lexer": "ipython3",
   "version": "3.9.7"
  }
 },
 "nbformat": 4,
 "nbformat_minor": 5
}
