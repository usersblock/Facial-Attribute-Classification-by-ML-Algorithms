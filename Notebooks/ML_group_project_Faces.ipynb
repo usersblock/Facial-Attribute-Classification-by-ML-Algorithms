{
 "cells": [
  {
   "cell_type": "code",
   "execution_count": 1,
   "metadata": {
    "id": "G9flW6ya6Atv"
   },
   "outputs": [],
   "source": [
    "import numpy as np\n",
    "from sklearn.datasets import fetch_openml\n",
    "from sklearn.model_selection import train_test_split\n",
    "from sklearn.metrics import accuracy_score\n",
    "from sklearn.metrics import roc_auc_score\n",
    "from sklearn import metrics\n",
    "from sklearn.linear_model import SGDRegressor\n",
    "from sklearn.pipeline import make_pipeline\n",
    "from sklearn.preprocessing import StandardScaler\n",
    "from sklearn.linear_model import LogisticRegression\n",
    "import matplotlib.pyplot as plt\n",
    "import seaborn as sns\n",
    "import statsmodels.api as sm\n",
    "import pandas as pd\n",
    "from os import listdir\n",
    "from os.path import isfile, join"
   ]
  },
  {
   "cell_type": "code",
   "execution_count": 61,
   "metadata": {},
   "outputs": [],
   "source": [
    "from sklearn.metrics import classification_report\n",
    "from sklearn.metrics import mean_squared_error\n",
    "from sklearn.metrics import mean_absolute_error"
   ]
  },
  {
   "cell_type": "code",
   "execution_count": 36,
   "metadata": {
    "id": "plGK2J-x_nBT"
   },
   "outputs": [],
   "source": [
    "from sklearn.model_selection import train_test_split\n",
    "from sklearn import svm\n",
    "from sklearn.svm import SVC, SVR\n"
   ]
  },
  {
   "cell_type": "code",
   "execution_count": 3,
   "metadata": {
    "id": "MQyW265FDXh8"
   },
   "outputs": [
    {
     "ename": "ModuleNotFoundError",
     "evalue": "No module named 'tensorflow'",
     "output_type": "error",
     "traceback": [
      "\u001b[1;31m---------------------------------------------------------------------------\u001b[0m",
      "\u001b[1;31mModuleNotFoundError\u001b[0m                       Traceback (most recent call last)",
      "\u001b[1;32m~\\AppData\\Local\\Temp/ipykernel_28688/1886931497.py\u001b[0m in \u001b[0;36m<module>\u001b[1;34m\u001b[0m\n\u001b[1;32m----> 1\u001b[1;33m \u001b[1;32mimport\u001b[0m \u001b[0mtensorflow\u001b[0m \u001b[1;32mas\u001b[0m \u001b[0mtf\u001b[0m\u001b[1;33m\u001b[0m\u001b[1;33m\u001b[0m\u001b[0m\n\u001b[0m\u001b[0;32m      2\u001b[0m \u001b[1;32mfrom\u001b[0m \u001b[0mkeras\u001b[0m\u001b[1;33m.\u001b[0m\u001b[0mpreprocessing\u001b[0m\u001b[1;33m.\u001b[0m\u001b[0mimage\u001b[0m \u001b[1;32mimport\u001b[0m \u001b[0mload_img\u001b[0m\u001b[1;33m\u001b[0m\u001b[1;33m\u001b[0m\u001b[0m\n\u001b[0;32m      3\u001b[0m \u001b[1;32mfrom\u001b[0m \u001b[0mkeras\u001b[0m\u001b[1;33m.\u001b[0m\u001b[0mmodels\u001b[0m \u001b[1;32mimport\u001b[0m \u001b[0mSequential\u001b[0m\u001b[1;33m,\u001b[0m \u001b[0mModel\u001b[0m\u001b[1;33m\u001b[0m\u001b[1;33m\u001b[0m\u001b[0m\n\u001b[0;32m      4\u001b[0m \u001b[1;32mfrom\u001b[0m \u001b[0mkeras\u001b[0m\u001b[1;33m.\u001b[0m\u001b[0mlayers\u001b[0m \u001b[1;32mimport\u001b[0m \u001b[0mDense\u001b[0m\u001b[1;33m,\u001b[0m \u001b[0mConv2D\u001b[0m\u001b[1;33m,\u001b[0m \u001b[0mDropout\u001b[0m\u001b[1;33m,\u001b[0m \u001b[0mFlatten\u001b[0m\u001b[1;33m,\u001b[0m \u001b[0mMaxPooling2D\u001b[0m\u001b[1;33m,\u001b[0m \u001b[0mInput\u001b[0m\u001b[1;33m\u001b[0m\u001b[1;33m\u001b[0m\u001b[0m\n",
      "\u001b[1;31mModuleNotFoundError\u001b[0m: No module named 'tensorflow'"
     ]
    }
   ],
   "source": [
    "import tensorflow as tf\n",
    "from keras.preprocessing.image import load_img\n",
    "from keras.models import Sequential, Model\n",
    "from keras.layers import Dense, Conv2D, Dropout, Flatten, MaxPooling2D, Input"
   ]
  },
  {
   "cell_type": "code",
   "execution_count": 3,
   "metadata": {
    "id": "0nBiuSGebdIP"
   },
   "outputs": [],
   "source": [
    "#from tensorflow import keras\n",
    "#from tensorflow.keras import layers\n",
    "#from tensorflow.keras.preprocessing.image import load_img\n",
    "#from tensorflow.keras.preprocessing.image import array_to_img\n",
    "#from tensorflow.keras.preprocessing.image import img_to_array\n",
    "import os\n",
    "import cv2"
   ]
  },
  {
   "cell_type": "code",
   "execution_count": 4,
   "metadata": {
    "id": "GEheNYebDWZz"
   },
   "outputs": [],
   "source": [
    "#mypath = \"/content/drive/MyDrive/crop_part1\"\n",
    "mypath = \"C:/Users/User/Desktop/CUNY/Faces_img/cropped.tar/cropped/crop_part1\"\n"
   ]
  },
  {
   "cell_type": "code",
   "execution_count": 5,
   "metadata": {
    "id": "_Pom6281_bQh"
   },
   "outputs": [],
   "source": [
    "filenames = np.array([f for f in listdir(mypath) if isfile(join(mypath, f))])\n",
    "splitcolumns = [x.split('_')[0:3] + [x] for x in filenames if x.count('_') == 3]\n",
    "filecolumns = ['age','gender','race','file']\n",
    "filedf = pd.DataFrame(data = splitcolumns, columns = filecolumns)\n",
    "filedfnona = filedf.dropna()\n",
    "filedfnona['age']  = filedfnona['age'].astype(int)\n",
    "filedfnona['race'] = filedfnona['race'].astype(int)\n",
    "filedfnona['gender'] = filedfnona['gender'].astype(int)"
   ]
  },
  {
   "cell_type": "code",
   "execution_count": 6,
   "metadata": {
    "colab": {
     "base_uri": "https://localhost:8080/",
     "height": 206
    },
    "id": "7OK3Smw0DPEA",
    "outputId": "bd9c12a4-d6c5-4f08-b588-8537fd925c66"
   },
   "outputs": [
    {
     "data": {
      "text/html": [
       "<div>\n",
       "<style scoped>\n",
       "    .dataframe tbody tr th:only-of-type {\n",
       "        vertical-align: middle;\n",
       "    }\n",
       "\n",
       "    .dataframe tbody tr th {\n",
       "        vertical-align: top;\n",
       "    }\n",
       "\n",
       "    .dataframe thead th {\n",
       "        text-align: right;\n",
       "    }\n",
       "</style>\n",
       "<table border=\"1\" class=\"dataframe\">\n",
       "  <thead>\n",
       "    <tr style=\"text-align: right;\">\n",
       "      <th></th>\n",
       "      <th>age</th>\n",
       "      <th>gender</th>\n",
       "      <th>race</th>\n",
       "      <th>file</th>\n",
       "    </tr>\n",
       "  </thead>\n",
       "  <tbody>\n",
       "    <tr>\n",
       "      <th>0</th>\n",
       "      <td>100</td>\n",
       "      <td>1</td>\n",
       "      <td>0</td>\n",
       "      <td>100_1_0_20170110183726390.jpg.chip.jpg</td>\n",
       "    </tr>\n",
       "    <tr>\n",
       "      <th>1</th>\n",
       "      <td>100</td>\n",
       "      <td>1</td>\n",
       "      <td>2</td>\n",
       "      <td>100_1_2_20170105174847679.jpg.chip.jpg</td>\n",
       "    </tr>\n",
       "    <tr>\n",
       "      <th>2</th>\n",
       "      <td>101</td>\n",
       "      <td>1</td>\n",
       "      <td>2</td>\n",
       "      <td>101_1_2_20170105174739309.jpg.chip.jpg</td>\n",
       "    </tr>\n",
       "    <tr>\n",
       "      <th>3</th>\n",
       "      <td>10</td>\n",
       "      <td>0</td>\n",
       "      <td>0</td>\n",
       "      <td>10_0_0_20161220222308131.jpg.chip.jpg</td>\n",
       "    </tr>\n",
       "    <tr>\n",
       "      <th>4</th>\n",
       "      <td>10</td>\n",
       "      <td>0</td>\n",
       "      <td>0</td>\n",
       "      <td>10_0_0_20170103200329407.jpg.chip.jpg</td>\n",
       "    </tr>\n",
       "  </tbody>\n",
       "</table>\n",
       "</div>"
      ],
      "text/plain": [
       "   age  gender  race                                    file\n",
       "0  100       1     0  100_1_0_20170110183726390.jpg.chip.jpg\n",
       "1  100       1     2  100_1_2_20170105174847679.jpg.chip.jpg\n",
       "2  101       1     2  101_1_2_20170105174739309.jpg.chip.jpg\n",
       "3   10       0     0   10_0_0_20161220222308131.jpg.chip.jpg\n",
       "4   10       0     0   10_0_0_20170103200329407.jpg.chip.jpg"
      ]
     },
     "execution_count": 6,
     "metadata": {},
     "output_type": "execute_result"
    }
   ],
   "source": [
    "filedfnona.head()"
   ]
  },
  {
   "cell_type": "code",
   "execution_count": 41,
   "metadata": {
    "id": "hRJwKoTmA_1G"
   },
   "outputs": [
    {
     "name": "stderr",
     "output_type": "stream",
     "text": [
      " 10%|█         | 2000/20000 [00:02<00:18, 980.42it/s] \n"
     ]
    }
   ],
   "source": [
    "from tqdm import tqdm\n",
    "images = []\n",
    "age = []\n",
    "gender = []\n",
    "race = []\n",
    "for index, row in tqdm(filedfnona.iloc[:2000].iterrows(), total=20000):\n",
    "    img = np.array(cv2.imread(mypath+'/'+row[3]))\n",
    "    img = cv2.cvtColor(img, cv2.COLOR_BGR2GRAY).ravel()\n",
    "    images.append(img)\n",
    "    age.append([row[0]])\n",
    "    gender.append([row[1]])\n",
    "    race.append([row[2]])"
   ]
  },
  {
   "cell_type": "code",
   "execution_count": 42,
   "metadata": {},
   "outputs": [
    {
     "data": {
      "text/plain": [
       "[[100],\n",
       " [100],\n",
       " [101],\n",
       " [10],\n",
       " [10],\n",
       " [10],\n",
       " [10],\n",
       " [10],\n",
       " [10],\n",
       " [10],\n",
       " [10],\n",
       " [10],\n",
       " [10],\n",
       " [10],\n",
       " [10],\n",
       " [10],\n",
       " [10],\n",
       " [10],\n",
       " [10],\n",
       " [10],\n",
       " [10],\n",
       " [10],\n",
       " [10],\n",
       " [10],\n",
       " [10],\n",
       " [10],\n",
       " [10],\n",
       " [10],\n",
       " [10],\n",
       " [10],\n",
       " [10],\n",
       " [10],\n",
       " [10],\n",
       " [10],\n",
       " [10],\n",
       " [10],\n",
       " [10],\n",
       " [10],\n",
       " [10],\n",
       " [10],\n",
       " [10],\n",
       " [10],\n",
       " [10],\n",
       " [10],\n",
       " [10],\n",
       " [10],\n",
       " [10],\n",
       " [10],\n",
       " [10],\n",
       " [10],\n",
       " [10],\n",
       " [10],\n",
       " [10],\n",
       " [10],\n",
       " [10],\n",
       " [10],\n",
       " [10],\n",
       " [10],\n",
       " [10],\n",
       " [10],\n",
       " [10],\n",
       " [10],\n",
       " [10],\n",
       " [10],\n",
       " [10],\n",
       " [10],\n",
       " [10],\n",
       " [10],\n",
       " [10],\n",
       " [10],\n",
       " [10],\n",
       " [10],\n",
       " [10],\n",
       " [10],\n",
       " [10],\n",
       " [10],\n",
       " [10],\n",
       " [10],\n",
       " [10],\n",
       " [10],\n",
       " [10],\n",
       " [10],\n",
       " [10],\n",
       " [10],\n",
       " [10],\n",
       " [10],\n",
       " [10],\n",
       " [10],\n",
       " [10],\n",
       " [10],\n",
       " [10],\n",
       " [10],\n",
       " [10],\n",
       " [10],\n",
       " [10],\n",
       " [10],\n",
       " [10],\n",
       " [10],\n",
       " [10],\n",
       " [10],\n",
       " [10],\n",
       " [10],\n",
       " [10],\n",
       " [10],\n",
       " [10],\n",
       " [10],\n",
       " [10],\n",
       " [10],\n",
       " [10],\n",
       " [10],\n",
       " [10],\n",
       " [10],\n",
       " [10],\n",
       " [10],\n",
       " [10],\n",
       " [10],\n",
       " [10],\n",
       " [10],\n",
       " [10],\n",
       " [10],\n",
       " [10],\n",
       " [10],\n",
       " [10],\n",
       " [10],\n",
       " [10],\n",
       " [10],\n",
       " [10],\n",
       " [10],\n",
       " [10],\n",
       " [10],\n",
       " [10],\n",
       " [10],\n",
       " [10],\n",
       " [10],\n",
       " [10],\n",
       " [10],\n",
       " [10],\n",
       " [10],\n",
       " [10],\n",
       " [10],\n",
       " [10],\n",
       " [10],\n",
       " [10],\n",
       " [110],\n",
       " [110],\n",
       " [11],\n",
       " [11],\n",
       " [11],\n",
       " [11],\n",
       " [11],\n",
       " [11],\n",
       " [11],\n",
       " [11],\n",
       " [11],\n",
       " [11],\n",
       " [11],\n",
       " [11],\n",
       " [11],\n",
       " [11],\n",
       " [11],\n",
       " [11],\n",
       " [11],\n",
       " [11],\n",
       " [11],\n",
       " [11],\n",
       " [11],\n",
       " [11],\n",
       " [11],\n",
       " [11],\n",
       " [11],\n",
       " [11],\n",
       " [11],\n",
       " [11],\n",
       " [11],\n",
       " [11],\n",
       " [11],\n",
       " [11],\n",
       " [11],\n",
       " [11],\n",
       " [11],\n",
       " [11],\n",
       " [11],\n",
       " [11],\n",
       " [11],\n",
       " [11],\n",
       " [11],\n",
       " [11],\n",
       " [11],\n",
       " [11],\n",
       " [11],\n",
       " [11],\n",
       " [11],\n",
       " [11],\n",
       " [11],\n",
       " [11],\n",
       " [11],\n",
       " [11],\n",
       " [11],\n",
       " [11],\n",
       " [11],\n",
       " [11],\n",
       " [11],\n",
       " [11],\n",
       " [11],\n",
       " [11],\n",
       " [11],\n",
       " [11],\n",
       " [11],\n",
       " [12],\n",
       " [12],\n",
       " [12],\n",
       " [12],\n",
       " [12],\n",
       " [12],\n",
       " [12],\n",
       " [12],\n",
       " [12],\n",
       " [12],\n",
       " [12],\n",
       " [12],\n",
       " [12],\n",
       " [12],\n",
       " [12],\n",
       " [12],\n",
       " [12],\n",
       " [12],\n",
       " [12],\n",
       " [12],\n",
       " [12],\n",
       " [12],\n",
       " [12],\n",
       " [12],\n",
       " [12],\n",
       " [12],\n",
       " [12],\n",
       " [12],\n",
       " [12],\n",
       " [12],\n",
       " [12],\n",
       " [12],\n",
       " [12],\n",
       " [12],\n",
       " [12],\n",
       " [12],\n",
       " [12],\n",
       " [12],\n",
       " [12],\n",
       " [12],\n",
       " [12],\n",
       " [12],\n",
       " [12],\n",
       " [12],\n",
       " [12],\n",
       " [12],\n",
       " [12],\n",
       " [12],\n",
       " [12],\n",
       " [12],\n",
       " [12],\n",
       " [12],\n",
       " [12],\n",
       " [12],\n",
       " [12],\n",
       " [12],\n",
       " [12],\n",
       " [12],\n",
       " [12],\n",
       " [12],\n",
       " [12],\n",
       " [12],\n",
       " [12],\n",
       " [12],\n",
       " [12],\n",
       " [12],\n",
       " [12],\n",
       " [12],\n",
       " [12],\n",
       " [12],\n",
       " [12],\n",
       " [12],\n",
       " [12],\n",
       " [12],\n",
       " [12],\n",
       " [12],\n",
       " [12],\n",
       " [12],\n",
       " [12],\n",
       " [12],\n",
       " [12],\n",
       " [12],\n",
       " [12],\n",
       " [12],\n",
       " [12],\n",
       " [12],\n",
       " [12],\n",
       " [12],\n",
       " [12],\n",
       " [12],\n",
       " [12],\n",
       " [12],\n",
       " [12],\n",
       " [12],\n",
       " [12],\n",
       " [12],\n",
       " [12],\n",
       " [12],\n",
       " [12],\n",
       " [12],\n",
       " [12],\n",
       " [12],\n",
       " [12],\n",
       " [12],\n",
       " [12],\n",
       " [12],\n",
       " [13],\n",
       " [13],\n",
       " [13],\n",
       " [13],\n",
       " [13],\n",
       " [13],\n",
       " [13],\n",
       " [13],\n",
       " [13],\n",
       " [13],\n",
       " [13],\n",
       " [13],\n",
       " [13],\n",
       " [13],\n",
       " [13],\n",
       " [13],\n",
       " [13],\n",
       " [13],\n",
       " [13],\n",
       " [13],\n",
       " [13],\n",
       " [13],\n",
       " [13],\n",
       " [13],\n",
       " [13],\n",
       " [13],\n",
       " [13],\n",
       " [13],\n",
       " [13],\n",
       " [13],\n",
       " [13],\n",
       " [13],\n",
       " [13],\n",
       " [13],\n",
       " [13],\n",
       " [13],\n",
       " [13],\n",
       " [13],\n",
       " [13],\n",
       " [13],\n",
       " [13],\n",
       " [13],\n",
       " [13],\n",
       " [13],\n",
       " [13],\n",
       " [13],\n",
       " [13],\n",
       " [13],\n",
       " [13],\n",
       " [13],\n",
       " [13],\n",
       " [13],\n",
       " [13],\n",
       " [13],\n",
       " [13],\n",
       " [13],\n",
       " [13],\n",
       " [13],\n",
       " [13],\n",
       " [13],\n",
       " [13],\n",
       " [13],\n",
       " [13],\n",
       " [13],\n",
       " [13],\n",
       " [13],\n",
       " [13],\n",
       " [13],\n",
       " [13],\n",
       " [13],\n",
       " [13],\n",
       " [13],\n",
       " [13],\n",
       " [13],\n",
       " [13],\n",
       " [14],\n",
       " [14],\n",
       " [14],\n",
       " [14],\n",
       " [14],\n",
       " [14],\n",
       " [14],\n",
       " [14],\n",
       " [14],\n",
       " [14],\n",
       " [14],\n",
       " [14],\n",
       " [14],\n",
       " [14],\n",
       " [14],\n",
       " [14],\n",
       " [14],\n",
       " [14],\n",
       " [14],\n",
       " [14],\n",
       " [14],\n",
       " [14],\n",
       " [14],\n",
       " [14],\n",
       " [14],\n",
       " [14],\n",
       " [14],\n",
       " [14],\n",
       " [14],\n",
       " [14],\n",
       " [14],\n",
       " [14],\n",
       " [14],\n",
       " [14],\n",
       " [14],\n",
       " [14],\n",
       " [14],\n",
       " [14],\n",
       " [14],\n",
       " [14],\n",
       " [14],\n",
       " [14],\n",
       " [14],\n",
       " [14],\n",
       " [14],\n",
       " [14],\n",
       " [14],\n",
       " [14],\n",
       " [14],\n",
       " [14],\n",
       " [14],\n",
       " [14],\n",
       " [14],\n",
       " [14],\n",
       " [14],\n",
       " [14],\n",
       " [14],\n",
       " [14],\n",
       " [14],\n",
       " [14],\n",
       " [14],\n",
       " [14],\n",
       " [14],\n",
       " [14],\n",
       " [14],\n",
       " [14],\n",
       " [14],\n",
       " [14],\n",
       " [14],\n",
       " [14],\n",
       " [14],\n",
       " [14],\n",
       " [14],\n",
       " [14],\n",
       " [14],\n",
       " [14],\n",
       " [14],\n",
       " [14],\n",
       " [14],\n",
       " [14],\n",
       " [14],\n",
       " [14],\n",
       " [14],\n",
       " [14],\n",
       " [14],\n",
       " [14],\n",
       " [14],\n",
       " [14],\n",
       " [14],\n",
       " [14],\n",
       " [14],\n",
       " [14],\n",
       " [14],\n",
       " [14],\n",
       " [14],\n",
       " [14],\n",
       " [14],\n",
       " [14],\n",
       " [14],\n",
       " [14],\n",
       " [14],\n",
       " [14],\n",
       " [14],\n",
       " [14],\n",
       " [14],\n",
       " [14],\n",
       " [14],\n",
       " [14],\n",
       " [14],\n",
       " [14],\n",
       " [14],\n",
       " [14],\n",
       " [14],\n",
       " [14],\n",
       " [14],\n",
       " [14],\n",
       " [14],\n",
       " [14],\n",
       " [14],\n",
       " [14],\n",
       " [14],\n",
       " [14],\n",
       " [14],\n",
       " [14],\n",
       " [14],\n",
       " [14],\n",
       " [14],\n",
       " [14],\n",
       " [14],\n",
       " [14],\n",
       " [14],\n",
       " [14],\n",
       " [14],\n",
       " [14],\n",
       " [14],\n",
       " [14],\n",
       " [14],\n",
       " [15],\n",
       " [15],\n",
       " [15],\n",
       " [15],\n",
       " [15],\n",
       " [15],\n",
       " [15],\n",
       " [15],\n",
       " [15],\n",
       " [15],\n",
       " [15],\n",
       " [15],\n",
       " [15],\n",
       " [15],\n",
       " [15],\n",
       " [15],\n",
       " [15],\n",
       " [15],\n",
       " [15],\n",
       " [15],\n",
       " [15],\n",
       " [15],\n",
       " [15],\n",
       " [15],\n",
       " [15],\n",
       " [15],\n",
       " [15],\n",
       " [15],\n",
       " [15],\n",
       " [15],\n",
       " [15],\n",
       " [15],\n",
       " [15],\n",
       " [15],\n",
       " [15],\n",
       " [15],\n",
       " [15],\n",
       " [15],\n",
       " [15],\n",
       " [15],\n",
       " [15],\n",
       " [15],\n",
       " [15],\n",
       " [15],\n",
       " [15],\n",
       " [15],\n",
       " [15],\n",
       " [15],\n",
       " [15],\n",
       " [15],\n",
       " [15],\n",
       " [15],\n",
       " [15],\n",
       " [15],\n",
       " [15],\n",
       " [15],\n",
       " [15],\n",
       " [15],\n",
       " [15],\n",
       " [15],\n",
       " [15],\n",
       " [15],\n",
       " [15],\n",
       " [15],\n",
       " [15],\n",
       " [15],\n",
       " [15],\n",
       " [15],\n",
       " [15],\n",
       " [15],\n",
       " [15],\n",
       " [15],\n",
       " [15],\n",
       " [15],\n",
       " [15],\n",
       " [15],\n",
       " [15],\n",
       " [15],\n",
       " [15],\n",
       " [15],\n",
       " [15],\n",
       " [15],\n",
       " [15],\n",
       " [15],\n",
       " [15],\n",
       " [15],\n",
       " [15],\n",
       " [15],\n",
       " [15],\n",
       " [15],\n",
       " [15],\n",
       " [15],\n",
       " [15],\n",
       " [15],\n",
       " [15],\n",
       " [15],\n",
       " [15],\n",
       " [15],\n",
       " [15],\n",
       " [15],\n",
       " [15],\n",
       " [15],\n",
       " [15],\n",
       " [15],\n",
       " [15],\n",
       " [15],\n",
       " [15],\n",
       " [15],\n",
       " [15],\n",
       " [15],\n",
       " [15],\n",
       " [15],\n",
       " [15],\n",
       " [15],\n",
       " [15],\n",
       " [15],\n",
       " [15],\n",
       " [15],\n",
       " [15],\n",
       " [15],\n",
       " [15],\n",
       " [15],\n",
       " [15],\n",
       " [15],\n",
       " [15],\n",
       " [15],\n",
       " [15],\n",
       " [15],\n",
       " [15],\n",
       " [15],\n",
       " [15],\n",
       " [15],\n",
       " [15],\n",
       " [15],\n",
       " [15],\n",
       " [15],\n",
       " [15],\n",
       " [15],\n",
       " [15],\n",
       " [15],\n",
       " [15],\n",
       " [15],\n",
       " [15],\n",
       " [16],\n",
       " [16],\n",
       " [16],\n",
       " [16],\n",
       " [16],\n",
       " [16],\n",
       " [16],\n",
       " [16],\n",
       " [16],\n",
       " [16],\n",
       " [16],\n",
       " [16],\n",
       " [16],\n",
       " [16],\n",
       " [16],\n",
       " [16],\n",
       " [16],\n",
       " [16],\n",
       " [16],\n",
       " [16],\n",
       " [16],\n",
       " [16],\n",
       " [16],\n",
       " [16],\n",
       " [16],\n",
       " [16],\n",
       " [16],\n",
       " [16],\n",
       " [16],\n",
       " [16],\n",
       " [16],\n",
       " [16],\n",
       " [16],\n",
       " [16],\n",
       " [16],\n",
       " [16],\n",
       " [16],\n",
       " [16],\n",
       " [16],\n",
       " [16],\n",
       " [16],\n",
       " [16],\n",
       " [16],\n",
       " [16],\n",
       " [16],\n",
       " [16],\n",
       " [16],\n",
       " [16],\n",
       " [16],\n",
       " [16],\n",
       " [16],\n",
       " [16],\n",
       " [16],\n",
       " [16],\n",
       " [16],\n",
       " [16],\n",
       " [16],\n",
       " [16],\n",
       " [16],\n",
       " [16],\n",
       " [16],\n",
       " [16],\n",
       " [16],\n",
       " [16],\n",
       " [16],\n",
       " [16],\n",
       " [16],\n",
       " [16],\n",
       " [16],\n",
       " [16],\n",
       " [16],\n",
       " [16],\n",
       " [16],\n",
       " [16],\n",
       " [16],\n",
       " [16],\n",
       " [16],\n",
       " [16],\n",
       " [16],\n",
       " [16],\n",
       " [16],\n",
       " [16],\n",
       " [16],\n",
       " [16],\n",
       " [16],\n",
       " [16],\n",
       " [16],\n",
       " [16],\n",
       " [16],\n",
       " [16],\n",
       " [16],\n",
       " [16],\n",
       " [16],\n",
       " [16],\n",
       " [16],\n",
       " [16],\n",
       " [16],\n",
       " [16],\n",
       " [16],\n",
       " [16],\n",
       " [16],\n",
       " [16],\n",
       " [16],\n",
       " [16],\n",
       " [16],\n",
       " [16],\n",
       " [16],\n",
       " [16],\n",
       " [16],\n",
       " [16],\n",
       " [16],\n",
       " [16],\n",
       " [16],\n",
       " [16],\n",
       " [16],\n",
       " [16],\n",
       " [16],\n",
       " [16],\n",
       " [16],\n",
       " [16],\n",
       " [16],\n",
       " [16],\n",
       " [16],\n",
       " [16],\n",
       " [16],\n",
       " [16],\n",
       " [16],\n",
       " [16],\n",
       " [16],\n",
       " [16],\n",
       " [16],\n",
       " [16],\n",
       " [16],\n",
       " [16],\n",
       " [16],\n",
       " [16],\n",
       " [16],\n",
       " [16],\n",
       " [16],\n",
       " [16],\n",
       " [16],\n",
       " [16],\n",
       " [16],\n",
       " [16],\n",
       " [16],\n",
       " [16],\n",
       " [16],\n",
       " [16],\n",
       " [16],\n",
       " [16],\n",
       " [16],\n",
       " [16],\n",
       " [16],\n",
       " [16],\n",
       " [16],\n",
       " [16],\n",
       " [16],\n",
       " [16],\n",
       " [16],\n",
       " [16],\n",
       " [16],\n",
       " [16],\n",
       " [16],\n",
       " [16],\n",
       " [16],\n",
       " [16],\n",
       " [16],\n",
       " [16],\n",
       " [16],\n",
       " [16],\n",
       " [16],\n",
       " [16],\n",
       " [16],\n",
       " [16],\n",
       " [16],\n",
       " [16],\n",
       " [16],\n",
       " [16],\n",
       " [16],\n",
       " [16],\n",
       " [16],\n",
       " [16],\n",
       " [16],\n",
       " [16],\n",
       " [16],\n",
       " [16],\n",
       " [16],\n",
       " [16],\n",
       " [16],\n",
       " [16],\n",
       " [16],\n",
       " [16],\n",
       " [16],\n",
       " [16],\n",
       " [16],\n",
       " [16],\n",
       " [16],\n",
       " [16],\n",
       " [16],\n",
       " [16],\n",
       " [16],\n",
       " [16],\n",
       " [16],\n",
       " [16],\n",
       " [16],\n",
       " [16],\n",
       " [16],\n",
       " [16],\n",
       " [16],\n",
       " [16],\n",
       " [16],\n",
       " [16],\n",
       " [17],\n",
       " [17],\n",
       " [17],\n",
       " [17],\n",
       " [17],\n",
       " [17],\n",
       " [17],\n",
       " [17],\n",
       " [17],\n",
       " [17],\n",
       " [17],\n",
       " [17],\n",
       " [17],\n",
       " [17],\n",
       " [17],\n",
       " [17],\n",
       " [17],\n",
       " [17],\n",
       " [17],\n",
       " [17],\n",
       " [17],\n",
       " [17],\n",
       " [17],\n",
       " [17],\n",
       " [17],\n",
       " [17],\n",
       " [17],\n",
       " [17],\n",
       " [17],\n",
       " [17],\n",
       " [17],\n",
       " [17],\n",
       " [17],\n",
       " [17],\n",
       " [17],\n",
       " [17],\n",
       " [17],\n",
       " [17],\n",
       " [17],\n",
       " [17],\n",
       " [17],\n",
       " [17],\n",
       " [17],\n",
       " [17],\n",
       " [17],\n",
       " [17],\n",
       " [17],\n",
       " [17],\n",
       " [17],\n",
       " [17],\n",
       " [17],\n",
       " [17],\n",
       " [17],\n",
       " [17],\n",
       " [17],\n",
       " [17],\n",
       " [17],\n",
       " [17],\n",
       " [17],\n",
       " [17],\n",
       " [17],\n",
       " [17],\n",
       " [17],\n",
       " [17],\n",
       " [17],\n",
       " [17],\n",
       " [17],\n",
       " [17],\n",
       " [17],\n",
       " [17],\n",
       " [17],\n",
       " [17],\n",
       " [17],\n",
       " [17],\n",
       " [17],\n",
       " [17],\n",
       " [17],\n",
       " [17],\n",
       " [17],\n",
       " [17],\n",
       " [17],\n",
       " [17],\n",
       " [17],\n",
       " [17],\n",
       " [17],\n",
       " [17],\n",
       " [17],\n",
       " [17],\n",
       " [17],\n",
       " [17],\n",
       " [17],\n",
       " [17],\n",
       " [17],\n",
       " [17],\n",
       " [17],\n",
       " [17],\n",
       " [17],\n",
       " [17],\n",
       " [17],\n",
       " [17],\n",
       " [17],\n",
       " [17],\n",
       " [17],\n",
       " [18],\n",
       " [18],\n",
       " [18],\n",
       " [18],\n",
       " [18],\n",
       " [18],\n",
       " [18],\n",
       " [18],\n",
       " [18],\n",
       " [18],\n",
       " [18],\n",
       " [18],\n",
       " [18],\n",
       " [18],\n",
       " [18],\n",
       " [18],\n",
       " ...]"
      ]
     },
     "execution_count": 42,
     "metadata": {},
     "output_type": "execute_result"
    }
   ],
   "source": [
    "age"
   ]
  },
  {
   "cell_type": "code",
   "execution_count": 24,
   "metadata": {
    "id": "n1gnVeU_JCvn"
   },
   "outputs": [],
   "source": [
    "X_img =np.array(images)"
   ]
  },
  {
   "cell_type": "code",
   "execution_count": 25,
   "metadata": {
    "colab": {
     "base_uri": "https://localhost:8080/",
     "height": 171
    },
    "id": "384AMs6uKGmT",
    "outputId": "be24a7c5-fcdc-4a74-9515-3fb70e9eb6f2"
   },
   "outputs": [],
   "source": [
    "X_scaled = X_img/ 255.0"
   ]
  },
  {
   "cell_type": "code",
   "execution_count": 26,
   "metadata": {},
   "outputs": [
    {
     "data": {
      "text/plain": [
       "(2000, 40000)"
      ]
     },
     "execution_count": 26,
     "metadata": {},
     "output_type": "execute_result"
    }
   ],
   "source": [
    "X_scaled.shape"
   ]
  },
  {
   "cell_type": "markdown",
   "metadata": {
    "id": "lcnOQdOG09re"
   },
   "source": []
  },
  {
   "cell_type": "code",
   "execution_count": 44,
   "metadata": {
    "id": "9aZvz8ZWmPPT"
   },
   "outputs": [],
   "source": [
    "y_age = np.array(age).astype(int).ravel()\n",
    "y_gender = np.array(gender).astype(int).ravel()\n",
    "y_race = np.array(race).astype(int)"
   ]
  },
  {
   "cell_type": "code",
   "execution_count": 28,
   "metadata": {},
   "outputs": [
    {
     "data": {
      "text/plain": [
       "array([1, 1, 1, ..., 1, 1, 1])"
      ]
     },
     "execution_count": 28,
     "metadata": {},
     "output_type": "execute_result"
    }
   ],
   "source": [
    "y_gender"
   ]
  },
  {
   "cell_type": "code",
   "execution_count": 29,
   "metadata": {
    "id": "dxYNri8RJCqi"
   },
   "outputs": [],
   "source": [
    "#gender\n",
    "X_train, X_test, y_train, y_test = train_test_split(X_scaled, y_gender,y_age test_size=0.33, random_state=42)"
   ]
  },
  {
   "cell_type": "code",
   "execution_count": 30,
   "metadata": {
    "colab": {
     "base_uri": "https://localhost:8080/"
    },
    "id": "DY_b5H8pSowj",
    "outputId": "65d0ba55-ec31-4bcd-8382-f487a234a79a"
   },
   "outputs": [
    {
     "data": {
      "text/plain": [
       "(1340, 660)"
      ]
     },
     "execution_count": 30,
     "metadata": {},
     "output_type": "execute_result"
    }
   ],
   "source": [
    "X_train.shape[0], X_test.shape[0]"
   ]
  },
  {
   "cell_type": "code",
   "execution_count": 31,
   "metadata": {
    "id": "eSQb5O1FS6mw"
   },
   "outputs": [],
   "source": [
    "model = SVC(kernel = 'linear', C=1.0, random_state=42, verbose = True)"
   ]
  },
  {
   "cell_type": "code",
   "execution_count": 32,
   "metadata": {
    "id": "6RYnV9mQSLPb"
   },
   "outputs": [
    {
     "name": "stdout",
     "output_type": "stream",
     "text": [
      "[LibSVM]"
     ]
    },
    {
     "data": {
      "text/plain": [
       "SVC(kernel='linear', random_state=42, verbose=True)"
      ]
     },
     "execution_count": 32,
     "metadata": {},
     "output_type": "execute_result"
    }
   ],
   "source": [
    "model.fit(X_train, y_train)"
   ]
  },
  {
   "cell_type": "code",
   "execution_count": 33,
   "metadata": {
    "id": "EoZZydXxWoDe"
   },
   "outputs": [],
   "source": [
    "y_pred_train = model.predict(X_train)"
   ]
  },
  {
   "cell_type": "code",
   "execution_count": 34,
   "metadata": {
    "id": "g9DC6DSfWoFF"
   },
   "outputs": [
    {
     "name": "stdout",
     "output_type": "stream",
     "text": [
      "accuracy: 1.0\n",
      "              precision    recall  f1-score   support\n",
      "\n",
      "           0       1.00      1.00      1.00       772\n",
      "           1       1.00      1.00      1.00       568\n",
      "\n",
      "    accuracy                           1.00      1340\n",
      "   macro avg       1.00      1.00      1.00      1340\n",
      "weighted avg       1.00      1.00      1.00      1340\n",
      "\n"
     ]
    }
   ],
   "source": [
    "print(f\"accuracy: {accuracy_score(y_train, y_pred_train)}\")\n",
    "print(f\"{classification_report(y_train, y_pred_train)}\")"
   ]
  },
  {
   "cell_type": "code",
   "execution_count": 35,
   "metadata": {
    "id": "sHedik5MWoI3"
   },
   "outputs": [
    {
     "name": "stdout",
     "output_type": "stream",
     "text": [
      "accuracy: 0.7303030303030303\n",
      "              precision    recall  f1-score   support\n",
      "\n",
      "           0       0.78      0.76      0.77       389\n",
      "           1       0.67      0.68      0.68       271\n",
      "\n",
      "    accuracy                           0.73       660\n",
      "   macro avg       0.72      0.72      0.72       660\n",
      "weighted avg       0.73      0.73      0.73       660\n",
      "\n"
     ]
    }
   ],
   "source": [
    "y_pred_test = model.predict(X_test)\n",
    "print(f\"accuracy: {accuracy_score(y_test, y_pred_test)}\")\n",
    "print(f\"{classification_report(y_test, y_pred_test)}\")"
   ]
  },
  {
   "cell_type": "code",
   "execution_count": 45,
   "metadata": {},
   "outputs": [],
   "source": [
    "X_train, X_test, y_train, y_test = train_test_split(X_scaled,y_age, test_size=0.33, random_state=42)"
   ]
  },
  {
   "cell_type": "code",
   "execution_count": 46,
   "metadata": {},
   "outputs": [
    {
     "data": {
      "text/plain": [
       "((2000, 40000), (2000,))"
      ]
     },
     "execution_count": 46,
     "metadata": {},
     "output_type": "execute_result"
    }
   ],
   "source": [
    "X_scaled.shape,y_age.shape"
   ]
  },
  {
   "cell_type": "code",
   "execution_count": 48,
   "metadata": {
    "id": "XJVCnnJYYQqW"
   },
   "outputs": [],
   "source": [
    "model_r = SVR(kernel = 'linear', C=1.0, verbose = True)"
   ]
  },
  {
   "cell_type": "code",
   "execution_count": 49,
   "metadata": {
    "id": "nTa7mPw4YQte"
   },
   "outputs": [
    {
     "name": "stdout",
     "output_type": "stream",
     "text": [
      "[LibSVM]"
     ]
    },
    {
     "data": {
      "text/plain": [
       "SVR(kernel='linear', verbose=True)"
      ]
     },
     "execution_count": 49,
     "metadata": {},
     "output_type": "execute_result"
    }
   ],
   "source": [
    "model_r.fit(X_train, y_train)"
   ]
  },
  {
   "cell_type": "code",
   "execution_count": 50,
   "metadata": {},
   "outputs": [],
   "source": [
    "y_pred_age = model_r.predict(X_train)"
   ]
  },
  {
   "cell_type": "code",
   "execution_count": 53,
   "metadata": {},
   "outputs": [
    {
     "data": {
      "text/plain": [
       "((2000,), (1340,))"
      ]
     },
     "execution_count": 53,
     "metadata": {},
     "output_type": "execute_result"
    }
   ],
   "source": [
    "y_age.shape, y_pred_age.shape"
   ]
  },
  {
   "cell_type": "code",
   "execution_count": 58,
   "metadata": {},
   "outputs": [
    {
     "data": {
      "text/plain": [
       "[<matplotlib.lines.Line2D at 0x2da004e52e0>]"
      ]
     },
     "execution_count": 58,
     "metadata": {},
     "output_type": "execute_result"
    },
    {
     "data": {
      "image/png": "[encoded data removed]",
      "text/plain": [
       "<Figure size 432x288 with 1 Axes>"
      ]
     },
     "metadata": {
      "needs_background": "light"
     },
     "output_type": "display_data"
    }
   ],
   "source": [
    "plt.scatter(y_train, y_pred_age)\n",
    "plt.plot([0,100],[0,100])"
   ]
  },
  {
   "cell_type": "code",
   "execution_count": 60,
   "metadata": {},
   "outputs": [
    {
     "data": {
      "text/plain": [
       "4.580023674806437"
      ]
     },
     "execution_count": 60,
     "metadata": {},
     "output_type": "execute_result"
    }
   ],
   "source": [
    "mean_squared_error(y_train, y_pred_age)"
   ]
  },
  {
   "cell_type": "code",
   "execution_count": 62,
   "metadata": {},
   "outputs": [
    {
     "data": {
      "text/plain": [
       "0.17610614698965138"
      ]
     },
     "execution_count": 62,
     "metadata": {},
     "output_type": "execute_result"
    }
   ],
   "source": [
    "mean_absolute_error(y_train, y_pred_age)"
   ]
  },
  {
   "cell_type": "code",
   "execution_count": 64,
   "metadata": {},
   "outputs": [],
   "source": [
    "y_test_age = model_r.predict(X_test)"
   ]
  },
  {
   "cell_type": "code",
   "execution_count": 65,
   "metadata": {},
   "outputs": [
    {
     "data": {
      "text/plain": [
       "[<matplotlib.lines.Line2D at 0x2da00545b80>]"
      ]
     },
     "execution_count": 65,
     "metadata": {},
     "output_type": "execute_result"
    },
    {
     "data": {
      "image/png": "[encoded data removed]",
      "text/plain": [
       "<Figure size 432x288 with 1 Axes>"
      ]
     },
     "metadata": {
      "needs_background": "light"
     },
     "output_type": "display_data"
    }
   ],
   "source": [
    "plt.scatter(y_test,y_test_age)\n",
    "plt.plot([0,100],[0,100])"
   ]
  },
  {
   "cell_type": "code",
   "execution_count": 67,
   "metadata": {},
   "outputs": [
    {
     "data": {
      "text/plain": [
       "3.99863751885033"
      ]
     },
     "execution_count": 67,
     "metadata": {},
     "output_type": "execute_result"
    }
   ],
   "source": [
    "mean_absolute_error(y_test, y_test_age)"
   ]
  },
  {
   "cell_type": "code",
   "execution_count": null,
   "metadata": {
    "id": "V2XmOWpWiBOE"
   },
   "outputs": [],
   "source": [
    "from io import BytesIO"
   ]
  },
  {
   "cell_type": "code",
   "execution_count": 11,
   "metadata": {
    "colab": {
     "base_uri": "https://localhost:8080/"
    },
    "id": "Tk8SGV6HUfza",
    "outputId": "c2e1d722-4695-403a-8002-bd4d85dd57b2"
   },
   "outputs": [
    {
     "name": "stdout",
     "output_type": "stream",
     "text": [
      "Downloading data from https://storage.googleapis.com/tensorflow/keras-applications/vgg16/vgg16_weights_tf_dim_ordering_tf_kernels.h5\n",
      "553467904/553467096 [==============================] - 3s 0us/step\n",
      "553476096/553467096 [==============================] - 3s 0us/step\n"
     ]
    }
   ],
   "source": [
    "model = keras.applications.VGG16()\n"
   ]
  },
  {
   "cell_type": "code",
   "execution_count": null,
   "metadata": {
    "id": "cPadRSGb2_9s"
   },
   "outputs": [],
   "source": []
  }
 ],
 "metadata": {
  "colab": {
   "name": "ML group project_Faces.ipynb",
   "provenance": []
  },
  "kernelspec": {
   "display_name": "Python 3 (ipykernel)",
   "language": "python",
   "name": "python3"
  },
  "language_info": {
   "codemirror_mode": {
    "name": "ipython",
    "version": 3
   },
   "file_extension": ".py",
   "mimetype": "text/x-python",
   "name": "python",
   "nbconvert_exporter": "python",
   "pygments_lexer": "ipython3",
   "version": "3.9.7"
  }
 },
 "nbformat": 4,
 "nbformat_minor": 1
}
