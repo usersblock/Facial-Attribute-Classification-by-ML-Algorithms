{
 "cells": [
  {
   "cell_type": "code",
   "execution_count": 1,
   "metadata": {
    "colab": {
     "base_uri": "https://localhost:8080/",
     "height": 234
    },
    "id": "QNU1pLu09rdv",
    "outputId": "babcce69-0729-4767-8999-75db55d745ef"
   },
   "outputs": [],
   "source": [
    "import pandas as pd\n",
    "import numpy as np\n",
    "from PIL import Image\n",
    "from os import listdir\n",
    "from os.path import isfile, join\n",
    "import tensorflow as tf\n",
    "import cv2\n",
    "from tensorflow.keras import layers, models\n",
    "import matplotlib.pyplot as plt\n",
    "from sklearn.model_selection import train_test_split\n",
    "from sklearn.metrics import confusion_matrix\n",
    "from keras import Model\n",
    "from tensorflow.keras.layers import Input,Activation,Add, MaxPooling2D, Flatten, Dense\n",
    "import gc"
   ]
  },
  {
   "cell_type": "code",
   "execution_count": 2,
   "metadata": {},
   "outputs": [],
   "source": [
    "#Import image labels and paths to dataframe\n",
    "mypath = \"./Data/CroppedImages/\"\n",
    "filenames = np.array([f for f in listdir(mypath) if isfile(join(mypath, f))])\n",
    "splitcolumns = [x.split('_')[0:3] + [mypath + x] for x in filenames if x.count('_') == 3]\n",
    "filecolumns = ['age','gender','race','file']\n",
    "filedf = pd.DataFrame(data = splitcolumns, columns = filecolumns)"
   ]
  },
  {
   "cell_type": "code",
   "execution_count": 3,
   "metadata": {},
   "outputs": [],
   "source": [
    "# Stratified Sampling of gender 0\n",
    "genderzerodf = filedf[filedf['gender'] == '0']\n",
    "genderonedf = filedf[filedf['gender'] == '1']\n",
    "traingender = genderzerodf.groupby('age', group_keys=False).apply(lambda x: x.sample(frac = 0.2))"
   ]
  },
  {
   "cell_type": "code",
   "execution_count": 4,
   "metadata": {},
   "outputs": [],
   "source": [
    "# Get '0' test examples\n",
    "testzero = genderzerodf.groupby('age', group_keys=False).apply(lambda x: x.sample(frac = 0.5))\n",
    "# Get '1' test examples\n",
    "testone = genderonedf.groupby('age', group_keys=False).apply(lambda x: x.sample(frac = 0.5))"
   ]
  },
  {
   "cell_type": "code",
   "execution_count": 5,
   "metadata": {},
   "outputs": [],
   "source": [
    "def get_image_average(links):\n",
    "    img_container = []\n",
    "    for i in links:\n",
    "        img = cv2.imread(i)\n",
    "        img_container.append(img)\n",
    "    return np.mean(img_container,axis = 0)\n",
    "\n",
    "def get_descriptors(links):\n",
    "    container = []\n",
    "    sift = cv2.SIFT_create()\n",
    "    for i in links:\n",
    "        img = cv2.imread(i)\n",
    "        img_bw = cv2.cvtColor(img, cv2.COLOR_BGR2GRAY)\n",
    "        keypoint,descriptor = sift.detectAndCompute(img_bw,None)\n",
    "        container.append([keypoint,descriptor])\n",
    "    return container\n",
    "\n",
    "def get_similarity(train,queries):\n",
    "    matcher = cv2.BFMatcher()\n",
    "    similarity = []\n",
    "    for j in train:\n",
    "        container = []\n",
    "        for i in queries:\n",
    "            if(any(elem is None for elem in [i[0],i[1],j[0],j[1]])):\n",
    "                container.append(0)\n",
    "                continue\n",
    "            matches = matcher.knnMatch(i[1],j[1], k=2)\n",
    "            number_keypoints = 0\n",
    "            if len(j[0]) <= len(i[0]):\n",
    "                number_keypoints = len(j[0])\n",
    "            else:\n",
    "                number_keypoints = len(i[0])\n",
    "            # Apply ratio test\n",
    "            good = []\n",
    "            for m,n in matches:\n",
    "                if m.distance < 0.75*n.distance:\n",
    "                    good.append([m])        \n",
    "            \n",
    "            percent=(len(good)*100)/number_keypoints\n",
    "            container.append(percent)\n",
    "        similarity.append(container)\n",
    "    return similarity"
   ]
  },
  {
   "cell_type": "code",
   "execution_count": 50,
   "metadata": {},
   "outputs": [],
   "source": [
    "train = get_descriptors(traingender.loc[:,'file'])\n",
    "test0 = get_descriptors(testzero.loc[:,'file'])\n",
    "test1 = get_descriptors(testone.loc[:,'file'])"
   ]
  },
  {
   "cell_type": "code",
   "execution_count": 29,
   "metadata": {},
   "outputs": [],
   "source": [
    "similarityzero = get_similarity(train,test0[:100])\n",
    "similarityone = get_similarity(train,test1[:100])"
   ]
  },
  {
   "cell_type": "code",
   "execution_count": 32,
   "metadata": {},
   "outputs": [
    {
     "data": {
      "text/plain": [
       "3.1225699954555823"
      ]
     },
     "execution_count": 32,
     "metadata": {},
     "output_type": "execute_result"
    }
   ],
   "source": [
    "np.mean(similarityzero)"
   ]
  },
  {
   "cell_type": "code",
   "execution_count": 94,
   "metadata": {},
   "outputs": [
    {
     "data": {
      "text/plain": [
       "1.2453637355712786"
      ]
     },
     "execution_count": 94,
     "metadata": {},
     "output_type": "execute_result"
    }
   ],
   "source": [
    "np.mean(similarityone)"
   ]
  },
  {
   "cell_type": "code",
   "execution_count": 8,
   "metadata": {
    "colab": {
     "base_uri": "https://localhost:8080/"
    },
    "id": "70Oe7pkJHFyP",
    "outputId": "7e1b0a4b-3857-47fa-8382-608aff68d656"
   },
   "outputs": [],
   "source": [
    "gender_zero_img = get_image_average(genderzerodf.loc[:,'file'])"
   ]
  },
  {
   "cell_type": "code",
   "execution_count": 47,
   "metadata": {},
   "outputs": [],
   "source": [
    "from PIL import Image\n",
    "im = Image.fromarray(gender_zero_img.astype(np.uint8))\n",
    "im.save(\"test_zero_img.png\")"
   ]
  },
  {
   "cell_type": "code",
   "execution_count": 9,
   "metadata": {},
   "outputs": [
    {
     "name": "stderr",
     "output_type": "stream",
     "text": [
      "Clipping input data to the valid range for imshow with RGB data ([0..1] for floats or [0..255] for integers).\n"
     ]
    },
    {
     "data": {
      "text/plain": [
       "<matplotlib.image.AxesImage at 0x1c241f39e10>"
      ]
     },
     "execution_count": 9,
     "metadata": {},
     "output_type": "execute_result"
    },
    {
     "data": {
      "image/png": "[encoded data removed]",
      "text/plain": [
       "<Figure size 432x288 with 1 Axes>"
      ]
     },
     "metadata": {
      "needs_background": "light"
     },
     "output_type": "display_data"
    }
   ],
   "source": [
    "plt.imshow(gender_zero_img,cmap = 'gray')"
   ]
  },
  {
   "cell_type": "code",
   "execution_count": 13,
   "metadata": {},
   "outputs": [],
   "source": [
    "gender_one_img = get_image_average(genderonedf.loc[:,'file'])"
   ]
  },
  {
   "cell_type": "code",
   "execution_count": null,
   "metadata": {},
   "outputs": [],
   "source": [
    "plt.imshow(gender_one_img, cmap = 'gray')"
   ]
  },
  {
   "cell_type": "code",
   "execution_count": 48,
   "metadata": {},
   "outputs": [],
   "source": [
    "sift = cv2.SIFT_create()\n",
    "img = cv2.imread('test_zero_img.png')\n",
    "img_bw = cv2.cvtColor(img, cv2.COLOR_BGR2GRAY)\n",
    "keypoint_mean,descriptor_mean = sift.detectAndCompute(img_bw,None)\n"
   ]
  },
  {
   "cell_type": "code",
   "execution_count": 52,
   "metadata": {},
   "outputs": [],
   "source": [
    "similarity_zero_avg = get_similarity([[keypoint_mean,descriptor_mean]],test0)"
   ]
  }
 ],
 "metadata": {
  "colab": {
   "name": "ORB Test.ipynb",
   "provenance": []
  },
  "kernelspec": {
   "display_name": "Python 3 (ipykernel)",
   "language": "python",
   "name": "python3"
  },
  "language_info": {
   "codemirror_mode": {
    "name": "ipython",
    "version": 3
   },
   "file_extension": ".py",
   "mimetype": "text/x-python",
   "name": "python",
   "nbconvert_exporter": "python",
   "pygments_lexer": "ipython3",
   "version": "3.10.2"
  }
 },
 "nbformat": 4,
 "nbformat_minor": 4
}
