{
 "cells": [
  {
   "cell_type": "code",
   "execution_count": null,
   "id": "d19acb14-47fd-4c5b-9312-f3a76089797f",
   "metadata": {
    "id": "d19acb14-47fd-4c5b-9312-f3a76089797f"
   },
   "outputs": [],
   "source": [
    "import pandas as pd\n",
    "import numpy as np\n",
    "from PIL import Image\n",
    "from os import listdir\n",
    "from os.path import isfile, join\n",
    "import tensorflow as tf\n",
    "import cv2\n",
    "from tensorflow.keras import layers, models\n",
    "import matplotlib.pyplot as plt\n",
    "from sklearn.model_selection import train_test_split\n",
    "from sklearn.metrics import confusion_matrix\n",
    "from keras import Model\n",
    "from tensorflow.keras.layers import Input,Activation,Add, MaxPooling2D, Flatten, Dense\n",
    "import gc"
   ]
  },
  {
   "cell_type": "code",
   "execution_count": null,
   "id": "rVDpCTdnGf7j",
   "metadata": {
    "colab": {
     "base_uri": "https://localhost:8080/"
    },
    "id": "rVDpCTdnGf7j",
    "outputId": "f26f885b-a7b7-4d24-8b5b-5bcdc95b7e06"
   },
   "outputs": [
    {
     "name": "stdout",
     "output_type": "stream",
     "text": [
      "Drive already mounted at /content/drive; to attempt to forcibly remount, call drive.mount(\"/content/drive\", force_remount=True).\n"
     ]
    }
   ],
   "source": [
    "from google.colab import drive\n",
    "drive.mount('/content/drive')"
   ]
  },
  {
   "cell_type": "code",
   "execution_count": null,
   "id": "hwE_cK795oou",
   "metadata": {
    "id": "hwE_cK795oou"
   },
   "outputs": [],
   "source": [
    "#Copy zip file into google collab, unzip, and delete zip file\n",
    "zip_path = 'drive/MyDrive/Project2/Data/CroppedImages.zip'\n",
    "!cp 'drive/MyDrive/Project2/Data/CroppedImages.zip' \"/content/data/cropped/\"\n",
    "!unzip -q '/content/data/cropped/CroppedImages.zip' -d \"/content/data/cropped/\"\n",
    "!rm '/content/data/cropped/CroppedImages.zip'"
   ]
  },
  {
   "cell_type": "code",
   "execution_count": null,
   "id": "69d37c56-46d2-4f5b-89df-7efca31ad23a",
   "metadata": {
    "id": "69d37c56-46d2-4f5b-89df-7efca31ad23a"
   },
   "outputs": [],
   "source": [
    "#Import image labels and paths to dataframe\n",
    "mypath = \"/content/data/cropped/\"\n",
    "filenames = np.array([f for f in listdir(mypath) if isfile(join(mypath, f))])\n",
    "splitcolumns = [x.split('_')[0:3] + [mypath + x] for x in filenames if x.count('_') == 3]\n",
    "filecolumns = ['age','gender','race','file']\n",
    "filedf = pd.DataFrame(data = splitcolumns, columns = filecolumns)"
   ]
  },
  {
   "cell_type": "code",
   "execution_count": null,
   "id": "96aeb851-e83e-4513-9e6d-c19a6f51ddd1",
   "metadata": {
    "colab": {
     "base_uri": "https://localhost:8080/"
    },
    "id": "96aeb851-e83e-4513-9e6d-c19a6f51ddd1",
    "outputId": "e1824169-ff44-4247-b677-8c903a4cd196"
   },
   "outputs": [
    {
     "name": "stdout",
     "output_type": "stream",
     "text": [
      "<class 'pandas.core.frame.DataFrame'>\n",
      "RangeIndex: 23705 entries, 0 to 23704\n",
      "Data columns (total 4 columns):\n",
      " #   Column  Non-Null Count  Dtype \n",
      "---  ------  --------------  ----- \n",
      " 0   age     23705 non-null  object\n",
      " 1   gender  23705 non-null  object\n",
      " 2   race    23705 non-null  object\n",
      " 3   file    23705 non-null  object\n",
      "dtypes: object(4)\n",
      "memory usage: 740.9+ KB\n"
     ]
    }
   ],
   "source": [
    "filedf.info()"
   ]
  },
  {
   "cell_type": "code",
   "execution_count": null,
   "id": "9d40ee42-38ab-445d-aad5-d5a5155ec180",
   "metadata": {
    "colab": {
     "base_uri": "https://localhost:8080/",
     "height": 174
    },
    "id": "9d40ee42-38ab-445d-aad5-d5a5155ec180",
    "outputId": "d5db32a2-706d-4c3f-f806-3d0dda39178f"
   },
   "outputs": [
    {
     "data": {
      "text/html": [
       "\n",
       "  <div id=\"df-09605fc6-2118-4ede-ac94-0efcd4fb9746\">\n",
       "    <div class=\"colab-df-container\">\n",
       "      <div>\n",
       "<style scoped>\n",
       "    .dataframe tbody tr th:only-of-type {\n",
       "        vertical-align: middle;\n",
       "    }\n",
       "\n",
       "    .dataframe tbody tr th {\n",
       "        vertical-align: top;\n",
       "    }\n",
       "\n",
       "    .dataframe thead th {\n",
       "        text-align: right;\n",
       "    }\n",
       "</style>\n",
       "<table border=\"1\" class=\"dataframe\">\n",
       "  <thead>\n",
       "    <tr style=\"text-align: right;\">\n",
       "      <th></th>\n",
       "      <th>age</th>\n",
       "      <th>gender</th>\n",
       "      <th>race</th>\n",
       "      <th>file</th>\n",
       "    </tr>\n",
       "  </thead>\n",
       "  <tbody>\n",
       "    <tr>\n",
       "      <th>count</th>\n",
       "      <td>23705</td>\n",
       "      <td>23705</td>\n",
       "      <td>23705</td>\n",
       "      <td>23705</td>\n",
       "    </tr>\n",
       "    <tr>\n",
       "      <th>unique</th>\n",
       "      <td>104</td>\n",
       "      <td>2</td>\n",
       "      <td>5</td>\n",
       "      <td>23705</td>\n",
       "    </tr>\n",
       "    <tr>\n",
       "      <th>top</th>\n",
       "      <td>26</td>\n",
       "      <td>0</td>\n",
       "      <td>0</td>\n",
       "      <td>/content/data/cropped/48_0_0_20170113183802559...</td>\n",
       "    </tr>\n",
       "    <tr>\n",
       "      <th>freq</th>\n",
       "      <td>2197</td>\n",
       "      <td>12391</td>\n",
       "      <td>10078</td>\n",
       "      <td>1</td>\n",
       "    </tr>\n",
       "  </tbody>\n",
       "</table>\n",
       "</div>\n",
       "      <button class=\"colab-df-convert\" onclick=\"convertToInteractive('df-09605fc6-2118-4ede-ac94-0efcd4fb9746')\"\n",
       "              title=\"Convert this dataframe to an interactive table.\"\n",
       "              style=\"display:none;\">\n",
       "        \n",
       "  <svg xmlns=\"http://www.w3.org/2000/svg\" height=\"24px\"viewBox=\"0 0 24 24\"\n",
       "       width=\"24px\">\n",
       "    <path d=\"M0 0h24v24H0V0z\" fill=\"none\"/>\n",
       "    <path d=\"M18.56 5.44l.94 2.06.94-2.06 2.06-.94-2.06-.94-.94-2.06-.94 2.06-2.06.94zm-11 1L8.5 8.5l.94-2.06 2.06-.94-2.06-.94L8.5 2.5l-.94 2.06-2.06.94zm10 10l.94 2.06.94-2.06 2.06-.94-2.06-.94-.94-2.06-.94 2.06-2.06.94z\"/><path d=\"M17.41 7.96l-1.37-1.37c-.4-.4-.92-.59-1.43-.59-.52 0-1.04.2-1.43.59L10.3 9.45l-7.72 7.72c-.78.78-.78 2.05 0 2.83L4 21.41c.39.39.9.59 1.41.59.51 0 1.02-.2 1.41-.59l7.78-7.78 2.81-2.81c.8-.78.8-2.07 0-2.86zM5.41 20L4 18.59l7.72-7.72 1.47 1.35L5.41 20z\"/>\n",
       "  </svg>\n",
       "      </button>\n",
       "      \n",
       "  <style>\n",
       "    .colab-df-container {\n",
       "      display:flex;\n",
       "      flex-wrap:wrap;\n",
       "      gap: 12px;\n",
       "    }\n",
       "\n",
       "    .colab-df-convert {\n",
       "      background-color: #E8F0FE;\n",
       "      border: none;\n",
       "      border-radius: 50%;\n",
       "      cursor: pointer;\n",
       "      display: none;\n",
       "      fill: #1967D2;\n",
       "      height: 32px;\n",
       "      padding: 0 0 0 0;\n",
       "      width: 32px;\n",
       "    }\n",
       "\n",
       "    .colab-df-convert:hover {\n",
       "      background-color: #E2EBFA;\n",
       "      box-shadow: 0px 1px 2px rgba(60, 64, 67, 0.3), 0px 1px 3px 1px rgba(60, 64, 67, 0.15);\n",
       "      fill: #174EA6;\n",
       "    }\n",
       "\n",
       "    [theme=dark] .colab-df-convert {\n",
       "      background-color: #3B4455;\n",
       "      fill: #D2E3FC;\n",
       "    }\n",
       "\n",
       "    [theme=dark] .colab-df-convert:hover {\n",
       "      background-color: #434B5C;\n",
       "      box-shadow: 0px 1px 3px 1px rgba(0, 0, 0, 0.15);\n",
       "      filter: drop-shadow(0px 1px 2px rgba(0, 0, 0, 0.3));\n",
       "      fill: #FFFFFF;\n",
       "    }\n",
       "  </style>\n",
       "\n",
       "      <script>\n",
       "        const buttonEl =\n",
       "          document.querySelector('#df-09605fc6-2118-4ede-ac94-0efcd4fb9746 button.colab-df-convert');\n",
       "        buttonEl.style.display =\n",
       "          google.colab.kernel.accessAllowed ? 'block' : 'none';\n",
       "\n",
       "        async function convertToInteractive(key) {\n",
       "          const element = document.querySelector('#df-09605fc6-2118-4ede-ac94-0efcd4fb9746');\n",
       "          const dataTable =\n",
       "            await google.colab.kernel.invokeFunction('convertToInteractive',\n",
       "                                                     [key], {});\n",
       "          if (!dataTable) return;\n",
       "\n",
       "          const docLinkHtml = 'Like what you see? Visit the ' +\n",
       "            '<a target=\"_blank\" href=https://colab.research.google.com/notebooks/data_table.ipynb>data table notebook</a>'\n",
       "            + ' to learn more about interactive tables.';\n",
       "          element.innerHTML = '';\n",
       "          dataTable['output_type'] = 'display_data';\n",
       "          await google.colab.output.renderOutput(dataTable, element);\n",
       "          const docLink = document.createElement('div');\n",
       "          docLink.innerHTML = docLinkHtml;\n",
       "          element.appendChild(docLink);\n",
       "        }\n",
       "      </script>\n",
       "    </div>\n",
       "  </div>\n",
       "  "
      ],
      "text/plain": [
       "          age gender   race                                               file\n",
       "count   23705  23705  23705                                              23705\n",
       "unique    104      2      5                                              23705\n",
       "top        26      0      0  /content/data/cropped/48_0_0_20170113183802559...\n",
       "freq     2197  12391  10078                                                  1"
      ]
     },
     "execution_count": 4,
     "metadata": {},
     "output_type": "execute_result"
    }
   ],
   "source": [
    "filedf.describe()"
   ]
  },
  {
   "cell_type": "code",
   "execution_count": null,
   "id": "c68b39fc-5918-4070-a58d-ff3f289aa7c9",
   "metadata": {
    "colab": {
     "base_uri": "https://localhost:8080/",
     "height": 206
    },
    "id": "c68b39fc-5918-4070-a58d-ff3f289aa7c9",
    "outputId": "db6271db-9ddd-404b-d83e-225b11a2df5a"
   },
   "outputs": [
    {
     "data": {
      "text/html": [
       "\n",
       "  <div id=\"df-51bfa472-853a-4639-915a-4b1e1f345441\">\n",
       "    <div class=\"colab-df-container\">\n",
       "      <div>\n",
       "<style scoped>\n",
       "    .dataframe tbody tr th:only-of-type {\n",
       "        vertical-align: middle;\n",
       "    }\n",
       "\n",
       "    .dataframe tbody tr th {\n",
       "        vertical-align: top;\n",
       "    }\n",
       "\n",
       "    .dataframe thead th {\n",
       "        text-align: right;\n",
       "    }\n",
       "</style>\n",
       "<table border=\"1\" class=\"dataframe\">\n",
       "  <thead>\n",
       "    <tr style=\"text-align: right;\">\n",
       "      <th></th>\n",
       "      <th>age</th>\n",
       "      <th>gender</th>\n",
       "      <th>race</th>\n",
       "      <th>file</th>\n",
       "    </tr>\n",
       "  </thead>\n",
       "  <tbody>\n",
       "    <tr>\n",
       "      <th>0</th>\n",
       "      <td>48</td>\n",
       "      <td>0</td>\n",
       "      <td>0</td>\n",
       "      <td>/content/data/cropped/48_0_0_20170113183802559...</td>\n",
       "    </tr>\n",
       "    <tr>\n",
       "      <th>1</th>\n",
       "      <td>55</td>\n",
       "      <td>0</td>\n",
       "      <td>0</td>\n",
       "      <td>/content/data/cropped/55_0_0_20170117190804738...</td>\n",
       "    </tr>\n",
       "    <tr>\n",
       "      <th>2</th>\n",
       "      <td>31</td>\n",
       "      <td>1</td>\n",
       "      <td>2</td>\n",
       "      <td>/content/data/cropped/31_1_2_20170109003538257...</td>\n",
       "    </tr>\n",
       "    <tr>\n",
       "      <th>3</th>\n",
       "      <td>56</td>\n",
       "      <td>1</td>\n",
       "      <td>0</td>\n",
       "      <td>/content/data/cropped/56_1_0_20170110141043329...</td>\n",
       "    </tr>\n",
       "    <tr>\n",
       "      <th>4</th>\n",
       "      <td>35</td>\n",
       "      <td>0</td>\n",
       "      <td>0</td>\n",
       "      <td>/content/data/cropped/35_0_0_20170117134825736...</td>\n",
       "    </tr>\n",
       "  </tbody>\n",
       "</table>\n",
       "</div>\n",
       "      <button class=\"colab-df-convert\" onclick=\"convertToInteractive('df-51bfa472-853a-4639-915a-4b1e1f345441')\"\n",
       "              title=\"Convert this dataframe to an interactive table.\"\n",
       "              style=\"display:none;\">\n",
       "        \n",
       "  <svg xmlns=\"http://www.w3.org/2000/svg\" height=\"24px\"viewBox=\"0 0 24 24\"\n",
       "       width=\"24px\">\n",
       "    <path d=\"M0 0h24v24H0V0z\" fill=\"none\"/>\n",
       "    <path d=\"M18.56 5.44l.94 2.06.94-2.06 2.06-.94-2.06-.94-.94-2.06-.94 2.06-2.06.94zm-11 1L8.5 8.5l.94-2.06 2.06-.94-2.06-.94L8.5 2.5l-.94 2.06-2.06.94zm10 10l.94 2.06.94-2.06 2.06-.94-2.06-.94-.94-2.06-.94 2.06-2.06.94z\"/><path d=\"M17.41 7.96l-1.37-1.37c-.4-.4-.92-.59-1.43-.59-.52 0-1.04.2-1.43.59L10.3 9.45l-7.72 7.72c-.78.78-.78 2.05 0 2.83L4 21.41c.39.39.9.59 1.41.59.51 0 1.02-.2 1.41-.59l7.78-7.78 2.81-2.81c.8-.78.8-2.07 0-2.86zM5.41 20L4 18.59l7.72-7.72 1.47 1.35L5.41 20z\"/>\n",
       "  </svg>\n",
       "      </button>\n",
       "      \n",
       "  <style>\n",
       "    .colab-df-container {\n",
       "      display:flex;\n",
       "      flex-wrap:wrap;\n",
       "      gap: 12px;\n",
       "    }\n",
       "\n",
       "    .colab-df-convert {\n",
       "      background-color: #E8F0FE;\n",
       "      border: none;\n",
       "      border-radius: 50%;\n",
       "      cursor: pointer;\n",
       "      display: none;\n",
       "      fill: #1967D2;\n",
       "      height: 32px;\n",
       "      padding: 0 0 0 0;\n",
       "      width: 32px;\n",
       "    }\n",
       "\n",
       "    .colab-df-convert:hover {\n",
       "      background-color: #E2EBFA;\n",
       "      box-shadow: 0px 1px 2px rgba(60, 64, 67, 0.3), 0px 1px 3px 1px rgba(60, 64, 67, 0.15);\n",
       "      fill: #174EA6;\n",
       "    }\n",
       "\n",
       "    [theme=dark] .colab-df-convert {\n",
       "      background-color: #3B4455;\n",
       "      fill: #D2E3FC;\n",
       "    }\n",
       "\n",
       "    [theme=dark] .colab-df-convert:hover {\n",
       "      background-color: #434B5C;\n",
       "      box-shadow: 0px 1px 3px 1px rgba(0, 0, 0, 0.15);\n",
       "      filter: drop-shadow(0px 1px 2px rgba(0, 0, 0, 0.3));\n",
       "      fill: #FFFFFF;\n",
       "    }\n",
       "  </style>\n",
       "\n",
       "      <script>\n",
       "        const buttonEl =\n",
       "          document.querySelector('#df-51bfa472-853a-4639-915a-4b1e1f345441 button.colab-df-convert');\n",
       "        buttonEl.style.display =\n",
       "          google.colab.kernel.accessAllowed ? 'block' : 'none';\n",
       "\n",
       "        async function convertToInteractive(key) {\n",
       "          const element = document.querySelector('#df-51bfa472-853a-4639-915a-4b1e1f345441');\n",
       "          const dataTable =\n",
       "            await google.colab.kernel.invokeFunction('convertToInteractive',\n",
       "                                                     [key], {});\n",
       "          if (!dataTable) return;\n",
       "\n",
       "          const docLinkHtml = 'Like what you see? Visit the ' +\n",
       "            '<a target=\"_blank\" href=https://colab.research.google.com/notebooks/data_table.ipynb>data table notebook</a>'\n",
       "            + ' to learn more about interactive tables.';\n",
       "          element.innerHTML = '';\n",
       "          dataTable['output_type'] = 'display_data';\n",
       "          await google.colab.output.renderOutput(dataTable, element);\n",
       "          const docLink = document.createElement('div');\n",
       "          docLink.innerHTML = docLinkHtml;\n",
       "          element.appendChild(docLink);\n",
       "        }\n",
       "      </script>\n",
       "    </div>\n",
       "  </div>\n",
       "  "
      ],
      "text/plain": [
       "  age gender race                                               file\n",
       "0  48      0    0  /content/data/cropped/48_0_0_20170113183802559...\n",
       "1  55      0    0  /content/data/cropped/55_0_0_20170117190804738...\n",
       "2  31      1    2  /content/data/cropped/31_1_2_20170109003538257...\n",
       "3  56      1    0  /content/data/cropped/56_1_0_20170110141043329...\n",
       "4  35      0    0  /content/data/cropped/35_0_0_20170117134825736..."
      ]
     },
     "execution_count": 5,
     "metadata": {},
     "output_type": "execute_result"
    }
   ],
   "source": [
    "filedf.head()"
   ]
  },
  {
   "cell_type": "code",
   "execution_count": null,
   "id": "522475a3-73c0-4acd-9c78-7ba3bf329d94",
   "metadata": {
    "id": "522475a3-73c0-4acd-9c78-7ba3bf329d94"
   },
   "outputs": [],
   "source": [
    "images = []\n",
    "labels = []"
   ]
  },
  {
   "cell_type": "code",
   "execution_count": null,
   "id": "1X50txaUYXuJ",
   "metadata": {
    "id": "1X50txaUYXuJ"
   },
   "outputs": [],
   "source": [
    "!unzip -q cats_dogs.zip\n",
    "!rm cats_dogs.zip"
   ]
  },
  {
   "cell_type": "code",
   "execution_count": null,
   "id": "48397024-9b11-42c3-8816-2cd5bac90a49",
   "metadata": {
    "id": "48397024-9b11-42c3-8816-2cd5bac90a49"
   },
   "outputs": [],
   "source": [
    "for index, row in filedf.iterrows():\n",
    "    img = np.array(cv2.imread(row[3]))\n",
    "    images.append(img)\n",
    "    labels.append([row[0],row[1],row[2]])"
   ]
  },
  {
   "cell_type": "code",
   "execution_count": null,
   "id": "7ab4e094-3961-435f-bd4d-00d657dffd8a",
   "metadata": {
    "id": "7ab4e094-3961-435f-bd4d-00d657dffd8a"
   },
   "outputs": [],
   "source": [
    "npimages = np.array(images)\n",
    "nplabels = np.array(labels).astype(int)"
   ]
  },
  {
   "cell_type": "code",
   "execution_count": null,
   "id": "e8a6fe13-3401-47e5-821b-19405ae5f4c0",
   "metadata": {
    "id": "e8a6fe13-3401-47e5-821b-19405ae5f4c0"
   },
   "outputs": [],
   "source": [
    "X = npimages\n",
    "y = nplabels"
   ]
  },
  {
   "cell_type": "code",
   "execution_count": null,
   "id": "9a75f190-a4d6-4af4-a6bb-a227be5ecd3a",
   "metadata": {
    "colab": {
     "base_uri": "https://localhost:8080/"
    },
    "id": "9a75f190-a4d6-4af4-a6bb-a227be5ecd3a",
    "outputId": "df368871-bb15-484f-95b0-f748d3b98f57"
   },
   "outputs": [
    {
     "data": {
      "text/plain": [
       "(23705, 3)"
      ]
     },
     "execution_count": 10,
     "metadata": {},
     "output_type": "execute_result"
    }
   ],
   "source": [
    "ymodel = np.array([[x[0],x[1],x[2]] for x in y])\n",
    "ymodel.shape"
   ]
  },
  {
   "cell_type": "code",
   "execution_count": null,
   "id": "nsZIc_XCe-79",
   "metadata": {
    "id": "nsZIc_XCe-79"
   },
   "outputs": [],
   "source": [
    "X_train, X_test, y_train, y_test = train_test_split(X, ymodel, test_size=0.33, random_state=42)"
   ]
  },
  {
   "cell_type": "code",
   "execution_count": null,
   "id": "789dadd6-0dd4-4562-9727-173adf9ec696",
   "metadata": {
    "id": "789dadd6-0dd4-4562-9727-173adf9ec696"
   },
   "outputs": [],
   "source": [
    "y_train2=[y_train[:,0],y_train[:,1],y_train[:,2]]\n",
    "y_test2=[y_test[:,0],y_test[:,1],y_test[:,2]]"
   ]
  },
  {
   "cell_type": "code",
   "execution_count": null,
   "id": "NVZWElrdieib",
   "metadata": {
    "colab": {
     "base_uri": "https://localhost:8080/"
    },
    "id": "NVZWElrdieib",
    "outputId": "a36e2e69-7e05-4aaa-a871-4ff2ee4dc2bd"
   },
   "outputs": [
    {
     "data": {
      "text/plain": [
       "88"
      ]
     },
     "execution_count": 22,
     "metadata": {},
     "output_type": "execute_result"
    }
   ],
   "source": [
    "if 'images' in globals():\n",
    "    del images\n",
    "if 'labels' in globals():\n",
    "    del labels\n",
    "if 'npimages' in globals():\n",
    "    del npimages\n",
    "if 'nplabels' in globals():\n",
    "    del nplabels\n",
    "if 'X' in globals():\n",
    "    del X\n",
    "if 'y' in globals():\n",
    "    del y\n",
    "\n",
    "gc.collect()"
   ]
  },
  {
   "cell_type": "code",
   "execution_count": null,
   "id": "aac0801d-fdbc-412d-b3fb-87e5765acec8",
   "metadata": {
    "colab": {
     "base_uri": "https://localhost:8080/"
    },
    "id": "aac0801d-fdbc-412d-b3fb-87e5765acec8",
    "outputId": "b19e939e-0f43-4a79-e73b-254e93ad73b8"
   },
   "outputs": [
    {
     "name": "stdout",
     "output_type": "stream",
     "text": [
      "[  1   2   3   4   5   6   7   8   9  10  11  12  13  14  15  16  17  18\n",
      "  19  20  21  22  23  24  25  26  27  28  29  30  31  32  33  34  35  36\n",
      "  37  38  39  40  41  42  43  44  45  46  47  48  49  50  51  52  53  54\n",
      "  55  56  57  58  59  60  61  62  63  64  65  66  67  68  69  70  71  72\n",
      "  73  74  75  76  77  78  79  80  81  82  83  84  85  86  87  88  89  90\n",
      "  91  92  93  95  96  99 100 101 105 110 111 115 116]\n",
      "[0 1]\n",
      "[0 1 2 3 4]\n"
     ]
    }
   ],
   "source": [
    "print(np.unique(y_train2[0]))\n",
    "print(np.unique(y_train2[1]))\n",
    "print(np.unique(y_train2[2]))"
   ]
  },
  {
   "cell_type": "code",
   "execution_count": null,
   "id": "d5987a5d-e101-4dce-8338-200325658e24",
   "metadata": {
    "id": "d5987a5d-e101-4dce-8338-200325658e24"
   },
   "outputs": [],
   "source": [
    "#Simplifies adding a layer\n",
    "def Convolution(input_tensor,filters):\n",
    "\n",
    "    x = layers.Conv2D(filters=filters,kernel_size=(3, 3),padding = 'same', activation = 'relu')(input_tensor)\n",
    "\n",
    "    return x\n",
    "\n",
    "#Simple CNN model\n",
    "#Conv stands for neural network layers of (x,y). x standing for the input layers and y standing for how many filter layers there are\n",
    "#maxp is a pooling layer that reduces the number of nodes of the next layer\n",
    "#flatten changes the previous layer to a 1 dimensional layer\n",
    "#dense layers have each node connected to every node in the previous layer. In this case, we have 3 dense layers of differing weights representing\n",
    "#age, gender, and race. While all previous layers have collected features, dense layers calculate based on these collected features.\n",
    "#They then send their calculations to the final dense layer to determine classification\n",
    "#Binary Crossentropy = Classifies based on a binary value\n",
    "#Sparse Categorical Crossentropy = Classifies based on an integer value with more than 2 possible values\n",
    "def Simplemodel(input_shape):\n",
    "\n",
    "  inputs = Input((input_shape))\n",
    "\n",
    "  conv_1= Convolution(inputs,32)\n",
    "\n",
    "  maxp_1 = MaxPooling2D(pool_size = (2,2)) (conv_1)\n",
    "\n",
    "  conv_2 = Convolution(maxp_1,64)\n",
    "\n",
    "  maxp_2 = MaxPooling2D(pool_size = (2, 2)) (conv_2)\n",
    "\n",
    "  conv_3 = Convolution(maxp_2,64)\n",
    "\n",
    "  maxp_3 = MaxPooling2D(pool_size = (2, 2)) (conv_3)\n",
    "\n",
    "  conv_4 = Convolution(maxp_3,64)\n",
    "\n",
    "  maxp_4 = MaxPooling2D(pool_size = (2, 2)) (conv_4)\n",
    "\n",
    "  conv_5 = Convolution(maxp_4,64)\n",
    "\n",
    "  flatten= Flatten() (conv_5)\n",
    "\n",
    "  dense_1= Dense(64,activation='relu')(flatten)\n",
    "\n",
    "  dense_2= Dense(64,activation='relu')(flatten)\n",
    "\n",
    "  dense_3= Dense(64,activation='relu')(flatten)\n",
    "\n",
    "  output_1= Dense(1,activation=\"relu\",name='age_out')(dense_1)\n",
    "\n",
    "  output_2= Dense(1,activation=\"sigmoid\",name='sex_out')(dense_2)\n",
    "    \n",
    "  output_3= Dense(5,activation=\"sigmoid\",name='race_out')(dense_3)\n",
    "\n",
    "  model = Model(inputs=[inputs], outputs=[output_1,output_2,output_3])\n",
    "\n",
    "  model.compile(loss=[\"mean_squared_error\",\"binary_crossentropy\", \"sparse_categorical_crossentropy\"], optimizer=\"Adam\",\n",
    "\n",
    "  metrics=[\"accuracy\"])\n",
    "\n",
    "  return model"
   ]
  },
  {
   "cell_type": "code",
   "execution_count": null,
   "id": "6c905dac-9bd1-460d-9c1b-8a54411e1e30",
   "metadata": {
    "colab": {
     "base_uri": "https://localhost:8080/"
    },
    "id": "6c905dac-9bd1-460d-9c1b-8a54411e1e30",
    "outputId": "050f900d-8c93-4162-cb14-a64947b52d9c"
   },
   "outputs": [
    {
     "name": "stdout",
     "output_type": "stream",
     "text": [
      "Model: \"model\"\n",
      "__________________________________________________________________________________________________\n",
      " Layer (type)                   Output Shape         Param #     Connected to                     \n",
      "==================================================================================================\n",
      " input_1 (InputLayer)           [(None, 200, 200, 3  0           []                               \n",
      "                                )]                                                                \n",
      "                                                                                                  \n",
      " conv2d (Conv2D)                (None, 200, 200, 32  896         ['input_1[0][0]']                \n",
      "                                )                                                                 \n",
      "                                                                                                  \n",
      " max_pooling2d (MaxPooling2D)   (None, 100, 100, 32  0           ['conv2d[0][0]']                 \n",
      "                                )                                                                 \n",
      "                                                                                                  \n",
      " conv2d_1 (Conv2D)              (None, 100, 100, 64  18496       ['max_pooling2d[0][0]']          \n",
      "                                )                                                                 \n",
      "                                                                                                  \n",
      " max_pooling2d_1 (MaxPooling2D)  (None, 50, 50, 64)  0           ['conv2d_1[0][0]']               \n",
      "                                                                                                  \n",
      " conv2d_2 (Conv2D)              (None, 50, 50, 64)   36928       ['max_pooling2d_1[0][0]']        \n",
      "                                                                                                  \n",
      " max_pooling2d_2 (MaxPooling2D)  (None, 25, 25, 64)  0           ['conv2d_2[0][0]']               \n",
      "                                                                                                  \n",
      " conv2d_3 (Conv2D)              (None, 25, 25, 64)   36928       ['max_pooling2d_2[0][0]']        \n",
      "                                                                                                  \n",
      " max_pooling2d_3 (MaxPooling2D)  (None, 12, 12, 64)  0           ['conv2d_3[0][0]']               \n",
      "                                                                                                  \n",
      " conv2d_4 (Conv2D)              (None, 12, 12, 64)   36928       ['max_pooling2d_3[0][0]']        \n",
      "                                                                                                  \n",
      " flatten (Flatten)              (None, 9216)         0           ['conv2d_4[0][0]']               \n",
      "                                                                                                  \n",
      " dense (Dense)                  (None, 64)           589888      ['flatten[0][0]']                \n",
      "                                                                                                  \n",
      " dense_1 (Dense)                (None, 64)           589888      ['flatten[0][0]']                \n",
      "                                                                                                  \n",
      " dense_2 (Dense)                (None, 64)           589888      ['flatten[0][0]']                \n",
      "                                                                                                  \n",
      " age_out (Dense)                (None, 1)            65          ['dense[0][0]']                  \n",
      "                                                                                                  \n",
      " sex_out (Dense)                (None, 1)            65          ['dense_1[0][0]']                \n",
      "                                                                                                  \n",
      " race_out (Dense)               (None, 5)            325         ['dense_2[0][0]']                \n",
      "                                                                                                  \n",
      "==================================================================================================\n",
      "Total params: 1,900,295\n",
      "Trainable params: 1,900,295\n",
      "Non-trainable params: 0\n",
      "__________________________________________________________________________________________________\n"
     ]
    }
   ],
   "source": [
    "#Creating the model\n",
    "Modelsimple=Simplemodel((200,200,3))\n",
    "Modelsimple.summary()"
   ]
  },
  {
   "cell_type": "code",
   "execution_count": null,
   "id": "b78ce142-3720-4215-aea7-dec3b296359f",
   "metadata": {
    "colab": {
     "base_uri": "https://localhost:8080/"
    },
    "id": "b78ce142-3720-4215-aea7-dec3b296359f",
    "outputId": "d3082e50-f313-4c02-e887-7668efff6025"
   },
   "outputs": [
    {
     "name": "stdout",
     "output_type": "stream",
     "text": [
      "Epoch 1/10\n",
      "497/497 [==============================] - 1186s 2s/step - loss: 303.5403 - age_out_loss: 300.8608 - sex_out_loss: 0.8067 - race_out_loss: 1.8727 - age_out_accuracy: 0.0459 - sex_out_accuracy: 0.7136 - race_out_accuracy: 0.4600 - val_loss: 218.0721 - val_age_out_loss: 215.6346 - val_sex_out_loss: 0.4991 - val_race_out_loss: 1.9385 - val_age_out_accuracy: 0.0428 - val_sex_out_accuracy: 0.7689 - val_race_out_accuracy: 0.4690\n",
      "Epoch 2/10\n",
      "497/497 [==============================] - 1191s 2s/step - loss: 171.1198 - age_out_loss: 169.5614 - sex_out_loss: 0.4248 - race_out_loss: 1.1337 - age_out_accuracy: 0.0362 - sex_out_accuracy: 0.8144 - race_out_accuracy: 0.5832 - val_loss: 147.5967 - val_age_out_loss: 146.1185 - val_sex_out_loss: 0.4197 - val_race_out_loss: 1.0584 - val_age_out_accuracy: 0.0268 - val_sex_out_accuracy: 0.8153 - val_race_out_accuracy: 0.5977\n",
      "Epoch 3/10\n",
      "497/497 [==============================] - 1174s 2s/step - loss: 138.4957 - age_out_loss: 137.0971 - sex_out_loss: 0.3901 - race_out_loss: 1.0086 - age_out_accuracy: 0.0208 - sex_out_accuracy: 0.8291 - race_out_accuracy: 0.6348 - val_loss: 126.5288 - val_age_out_loss: 125.1392 - val_sex_out_loss: 0.4007 - val_race_out_loss: 0.9889 - val_age_out_accuracy: 0.0157 - val_sex_out_accuracy: 0.8282 - val_race_out_accuracy: 0.6522\n",
      "Epoch 4/10\n",
      "497/497 [==============================] - 1162s 2s/step - loss: 122.1732 - age_out_loss: 120.9016 - sex_out_loss: 0.3567 - race_out_loss: 0.9149 - age_out_accuracy: 0.0110 - sex_out_accuracy: 0.8453 - race_out_accuracy: 0.6783 - val_loss: 128.3938 - val_age_out_loss: 127.0664 - val_sex_out_loss: 0.3678 - val_race_out_loss: 0.9596 - val_age_out_accuracy: 0.0132 - val_sex_out_accuracy: 0.8322 - val_race_out_accuracy: 0.6517\n",
      "Epoch 5/10\n",
      "497/497 [==============================] - 1172s 2s/step - loss: 111.9058 - age_out_loss: 110.7346 - sex_out_loss: 0.3356 - race_out_loss: 0.8355 - age_out_accuracy: 0.0084 - sex_out_accuracy: 0.8527 - race_out_accuracy: 0.7083 - val_loss: 132.2662 - val_age_out_loss: 130.9603 - val_sex_out_loss: 0.4133 - val_race_out_loss: 0.8926 - val_age_out_accuracy: 0.0124 - val_sex_out_accuracy: 0.8150 - val_race_out_accuracy: 0.6834\n",
      "Epoch 6/10\n",
      "497/497 [==============================] - 1185s 2s/step - loss: 102.1855 - age_out_loss: 101.0695 - sex_out_loss: 0.3204 - race_out_loss: 0.7956 - age_out_accuracy: 0.0065 - sex_out_accuracy: 0.8586 - race_out_accuracy: 0.7190 - val_loss: 120.2952 - val_age_out_loss: 119.1216 - val_sex_out_loss: 0.3221 - val_race_out_loss: 0.8516 - val_age_out_accuracy: 0.0075 - val_sex_out_accuracy: 0.8512 - val_race_out_accuracy: 0.6976\n",
      "Epoch 7/10\n",
      "497/497 [==============================] - 1157s 2s/step - loss: 92.4215 - age_out_loss: 91.3722 - sex_out_loss: 0.2977 - race_out_loss: 0.7517 - age_out_accuracy: 0.0064 - sex_out_accuracy: 0.8670 - race_out_accuracy: 0.7364 - val_loss: 130.2989 - val_age_out_loss: 129.1073 - val_sex_out_loss: 0.3294 - val_race_out_loss: 0.8622 - val_age_out_accuracy: 0.0100 - val_sex_out_accuracy: 0.8581 - val_race_out_accuracy: 0.6963\n",
      "Epoch 8/10\n",
      "497/497 [==============================] - 1156s 2s/step - loss: 82.6894 - age_out_loss: 81.6868 - sex_out_loss: 0.2882 - race_out_loss: 0.7143 - age_out_accuracy: 0.0058 - sex_out_accuracy: 0.8728 - race_out_accuracy: 0.7486 - val_loss: 107.0833 - val_age_out_loss: 105.9472 - val_sex_out_loss: 0.3146 - val_race_out_loss: 0.8215 - val_age_out_accuracy: 0.0086 - val_sex_out_accuracy: 0.8556 - val_race_out_accuracy: 0.7096\n",
      "Epoch 9/10\n",
      "497/497 [==============================] - 1155s 2s/step - loss: 79.6377 - age_out_loss: 78.6640 - sex_out_loss: 0.2739 - race_out_loss: 0.6999 - age_out_accuracy: 0.0052 - sex_out_accuracy: 0.8797 - race_out_accuracy: 0.7517 - val_loss: 104.0668 - val_age_out_loss: 102.9232 - val_sex_out_loss: 0.3051 - val_race_out_loss: 0.8386 - val_age_out_accuracy: 0.0075 - val_sex_out_accuracy: 0.8630 - val_race_out_accuracy: 0.7063\n",
      "Epoch 10/10\n",
      "497/497 [==============================] - 1153s 2s/step - loss: 74.3852 - age_out_loss: 73.4462 - sex_out_loss: 0.2606 - race_out_loss: 0.6785 - age_out_accuracy: 0.0054 - sex_out_accuracy: 0.8875 - race_out_accuracy: 0.7619 - val_loss: 109.0966 - val_age_out_loss: 107.9097 - val_sex_out_loss: 0.3323 - val_race_out_loss: 0.8546 - val_age_out_accuracy: 0.0074 - val_sex_out_accuracy: 0.8515 - val_race_out_accuracy: 0.6979\n"
     ]
    }
   ],
   "source": [
    "#Training the model\n",
    "SimpleHistory=Modelsimple.fit(X_train,y_train2,validation_data=(X_test,y_test2),epochs=10)"
   ]
  },
  {
   "cell_type": "code",
   "execution_count": null,
   "id": "66044dab-92a4-4559-8e3b-6bb8d5873373",
   "metadata": {
    "colab": {
     "base_uri": "https://localhost:8080/",
     "height": 295
    },
    "id": "66044dab-92a4-4559-8e3b-6bb8d5873373",
    "outputId": "93fbb0b3-f204-4251-ffa0-03248b7ffec3"
   },
   "outputs": [
    {
     "data": {
      "image/png": "[encoded data removed]",
      "text/plain": [
       "<Figure size 432x288 with 1 Axes>"
      ]
     },
     "metadata": {
      "needs_background": "light"
     },
     "output_type": "display_data"
    }
   ],
   "source": [
    "#Sex accuracy metric\n",
    "plt.plot(SimpleHistory.history['sex_out_accuracy'])\n",
    "plt.plot(SimpleHistory.history['val_sex_out_accuracy'])\n",
    "plt.title('sex model accuracy')\n",
    "plt.ylabel('accuracy')\n",
    "plt.xlabel('epoch')\n",
    "plt.legend(['train', 'val'], loc='upper left')\n",
    "plt.show()"
   ]
  },
  {
   "cell_type": "code",
   "execution_count": null,
   "id": "5c279a43-0032-4188-a464-c4fb65c170b7",
   "metadata": {
    "colab": {
     "base_uri": "https://localhost:8080/",
     "height": 295
    },
    "id": "5c279a43-0032-4188-a464-c4fb65c170b7",
    "outputId": "f8e7f866-a6c8-4204-ffc4-bcb47c213af7"
   },
   "outputs": [
    {
     "data": {
      "image/png": "[encoded data removed]",
      "text/plain": [
       "<Figure size 432x288 with 1 Axes>"
      ]
     },
     "metadata": {
      "needs_background": "light"
     },
     "output_type": "display_data"
    }
   ],
   "source": [
    "#Race accuracy metric\n",
    "plt.plot(SimpleHistory.history['race_out_accuracy'])\n",
    "plt.plot(SimpleHistory.history['val_race_out_accuracy'])\n",
    "plt.title('race model accuracy')\n",
    "plt.ylabel('accuracy')\n",
    "plt.xlabel('epoch')\n",
    "plt.legend(['train', 'val'], loc='upper left')\n",
    "plt.show()"
   ]
  },
  {
   "cell_type": "code",
   "execution_count": null,
   "id": "ee4e653f-5ef8-417d-b506-a7fa0743e736",
   "metadata": {
    "colab": {
     "base_uri": "https://localhost:8080/",
     "height": 295
    },
    "id": "ee4e653f-5ef8-417d-b506-a7fa0743e736",
    "outputId": "dfa2825d-188c-4147-c1f0-937bd9d6a7f4"
   },
   "outputs": [
    {
     "data": {
      "image/png": "[encoded data removed]",
      "text/plain": [
       "<Figure size 432x288 with 1 Axes>"
      ]
     },
     "metadata": {
      "needs_background": "light"
     },
     "output_type": "display_data"
    }
   ],
   "source": [
    "#Age accuracy metric\n",
    "plt.plot(SimpleHistory.history['age_out_loss'])\n",
    "plt.plot(SimpleHistory.history['val_age_out_loss'])\n",
    "plt.title('age model loss')\n",
    "plt.ylabel('loss')\n",
    "plt.xlabel('epoch')\n",
    "plt.legend(['train', 'val'], loc='upper left')\n",
    "plt.show()"
   ]
  },
  {
   "cell_type": "code",
   "execution_count": null,
   "id": "6fe15e86-82ba-4373-989d-b50808f66f64",
   "metadata": {
    "id": "6fe15e86-82ba-4373-989d-b50808f66f64"
   },
   "outputs": [],
   "source": [
    "#Confusion Matrices\n",
    "ypred = Modelsimple.predict(X_test)"
   ]
  },
  {
   "cell_type": "code",
   "execution_count": null,
   "id": "1fe2ce07-c171-4146-92d6-4a8ed9330f5e",
   "metadata": {
    "id": "1fe2ce07-c171-4146-92d6-4a8ed9330f5e"
   },
   "outputs": [],
   "source": [
    "y_gender_classes = np.round(ypred[1])\n",
    "y_race_classes = np.argmax(ypred[2],axis=-1)\n",
    "y_age_values = np.round(ypred[0])"
   ]
  },
  {
   "cell_type": "code",
   "execution_count": null,
   "id": "cfd8098f-23ea-4910-98d7-3d6a0e5fea8b",
   "metadata": {
    "colab": {
     "base_uri": "https://localhost:8080/"
    },
    "id": "cfd8098f-23ea-4910-98d7-3d6a0e5fea8b",
    "outputId": "125dc2b1-80f3-4a41-ea98-f80d296049a5"
   },
   "outputs": [
    {
     "name": "stdout",
     "output_type": "stream",
     "text": [
      "gender confusion matrix\n",
      "[[3678  416]\n",
      " [ 746 2983]]\n"
     ]
    }
   ],
   "source": [
    "print('gender confusion matrix')\n",
    "print(confusion_matrix(y_test2[1],y_gender_classes))"
   ]
  },
  {
   "cell_type": "code",
   "execution_count": null,
   "id": "7347b57e-de8a-457f-bbe1-419cedb3fc04",
   "metadata": {
    "colab": {
     "base_uri": "https://localhost:8080/"
    },
    "id": "7347b57e-de8a-457f-bbe1-419cedb3fc04",
    "outputId": "30688a45-eedf-4aec-cae5-4dc15add3943"
   },
   "outputs": [
    {
     "name": "stdout",
     "output_type": "stream",
     "text": [
      "race confusion matrix\n",
      "[[2633  267  148  223   33]\n",
      " [ 116 1261   33   51   16]\n",
      " [ 200   93  770   54   11]\n",
      " [ 264  228   69  733   30]\n",
      " [ 244  122   57  104   63]]\n"
     ]
    }
   ],
   "source": [
    "print('race confusion matrix')\n",
    "print(confusion_matrix(y_test2[2],y_race_classes))"
   ]
  },
  {
   "cell_type": "code",
   "execution_count": null,
   "id": "8b6a4eef-4a3e-47c8-aa4c-8c180ae4b796",
   "metadata": {
    "colab": {
     "base_uri": "https://localhost:8080/"
    },
    "id": "8b6a4eef-4a3e-47c8-aa4c-8c180ae4b796",
    "outputId": "e6a9accf-9c7f-4c01-9952-0d939ca82a60"
   },
   "outputs": [
    {
     "data": {
      "text/plain": [
       "array([27.        ,  4.        , 31.        , ...,  2.61830902,\n",
       "        1.45278168,  2.8862114 ])"
      ]
     },
     "execution_count": 50,
     "metadata": {},
     "output_type": "execute_result"
    }
   ],
   "source": [
    "np.concatenate([y_test2[0],np.abs(ypred[0].flatten() - y_test2[0] )])"
   ]
  },
  {
   "cell_type": "code",
   "execution_count": null,
   "id": "f13e35fa-b687-40f6-819b-5734bfd91de0",
   "metadata": {
    "colab": {
     "base_uri": "https://localhost:8080/"
    },
    "id": "f13e35fa-b687-40f6-819b-5734bfd91de0",
    "outputId": "f6242a82-2df5-4f4b-ab4b-275ba10644db"
   },
   "outputs": [
    {
     "data": {
      "text/plain": [
       "[array([27,  4, 31, ..., 37, 45, 50]),\n",
       " array([12.11774826,  1.98625994,  4.63582039, ...,  2.61830902,\n",
       "         1.45278168,  2.8862114 ])]"
      ]
     },
     "execution_count": 51,
     "metadata": {},
     "output_type": "execute_result"
    }
   ],
   "source": [
    "[y_test2[0],np.abs(ypred[0].flatten() - y_test2[0] )]"
   ]
  }
 ],
 "metadata": {
  "colab": {
   "collapsed_sections": [],
   "name": "NeuralNetwork.ipynb",
   "provenance": []
  },
  "kernelspec": {
   "display_name": "Python 3 (ipykernel)",
   "language": "python",
   "name": "python3"
  },
  "language_info": {
   "codemirror_mode": {
    "name": "ipython",
    "version": 3
   },
   "file_extension": ".py",
   "mimetype": "text/x-python",
   "name": "python",
   "nbconvert_exporter": "python",
   "pygments_lexer": "ipython3",
   "version": "3.10.2"
  }
 },
 "nbformat": 4,
 "nbformat_minor": 5
}
