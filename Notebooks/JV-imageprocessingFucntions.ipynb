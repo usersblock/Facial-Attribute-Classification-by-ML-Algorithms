{
 "cells": [
  {
   "cell_type": "code",
   "execution_count": 8,
   "id": "4437e45a-2b10-48fb-aa28-dc2a10728c78",
   "metadata": {},
   "outputs": [],
   "source": [
    "import pandas as pd\n",
    "import numpy as np\n",
    "from os import listdir\n",
    "from os.path import isfile, join\n",
    "import matplotlib.pyplot as plt\n",
    "import os\n",
    "from skimage.color.adapt_rgb import adapt_rgb, each_channel, hsv_value\n",
    "from skimage import filters\n",
    "from skimage.exposure import rescale_intensity\n",
    "from skimage.data import camera\n",
    "from skimage.util import compare_images\n",
    "from skimage import exposure\n",
    "from skimage import data, img_as_float\n",
    "from skimage import exposure"
   ]
  },
  {
   "cell_type": "code",
   "execution_count": 3,
   "id": "fc4db7f9-2720-47c8-9cfa-c6b8a50ae28a",
   "metadata": {},
   "outputs": [],
   "source": [
    "\"\"\"adding decoration images so that the filters can be easily apply to the images\"\"\"\n",
    "\n",
    "@adapt_rgb(each_channel)\n",
    "def sobel_each(image):\n",
    "    return filters.sobel(image)\n",
    "\n",
    "\n",
    "@adapt_rgb(hsv_value)\n",
    "def sobel_hsv(image):\n",
    "    return filters.sobel(image)"
   ]
  },
  {
   "cell_type": "code",
   "execution_count": 4,
   "id": "258662d4-6299-4cee-bd72-53373efed1f2",
   "metadata": {},
   "outputs": [],
   "source": [
    "def sobelFilterTypes(imagesArray):\n",
    "    \"\"\"\n",
    "    This function takes as input an array of pictures and returns two arrays. The first array has the \n",
    "    Sobel filter apply to each picture channel and the second one is applied on the image's hsv. The images are in color\n",
    "    \"\"\"\n",
    "    #filter apply to pictures channel\n",
    "    filterChannel = []\n",
    "    #filter apply to hue, saturation, value\n",
    "    filterHSV = []\n",
    "    for image in imagesArray:\n",
    "        image1 = rescale_intensity(1 - sobel_each(image))\n",
    "        image2 = rescale_intensity(1 - sobel_hsv(image))\n",
    "        filterChannel.append(image1)\n",
    "        filterHSV.append(image2)\n",
    "    return np.array(filterChannel), np.array(filterHSV)\n",
    "        "
   ]
  },
  {
   "cell_type": "code",
   "execution_count": 6,
   "id": "e5cd8c61-2db9-4da4-8f0d-ad9b64df3c9b",
   "metadata": {},
   "outputs": [],
   "source": [
    "def robertsSobelEdges(imagesArray):\n",
    "    \"\"\"\n",
    "    returns two numpy arrays with pictures in black and white and with the edges define using Roberts filter\n",
    "    on the first one and the Sobel filter on the second one. The images are in black and white\n",
    "    \"\"\"\n",
    "    roberts_ = []\n",
    "    sobel_ = []\n",
    "    for image in imagesArray:\n",
    "        grayImg = color.rgb2gray(image)\n",
    "        edge_roberts = filters.roberts(gray_img)\n",
    "        edge_sobel = filters.sobel(gray_img)\n",
    "        roberts_.append(edge_roberts)\n",
    "        sobel_.append(edge_sobel)\n",
    "    return np.array(roberts_), np.array(sobel_)"
   ]
  },
  {
   "cell_type": "code",
   "execution_count": 7,
   "id": "1374ee0d-7d46-44a0-820b-fa7c2541082b",
   "metadata": {},
   "outputs": [],
   "source": [
    "def exposure(imagesArray):\n",
    "    \"\"\"\n",
    "    This fucntion increases the exposure of each picture and it returns a numpy\n",
    "    array of the modified images. The images are in color\n",
    "    \"\"\"\n",
    "    exp = []\n",
    "    for image in imagesArray:\n",
    "        image_eq = exposure.equalize_hist(image)\n",
    "        exp.append(image_eq)\n",
    "    return np.array(exp)"
   ]
  },
  {
   "cell_type": "code",
   "execution_count": 9,
   "id": "eba54922-62be-4f25-83ee-3bdfe996f86b",
   "metadata": {},
   "outputs": [],
   "source": [
    "def gammaLogaritmictCorrection(imagesArray):\n",
    "    \"\"\"\n",
    "    histogram equalizer \n",
    "    \"\"\"\n",
    "    gamm = []\n",
    "    log = []\n",
    "    for image in imagesArray:\n",
    "        gamma_corrected = exposure.adjust_gamma(image, 2)\n",
    "        logarithmic_corrected = exposure.adjust_log(image, 1)\n",
    "        gamm.append(gamma_corrected)\n",
    "        log.append(logarithmic_corrected)\n",
    "    return np.array(gamm), np.array(log)"
   ]
  },
  {
   "cell_type": "code",
   "execution_count": 11,
   "id": "159e8da1-2179-4335-af7d-8720c7da1514",
   "metadata": {},
   "outputs": [],
   "source": [
    "def histogramEqualizer(imagesArray):\n",
    "    \"\"\"\n",
    "    returns 3 numpy arrays one is with rescale, equalize histogram, adapthis\n",
    "    \n",
    "    \"\"\"\n",
    "    \n",
    "    \n",
    "    p2, p98 = np.percentile(img, (2, 98))\n",
    "    intensity = []\n",
    "    hist = []\n",
    "    adapthist = []\n",
    "    for image in imagesArray:\n",
    "        \n",
    "        img_rescale = exposure.rescale_intensity(img, in_range=(p2, p98))\n",
    "\n",
    "        # Equalization\n",
    "        img_eq = exposure.equalize_hist(img)\n",
    "\n",
    "        # Adaptive Equalization\n",
    "        img_adapteq = exposure.equalize_adapthist(img, clip_limit=0.03)\n",
    "        \n",
    "        intensity.append(img_rescale)\n",
    "        hist.append(img_eq)\n",
    "        adapthist.append(img_adapeq)\n",
    "        \n",
    "    return np.array(intensity), np.array(hist), np.array(adapthist)"
   ]
  },
  {
   "cell_type": "code",
   "execution_count": null,
   "id": "a6590b99-513e-4868-b478-fe82ec01fd6a",
   "metadata": {},
   "outputs": [],
   "source": []
  }
 ],
 "metadata": {
  "kernelspec": {
   "display_name": "Python 3 (ipykernel)",
   "language": "python",
   "name": "python3"
  },
  "language_info": {
   "codemirror_mode": {
    "name": "ipython",
    "version": 3
   },
   "file_extension": ".py",
   "mimetype": "text/x-python",
   "name": "python",
   "nbconvert_exporter": "python",
   "pygments_lexer": "ipython3",
   "version": "3.9.7"
  },
  "widgets": {
   "application/vnd.jupyter.widget-state+json": {
    "state": {},
    "version_major": 2,
    "version_minor": 0
   }
  }
 },
 "nbformat": 4,
 "nbformat_minor": 5
}
