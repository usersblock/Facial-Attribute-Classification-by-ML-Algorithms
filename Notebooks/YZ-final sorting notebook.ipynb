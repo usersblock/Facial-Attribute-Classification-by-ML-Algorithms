{
 "cells": [
  {
   "cell_type": "code",
   "execution_count": 1,
   "id": "c2ac6c0d-fec0-4f63-9bdd-633dc345c650",
   "metadata": {},
   "outputs": [],
   "source": [
    "import pandas as pd\n",
    "import numpy as np\n",
    "from os import listdir\n",
    "from os.path import isfile, join\n",
    "import matplotlib.pyplot as plt\n",
    "from sklearn.ensemble import GradientBoostingClassifier\n",
    "from sklearn.preprocessing import StandardScaler\n",
    "from sklearn.model_selection import train_test_split\n",
    "from sklearn.metrics import accuracy_score, confusion_matrix\n",
    "from sklearn import preprocessing\n",
    "from sklearn.metrics import classification_report\n",
    "# for balance labels\n",
    "from sklearn.datasets import fetch_openml\n",
    "from sklearn.model_selection import train_test_split\n",
    "import seaborn as sns\n",
    "import statsmodels.api as sm\n",
    "import cv2\n",
    "from collections import Counter\n",
    "from imblearn.over_sampling import RandomOverSampler\n",
    "from sklearn.preprocessing import LabelEncoder\n",
    "from imblearn.over_sampling import (RandomOverSampler, SMOTE, ADASYN)\n",
    "from skimage import color\n",
    "\n",
    "%matplotlib inline"
   ]
  },
  {
   "cell_type": "code",
   "execution_count": 2,
   "id": "916a4437-c8be-40f8-a3da-35d003ede762",
   "metadata": {},
   "outputs": [],
   "source": [
    "mypath = '/Users/yinzi/Downloads/UTKFace'\n",
    "filenames = np.array([f for f in listdir(mypath) if isfile(join(mypath, f))])\n",
    "splitcolumns = [x.split('_')[0:3] + [mypath +'/' + x] for x in filenames if x.count('_') == 3]\n",
    "filecolumns = ['age','gender','race','file']\n",
    "df = pd.DataFrame(data = splitcolumns, columns = filecolumns)\n",
    "df['age']= df['age'].astype('int')\n",
    "df['gender']= df['gender'].astype('int')\n",
    "df['race']= df['race'].astype('int')\n",
    "\n",
    "# put the age in different interval\n",
    "df['age']=np.where(((df.age>=1) & (df.age<=2)), 0, df.age)\n",
    "df['age']=np.where(((df.age>=3) & (df.age<6)), 1, df.age)\n",
    "df['age']=np.where(((df.age>=6) & (df.age<9)), 2, df.age)\n",
    "df['age']=np.where(((df.age>=9) & (df.age<12)), 3, df.age)\n",
    "df['age']=np.where(((df.age>=12) & (df.age<21)), 4, df.age)\n",
    "df['age']=np.where(((df.age>=21) & (df.age<36)), 5, df.age)\n",
    "df['age']=np.where(((df.age>=36) & (df.age<51)), 6, df.age)\n",
    "df['age']=np.where(((df.age>=51) & (df.age<80)), 7, df.age)\n",
    "df['age']=np.where((df.age>=80), 8, df.age)"
   ]
  },
  {
   "cell_type": "code",
   "execution_count": 3,
   "id": "7f3f4142-28e5-468a-ab89-cef64172643a",
   "metadata": {},
   "outputs": [
    {
     "data": {
      "text/html": [
       "<div>\n",
       "<style scoped>\n",
       "    .dataframe tbody tr th:only-of-type {\n",
       "        vertical-align: middle;\n",
       "    }\n",
       "\n",
       "    .dataframe tbody tr th {\n",
       "        vertical-align: top;\n",
       "    }\n",
       "\n",
       "    .dataframe thead th {\n",
       "        text-align: right;\n",
       "    }\n",
       "</style>\n",
       "<table border=\"1\" class=\"dataframe\">\n",
       "  <thead>\n",
       "    <tr style=\"text-align: right;\">\n",
       "      <th></th>\n",
       "      <th>age</th>\n",
       "      <th>gender</th>\n",
       "      <th>race</th>\n",
       "      <th>file</th>\n",
       "    </tr>\n",
       "  </thead>\n",
       "  <tbody>\n",
       "    <tr>\n",
       "      <th>0</th>\n",
       "      <td>3</td>\n",
       "      <td>1</td>\n",
       "      <td>2</td>\n",
       "      <td>/Users/yinzi/Downloads/UTKFace/9_1_2_201612192...</td>\n",
       "    </tr>\n",
       "    <tr>\n",
       "      <th>1</th>\n",
       "      <td>6</td>\n",
       "      <td>0</td>\n",
       "      <td>1</td>\n",
       "      <td>/Users/yinzi/Downloads/UTKFace/36_0_1_20170117...</td>\n",
       "    </tr>\n",
       "    <tr>\n",
       "      <th>2</th>\n",
       "      <td>8</td>\n",
       "      <td>1</td>\n",
       "      <td>0</td>\n",
       "      <td>/Users/yinzi/Downloads/UTKFace/86_1_0_20170120...</td>\n",
       "    </tr>\n",
       "    <tr>\n",
       "      <th>3</th>\n",
       "      <td>5</td>\n",
       "      <td>1</td>\n",
       "      <td>0</td>\n",
       "      <td>/Users/yinzi/Downloads/UTKFace/26_1_0_20170116...</td>\n",
       "    </tr>\n",
       "    <tr>\n",
       "      <th>4</th>\n",
       "      <td>0</td>\n",
       "      <td>1</td>\n",
       "      <td>2</td>\n",
       "      <td>/Users/yinzi/Downloads/UTKFace/1_1_2_201612191...</td>\n",
       "    </tr>\n",
       "  </tbody>\n",
       "</table>\n",
       "</div>"
      ],
      "text/plain": [
       "   age  gender  race                                               file\n",
       "0    3       1     2  /Users/yinzi/Downloads/UTKFace/9_1_2_201612192...\n",
       "1    6       0     1  /Users/yinzi/Downloads/UTKFace/36_0_1_20170117...\n",
       "2    8       1     0  /Users/yinzi/Downloads/UTKFace/86_1_0_20170120...\n",
       "3    5       1     0  /Users/yinzi/Downloads/UTKFace/26_1_0_20170116...\n",
       "4    0       1     2  /Users/yinzi/Downloads/UTKFace/1_1_2_201612191..."
      ]
     },
     "execution_count": 3,
     "metadata": {},
     "output_type": "execute_result"
    }
   ],
   "source": [
    "df.head()"
   ]
  },
  {
   "cell_type": "code",
   "execution_count": 24,
   "id": "06613c77-56b2-4d6e-af67-b80b8af3fcd9",
   "metadata": {},
   "outputs": [
    {
     "data": {
      "image/png": "[encoded data removed]",
      "text/plain": [
       "<Figure size 720x360 with 1 Axes>"
      ]
     },
     "metadata": {
      "needs_background": "light"
     },
     "output_type": "display_data"
    }
   ],
   "source": [
    "fig = plt.figure(figsize = (10, 5))\n",
    "hist_age = df['age'].hist(bins=9)\n",
    "plt.xlabel(\"Label Category\")\n",
    "plt.ylabel('Count')\n",
    "plt.title(\"Distribution for age label\")\n",
    "plt.show()"
   ]
  },
  {
   "cell_type": "code",
   "execution_count": 23,
   "id": "4002e8ed-a09d-433e-b6dc-f55654274bf9",
   "metadata": {},
   "outputs": [
    {
     "data": {
      "image/png": "[encoded data removed]",
      "text/plain": [
       "<Figure size 720x360 with 1 Axes>"
      ]
     },
     "metadata": {
      "needs_background": "light"
     },
     "output_type": "display_data"
    }
   ],
   "source": [
    "fig = plt.figure(figsize = (10, 5))\n",
    "hist_age = df['gender'].hist()\n",
    "plt.xlabel(\"Label Category\")\n",
    "plt.ylabel('Count')\n",
    "plt.title(\"Distribution for gender label\")\n",
    "plt.show()"
   ]
  },
  {
   "cell_type": "code",
   "execution_count": 25,
   "id": "d94503d6-abc0-49ff-b36a-f42d463b0eb5",
   "metadata": {},
   "outputs": [
    {
     "data": {
      "image/png": "[encoded data removed]",
      "text/plain": [
       "<Figure size 720x360 with 1 Axes>"
      ]
     },
     "metadata": {
      "needs_background": "light"
     },
     "output_type": "display_data"
    }
   ],
   "source": [
    "fig = plt.figure(figsize = (10, 5))\n",
    "hist_age = df['race'].hist()\n",
    "plt.xlabel(\"Label Category\")\n",
    "plt.ylabel('Count')\n",
    "plt.title(\"Distribution for race label\")\n",
    "plt.show()"
   ]
  },
  {
   "cell_type": "code",
   "execution_count": null,
   "id": "90ef7fdf-04c8-4198-9ef0-dd88ee22bc6d",
   "metadata": {},
   "outputs": [],
   "source": []
  }
 ],
 "metadata": {
  "kernelspec": {
   "display_name": "Python 3 (ipykernel)",
   "language": "python",
   "name": "python3"
  },
  "language_info": {
   "codemirror_mode": {
    "name": "ipython",
    "version": 3
   },
   "file_extension": ".py",
   "mimetype": "text/x-python",
   "name": "python",
   "nbconvert_exporter": "python",
   "pygments_lexer": "ipython3",
   "version": "3.9.7"
  }
 },
 "nbformat": 4,
 "nbformat_minor": 5
}
