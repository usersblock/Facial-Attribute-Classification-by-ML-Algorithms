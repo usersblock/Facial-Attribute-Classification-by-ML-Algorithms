{
 "cells": [
  {
   "cell_type": "code",
   "execution_count": 40,
   "id": "c2ac6c0d-fec0-4f63-9bdd-633dc345c650",
   "metadata": {},
   "outputs": [],
   "source": [
    "import pandas as pd\n",
    "import numpy as np\n",
    "from os import listdir\n",
    "from os.path import isfile, join\n",
    "import matplotlib.pyplot as plt\n",
    "from sklearn.ensemble import GradientBoostingClassifier\n",
    "from sklearn.preprocessing import StandardScaler\n",
    "from sklearn.model_selection import train_test_split\n",
    "from sklearn.metrics import accuracy_score, confusion_matrix\n",
    "from sklearn import preprocessing\n",
    "from sklearn.metrics import classification_report\n",
    "# for balance labels\n",
    "from sklearn.datasets import fetch_openml\n",
    "from sklearn.model_selection import train_test_split\n",
    "import seaborn as sns\n",
    "import statsmodels.api as sm\n",
    "import cv2\n",
    "from collections import Counter\n",
    "from imblearn.over_sampling import RandomOverSampler\n",
    "from sklearn.preprocessing import LabelEncoder\n",
    "from imblearn.over_sampling import (RandomOverSampler, SMOTE, ADASYN)\n",
    "from skimage import color\n",
    "\n",
    "%matplotlib inline"
   ]
  },
  {
   "cell_type": "code",
   "execution_count": 41,
   "id": "916a4437-c8be-40f8-a3da-35d003ede762",
   "metadata": {},
   "outputs": [],
   "source": [
    "mypath = '/Users/yinzi/Downloads/UTKFace'\n",
    "filenames = np.array([f for f in listdir(mypath) if isfile(join(mypath, f))])\n",
    "splitcolumns = [x.split('_')[0:3] + [mypath +'/' + x] for x in filenames if x.count('_') == 3]\n",
    "filecolumns = ['age','gender','race','file']\n",
    "df = pd.DataFrame(data = splitcolumns, columns = filecolumns)"
   ]
  },
  {
   "cell_type": "code",
   "execution_count": 42,
   "id": "b20f5476-9c49-474f-9b3d-05f7d0e844ce",
   "metadata": {},
   "outputs": [],
   "source": [
    "#df['age']= df['age'].astype('int')\n",
    "#df['gender']= df['gender'].astype('int')\n",
    "#df['race']= df['race'].astype('int')\n",
    "# put the age in different interval\n",
    "#df['age']=np.where(((df.age>=1) & (df.age<=2)), 0, df.age)\n",
    "#df['age']=np.where(((df.age>=3) & (df.age<6)), 1, df.age)\n",
    "#df['age']=np.where(((df.age>=6) & (df.age<9)), 2, df.age)\n",
    "#df['age']=np.where(((df.age>=9) & (df.age<12)), 3, df.age)\n",
    "#df['age']=np.where(((df.age>=12) & (df.age<21)), 4, df.age)\n",
    "#df['age']=np.where(((df.age>=21) & (df.age<36)), 5, df.age)\n",
    "#df['age']=np.where(((df.age>=36) & (df.age<51)), 6, df.age)\n",
    "#df['age']=np.where(((df.age>=51) & (df.age<80)), 7, df.age)\n",
    "# df['age']=np.where((df.age>=80), 8, df.age)"
   ]
  },
  {
   "cell_type": "code",
   "execution_count": 43,
   "id": "7f3f4142-28e5-468a-ab89-cef64172643a",
   "metadata": {},
   "outputs": [
    {
     "data": {
      "text/html": [
       "<div>\n",
       "<style scoped>\n",
       "    .dataframe tbody tr th:only-of-type {\n",
       "        vertical-align: middle;\n",
       "    }\n",
       "\n",
       "    .dataframe tbody tr th {\n",
       "        vertical-align: top;\n",
       "    }\n",
       "\n",
       "    .dataframe thead th {\n",
       "        text-align: right;\n",
       "    }\n",
       "</style>\n",
       "<table border=\"1\" class=\"dataframe\">\n",
       "  <thead>\n",
       "    <tr style=\"text-align: right;\">\n",
       "      <th></th>\n",
       "      <th>age</th>\n",
       "      <th>gender</th>\n",
       "      <th>race</th>\n",
       "      <th>file</th>\n",
       "    </tr>\n",
       "  </thead>\n",
       "  <tbody>\n",
       "    <tr>\n",
       "      <th>0</th>\n",
       "      <td>9</td>\n",
       "      <td>1</td>\n",
       "      <td>2</td>\n",
       "      <td>/Users/yinzi/Downloads/UTKFace/9_1_2_201612192...</td>\n",
       "    </tr>\n",
       "    <tr>\n",
       "      <th>1</th>\n",
       "      <td>36</td>\n",
       "      <td>0</td>\n",
       "      <td>1</td>\n",
       "      <td>/Users/yinzi/Downloads/UTKFace/36_0_1_20170117...</td>\n",
       "    </tr>\n",
       "    <tr>\n",
       "      <th>2</th>\n",
       "      <td>86</td>\n",
       "      <td>1</td>\n",
       "      <td>0</td>\n",
       "      <td>/Users/yinzi/Downloads/UTKFace/86_1_0_20170120...</td>\n",
       "    </tr>\n",
       "    <tr>\n",
       "      <th>3</th>\n",
       "      <td>26</td>\n",
       "      <td>1</td>\n",
       "      <td>0</td>\n",
       "      <td>/Users/yinzi/Downloads/UTKFace/26_1_0_20170116...</td>\n",
       "    </tr>\n",
       "    <tr>\n",
       "      <th>4</th>\n",
       "      <td>1</td>\n",
       "      <td>1</td>\n",
       "      <td>2</td>\n",
       "      <td>/Users/yinzi/Downloads/UTKFace/1_1_2_201612191...</td>\n",
       "    </tr>\n",
       "  </tbody>\n",
       "</table>\n",
       "</div>"
      ],
      "text/plain": [
       "  age gender race                                               file\n",
       "0   9      1    2  /Users/yinzi/Downloads/UTKFace/9_1_2_201612192...\n",
       "1  36      0    1  /Users/yinzi/Downloads/UTKFace/36_0_1_20170117...\n",
       "2  86      1    0  /Users/yinzi/Downloads/UTKFace/86_1_0_20170120...\n",
       "3  26      1    0  /Users/yinzi/Downloads/UTKFace/26_1_0_20170116...\n",
       "4   1      1    2  /Users/yinzi/Downloads/UTKFace/1_1_2_201612191..."
      ]
     },
     "execution_count": 43,
     "metadata": {},
     "output_type": "execute_result"
    }
   ],
   "source": [
    "df.head()"
   ]
  },
  {
   "cell_type": "code",
   "execution_count": 44,
   "id": "44200662-9a20-4cbd-bcee-07289e0c75d8",
   "metadata": {},
   "outputs": [
    {
     "data": {
      "text/plain": [
       "(23705, 4)"
      ]
     },
     "execution_count": 44,
     "metadata": {},
     "output_type": "execute_result"
    }
   ],
   "source": [
    "df.shape"
   ]
  },
  {
   "cell_type": "code",
   "execution_count": 70,
   "id": "173bf53a-d3a9-4cf1-b7cb-d33d61cdf445",
   "metadata": {},
   "outputs": [
    {
     "data": {
      "text/plain": [
       "{'0': 12391, '1': 11314}"
      ]
     },
     "execution_count": 70,
     "metadata": {},
     "output_type": "execute_result"
    }
   ],
   "source": [
    "gender = dict(df['gender'].value_counts())\n",
    "gender"
   ]
  },
  {
   "cell_type": "code",
   "execution_count": 138,
   "id": "dd931d75-175e-4e9f-80bd-edaf305ccea3",
   "metadata": {},
   "outputs": [
    {
     "data": {
      "text/plain": [
       "Text(0, 0.5, 'Total Count for individul Label')"
      ]
     },
     "execution_count": 138,
     "metadata": {},
     "output_type": "execute_result"
    },
    {
     "data": {
      "image/png": "[encoded data removed]",
      "text/plain": [
       "<Figure size 432x288 with 1 Axes>"
      ]
     },
     "metadata": {
      "needs_background": "light"
     },
     "output_type": "display_data"
    }
   ],
   "source": [
    "# 0 is Male, 1 is Female\n",
    "df_gender = pd.DataFrame({\"gender\": [12391, 11314]}, index=['Male', 'Female'])\n",
    "df_gender.plot(kind=\"bar\", color = ['green'], width = 0.8)\n",
    "plt.xticks(rotation = 0)\n",
    "plt.title('Distribution for gender label')\n",
    "plt.xlabel('gender')\n",
    "plt.ylabel('Total Count for individul Label')"
   ]
  },
  {
   "cell_type": "code",
   "execution_count": 81,
   "id": "9dded51a-b0df-4178-9c5d-8d5cbf7a08db",
   "metadata": {},
   "outputs": [
    {
     "data": {
      "text/plain": [
       "{'0': 10078, '1': 4526, '3': 3975, '2': 3434, '4': 1692}"
      ]
     },
     "execution_count": 81,
     "metadata": {},
     "output_type": "execute_result"
    }
   ],
   "source": [
    "race = dict(df['race'].value_counts())\n",
    "race"
   ]
  },
  {
   "cell_type": "code",
   "execution_count": 137,
   "id": "1d07af55-721b-4d57-ac44-efcebbcf142b",
   "metadata": {},
   "outputs": [
    {
     "data": {
      "text/plain": [
       "Text(0, 0.5, 'Total Count for individul Label')"
      ]
     },
     "execution_count": 137,
     "metadata": {},
     "output_type": "execute_result"
    },
    {
     "data": {
      "image/png": "[encoded data removed]",
      "text/plain": [
       "<Figure size 432x288 with 1 Axes>"
      ]
     },
     "metadata": {
      "needs_background": "light"
     },
     "output_type": "display_data"
    }
   ],
   "source": [
    "# White(0), Black(1), Asian(2), Indian(3), and Others(4) (like Hispanic, Latino, Middle Eastern).\n",
    "df_race = pd.DataFrame({\"race\": [10078, 4526, 3434, 3975, 1692]}, index=['White', 'Black', 'Asian', 'Indian', 'Others'])\n",
    "df_race.plot(kind=\"bar\", color = ['magenta'], width = 0.6)\n",
    "plt.xticks(rotation = 0)\n",
    "plt.title('Distribution for race label')\n",
    "plt.xlabel('race')\n",
    "plt.ylabel('Total Count for individul Label')"
   ]
  },
  {
   "cell_type": "code",
   "execution_count": 120,
   "id": "b4f5f406-b9d6-4524-8c6d-282e5b4fd3dc",
   "metadata": {},
   "outputs": [],
   "source": [
    "#0 infancy (0-2)\n",
    "#1 Early Childhood (Ages 3-5)\n",
    "#2 Middle Childhood (Ages 6-8)\n",
    "#3 Late Childhood (Ages 9-11)\n",
    "#4 Adolescence (Ages 12-20)\n",
    "#5 Early Adulthood (Ages 21-35)\n",
    "#6 Midlife (Ages 36-50)\n",
    "#7 Mature Adulthood (Ages 51-79)\n",
    "#8 Late Adulthood (Age 80+)\n",
    "df['age']= df['age'].astype('int')\n",
    "# put the age in different interval\n",
    "df['age']=np.where(((df.age>=1) & (df.age<=2)), 0, df.age)\n",
    "df['age']=np.where(((df.age>=3) & (df.age<6)), 1, df.age)\n",
    "df['age']=np.where(((df.age>=6) & (df.age<9)), 2, df.age)\n",
    "df['age']=np.where(((df.age>=9) & (df.age<12)), 3, df.age)\n",
    "df['age']=np.where(((df.age>=12) & (df.age<21)), 4, df.age)\n",
    "df['age']=np.where(((df.age>=21) & (df.age<36)), 5, df.age)\n",
    "df['age']=np.where(((df.age>=36) & (df.age<51)), 6, df.age)\n",
    "df['age']=np.where(((df.age>=51) & (df.age<80)), 7, df.age)\n",
    "df['age']=np.where((df.age>=80), 8, df.age)"
   ]
  },
  {
   "cell_type": "code",
   "execution_count": 118,
   "id": "59b446bf-f83e-4ec6-9be7-5e35c39e943e",
   "metadata": {},
   "outputs": [
    {
     "data": {
      "text/plain": [
       "5    10230\n",
       "6     3992\n",
       "7     3933\n",
       "0     1605\n",
       "4     1594\n",
       "1      758\n",
       "8      673\n",
       "2      533\n",
       "3      387\n",
       "Name: age, dtype: int64"
      ]
     },
     "execution_count": 118,
     "metadata": {},
     "output_type": "execute_result"
    }
   ],
   "source": [
    "df['age'] = df['age'].astype('object')\n",
    "df['age'].value_counts()"
   ]
  },
  {
   "cell_type": "code",
   "execution_count": 136,
   "id": "e59e316e-d7b2-4043-aff4-5b9d5959104b",
   "metadata": {},
   "outputs": [
    {
     "data": {
      "text/plain": [
       "Text(0, 0.5, 'Total Count for individul Label')"
      ]
     },
     "execution_count": 136,
     "metadata": {},
     "output_type": "execute_result"
    },
    {
     "data": {
      "image/png": "[encoded data removed]",
      "text/plain": [
       "<Figure size 432x288 with 1 Axes>"
      ]
     },
     "metadata": {
      "needs_background": "light"
     },
     "output_type": "display_data"
    }
   ],
   "source": [
    "df_race = pd.DataFrame({\"age\": [1605, 758, 533, 387, 1594, 10230, 3992, 3933, 673]})\n",
    "# , index=['infancy', 'EarlyChildhood', 'MiddleChildhood', 'LateChildhood', 'Adolescence', 'EarlyAdulthood', 'Midlife', 'MatureAdulthood', 'LateAdulthood']\n",
    "df_race.plot(kind=\"bar\", color = ['blue'], width = 0.8)\n",
    "plt.xticks(rotation = 30)\n",
    "plt.title('Distribution for age label')\n",
    "plt.xlabel('age')\n",
    "plt.ylabel('Total Count for individul Label')"
   ]
  },
  {
   "cell_type": "code",
   "execution_count": null,
   "id": "51840b41-b06a-43c8-b8eb-7d70ed915e28",
   "metadata": {},
   "outputs": [],
   "source": []
  },
  {
   "cell_type": "code",
   "execution_count": null,
   "id": "fda1d44c-31f1-4658-9df6-7c45b33f755c",
   "metadata": {},
   "outputs": [],
   "source": []
  },
  {
   "cell_type": "code",
   "execution_count": null,
   "id": "90350521-cff6-49ef-a580-605783265c96",
   "metadata": {},
   "outputs": [],
   "source": []
  },
  {
   "cell_type": "code",
   "execution_count": null,
   "id": "47ebbc92-e700-4b1c-a687-fd5fa708c9cd",
   "metadata": {},
   "outputs": [],
   "source": []
  },
  {
   "cell_type": "code",
   "execution_count": null,
   "id": "598cf61b-305e-4af5-a65c-86393f29f580",
   "metadata": {},
   "outputs": [],
   "source": []
  },
  {
   "cell_type": "code",
   "execution_count": null,
   "id": "0637be04-10a5-4839-8a6c-622da30e9869",
   "metadata": {},
   "outputs": [],
   "source": []
  },
  {
   "cell_type": "code",
   "execution_count": null,
   "id": "015f6c87-cb48-4eb9-92a6-589222398063",
   "metadata": {},
   "outputs": [],
   "source": []
  },
  {
   "cell_type": "code",
   "execution_count": null,
   "id": "90ef7fdf-04c8-4198-9ef0-dd88ee22bc6d",
   "metadata": {},
   "outputs": [],
   "source": []
  }
 ],
 "metadata": {
  "kernelspec": {
   "display_name": "Python 3 (ipykernel)",
   "language": "python",
   "name": "python3"
  },
  "language_info": {
   "codemirror_mode": {
    "name": "ipython",
    "version": 3
   },
   "file_extension": ".py",
   "mimetype": "text/x-python",
   "name": "python",
   "nbconvert_exporter": "python",
   "pygments_lexer": "ipython3",
   "version": "3.9.7"
  }
 },
 "nbformat": 4,
 "nbformat_minor": 5
}
