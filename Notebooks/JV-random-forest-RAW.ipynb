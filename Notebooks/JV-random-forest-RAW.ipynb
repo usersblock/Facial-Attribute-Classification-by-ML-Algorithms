{
 "cells": [
  {
   "cell_type": "code",
   "execution_count": 1,
   "id": "014e7d18-acc6-454e-9f09-d77951f1a7c8",
   "metadata": {},
   "outputs": [],
   "source": [
    "from sklearn.ensemble import RandomForestClassifier\n",
    "model=RandomForestClassifier()"
   ]
  },
  {
   "cell_type": "code",
   "execution_count": 13,
   "id": "779e9a8a-0f90-4399-b5bc-4ad8317285b2",
   "metadata": {},
   "outputs": [],
   "source": [
    "import pandas as pd\n",
    "import numpy as np\n",
    "from os import listdir\n",
    "from os.path import isfile, join\n",
    "import matplotlib.pyplot as plt"
   ]
  },
  {
   "cell_type": "code",
   "execution_count": 14,
   "id": "84acadc1-0fd3-4045-a134-f8f0f3849992",
   "metadata": {},
   "outputs": [],
   "source": [
    "from sklearn.model_selection import train_test_split"
   ]
  },
  {
   "cell_type": "code",
   "execution_count": 36,
   "id": "ad1df4c8-8a0b-4748-a6ad-a37c6c7d9abe",
   "metadata": {},
   "outputs": [],
   "source": [
    "from sklearn.metrics import accuracy_score,confusion_matrix,classification_report"
   ]
  },
  {
   "cell_type": "markdown",
   "id": "601ce069-bb6d-4294-9fa3-4bb20ad15565",
   "metadata": {},
   "source": [
    "### In this notebook i'm doing a quick run of the random forest classifier with the raw data"
   ]
  },
  {
   "cell_type": "code",
   "execution_count": 16,
   "id": "5186da33-7546-4e9d-9421-34439029f581",
   "metadata": {},
   "outputs": [],
   "source": [
    "\n",
    "import os\n",
    "mypath = '/Users/jenifervivar/Desktop/crop_part1/'\n",
    " \n",
    "mypath = '/Users/jenifervivar/Desktop/crop_part1/'#'./Data/CroppedImages'\n",
    "filenames = np.array([f for f in listdir(mypath) if isfile(join(mypath, f))])\n",
    "splitcolumns = [x.split('_')[0:3] + [x] for x in filenames if x.count('_') == 3]\n",
    "filecolumns = ['age','gender','race','file']\n",
    "filedf = pd.DataFrame(data = splitcolumns, columns = filecolumns)\n",
    "filedfnona = filedf.dropna()\n",
    "filedfnona['age']  = filedfnona['age'].astype(int)\n",
    "filedfnona['race'] = filedfnona['race'].astype(int)\n",
    "filedfnona['gender'] = filedfnona['gender'].astype(int)"
   ]
  },
  {
   "cell_type": "code",
   "execution_count": null,
   "id": "e001e865-a7b9-4bc7-97b8-fc12a057e2d9",
   "metadata": {},
   "outputs": [],
   "source": [
    "path = '/Users/jenifervivar/Desktop/UTKface_inthewild/part3'\n",
    "listing = os.listdir(mypath) \n",
    "images = []\n",
    "for img in filedfnona['file']:\n",
    "    image = plt.imread(mypath + img)\n",
    "    images.append(image)\n"
   ]
  },
  {
   "cell_type": "code",
   "execution_count": null,
   "id": "cafef0bc-79d3-43c7-a5aa-7403fb5010f1",
   "metadata": {},
   "outputs": [],
   "source": [
    "#filedfnona['gender']\n",
    "X_train, X_test, y_train, y_test = train_test_split(images, filedfnona['gender'])"
   ]
  },
  {
   "cell_type": "code",
   "execution_count": null,
   "id": "33c63c50-88b5-4531-9ace-7ebb4397c0ba",
   "metadata": {},
   "outputs": [],
   "source": [
    "X_train, X_test, y_train, y_test = train_test_split(images, filedfnona['age'])"
   ]
  },
  {
   "cell_type": "code",
   "execution_count": null,
   "id": "13103617-cf95-41ff-9ebe-52db52dd7b00",
   "metadata": {},
   "outputs": [],
   "source": [
    "X_train = np.array(X_train)/255\n",
    "X_test = np.array(X_test)/255"
   ]
  },
  {
   "cell_type": "code",
   "execution_count": null,
   "id": "4ba60188-4e61-4966-b398-0fab34bc2e01",
   "metadata": {},
   "outputs": [],
   "source": [
    "nsamples, nx, ny, nrgb = X_train.shape\n",
    "X_train2 = X_train.reshape((nsamples,nx*ny*nrgb))"
   ]
  },
  {
   "cell_type": "code",
   "execution_count": null,
   "id": "cf074ba7-65db-4276-8db5-f66dd59d0ab8",
   "metadata": {},
   "outputs": [],
   "source": [
    "model.fit(X_train2,y_train)"
   ]
  },
  {
   "cell_type": "code",
   "execution_count": null,
   "id": "eac4e007-adcb-49cb-a45b-8c0a2cda3623",
   "metadata": {},
   "outputs": [],
   "source": [
    "nsamples, nx, ny, nrgb = X_test.shape\n",
    "x_test2 = X_test.reshape((nsamples,nx*ny*nrgb))"
   ]
  },
  {
   "cell_type": "code",
   "execution_count": null,
   "id": "44a7b304-0ed3-46c1-a664-d6bf4c8291df",
   "metadata": {},
   "outputs": [],
   "source": [
    "y_pred=model.predict(x_test2)\n",
    "y_pred"
   ]
  },
  {
   "cell_type": "code",
   "execution_count": null,
   "id": "f8a20bab-05d6-4589-9681-95c3b8015e58",
   "metadata": {},
   "outputs": [],
   "source": [
    "accuracy_score(y_pred,y_test)\n",
    "print(classification_report(y_pred,y_test))"
   ]
  },
  {
   "cell_type": "code",
   "execution_count": null,
   "id": "0c8c8e6a-2732-4f66-a704-f1bd7c38f6aa",
   "metadata": {},
   "outputs": [],
   "source": []
  },
  {
   "cell_type": "code",
   "execution_count": 37,
   "id": "1bffec30-4ab6-4800-947f-05dc00a10d71",
   "metadata": {},
   "outputs": [
    {
     "name": "stdout",
     "output_type": "stream",
     "text": [
      "              precision    recall  f1-score   support\n",
      "\n",
      "           0       0.95      0.68      0.79      1878\n",
      "           1       0.16      0.60      0.25        25\n",
      "           2       0.47      0.83      0.60       221\n",
      "           3       0.47      0.64      0.54       268\n",
      "           4       0.11      0.57      0.19        53\n",
      "\n",
      "    accuracy                           0.68      2445\n",
      "   macro avg       0.43      0.66      0.47      2445\n",
      "weighted avg       0.83      0.68      0.73      2445\n",
      "\n"
     ]
    }
   ],
   "source": [
    "accuracy_score(y_pred,y_test)\n",
    "print(classification_report(y_pred,y_test))"
   ]
  },
  {
   "cell_type": "code",
   "execution_count": 38,
   "id": "0fa2bf68-ff79-457b-8046-3e4a892b9fdf",
   "metadata": {},
   "outputs": [
    {
     "data": {
      "text/plain": [
       "array([[1268,   62,  187,  174,  187],\n",
       "       [   3,   15,    2,    5,    0],\n",
       "       [  17,    2,  183,    9,   10],\n",
       "       [  33,   13,    9,  171,   42],\n",
       "       [   8,    3,    5,    7,   30]])"
      ]
     },
     "execution_count": 38,
     "metadata": {},
     "output_type": "execute_result"
    }
   ],
   "source": [
    "confusion_matrix(y_pred,y_test)"
   ]
  },
  {
   "cell_type": "code",
   "execution_count": null,
   "id": "0a7e192c-6a58-4401-b1a0-27ca20f72de6",
   "metadata": {},
   "outputs": [],
   "source": [
    "x_train.shape,x_test.shape"
   ]
  },
  {
   "cell_type": "code",
   "execution_count": 3,
   "id": "5eeb38d2-e170-4ba0-a540-bdae4cf84b3c",
   "metadata": {},
   "outputs": [],
   "source": [
    "def gini(p):\n",
    "    return p*(1-p) + (1-p)*(1-(1-p))\n",
    "def entropy(p):\n",
    "    return -(p*np.log2(p) + (1-p)*np.log2(1-p))\n"
   ]
  },
  {
   "cell_type": "code",
   "execution_count": 40,
   "id": "45ada859-5abe-4216-9d70-d7025d6dd96f",
   "metadata": {},
   "outputs": [],
   "source": [
    "from sklearn import svm\n",
    "from sklearn.model_selection import GridSearchCV\n",
    "param_grid={'C':[0.1,1,10,100],'gamma':[0.0001,0.001,0.1,1],'kernel':['rbf','poly']}\n",
    "svc=svm.SVC(probability=True)\n",
    "model=GridSearchCV(svc,param_grid)"
   ]
  },
  {
   "cell_type": "code",
   "execution_count": null,
   "id": "c8c92e2c-2975-4143-b3bf-81acb0c13326",
   "metadata": {},
   "outputs": [],
   "source": [
    "model.fit(X_train,y_train)"
   ]
  },
  {
   "cell_type": "code",
   "execution_count": null,
   "id": "5aaf571a-e11b-42d7-8c14-07cd45edc368",
   "metadata": {},
   "outputs": [],
   "source": [
    "y_pred=model.predict(x_test)\n"
   ]
  },
  {
   "cell_type": "code",
   "execution_count": null,
   "id": "64543b12-5c17-4fb9-b815-ca65900f5a65",
   "metadata": {},
   "outputs": [],
   "source": [
    "y_pred=model.predict(x_test)\n",
    "print(\"The predicted Data is :\")\n",
    "print(y_pred)\n",
    "print(\"The actual data is:\")\n",
    "print(np.array(y_test))\n",
    "print(f\"The model is {accuracy_score(y_pred,y_test)*100}% accurate\")"
   ]
  }
 ],
 "metadata": {
  "kernelspec": {
   "display_name": "Python 3 (ipykernel)",
   "language": "python",
   "name": "python3"
  },
  "language_info": {
   "codemirror_mode": {
    "name": "ipython",
    "version": 3
   },
   "file_extension": ".py",
   "mimetype": "text/x-python",
   "name": "python",
   "nbconvert_exporter": "python",
   "pygments_lexer": "ipython3",
   "version": "3.9.12"
  },
  "widgets": {
   "application/vnd.jupyter.widget-state+json": {
    "state": {},
    "version_major": 2,
    "version_minor": 0
   }
  }
 },
 "nbformat": 4,
 "nbformat_minor": 5
}
