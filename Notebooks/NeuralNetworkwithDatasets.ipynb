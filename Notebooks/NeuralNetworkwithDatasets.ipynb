{
 "cells": [
  {
   "cell_type": "code",
   "execution_count": 25,
   "id": "45fa2487-02fc-461a-8d41-0ccb7f683ee9",
   "metadata": {},
   "outputs": [],
   "source": [
    "import importlib  \n",
    "imageprocessing = importlib.import_module(\"JV-ImagesProcessingFunctions\")\n",
    "import pandas as pd\n",
    "import numpy as np\n",
    "from PIL import Image\n",
    "from os import listdir\n",
    "from os.path import isfile, join\n",
    "import tensorflow as tf\n",
    "import cv2\n",
    "from tensorflow.keras import layers, models\n",
    "import matplotlib.pyplot as plt\n",
    "from sklearn.model_selection import train_test_split\n",
    "from sklearn.metrics import confusion_matrix\n",
    "from keras import Model\n",
    "from tensorflow.keras.layers import Input,Activation,Add, MaxPooling2D, MaxPooling1D, Flatten, Dense, Conv1D, Dropout\n",
    "import gc\n",
    "from ipynb.fs.full.SIFT_to_Features import SIFT_nparray_to_Features\n",
    "from tensorflow import keras\n",
    "from sklearn.decomposition import PCA\n",
    "from sklearn.ensemble import RandomForestClassifier\n",
    "from sklearn.feature_selection import SelectFromModel\n",
    "from sklearn.metrics import confusion_matrix\n",
    "from sklearn.svm import SVC, SVR\n",
    "from sklearn.metrics import accuracy_score\n",
    "from sklearn.ensemble import RandomForestClassifier"
   ]
  },
  {
   "cell_type": "code",
   "execution_count": 3,
   "id": "8297c30c-2aa6-4b40-b945-610921fc0878",
   "metadata": {},
   "outputs": [],
   "source": [
    "#Simplifies adding a layer\n",
    "def Convolution(input_tensor,filters):\n",
    "\n",
    "    x = layers.Conv2D(filters=filters,kernel_size=(3, 3),padding = 'same', activation = 'relu')(input_tensor)\n",
    "\n",
    "    return x\n",
    "\n",
    "def Convolution1D(input_tensor,filters):\n",
    "\n",
    "    x = layers.Conv1D(filters=filters,kernel_size=(3),padding = 'same', activation = 'relu')(input_tensor)\n",
    "\n",
    "    return x\n",
    "\n",
    "#Simple CNN model\n",
    "#Conv stands for neural network layers of (x,y). x standing for the input layers and y standing for how many filter layers there are\n",
    "#maxp is a pooling layer that reduces the number of nodes of the next layer\n",
    "#flatten changes the previous layer to a 1 dimensional layer\n",
    "#dense layers have each node connected to every node in the previous layer. In this case, we have 3 dense layers of differing weights representing\n",
    "#age, gender, and race. While all previous layers have collected features, dense layers calculate based on these collected features.\n",
    "#They then send their calculations to the final dense layer to determine classification\n",
    "#Binary Crossentropy = Classifies based on a binary value\n",
    "#Sparse Categorical Crossentropy = Classifies based on an integer value with more than 2 possible values\n",
    "def Simplemodel(input_shape,column):\n",
    "  losstype = \"\"\n",
    "  outputn = 0\n",
    "  if(column == 'age'):\n",
    "    losstype = \"sparse_categorical_crossentropy\"\n",
    "    outputn = 9\n",
    "  if(column == 'gender'):\n",
    "    losstype = \"binary_crossentropy\"\n",
    "    outputn = 1\n",
    "  if(column == 'race'):\n",
    "    losstype = \"sparse_categorical_crossentropy\"\n",
    "    outputn = 5\n",
    "\n",
    "\n",
    "  inputs = Input((input_shape))\n",
    "\n",
    "  conv_1= Convolution(inputs,32)\n",
    "\n",
    "  maxp_1 = MaxPooling2D(pool_size = (2,2)) (conv_1)\n",
    "\n",
    "  conv_2 = Convolution(maxp_1,64)\n",
    "\n",
    "  maxp_2 = MaxPooling2D(pool_size = (2, 2)) (conv_2)\n",
    "\n",
    "  conv_3 = Convolution(maxp_2,64)\n",
    "\n",
    "  maxp_3 = MaxPooling2D(pool_size = (2, 2)) (conv_3)\n",
    "\n",
    "  conv_4 = Convolution(maxp_3,64)\n",
    "\n",
    "  maxp_4 = MaxPooling2D(pool_size = (2, 2)) (conv_4)\n",
    "\n",
    "  conv_5 = Convolution(maxp_4,64)\n",
    "\n",
    "  flatten= Flatten() (conv_5)\n",
    "\n",
    "  dense_1= Dense(64,activation='relu')(flatten)\n",
    "\n",
    "  output_1= Dense(outputn,activation=\"sigmoid\",name='out')(dense_1)\n",
    "\n",
    "  model = Model(inputs=[inputs], outputs=[output_1])\n",
    "\n",
    "  model.compile(loss=[losstype], optimizer=\"Adam\",\n",
    "\n",
    "  metrics=[\"accuracy\"])\n",
    "\n",
    "  return model\n",
    "\n",
    "def Simplemodel1D(input_shape,column):\n",
    "  losstype = \"\"\n",
    "  outputn = 0\n",
    "  if(column == 'age'):\n",
    "    losstype = \"sparse_categorical_crossentropy\"\n",
    "    outputn = 9\n",
    "  if(column == 'gender'):\n",
    "    losstype = \"binary_crossentropy\"\n",
    "    outputn = 1\n",
    "  if(column == 'race'):\n",
    "    losstype = \"sparse_categorical_crossentropy\"\n",
    "    outputn = 5\n",
    "\n",
    "  inputs = Input((input_shape))\n",
    "\n",
    "  conv_1= Convolution1D(inputs,32)\n",
    "\n",
    "  maxp_1 = MaxPooling1D(pool_size = 2) (conv_1)\n",
    "\n",
    "  conv_2 = Convolution1D(maxp_1,64)\n",
    "\n",
    "  maxp_2 = MaxPooling1D(pool_size = 2) (conv_2)\n",
    "\n",
    "  conv_3 = Convolution1D(maxp_2,64)\n",
    "\n",
    "  maxp_3 = MaxPooling1D(pool_size = 2) (conv_3)\n",
    "\n",
    "  conv_4 = Convolution1D(maxp_3,64)\n",
    "\n",
    "  maxp_4 = MaxPooling1D(pool_size = 2) (conv_4)\n",
    "\n",
    "  conv_5 = Convolution1D(maxp_4,64)\n",
    "\n",
    "  flatten= Flatten() (conv_5)\n",
    "\n",
    "  dense_1= Dense(64,activation='relu')(flatten)\n",
    "\n",
    "  output_1= Dense(outputn,activation=\"sigmoid\",name='out')(dense_1)\n",
    "\n",
    "  model = Model(inputs=[inputs], outputs=[output_1])\n",
    "\n",
    "  model.compile(loss=[losstype], optimizer=\"Adam\",\n",
    "\n",
    "  metrics=[\"accuracy\"])\n",
    "\n",
    "  return model"
   ]
  },
  {
   "cell_type": "code",
   "execution_count": 4,
   "id": "444c2bfb-d532-4286-9fca-17a8e4b3990b",
   "metadata": {},
   "outputs": [],
   "source": [
    "# Get data and convert for model\n",
    "data = np.load('../data/raw/UnbalancedRaw/npimagearrays.npy',allow_pickle=True)\n",
    "filelabels = pd.read_csv('../data/raw/UnbalancedRaw/npimagefilelabels.csv').loc[:,['file','age']]\n",
    "\n",
    "X_train, X_test, y_train, y_test = train_test_split(data, filelabels, test_size=0.33, random_state=42)\n",
    "y_testnp = np.asarray(y_test.loc[:,'age'])\n",
    "\n",
    "y_trainnp = np.asarray(y_train.loc[:,'age'])\n",
    "if 'data' in globals():\n",
    "    del data"
   ]
  },
  {
   "cell_type": "code",
   "execution_count": 5,
   "id": "4947939e-7d88-41e0-baf9-afecd84fc994",
   "metadata": {},
   "outputs": [],
   "source": [
    "if 'filelabels' in globals():\n",
    "    del filelabels"
   ]
  },
  {
   "cell_type": "code",
   "execution_count": 12,
   "id": "fcd71f9c-af0b-4aed-a3e4-a36b0c453d66",
   "metadata": {},
   "outputs": [],
   "source": [
    "def robertsSobelEdges(imagesArray):\n",
    "    from skimage import color\n",
    "    from skimage import filters\n",
    "\n",
    "    \"\"\"\n",
    "    returns two numpy arrays with pictures in black and white and with the edges define using Roberts filter\n",
    "    on the first one and the Sobel filter on the second one. The images are in black and white\n",
    "    \"\"\"\n",
    "    sobel_ = []\n",
    "    for image in imagesArray:\n",
    "        grayImg = color.rgb2gray(image)\n",
    "        edge_sobel = filters.sobel(grayImg)\n",
    "        sobel_.append(edge_sobel)\n",
    "    return np.array(sobel_)\n",
    "\n",
    "def SelectMask(nparraytrain,nparraytest,select = 0):\n",
    "    \"\"\"\n",
    "    No mask option Select = [1< or >10]\n",
    "    \"\"\"\n",
    "    X_train_mask = nparraytrain\n",
    "    X_test_mask = nparraytest\n",
    "    \"\"\"\n",
    "    Sobel filter on image picture channel\n",
    "    \"\"\"\n",
    "    if(select == 1):\n",
    "        X_train_mask = imageprocessing.sobelFilterTypes(nparraytrain)[0]\n",
    "        X_test_mask = imageprocessing.sobelFilterTypes(nparraytest)[0]\n",
    "    \"\"\"\n",
    "    Sobel filter on image picture hsv\n",
    "    \"\"\"\n",
    "    if(select == 2):\n",
    "        X_train_mask = imageprocessing.sobelFilterTypes(nparraytrain)[1]\n",
    "        X_test_mask = imageprocessing.sobelFilterTypes(nparraytest)[1]\n",
    "    \"\"\"\n",
    "    returns two numpy arrays with pictures in black and white and with the edges define using Roberts filter\n",
    "    \"\"\"\n",
    "    if(select == 3):\n",
    "        X_train_mask = imageprocessing.robertsSobelEdges(nparraytrain)[0]\n",
    "        X_test_mask = imageprocessing.robertsSobelEdges(nparraytest)[0]\n",
    "    \"\"\"\n",
    "    returns two numpy arrays with pictures in black and white and with the edges define using Sobel filter\n",
    "    \"\"\"\n",
    "    if(select == 4):\n",
    "        X_train_mask = robertsSobelEdges(nparraytrain)\n",
    "        X_test_mask = robertsSobelEdges(nparraytest)\n",
    "        X_train_mask = cv2.normalize(X_train_mask, None, 0, 255, cv2.NORM_MINMAX, cv2.CV_8U)\n",
    "        X_test_mask = cv2.normalize(X_test_mask, None, 0, 255, cv2.NORM_MINMAX, cv2.CV_8U)\n",
    "    \"\"\"\n",
    "    This fucntion increases the exposure of each picture and it returns a numpy\n",
    "    array of the modified images. The images are in color\n",
    "    \"\"\"\n",
    "    if(select == 5):\n",
    "        X_train_mask = imageprocessing.exposure_(nparraytrain)\n",
    "        X_test_mask = imageprocessing.exposure_(nparraytest)\n",
    "\n",
    "    \"\"\"\n",
    "    This function gamma corrects the image\n",
    "    \"\"\"\n",
    "    if(select == 6):\n",
    "        X_train_mask = imageprocessing.gammaLogaritmictCorrection(nparraytrain)[0]\n",
    "        X_test_mask = imageprocessing.gammaLogaritmictCorrection(nparraytest)[0]\n",
    "    \"\"\"\n",
    "    This function logarithmic corrects the image\n",
    "    \"\"\"\n",
    "    if(select == 7):\n",
    "        X_train_mask = imageprocessing.gammaLogaritmictCorrection(nparraytrain)[1]\n",
    "        X_test_mask = imageprocessing.gammaLogaritmictCorrection(nparraytest)[1]\n",
    "    \"\"\"\n",
    "    This function rescales the image\n",
    "    \"\"\"\n",
    "    if(select == 8):\n",
    "        X_train_mask = imageprocessing.histogramEqualizer(nparraytrain)[0]\n",
    "        X_test_mask = imageprocessing.histogramEqualizer(nparraytest)[0]\n",
    "    \"\"\"\n",
    "    This function equalizes the image\n",
    "    \"\"\"\n",
    "    if(select == 9):\n",
    "        X_train_mask = imageprocessing.histogramEqualizer(nparraytrain)[1]\n",
    "        X_test_mask = imageprocessing.histogramEqualizer(nparraytest)[1]\n",
    "    \"\"\"\n",
    "    This function adapthis the image\n",
    "    \"\"\"\n",
    "    if(select == 10):\n",
    "        X_train_mask = imageprocessing.histogramEqualizer(nparraytrain)[2]\n",
    "        X_test_mask = imageprocessing.histogramEqualizer(nparraytest)[2]\n",
    "    return X_train_mask,X_test_mask"
   ]
  },
  {
   "cell_type": "code",
   "execution_count": 10,
   "id": "d3489eec-3e93-433b-b511-e7ad23635f9d",
   "metadata": {},
   "outputs": [],
   "source": [
    "def Preprocessnparrays(X_train,\n",
    "                       X_test,\n",
    "                       y_train,\n",
    "                       y_test,\n",
    "                       mask = 0,\n",
    "                       sift = False,\n",
    "                       vocab = 200,\n",
    "                       pca = False,\n",
    "                       n_components = 200 ,\n",
    "                       rfs = False,\n",
    "                       n_estimators = 20):\n",
    "    X_train, X_test = SelectMask(X_train,X_test,select = mask)\n",
    "    if(sift):\n",
    "        X_train, X_test = SIFT_nparray_to_Features(X_train,X_test,nvocab = vocab)\n",
    "        if(pca):\n",
    "            pcax = PCA(n_components = n_components)\n",
    "            pcax.fit(X_train)\n",
    "            X_train = pcax.transform(X_train)\n",
    "            X_test = pcax.transform(X_test)\n",
    "        if(rfs):\n",
    "            selector = SelectFromModel(RandomForestClassifier(n_estimators = n_estimators))\n",
    "            selector.fit(X_train, y_train)\n",
    "            X_train = X_train[:,selector.get_support()]\n",
    "            X_test = X_test[:,selector.get_support()]\n",
    "    else:\n",
    "        if(pca or rfs):\n",
    "            X_train = X_train.reshape(len(X_train),200*200*3)\n",
    "            X_test = X_test.reshape(len(X_test),200*200*3)\n",
    "            if(pca):\n",
    "                pcax = PCA(n_components = n_components)\n",
    "                pcax.fit(X_train)\n",
    "                X_train = pcax.transform(X_train)\n",
    "                X_test = pcax.transform(X_test)\n",
    "            if(rfs):\n",
    "                selector = SelectFromModel(RandomForestClassifier(n_estimators = n_estimators))\n",
    "                selector.fit(X_train, y_train)\n",
    "                X_train = X_train[:,selector.get_support()]\n",
    "                X_test = X_test[:,selector.get_support()]\n",
    "    return X_train,X_test,y_train,y_test"
   ]
  },
  {
   "cell_type": "code",
   "execution_count": 31,
   "id": "b9c2fece-a63b-478b-b6b9-b1d79bfbfb88",
   "metadata": {},
   "outputs": [],
   "source": [
    "conmatries = []\n",
    "histories = []"
   ]
  },
  {
   "cell_type": "code",
   "execution_count": 43,
   "id": "974505a9-cea5-4091-894d-d3c0feaa0388",
   "metadata": {},
   "outputs": [
    {
     "name": "stdout",
     "output_type": "stream",
     "text": [
      "0FalseFalseFalse\n"
     ]
    }
   ],
   "source": [
    "for i in [0]:\n",
    "    for j in [False]:\n",
    "        for k in [False]:\n",
    "            for l in [False]:\n",
    "                print(str(i) + str(j) + str(k) + str(l))\n",
    "                X_train_new,X_test_new,y_train_new,y_test_new = Preprocessnparrays(X_train[:7000],\n",
    "                                                                                   X_test[:3000],\n",
    "                                                                                   y_trainnp[:7000],\n",
    "                                                                                   y_testnp[:3000],\n",
    "                                                                                   mask =i,\n",
    "                                                                                   sift = j,\n",
    "                                                                                   vocab = 200,\n",
    "                                                                                   pca = k,\n",
    "                                                                                   n_components = 200 ,\n",
    "                                                                                   rfs = l,\n",
    "                                                                                   n_estimators = 20)\n",
    "                \n",
    "                #Creating the model\n",
    "                Type = 'age'\n",
    "                ModelType = 'RF'\n",
    "                Modelsimple = ''\n",
    "                History = ''\n",
    "                conmatrix = ''\n",
    "                val_accuracy = 0\n",
    "                if(ModelType == 'NN'):\n",
    "                    if(len(X_train_new.shape)==3):\n",
    "                        X_train_new = tf.expand_dims(X_train_new, axis=-1)\n",
    "                        X_test_new = tf.expand_dims(X_test_new, axis=-1)\n",
    "                        Modelsimple=Simplemodel(X_train_new[0].shape,Type)\n",
    "                    elif(len(X_train_new.shape)==2):\n",
    "                        X_train_new = tf.expand_dims(X_train_new, axis=-1)\n",
    "                        X_test_new = tf.expand_dims(X_test_new, axis=-1)\n",
    "                        Modelsimple=Simplemodel1D(X_train_new[0].shape,Type)\n",
    "                    else:\n",
    "                        Modelsimple=Simplemodel(X_train_new[0].shape,Type)\n",
    "                    \n",
    "                    if(Type == 'age'):\n",
    "                       y_test_new = y_test_new - 1\n",
    "                       y_train_new = y_train_new - 1\n",
    "                    History = Modelsimple.fit(X_train_new,y_train_new,validation_data=(X_test_new,y_test_new),epochs=5)\n",
    "                    val_accuracy = History.history['val_accuracy']\n",
    "                    ypred = Modelsimple.predict(X_test_new)\n",
    "                    conmatrix = confusion_matrix(np.argmax(ypred, axis=-1),y_test_new)\n",
    "                if(ModelType == 'SVM'):\n",
    "                    Modelsimple = SVC(kernel = 'linear', C=1.0, random_state=42, verbose = True)\n",
    "                    Modelsimple.fit(X_train_new, y_train_new)\n",
    "                    y_test_new_predict = Modelsimple.predict(X_test_new)\n",
    "                    val_accuracy = accuracy_score(y_test_new, y_test_new_predict)\n",
    "                    conmatrix = confusion_matrix(y_test_new_predict,y_test_new)\n",
    "                if(ModelType == 'RF'):\n",
    "                    reshape_X_train = np.reshape(X_train_new,(len(X_train_new),200*200*3))\n",
    "                    reshape_X_test= np.reshape(X_test_new,(len(X_test_new),200*200*3))\n",
    "                    Modelsimple=RandomForestClassifier()\n",
    "                    Modelsimple.fit(reshape_X_train, y_train_new)\n",
    "                    y_test_new_predict = Modelsimple.predict(reshape_X_test)\n",
    "                    val_accuracy = accuracy_score(y_test_new, y_test_new_predict)\n",
    "                    conmatrix = confusion_matrix(y_test_new_predict,y_test_new)\n",
    "                \n",
    "                histories.append(val_accuracy)\n",
    "                conmatries.append(conmatrix)"
   ]
  },
  {
   "cell_type": "code",
   "execution_count": 35,
   "id": "d112e78c-7f62-42d4-adec-de72ca4d7aed",
   "metadata": {},
   "outputs": [
    {
     "data": {
      "text/plain": [
       "[0.444]"
      ]
     },
     "execution_count": 35,
     "metadata": {},
     "output_type": "execute_result"
    }
   ],
   "source": [
    "histories"
   ]
  },
  {
   "cell_type": "code",
   "execution_count": 44,
   "id": "550e6df9-c88e-487a-8e6b-bf4cea98e3f6",
   "metadata": {},
   "outputs": [
    {
     "data": {
      "text/plain": [
       "[0.444, 0.48133333333333334, 0.5493333333333333]"
      ]
     },
     "execution_count": 44,
     "metadata": {},
     "output_type": "execute_result"
    }
   ],
   "source": [
    "histories"
   ]
  },
  {
   "cell_type": "code",
   "execution_count": 7,
   "id": "79298596-8704-4f41-824a-8ee7bf41ad41",
   "metadata": {},
   "outputs": [],
   "source": [
    "X_train_mask = imageprocessing.robertsSobelEdges(X_train[:2500])[1]\n",
    "X_test_mask = imageprocessing.robertsSobelEdges(X_test[:500])[1]"
   ]
  },
  {
   "cell_type": "code",
   "execution_count": 24,
   "id": "6fa5b635-9028-463b-9f50-c9d6a9ee635d",
   "metadata": {},
   "outputs": [],
   "source": [
    "X_train_mask_converted = X_train_mask *255\n",
    "X_train_mask_converted = np.array(X_train_mask_converted.astype(int))"
   ]
  },
  {
   "cell_type": "code",
   "execution_count": 25,
   "id": "a57c066d-585f-4923-90e0-c61b6c8fbfd3",
   "metadata": {},
   "outputs": [],
   "source": [
    "X_test_mask_converted = X_train_mask *255\n",
    "X_test_mask_converted ="
   ]
  },
  {
   "cell_type": "code",
   "execution_count": 27,
   "id": "f4e232c7-cc43-49e6-941a-19eeac47293a",
   "metadata": {},
   "outputs": [
    {
     "data": {
      "text/plain": [
       "(500, 200, 200)"
      ]
     },
     "execution_count": 27,
     "metadata": {},
     "output_type": "execute_result"
    }
   ],
   "source": [
    "X_test_mask_converted.shape"
   ]
  },
  {
   "cell_type": "code",
   "execution_count": 8,
   "id": "b2c59723-0ca5-412f-8ae1-214f25fc29e5",
   "metadata": {},
   "outputs": [],
   "source": [
    "X_train, X_test = SIFT_nparray_to_Features(X_train_mask,X_test_mask,nvocab = 200)"
   ]
  },
  {
   "cell_type": "code",
   "execution_count": 21,
   "id": "1f53f783-1765-46b0-8708-720dc3228f70",
   "metadata": {},
   "outputs": [
    {
     "data": {
      "text/plain": [
       "array([[ 176,   25,    3,    0,    2,    4,    0,    1,    0],\n",
       "       [  28,   39,   17,    9,    7,   11,    0,    1,    0],\n",
       "       [   1,    6,    6,    1,    3,    4,    0,    0,    0],\n",
       "       [   0,    2,    5,    6,   10,    2,    0,    2,    1],\n",
       "       [   1,    7,   15,   18,   46,   43,   10,   13,    1],\n",
       "       [   6,    8,   11,    7,  120, 1133,  283,  112,    3],\n",
       "       [   0,    2,    2,    1,    3,   89,  134,   73,    3],\n",
       "       [   0,    4,    1,    0,    3,   42,   67,  260,   43],\n",
       "       [   0,    0,    0,    0,    0,    1,    1,   22,   40]],\n",
       "      dtype=int64)"
      ]
     },
     "execution_count": 21,
     "metadata": {},
     "output_type": "execute_result"
    }
   ],
   "source": [
    "conmatries[0]"
   ]
  },
  {
   "cell_type": "code",
   "execution_count": 23,
   "id": "6fd0a5da-56f8-43f2-9d17-ca21cfcd756d",
   "metadata": {},
   "outputs": [
    {
     "data": {
      "image/png": "[encoded data removed]",
      "text/plain": [
       "<Figure size 648x648 with 2 Axes>"
      ]
     },
     "metadata": {
      "needs_background": "light"
     },
     "output_type": "display_data"
    }
   ],
   "source": [
    "plt.figure(figsize=(9,9))\n",
    "plt.imshow(conmatries[0], interpolation='nearest', cmap='Pastel1')\n",
    "plt.title('Confusion Matrix for age', size = 30)\n",
    "plt.colorbar()\n",
    "tick_marks = np.arange(9)\n",
    "plt.xticks(tick_marks, [\"1 infancy (0-2)\", \"2 Early Childhood (Ages 3-5)\", \"3 Middle Childhood (Ages 6-8)\", \"4 Late Childhood (Ages 9-11)\", \"5 Adolescence (Ages 12-20)\", \"6 Early Adulthood (Ages 21-35)\", \"7 Midlife (Ages 36-50)\", \"8 Mature Adulthood (Ages 51-79)\", \"9 Late Adulthood (Age 80+)\"], rotation=90, size = 10)\n",
    "plt.yticks(tick_marks, [\"1 infancy (0-2)\", \"2 Early Childhood (Ages 3-5)\", \"3 Middle Childhood (Ages 6-8)\", \"4 Late Childhood (Ages 9-11)\", \"5 Adolescence (Ages 12-20)\", \"6 Early Adulthood (Ages 21-35)\", \"7 Midlife (Ages 36-50)\", \"8 Mature Adulthood (Ages 51-79)\", \"9 Late Adulthood (Age 80+)\"], size = 10)\n",
    "plt.tight_layout()\n",
    "plt.ylabel('Actual label', size = 15)\n",
    "plt.xlabel('Predicted label', size = 15)\n",
    "width, height = conmatries[0].shape\n",
    "for x in range(width):\n",
    " for y in range(height):\n",
    "  plt.annotate(str(conmatries[0][x][y]), xy=(y, x), \n",
    "  horizontalalignment='center',\n",
    "  verticalalignment='center')"
   ]
  },
  {
   "cell_type": "code",
   "execution_count": null,
   "id": "fd0493d1-8cf2-43fe-a8d0-78560f37ccb3",
   "metadata": {},
   "outputs": [],
   "source": [
    "LabelEncoder().fit_transform(y)\n",
    "oversample = RandomOverSampler()\n",
    "X3, y3 = oversample.fit_resample(X3, y3)"
   ]
  }
 ],
 "metadata": {
  "kernelspec": {
   "display_name": "Python 3 (ipykernel)",
   "language": "python",
   "name": "python3"
  },
  "language_info": {
   "codemirror_mode": {
    "name": "ipython",
    "version": 3
   },
   "file_extension": ".py",
   "mimetype": "text/x-python",
   "name": "python",
   "nbconvert_exporter": "python",
   "pygments_lexer": "ipython3",
   "version": "3.10.2"
  }
 },
 "nbformat": 4,
 "nbformat_minor": 5
}
