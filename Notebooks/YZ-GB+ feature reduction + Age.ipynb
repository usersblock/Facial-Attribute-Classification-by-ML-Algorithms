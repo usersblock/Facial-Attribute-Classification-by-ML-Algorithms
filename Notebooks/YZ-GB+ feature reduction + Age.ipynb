{
 "cells": [
  {
   "cell_type": "code",
   "execution_count": 1,
   "id": "cec78119",
   "metadata": {},
   "outputs": [],
   "source": [
    "import pandas as pd\n",
    "import numpy as np\n",
    "from os import listdir\n",
    "from os.path import isfile, join\n",
    "import matplotlib.pyplot as plt\n",
    "from sklearn.ensemble import GradientBoostingClassifier\n",
    "from sklearn.preprocessing import StandardScaler\n",
    "from sklearn.model_selection import train_test_split\n",
    "from sklearn.metrics import accuracy_score, confusion_matrix\n",
    "from sklearn import preprocessing\n",
    "from sklearn.metrics import classification_report\n",
    "\n",
    "%matplotlib inline"
   ]
  },
  {
   "cell_type": "markdown",
   "id": "3e0c8ba3",
   "metadata": {},
   "source": [
    "## Load the dataset"
   ]
  },
  {
   "cell_type": "code",
   "execution_count": 2,
   "id": "48d8ca83",
   "metadata": {},
   "outputs": [],
   "source": [
    "mypath = '/Users/yinzi/Downloads/UTKFace'\n",
    "filenames = np.array([f for f in listdir(mypath) if isfile(join(mypath, f))])\n",
    "splitcolumns = [x.split('_')[0:3] + [mypath +'/' + x] for x in filenames if x.count('_') == 3]\n",
    "filecolumns = ['age','gender','race','file']\n",
    "df = pd.DataFrame(data = splitcolumns, columns = filecolumns)"
   ]
  },
  {
   "cell_type": "code",
   "execution_count": 3,
   "id": "24197027",
   "metadata": {},
   "outputs": [
    {
     "data": {
      "text/html": [
       "<div>\n",
       "<style scoped>\n",
       "    .dataframe tbody tr th:only-of-type {\n",
       "        vertical-align: middle;\n",
       "    }\n",
       "\n",
       "    .dataframe tbody tr th {\n",
       "        vertical-align: top;\n",
       "    }\n",
       "\n",
       "    .dataframe thead th {\n",
       "        text-align: right;\n",
       "    }\n",
       "</style>\n",
       "<table border=\"1\" class=\"dataframe\">\n",
       "  <thead>\n",
       "    <tr style=\"text-align: right;\">\n",
       "      <th></th>\n",
       "      <th>age</th>\n",
       "      <th>gender</th>\n",
       "      <th>race</th>\n",
       "      <th>file</th>\n",
       "    </tr>\n",
       "  </thead>\n",
       "  <tbody>\n",
       "    <tr>\n",
       "      <th>0</th>\n",
       "      <td>9</td>\n",
       "      <td>1</td>\n",
       "      <td>2</td>\n",
       "      <td>/Users/yinzi/Downloads/UTKFace/9_1_2_201612192...</td>\n",
       "    </tr>\n",
       "    <tr>\n",
       "      <th>1</th>\n",
       "      <td>36</td>\n",
       "      <td>0</td>\n",
       "      <td>1</td>\n",
       "      <td>/Users/yinzi/Downloads/UTKFace/36_0_1_20170117...</td>\n",
       "    </tr>\n",
       "    <tr>\n",
       "      <th>2</th>\n",
       "      <td>86</td>\n",
       "      <td>1</td>\n",
       "      <td>0</td>\n",
       "      <td>/Users/yinzi/Downloads/UTKFace/86_1_0_20170120...</td>\n",
       "    </tr>\n",
       "  </tbody>\n",
       "</table>\n",
       "</div>"
      ],
      "text/plain": [
       "  age gender race                                               file\n",
       "0   9      1    2  /Users/yinzi/Downloads/UTKFace/9_1_2_201612192...\n",
       "1  36      0    1  /Users/yinzi/Downloads/UTKFace/36_0_1_20170117...\n",
       "2  86      1    0  /Users/yinzi/Downloads/UTKFace/86_1_0_20170120..."
      ]
     },
     "execution_count": 3,
     "metadata": {},
     "output_type": "execute_result"
    }
   ],
   "source": [
    "df.head(3)"
   ]
  },
  {
   "cell_type": "code",
   "execution_count": 6,
   "id": "23311153-e5ea-456d-94f6-c8a1fd685aef",
   "metadata": {},
   "outputs": [
    {
     "data": {
      "text/plain": [
       "(23705, 4)"
      ]
     },
     "execution_count": 6,
     "metadata": {},
     "output_type": "execute_result"
    }
   ],
   "source": [
    "df.shape"
   ]
  },
  {
   "cell_type": "code",
   "execution_count": 4,
   "id": "16b0607a",
   "metadata": {},
   "outputs": [
    {
     "name": "stdout",
     "output_type": "stream",
     "text": [
      "['9' '36' '86' '26' '1' '52' '25' '16' '27' '58' '6' '35' '2' '53' '23'\n",
      " '24' '75' '50' '15' '37' '10' '22' '29' '21' '46' '17' '63' '34' '61'\n",
      " '18' '20' '32' '30' '45' '31' '43' '3' '54' '60' '49' '59' '41' '82' '40'\n",
      " '5' '44' '76' '8' '28' '56' '39' '4' '96' '12' '67' '47' '48' '19' '62'\n",
      " '38' '71' '89' '90' '14' '68' '33' '80' '42' '65' '57' '7' '69' '55' '85'\n",
      " '78' '81' '13' '51' '66' '79' '64' '83' '11' '87' '77' '73' '70' '74'\n",
      " '92' '72' '88' '99' '84' '100' '93' '105' '95' '116' '103' '110' '91'\n",
      " '101' '111' '115']\n",
      "104\n"
     ]
    }
   ],
   "source": [
    "print(df['age'].unique())   # 99 ages on target variable age\n",
    "print(len(df['age'].unique()))"
   ]
  },
  {
   "cell_type": "code",
   "execution_count": 5,
   "id": "5821ab46",
   "metadata": {},
   "outputs": [
    {
     "data": {
      "text/plain": [
       "age        int64\n",
       "gender     int64\n",
       "race       int64\n",
       "file      object\n",
       "dtype: object"
      ]
     },
     "execution_count": 5,
     "metadata": {},
     "output_type": "execute_result"
    }
   ],
   "source": [
    "# convert all the object data type to numerical data\n",
    "df['age']= df['age'].astype('int')\n",
    "df['gender']= df['gender'].astype('int')\n",
    "df['race']= df['race'].astype('int')\n",
    "df.dtypes"
   ]
  },
  {
   "cell_type": "markdown",
   "id": "60152308",
   "metadata": {},
   "source": [
    "1. infancy (0-2)\n",
    "2. Early Childhood (Ages 3-5)\n",
    "3. Middle Childhood (Ages 6-8)\n",
    "4. Late Childhood (Ages 9-11)\n",
    "5. Adolescence (Ages 12-20)\n",
    "6. Early Adulthood (Ages 21-35)\n",
    "7. Midlife (Ages 36-50)\n",
    "8. Mature Adulthood (Ages 51-79)\n",
    "9. Late Adulthood (Age 80+)"
   ]
  },
  {
   "cell_type": "code",
   "execution_count": 7,
   "id": "cf117216",
   "metadata": {},
   "outputs": [
    {
     "data": {
      "text/plain": [
       "(1, 116)"
      ]
     },
     "execution_count": 7,
     "metadata": {},
     "output_type": "execute_result"
    }
   ],
   "source": [
    "df['age'].min(), df['age'].max()"
   ]
  },
  {
   "cell_type": "code",
   "execution_count": 8,
   "id": "6232b60b",
   "metadata": {},
   "outputs": [],
   "source": [
    "# put the age in different interval\n",
    "df['age']=np.where(((df.age>=1) & (df.age<=2)), 1, df.age)\n",
    "df['age']=np.where(((df.age>=3) & (df.age<6)), 2, df.age)\n",
    "df['age']=np.where(((df.age>=6) & (df.age<9)), 3, df.age)\n",
    "df['age']=np.where(((df.age>=9) & (df.age<12)), 4, df.age)\n",
    "df['age']=np.where(((df.age>=12) & (df.age<21)), 5, df.age)\n",
    "df['age']=np.where(((df.age>=21) & (df.age<36)), 6, df.age)\n",
    "df['age']=np.where(((df.age>=36) & (df.age<51)), 7, df.age)\n",
    "df['age']=np.where(((df.age>=51) & (df.age<80)), 8, df.age)\n",
    "df['age']=np.where((df.age>=80), 9, df.age)"
   ]
  },
  {
   "cell_type": "code",
   "execution_count": 9,
   "id": "9baf126c",
   "metadata": {},
   "outputs": [
    {
     "data": {
      "text/plain": [
       "[1, 2, 3, 4, 5, 6, 7, 8, 9]"
      ]
     },
     "execution_count": 9,
     "metadata": {},
     "output_type": "execute_result"
    }
   ],
   "source": [
    "age1 = sorted(df['age'].unique())\n",
    "age1"
   ]
  },
  {
   "cell_type": "code",
   "execution_count": 78,
   "id": "9696cf0d",
   "metadata": {},
   "outputs": [
    {
     "data": {
      "text/plain": [
       "dtype('int64')"
      ]
     },
     "execution_count": 78,
     "metadata": {},
     "output_type": "execute_result"
    }
   ],
   "source": [
    "df['age'].dtype"
   ]
  },
  {
   "cell_type": "code",
   "execution_count": 6,
   "id": "a0ad27c4",
   "metadata": {},
   "outputs": [],
   "source": [
    "images = []\n",
    "for img_path in df['file']:\n",
    "    image = plt.imread(img_path)\n",
    "    images.append(image)"
   ]
  },
  {
   "cell_type": "code",
   "execution_count": 7,
   "id": "dbdc6a71",
   "metadata": {},
   "outputs": [],
   "source": [
    "from skimage import color\n",
    "from skimage import io"
   ]
  },
  {
   "cell_type": "markdown",
   "id": "323312d3",
   "metadata": {},
   "source": [
    "## Image Preprocessing + Gray scale image + Data Frame"
   ]
  },
  {
   "cell_type": "code",
   "execution_count": 8,
   "id": "ad50d472",
   "metadata": {},
   "outputs": [],
   "source": [
    "gray_images = []\n",
    "for img in images:\n",
    "    img_gray = color.rgb2gray(img)\n",
    "    gray_images.append(img_gray)"
   ]
  },
  {
   "cell_type": "code",
   "execution_count": 9,
   "id": "43d78c1f",
   "metadata": {},
   "outputs": [],
   "source": [
    "# scaling the features so that each feature takes on a value between 0 and 1\n",
    "images_gray = np.array(gray_images)/255"
   ]
  },
  {
   "cell_type": "code",
   "execution_count": 10,
   "id": "34450b5b",
   "metadata": {},
   "outputs": [
    {
     "data": {
      "text/plain": [
       "(9778, 200, 200)"
      ]
     },
     "execution_count": 10,
     "metadata": {},
     "output_type": "execute_result"
    }
   ],
   "source": [
    "images_gray.shape"
   ]
  },
  {
   "cell_type": "code",
   "execution_count": 11,
   "id": "a52cc35e",
   "metadata": {},
   "outputs": [
    {
     "data": {
      "text/html": [
       "<div>\n",
       "<style scoped>\n",
       "    .dataframe tbody tr th:only-of-type {\n",
       "        vertical-align: middle;\n",
       "    }\n",
       "\n",
       "    .dataframe tbody tr th {\n",
       "        vertical-align: top;\n",
       "    }\n",
       "\n",
       "    .dataframe thead th {\n",
       "        text-align: right;\n",
       "    }\n",
       "</style>\n",
       "<table border=\"1\" class=\"dataframe\">\n",
       "  <thead>\n",
       "    <tr style=\"text-align: right;\">\n",
       "      <th></th>\n",
       "      <th>0</th>\n",
       "      <th>1</th>\n",
       "      <th>2</th>\n",
       "      <th>3</th>\n",
       "      <th>4</th>\n",
       "      <th>5</th>\n",
       "      <th>6</th>\n",
       "      <th>7</th>\n",
       "      <th>8</th>\n",
       "      <th>9</th>\n",
       "      <th>...</th>\n",
       "      <th>39990</th>\n",
       "      <th>39991</th>\n",
       "      <th>39992</th>\n",
       "      <th>39993</th>\n",
       "      <th>39994</th>\n",
       "      <th>39995</th>\n",
       "      <th>39996</th>\n",
       "      <th>39997</th>\n",
       "      <th>39998</th>\n",
       "      <th>39999</th>\n",
       "    </tr>\n",
       "  </thead>\n",
       "  <tbody>\n",
       "    <tr>\n",
       "      <th>0</th>\n",
       "      <td>0.398611</td>\n",
       "      <td>0.386846</td>\n",
       "      <td>0.375081</td>\n",
       "      <td>0.359395</td>\n",
       "      <td>0.345390</td>\n",
       "      <td>0.341469</td>\n",
       "      <td>0.347057</td>\n",
       "      <td>0.347057</td>\n",
       "      <td>0.344817</td>\n",
       "      <td>0.360503</td>\n",
       "      <td>...</td>\n",
       "      <td>0.606749</td>\n",
       "      <td>0.614592</td>\n",
       "      <td>0.634200</td>\n",
       "      <td>0.645965</td>\n",
       "      <td>0.657729</td>\n",
       "      <td>0.661651</td>\n",
       "      <td>0.657164</td>\n",
       "      <td>0.653242</td>\n",
       "      <td>0.657164</td>\n",
       "      <td>0.657164</td>\n",
       "    </tr>\n",
       "    <tr>\n",
       "      <th>1</th>\n",
       "      <td>0.271999</td>\n",
       "      <td>0.264156</td>\n",
       "      <td>0.248470</td>\n",
       "      <td>0.240627</td>\n",
       "      <td>0.242867</td>\n",
       "      <td>0.266396</td>\n",
       "      <td>0.297203</td>\n",
       "      <td>0.324654</td>\n",
       "      <td>0.339775</td>\n",
       "      <td>0.363304</td>\n",
       "      <td>...</td>\n",
       "      <td>0.833958</td>\n",
       "      <td>0.837880</td>\n",
       "      <td>0.828065</td>\n",
       "      <td>0.824143</td>\n",
       "      <td>0.820222</td>\n",
       "      <td>0.808457</td>\n",
       "      <td>0.796692</td>\n",
       "      <td>0.784927</td>\n",
       "      <td>0.773163</td>\n",
       "      <td>0.765320</td>\n",
       "    </tr>\n",
       "    <tr>\n",
       "      <th>2</th>\n",
       "      <td>0.025426</td>\n",
       "      <td>0.037191</td>\n",
       "      <td>0.041113</td>\n",
       "      <td>0.037191</td>\n",
       "      <td>0.027376</td>\n",
       "      <td>0.039140</td>\n",
       "      <td>0.070513</td>\n",
       "      <td>0.101885</td>\n",
       "      <td>0.083111</td>\n",
       "      <td>0.083111</td>\n",
       "      <td>...</td>\n",
       "      <td>0.045965</td>\n",
       "      <td>0.045965</td>\n",
       "      <td>0.043182</td>\n",
       "      <td>0.043182</td>\n",
       "      <td>0.039260</td>\n",
       "      <td>0.035339</td>\n",
       "      <td>0.035339</td>\n",
       "      <td>0.031417</td>\n",
       "      <td>0.027496</td>\n",
       "      <td>0.027496</td>\n",
       "    </tr>\n",
       "  </tbody>\n",
       "</table>\n",
       "<p>3 rows × 40000 columns</p>\n",
       "</div>"
      ],
      "text/plain": [
       "      0         1         2         3         4         5         6      \\\n",
       "0  0.398611  0.386846  0.375081  0.359395  0.345390  0.341469  0.347057   \n",
       "1  0.271999  0.264156  0.248470  0.240627  0.242867  0.266396  0.297203   \n",
       "2  0.025426  0.037191  0.041113  0.037191  0.027376  0.039140  0.070513   \n",
       "\n",
       "      7         8         9      ...     39990     39991     39992     39993  \\\n",
       "0  0.347057  0.344817  0.360503  ...  0.606749  0.614592  0.634200  0.645965   \n",
       "1  0.324654  0.339775  0.363304  ...  0.833958  0.837880  0.828065  0.824143   \n",
       "2  0.101885  0.083111  0.083111  ...  0.045965  0.045965  0.043182  0.043182   \n",
       "\n",
       "      39994     39995     39996     39997     39998     39999  \n",
       "0  0.657729  0.661651  0.657164  0.653242  0.657164  0.657164  \n",
       "1  0.820222  0.808457  0.796692  0.784927  0.773163  0.765320  \n",
       "2  0.039260  0.035339  0.035339  0.031417  0.027496  0.027496  \n",
       "\n",
       "[3 rows x 40000 columns]"
      ]
     },
     "execution_count": 11,
     "metadata": {},
     "output_type": "execute_result"
    }
   ],
   "source": [
    "df_gray_images = pd.DataFrame(np.array(gray_images).reshape(9778, 200*200))\n",
    "df_gray_images.head(3)"
   ]
  },
  {
   "cell_type": "markdown",
   "id": "52f214ba",
   "metadata": {},
   "source": [
    "## 1. Age Classification\n",
    "### 1.1 Gradient Boosting with original feature"
   ]
  },
  {
   "cell_type": "code",
   "execution_count": 30,
   "id": "be37a4b0",
   "metadata": {},
   "outputs": [
    {
     "name": "stdout",
     "output_type": "stream",
     "text": [
      "[4, 1, 5, 1, 6]\n"
     ]
    }
   ],
   "source": [
    "X = df_gray_images\n",
    "y = df['age']\n",
    "print(list(y[0:5]))"
   ]
  },
  {
   "cell_type": "code",
   "execution_count": 31,
   "id": "614190f2",
   "metadata": {},
   "outputs": [],
   "source": [
    "X_train, X_test, y_train, y_test = train_test_split(X, y, test_size=0.3, random_state=42)"
   ]
  },
  {
   "cell_type": "code",
   "execution_count": 32,
   "id": "b902273b",
   "metadata": {},
   "outputs": [
    {
     "data": {
      "text/plain": [
       "((6844, 40000), (2934, 40000))"
      ]
     },
     "execution_count": 32,
     "metadata": {},
     "output_type": "execute_result"
    }
   ],
   "source": [
    "X_train.shape, X_test.shape"
   ]
  },
  {
   "cell_type": "code",
   "execution_count": 33,
   "id": "674a34d6",
   "metadata": {},
   "outputs": [],
   "source": [
    "gbc=GradientBoostingClassifier(n_estimators=500,learning_rate=0.05,random_state=100,max_features=5, max_depth = 3)"
   ]
  },
  {
   "cell_type": "code",
   "execution_count": 34,
   "id": "4430dac8",
   "metadata": {},
   "outputs": [
    {
     "data": {
      "text/plain": [
       "GradientBoostingClassifier(learning_rate=0.05, max_features=5, n_estimators=500,\n",
       "                           random_state=100)"
      ]
     },
     "execution_count": 34,
     "metadata": {},
     "output_type": "execute_result"
    }
   ],
   "source": [
    "gbc.fit(X_train,y_train)"
   ]
  },
  {
   "cell_type": "code",
   "execution_count": 35,
   "id": "ed43b591",
   "metadata": {},
   "outputs": [],
   "source": [
    "y_pred = gbc.predict(X_test)"
   ]
  },
  {
   "cell_type": "code",
   "execution_count": 36,
   "id": "db270cb3",
   "metadata": {},
   "outputs": [
    {
     "name": "stdout",
     "output_type": "stream",
     "text": [
      "[[434  21   2   1   1  10   2  14   0]\n",
      " [ 78  60   8   6  14  18   1  17   0]\n",
      " [ 25  19  17   2  30  31   3  19   0]\n",
      " [ 10  12   7   9  31  19   3  21   0]\n",
      " [  7   9   7   6  95 155  11  39   0]\n",
      " [  9   3   1   0  42 426  57  79   1]\n",
      " [  1   2   0   0  10 122  90 133   0]\n",
      " [  2   2   1   1  21  73  58 390   8]\n",
      " [  0   1   0   0   3   8   3  98  15]]\n"
     ]
    }
   ],
   "source": [
    "print(confusion_matrix(y_test, y_pred))"
   ]
  },
  {
   "cell_type": "code",
   "execution_count": 37,
   "id": "a08c92dc",
   "metadata": {},
   "outputs": [
    {
     "name": "stdout",
     "output_type": "stream",
     "text": [
      "GBC accuracy is 0.52\n"
     ]
    }
   ],
   "source": [
    "GBC_accuracy_score = accuracy_score(y_test, y_pred)\n",
    "print(\"GBC accuracy is %2.2f\" % GBC_accuracy_score)"
   ]
  },
  {
   "cell_type": "code",
   "execution_count": 38,
   "id": "10e8500d",
   "metadata": {},
   "outputs": [
    {
     "name": "stdout",
     "output_type": "stream",
     "text": [
      "              precision    recall  f1-score   support\n",
      "\n",
      "           1       0.77      0.89      0.83       485\n",
      "           2       0.47      0.30      0.36       202\n",
      "           3       0.40      0.12      0.18       146\n",
      "           4       0.36      0.08      0.13       112\n",
      "           5       0.38      0.29      0.33       329\n",
      "           6       0.49      0.69      0.58       618\n",
      "           7       0.39      0.25      0.31       358\n",
      "           8       0.48      0.70      0.57       556\n",
      "           9       0.62      0.12      0.20       128\n",
      "\n",
      "    accuracy                           0.52      2934\n",
      "   macro avg       0.49      0.38      0.39      2934\n",
      "weighted avg       0.51      0.52      0.49      2934\n",
      "\n"
     ]
    }
   ],
   "source": [
    "print(classification_report(y_test, y_pred))"
   ]
  },
  {
   "cell_type": "markdown",
   "id": "5efeca71",
   "metadata": {},
   "source": [
    "* Convert RGB image to gray scale image and no other feature extraction, the Gradient Boosting accuracy_socre is 0.52"
   ]
  },
  {
   "cell_type": "markdown",
   "id": "a451dac5",
   "metadata": {},
   "source": [
    "### 1.2 Gradient Boosting + PCA"
   ]
  },
  {
   "cell_type": "code",
   "execution_count": 39,
   "id": "cb4efd00",
   "metadata": {},
   "outputs": [],
   "source": [
    "from sklearn.decomposition import PCA"
   ]
  },
  {
   "cell_type": "code",
   "execution_count": 40,
   "id": "33eeb757",
   "metadata": {},
   "outputs": [],
   "source": [
    "pca = PCA(n_components = 195)\n",
    "X_train_pca = pca.fit_transform(X_train)\n",
    "X_test_pca = pca.transform(X_test)"
   ]
  },
  {
   "cell_type": "code",
   "execution_count": 41,
   "id": "a53c45b7",
   "metadata": {},
   "outputs": [],
   "source": [
    "gbc.fit(X_train_pca,y_train)\n",
    "y_pred_pca = gbc.predict(X_test_pca)"
   ]
  },
  {
   "cell_type": "code",
   "execution_count": 42,
   "id": "18ad9c26",
   "metadata": {},
   "outputs": [
    {
     "name": "stdout",
     "output_type": "stream",
     "text": [
      "[[417  23   2   0   5  18   2  18   0]\n",
      " [ 83  35   7   1  20  32   3  21   0]\n",
      " [ 17  23   9   2  27  37   7  24   0]\n",
      " [  9   8   4   5  32  25   5  24   0]\n",
      " [  6   9   2   4  88 145  20  54   1]\n",
      " [ 12   2   1   1  48 411  68  73   2]\n",
      " [  1   0   0   1   9 128  88 131   0]\n",
      " [  9   1   2   1  18  94  46 377   8]\n",
      " [  2   1   1   0   1   7   6  92  18]]\n"
     ]
    }
   ],
   "source": [
    "print(confusion_matrix(y_test, y_pred_pca))"
   ]
  },
  {
   "cell_type": "code",
   "execution_count": 43,
   "id": "56f89aaa",
   "metadata": {},
   "outputs": [
    {
     "name": "stdout",
     "output_type": "stream",
     "text": [
      "GBC accuracy is 0.49\n"
     ]
    }
   ],
   "source": [
    "GBC_accuracy_pca_score = accuracy_score(y_test, y_pred_pca)\n",
    "print(\"GBC accuracy is %2.2f\" % GBC_accuracy_pca_score)"
   ]
  },
  {
   "cell_type": "code",
   "execution_count": 44,
   "id": "d2cec205",
   "metadata": {},
   "outputs": [
    {
     "name": "stdout",
     "output_type": "stream",
     "text": [
      "              precision    recall  f1-score   support\n",
      "\n",
      "           1       0.75      0.86      0.80       485\n",
      "           2       0.34      0.17      0.23       202\n",
      "           3       0.32      0.06      0.10       146\n",
      "           4       0.33      0.04      0.08       112\n",
      "           5       0.35      0.27      0.31       329\n",
      "           6       0.46      0.67      0.54       618\n",
      "           7       0.36      0.25      0.29       358\n",
      "           8       0.46      0.68      0.55       556\n",
      "           9       0.62      0.14      0.23       128\n",
      "\n",
      "    accuracy                           0.49      2934\n",
      "   macro avg       0.44      0.35      0.35      2934\n",
      "weighted avg       0.47      0.49      0.45      2934\n",
      "\n"
     ]
    }
   ],
   "source": [
    "print(classification_report(y_test, y_pred_pca))"
   ]
  },
  {
   "cell_type": "markdown",
   "id": "c24195c2",
   "metadata": {},
   "source": [
    "* The pca didn't improve the Gradient Boosting Classifier prediction accuracy. The prediction accuracy is decrease to 0.49"
   ]
  },
  {
   "cell_type": "markdown",
   "id": "b0b95520",
   "metadata": {},
   "source": [
    "### 1.3 Gradient Boosting + Random Forest Feature importance feature selection"
   ]
  },
  {
   "cell_type": "code",
   "execution_count": 45,
   "id": "5a8a0898",
   "metadata": {},
   "outputs": [],
   "source": [
    "from sklearn.ensemble import RandomForestClassifier\n",
    "from sklearn.feature_selection import SelectFromModel"
   ]
  },
  {
   "cell_type": "code",
   "execution_count": 46,
   "id": "2f0f0a83",
   "metadata": {},
   "outputs": [
    {
     "data": {
      "text/plain": [
       "SelectFromModel(estimator=RandomForestClassifier())"
      ]
     },
     "execution_count": 46,
     "metadata": {},
     "output_type": "execute_result"
    }
   ],
   "source": [
    "selector = SelectFromModel(RandomForestClassifier(n_estimators = 100))\n",
    "selector.fit(X_train, y_train)"
   ]
  },
  {
   "cell_type": "code",
   "execution_count": 47,
   "id": "37a6f13e",
   "metadata": {},
   "outputs": [
    {
     "data": {
      "text/plain": [
       "14366"
      ]
     },
     "execution_count": 47,
     "metadata": {},
     "output_type": "execute_result"
    }
   ],
   "source": [
    "selected_feature= X_train.columns[(selector.get_support())]\n",
    "len(selected_feature)"
   ]
  },
  {
   "cell_type": "code",
   "execution_count": 48,
   "id": "f5eb1658",
   "metadata": {},
   "outputs": [
    {
     "data": {
      "text/plain": [
       "(6844, 14366)"
      ]
     },
     "execution_count": 48,
     "metadata": {},
     "output_type": "execute_result"
    }
   ],
   "source": [
    "X_train_selected = X_train.loc[:, selected_feature]\n",
    "X_train_selected.shape"
   ]
  },
  {
   "cell_type": "code",
   "execution_count": 49,
   "id": "7665d1d0",
   "metadata": {},
   "outputs": [
    {
     "data": {
      "text/plain": [
       "(2934, 14366)"
      ]
     },
     "execution_count": 49,
     "metadata": {},
     "output_type": "execute_result"
    }
   ],
   "source": [
    "X_test_selected = X_test.loc[:, selected_feature]\n",
    "X_test_selected.shape"
   ]
  },
  {
   "cell_type": "code",
   "execution_count": 50,
   "id": "e6ca83e9",
   "metadata": {},
   "outputs": [],
   "source": [
    "gbc.fit(X_train_selected,y_train)\n",
    "y_pred_selected = gbc.predict(X_test_selected)"
   ]
  },
  {
   "cell_type": "code",
   "execution_count": 51,
   "id": "6dc6d792",
   "metadata": {},
   "outputs": [
    {
     "name": "stdout",
     "output_type": "stream",
     "text": [
      "[[431  25   1   0   3   9   1  15   0]\n",
      " [ 81  59   5   5  20  20   0  12   0]\n",
      " [ 19  27  17   4  32  28   3  15   1]\n",
      " [  8  12   6   8  38  25   0  15   0]\n",
      " [  3   7   6   7 102 150  13  40   1]\n",
      " [  7   4   1   1  49 421  61  73   1]\n",
      " [  1   2   0   0   7 121 104 123   0]\n",
      " [  2   1   0   1  18  74  51 399  10]\n",
      " [  1   1   0   0   0   9   4  91  22]]\n"
     ]
    }
   ],
   "source": [
    "print(confusion_matrix(y_test, y_pred_selected))"
   ]
  },
  {
   "cell_type": "code",
   "execution_count": 52,
   "id": "3069e641",
   "metadata": {},
   "outputs": [
    {
     "name": "stdout",
     "output_type": "stream",
     "text": [
      "GBC accuracy is 0.53\n"
     ]
    }
   ],
   "source": [
    "GBC_accuracy_selected_score = accuracy_score(y_test, y_pred_selected)\n",
    "print(\"GBC accuracy is %2.2f\" % GBC_accuracy_selected_score)"
   ]
  },
  {
   "cell_type": "code",
   "execution_count": 53,
   "id": "452e5e94",
   "metadata": {},
   "outputs": [
    {
     "name": "stdout",
     "output_type": "stream",
     "text": [
      "              precision    recall  f1-score   support\n",
      "\n",
      "           1       0.78      0.89      0.83       485\n",
      "           2       0.43      0.29      0.35       202\n",
      "           3       0.47      0.12      0.19       146\n",
      "           4       0.31      0.07      0.12       112\n",
      "           5       0.38      0.31      0.34       329\n",
      "           6       0.49      0.68      0.57       618\n",
      "           7       0.44      0.29      0.35       358\n",
      "           8       0.51      0.72      0.60       556\n",
      "           9       0.63      0.17      0.27       128\n",
      "\n",
      "    accuracy                           0.53      2934\n",
      "   macro avg       0.49      0.39      0.40      2934\n",
      "weighted avg       0.52      0.53      0.50      2934\n",
      "\n"
     ]
    }
   ],
   "source": [
    "print(classification_report(y_test, y_pred_selected))"
   ]
  },
  {
   "cell_type": "markdown",
   "id": "a6a462ce",
   "metadata": {},
   "source": [
    "* Using Random forest importance for feature selection before the Gradient Boosting model. The prediction accuracy is about 0.53. It's still low."
   ]
  },
  {
   "cell_type": "markdown",
   "id": "90f49b09",
   "metadata": {},
   "source": [
    "### 1.4 Gradient Boosting + Random Forest feature selection + PCA"
   ]
  },
  {
   "cell_type": "code",
   "execution_count": 54,
   "id": "9c01ddcf",
   "metadata": {},
   "outputs": [],
   "source": [
    "X_train_selected_pca = pca.fit_transform(X_train_selected)\n",
    "X_test_selected_pca = pca.transform(X_test_selected)"
   ]
  },
  {
   "cell_type": "code",
   "execution_count": 55,
   "id": "4aed2660",
   "metadata": {},
   "outputs": [
    {
     "data": {
      "text/plain": [
       "((6844, 195), (2934, 195))"
      ]
     },
     "execution_count": 55,
     "metadata": {},
     "output_type": "execute_result"
    }
   ],
   "source": [
    "X_train_selected_pca.shape, X_test_selected_pca.shape"
   ]
  },
  {
   "cell_type": "code",
   "execution_count": 56,
   "id": "2a628617",
   "metadata": {},
   "outputs": [],
   "source": [
    "gbc.fit(X_train_selected_pca,y_train)\n",
    "y_pred_selected_pca = gbc.predict(X_test_selected_pca)"
   ]
  },
  {
   "cell_type": "code",
   "execution_count": 57,
   "id": "ced465bb",
   "metadata": {},
   "outputs": [
    {
     "name": "stdout",
     "output_type": "stream",
     "text": [
      "[[421  28   1   0   2  13   2  16   2]\n",
      " [ 88  39   2   2  12  31   2  26   0]\n",
      " [ 26  16  10   4  28  44   3  15   0]\n",
      " [  7  12   4   3  28  28   5  24   1]\n",
      " [  7   7   1   6  76 159  11  62   0]\n",
      " [ 12   2   2   0  35 430  63  74   0]\n",
      " [  3   0   1   0  10 124  93 127   0]\n",
      " [  8   4   2   0  22  88  54 370   8]\n",
      " [  2   2   0   0   6   7   3  92  16]]\n"
     ]
    }
   ],
   "source": [
    "print(confusion_matrix(y_test, y_pred_selected_pca))"
   ]
  },
  {
   "cell_type": "code",
   "execution_count": 58,
   "id": "b7fafdb4",
   "metadata": {},
   "outputs": [
    {
     "name": "stdout",
     "output_type": "stream",
     "text": [
      "GBC accuracy is 0.50\n"
     ]
    }
   ],
   "source": [
    "GBC_accuracy_selected_pca_score = accuracy_score(y_test, y_pred_selected_pca)\n",
    "print(\"GBC accuracy is %2.2f\" % GBC_accuracy_selected_pca_score)"
   ]
  },
  {
   "cell_type": "code",
   "execution_count": 59,
   "id": "baded653",
   "metadata": {},
   "outputs": [
    {
     "name": "stdout",
     "output_type": "stream",
     "text": [
      "              precision    recall  f1-score   support\n",
      "\n",
      "           1       0.73      0.87      0.80       485\n",
      "           2       0.35      0.19      0.25       202\n",
      "           3       0.43      0.07      0.12       146\n",
      "           4       0.20      0.03      0.05       112\n",
      "           5       0.35      0.23      0.28       329\n",
      "           6       0.47      0.70      0.56       618\n",
      "           7       0.39      0.26      0.31       358\n",
      "           8       0.46      0.67      0.54       556\n",
      "           9       0.59      0.12      0.21       128\n",
      "\n",
      "    accuracy                           0.50      2934\n",
      "   macro avg       0.44      0.35      0.35      2934\n",
      "weighted avg       0.47      0.50      0.46      2934\n",
      "\n"
     ]
    }
   ],
   "source": [
    "print(classification_report(y_test, y_pred_selected_pca))"
   ]
  },
  {
   "cell_type": "markdown",
   "id": "3b687b4c",
   "metadata": {},
   "source": [
    "* Gradient Boosting model with Random forest feature selection and pca, the model predication accuracy decrease to 0.50."
   ]
  },
  {
   "cell_type": "code",
   "execution_count": 60,
   "id": "1d739ee9",
   "metadata": {},
   "outputs": [],
   "source": [
    "# GB stands for Gradient Boosting\n",
    "# PCA stands for principle component Analysis\n",
    "# RFS stands for Random Forest Fature Selection\n",
    "columns = ['GB', 'GB+PCA', 'GB+RFS', 'GB+RFS+PCA'] "
   ]
  },
  {
   "cell_type": "code",
   "execution_count": 61,
   "id": "89bb8b33",
   "metadata": {},
   "outputs": [],
   "source": [
    "data = [GBC_accuracy_score, GBC_accuracy_pca_score, GBC_accuracy_selected_score, GBC_accuracy_selected_pca_score]"
   ]
  },
  {
   "cell_type": "code",
   "execution_count": 62,
   "id": "bdc8cd56",
   "metadata": {},
   "outputs": [
    {
     "name": "stdout",
     "output_type": "stream",
     "text": [
      "[[0.52351738 0.4935242  0.53271984 0.49693252]]\n"
     ]
    }
   ],
   "source": [
    "data = np.array([data])\n",
    "print (data)"
   ]
  },
  {
   "cell_type": "code",
   "execution_count": 80,
   "id": "704ed69c",
   "metadata": {},
   "outputs": [
    {
     "data": {
      "text/html": [
       "<div>\n",
       "<style scoped>\n",
       "    .dataframe tbody tr th:only-of-type {\n",
       "        vertical-align: middle;\n",
       "    }\n",
       "\n",
       "    .dataframe tbody tr th {\n",
       "        vertical-align: top;\n",
       "    }\n",
       "\n",
       "    .dataframe thead th {\n",
       "        text-align: right;\n",
       "    }\n",
       "</style>\n",
       "<table border=\"1\" class=\"dataframe\">\n",
       "  <thead>\n",
       "    <tr style=\"text-align: right;\">\n",
       "      <th></th>\n",
       "      <th>GB</th>\n",
       "      <th>GB+PCA</th>\n",
       "      <th>GB+RFS</th>\n",
       "      <th>GB+RFS+PCA</th>\n",
       "    </tr>\n",
       "  </thead>\n",
       "  <tbody>\n",
       "    <tr>\n",
       "      <th>0</th>\n",
       "      <td>0.523517</td>\n",
       "      <td>0.493524</td>\n",
       "      <td>0.53272</td>\n",
       "      <td>0.496933</td>\n",
       "    </tr>\n",
       "  </tbody>\n",
       "</table>\n",
       "</div>"
      ],
      "text/plain": [
       "         GB    GB+PCA   GB+RFS  GB+RFS+PCA\n",
       "0  0.523517  0.493524  0.53272    0.496933"
      ]
     },
     "execution_count": 80,
     "metadata": {},
     "output_type": "execute_result"
    }
   ],
   "source": [
    "df = pd.DataFrame(data, columns=columns)\n",
    "df"
   ]
  },
  {
   "cell_type": "code",
   "execution_count": 64,
   "id": "d1d5988c",
   "metadata": {},
   "outputs": [],
   "source": [
    "data1 = {'GB':GBC_accuracy_score, 'GB+PCA':GBC_accuracy_pca_score, 'GB+RFS':GBC_accuracy_selected_score, 'GB+RFS+PCA':GBC_accuracy_selected_score  \n",
    "}"
   ]
  },
  {
   "cell_type": "code",
   "execution_count": 65,
   "id": "d9881893",
   "metadata": {},
   "outputs": [],
   "source": [
    "values = list(data1.values())\n",
    "names = list(data1.keys())"
   ]
  },
  {
   "cell_type": "code",
   "execution_count": 67,
   "id": "f63f6e9e",
   "metadata": {},
   "outputs": [
    {
     "data": {
      "image/png": "[encoded data removed]",
      "text/plain": [
       "<Figure size 720x360 with 1 Axes>"
      ]
     },
     "metadata": {
      "needs_background": "light"
     },
     "output_type": "display_data"
    }
   ],
   "source": [
    "fig = plt.figure(figsize = (10, 5))\n",
    "plt.bar(names, values, color = 'magenta', width=0.4)\n",
    "plt.xlabel(\"Model\")\n",
    "plt.ylabel('Accuracy')\n",
    "plt.title(\"Histogram for age prediction accuracy\")\n",
    "plt.show()"
   ]
  },
  {
   "cell_type": "code",
   "execution_count": null,
   "id": "6632e3d3-368b-4267-be36-f39114e78e0a",
   "metadata": {},
   "outputs": [],
   "source": []
  },
  {
   "cell_type": "code",
   "execution_count": null,
   "id": "676f1f0c-fa4e-4069-a77b-2f0af96c5886",
   "metadata": {},
   "outputs": [],
   "source": []
  },
  {
   "cell_type": "code",
   "execution_count": null,
   "id": "5ac8ab59-3434-4173-a94f-ea88cde09cf1",
   "metadata": {},
   "outputs": [],
   "source": []
  },
  {
   "cell_type": "code",
   "execution_count": null,
   "id": "8c488768-3e4d-4780-8d65-17e1e991d39c",
   "metadata": {},
   "outputs": [],
   "source": []
  },
  {
   "cell_type": "markdown",
   "id": "3a261e49",
   "metadata": {},
   "source": [
    "* As we can see this bar graph, those accuracy are similar and low."
   ]
  },
  {
   "cell_type": "code",
   "execution_count": null,
   "id": "fa861a01",
   "metadata": {},
   "outputs": [],
   "source": []
  }
 ],
 "metadata": {
  "kernelspec": {
   "display_name": "Python 3 (ipykernel)",
   "language": "python",
   "name": "python3"
  },
  "language_info": {
   "codemirror_mode": {
    "name": "ipython",
    "version": 3
   },
   "file_extension": ".py",
   "mimetype": "text/x-python",
   "name": "python",
   "nbconvert_exporter": "python",
   "pygments_lexer": "ipython3",
   "version": "3.9.7"
  }
 },
 "nbformat": 4,
 "nbformat_minor": 5
}
