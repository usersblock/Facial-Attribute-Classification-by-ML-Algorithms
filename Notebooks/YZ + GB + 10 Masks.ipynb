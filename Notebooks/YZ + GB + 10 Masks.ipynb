{
 "cells": [
  {
   "cell_type": "code",
   "execution_count": 1,
   "id": "90caf617",
   "metadata": {},
   "outputs": [],
   "source": [
    "import pandas as pd\n",
    "import numpy as np\n",
    "from os import listdir\n",
    "from os.path import isfile, join\n",
    "import matplotlib.pyplot as plt\n",
    "import os\n",
    "from skimage.color.adapt_rgb import adapt_rgb, each_channel, hsv_value\n",
    "from skimage import filters\n",
    "from skimage.exposure import rescale_intensity\n",
    "from skimage.data import camera\n",
    "from skimage.util import compare_images\n",
    "from skimage import exposure\n",
    "from skimage import data, img_as_float\n",
    "from skimage import exposure"
   ]
  },
  {
   "cell_type": "code",
   "execution_count": 2,
   "id": "638ded70",
   "metadata": {},
   "outputs": [],
   "source": [
    "from sklearn.ensemble import GradientBoostingClassifier\n",
    "from sklearn.preprocessing import StandardScaler\n",
    "from sklearn.model_selection import train_test_split\n",
    "from sklearn.metrics import accuracy_score, confusion_matrix\n",
    "from sklearn import preprocessing\n",
    "from sklearn.metrics import classification_report"
   ]
  },
  {
   "cell_type": "code",
   "execution_count": 3,
   "id": "136aaa58",
   "metadata": {},
   "outputs": [
    {
     "ename": "FileNotFoundError",
     "evalue": "[Errno 2] No such file or directory: '/Users/yinzi/Downloads/crop_part1'",
     "output_type": "error",
     "traceback": [
      "\u001b[0;31m---------------------------------------------------------------------------\u001b[0m",
      "\u001b[0;31mFileNotFoundError\u001b[0m                         Traceback (most recent call last)",
      "\u001b[0;32m/var/folders/r3/vzlhhp9d0vn9p26r12vvnhgw0000gn/T/ipykernel_2722/2259332076.py\u001b[0m in \u001b[0;36m<module>\u001b[0;34m\u001b[0m\n\u001b[1;32m      1\u001b[0m \u001b[0mmypath\u001b[0m \u001b[0;34m=\u001b[0m \u001b[0;34m'/Users/yinzi/Downloads/crop_part1'\u001b[0m\u001b[0;34m\u001b[0m\u001b[0;34m\u001b[0m\u001b[0m\n\u001b[0;32m----> 2\u001b[0;31m \u001b[0mfilenames\u001b[0m \u001b[0;34m=\u001b[0m \u001b[0mnp\u001b[0m\u001b[0;34m.\u001b[0m\u001b[0marray\u001b[0m\u001b[0;34m(\u001b[0m\u001b[0;34m[\u001b[0m\u001b[0mf\u001b[0m \u001b[0;32mfor\u001b[0m \u001b[0mf\u001b[0m \u001b[0;32min\u001b[0m \u001b[0mlistdir\u001b[0m\u001b[0;34m(\u001b[0m\u001b[0mmypath\u001b[0m\u001b[0;34m)\u001b[0m \u001b[0;32mif\u001b[0m \u001b[0misfile\u001b[0m\u001b[0;34m(\u001b[0m\u001b[0mjoin\u001b[0m\u001b[0;34m(\u001b[0m\u001b[0mmypath\u001b[0m\u001b[0;34m,\u001b[0m \u001b[0mf\u001b[0m\u001b[0;34m)\u001b[0m\u001b[0;34m)\u001b[0m\u001b[0;34m]\u001b[0m\u001b[0;34m)\u001b[0m\u001b[0;34m\u001b[0m\u001b[0;34m\u001b[0m\u001b[0m\n\u001b[0m\u001b[1;32m      3\u001b[0m \u001b[0msplitcolumns\u001b[0m \u001b[0;34m=\u001b[0m \u001b[0;34m[\u001b[0m\u001b[0mx\u001b[0m\u001b[0;34m.\u001b[0m\u001b[0msplit\u001b[0m\u001b[0;34m(\u001b[0m\u001b[0;34m'_'\u001b[0m\u001b[0;34m)\u001b[0m\u001b[0;34m[\u001b[0m\u001b[0;36m0\u001b[0m\u001b[0;34m:\u001b[0m\u001b[0;36m3\u001b[0m\u001b[0;34m]\u001b[0m \u001b[0;34m+\u001b[0m \u001b[0;34m[\u001b[0m\u001b[0mmypath\u001b[0m \u001b[0;34m+\u001b[0m\u001b[0;34m'/'\u001b[0m \u001b[0;34m+\u001b[0m \u001b[0mx\u001b[0m\u001b[0;34m]\u001b[0m \u001b[0;32mfor\u001b[0m \u001b[0mx\u001b[0m \u001b[0;32min\u001b[0m \u001b[0mfilenames\u001b[0m \u001b[0;32mif\u001b[0m \u001b[0mx\u001b[0m\u001b[0;34m.\u001b[0m\u001b[0mcount\u001b[0m\u001b[0;34m(\u001b[0m\u001b[0;34m'_'\u001b[0m\u001b[0;34m)\u001b[0m \u001b[0;34m==\u001b[0m \u001b[0;36m3\u001b[0m\u001b[0;34m]\u001b[0m\u001b[0;34m\u001b[0m\u001b[0;34m\u001b[0m\u001b[0m\n\u001b[1;32m      4\u001b[0m \u001b[0mfilecolumns\u001b[0m \u001b[0;34m=\u001b[0m \u001b[0;34m[\u001b[0m\u001b[0;34m'age'\u001b[0m\u001b[0;34m,\u001b[0m\u001b[0;34m'gender'\u001b[0m\u001b[0;34m,\u001b[0m\u001b[0;34m'race'\u001b[0m\u001b[0;34m,\u001b[0m\u001b[0;34m'file'\u001b[0m\u001b[0;34m]\u001b[0m\u001b[0;34m\u001b[0m\u001b[0;34m\u001b[0m\u001b[0m\n\u001b[1;32m      5\u001b[0m \u001b[0mdf\u001b[0m \u001b[0;34m=\u001b[0m \u001b[0mpd\u001b[0m\u001b[0;34m.\u001b[0m\u001b[0mDataFrame\u001b[0m\u001b[0;34m(\u001b[0m\u001b[0mdata\u001b[0m \u001b[0;34m=\u001b[0m \u001b[0msplitcolumns\u001b[0m\u001b[0;34m,\u001b[0m \u001b[0mcolumns\u001b[0m \u001b[0;34m=\u001b[0m \u001b[0mfilecolumns\u001b[0m\u001b[0;34m)\u001b[0m\u001b[0;34m\u001b[0m\u001b[0;34m\u001b[0m\u001b[0m\n",
      "\u001b[0;31mFileNotFoundError\u001b[0m: [Errno 2] No such file or directory: '/Users/yinzi/Downloads/crop_part1'"
     ]
    }
   ],
   "source": [
    "mypath = '/Users/yinzi/Downloads/crop_part1'\n",
    "filenames = np.array([f for f in listdir(mypath) if isfile(join(mypath, f))])\n",
    "splitcolumns = [x.split('_')[0:3] + [mypath +'/' + x] for x in filenames if x.count('_') == 3]\n",
    "filecolumns = ['age','gender','race','file']\n",
    "df = pd.DataFrame(data = splitcolumns, columns = filecolumns)"
   ]
  },
  {
   "cell_type": "code",
   "execution_count": 4,
   "id": "96c8e15a",
   "metadata": {},
   "outputs": [
    {
     "data": {
      "text/html": [
       "<div>\n",
       "<style scoped>\n",
       "    .dataframe tbody tr th:only-of-type {\n",
       "        vertical-align: middle;\n",
       "    }\n",
       "\n",
       "    .dataframe tbody tr th {\n",
       "        vertical-align: top;\n",
       "    }\n",
       "\n",
       "    .dataframe thead th {\n",
       "        text-align: right;\n",
       "    }\n",
       "</style>\n",
       "<table border=\"1\" class=\"dataframe\">\n",
       "  <thead>\n",
       "    <tr style=\"text-align: right;\">\n",
       "      <th></th>\n",
       "      <th>age</th>\n",
       "      <th>gender</th>\n",
       "      <th>race</th>\n",
       "      <th>file</th>\n",
       "    </tr>\n",
       "  </thead>\n",
       "  <tbody>\n",
       "    <tr>\n",
       "      <th>0</th>\n",
       "      <td>9</td>\n",
       "      <td>1</td>\n",
       "      <td>2</td>\n",
       "      <td>/Users/yinzi/Downloads/crop_part1/9_1_2_201612...</td>\n",
       "    </tr>\n",
       "    <tr>\n",
       "      <th>1</th>\n",
       "      <td>1</td>\n",
       "      <td>1</td>\n",
       "      <td>2</td>\n",
       "      <td>/Users/yinzi/Downloads/crop_part1/1_1_2_201612...</td>\n",
       "    </tr>\n",
       "    <tr>\n",
       "      <th>2</th>\n",
       "      <td>16</td>\n",
       "      <td>0</td>\n",
       "      <td>0</td>\n",
       "      <td>/Users/yinzi/Downloads/crop_part1/16_0_0_20170...</td>\n",
       "    </tr>\n",
       "  </tbody>\n",
       "</table>\n",
       "</div>"
      ],
      "text/plain": [
       "  age gender race                                               file\n",
       "0   9      1    2  /Users/yinzi/Downloads/crop_part1/9_1_2_201612...\n",
       "1   1      1    2  /Users/yinzi/Downloads/crop_part1/1_1_2_201612...\n",
       "2  16      0    0  /Users/yinzi/Downloads/crop_part1/16_0_0_20170..."
      ]
     },
     "execution_count": 4,
     "metadata": {},
     "output_type": "execute_result"
    }
   ],
   "source": [
    "df.head(3)"
   ]
  },
  {
   "cell_type": "code",
   "execution_count": 5,
   "id": "b8a0ec0f",
   "metadata": {},
   "outputs": [],
   "source": [
    "df['age']= df['age'].astype('int')\n",
    "df['gender']= df['gender'].astype('int')\n",
    "df['race']= df['race'].astype('int')"
   ]
  },
  {
   "cell_type": "code",
   "execution_count": 6,
   "id": "273eb8a4",
   "metadata": {},
   "outputs": [],
   "source": [
    "# put the age in different interval\n",
    "df['age']=np.where(((df.age>=1) & (df.age<=2)), 0, df.age)\n",
    "df['age']=np.where(((df.age>=3) & (df.age<6)), 1, df.age)\n",
    "df['age']=np.where(((df.age>=6) & (df.age<9)), 2, df.age)\n",
    "df['age']=np.where(((df.age>=9) & (df.age<12)), 3, df.age)\n",
    "df['age']=np.where(((df.age>=12) & (df.age<21)), 4, df.age)\n",
    "df['age']=np.where(((df.age>=21) & (df.age<36)), 5, df.age)\n",
    "df['age']=np.where(((df.age>=36) & (df.age<51)), 6, df.age)\n",
    "df['age']=np.where(((df.age>=51) & (df.age<80)), 7, df.age)\n",
    "df['age']=np.where((df.age>=80), 8, df.age)"
   ]
  },
  {
   "cell_type": "code",
   "execution_count": 7,
   "id": "d9ec87ee",
   "metadata": {},
   "outputs": [
    {
     "data": {
      "text/plain": [
       "array([4, 1, 5, 6, 8, 7, 9, 2, 3])"
      ]
     },
     "execution_count": 7,
     "metadata": {},
     "output_type": "execute_result"
    }
   ],
   "source": [
    "df['age'].unique()"
   ]
  },
  {
   "cell_type": "code",
   "execution_count": 8,
   "id": "082efaa2",
   "metadata": {},
   "outputs": [],
   "source": [
    "y1 = df['gender']\n",
    "y2 = df['race']\n",
    "y3 = df['age']"
   ]
  },
  {
   "cell_type": "code",
   "execution_count": 9,
   "id": "fe04fd2a",
   "metadata": {},
   "outputs": [],
   "source": [
    "images = []\n",
    "for img_path in df['file']:\n",
    "    image = plt.imread(img_path)\n",
    "    images.append(image)"
   ]
  },
  {
   "cell_type": "code",
   "execution_count": 10,
   "id": "7a8d2d53",
   "metadata": {},
   "outputs": [],
   "source": [
    "imagesArray = np.array(images)"
   ]
  },
  {
   "cell_type": "code",
   "execution_count": 11,
   "id": "efac1e43",
   "metadata": {},
   "outputs": [],
   "source": [
    "gbc=GradientBoostingClassifier(n_estimators=500,learning_rate=0.05,random_state=100,max_features=5, max_depth = 3)"
   ]
  },
  {
   "cell_type": "code",
   "execution_count": 12,
   "id": "2daa1619",
   "metadata": {},
   "outputs": [],
   "source": [
    "def sobel_each(image):\n",
    "    return filters.sobel(image)"
   ]
  },
  {
   "cell_type": "code",
   "execution_count": 13,
   "id": "f30ff639",
   "metadata": {},
   "outputs": [],
   "source": [
    "def sobel_hsv(image):\n",
    "    return filters.sobel(image)"
   ]
  },
  {
   "cell_type": "code",
   "execution_count": 14,
   "id": "294336c2",
   "metadata": {},
   "outputs": [],
   "source": [
    "# mask 1 & mask 2\n",
    "def sobelFilterTypes(imagesArray):\n",
    "    \"\"\"\n",
    "    This function takes as input an array of pictures and returns two arrays. The first array has the \n",
    "    Sobel filter apply to each picture channel and the second one is applied on the image's hsv. The images are in color\n",
    "    \"\"\"\n",
    "    #filter apply to pictures channel\n",
    "    filterChannel = []\n",
    "    #filter apply to hue, saturation, value\n",
    "    filterHSV = []\n",
    "    for image in imagesArray:\n",
    "        image1 = rescale_intensity(1 - sobel_each(image))\n",
    "        image2 = rescale_intensity(1 - sobel_hsv(image))\n",
    "        filterChannel.append(image1)\n",
    "        filterHSV.append(image2)\n",
    "    return np.array(filterChannel), np.array(filterHSV)"
   ]
  },
  {
   "cell_type": "code",
   "execution_count": 15,
   "id": "ebb2c9d2",
   "metadata": {},
   "outputs": [],
   "source": [
    "# mask 3 & mask 4\n",
    "def robertsSobelEdges(imagesArray):\n",
    "    from skimage import color\n",
    "    \"\"\"\n",
    "    returns two numpy arrays with pictures in black and white and with the edges define using Roberts filter\n",
    "    on the first one and the Sobel filter on the second one. The images are in black and white\n",
    "    \"\"\"\n",
    "    roberts_ = []\n",
    "    sobel_ = []\n",
    "    for image in imagesArray:\n",
    "        grayImg = color.rgb2gray(image)\n",
    "        edge_roberts = filters.roberts(grayImg)\n",
    "        edge_sobel = filters.sobel(grayImg)\n",
    "        roberts_.append(edge_roberts)\n",
    "        sobel_.append(edge_sobel)\n",
    "    return np.array(roberts_), np.array(sobel_)"
   ]
  },
  {
   "cell_type": "code",
   "execution_count": 16,
   "id": "d09289e1",
   "metadata": {},
   "outputs": [],
   "source": [
    "# mask 5\n",
    "def exposure_(imagesArray):\n",
    "    from skimage import exposure\n",
    "    \"\"\"\n",
    "    This fucntion increases the exposure of each picture and it returns a numpy\n",
    "    array of the modified images. The images are in color\n",
    "    \"\"\"\n",
    "    exp = []\n",
    "    for image in imagesArray:\n",
    "        image_eq = exposure.equalize_hist(image)\n",
    "        exp.append(image_eq)\n",
    "    return np.array(exp)"
   ]
  },
  {
   "cell_type": "code",
   "execution_count": 17,
   "id": "34758c53",
   "metadata": {},
   "outputs": [],
   "source": [
    "# mask 6\n",
    "def gammaLogaritmictCorrection(imagesArray):\n",
    "    \"\"\"\n",
    "    histogram equalizer \n",
    "    \"\"\"\n",
    "    gamm = []\n",
    "    log = []\n",
    "    for image in imagesArray:\n",
    "        gamma_corrected = exposure.adjust_gamma(image, 2)\n",
    "        logarithmic_corrected = exposure.adjust_log(image, 1)\n",
    "        gamm.append(gamma_corrected)\n",
    "        log.append(logarithmic_corrected)\n",
    "    return np.array(gamm), np.array(log)"
   ]
  },
  {
   "cell_type": "code",
   "execution_count": 18,
   "id": "5d2f5b6e",
   "metadata": {},
   "outputs": [],
   "source": [
    "# mask 7\n",
    "def histogramEqualizer(imagesArray):\n",
    "    \"\"\"\n",
    "    returns 3 numpy arrays one is with rescale, equalize histogram, adapthis\n",
    "    \n",
    "    \"\"\"\n",
    "    \n",
    "    \n",
    "    \n",
    "    intensity = []\n",
    "    hist = []\n",
    "    adapthist = []\n",
    "    for image in imagesArray:\n",
    "        p2, p98 = np.percentile(image, (2, 98))\n",
    "        \n",
    "        img_rescale = exposure.rescale_intensity(image, in_range=(p2, p98))\n",
    "\n",
    "        # Equalization\n",
    "        img_eq = exposure.equalize_hist(image)\n",
    "\n",
    "        # Adaptive Equalization\n",
    "        img_adapteq = exposure.equalize_adapthist(image, clip_limit=0.03)\n",
    "        \n",
    "        intensity.append(img_rescale)\n",
    "        hist.append(img_eq)\n",
    "        adapthist.append(img_adapteq)\n",
    "        \n",
    "    return np.array(intensity), np.array(hist), np.array(adapthist)"
   ]
  },
  {
   "cell_type": "markdown",
   "id": "2c0d0646",
   "metadata": {},
   "source": [
    "### 1.1 Mask:  sobel Filter Channel\n",
    "### 1.1.1 Mask Sobel1 --- Label: gender"
   ]
  },
  {
   "cell_type": "code",
   "execution_count": 19,
   "id": "1e0547d2",
   "metadata": {},
   "outputs": [],
   "source": [
    "Sobel = list(sobelFilterTypes(imagesArray))\n",
    "Sobel1 = Sobel[0]\n",
    "Sobel2 = Sobel[1]"
   ]
  },
  {
   "cell_type": "code",
   "execution_count": 21,
   "id": "64830cd1",
   "metadata": {},
   "outputs": [
    {
     "data": {
      "text/plain": [
       "(9778, 200, 200, 3)"
      ]
     },
     "execution_count": 21,
     "metadata": {},
     "output_type": "execute_result"
    }
   ],
   "source": [
    "Sobel1.shape"
   ]
  },
  {
   "cell_type": "code",
   "execution_count": 20,
   "id": "3d3f154b",
   "metadata": {},
   "outputs": [],
   "source": [
    "nsamples, nx, ny, n = Sobel1.shape\n",
    "Sobel1_2d = Sobel1.reshape((nsamples,nx*ny*n))"
   ]
  },
  {
   "cell_type": "code",
   "execution_count": 21,
   "id": "098ac57a",
   "metadata": {},
   "outputs": [],
   "source": [
    "X_Sobel_train, X_Sobel_test, y_Sobel_train, y_Sobel_test = train_test_split(Sobel1_2d, y1, test_size=0.3, random_state=42)"
   ]
  },
  {
   "cell_type": "code",
   "execution_count": 22,
   "id": "c6299a82",
   "metadata": {},
   "outputs": [
    {
     "data": {
      "text/plain": [
       "GradientBoostingClassifier(learning_rate=0.05, max_features=5, n_estimators=500,\n",
       "                           random_state=100)"
      ]
     },
     "execution_count": 22,
     "metadata": {},
     "output_type": "execute_result"
    }
   ],
   "source": [
    "gbc.fit(X_Sobel_train,y_Sobel_train)"
   ]
  },
  {
   "cell_type": "code",
   "execution_count": 23,
   "id": "0876fbe8",
   "metadata": {},
   "outputs": [],
   "source": [
    "y_Sobel_pred = gbc.predict(X_Sobel_test)"
   ]
  },
  {
   "cell_type": "code",
   "execution_count": 24,
   "id": "8c371732",
   "metadata": {},
   "outputs": [
    {
     "name": "stdout",
     "output_type": "stream",
     "text": [
      "[[ 830  455]\n",
      " [ 313 1336]]\n"
     ]
    }
   ],
   "source": [
    "print(confusion_matrix(y_Sobel_test, y_Sobel_pred))"
   ]
  },
  {
   "cell_type": "code",
   "execution_count": 25,
   "id": "9a2f32ab",
   "metadata": {},
   "outputs": [
    {
     "name": "stdout",
     "output_type": "stream",
     "text": [
      "GBC accuracy is 0.74\n"
     ]
    }
   ],
   "source": [
    "GBC_accuracy_score = accuracy_score(y_Sobel_test, y_Sobel_pred)\n",
    "print(\"GBC accuracy is %2.2f\" % GBC_accuracy_score)"
   ]
  },
  {
   "cell_type": "code",
   "execution_count": 26,
   "id": "45d7e239",
   "metadata": {},
   "outputs": [
    {
     "name": "stdout",
     "output_type": "stream",
     "text": [
      "              precision    recall  f1-score   support\n",
      "\n",
      "           0       0.73      0.65      0.68      1285\n",
      "           1       0.75      0.81      0.78      1649\n",
      "\n",
      "    accuracy                           0.74      2934\n",
      "   macro avg       0.74      0.73      0.73      2934\n",
      "weighted avg       0.74      0.74      0.74      2934\n",
      "\n"
     ]
    }
   ],
   "source": [
    "print(classification_report(y_Sobel_test, y_Sobel_pred))"
   ]
  },
  {
   "cell_type": "markdown",
   "id": "866573cc",
   "metadata": {},
   "source": [
    "### 1.1.2 Mask Sobel1 --- Label race"
   ]
  },
  {
   "cell_type": "code",
   "execution_count": 27,
   "id": "20b13bcf",
   "metadata": {},
   "outputs": [],
   "source": [
    "X_Sobel_train, X_Sobel_test, y_Sobel_train, y_Sobel_test = train_test_split(Sobel1_2d, y2, test_size=0.3, random_state=42)"
   ]
  },
  {
   "cell_type": "code",
   "execution_count": 28,
   "id": "afc18909",
   "metadata": {},
   "outputs": [
    {
     "data": {
      "text/plain": [
       "GradientBoostingClassifier(learning_rate=0.05, max_features=5, n_estimators=500,\n",
       "                           random_state=100)"
      ]
     },
     "execution_count": 28,
     "metadata": {},
     "output_type": "execute_result"
    }
   ],
   "source": [
    "gbc.fit(X_Sobel_train,y_Sobel_train)"
   ]
  },
  {
   "cell_type": "code",
   "execution_count": 29,
   "id": "dc3797bf",
   "metadata": {},
   "outputs": [],
   "source": [
    "y_race_Sobel_pred = gbc.predict(X_Sobel_test)"
   ]
  },
  {
   "cell_type": "code",
   "execution_count": 30,
   "id": "a408a1f2",
   "metadata": {},
   "outputs": [
    {
     "name": "stdout",
     "output_type": "stream",
     "text": [
      "[[1476    4   41   46   11]\n",
      " [  72   13    5   25    4]\n",
      " [ 283    0  140   27    7]\n",
      " [ 203    3   18  197   24]\n",
      " [ 231    1   19   50   34]]\n"
     ]
    }
   ],
   "source": [
    "print(confusion_matrix(y_Sobel_test, y_race_Sobel_pred))"
   ]
  },
  {
   "cell_type": "code",
   "execution_count": 31,
   "id": "71e3187f",
   "metadata": {},
   "outputs": [
    {
     "name": "stdout",
     "output_type": "stream",
     "text": [
      "GBC accuracy is 0.63\n"
     ]
    }
   ],
   "source": [
    "GBC_accuracy_score = accuracy_score(y_Sobel_test, y_race_Sobel_pred)\n",
    "print(\"GBC accuracy is %2.2f\" % GBC_accuracy_score)"
   ]
  },
  {
   "cell_type": "code",
   "execution_count": 32,
   "id": "fde12800",
   "metadata": {},
   "outputs": [
    {
     "name": "stdout",
     "output_type": "stream",
     "text": [
      "              precision    recall  f1-score   support\n",
      "\n",
      "           0       0.65      0.94      0.77      1578\n",
      "           1       0.62      0.11      0.19       119\n",
      "           2       0.63      0.31      0.41       457\n",
      "           3       0.57      0.44      0.50       445\n",
      "           4       0.42      0.10      0.16       335\n",
      "\n",
      "    accuracy                           0.63      2934\n",
      "   macro avg       0.58      0.38      0.41      2934\n",
      "weighted avg       0.61      0.63      0.58      2934\n",
      "\n"
     ]
    }
   ],
   "source": [
    "print(classification_report(y_Sobel_test, y_race_Sobel_pred))"
   ]
  },
  {
   "cell_type": "markdown",
   "id": "b85d1683",
   "metadata": {},
   "source": [
    "### 1.1.3 Mask Sobel 1 --- Label age"
   ]
  },
  {
   "cell_type": "code",
   "execution_count": 33,
   "id": "dbccb17b",
   "metadata": {},
   "outputs": [],
   "source": [
    "X_Sobel_train, X_Sobel_test, y_Sobel_train, y_Sobel_test = train_test_split(Sobel1_2d, y3, test_size=0.3, random_state=42)"
   ]
  },
  {
   "cell_type": "code",
   "execution_count": 34,
   "id": "283617c4",
   "metadata": {},
   "outputs": [
    {
     "data": {
      "text/plain": [
       "GradientBoostingClassifier(learning_rate=0.05, max_features=5, n_estimators=500,\n",
       "                           random_state=100)"
      ]
     },
     "execution_count": 34,
     "metadata": {},
     "output_type": "execute_result"
    }
   ],
   "source": [
    "gbc.fit(X_Sobel_train,y_Sobel_train)"
   ]
  },
  {
   "cell_type": "code",
   "execution_count": 36,
   "id": "256a91cc",
   "metadata": {},
   "outputs": [],
   "source": [
    "y_age_Sobel_pred = gbc.predict(X_Sobel_test)"
   ]
  },
  {
   "cell_type": "code",
   "execution_count": 37,
   "id": "ca3bef7e",
   "metadata": {},
   "outputs": [
    {
     "name": "stdout",
     "output_type": "stream",
     "text": [
      "[[425  12   0   0   8  21   3  15   1]\n",
      " [108  22   2   0   8  36   4  20   2]\n",
      " [ 30  13  11   1  25  45   2  19   0]\n",
      " [ 12   6   9   4  36  23   1  21   0]\n",
      " [ 14   8   3   5  95 137  11  55   1]\n",
      " [ 15   3   5   2  46 391  56  99   1]\n",
      " [  6   2   1   0  16  97  64 171   1]\n",
      " [ 18   2   2   1  18 102  35 376   2]\n",
      " [  2   0   1   0   0  20   2  95   8]]\n"
     ]
    }
   ],
   "source": [
    "print(confusion_matrix(y_Sobel_test, y_age_Sobel_pred))"
   ]
  },
  {
   "cell_type": "code",
   "execution_count": 38,
   "id": "12f8764a",
   "metadata": {},
   "outputs": [
    {
     "name": "stdout",
     "output_type": "stream",
     "text": [
      "GBC accuracy is 0.48\n"
     ]
    }
   ],
   "source": [
    "GBC_accuracy_score = accuracy_score(y_Sobel_test, y_age_Sobel_pred)\n",
    "print(\"GBC accuracy is %2.2f\" % GBC_accuracy_score)"
   ]
  },
  {
   "cell_type": "code",
   "execution_count": 39,
   "id": "4bcd1cf7",
   "metadata": {},
   "outputs": [
    {
     "name": "stdout",
     "output_type": "stream",
     "text": [
      "              precision    recall  f1-score   support\n",
      "\n",
      "           1       0.67      0.88      0.76       485\n",
      "           2       0.32      0.11      0.16       202\n",
      "           3       0.32      0.08      0.12       146\n",
      "           4       0.31      0.04      0.06       112\n",
      "           5       0.38      0.29      0.33       329\n",
      "           6       0.45      0.63      0.52       618\n",
      "           7       0.36      0.18      0.24       358\n",
      "           8       0.43      0.68      0.53       556\n",
      "           9       0.50      0.06      0.11       128\n",
      "\n",
      "    accuracy                           0.48      2934\n",
      "   macro avg       0.42      0.33      0.32      2934\n",
      "weighted avg       0.45      0.48      0.43      2934\n",
      "\n"
     ]
    }
   ],
   "source": [
    "print(classification_report(y_Sobel_test, y_age_Sobel_pred))"
   ]
  },
  {
   "cell_type": "markdown",
   "id": "de0a5d6e",
   "metadata": {},
   "source": [
    "### 1.2 mask: Filter HSV\n",
    "### 1.2.1 mask: Filter HSV -- label gender"
   ]
  },
  {
   "cell_type": "code",
   "execution_count": 40,
   "id": "5f3cab56",
   "metadata": {},
   "outputs": [],
   "source": [
    "nsamples, nx, ny, n = Sobel2.shape\n",
    "Sobel2_2d = Sobel2.reshape((nsamples,nx*ny*n))"
   ]
  },
  {
   "cell_type": "code",
   "execution_count": 34,
   "id": "23209d8a",
   "metadata": {},
   "outputs": [],
   "source": [
    "X_Sobel2_train, X_Sobel2_test, y_Sobel2_train, y_Sobel2_test = train_test_split(Sobel2_2d, y1, test_size=0.3, random_state=42)"
   ]
  },
  {
   "cell_type": "code",
   "execution_count": 35,
   "id": "88b6c6f7",
   "metadata": {},
   "outputs": [
    {
     "data": {
      "text/plain": [
       "GradientBoostingClassifier(learning_rate=0.05, max_features=5, n_estimators=500,\n",
       "                           random_state=100)"
      ]
     },
     "execution_count": 35,
     "metadata": {},
     "output_type": "execute_result"
    }
   ],
   "source": [
    "gbc.fit(X_Sobel2_train,y_Sobel2_train)"
   ]
  },
  {
   "cell_type": "code",
   "execution_count": 36,
   "id": "92ca7df6",
   "metadata": {},
   "outputs": [],
   "source": [
    "y_Sobel2_pred = gbc.predict(X_Sobel2_test)"
   ]
  },
  {
   "cell_type": "code",
   "execution_count": 37,
   "id": "3812c008",
   "metadata": {},
   "outputs": [
    {
     "name": "stdout",
     "output_type": "stream",
     "text": [
      "[[ 830  455]\n",
      " [ 313 1336]]\n"
     ]
    }
   ],
   "source": [
    "print(confusion_matrix(y_Sobel2_test, y_Sobel2_pred))"
   ]
  },
  {
   "cell_type": "code",
   "execution_count": 38,
   "id": "aaace11c",
   "metadata": {},
   "outputs": [
    {
     "name": "stdout",
     "output_type": "stream",
     "text": [
      "GBC accuracy is 0.74\n"
     ]
    }
   ],
   "source": [
    "GBC_accuracy_score = accuracy_score(y_Sobel2_test, y_Sobel2_pred)\n",
    "print(\"GBC accuracy is %2.2f\" % GBC_accuracy_score)"
   ]
  },
  {
   "cell_type": "code",
   "execution_count": 39,
   "id": "a69cd9d7",
   "metadata": {},
   "outputs": [
    {
     "name": "stdout",
     "output_type": "stream",
     "text": [
      "              precision    recall  f1-score   support\n",
      "\n",
      "           0       0.73      0.65      0.68      1285\n",
      "           1       0.75      0.81      0.78      1649\n",
      "\n",
      "    accuracy                           0.74      2934\n",
      "   macro avg       0.74      0.73      0.73      2934\n",
      "weighted avg       0.74      0.74      0.74      2934\n",
      "\n"
     ]
    }
   ],
   "source": [
    "print(classification_report(y_Sobel2_test, y_Sobel2_pred))"
   ]
  },
  {
   "cell_type": "markdown",
   "id": "1e4c459d",
   "metadata": {},
   "source": [
    "### 1.2.2 mask: filter hsv -- label race"
   ]
  },
  {
   "cell_type": "code",
   "execution_count": 41,
   "id": "59903f33",
   "metadata": {},
   "outputs": [],
   "source": [
    "X_Sobel2_train, X_Sobel2_test, y_Sobel2_train, y_Sobel2_test = train_test_split(Sobel2_2d, y2, test_size=0.3, random_state=42)"
   ]
  },
  {
   "cell_type": "code",
   "execution_count": 42,
   "id": "fa26efea",
   "metadata": {},
   "outputs": [
    {
     "data": {
      "text/plain": [
       "GradientBoostingClassifier(learning_rate=0.05, max_features=5, n_estimators=500,\n",
       "                           random_state=100)"
      ]
     },
     "execution_count": 42,
     "metadata": {},
     "output_type": "execute_result"
    }
   ],
   "source": [
    "gbc.fit(X_Sobel2_train,y_Sobel2_train)"
   ]
  },
  {
   "cell_type": "code",
   "execution_count": 43,
   "id": "cde441da",
   "metadata": {},
   "outputs": [],
   "source": [
    "y_race_Sobel2_pred = gbc.predict(X_Sobel2_test)"
   ]
  },
  {
   "cell_type": "code",
   "execution_count": 44,
   "id": "349ffb44",
   "metadata": {},
   "outputs": [
    {
     "name": "stdout",
     "output_type": "stream",
     "text": [
      "[[1476    4   41   46   11]\n",
      " [  72   13    5   25    4]\n",
      " [ 283    0  140   27    7]\n",
      " [ 203    3   18  197   24]\n",
      " [ 231    1   19   50   34]]\n"
     ]
    }
   ],
   "source": [
    "print(confusion_matrix(y_Sobel2_test, y_race_Sobel2_pred))"
   ]
  },
  {
   "cell_type": "code",
   "execution_count": 45,
   "id": "3f375276",
   "metadata": {},
   "outputs": [
    {
     "name": "stdout",
     "output_type": "stream",
     "text": [
      "GBC accuracy is 0.63\n"
     ]
    }
   ],
   "source": [
    "GBC_accuracy_score = accuracy_score(y_Sobel2_test, y_race_Sobel2_pred)\n",
    "print(\"GBC accuracy is %2.2f\" % GBC_accuracy_score)"
   ]
  },
  {
   "cell_type": "code",
   "execution_count": 46,
   "id": "7135652f",
   "metadata": {},
   "outputs": [
    {
     "name": "stdout",
     "output_type": "stream",
     "text": [
      "              precision    recall  f1-score   support\n",
      "\n",
      "           0       0.65      0.94      0.77      1578\n",
      "           1       0.62      0.11      0.19       119\n",
      "           2       0.63      0.31      0.41       457\n",
      "           3       0.57      0.44      0.50       445\n",
      "           4       0.42      0.10      0.16       335\n",
      "\n",
      "    accuracy                           0.63      2934\n",
      "   macro avg       0.58      0.38      0.41      2934\n",
      "weighted avg       0.61      0.63      0.58      2934\n",
      "\n"
     ]
    }
   ],
   "source": [
    "print(classification_report(y_Sobel2_test, y_race_Sobel2_pred))"
   ]
  },
  {
   "cell_type": "markdown",
   "id": "551ee5da",
   "metadata": {},
   "source": [
    "### 1.2.3 mask: Filter hsv -- Label age"
   ]
  },
  {
   "cell_type": "code",
   "execution_count": 47,
   "id": "55b5f65f",
   "metadata": {},
   "outputs": [],
   "source": [
    "X_Sobel2_train, X_Sobel2_test, y_Sobel2_train, y_Sobel2_test = train_test_split(Sobel2_2d, y3, test_size=0.3, random_state=42)"
   ]
  },
  {
   "cell_type": "code",
   "execution_count": 48,
   "id": "2fdc946d",
   "metadata": {},
   "outputs": [
    {
     "data": {
      "text/plain": [
       "GradientBoostingClassifier(learning_rate=0.05, max_features=5, n_estimators=500,\n",
       "                           random_state=100)"
      ]
     },
     "execution_count": 48,
     "metadata": {},
     "output_type": "execute_result"
    }
   ],
   "source": [
    "gbc.fit(X_Sobel2_train,y_Sobel2_train)"
   ]
  },
  {
   "cell_type": "code",
   "execution_count": 49,
   "id": "2f374487",
   "metadata": {},
   "outputs": [],
   "source": [
    "y_age_Sobel2_pred = gbc.predict(X_Sobel2_test)"
   ]
  },
  {
   "cell_type": "code",
   "execution_count": 50,
   "id": "c22af2b5",
   "metadata": {},
   "outputs": [
    {
     "name": "stdout",
     "output_type": "stream",
     "text": [
      "[[425  12   0   0   8  21   3  15   1]\n",
      " [108  22   2   0   8  36   4  20   2]\n",
      " [ 30  13  11   1  25  45   2  19   0]\n",
      " [ 12   6   9   4  36  23   1  21   0]\n",
      " [ 14   8   3   5  95 137  11  55   1]\n",
      " [ 15   3   5   2  46 391  56  99   1]\n",
      " [  6   2   1   0  16  97  64 171   1]\n",
      " [ 18   2   2   1  18 102  35 376   2]\n",
      " [  2   0   1   0   0  20   2  95   8]]\n"
     ]
    }
   ],
   "source": [
    "print(confusion_matrix(y_Sobel2_test, y_age_Sobel2_pred))"
   ]
  },
  {
   "cell_type": "code",
   "execution_count": 51,
   "id": "0c51f4c4",
   "metadata": {},
   "outputs": [
    {
     "name": "stdout",
     "output_type": "stream",
     "text": [
      "GBC accuracy is 0.48\n"
     ]
    }
   ],
   "source": [
    "GBC_accuracy_score = accuracy_score(y_Sobel2_test, y_age_Sobel2_pred)\n",
    "print(\"GBC accuracy is %2.2f\" % GBC_accuracy_score)"
   ]
  },
  {
   "cell_type": "code",
   "execution_count": 52,
   "id": "ce90c094",
   "metadata": {},
   "outputs": [
    {
     "name": "stdout",
     "output_type": "stream",
     "text": [
      "              precision    recall  f1-score   support\n",
      "\n",
      "           1       0.67      0.88      0.76       485\n",
      "           2       0.32      0.11      0.16       202\n",
      "           3       0.32      0.08      0.12       146\n",
      "           4       0.31      0.04      0.06       112\n",
      "           5       0.38      0.29      0.33       329\n",
      "           6       0.45      0.63      0.52       618\n",
      "           7       0.36      0.18      0.24       358\n",
      "           8       0.43      0.68      0.53       556\n",
      "           9       0.50      0.06      0.11       128\n",
      "\n",
      "    accuracy                           0.48      2934\n",
      "   macro avg       0.42      0.33      0.32      2934\n",
      "weighted avg       0.45      0.48      0.43      2934\n",
      "\n"
     ]
    }
   ],
   "source": [
    "print(classification_report(y_Sobel2_test, y_age_Sobel2_pred))"
   ]
  },
  {
   "cell_type": "markdown",
   "id": "7dda19f3",
   "metadata": {},
   "source": [
    "### 1.3 mask: roberts \n",
    "### 1.3.1 mask: robert --- Label gender"
   ]
  },
  {
   "cell_type": "code",
   "execution_count": 20,
   "id": "7de431bf",
   "metadata": {},
   "outputs": [],
   "source": [
    "Robert = list(robertsSobelEdges(imagesArray))\n",
    "Robert1 = Robert[0]\n",
    "Robert2= Robert[1]"
   ]
  },
  {
   "cell_type": "code",
   "execution_count": 48,
   "id": "231185e3",
   "metadata": {},
   "outputs": [
    {
     "data": {
      "text/plain": [
       "((9778, 200, 200), (9778, 200, 200))"
      ]
     },
     "execution_count": 48,
     "metadata": {},
     "output_type": "execute_result"
    }
   ],
   "source": [
    "Robert1.shape, Robert2.shape"
   ]
  },
  {
   "cell_type": "code",
   "execution_count": 29,
   "id": "f326ed07",
   "metadata": {},
   "outputs": [],
   "source": [
    "nsamples, nx, ny= Robert1.shape\n",
    "Robert1_2d = Robert1.reshape((nsamples,nx*ny))"
   ]
  },
  {
   "cell_type": "code",
   "execution_count": 30,
   "id": "b9fbef6c",
   "metadata": {},
   "outputs": [],
   "source": [
    "X_train, X_test, y_train, y_test = train_test_split(Robert1_2d, y1, test_size=0.3, random_state=42)"
   ]
  },
  {
   "cell_type": "code",
   "execution_count": 31,
   "id": "e394129b",
   "metadata": {},
   "outputs": [
    {
     "data": {
      "text/plain": [
       "GradientBoostingClassifier(learning_rate=0.05, max_features=5, n_estimators=500,\n",
       "                           random_state=100)"
      ]
     },
     "execution_count": 31,
     "metadata": {},
     "output_type": "execute_result"
    }
   ],
   "source": [
    "gbc.fit(X_train,y_train)"
   ]
  },
  {
   "cell_type": "code",
   "execution_count": 32,
   "id": "ec4020fd",
   "metadata": {},
   "outputs": [],
   "source": [
    "y_pred = gbc.predict(X_test)"
   ]
  },
  {
   "cell_type": "code",
   "execution_count": 33,
   "id": "95f568fe",
   "metadata": {},
   "outputs": [
    {
     "name": "stdout",
     "output_type": "stream",
     "text": [
      "[[ 892  393]\n",
      " [ 344 1305]]\n"
     ]
    }
   ],
   "source": [
    "print(confusion_matrix(y_test, y_pred))"
   ]
  },
  {
   "cell_type": "code",
   "execution_count": 34,
   "id": "81da1d44",
   "metadata": {},
   "outputs": [
    {
     "name": "stdout",
     "output_type": "stream",
     "text": [
      "GBC accuracy is 0.75\n"
     ]
    }
   ],
   "source": [
    "GBC_accuracy_score = accuracy_score(y_test, y_pred)\n",
    "print(\"GBC accuracy is %2.2f\" % GBC_accuracy_score)"
   ]
  },
  {
   "cell_type": "code",
   "execution_count": 35,
   "id": "c87a3375",
   "metadata": {},
   "outputs": [
    {
     "name": "stdout",
     "output_type": "stream",
     "text": [
      "              precision    recall  f1-score   support\n",
      "\n",
      "           0       0.72      0.69      0.71      1285\n",
      "           1       0.77      0.79      0.78      1649\n",
      "\n",
      "    accuracy                           0.75      2934\n",
      "   macro avg       0.75      0.74      0.74      2934\n",
      "weighted avg       0.75      0.75      0.75      2934\n",
      "\n"
     ]
    }
   ],
   "source": [
    "print(classification_report(y_test, y_pred))"
   ]
  },
  {
   "cell_type": "markdown",
   "id": "0ee9396a",
   "metadata": {},
   "source": [
    "### 1.3.2 Mask Robert -- Label Race"
   ]
  },
  {
   "cell_type": "code",
   "execution_count": 36,
   "id": "af99fabf",
   "metadata": {},
   "outputs": [],
   "source": [
    "X2_train, X2_test, y2_train, y2_test = train_test_split(Robert1_2d, y2, test_size=0.3, random_state=42)"
   ]
  },
  {
   "cell_type": "code",
   "execution_count": 37,
   "id": "da8e3bdd",
   "metadata": {},
   "outputs": [
    {
     "data": {
      "text/plain": [
       "GradientBoostingClassifier(learning_rate=0.05, max_features=5, n_estimators=500,\n",
       "                           random_state=100)"
      ]
     },
     "execution_count": 37,
     "metadata": {},
     "output_type": "execute_result"
    }
   ],
   "source": [
    "gbc.fit(X2_train,y2_train)"
   ]
  },
  {
   "cell_type": "code",
   "execution_count": 38,
   "id": "3aa6976f",
   "metadata": {},
   "outputs": [],
   "source": [
    "y_race_pred = gbc.predict(X2_test)"
   ]
  },
  {
   "cell_type": "code",
   "execution_count": 39,
   "id": "2f2c3c06",
   "metadata": {},
   "outputs": [
    {
     "name": "stdout",
     "output_type": "stream",
     "text": [
      "[[1485    1   50   34    8]\n",
      " [  91    3   10   14    1]\n",
      " [ 189    1  247   19    1]\n",
      " [ 234    0   20  186    5]\n",
      " [ 267    0   20   32   16]]\n"
     ]
    }
   ],
   "source": [
    "print(confusion_matrix(y2_test, y_race_pred))"
   ]
  },
  {
   "cell_type": "code",
   "execution_count": 40,
   "id": "c7608495",
   "metadata": {},
   "outputs": [
    {
     "name": "stdout",
     "output_type": "stream",
     "text": [
      "GBC accuracy is 0.66\n"
     ]
    }
   ],
   "source": [
    "GBC_accuracy_score = accuracy_score(y2_test, y_race_pred)\n",
    "print(\"GBC accuracy is %2.2f\" % GBC_accuracy_score)"
   ]
  },
  {
   "cell_type": "code",
   "execution_count": 41,
   "id": "a977d5ed",
   "metadata": {},
   "outputs": [
    {
     "name": "stdout",
     "output_type": "stream",
     "text": [
      "              precision    recall  f1-score   support\n",
      "\n",
      "           0       0.66      0.94      0.77      1578\n",
      "           1       0.60      0.03      0.05       119\n",
      "           2       0.71      0.54      0.61       457\n",
      "           3       0.65      0.42      0.51       445\n",
      "           4       0.52      0.05      0.09       335\n",
      "\n",
      "    accuracy                           0.66      2934\n",
      "   macro avg       0.63      0.39      0.41      2934\n",
      "weighted avg       0.65      0.66      0.60      2934\n",
      "\n"
     ]
    }
   ],
   "source": [
    "print(classification_report(y2_test, y_race_pred))"
   ]
  },
  {
   "cell_type": "markdown",
   "id": "7ffcd1eb",
   "metadata": {},
   "source": [
    "### 1.3.3 Mask: Robert --- Label age"
   ]
  },
  {
   "cell_type": "code",
   "execution_count": 42,
   "id": "b2b3653e",
   "metadata": {},
   "outputs": [],
   "source": [
    "X_train, X_test, y_train, y_test = train_test_split(Robert1_2d, y3, test_size=0.3, random_state=42)"
   ]
  },
  {
   "cell_type": "code",
   "execution_count": 43,
   "id": "d7573eb6",
   "metadata": {},
   "outputs": [
    {
     "data": {
      "text/plain": [
       "GradientBoostingClassifier(learning_rate=0.05, max_features=5, n_estimators=500,\n",
       "                           random_state=100)"
      ]
     },
     "execution_count": 43,
     "metadata": {},
     "output_type": "execute_result"
    }
   ],
   "source": [
    "gbc.fit(X_train,y_train)"
   ]
  },
  {
   "cell_type": "code",
   "execution_count": 44,
   "id": "2bea3d41",
   "metadata": {},
   "outputs": [],
   "source": [
    "y_age_pred = gbc.predict(X_test)"
   ]
  },
  {
   "cell_type": "code",
   "execution_count": 45,
   "id": "ec1f558d",
   "metadata": {},
   "outputs": [
    {
     "name": "stdout",
     "output_type": "stream",
     "text": [
      "[[434  21   1   0   1  13   2  13   0]\n",
      " [ 91  55   4   1  11  21   1  18   0]\n",
      " [ 20  36  12   1  30  36   1  10   0]\n",
      " [  7   8   7   1  41  21   6  20   1]\n",
      " [  6   7   3   3  87 162   9  51   1]\n",
      " [  4   2   1   0  32 458  47  74   0]\n",
      " [  3   1   1   0   9 132  59 153   0]\n",
      " [  3   2   2   0  16  71  51 395  16]\n",
      " [  0   0   0   0   1   5   2  89  31]]\n"
     ]
    }
   ],
   "source": [
    "print(confusion_matrix(y_test, y_age_pred))"
   ]
  },
  {
   "cell_type": "code",
   "execution_count": 46,
   "id": "960679f2",
   "metadata": {},
   "outputs": [
    {
     "name": "stdout",
     "output_type": "stream",
     "text": [
      "GBC accuracy is 0.52\n"
     ]
    }
   ],
   "source": [
    "GBC_accuracy_score = accuracy_score(y_test, y_age_pred)\n",
    "print(\"GBC accuracy is %2.2f\" % GBC_accuracy_score)"
   ]
  },
  {
   "cell_type": "code",
   "execution_count": 47,
   "id": "ea5f772c",
   "metadata": {},
   "outputs": [
    {
     "name": "stdout",
     "output_type": "stream",
     "text": [
      "              precision    recall  f1-score   support\n",
      "\n",
      "           1       0.76      0.89      0.82       485\n",
      "           2       0.42      0.27      0.33       202\n",
      "           3       0.39      0.08      0.14       146\n",
      "           4       0.17      0.01      0.02       112\n",
      "           5       0.38      0.26      0.31       329\n",
      "           6       0.50      0.74      0.60       618\n",
      "           7       0.33      0.16      0.22       358\n",
      "           8       0.48      0.71      0.57       556\n",
      "           9       0.63      0.24      0.35       128\n",
      "\n",
      "    accuracy                           0.52      2934\n",
      "   macro avg       0.45      0.38      0.37      2934\n",
      "weighted avg       0.49      0.52      0.48      2934\n",
      "\n"
     ]
    }
   ],
   "source": [
    "print(classification_report(y_test, y_age_pred))"
   ]
  },
  {
   "cell_type": "markdown",
   "id": "295144dd",
   "metadata": {},
   "source": [
    "### 1.4 mask: Sobel\n",
    "### 1.4.1 mask: Sobel --- Label gender"
   ]
  },
  {
   "cell_type": "code",
   "execution_count": 50,
   "id": "bcd5cb6e",
   "metadata": {},
   "outputs": [],
   "source": [
    "nsamples, nx, ny= Robert2.shape\n",
    "Robert2_2d = Robert2.reshape((nsamples,nx*ny))"
   ]
  },
  {
   "cell_type": "code",
   "execution_count": 51,
   "id": "78b1292b",
   "metadata": {},
   "outputs": [],
   "source": [
    "X_train, X_test, y_train, y_test = train_test_split(Robert2_2d, y1, test_size=0.3, random_state=42)"
   ]
  },
  {
   "cell_type": "code",
   "execution_count": 52,
   "id": "9ea61aae",
   "metadata": {},
   "outputs": [
    {
     "data": {
      "text/plain": [
       "GradientBoostingClassifier(learning_rate=0.05, max_features=5, n_estimators=500,\n",
       "                           random_state=100)"
      ]
     },
     "execution_count": 52,
     "metadata": {},
     "output_type": "execute_result"
    }
   ],
   "source": [
    "gbc.fit(X_train,y_train)"
   ]
  },
  {
   "cell_type": "code",
   "execution_count": 53,
   "id": "1e6c3af4",
   "metadata": {},
   "outputs": [],
   "source": [
    "y_pred = gbc.predict(X_test)"
   ]
  },
  {
   "cell_type": "code",
   "execution_count": 56,
   "id": "b4958484",
   "metadata": {},
   "outputs": [
    {
     "name": "stdout",
     "output_type": "stream",
     "text": [
      "GBC accuracy is 0.75\n"
     ]
    }
   ],
   "source": [
    "GBC_accuracy_score = accuracy_score(y_test, y_pred)\n",
    "print(\"GBC accuracy is %2.2f\" % GBC_accuracy_score)"
   ]
  },
  {
   "cell_type": "code",
   "execution_count": 54,
   "id": "64535425",
   "metadata": {},
   "outputs": [
    {
     "name": "stdout",
     "output_type": "stream",
     "text": [
      "[[ 903  382]\n",
      " [ 359 1290]]\n"
     ]
    }
   ],
   "source": [
    "print(confusion_matrix(y_test, y_pred))"
   ]
  },
  {
   "cell_type": "code",
   "execution_count": 55,
   "id": "69178341",
   "metadata": {},
   "outputs": [
    {
     "name": "stdout",
     "output_type": "stream",
     "text": [
      "              precision    recall  f1-score   support\n",
      "\n",
      "           0       0.72      0.70      0.71      1285\n",
      "           1       0.77      0.78      0.78      1649\n",
      "\n",
      "    accuracy                           0.75      2934\n",
      "   macro avg       0.74      0.74      0.74      2934\n",
      "weighted avg       0.75      0.75      0.75      2934\n",
      "\n"
     ]
    }
   ],
   "source": [
    "print(classification_report(y_test, y_pred))"
   ]
  },
  {
   "cell_type": "markdown",
   "id": "4ba11911",
   "metadata": {},
   "source": [
    "### 1.4.2 Mask: Sobel --- Label race"
   ]
  },
  {
   "cell_type": "code",
   "execution_count": 57,
   "id": "09142ce6",
   "metadata": {},
   "outputs": [],
   "source": [
    "X_train, X_test, y_train, y_test = train_test_split(Robert2_2d, y2, test_size=0.3, random_state=42)"
   ]
  },
  {
   "cell_type": "code",
   "execution_count": 58,
   "id": "8aec38db",
   "metadata": {},
   "outputs": [
    {
     "data": {
      "text/plain": [
       "GradientBoostingClassifier(learning_rate=0.05, max_features=5, n_estimators=500,\n",
       "                           random_state=100)"
      ]
     },
     "execution_count": 58,
     "metadata": {},
     "output_type": "execute_result"
    }
   ],
   "source": [
    "gbc.fit(X_train,y_train)"
   ]
  },
  {
   "cell_type": "code",
   "execution_count": 59,
   "id": "820495da",
   "metadata": {},
   "outputs": [],
   "source": [
    "y_pred = gbc.predict(X_test)"
   ]
  },
  {
   "cell_type": "code",
   "execution_count": 60,
   "id": "0459121a",
   "metadata": {},
   "outputs": [
    {
     "name": "stdout",
     "output_type": "stream",
     "text": [
      "GBC accuracy is 0.75\n"
     ]
    }
   ],
   "source": [
    "BC_accuracy_score = accuracy_score(y_test, y_pred)\n",
    "print(\"GBC accuracy is %2.2f\" % GBC_accuracy_score)"
   ]
  },
  {
   "cell_type": "code",
   "execution_count": 61,
   "id": "04543325",
   "metadata": {},
   "outputs": [
    {
     "name": "stdout",
     "output_type": "stream",
     "text": [
      "[[1489    1   41   41    6]\n",
      " [  86    8   11   14    0]\n",
      " [ 182    1  252   21    1]\n",
      " [ 227    1   21  188    8]\n",
      " [ 275    1   21   24   14]]\n"
     ]
    }
   ],
   "source": [
    "print(confusion_matrix(y_test, y_pred))"
   ]
  },
  {
   "cell_type": "code",
   "execution_count": 62,
   "id": "ff9848a8",
   "metadata": {},
   "outputs": [
    {
     "name": "stdout",
     "output_type": "stream",
     "text": [
      "              precision    recall  f1-score   support\n",
      "\n",
      "           0       0.66      0.94      0.78      1578\n",
      "           1       0.67      0.07      0.12       119\n",
      "           2       0.73      0.55      0.63       457\n",
      "           3       0.65      0.42      0.51       445\n",
      "           4       0.48      0.04      0.08       335\n",
      "\n",
      "    accuracy                           0.66      2934\n",
      "   macro avg       0.64      0.41      0.42      2934\n",
      "weighted avg       0.65      0.66      0.61      2934\n",
      "\n"
     ]
    }
   ],
   "source": [
    "print(classification_report(y_test, y_pred))"
   ]
  },
  {
   "cell_type": "markdown",
   "id": "e9f4a585",
   "metadata": {},
   "source": [
    "### 1.4.3 Mask: Sobel -- Label age"
   ]
  },
  {
   "cell_type": "code",
   "execution_count": 63,
   "id": "bf7f9f6b",
   "metadata": {},
   "outputs": [],
   "source": [
    "X_train, X_test, y_train, y_test = train_test_split(Robert2_2d, y3, test_size=0.3, random_state=42)"
   ]
  },
  {
   "cell_type": "code",
   "execution_count": 64,
   "id": "36f230cd",
   "metadata": {},
   "outputs": [
    {
     "data": {
      "text/plain": [
       "GradientBoostingClassifier(learning_rate=0.05, max_features=5, n_estimators=500,\n",
       "                           random_state=100)"
      ]
     },
     "execution_count": 64,
     "metadata": {},
     "output_type": "execute_result"
    }
   ],
   "source": [
    "gbc.fit(X_train,y_train)"
   ]
  },
  {
   "cell_type": "code",
   "execution_count": 65,
   "id": "8ed8d7c6",
   "metadata": {},
   "outputs": [],
   "source": [
    "y_pred = gbc.predict(X_test)"
   ]
  },
  {
   "cell_type": "code",
   "execution_count": 66,
   "id": "5b2fc8b1",
   "metadata": {},
   "outputs": [
    {
     "name": "stdout",
     "output_type": "stream",
     "text": [
      "GBC accuracy is 0.75\n"
     ]
    }
   ],
   "source": [
    "BC_accuracy_score = accuracy_score(y_test, y_pred)\n",
    "print(\"GBC accuracy is %2.2f\" % GBC_accuracy_score)"
   ]
  },
  {
   "cell_type": "code",
   "execution_count": 67,
   "id": "08b47870",
   "metadata": {},
   "outputs": [
    {
     "name": "stdout",
     "output_type": "stream",
     "text": [
      "[[427  32   2   0   0  11   1  12   0]\n",
      " [ 98  50   3   2  13  20   1  15   0]\n",
      " [ 26  26  16   1  32  35   1   9   0]\n",
      " [  5  12   8   3  33  26   2  22   1]\n",
      " [  8   9   1   5  94 155  15  42   0]\n",
      " [  4   2   2   0  27 465  50  68   0]\n",
      " [  2   0   0   0   9 121  59 167   0]\n",
      " [  1   0   2   0  11  74  34 422  12]\n",
      " [  0   1   0   0   5   4   1  83  34]]\n"
     ]
    }
   ],
   "source": [
    "print(confusion_matrix(y_test, y_pred))"
   ]
  },
  {
   "cell_type": "code",
   "execution_count": 68,
   "id": "a5dfece9",
   "metadata": {},
   "outputs": [
    {
     "name": "stdout",
     "output_type": "stream",
     "text": [
      "              precision    recall  f1-score   support\n",
      "\n",
      "           1       0.75      0.88      0.81       485\n",
      "           2       0.38      0.25      0.30       202\n",
      "           3       0.47      0.11      0.18       146\n",
      "           4       0.27      0.03      0.05       112\n",
      "           5       0.42      0.29      0.34       329\n",
      "           6       0.51      0.75      0.61       618\n",
      "           7       0.36      0.16      0.23       358\n",
      "           8       0.50      0.76      0.60       556\n",
      "           9       0.72      0.27      0.39       128\n",
      "\n",
      "    accuracy                           0.54      2934\n",
      "   macro avg       0.49      0.39      0.39      2934\n",
      "weighted avg       0.51      0.54      0.49      2934\n",
      "\n"
     ]
    }
   ],
   "source": [
    "print(classification_report(y_test, y_pred))"
   ]
  },
  {
   "cell_type": "markdown",
   "id": "0c88b081",
   "metadata": {},
   "source": [
    "### 1.5 exposure\n",
    "### 1.5.1 Mask: exposure --- Label gender"
   ]
  },
  {
   "cell_type": "code",
   "execution_count": 21,
   "id": "364061dc",
   "metadata": {},
   "outputs": [
    {
     "name": "stderr",
     "output_type": "stream",
     "text": [
      "/Users/yinzi/opt/anaconda3/lib/python3.9/site-packages/skimage/exposure/exposure.py:181: UserWarning: This might be a color image. The histogram will be computed on the flattened image. You can instead apply this function to each color channel.\n",
      "  hist, bin_centers = histogram(image, nbins)\n"
     ]
    }
   ],
   "source": [
    "Exposure = exposure_(imagesArray)\n",
    "Exposure1 = list(Exposure)"
   ]
  },
  {
   "cell_type": "code",
   "execution_count": 24,
   "id": "6c661067",
   "metadata": {},
   "outputs": [
    {
     "data": {
      "text/plain": [
       "(9778, 200, 200, 3)"
      ]
     },
     "execution_count": 24,
     "metadata": {},
     "output_type": "execute_result"
    }
   ],
   "source": [
    "Exposure1 = np.array(Exposure1)\n",
    "Exposure1.shape"
   ]
  },
  {
   "cell_type": "code",
   "execution_count": 25,
   "id": "6bffce12",
   "metadata": {},
   "outputs": [],
   "source": [
    "nsamples, nx, ny, n= Exposure1.shape\n",
    "Exposure1_2d = Exposure1.reshape((nsamples,nx*ny*n))"
   ]
  },
  {
   "cell_type": "code",
   "execution_count": 26,
   "id": "bf2e0d17",
   "metadata": {},
   "outputs": [],
   "source": [
    "X_train, X_test, y_train, y_test = train_test_split(Exposure1_2d, y1, test_size=0.3, random_state=42)"
   ]
  },
  {
   "cell_type": "code",
   "execution_count": 27,
   "id": "7abdf951",
   "metadata": {},
   "outputs": [
    {
     "data": {
      "text/plain": [
       "GradientBoostingClassifier(learning_rate=0.05, max_features=5, n_estimators=500,\n",
       "                           random_state=100)"
      ]
     },
     "execution_count": 27,
     "metadata": {},
     "output_type": "execute_result"
    }
   ],
   "source": [
    "gbc.fit(X_train,y_train)"
   ]
  },
  {
   "cell_type": "code",
   "execution_count": 28,
   "id": "20df58d7",
   "metadata": {},
   "outputs": [],
   "source": [
    "y5_gender_pred = gbc.predict(X_test)"
   ]
  },
  {
   "cell_type": "code",
   "execution_count": 30,
   "id": "8d50e8e2",
   "metadata": {},
   "outputs": [
    {
     "name": "stdout",
     "output_type": "stream",
     "text": [
      "GBC accuracy is 0.78\n"
     ]
    }
   ],
   "source": [
    "GBC_accuracy_score = accuracy_score(y_test, y5_gender_pred)\n",
    "print(\"GBC accuracy is %2.2f\" % GBC_accuracy_score)"
   ]
  },
  {
   "cell_type": "code",
   "execution_count": 31,
   "id": "fa8fde05",
   "metadata": {},
   "outputs": [
    {
     "name": "stdout",
     "output_type": "stream",
     "text": [
      "[[ 961  324]\n",
      " [ 323 1326]]\n"
     ]
    }
   ],
   "source": [
    "print(confusion_matrix(y_test, y5_gender_pred))"
   ]
  },
  {
   "cell_type": "code",
   "execution_count": 33,
   "id": "ea72f144",
   "metadata": {},
   "outputs": [
    {
     "name": "stdout",
     "output_type": "stream",
     "text": [
      "              precision    recall  f1-score   support\n",
      "\n",
      "           0       0.75      0.75      0.75      1285\n",
      "           1       0.80      0.80      0.80      1649\n",
      "\n",
      "    accuracy                           0.78      2934\n",
      "   macro avg       0.78      0.78      0.78      2934\n",
      "weighted avg       0.78      0.78      0.78      2934\n",
      "\n"
     ]
    }
   ],
   "source": [
    "print(classification_report(y_test, y5_gender_pred))"
   ]
  },
  {
   "cell_type": "markdown",
   "id": "66664008",
   "metadata": {},
   "source": [
    "### 1.5.2 Mask: exposure --- Label race"
   ]
  },
  {
   "cell_type": "code",
   "execution_count": 44,
   "id": "4b2f0ee2",
   "metadata": {},
   "outputs": [],
   "source": [
    "X_train, X_test, y_train, y_test = train_test_split(Exposure1_2d, y2, test_size=0.3, random_state=42)"
   ]
  },
  {
   "cell_type": "code",
   "execution_count": 45,
   "id": "7575de0b",
   "metadata": {},
   "outputs": [
    {
     "data": {
      "text/plain": [
       "GradientBoostingClassifier(learning_rate=0.05, max_features=5, n_estimators=500,\n",
       "                           random_state=100)"
      ]
     },
     "execution_count": 45,
     "metadata": {},
     "output_type": "execute_result"
    }
   ],
   "source": [
    "gbc.fit(X_train,y_train)"
   ]
  },
  {
   "cell_type": "code",
   "execution_count": 46,
   "id": "6c156bae",
   "metadata": {},
   "outputs": [],
   "source": [
    "y5_race_pred = gbc.predict(X_test)"
   ]
  },
  {
   "cell_type": "code",
   "execution_count": 47,
   "id": "177f4a7a",
   "metadata": {},
   "outputs": [
    {
     "name": "stdout",
     "output_type": "stream",
     "text": [
      "GBC accuracy is 0.70\n"
     ]
    }
   ],
   "source": [
    "GBC_accuracy_score = accuracy_score(y_test, y5_race_pred)\n",
    "print(\"GBC accuracy is %2.2f\" % GBC_accuracy_score)"
   ]
  },
  {
   "cell_type": "code",
   "execution_count": 48,
   "id": "d5280774",
   "metadata": {},
   "outputs": [
    {
     "name": "stdout",
     "output_type": "stream",
     "text": [
      "[[1481    0   40   52    5]\n",
      " [  63   22    8   19    7]\n",
      " [ 140    2  297   15    3]\n",
      " [ 179    3   25  225   13]\n",
      " [ 224    1   33   43   34]]\n"
     ]
    }
   ],
   "source": [
    "print(confusion_matrix(y_test, y5_race_pred))"
   ]
  },
  {
   "cell_type": "code",
   "execution_count": 49,
   "id": "0390ec1d",
   "metadata": {},
   "outputs": [
    {
     "name": "stdout",
     "output_type": "stream",
     "text": [
      "              precision    recall  f1-score   support\n",
      "\n",
      "           0       0.71      0.94      0.81      1578\n",
      "           1       0.79      0.18      0.30       119\n",
      "           2       0.74      0.65      0.69       457\n",
      "           3       0.64      0.51      0.56       445\n",
      "           4       0.55      0.10      0.17       335\n",
      "\n",
      "    accuracy                           0.70      2934\n",
      "   macro avg       0.68      0.48      0.51      2934\n",
      "weighted avg       0.69      0.70      0.66      2934\n",
      "\n"
     ]
    }
   ],
   "source": [
    "print(classification_report(y_test, y5_race_pred))"
   ]
  },
  {
   "cell_type": "markdown",
   "id": "31432b82",
   "metadata": {},
   "source": [
    "### 1.5.3 Mask: exposure --- Label Age"
   ]
  },
  {
   "cell_type": "code",
   "execution_count": 50,
   "id": "eac80b78",
   "metadata": {},
   "outputs": [],
   "source": [
    "X_train, X_test, y_train, y_test = train_test_split(Exposure1_2d, y3, test_size=0.3, random_state=42)"
   ]
  },
  {
   "cell_type": "code",
   "execution_count": 51,
   "id": "c511a20b",
   "metadata": {},
   "outputs": [
    {
     "data": {
      "text/plain": [
       "GradientBoostingClassifier(learning_rate=0.05, max_features=5, n_estimators=500,\n",
       "                           random_state=100)"
      ]
     },
     "execution_count": 51,
     "metadata": {},
     "output_type": "execute_result"
    }
   ],
   "source": [
    "gbc.fit(X_train,y_train)"
   ]
  },
  {
   "cell_type": "code",
   "execution_count": 52,
   "id": "6a71a475",
   "metadata": {},
   "outputs": [],
   "source": [
    "y5_age_pred = gbc.predict(X_test)"
   ]
  },
  {
   "cell_type": "code",
   "execution_count": 53,
   "id": "3da14185",
   "metadata": {},
   "outputs": [
    {
     "name": "stdout",
     "output_type": "stream",
     "text": [
      "GBC accuracy is 0.54\n"
     ]
    }
   ],
   "source": [
    "GBC_accuracy_score = accuracy_score(y_test, y5_age_pred)\n",
    "print(\"GBC accuracy is %2.2f\" % GBC_accuracy_score)"
   ]
  },
  {
   "cell_type": "code",
   "execution_count": 54,
   "id": "85b00abc",
   "metadata": {},
   "outputs": [
    {
     "name": "stdout",
     "output_type": "stream",
     "text": [
      "[[444  16   1   1   2   7   3  10   1]\n",
      " [ 94  62   4   0  19  13   1   9   0]\n",
      " [ 17  27  14   4  38  35   4   7   0]\n",
      " [  9  14   7   2  34  30   5  10   1]\n",
      " [  4   8   5   5 110 151  13  32   1]\n",
      " [  4   6   1   0  28 445  62  72   0]\n",
      " [  1   3   0   0   7 123 103 121   0]\n",
      " [  2   1   2   2  16  76  58 393   6]\n",
      " [  1   0   0   0   5   7   4  93  18]]\n"
     ]
    }
   ],
   "source": [
    "print(confusion_matrix(y_test, y5_age_pred))"
   ]
  },
  {
   "cell_type": "code",
   "execution_count": 55,
   "id": "22042f55",
   "metadata": {},
   "outputs": [
    {
     "name": "stdout",
     "output_type": "stream",
     "text": [
      "              precision    recall  f1-score   support\n",
      "\n",
      "           1       0.77      0.92      0.84       485\n",
      "           2       0.45      0.31      0.37       202\n",
      "           3       0.41      0.10      0.16       146\n",
      "           4       0.14      0.02      0.03       112\n",
      "           5       0.42      0.33      0.37       329\n",
      "           6       0.50      0.72      0.59       618\n",
      "           7       0.41      0.29      0.34       358\n",
      "           8       0.53      0.71      0.60       556\n",
      "           9       0.67      0.14      0.23       128\n",
      "\n",
      "    accuracy                           0.54      2934\n",
      "   macro avg       0.48      0.39      0.39      2934\n",
      "weighted avg       0.52      0.54      0.50      2934\n",
      "\n"
     ]
    }
   ],
   "source": [
    "print(classification_report(y_test, y5_age_pred))"
   ]
  },
  {
   "cell_type": "markdown",
   "id": "1c521a97",
   "metadata": {},
   "source": [
    "### 1.6 gammaLogaritmictCorrection\n",
    "### 1.6.1 Mask Gamma1 -- Label gender"
   ]
  },
  {
   "cell_type": "code",
   "execution_count": 56,
   "id": "2196d192",
   "metadata": {},
   "outputs": [],
   "source": [
    "Gamma = list(gammaLogaritmictCorrection(imagesArray))\n",
    "Gamma1 = Gamma[0]\n",
    "Gamma2= Gamma[1]"
   ]
  },
  {
   "cell_type": "code",
   "execution_count": 57,
   "id": "55934929",
   "metadata": {},
   "outputs": [
    {
     "data": {
      "text/plain": [
       "((9778, 200, 200, 3), (9778, 200, 200, 3))"
      ]
     },
     "execution_count": 57,
     "metadata": {},
     "output_type": "execute_result"
    }
   ],
   "source": [
    "Gamma1.shape, Gamma2.shape"
   ]
  },
  {
   "cell_type": "code",
   "execution_count": 58,
   "id": "b6d39120",
   "metadata": {},
   "outputs": [],
   "source": [
    "nsamples, nx, ny, n= Gamma1.shape\n",
    "Gamma1_2d = Gamma1.reshape((nsamples,nx*ny*n))"
   ]
  },
  {
   "cell_type": "code",
   "execution_count": 59,
   "id": "cf98754b",
   "metadata": {},
   "outputs": [],
   "source": [
    "X_train, X_test, y_train, y_test = train_test_split(Gamma1_2d, y1, test_size=0.3, random_state=42)"
   ]
  },
  {
   "cell_type": "code",
   "execution_count": 60,
   "id": "4d3f1ef2",
   "metadata": {},
   "outputs": [
    {
     "data": {
      "text/plain": [
       "GradientBoostingClassifier(learning_rate=0.05, max_features=5, n_estimators=500,\n",
       "                           random_state=100)"
      ]
     },
     "execution_count": 60,
     "metadata": {},
     "output_type": "execute_result"
    }
   ],
   "source": [
    "gbc.fit(X_train,y_train)"
   ]
  },
  {
   "cell_type": "code",
   "execution_count": 61,
   "id": "9344e806",
   "metadata": {},
   "outputs": [],
   "source": [
    "y6_gender_pred = gbc.predict(X_test)"
   ]
  },
  {
   "cell_type": "code",
   "execution_count": 62,
   "id": "27d530b3",
   "metadata": {},
   "outputs": [
    {
     "name": "stdout",
     "output_type": "stream",
     "text": [
      "GBC accuracy is 0.77\n"
     ]
    }
   ],
   "source": [
    "GBC_accuracy_score = accuracy_score(y_test, y6_gender_pred)\n",
    "print(\"GBC accuracy is %2.2f\" % GBC_accuracy_score)"
   ]
  },
  {
   "cell_type": "code",
   "execution_count": 63,
   "id": "f47e5739",
   "metadata": {},
   "outputs": [
    {
     "name": "stdout",
     "output_type": "stream",
     "text": [
      "[[ 928  357]\n",
      " [ 312 1337]]\n"
     ]
    }
   ],
   "source": [
    "print(confusion_matrix(y_test, y6_gender_pred))"
   ]
  },
  {
   "cell_type": "code",
   "execution_count": 64,
   "id": "6ba51b31",
   "metadata": {},
   "outputs": [
    {
     "name": "stdout",
     "output_type": "stream",
     "text": [
      "              precision    recall  f1-score   support\n",
      "\n",
      "           0       0.75      0.72      0.74      1285\n",
      "           1       0.79      0.81      0.80      1649\n",
      "\n",
      "    accuracy                           0.77      2934\n",
      "   macro avg       0.77      0.77      0.77      2934\n",
      "weighted avg       0.77      0.77      0.77      2934\n",
      "\n"
     ]
    }
   ],
   "source": [
    "print(classification_report(y_test, y6_gender_pred))"
   ]
  },
  {
   "cell_type": "markdown",
   "id": "f12c293c",
   "metadata": {},
   "source": [
    "### 1.6.2 Mask Gamma1 -- Label race"
   ]
  },
  {
   "cell_type": "code",
   "execution_count": 65,
   "id": "a6832109",
   "metadata": {},
   "outputs": [],
   "source": [
    "X_train, X_test, y_train, y_test = train_test_split(Gamma1_2d, y2, test_size=0.3, random_state=42)"
   ]
  },
  {
   "cell_type": "code",
   "execution_count": 66,
   "id": "7f622c3f",
   "metadata": {},
   "outputs": [
    {
     "data": {
      "text/plain": [
       "GradientBoostingClassifier(learning_rate=0.05, max_features=5, n_estimators=500,\n",
       "                           random_state=100)"
      ]
     },
     "execution_count": 66,
     "metadata": {},
     "output_type": "execute_result"
    }
   ],
   "source": [
    "gbc.fit(X_train,y_train)"
   ]
  },
  {
   "cell_type": "code",
   "execution_count": 67,
   "id": "d2b644cd",
   "metadata": {},
   "outputs": [],
   "source": [
    "y6_race_pred = gbc.predict(X_test)"
   ]
  },
  {
   "cell_type": "code",
   "execution_count": 68,
   "id": "559f511d",
   "metadata": {},
   "outputs": [
    {
     "name": "stdout",
     "output_type": "stream",
     "text": [
      "GBC accuracy is 0.71\n"
     ]
    }
   ],
   "source": [
    "GBC_accuracy_score = accuracy_score(y_test, y6_race_pred)\n",
    "print(\"GBC accuracy is %2.2f\" % GBC_accuracy_score)"
   ]
  },
  {
   "cell_type": "code",
   "execution_count": 69,
   "id": "7e3aad05",
   "metadata": {},
   "outputs": [
    {
     "name": "stdout",
     "output_type": "stream",
     "text": [
      "[[1449    0   47   58   24]\n",
      " [  51   36    1   24    7]\n",
      " [ 162    3  271   10   11]\n",
      " [ 148    6   17  259   15]\n",
      " [ 213    3   17   48   54]]\n"
     ]
    }
   ],
   "source": [
    "print(confusion_matrix(y_test, y6_race_pred))"
   ]
  },
  {
   "cell_type": "code",
   "execution_count": 70,
   "id": "8055c8d8",
   "metadata": {},
   "outputs": [
    {
     "name": "stdout",
     "output_type": "stream",
     "text": [
      "              precision    recall  f1-score   support\n",
      "\n",
      "           0       0.72      0.92      0.80      1578\n",
      "           1       0.75      0.30      0.43       119\n",
      "           2       0.77      0.59      0.67       457\n",
      "           3       0.65      0.58      0.61       445\n",
      "           4       0.49      0.16      0.24       335\n",
      "\n",
      "    accuracy                           0.71      2934\n",
      "   macro avg       0.67      0.51      0.55      2934\n",
      "weighted avg       0.69      0.71      0.68      2934\n",
      "\n"
     ]
    }
   ],
   "source": [
    "print(classification_report(y_test, y6_race_pred))"
   ]
  },
  {
   "cell_type": "markdown",
   "id": "c2b25fbe",
   "metadata": {},
   "source": [
    "### 1.6.3 Gamma1 --- Label age"
   ]
  },
  {
   "cell_type": "code",
   "execution_count": 71,
   "id": "28fbcd0f",
   "metadata": {},
   "outputs": [],
   "source": [
    "X_train, X_test, y_train, y_test = train_test_split(Gamma1_2d, y3, test_size=0.3, random_state=42)"
   ]
  },
  {
   "cell_type": "code",
   "execution_count": 72,
   "id": "1df8dd42",
   "metadata": {},
   "outputs": [
    {
     "data": {
      "text/plain": [
       "GradientBoostingClassifier(learning_rate=0.05, max_features=5, n_estimators=500,\n",
       "                           random_state=100)"
      ]
     },
     "execution_count": 72,
     "metadata": {},
     "output_type": "execute_result"
    }
   ],
   "source": [
    "gbc.fit(X_train,y_train)"
   ]
  },
  {
   "cell_type": "code",
   "execution_count": 73,
   "id": "a9a39548",
   "metadata": {},
   "outputs": [],
   "source": [
    "y6_age_pred = gbc.predict(X_test)"
   ]
  },
  {
   "cell_type": "code",
   "execution_count": 74,
   "id": "f5fb9182",
   "metadata": {},
   "outputs": [
    {
     "name": "stdout",
     "output_type": "stream",
     "text": [
      "GBC accuracy is 0.53\n"
     ]
    }
   ],
   "source": [
    "GBC_accuracy_score = accuracy_score(y_test, y6_age_pred)\n",
    "print(\"GBC accuracy is %2.2f\" % GBC_accuracy_score)"
   ]
  },
  {
   "cell_type": "code",
   "execution_count": 75,
   "id": "b501f4a5",
   "metadata": {},
   "outputs": [
    {
     "name": "stdout",
     "output_type": "stream",
     "text": [
      "[[  0   0   0   0   0   0   0   0   0   0]\n",
      " [201   2 200  64  18   0   0   0   0   0]\n",
      " [114   0  47  33   8   0   0   0   0   0]\n",
      " [ 99   2  20  18   7   0   0   0   0   0]\n",
      " [ 91   4   6   8   3   0   0   0   0   0]\n",
      " [237   3  17  46  26   0   0   0   0   0]\n",
      " [355  12  40 172  39   0   0   0   0   0]\n",
      " [303   9  10  30   6   0   0   0   0   0]\n",
      " [504  11  12  25   4   0   0   0   0   0]\n",
      " [119   5   1   3   0   0   0   0   0   0]]\n"
     ]
    }
   ],
   "source": [
    "print(confusion_matrix(y_test, y6_race_pred))"
   ]
  },
  {
   "cell_type": "code",
   "execution_count": 76,
   "id": "91bf6a16",
   "metadata": {},
   "outputs": [
    {
     "name": "stdout",
     "output_type": "stream",
     "text": [
      "              precision    recall  f1-score   support\n",
      "\n",
      "           1       0.76      0.89      0.82       485\n",
      "           2       0.44      0.28      0.34       202\n",
      "           3       0.39      0.13      0.19       146\n",
      "           4       0.44      0.07      0.12       112\n",
      "           5       0.39      0.31      0.34       329\n",
      "           6       0.50      0.70      0.59       618\n",
      "           7       0.39      0.25      0.31       358\n",
      "           8       0.50      0.71      0.59       556\n",
      "           9       0.70      0.16      0.27       128\n",
      "\n",
      "    accuracy                           0.53      2934\n",
      "   macro avg       0.50      0.39      0.40      2934\n",
      "weighted avg       0.52      0.53      0.50      2934\n",
      "\n"
     ]
    }
   ],
   "source": [
    "print(classification_report(y_test, y6_age_pred))"
   ]
  },
  {
   "cell_type": "markdown",
   "id": "26970c46",
   "metadata": {},
   "source": [
    "### 1.7 mask Gamma2\n",
    "### 1.7.1 Mask: Gamma2 -- Label gender"
   ]
  },
  {
   "cell_type": "code",
   "execution_count": 77,
   "id": "ddfe2a53",
   "metadata": {},
   "outputs": [],
   "source": [
    "nsamples, nx, ny, n= Gamma2.shape\n",
    "Gamma2_2d = Gamma2.reshape((nsamples,nx*ny*n))"
   ]
  },
  {
   "cell_type": "code",
   "execution_count": 78,
   "id": "e3a09ef3",
   "metadata": {},
   "outputs": [],
   "source": [
    "X_train, X_test, y_train, y_test = train_test_split(Gamma2_2d, y1, test_size=0.3, random_state=42)"
   ]
  },
  {
   "cell_type": "code",
   "execution_count": 79,
   "id": "c4d1c370",
   "metadata": {},
   "outputs": [
    {
     "data": {
      "text/plain": [
       "GradientBoostingClassifier(learning_rate=0.05, max_features=5, n_estimators=500,\n",
       "                           random_state=100)"
      ]
     },
     "execution_count": 79,
     "metadata": {},
     "output_type": "execute_result"
    }
   ],
   "source": [
    "gbc.fit(X_train,y_train)"
   ]
  },
  {
   "cell_type": "code",
   "execution_count": 80,
   "id": "578d4366",
   "metadata": {},
   "outputs": [],
   "source": [
    "y7_gender_pred = gbc.predict(X_test)"
   ]
  },
  {
   "cell_type": "code",
   "execution_count": 81,
   "id": "eb50a83e",
   "metadata": {},
   "outputs": [
    {
     "name": "stdout",
     "output_type": "stream",
     "text": [
      "GBC accuracy is 0.77\n"
     ]
    }
   ],
   "source": [
    "GBC_accuracy_score = accuracy_score(y_test, y7_gender_pred)\n",
    "print(\"GBC accuracy is %2.2f\" % GBC_accuracy_score)"
   ]
  },
  {
   "cell_type": "code",
   "execution_count": 82,
   "id": "1256779b",
   "metadata": {},
   "outputs": [
    {
     "name": "stdout",
     "output_type": "stream",
     "text": [
      "[[ 934  351]\n",
      " [ 319 1330]]\n"
     ]
    }
   ],
   "source": [
    "print(confusion_matrix(y_test, y7_gender_pred))"
   ]
  },
  {
   "cell_type": "code",
   "execution_count": 83,
   "id": "39491082",
   "metadata": {},
   "outputs": [
    {
     "name": "stdout",
     "output_type": "stream",
     "text": [
      "              precision    recall  f1-score   support\n",
      "\n",
      "           0       0.75      0.73      0.74      1285\n",
      "           1       0.79      0.81      0.80      1649\n",
      "\n",
      "    accuracy                           0.77      2934\n",
      "   macro avg       0.77      0.77      0.77      2934\n",
      "weighted avg       0.77      0.77      0.77      2934\n",
      "\n"
     ]
    }
   ],
   "source": [
    "print(classification_report(y_test, y7_gender_pred))"
   ]
  },
  {
   "cell_type": "markdown",
   "id": "471af54e",
   "metadata": {},
   "source": [
    "### 1.7.2 Mask: Gamma2 -- Label race"
   ]
  },
  {
   "cell_type": "code",
   "execution_count": 84,
   "id": "e3e58b3e",
   "metadata": {},
   "outputs": [],
   "source": [
    "X_train, X_test, y_train, y_test = train_test_split(Gamma2_2d, y2, test_size=0.3, random_state=42)"
   ]
  },
  {
   "cell_type": "code",
   "execution_count": 85,
   "id": "168ac3fa",
   "metadata": {},
   "outputs": [
    {
     "data": {
      "text/plain": [
       "GradientBoostingClassifier(learning_rate=0.05, max_features=5, n_estimators=500,\n",
       "                           random_state=100)"
      ]
     },
     "execution_count": 85,
     "metadata": {},
     "output_type": "execute_result"
    }
   ],
   "source": [
    "gbc.fit(X_train,y_train)"
   ]
  },
  {
   "cell_type": "code",
   "execution_count": 86,
   "id": "c72e864d",
   "metadata": {},
   "outputs": [],
   "source": [
    "y7_race_pred = gbc.predict(X_test)"
   ]
  },
  {
   "cell_type": "code",
   "execution_count": 87,
   "id": "4ca9d4b1",
   "metadata": {},
   "outputs": [
    {
     "name": "stdout",
     "output_type": "stream",
     "text": [
      "GBC accuracy is 0.70\n"
     ]
    }
   ],
   "source": [
    "GBC_accuracy_score = accuracy_score(y_test, y7_race_pred)\n",
    "print(\"GBC accuracy is %2.2f\" % GBC_accuracy_score)"
   ]
  },
  {
   "cell_type": "code",
   "execution_count": 88,
   "id": "1ff9f936",
   "metadata": {},
   "outputs": [
    {
     "name": "stdout",
     "output_type": "stream",
     "text": [
      "[[1451    0   48   58   21]\n",
      " [  50   34    3   26    6]\n",
      " [ 157    3  276   10   11]\n",
      " [ 152    4   18  256   15]\n",
      " [ 222    2   17   44   50]]\n"
     ]
    }
   ],
   "source": [
    "print(confusion_matrix(y_test, y7_race_pred))"
   ]
  },
  {
   "cell_type": "code",
   "execution_count": 89,
   "id": "f530b103",
   "metadata": {},
   "outputs": [
    {
     "name": "stdout",
     "output_type": "stream",
     "text": [
      "              precision    recall  f1-score   support\n",
      "\n",
      "           0       0.71      0.92      0.80      1578\n",
      "           1       0.79      0.29      0.42       119\n",
      "           2       0.76      0.60      0.67       457\n",
      "           3       0.65      0.58      0.61       445\n",
      "           4       0.49      0.15      0.23       335\n",
      "\n",
      "    accuracy                           0.70      2934\n",
      "   macro avg       0.68      0.51      0.55      2934\n",
      "weighted avg       0.69      0.70      0.67      2934\n",
      "\n"
     ]
    }
   ],
   "source": [
    "print(classification_report(y_test, y7_race_pred))"
   ]
  },
  {
   "cell_type": "markdown",
   "id": "fc7724c7",
   "metadata": {},
   "source": [
    "### 1.7.3 Gamma2 -- Label age"
   ]
  },
  {
   "cell_type": "code",
   "execution_count": 90,
   "id": "4e49edd9",
   "metadata": {},
   "outputs": [],
   "source": [
    "X_train, X_test, y_train, y_test = train_test_split(Gamma2_2d, y3, test_size=0.3, random_state=42)"
   ]
  },
  {
   "cell_type": "code",
   "execution_count": 91,
   "id": "c496d60a",
   "metadata": {},
   "outputs": [
    {
     "data": {
      "text/plain": [
       "GradientBoostingClassifier(learning_rate=0.05, max_features=5, n_estimators=500,\n",
       "                           random_state=100)"
      ]
     },
     "execution_count": 91,
     "metadata": {},
     "output_type": "execute_result"
    }
   ],
   "source": [
    "gbc.fit(X_train,y_train)"
   ]
  },
  {
   "cell_type": "code",
   "execution_count": 92,
   "id": "353d3473",
   "metadata": {},
   "outputs": [],
   "source": [
    "y7_age_pred = gbc.predict(X_test)"
   ]
  },
  {
   "cell_type": "code",
   "execution_count": 93,
   "id": "c62bad24",
   "metadata": {},
   "outputs": [
    {
     "name": "stdout",
     "output_type": "stream",
     "text": [
      "GBC accuracy is 0.53\n"
     ]
    }
   ],
   "source": [
    "GBC_accuracy_score = accuracy_score(y_test, y7_age_pred)\n",
    "print(\"GBC accuracy is %2.2f\" % GBC_accuracy_score)"
   ]
  },
  {
   "cell_type": "code",
   "execution_count": 94,
   "id": "917d01bf",
   "metadata": {},
   "outputs": [
    {
     "name": "stdout",
     "output_type": "stream",
     "text": [
      "[[433  24   1   0   5   7   1  14   0]\n",
      " [ 85  58   6   2  17  20   2  12   0]\n",
      " [ 24  23  16   3  27  32   2  19   0]\n",
      " [ 13   7   4   9  33  25   1  20   0]\n",
      " [  8   7   5   4  94 157  15  38   1]\n",
      " [  6   7   2   0  39 430  64  70   0]\n",
      " [  0   2   1   2  11 118 106 118   0]\n",
      " [  2   5   1   0  15  81  55 391   6]\n",
      " [  1   0   0   0   2   7   5  95  18]]\n"
     ]
    }
   ],
   "source": [
    "print(confusion_matrix(y_test, y7_age_pred))"
   ]
  },
  {
   "cell_type": "code",
   "execution_count": 95,
   "id": "0938b249",
   "metadata": {},
   "outputs": [
    {
     "name": "stdout",
     "output_type": "stream",
     "text": [
      "              precision    recall  f1-score   support\n",
      "\n",
      "           1       0.76      0.89      0.82       485\n",
      "           2       0.44      0.29      0.35       202\n",
      "           3       0.44      0.11      0.18       146\n",
      "           4       0.45      0.08      0.14       112\n",
      "           5       0.39      0.29      0.33       329\n",
      "           6       0.49      0.70      0.58       618\n",
      "           7       0.42      0.30      0.35       358\n",
      "           8       0.50      0.70      0.59       556\n",
      "           9       0.72      0.14      0.24       128\n",
      "\n",
      "    accuracy                           0.53      2934\n",
      "   macro avg       0.51      0.39      0.39      2934\n",
      "weighted avg       0.52      0.53      0.50      2934\n",
      "\n"
     ]
    }
   ],
   "source": [
    "print(classification_report(y_test, y7_age_pred))"
   ]
  },
  {
   "cell_type": "markdown",
   "id": "e36717e2",
   "metadata": {},
   "source": [
    "### 1.8 histogramEqualizer\n",
    "### 1.8.1 Mask Histogram Equalizer1 :   --- label gender"
   ]
  },
  {
   "cell_type": "code",
   "execution_count": 20,
   "id": "99930284",
   "metadata": {},
   "outputs": [
    {
     "name": "stderr",
     "output_type": "stream",
     "text": [
      "/Users/yinzi/opt/anaconda3/lib/python3.9/site-packages/skimage/exposure/exposure.py:181: UserWarning: This might be a color image. The histogram will be computed on the flattened image. You can instead apply this function to each color channel.\n",
      "  hist, bin_centers = histogram(image, nbins)\n"
     ]
    }
   ],
   "source": [
    "Histogram = list(histogramEqualizer(imagesArray))\n",
    "Histogram1 = Histogram[0]\n",
    "Histogram2 = Histogram[1]\n",
    "Histogram3 = Histogram[2]"
   ]
  },
  {
   "cell_type": "code",
   "execution_count": 21,
   "id": "89fa3dc7",
   "metadata": {},
   "outputs": [],
   "source": [
    "nsamples, nx, ny, n= Histogram1.shape\n",
    "Histogram1_2d = Histogram1.reshape((nsamples,nx*ny*n))"
   ]
  },
  {
   "cell_type": "code",
   "execution_count": 22,
   "id": "e0be5ab2",
   "metadata": {},
   "outputs": [],
   "source": [
    "X_train, X_test, y_train, y_test = train_test_split(Histogram1_2d, y1, test_size=0.3, random_state=42)"
   ]
  },
  {
   "cell_type": "code",
   "execution_count": 23,
   "id": "fff7bfe5",
   "metadata": {},
   "outputs": [
    {
     "data": {
      "text/plain": [
       "GradientBoostingClassifier(learning_rate=0.05, max_features=5, n_estimators=500,\n",
       "                           random_state=100)"
      ]
     },
     "execution_count": 23,
     "metadata": {},
     "output_type": "execute_result"
    }
   ],
   "source": [
    "gbc.fit(X_train,y_train)"
   ]
  },
  {
   "cell_type": "code",
   "execution_count": 24,
   "id": "8fa18da4",
   "metadata": {},
   "outputs": [],
   "source": [
    "y8_gender_pred = gbc.predict(X_test)"
   ]
  },
  {
   "cell_type": "code",
   "execution_count": 25,
   "id": "6ea40aa4",
   "metadata": {},
   "outputs": [
    {
     "name": "stdout",
     "output_type": "stream",
     "text": [
      "GBC accuracy is 0.78\n"
     ]
    }
   ],
   "source": [
    "GBC_accuracy_score = accuracy_score(y_test, y8_gender_pred)\n",
    "print(\"GBC accuracy is %2.2f\" % GBC_accuracy_score)"
   ]
  },
  {
   "cell_type": "code",
   "execution_count": 26,
   "id": "2c9a0943",
   "metadata": {},
   "outputs": [
    {
     "name": "stdout",
     "output_type": "stream",
     "text": [
      "[[ 947  338]\n",
      " [ 302 1347]]\n"
     ]
    }
   ],
   "source": [
    "print(confusion_matrix(y_test, y8_gender_pred))"
   ]
  },
  {
   "cell_type": "code",
   "execution_count": 27,
   "id": "c9493fa3",
   "metadata": {},
   "outputs": [
    {
     "name": "stdout",
     "output_type": "stream",
     "text": [
      "              precision    recall  f1-score   support\n",
      "\n",
      "           0       0.76      0.74      0.75      1285\n",
      "           1       0.80      0.82      0.81      1649\n",
      "\n",
      "    accuracy                           0.78      2934\n",
      "   macro avg       0.78      0.78      0.78      2934\n",
      "weighted avg       0.78      0.78      0.78      2934\n",
      "\n"
     ]
    }
   ],
   "source": [
    "print(classification_report(y_test, y8_gender_pred))"
   ]
  },
  {
   "cell_type": "markdown",
   "id": "99553e65",
   "metadata": {},
   "source": [
    "### 1.8.2 Mask Histogram Equalizer 1 -- Label race"
   ]
  },
  {
   "cell_type": "code",
   "execution_count": 28,
   "id": "5e191b35",
   "metadata": {},
   "outputs": [],
   "source": [
    "X_train, X_test, y_train, y_test = train_test_split(Histogram1_2d, y2, test_size=0.3, random_state=42)"
   ]
  },
  {
   "cell_type": "code",
   "execution_count": 29,
   "id": "daa910ad",
   "metadata": {},
   "outputs": [
    {
     "data": {
      "text/plain": [
       "GradientBoostingClassifier(learning_rate=0.05, max_features=5, n_estimators=500,\n",
       "                           random_state=100)"
      ]
     },
     "execution_count": 29,
     "metadata": {},
     "output_type": "execute_result"
    }
   ],
   "source": [
    "gbc.fit(X_train,y_train)"
   ]
  },
  {
   "cell_type": "code",
   "execution_count": 30,
   "id": "8dfd225d",
   "metadata": {},
   "outputs": [],
   "source": [
    "y8_race_pred = gbc.predict(X_test)"
   ]
  },
  {
   "cell_type": "code",
   "execution_count": 31,
   "id": "f3fcec1f",
   "metadata": {},
   "outputs": [
    {
     "name": "stdout",
     "output_type": "stream",
     "text": [
      "GBC accuracy is 0.71\n"
     ]
    }
   ],
   "source": [
    "GBC_accuracy_score = accuracy_score(y_test, y8_race_pred)\n",
    "print(\"GBC accuracy is %2.2f\" % GBC_accuracy_score)"
   ]
  },
  {
   "cell_type": "code",
   "execution_count": 32,
   "id": "42abfa60",
   "metadata": {},
   "outputs": [
    {
     "name": "stdout",
     "output_type": "stream",
     "text": [
      "[[1452    4   52   51   19]\n",
      " [  44   41    3   24    7]\n",
      " [ 138    3  288   15   13]\n",
      " [ 142    5   18  263   17]\n",
      " [ 217    3   25   37   53]]\n"
     ]
    }
   ],
   "source": [
    "print(confusion_matrix(y_test, y8_race_pred))"
   ]
  },
  {
   "cell_type": "code",
   "execution_count": 33,
   "id": "7e6b95e1",
   "metadata": {},
   "outputs": [
    {
     "name": "stdout",
     "output_type": "stream",
     "text": [
      "              precision    recall  f1-score   support\n",
      "\n",
      "           0       0.73      0.92      0.81      1578\n",
      "           1       0.73      0.34      0.47       119\n",
      "           2       0.75      0.63      0.68       457\n",
      "           3       0.67      0.59      0.63       445\n",
      "           4       0.49      0.16      0.24       335\n",
      "\n",
      "    accuracy                           0.71      2934\n",
      "   macro avg       0.67      0.53      0.57      2934\n",
      "weighted avg       0.70      0.71      0.69      2934\n",
      "\n"
     ]
    }
   ],
   "source": [
    "print(classification_report(y_test, y8_race_pred))"
   ]
  },
  {
   "cell_type": "markdown",
   "id": "05a4f2c1",
   "metadata": {},
   "source": [
    "### 1.8.3 Mask: Histogram Equalizer1 --- Label age"
   ]
  },
  {
   "cell_type": "code",
   "execution_count": 34,
   "id": "f6648442",
   "metadata": {},
   "outputs": [],
   "source": [
    "X_train, X_test, y_train, y_test = train_test_split(Histogram1_2d, y3, test_size=0.3, random_state=42)"
   ]
  },
  {
   "cell_type": "code",
   "execution_count": 35,
   "id": "12c79c8b",
   "metadata": {},
   "outputs": [
    {
     "data": {
      "text/plain": [
       "GradientBoostingClassifier(learning_rate=0.05, max_features=5, n_estimators=500,\n",
       "                           random_state=100)"
      ]
     },
     "execution_count": 35,
     "metadata": {},
     "output_type": "execute_result"
    }
   ],
   "source": [
    "gbc.fit(X_train,y_train)"
   ]
  },
  {
   "cell_type": "code",
   "execution_count": 36,
   "id": "4c8b4c49",
   "metadata": {},
   "outputs": [],
   "source": [
    "y8_age_pred = gbc.predict(X_test)"
   ]
  },
  {
   "cell_type": "code",
   "execution_count": 37,
   "id": "2ecf34e8",
   "metadata": {},
   "outputs": [
    {
     "name": "stdout",
     "output_type": "stream",
     "text": [
      "GBC accuracy is 0.54\n"
     ]
    }
   ],
   "source": [
    "GBC_accuracy_score = accuracy_score(y_test, y8_age_pred)\n",
    "print(\"GBC accuracy is %2.2f\" % GBC_accuracy_score)"
   ]
  },
  {
   "cell_type": "code",
   "execution_count": 38,
   "id": "19cb0bc7",
   "metadata": {},
   "outputs": [
    {
     "name": "stdout",
     "output_type": "stream",
     "text": [
      "[[431  27   0   1   5   6   1  12   2]\n",
      " [ 84  63  11   2  12  18   2  10   0]\n",
      " [ 17  25  20   2  39  31   4   8   0]\n",
      " [ 10   9  11   4  38  30   0   9   1]\n",
      " [  6   5   4   5 109 144  17  38   1]\n",
      " [  6   4   2   0  30 441  53  80   2]\n",
      " [  0   3   1   0   9 115 104 125   1]\n",
      " [  4   1   1   0  14  81  48 397  10]\n",
      " [  0   0   0   0   4   8   4  91  21]]\n"
     ]
    }
   ],
   "source": [
    "print(confusion_matrix(y_test, y8_age_pred))"
   ]
  },
  {
   "cell_type": "code",
   "execution_count": 39,
   "id": "647e709e",
   "metadata": {},
   "outputs": [
    {
     "name": "stdout",
     "output_type": "stream",
     "text": [
      "              precision    recall  f1-score   support\n",
      "\n",
      "           1       0.77      0.89      0.83       485\n",
      "           2       0.46      0.31      0.37       202\n",
      "           3       0.40      0.14      0.20       146\n",
      "           4       0.29      0.04      0.06       112\n",
      "           5       0.42      0.33      0.37       329\n",
      "           6       0.50      0.71      0.59       618\n",
      "           7       0.45      0.29      0.35       358\n",
      "           8       0.52      0.71      0.60       556\n",
      "           9       0.55      0.16      0.25       128\n",
      "\n",
      "    accuracy                           0.54      2934\n",
      "   macro avg       0.48      0.40      0.40      2934\n",
      "weighted avg       0.52      0.54      0.51      2934\n",
      "\n"
     ]
    }
   ],
   "source": [
    "print(classification_report(y_test, y8_age_pred))"
   ]
  },
  {
   "cell_type": "markdown",
   "id": "d8828488",
   "metadata": {},
   "source": [
    "### 1.9 Histogram Equalizer 2\n",
    "### 1.9.1 Mask: Histogram Equalizer 2 --- Label: gender"
   ]
  },
  {
   "cell_type": "code",
   "execution_count": 40,
   "id": "ed9e3933",
   "metadata": {},
   "outputs": [],
   "source": [
    "nsamples, nx, ny, n= Histogram2.shape\n",
    "Histogram2_2d = Histogram2.reshape((nsamples,nx*ny*n))"
   ]
  },
  {
   "cell_type": "code",
   "execution_count": 41,
   "id": "7374618c",
   "metadata": {},
   "outputs": [],
   "source": [
    "X_train, X_test, y_train, y_test = train_test_split(Histogram2_2d, y1, test_size=0.3, random_state=42)"
   ]
  },
  {
   "cell_type": "code",
   "execution_count": 42,
   "id": "08df4db9",
   "metadata": {},
   "outputs": [
    {
     "data": {
      "text/plain": [
       "GradientBoostingClassifier(learning_rate=0.05, max_features=5, n_estimators=500,\n",
       "                           random_state=100)"
      ]
     },
     "execution_count": 42,
     "metadata": {},
     "output_type": "execute_result"
    }
   ],
   "source": [
    "gbc.fit(X_train,y_train)"
   ]
  },
  {
   "cell_type": "code",
   "execution_count": 43,
   "id": "72ac5383",
   "metadata": {},
   "outputs": [],
   "source": [
    "y9_gender_pred = gbc.predict(X_test)"
   ]
  },
  {
   "cell_type": "code",
   "execution_count": 44,
   "id": "086fac86",
   "metadata": {},
   "outputs": [
    {
     "name": "stdout",
     "output_type": "stream",
     "text": [
      "GBC accuracy is 0.78\n"
     ]
    }
   ],
   "source": [
    "GBC_accuracy_score = accuracy_score(y_test, y9_gender_pred)\n",
    "print(\"GBC accuracy is %2.2f\" % GBC_accuracy_score)"
   ]
  },
  {
   "cell_type": "code",
   "execution_count": 45,
   "id": "84c7fb31",
   "metadata": {},
   "outputs": [
    {
     "name": "stdout",
     "output_type": "stream",
     "text": [
      "[[ 961  324]\n",
      " [ 323 1326]]\n"
     ]
    }
   ],
   "source": [
    "print(confusion_matrix(y_test, y9_gender_pred))"
   ]
  },
  {
   "cell_type": "code",
   "execution_count": 46,
   "id": "5ea10597",
   "metadata": {},
   "outputs": [
    {
     "name": "stdout",
     "output_type": "stream",
     "text": [
      "              precision    recall  f1-score   support\n",
      "\n",
      "           0       0.75      0.75      0.75      1285\n",
      "           1       0.80      0.80      0.80      1649\n",
      "\n",
      "    accuracy                           0.78      2934\n",
      "   macro avg       0.78      0.78      0.78      2934\n",
      "weighted avg       0.78      0.78      0.78      2934\n",
      "\n"
     ]
    }
   ],
   "source": [
    "print(classification_report(y_test, y9_gender_pred))"
   ]
  },
  {
   "cell_type": "markdown",
   "id": "9ec64745",
   "metadata": {},
   "source": [
    "### 1.9.2 Mask: Histogram Equalizer 2 --- Label: race "
   ]
  },
  {
   "cell_type": "code",
   "execution_count": 47,
   "id": "e2cd9f68",
   "metadata": {},
   "outputs": [],
   "source": [
    "X_train, X_test, y_train, y_test = train_test_split(Histogram2_2d, y2, test_size=0.3, random_state=42)"
   ]
  },
  {
   "cell_type": "code",
   "execution_count": 48,
   "id": "571c9fa6",
   "metadata": {},
   "outputs": [
    {
     "data": {
      "text/plain": [
       "GradientBoostingClassifier(learning_rate=0.05, max_features=5, n_estimators=500,\n",
       "                           random_state=100)"
      ]
     },
     "execution_count": 48,
     "metadata": {},
     "output_type": "execute_result"
    }
   ],
   "source": [
    "gbc.fit(X_train,y_train)"
   ]
  },
  {
   "cell_type": "code",
   "execution_count": 49,
   "id": "4d3da7ab",
   "metadata": {},
   "outputs": [],
   "source": [
    "y9_race_pred = gbc.predict(X_test)"
   ]
  },
  {
   "cell_type": "code",
   "execution_count": 50,
   "id": "c5473b5c",
   "metadata": {},
   "outputs": [
    {
     "name": "stdout",
     "output_type": "stream",
     "text": [
      "GBC accuracy is 0.70\n"
     ]
    }
   ],
   "source": [
    "GBC_accuracy_score = accuracy_score(y_test, y9_race_pred)\n",
    "print(\"GBC accuracy is %2.2f\" % GBC_accuracy_score)"
   ]
  },
  {
   "cell_type": "code",
   "execution_count": 51,
   "id": "a9470bdc",
   "metadata": {},
   "outputs": [
    {
     "name": "stdout",
     "output_type": "stream",
     "text": [
      "[[1481    0   40   52    5]\n",
      " [  63   22    8   19    7]\n",
      " [ 140    2  297   15    3]\n",
      " [ 179    3   25  225   13]\n",
      " [ 224    1   33   43   34]]\n"
     ]
    }
   ],
   "source": [
    "print(confusion_matrix(y_test, y9_race_pred))"
   ]
  },
  {
   "cell_type": "code",
   "execution_count": 52,
   "id": "b40f5822",
   "metadata": {},
   "outputs": [
    {
     "name": "stdout",
     "output_type": "stream",
     "text": [
      "              precision    recall  f1-score   support\n",
      "\n",
      "           0       0.71      0.94      0.81      1578\n",
      "           1       0.79      0.18      0.30       119\n",
      "           2       0.74      0.65      0.69       457\n",
      "           3       0.64      0.51      0.56       445\n",
      "           4       0.55      0.10      0.17       335\n",
      "\n",
      "    accuracy                           0.70      2934\n",
      "   macro avg       0.68      0.48      0.51      2934\n",
      "weighted avg       0.69      0.70      0.66      2934\n",
      "\n"
     ]
    }
   ],
   "source": [
    "print(classification_report(y_test, y9_race_pred))"
   ]
  },
  {
   "cell_type": "markdown",
   "id": "16108567",
   "metadata": {},
   "source": [
    "### 1.9.3 Mask: Histogram Equalizer 2 --- Label : age"
   ]
  },
  {
   "cell_type": "code",
   "execution_count": 53,
   "id": "5a4ad50c",
   "metadata": {},
   "outputs": [],
   "source": [
    "X_train, X_test, y_train, y_test = train_test_split(Histogram2_2d, y3, test_size=0.3, random_state=42)"
   ]
  },
  {
   "cell_type": "code",
   "execution_count": 54,
   "id": "3fbc9c10",
   "metadata": {},
   "outputs": [
    {
     "data": {
      "text/plain": [
       "GradientBoostingClassifier(learning_rate=0.05, max_features=5, n_estimators=500,\n",
       "                           random_state=100)"
      ]
     },
     "execution_count": 54,
     "metadata": {},
     "output_type": "execute_result"
    }
   ],
   "source": [
    "gbc.fit(X_train,y_train)"
   ]
  },
  {
   "cell_type": "code",
   "execution_count": 55,
   "id": "7de5a359",
   "metadata": {},
   "outputs": [],
   "source": [
    "y9_age_pred = gbc.predict(X_test)"
   ]
  },
  {
   "cell_type": "code",
   "execution_count": 56,
   "id": "884ae862",
   "metadata": {},
   "outputs": [
    {
     "name": "stdout",
     "output_type": "stream",
     "text": [
      "GBC accuracy is 0.54\n"
     ]
    }
   ],
   "source": [
    "GBC_accuracy_score = accuracy_score(y_test, y9_age_pred)\n",
    "print(\"GBC accuracy is %2.2f\" % GBC_accuracy_score)"
   ]
  },
  {
   "cell_type": "code",
   "execution_count": 57,
   "id": "502b967e",
   "metadata": {},
   "outputs": [
    {
     "name": "stdout",
     "output_type": "stream",
     "text": [
      "[[444  16   1   1   2   7   3  10   1]\n",
      " [ 94  62   4   0  19  13   1   9   0]\n",
      " [ 17  27  14   4  38  35   4   7   0]\n",
      " [  9  14   7   2  34  30   5  10   1]\n",
      " [  4   8   5   5 110 151  13  32   1]\n",
      " [  4   6   1   0  28 445  62  72   0]\n",
      " [  1   3   0   0   7 123 103 121   0]\n",
      " [  2   1   2   2  16  76  58 393   6]\n",
      " [  1   0   0   0   5   7   4  93  18]]\n"
     ]
    }
   ],
   "source": [
    "print(confusion_matrix(y_test, y9_age_pred))"
   ]
  },
  {
   "cell_type": "code",
   "execution_count": 58,
   "id": "7d7c7ef7",
   "metadata": {},
   "outputs": [
    {
     "name": "stdout",
     "output_type": "stream",
     "text": [
      "              precision    recall  f1-score   support\n",
      "\n",
      "           1       0.77      0.92      0.84       485\n",
      "           2       0.45      0.31      0.37       202\n",
      "           3       0.41      0.10      0.16       146\n",
      "           4       0.14      0.02      0.03       112\n",
      "           5       0.42      0.33      0.37       329\n",
      "           6       0.50      0.72      0.59       618\n",
      "           7       0.41      0.29      0.34       358\n",
      "           8       0.53      0.71      0.60       556\n",
      "           9       0.67      0.14      0.23       128\n",
      "\n",
      "    accuracy                           0.54      2934\n",
      "   macro avg       0.48      0.39      0.39      2934\n",
      "weighted avg       0.52      0.54      0.50      2934\n",
      "\n"
     ]
    }
   ],
   "source": [
    "print(classification_report(y_test, y9_age_pred))"
   ]
  },
  {
   "cell_type": "markdown",
   "id": "bc0ed989",
   "metadata": {},
   "source": [
    "### 1.10 Histogram Equalizer 3\n",
    "### 1.10.1 Histogram Equalizer 3 --- label gender"
   ]
  },
  {
   "cell_type": "code",
   "execution_count": 59,
   "id": "cc66a8a6",
   "metadata": {},
   "outputs": [],
   "source": [
    "nsamples, nx, ny, n= Histogram3.shape\n",
    "Histogram3_2d = Histogram3.reshape((nsamples,nx*ny*n))"
   ]
  },
  {
   "cell_type": "code",
   "execution_count": 60,
   "id": "36abf5e2",
   "metadata": {},
   "outputs": [],
   "source": [
    "X_train, X_test, y_train, y_test = train_test_split(Histogram3_2d, y1, test_size=0.3, random_state=42)"
   ]
  },
  {
   "cell_type": "code",
   "execution_count": 61,
   "id": "eaa84815",
   "metadata": {},
   "outputs": [
    {
     "data": {
      "text/plain": [
       "GradientBoostingClassifier(learning_rate=0.05, max_features=5, n_estimators=500,\n",
       "                           random_state=100)"
      ]
     },
     "execution_count": 61,
     "metadata": {},
     "output_type": "execute_result"
    }
   ],
   "source": [
    "gbc.fit(X_train,y_train)"
   ]
  },
  {
   "cell_type": "code",
   "execution_count": 62,
   "id": "b25302c8",
   "metadata": {},
   "outputs": [],
   "source": [
    "y10_gender_pred = gbc.predict(X_test)"
   ]
  },
  {
   "cell_type": "code",
   "execution_count": 63,
   "id": "945e37ff",
   "metadata": {},
   "outputs": [
    {
     "name": "stdout",
     "output_type": "stream",
     "text": [
      "GBC accuracy is 0.79\n"
     ]
    }
   ],
   "source": [
    "GBC_accuracy_score = accuracy_score(y_test, y10_gender_pred)\n",
    "print(\"GBC accuracy is %2.2f\" % GBC_accuracy_score)"
   ]
  },
  {
   "cell_type": "code",
   "execution_count": 64,
   "id": "d2bdcff9",
   "metadata": {},
   "outputs": [
    {
     "name": "stdout",
     "output_type": "stream",
     "text": [
      "[[ 967  318]\n",
      " [ 287 1362]]\n"
     ]
    }
   ],
   "source": [
    "print(confusion_matrix(y_test, y10_gender_pred))"
   ]
  },
  {
   "cell_type": "code",
   "execution_count": 65,
   "id": "5e13fe49",
   "metadata": {},
   "outputs": [
    {
     "name": "stdout",
     "output_type": "stream",
     "text": [
      "              precision    recall  f1-score   support\n",
      "\n",
      "           0       0.77      0.75      0.76      1285\n",
      "           1       0.81      0.83      0.82      1649\n",
      "\n",
      "    accuracy                           0.79      2934\n",
      "   macro avg       0.79      0.79      0.79      2934\n",
      "weighted avg       0.79      0.79      0.79      2934\n",
      "\n"
     ]
    }
   ],
   "source": [
    "print(classification_report(y_test, y10_gender_pred))"
   ]
  },
  {
   "cell_type": "markdown",
   "id": "1a11e291",
   "metadata": {},
   "source": [
    "### 1.10.2 Histogram Equalizer 3 --- Label race"
   ]
  },
  {
   "cell_type": "code",
   "execution_count": 66,
   "id": "98135012",
   "metadata": {},
   "outputs": [],
   "source": [
    "X_train, X_test, y_train, y_test = train_test_split(Histogram3_2d, y2, test_size=0.3, random_state=42)"
   ]
  },
  {
   "cell_type": "code",
   "execution_count": 67,
   "id": "877c81f6",
   "metadata": {},
   "outputs": [
    {
     "data": {
      "text/plain": [
       "GradientBoostingClassifier(learning_rate=0.05, max_features=5, n_estimators=500,\n",
       "                           random_state=100)"
      ]
     },
     "execution_count": 67,
     "metadata": {},
     "output_type": "execute_result"
    }
   ],
   "source": [
    "gbc.fit(X_train,y_train)"
   ]
  },
  {
   "cell_type": "code",
   "execution_count": 68,
   "id": "c8f1e1ce",
   "metadata": {},
   "outputs": [],
   "source": [
    "y10_race_pred = gbc.predict(X_test)"
   ]
  },
  {
   "cell_type": "code",
   "execution_count": 69,
   "id": "37310012",
   "metadata": {},
   "outputs": [
    {
     "name": "stdout",
     "output_type": "stream",
     "text": [
      "GBC accuracy is 0.71\n"
     ]
    }
   ],
   "source": [
    "GBC_accuracy_score = accuracy_score(y_test, y10_race_pred)\n",
    "print(\"GBC accuracy is %2.2f\" % GBC_accuracy_score)"
   ]
  },
  {
   "cell_type": "code",
   "execution_count": 70,
   "id": "ecedeca9",
   "metadata": {},
   "outputs": [
    {
     "name": "stdout",
     "output_type": "stream",
     "text": [
      "[[1486    1   38   41   12]\n",
      " [  49   30    5   27    8]\n",
      " [ 139    4  292   12   10]\n",
      " [ 160    1   26  244   14]\n",
      " [ 227    5   22   39   42]]\n"
     ]
    }
   ],
   "source": [
    "print(confusion_matrix(y_test, y10_race_pred))"
   ]
  },
  {
   "cell_type": "code",
   "execution_count": 71,
   "id": "6903d88c",
   "metadata": {},
   "outputs": [
    {
     "name": "stdout",
     "output_type": "stream",
     "text": [
      "              precision    recall  f1-score   support\n",
      "\n",
      "           0       0.72      0.94      0.82      1578\n",
      "           1       0.73      0.25      0.37       119\n",
      "           2       0.76      0.64      0.70       457\n",
      "           3       0.67      0.55      0.60       445\n",
      "           4       0.49      0.13      0.20       335\n",
      "\n",
      "    accuracy                           0.71      2934\n",
      "   macro avg       0.68      0.50      0.54      2934\n",
      "weighted avg       0.69      0.71      0.68      2934\n",
      "\n"
     ]
    }
   ],
   "source": [
    "print(classification_report(y_test, y10_race_pred))"
   ]
  },
  {
   "cell_type": "markdown",
   "id": "47d857a9",
   "metadata": {},
   "source": [
    "### 1.10.3 Histogram Equalizer 3 --- Label age"
   ]
  },
  {
   "cell_type": "code",
   "execution_count": 72,
   "id": "ccf2bafd",
   "metadata": {},
   "outputs": [],
   "source": [
    "X_train, X_test, y_train, y_test = train_test_split(Histogram3_2d, y3, test_size=0.3, random_state=42)"
   ]
  },
  {
   "cell_type": "code",
   "execution_count": 73,
   "id": "0fe78977",
   "metadata": {},
   "outputs": [
    {
     "data": {
      "text/plain": [
       "GradientBoostingClassifier(learning_rate=0.05, max_features=5, n_estimators=500,\n",
       "                           random_state=100)"
      ]
     },
     "execution_count": 73,
     "metadata": {},
     "output_type": "execute_result"
    }
   ],
   "source": [
    "gbc.fit(X_train,y_train)"
   ]
  },
  {
   "cell_type": "code",
   "execution_count": 74,
   "id": "2b613a0f",
   "metadata": {},
   "outputs": [],
   "source": [
    "y10_age_pred = gbc.predict(X_test)"
   ]
  },
  {
   "cell_type": "code",
   "execution_count": 75,
   "id": "a12b014b",
   "metadata": {},
   "outputs": [
    {
     "name": "stdout",
     "output_type": "stream",
     "text": [
      "GBC accuracy is 0.54\n"
     ]
    }
   ],
   "source": [
    "GBC_accuracy_score = accuracy_score(y_test, y10_age_pred)\n",
    "print(\"GBC accuracy is %2.2f\" % GBC_accuracy_score)"
   ]
  },
  {
   "cell_type": "code",
   "execution_count": 76,
   "id": "0df6b897",
   "metadata": {},
   "outputs": [
    {
     "name": "stdout",
     "output_type": "stream",
     "text": [
      "[[439  16   1   1   0   9   0  19   0]\n",
      " [ 87  58  10   0  19  19   1   8   0]\n",
      " [ 21  25  16   3  41  28   4   8   0]\n",
      " [  7   8   4   4  48  24   4  13   0]\n",
      " [  6   9   5   7 107 147  10  38   0]\n",
      " [  5   7   1   0  35 434  63  73   0]\n",
      " [  0   4   1   0   9 126  92 126   0]\n",
      " [  4   1   0   1  13  93  28 408   8]\n",
      " [  0   1   0   0   2   3   3  98  21]]\n"
     ]
    }
   ],
   "source": [
    "print(confusion_matrix(y_test, y10_age_pred))"
   ]
  },
  {
   "cell_type": "code",
   "execution_count": 77,
   "id": "60b06894",
   "metadata": {},
   "outputs": [
    {
     "name": "stdout",
     "output_type": "stream",
     "text": [
      "              precision    recall  f1-score   support\n",
      "\n",
      "           1       0.77      0.91      0.83       485\n",
      "           2       0.45      0.29      0.35       202\n",
      "           3       0.42      0.11      0.17       146\n",
      "           4       0.25      0.04      0.06       112\n",
      "           5       0.39      0.33      0.35       329\n",
      "           6       0.49      0.70      0.58       618\n",
      "           7       0.45      0.26      0.33       358\n",
      "           8       0.52      0.73      0.61       556\n",
      "           9       0.72      0.16      0.27       128\n",
      "\n",
      "    accuracy                           0.54      2934\n",
      "   macro avg       0.50      0.39      0.39      2934\n",
      "weighted avg       0.52      0.54      0.50      2934\n",
      "\n"
     ]
    }
   ],
   "source": [
    "print(classification_report(y_test, y10_age_pred))"
   ]
  },
  {
   "cell_type": "code",
   "execution_count": null,
   "id": "4ba21538",
   "metadata": {},
   "outputs": [],
   "source": []
  }
 ],
 "metadata": {
  "kernelspec": {
   "display_name": "Python 3 (ipykernel)",
   "language": "python",
   "name": "python3"
  },
  "language_info": {
   "codemirror_mode": {
    "name": "ipython",
    "version": 3
   },
   "file_extension": ".py",
   "mimetype": "text/x-python",
   "name": "python",
   "nbconvert_exporter": "python",
   "pygments_lexer": "ipython3",
   "version": "3.9.7"
  }
 },
 "nbformat": 4,
 "nbformat_minor": 5
}
