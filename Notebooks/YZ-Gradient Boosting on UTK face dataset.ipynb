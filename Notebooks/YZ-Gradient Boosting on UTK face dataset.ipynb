{
 "cells": [
  {
   "cell_type": "code",
   "execution_count": 35,
   "id": "d4fb08cf",
   "metadata": {},
   "outputs": [],
   "source": [
    "import pandas as pd\n",
    "import numpy as np\n",
    "from os import listdir\n",
    "from os.path import isfile, join\n",
    "import matplotlib.pyplot as plt\n",
    "from sklearn.ensemble import GradientBoostingClassifier\n",
    "from sklearn.preprocessing import StandardScaler\n",
    "from sklearn.model_selection import train_test_split\n",
    "from sklearn.metrics import accuracy_score, confusion_matrix\n",
    "from sklearn import preprocessing\n",
    "from sklearn.metrics import classification_report\n",
    "# for balance labels\n",
    "from sklearn.datasets import fetch_openml\n",
    "from sklearn.model_selection import train_test_split\n",
    "import seaborn as sns\n",
    "import statsmodels.api as sm\n",
    "import cv2\n",
    "from collections import Counter\n",
    "from imblearn.over_sampling import RandomOverSampler\n",
    "from sklearn.preprocessing import LabelEncoder\n",
    "\n",
    "%matplotlib inline"
   ]
  },
  {
   "cell_type": "code",
   "execution_count": 67,
   "id": "f4deeadc-efdc-4779-b7ea-0e37c3a0b16a",
   "metadata": {},
   "outputs": [],
   "source": [
    "# from imblearn.over_sampling import SMOTE\n",
    "from imblearn.over_sampling import (RandomOverSampler, \n",
    "                                    SMOTE, \n",
    "                                    ADASYN)"
   ]
  },
  {
   "cell_type": "markdown",
   "id": "83268871",
   "metadata": {},
   "source": [
    "### 1. Get all the labels"
   ]
  },
  {
   "cell_type": "code",
   "execution_count": 40,
   "id": "c0d632fc",
   "metadata": {},
   "outputs": [],
   "source": [
    "mypath = '/Users/yinzi/Downloads/UTKFace'\n",
    "filenames = np.array([f for f in listdir(mypath) if isfile(join(mypath, f))])\n",
    "splitcolumns = [x.split('_')[0:3] + [mypath +'/' + x] for x in filenames if x.count('_') == 3]\n",
    "filecolumns = ['age','gender','race','file']\n",
    "df = pd.DataFrame(data = splitcolumns, columns = filecolumns)"
   ]
  },
  {
   "cell_type": "code",
   "execution_count": 41,
   "id": "d02244d0",
   "metadata": {},
   "outputs": [
    {
     "data": {
      "text/html": [
       "<div>\n",
       "<style scoped>\n",
       "    .dataframe tbody tr th:only-of-type {\n",
       "        vertical-align: middle;\n",
       "    }\n",
       "\n",
       "    .dataframe tbody tr th {\n",
       "        vertical-align: top;\n",
       "    }\n",
       "\n",
       "    .dataframe thead th {\n",
       "        text-align: right;\n",
       "    }\n",
       "</style>\n",
       "<table border=\"1\" class=\"dataframe\">\n",
       "  <thead>\n",
       "    <tr style=\"text-align: right;\">\n",
       "      <th></th>\n",
       "      <th>age</th>\n",
       "      <th>gender</th>\n",
       "      <th>race</th>\n",
       "      <th>file</th>\n",
       "    </tr>\n",
       "  </thead>\n",
       "  <tbody>\n",
       "    <tr>\n",
       "      <th>0</th>\n",
       "      <td>9</td>\n",
       "      <td>1</td>\n",
       "      <td>2</td>\n",
       "      <td>/Users/yinzi/Downloads/UTKFace/9_1_2_201612192...</td>\n",
       "    </tr>\n",
       "    <tr>\n",
       "      <th>1</th>\n",
       "      <td>36</td>\n",
       "      <td>0</td>\n",
       "      <td>1</td>\n",
       "      <td>/Users/yinzi/Downloads/UTKFace/36_0_1_20170117...</td>\n",
       "    </tr>\n",
       "    <tr>\n",
       "      <th>2</th>\n",
       "      <td>86</td>\n",
       "      <td>1</td>\n",
       "      <td>0</td>\n",
       "      <td>/Users/yinzi/Downloads/UTKFace/86_1_0_20170120...</td>\n",
       "    </tr>\n",
       "    <tr>\n",
       "      <th>3</th>\n",
       "      <td>26</td>\n",
       "      <td>1</td>\n",
       "      <td>0</td>\n",
       "      <td>/Users/yinzi/Downloads/UTKFace/26_1_0_20170116...</td>\n",
       "    </tr>\n",
       "    <tr>\n",
       "      <th>4</th>\n",
       "      <td>1</td>\n",
       "      <td>1</td>\n",
       "      <td>2</td>\n",
       "      <td>/Users/yinzi/Downloads/UTKFace/1_1_2_201612191...</td>\n",
       "    </tr>\n",
       "  </tbody>\n",
       "</table>\n",
       "</div>"
      ],
      "text/plain": [
       "  age gender race                                               file\n",
       "0   9      1    2  /Users/yinzi/Downloads/UTKFace/9_1_2_201612192...\n",
       "1  36      0    1  /Users/yinzi/Downloads/UTKFace/36_0_1_20170117...\n",
       "2  86      1    0  /Users/yinzi/Downloads/UTKFace/86_1_0_20170120...\n",
       "3  26      1    0  /Users/yinzi/Downloads/UTKFace/26_1_0_20170116...\n",
       "4   1      1    2  /Users/yinzi/Downloads/UTKFace/1_1_2_201612191..."
      ]
     },
     "execution_count": 41,
     "metadata": {},
     "output_type": "execute_result"
    }
   ],
   "source": [
    "df.head()"
   ]
  },
  {
   "cell_type": "code",
   "execution_count": 42,
   "id": "7e3e07ba",
   "metadata": {},
   "outputs": [
    {
     "name": "stdout",
     "output_type": "stream",
     "text": [
      "<class 'pandas.core.frame.DataFrame'>\n",
      "RangeIndex: 23705 entries, 0 to 23704\n",
      "Data columns (total 4 columns):\n",
      " #   Column  Non-Null Count  Dtype \n",
      "---  ------  --------------  ----- \n",
      " 0   age     23705 non-null  object\n",
      " 1   gender  23705 non-null  object\n",
      " 2   race    23705 non-null  object\n",
      " 3   file    23705 non-null  object\n",
      "dtypes: object(4)\n",
      "memory usage: 740.9+ KB\n"
     ]
    }
   ],
   "source": [
    "df.info()"
   ]
  },
  {
   "cell_type": "code",
   "execution_count": 43,
   "id": "9393e79e",
   "metadata": {},
   "outputs": [
    {
     "data": {
      "text/plain": [
       "age       23705\n",
       "gender    23705\n",
       "race      23705\n",
       "file      23705\n",
       "dtype: int64"
      ]
     },
     "execution_count": 43,
     "metadata": {},
     "output_type": "execute_result"
    }
   ],
   "source": [
    "df.count()"
   ]
  },
  {
   "cell_type": "code",
   "execution_count": 44,
   "id": "17977536",
   "metadata": {},
   "outputs": [
    {
     "data": {
      "text/html": [
       "<div>\n",
       "<style scoped>\n",
       "    .dataframe tbody tr th:only-of-type {\n",
       "        vertical-align: middle;\n",
       "    }\n",
       "\n",
       "    .dataframe tbody tr th {\n",
       "        vertical-align: top;\n",
       "    }\n",
       "\n",
       "    .dataframe thead th {\n",
       "        text-align: right;\n",
       "    }\n",
       "</style>\n",
       "<table border=\"1\" class=\"dataframe\">\n",
       "  <thead>\n",
       "    <tr style=\"text-align: right;\">\n",
       "      <th></th>\n",
       "      <th>age</th>\n",
       "      <th>gender</th>\n",
       "      <th>race</th>\n",
       "      <th>file</th>\n",
       "    </tr>\n",
       "  </thead>\n",
       "  <tbody>\n",
       "    <tr>\n",
       "      <th>count</th>\n",
       "      <td>23705</td>\n",
       "      <td>23705</td>\n",
       "      <td>23705</td>\n",
       "      <td>23705</td>\n",
       "    </tr>\n",
       "    <tr>\n",
       "      <th>unique</th>\n",
       "      <td>104</td>\n",
       "      <td>2</td>\n",
       "      <td>5</td>\n",
       "      <td>23705</td>\n",
       "    </tr>\n",
       "    <tr>\n",
       "      <th>top</th>\n",
       "      <td>26</td>\n",
       "      <td>0</td>\n",
       "      <td>0</td>\n",
       "      <td>/Users/yinzi/Downloads/UTKFace/9_1_2_201612192...</td>\n",
       "    </tr>\n",
       "    <tr>\n",
       "      <th>freq</th>\n",
       "      <td>2197</td>\n",
       "      <td>12391</td>\n",
       "      <td>10078</td>\n",
       "      <td>1</td>\n",
       "    </tr>\n",
       "  </tbody>\n",
       "</table>\n",
       "</div>"
      ],
      "text/plain": [
       "          age gender   race                                               file\n",
       "count   23705  23705  23705                                              23705\n",
       "unique    104      2      5                                              23705\n",
       "top        26      0      0  /Users/yinzi/Downloads/UTKFace/9_1_2_201612192...\n",
       "freq     2197  12391  10078                                                  1"
      ]
     },
     "execution_count": 44,
     "metadata": {},
     "output_type": "execute_result"
    }
   ],
   "source": [
    "df.describe()"
   ]
  },
  {
   "cell_type": "code",
   "execution_count": 46,
   "id": "323f2a05",
   "metadata": {},
   "outputs": [
    {
     "name": "stdout",
     "output_type": "stream",
     "text": [
      "['1' '0']\n",
      "['2' '1' '0' '3' '4']\n",
      "['9' '36' '86' '26' '1' '52' '25' '16' '27' '58' '6' '35' '2' '53' '23'\n",
      " '24' '75' '50' '15' '37' '10' '22' '29' '21' '46' '17' '63' '34' '61'\n",
      " '18' '20' '32' '30' '45' '31' '43' '3' '54' '60' '49' '59' '41' '82' '40'\n",
      " '5' '44' '76' '8' '28' '56' '39' '4' '96' '12' '67' '47' '48' '19' '62'\n",
      " '38' '71' '89' '90' '14' '68' '33' '80' '42' '65' '57' '7' '69' '55' '85'\n",
      " '78' '81' '13' '51' '66' '79' '64' '83' '11' '87' '77' '73' '70' '74'\n",
      " '92' '72' '88' '99' '84' '100' '93' '105' '95' '116' '103' '110' '91'\n",
      " '101' '111' '115']\n"
     ]
    }
   ],
   "source": [
    "print(df['gender'].unique())\n",
    "print(df['race'].unique())\n",
    "print((df['age'].unique()))"
   ]
  },
  {
   "cell_type": "code",
   "execution_count": 47,
   "id": "f47d4e13",
   "metadata": {},
   "outputs": [],
   "source": [
    "df['age']= df['age'].astype('int')\n",
    "df['gender']= df['gender'].astype('int')\n",
    "df['race']= df['race'].astype('int')"
   ]
  },
  {
   "cell_type": "code",
   "execution_count": 48,
   "id": "0ee269da-fd1f-4de5-8c52-0e9736738f6c",
   "metadata": {},
   "outputs": [],
   "source": [
    "# put the age in different interval\n",
    "df['age']=np.where(((df.age>=1) & (df.age<=2)), 1, df.age)\n",
    "df['age']=np.where(((df.age>=3) & (df.age<6)), 2, df.age)\n",
    "df['age']=np.where(((df.age>=6) & (df.age<9)), 3, df.age)\n",
    "df['age']=np.where(((df.age>=9) & (df.age<12)), 4, df.age)\n",
    "df['age']=np.where(((df.age>=12) & (df.age<21)), 5, df.age)\n",
    "df['age']=np.where(((df.age>=21) & (df.age<36)), 6, df.age)\n",
    "df['age']=np.where(((df.age>=36) & (df.age<51)), 7, df.age)\n",
    "df['age']=np.where(((df.age>=51) & (df.age<80)), 8, df.age)\n",
    "df['age']=np.where((df.age>=80), 9, df.age)"
   ]
  },
  {
   "cell_type": "code",
   "execution_count": 49,
   "id": "a47e6e5a-a164-49b1-a641-2e26ff85d394",
   "metadata": {},
   "outputs": [
    {
     "name": "stdout",
     "output_type": "stream",
     "text": [
      "[1, 2, 3, 4, 5, 6, 7, 8, 9]\n"
     ]
    }
   ],
   "source": [
    "print(sorted(df['age'].unique()))"
   ]
  },
  {
   "cell_type": "code",
   "execution_count": 59,
   "id": "29cae625-a862-4911-bf64-9fbc88cb6a3b",
   "metadata": {},
   "outputs": [
    {
     "data": {
      "text/plain": [
       "23705"
      ]
     },
     "execution_count": 59,
     "metadata": {},
     "output_type": "execute_result"
    }
   ],
   "source": [
    "df['age'].count()"
   ]
  },
  {
   "cell_type": "markdown",
   "id": "bdd604f9",
   "metadata": {},
   "source": [
    "### 2. show the image"
   ]
  },
  {
   "cell_type": "code",
   "execution_count": 50,
   "id": "ef208964",
   "metadata": {},
   "outputs": [
    {
     "data": {
      "text/plain": [
       "'/Users/yinzi/Downloads/UTKFace/9_1_2_20161219204347420.jpg.chip.jpg'"
      ]
     },
     "execution_count": 50,
     "metadata": {},
     "output_type": "execute_result"
    }
   ],
   "source": [
    "df['file'][0]"
   ]
  },
  {
   "cell_type": "code",
   "execution_count": 51,
   "id": "36822f68",
   "metadata": {},
   "outputs": [
    {
     "data": {
      "text/plain": [
       "(200, 200, 3)"
      ]
     },
     "execution_count": 51,
     "metadata": {},
     "output_type": "execute_result"
    }
   ],
   "source": [
    "image1 = plt.imread(df['file'][0])\n",
    "image1.shape"
   ]
  },
  {
   "cell_type": "code",
   "execution_count": 52,
   "id": "96ac6525",
   "metadata": {},
   "outputs": [
    {
     "data": {
      "image/png": "[encoded data removed]",
      "text/plain": [
       "<Figure size 432x288 with 1 Axes>"
      ]
     },
     "metadata": {
      "needs_background": "light"
     },
     "output_type": "display_data"
    }
   ],
   "source": [
    "image2 = plt.imread(df['file'][50])\n",
    "plt.imshow(image2)\n",
    "plt.show()"
   ]
  },
  {
   "cell_type": "markdown",
   "id": "2e07e096-fc02-4710-8dd9-6e13e612694a",
   "metadata": {},
   "source": [
    "### 3. balancing the age label"
   ]
  },
  {
   "cell_type": "code",
   "execution_count": 55,
   "id": "0da6e1f6-4102-478a-b490-2d26cfeeb4a9",
   "metadata": {},
   "outputs": [
    {
     "data": {
      "text/plain": [
       "6    10230\n",
       "7     3992\n",
       "8     3933\n",
       "1     1605\n",
       "5     1594\n",
       "2      758\n",
       "9      673\n",
       "3      533\n",
       "4      387\n",
       "Name: age, dtype: int64"
      ]
     },
     "execution_count": 55,
     "metadata": {},
     "output_type": "execute_result"
    }
   ],
   "source": [
    "df['age'].value_counts()"
   ]
  },
  {
   "cell_type": "code",
   "execution_count": 54,
   "id": "a92bcbde-a37b-42fd-8a12-8f6658321a44",
   "metadata": {},
   "outputs": [
    {
     "data": {
      "text/plain": [
       "(array([ 1605.,   758.,   533.,   387.,     0.,  1594., 10230.,  3992.,\n",
       "         3933.,   673.]),\n",
       " array([1. , 1.8, 2.6, 3.4, 4.2, 5. , 5.8, 6.6, 7.4, 8.2, 9. ]),\n",
       " <BarContainer object of 10 artists>)"
      ]
     },
     "execution_count": 54,
     "metadata": {},
     "output_type": "execute_result"
    },
    {
     "data": {
      "image/png": "[encoded data removed]",
      "text/plain": [
       "<Figure size 432x288 with 1 Axes>"
      ]
     },
     "metadata": {
      "needs_background": "light"
     },
     "output_type": "display_data"
    }
   ],
   "source": [
    "plt.hist(df['age'], bins=10)"
   ]
  },
  {
   "cell_type": "code",
   "execution_count": 62,
   "id": "95afdb61-5e08-4c65-8df0-c87fc93eb8b0",
   "metadata": {},
   "outputs": [
    {
     "data": {
      "text/plain": [
       "age       23705\n",
       "gender    23705\n",
       "race      23705\n",
       "file      23705\n",
       "dtype: int64"
      ]
     },
     "execution_count": 62,
     "metadata": {},
     "output_type": "execute_result"
    }
   ],
   "source": [
    "df.count()"
   ]
  },
  {
   "cell_type": "code",
   "execution_count": 70,
   "id": "24f86198-c27a-40f9-bfa7-3e5d313bb22b",
   "metadata": {},
   "outputs": [
    {
     "data": {
      "text/html": [
       "<div>\n",
       "<style scoped>\n",
       "    .dataframe tbody tr th:only-of-type {\n",
       "        vertical-align: middle;\n",
       "    }\n",
       "\n",
       "    .dataframe tbody tr th {\n",
       "        vertical-align: top;\n",
       "    }\n",
       "\n",
       "    .dataframe thead th {\n",
       "        text-align: right;\n",
       "    }\n",
       "</style>\n",
       "<table border=\"1\" class=\"dataframe\">\n",
       "  <thead>\n",
       "    <tr style=\"text-align: right;\">\n",
       "      <th></th>\n",
       "      <th>age</th>\n",
       "      <th>gender</th>\n",
       "      <th>race</th>\n",
       "      <th>file</th>\n",
       "    </tr>\n",
       "  </thead>\n",
       "  <tbody>\n",
       "    <tr>\n",
       "      <th>0</th>\n",
       "      <td>4</td>\n",
       "      <td>1</td>\n",
       "      <td>2</td>\n",
       "      <td>/Users/yinzi/Downloads/UTKFace/9_1_2_201612192...</td>\n",
       "    </tr>\n",
       "    <tr>\n",
       "      <th>1</th>\n",
       "      <td>7</td>\n",
       "      <td>0</td>\n",
       "      <td>1</td>\n",
       "      <td>/Users/yinzi/Downloads/UTKFace/36_0_1_20170117...</td>\n",
       "    </tr>\n",
       "    <tr>\n",
       "      <th>2</th>\n",
       "      <td>9</td>\n",
       "      <td>1</td>\n",
       "      <td>0</td>\n",
       "      <td>/Users/yinzi/Downloads/UTKFace/86_1_0_20170120...</td>\n",
       "    </tr>\n",
       "  </tbody>\n",
       "</table>\n",
       "</div>"
      ],
      "text/plain": [
       "   age  gender  race                                               file\n",
       "0    4       1     2  /Users/yinzi/Downloads/UTKFace/9_1_2_201612192...\n",
       "1    7       0     1  /Users/yinzi/Downloads/UTKFace/36_0_1_20170117...\n",
       "2    9       1     0  /Users/yinzi/Downloads/UTKFace/86_1_0_20170120..."
      ]
     },
     "execution_count": 70,
     "metadata": {},
     "output_type": "execute_result"
    }
   ],
   "source": [
    "df.head(3)"
   ]
  },
  {
   "cell_type": "code",
   "execution_count": 77,
   "id": "7a664e7b-9f7b-40c2-b0ce-39f0a6c1f534",
   "metadata": {},
   "outputs": [],
   "source": [
    "df1 = df.values"
   ]
  },
  {
   "cell_type": "code",
   "execution_count": 78,
   "id": "8b920a50-5880-4fc7-9254-3e5a0518913f",
   "metadata": {},
   "outputs": [],
   "source": [
    "X = df1[:, 1:4] \n",
    "y1 = df1[:,0]"
   ]
  },
  {
   "cell_type": "code",
   "execution_count": 79,
   "id": "2032af99-7da0-4ddf-baa1-b2488a9950b0",
   "metadata": {},
   "outputs": [],
   "source": [
    "# test_size = 0.3\n",
    "X_train, X_test, y_train, y_test = train_test_split(X, y1, test_size=0.30, random_state=42)"
   ]
  },
  {
   "cell_type": "code",
   "execution_count": 80,
   "id": "08e19de3-32f6-4948-8fd7-71db693334be",
   "metadata": {},
   "outputs": [
    {
     "data": {
      "text/plain": [
       "((16593, 3), (16593,), (7112, 3), (7112,))"
      ]
     },
     "execution_count": 80,
     "metadata": {},
     "output_type": "execute_result"
    }
   ],
   "source": [
    "X_train.shape, y_train.shape, X_test.shape, y_test.shape"
   ]
  },
  {
   "cell_type": "code",
   "execution_count": 81,
   "id": "8bfce016-11c4-4617-9a85-182da9cfef7a",
   "metadata": {},
   "outputs": [],
   "source": [
    "X3, y3 = X_train, y_train"
   ]
  },
  {
   "cell_type": "code",
   "execution_count": 82,
   "id": "7d5b1eca-d9ec-4924-8e3d-1c07b95e45d0",
   "metadata": {},
   "outputs": [
    {
     "name": "stdout",
     "output_type": "stream",
     "text": [
      "Class=5, n=7200 (43.392%)\n",
      "Class=7, n=2732 (16.465%)\n",
      "Class=3, n=258 (1.555%)\n",
      "Class=6, n=2818 (16.983%)\n",
      "Class=4, n=1114 (6.714%)\n",
      "Class=0, n=1093 (6.587%)\n",
      "Class=1, n=536 (3.230%)\n",
      "Class=8, n=473 (2.851%)\n",
      "Class=2, n=369 (2.224%)\n"
     ]
    }
   ],
   "source": [
    "y3 = LabelEncoder().fit_transform(y3)\n",
    "# summarize distribution\n",
    "counter = Counter(y3)\n",
    "for k,v in counter.items():\n",
    "    per = v / len(y3) * 100\n",
    "    print('Class=%d, n=%d (%.3f%%)' % (k, v, per))"
   ]
  },
  {
   "cell_type": "code",
   "execution_count": 83,
   "id": "cb7b35da-55c0-4351-92e6-cdb9040000e8",
   "metadata": {},
   "outputs": [
    {
     "name": "stdout",
     "output_type": "stream",
     "text": [
      "Class=5, n=7200 (11.111%)\n",
      "Class=7, n=7200 (11.111%)\n",
      "Class=3, n=7200 (11.111%)\n",
      "Class=6, n=7200 (11.111%)\n",
      "Class=4, n=7200 (11.111%)\n",
      "Class=0, n=7200 (11.111%)\n",
      "Class=1, n=7200 (11.111%)\n",
      "Class=8, n=7200 (11.111%)\n",
      "Class=2, n=7200 (11.111%)\n"
     ]
    }
   ],
   "source": [
    "# transform the dataset\n",
    "oversample = RandomOverSampler()\n",
    "X3, y3 = oversample.fit_resample(X3, y3)\n",
    "# summarize distribution\n",
    "counter = Counter(y3)\n",
    "for k,v in counter.items():\n",
    "    per = v / len(y3) * 100\n",
    "    print('Class=%d, n=%d (%.3f%%)' % (k, v, per))"
   ]
  },
  {
   "cell_type": "code",
   "execution_count": 84,
   "id": "94d81a59-8e09-4e38-aef0-31457608275c",
   "metadata": {},
   "outputs": [
    {
     "data": {
      "image/png": "[encoded data removed]",
      "text/plain": [
       "<Figure size 432x288 with 1 Axes>"
      ]
     },
     "metadata": {
      "needs_background": "light"
     },
     "output_type": "display_data"
    }
   ],
   "source": [
    "plt.bar(counter.keys(), counter.values())\n",
    "plt.xlabel('The Stages of the Human Life Cycle')\n",
    "plt.show()"
   ]
  },
  {
   "cell_type": "code",
   "execution_count": 85,
   "id": "a4c4dcb2-fb99-47c1-9883-cda337396c92",
   "metadata": {},
   "outputs": [
    {
     "data": {
      "text/plain": [
       "((64800, 3), (64800,))"
      ]
     },
     "execution_count": 85,
     "metadata": {},
     "output_type": "execute_result"
    }
   ],
   "source": [
    "X3.shape, y3.shape"
   ]
  },
  {
   "cell_type": "code",
   "execution_count": 86,
   "id": "90a898ce-1def-4c8c-8d7a-429fbb63fdc0",
   "metadata": {},
   "outputs": [
    {
     "data": {
      "text/plain": [
       "array([[1, 3,\n",
       "        '/Users/yinzi/Downloads/UTKFace/24_1_3_20170119170547814.jpg.chip.jpg'],\n",
       "       [0, 0,\n",
       "        '/Users/yinzi/Downloads/UTKFace/54_0_0_20170119201455775.jpg.chip.jpg']],\n",
       "      dtype=object)"
      ]
     },
     "execution_count": 86,
     "metadata": {},
     "output_type": "execute_result"
    }
   ],
   "source": [
    "X3[0:2]"
   ]
  },
  {
   "cell_type": "markdown",
   "id": "f884aefc-07bd-4f9f-83b5-d5c78182c0ae",
   "metadata": {},
   "source": [
    "### 4. sample 5000 images for testing model prediction accuracy"
   ]
  },
  {
   "cell_type": "code",
   "execution_count": 92,
   "id": "0441b9e4-dd25-4a95-85c0-7f46ef15b896",
   "metadata": {},
   "outputs": [
    {
     "data": {
      "text/plain": [
       "'/Users/yinzi/Downloads/UTKFace/24_1_3_20170119170547814.jpg.chip.jpg'"
      ]
     },
     "execution_count": 92,
     "metadata": {},
     "output_type": "execute_result"
    }
   ],
   "source": [
    "X4 = X3[:, 2]\n",
    "X4[0]"
   ]
  },
  {
   "cell_type": "code",
   "execution_count": 93,
   "id": "d18de7a8-d16f-4c24-a504-1fbd06d95481",
   "metadata": {},
   "outputs": [
    {
     "data": {
      "text/plain": [
       "(64800,)"
      ]
     },
     "execution_count": 93,
     "metadata": {},
     "output_type": "execute_result"
    }
   ],
   "source": [
    "X4.shape"
   ]
  },
  {
   "cell_type": "code",
   "execution_count": 95,
   "id": "9d234c03-991b-4ed7-93d8-9195c466bc11",
   "metadata": {},
   "outputs": [
    {
     "data": {
      "text/html": [
       "<div>\n",
       "<style scoped>\n",
       "    .dataframe tbody tr th:only-of-type {\n",
       "        vertical-align: middle;\n",
       "    }\n",
       "\n",
       "    .dataframe tbody tr th {\n",
       "        vertical-align: top;\n",
       "    }\n",
       "\n",
       "    .dataframe thead th {\n",
       "        text-align: right;\n",
       "    }\n",
       "</style>\n",
       "<table border=\"1\" class=\"dataframe\">\n",
       "  <thead>\n",
       "    <tr style=\"text-align: right;\">\n",
       "      <th></th>\n",
       "      <th>file1</th>\n",
       "      <th>age1</th>\n",
       "    </tr>\n",
       "  </thead>\n",
       "  <tbody>\n",
       "    <tr>\n",
       "      <th>0</th>\n",
       "      <td>/Users/yinzi/Downloads/UTKFace/24_1_3_20170119...</td>\n",
       "      <td>5</td>\n",
       "    </tr>\n",
       "    <tr>\n",
       "      <th>1</th>\n",
       "      <td>/Users/yinzi/Downloads/UTKFace/54_0_0_20170119...</td>\n",
       "      <td>7</td>\n",
       "    </tr>\n",
       "    <tr>\n",
       "      <th>2</th>\n",
       "      <td>/Users/yinzi/Downloads/UTKFace/51_0_1_20170117...</td>\n",
       "      <td>7</td>\n",
       "    </tr>\n",
       "    <tr>\n",
       "      <th>3</th>\n",
       "      <td>/Users/yinzi/Downloads/UTKFace/10_0_4_20170103...</td>\n",
       "      <td>3</td>\n",
       "    </tr>\n",
       "    <tr>\n",
       "      <th>4</th>\n",
       "      <td>/Users/yinzi/Downloads/UTKFace/45_0_1_20170117...</td>\n",
       "      <td>6</td>\n",
       "    </tr>\n",
       "  </tbody>\n",
       "</table>\n",
       "</div>"
      ],
      "text/plain": [
       "                                               file1  age1\n",
       "0  /Users/yinzi/Downloads/UTKFace/24_1_3_20170119...     5\n",
       "1  /Users/yinzi/Downloads/UTKFace/54_0_0_20170119...     7\n",
       "2  /Users/yinzi/Downloads/UTKFace/51_0_1_20170117...     7\n",
       "3  /Users/yinzi/Downloads/UTKFace/10_0_4_20170103...     3\n",
       "4  /Users/yinzi/Downloads/UTKFace/45_0_1_20170117...     6"
      ]
     },
     "execution_count": 95,
     "metadata": {},
     "output_type": "execute_result"
    }
   ],
   "source": [
    "dfbalanced = pd.DataFrame({'file1':X4, 'age1': y3})\n",
    "dfbalanced.head()"
   ]
  },
  {
   "cell_type": "code",
   "execution_count": 96,
   "id": "e63b5eee-abe9-417c-a69d-77c8cece528f",
   "metadata": {},
   "outputs": [
    {
     "data": {
      "text/plain": [
       "64800"
      ]
     },
     "execution_count": 96,
     "metadata": {},
     "output_type": "execute_result"
    }
   ],
   "source": [
    "dfbalanced['file1'].count()"
   ]
  },
  {
   "cell_type": "code",
   "execution_count": 97,
   "id": "7d67185b-8b0c-4a81-844e-9d02f5ebf560",
   "metadata": {},
   "outputs": [
    {
     "data": {
      "text/plain": [
       "5    7200\n",
       "7    7200\n",
       "3    7200\n",
       "6    7200\n",
       "4    7200\n",
       "0    7200\n",
       "1    7200\n",
       "8    7200\n",
       "2    7200\n",
       "Name: age1, dtype: int64"
      ]
     },
     "execution_count": 97,
     "metadata": {},
     "output_type": "execute_result"
    }
   ],
   "source": [
    "dfbalanced['age1'].value_counts()"
   ]
  },
  {
   "cell_type": "code",
   "execution_count": 99,
   "id": "c4005e8e-3532-43fe-87f4-5c5650343f8f",
   "metadata": {},
   "outputs": [],
   "source": [
    "n = int(5000/len(set(dfbalanced.loc[:,'age1'])))\n",
    "dfbalancedsubset = dfbalanced.groupby('age1', group_keys=False).apply(lambda x: x.sample(n)).sample(frac=1)"
   ]
  },
  {
   "cell_type": "code",
   "execution_count": 100,
   "id": "9259e0fd-5e01-4a42-a541-3ee3a3d88123",
   "metadata": {},
   "outputs": [
    {
     "data": {
      "text/plain": [
       "file1    4995\n",
       "age1     4995\n",
       "dtype: int64"
      ]
     },
     "execution_count": 100,
     "metadata": {},
     "output_type": "execute_result"
    }
   ],
   "source": [
    "dfbalancedsubset.count()"
   ]
  },
  {
   "cell_type": "code",
   "execution_count": 101,
   "id": "bebf4faf-02b5-4c80-b838-43500d208cba",
   "metadata": {},
   "outputs": [
    {
     "data": {
      "text/html": [
       "<div>\n",
       "<style scoped>\n",
       "    .dataframe tbody tr th:only-of-type {\n",
       "        vertical-align: middle;\n",
       "    }\n",
       "\n",
       "    .dataframe tbody tr th {\n",
       "        vertical-align: top;\n",
       "    }\n",
       "\n",
       "    .dataframe thead th {\n",
       "        text-align: right;\n",
       "    }\n",
       "</style>\n",
       "<table border=\"1\" class=\"dataframe\">\n",
       "  <thead>\n",
       "    <tr style=\"text-align: right;\">\n",
       "      <th></th>\n",
       "      <th>file1</th>\n",
       "      <th>age1</th>\n",
       "    </tr>\n",
       "  </thead>\n",
       "  <tbody>\n",
       "    <tr>\n",
       "      <th>54981</th>\n",
       "      <td>/Users/yinzi/Downloads/UTKFace/65_0_0_20170117...</td>\n",
       "      <td>7</td>\n",
       "    </tr>\n",
       "    <tr>\n",
       "      <th>20503</th>\n",
       "      <td>/Users/yinzi/Downloads/UTKFace/1_1_2_201612192...</td>\n",
       "      <td>0</td>\n",
       "    </tr>\n",
       "  </tbody>\n",
       "</table>\n",
       "</div>"
      ],
      "text/plain": [
       "                                                   file1  age1\n",
       "54981  /Users/yinzi/Downloads/UTKFace/65_0_0_20170117...     7\n",
       "20503  /Users/yinzi/Downloads/UTKFace/1_1_2_201612192...     0"
      ]
     },
     "execution_count": 101,
     "metadata": {},
     "output_type": "execute_result"
    }
   ],
   "source": [
    "dfbalancedsubset.head(2)"
   ]
  },
  {
   "cell_type": "code",
   "execution_count": 124,
   "id": "7eb8cbcb-4097-43bd-abeb-8d6004e48f9b",
   "metadata": {},
   "outputs": [],
   "source": [
    "dfbalancedsubset['age1'].value_counts()\n",
    "y_balanced_train = dfbalancedsubset['age1']"
   ]
  },
  {
   "cell_type": "markdown",
   "id": "289096b9",
   "metadata": {},
   "source": [
    "### 5. Trian the Gradient Boosting model with balanced train dataset and test on the test dataset"
   ]
  },
  {
   "cell_type": "code",
   "execution_count": 103,
   "id": "7ab35f71",
   "metadata": {},
   "outputs": [],
   "source": [
    "images = []\n",
    "for img_path in dfbalancedsubset['file1']:\n",
    "    image = plt.imread(img_path)\n",
    "    images.append(image)"
   ]
  },
  {
   "cell_type": "code",
   "execution_count": 108,
   "id": "560e990c-ee79-47c3-b9a5-556af60ccc11",
   "metadata": {},
   "outputs": [
    {
     "data": {
      "text/plain": [
       "4995"
      ]
     },
     "execution_count": 108,
     "metadata": {},
     "output_type": "execute_result"
    }
   ],
   "source": [
    "len(images)"
   ]
  },
  {
   "cell_type": "code",
   "execution_count": 104,
   "id": "6314ecb4",
   "metadata": {},
   "outputs": [
    {
     "data": {
      "text/plain": [
       "<matplotlib.image.AxesImage at 0x7fcb49199ac0>"
      ]
     },
     "execution_count": 104,
     "metadata": {},
     "output_type": "execute_result"
    },
    {
     "data": {
      "image/png": "[encoded data removed]",
      "text/plain": [
       "<Figure size 432x288 with 1 Axes>"
      ]
     },
     "metadata": {
      "needs_background": "light"
     },
     "output_type": "display_data"
    }
   ],
   "source": [
    "plt.imshow(images[3])"
   ]
  },
  {
   "cell_type": "code",
   "execution_count": 105,
   "id": "d164acba",
   "metadata": {},
   "outputs": [
    {
     "data": {
      "text/plain": [
       "(200, 200, 3)"
      ]
     },
     "execution_count": 105,
     "metadata": {},
     "output_type": "execute_result"
    }
   ],
   "source": [
    "images[3].shape"
   ]
  },
  {
   "cell_type": "code",
   "execution_count": 106,
   "id": "c84d1704-d76c-4f2c-88a4-481bc1f66e49",
   "metadata": {},
   "outputs": [],
   "source": [
    "gbc = GradientBoostingClassifier()"
   ]
  },
  {
   "cell_type": "code",
   "execution_count": 107,
   "id": "aea79efc",
   "metadata": {},
   "outputs": [],
   "source": [
    "# gbc=GradientBoostingClassifier(n_estimators=500,learning_rate=0.05,random_state=100,max_features=5 )"
   ]
  },
  {
   "cell_type": "code",
   "execution_count": 112,
   "id": "7c502830-ca0b-4208-be37-de48e198accc",
   "metadata": {},
   "outputs": [
    {
     "data": {
      "text/plain": [
       "(4995, 200, 200, 3)"
      ]
     },
     "execution_count": 112,
     "metadata": {},
     "output_type": "execute_result"
    }
   ],
   "source": [
    "X_train = np.array(images)\n",
    "X_train.shape"
   ]
  },
  {
   "cell_type": "code",
   "execution_count": 115,
   "id": "9e3aa2df-2110-4751-9bf4-877dbbf97856",
   "metadata": {},
   "outputs": [
    {
     "data": {
      "text/plain": [
       "'/Users/yinzi/Downloads/UTKFace/21_0_2_20170116170741864.jpg.chip.jpg'"
      ]
     },
     "execution_count": 115,
     "metadata": {},
     "output_type": "execute_result"
    }
   ],
   "source": [
    "X_test1 = X_test[:,2]\n",
    "X_test1[0]"
   ]
  },
  {
   "cell_type": "code",
   "execution_count": 117,
   "id": "383186b0-6bb3-4459-b327-6d374210181a",
   "metadata": {},
   "outputs": [
    {
     "data": {
      "text/plain": [
       "7112"
      ]
     },
     "execution_count": 117,
     "metadata": {},
     "output_type": "execute_result"
    }
   ],
   "source": [
    "len(X_test1)"
   ]
  },
  {
   "cell_type": "code",
   "execution_count": 118,
   "id": "f1c4622f-bd8b-48b7-9d98-e9c2101e64fa",
   "metadata": {},
   "outputs": [],
   "source": [
    "images_test = []\n",
    "for img_path in X_test1:\n",
    "    image = plt.imread(img_path)\n",
    "    images_test.append(image)"
   ]
  },
  {
   "cell_type": "code",
   "execution_count": 120,
   "id": "6f2a7bce-9046-46b3-b26c-45442ee4e1ad",
   "metadata": {},
   "outputs": [
    {
     "data": {
      "text/plain": [
       "7112"
      ]
     },
     "execution_count": 120,
     "metadata": {},
     "output_type": "execute_result"
    }
   ],
   "source": [
    "len(images_test)"
   ]
  },
  {
   "cell_type": "code",
   "execution_count": 122,
   "id": "2be6bca8-5e40-404e-8623-e72ca1501e65",
   "metadata": {},
   "outputs": [
    {
     "data": {
      "text/plain": [
       "(7112, 200, 200, 3)"
      ]
     },
     "execution_count": 122,
     "metadata": {},
     "output_type": "execute_result"
    }
   ],
   "source": [
    "X_test2 = np.array(images_test)\n",
    "X_test2.shape"
   ]
  },
  {
   "cell_type": "code",
   "execution_count": 123,
   "id": "417ae27a-823c-4c80-8706-9d34a159855c",
   "metadata": {},
   "outputs": [],
   "source": [
    "nimages, nX, ny, n = X_train.shape\n",
    "X_train = X_train.reshape((nimages,nX*ny*n))\n",
    "nimages, nX, ny, n = X_test2.shape\n",
    "X_test2 = X_test2.reshape((nimages,nX*ny*n))"
   ]
  },
  {
   "cell_type": "code",
   "execution_count": null,
   "id": "6d2fa3b8-f78d-4f23-98e8-cbd1228138f9",
   "metadata": {},
   "outputs": [],
   "source": [
    "gbc.fit(X_train,y_balanced_train)"
   ]
  },
  {
   "cell_type": "code",
   "execution_count": null,
   "id": "6c7cc358-f27c-474e-bb72-30c8fe5dfea8",
   "metadata": {},
   "outputs": [],
   "source": [
    "y_pred = gbc.predict(X_test2)"
   ]
  },
  {
   "cell_type": "code",
   "execution_count": null,
   "id": "11511c67-93d3-459b-a474-c87ef39f11cd",
   "metadata": {},
   "outputs": [],
   "source": [
    "print(\"GBC accuracy is %2.2f\" % accuracy_score(y_test, y_pred))"
   ]
  },
  {
   "cell_type": "code",
   "execution_count": null,
   "id": "b28ee7c9-0d92-43f2-854d-da204d0687e2",
   "metadata": {},
   "outputs": [],
   "source": [
    "print(confusion_matrix(y_test, y_pred))"
   ]
  },
  {
   "cell_type": "code",
   "execution_count": null,
   "id": "6088f6d8-6607-475c-9961-3904224b7e3d",
   "metadata": {},
   "outputs": [],
   "source": [
    "print(classification_report(y_test, y_pred))"
   ]
  },
  {
   "cell_type": "code",
   "execution_count": null,
   "id": "baa75b1b-8577-4797-b01a-e61c86aaa6f1",
   "metadata": {},
   "outputs": [],
   "source": []
  },
  {
   "cell_type": "code",
   "execution_count": null,
   "id": "6b361f32-9782-4d29-9769-0a4e31491a2f",
   "metadata": {},
   "outputs": [],
   "source": []
  },
  {
   "cell_type": "code",
   "execution_count": null,
   "id": "5faeba50-5291-4b0f-b68f-6baace611352",
   "metadata": {},
   "outputs": [],
   "source": []
  },
  {
   "cell_type": "code",
   "execution_count": null,
   "id": "465ae08a-8766-4bfd-abec-30e5c558a15e",
   "metadata": {},
   "outputs": [],
   "source": []
  },
  {
   "cell_type": "code",
   "execution_count": null,
   "id": "566be818-81d1-4632-b917-222d7ae3fa18",
   "metadata": {},
   "outputs": [],
   "source": []
  },
  {
   "cell_type": "code",
   "execution_count": null,
   "id": "58bad665-38fd-49fd-a702-9c29bb878c1b",
   "metadata": {},
   "outputs": [],
   "source": []
  },
  {
   "cell_type": "code",
   "execution_count": null,
   "id": "a294e021-1fb8-4496-83aa-90f8c0efbc33",
   "metadata": {},
   "outputs": [],
   "source": []
  },
  {
   "cell_type": "code",
   "execution_count": null,
   "id": "8cb4cb02-1d3e-41b8-b7d8-ab3c27cc54f1",
   "metadata": {},
   "outputs": [],
   "source": []
  },
  {
   "cell_type": "code",
   "execution_count": null,
   "id": "8e169bad-24a4-4192-ae5e-6ca5eda8e5a0",
   "metadata": {},
   "outputs": [],
   "source": []
  },
  {
   "cell_type": "markdown",
   "id": "c4f0447b-9cb5-477e-be35-9ae6a3313e4c",
   "metadata": {},
   "source": [
    "### Below part are old editing --- fix it later as request"
   ]
  },
  {
   "cell_type": "code",
   "execution_count": 22,
   "id": "c50655b9",
   "metadata": {},
   "outputs": [],
   "source": [
    "X_train, X_test, y_train, y_test = train_test_split(images, df['gender'])"
   ]
  },
  {
   "cell_type": "code",
   "execution_count": 23,
   "id": "da8e0b75",
   "metadata": {},
   "outputs": [
    {
     "data": {
      "text/plain": [
       "(7333, 2445, 7333, 2445)"
      ]
     },
     "execution_count": 23,
     "metadata": {},
     "output_type": "execute_result"
    }
   ],
   "source": [
    "len(X_train), len(X_test), len(y_train), len(y_test)"
   ]
  },
  {
   "cell_type": "code",
   "execution_count": 24,
   "id": "9b66c195",
   "metadata": {},
   "outputs": [
    {
     "data": {
      "text/plain": [
       "(7333,)"
      ]
     },
     "execution_count": 24,
     "metadata": {},
     "output_type": "execute_result"
    }
   ],
   "source": [
    "pd.Series(X_train).shape"
   ]
  },
  {
   "cell_type": "code",
   "execution_count": 25,
   "id": "2d1cbb3e",
   "metadata": {},
   "outputs": [
    {
     "data": {
      "text/plain": [
       "(200, 200, 3)"
      ]
     },
     "execution_count": 25,
     "metadata": {},
     "output_type": "execute_result"
    }
   ],
   "source": [
    "X_train[1].shape"
   ]
  },
  {
   "cell_type": "markdown",
   "id": "3b57603a",
   "metadata": {},
   "source": [
    "* Each image is represented as a 200*200 pixel array, so there are 40000 features per image. Each image has three channel. we have 7333 images in the training dataset and 2445 images in the testing dataset. Each \"feature\" represents a pixel in the image, and each pixel can take any integer value from 0 to 255."
   ]
  },
  {
   "cell_type": "code",
   "execution_count": 26,
   "id": "60be0fa0",
   "metadata": {},
   "outputs": [
    {
     "data": {
      "text/plain": [
       "<matplotlib.image.AxesImage at 0x7ff4098da3d0>"
      ]
     },
     "execution_count": 26,
     "metadata": {},
     "output_type": "execute_result"
    },
    {
     "data": {
      "image/png": "[encoded data removed]",
      "text/plain": [
       "<Figure size 432x288 with 1 Axes>"
      ]
     },
     "metadata": {
      "needs_background": "light"
     },
     "output_type": "display_data"
    }
   ],
   "source": [
    "plt.imshow(X_train[1])"
   ]
  },
  {
   "cell_type": "code",
   "execution_count": 27,
   "id": "d4c08e72",
   "metadata": {
    "scrolled": true
   },
   "outputs": [
    {
     "data": {
      "text/plain": [
       "(7333,)"
      ]
     },
     "execution_count": 27,
     "metadata": {},
     "output_type": "execute_result"
    }
   ],
   "source": [
    "y_train.shape"
   ]
  },
  {
   "cell_type": "code",
   "execution_count": 28,
   "id": "56275b93",
   "metadata": {},
   "outputs": [
    {
     "data": {
      "text/plain": [
       "8598    1\n",
       "2121    0\n",
       "9051    1\n",
       "5524    1\n",
       "6107    1\n",
       "Name: gender, dtype: int64"
      ]
     },
     "execution_count": 28,
     "metadata": {},
     "output_type": "execute_result"
    }
   ],
   "source": [
    "y_train[0:5]"
   ]
  },
  {
   "cell_type": "code",
   "execution_count": 29,
   "id": "932a67aa",
   "metadata": {},
   "outputs": [
    {
     "data": {
      "text/plain": [
       "1    4034\n",
       "0    3299\n",
       "Name: gender, dtype: int64"
      ]
     },
     "execution_count": 29,
     "metadata": {},
     "output_type": "execute_result"
    }
   ],
   "source": [
    "y_train.value_counts()"
   ]
  },
  {
   "cell_type": "code",
   "execution_count": 30,
   "id": "3c97630e",
   "metadata": {},
   "outputs": [
    {
     "data": {
      "text/plain": [
       "1    1372\n",
       "0    1073\n",
       "Name: gender, dtype: int64"
      ]
     },
     "execution_count": 30,
     "metadata": {},
     "output_type": "execute_result"
    }
   ],
   "source": [
    "y_test.value_counts()"
   ]
  },
  {
   "cell_type": "markdown",
   "id": "f4109b92",
   "metadata": {},
   "source": [
    "* The target variable is a label for Male and Female: 0, 1. There are 3299 male images in the training dataset and 4034 female images in the training dataset. And 1372 female images in the testing dataset. 1073 male images in the training dataset."
   ]
  },
  {
   "cell_type": "markdown",
   "id": "6b8183ba",
   "metadata": {},
   "source": [
    "* scaling the features so that each feature takes on a value between 0 and 1"
   ]
  },
  {
   "cell_type": "code",
   "execution_count": 31,
   "id": "3af7e12b",
   "metadata": {},
   "outputs": [],
   "source": [
    "X_train = np.array(X_train)/255\n",
    "X_test = np.array(X_test)/255"
   ]
  },
  {
   "cell_type": "code",
   "execution_count": 32,
   "id": "0f6a4252",
   "metadata": {},
   "outputs": [
    {
     "data": {
      "text/plain": [
       "(7333, 200, 200, 3)"
      ]
     },
     "execution_count": 32,
     "metadata": {},
     "output_type": "execute_result"
    }
   ],
   "source": [
    "X_train.shape"
   ]
  },
  {
   "cell_type": "code",
   "execution_count": 33,
   "id": "10bb0270",
   "metadata": {},
   "outputs": [],
   "source": [
    "nimages, nX, ny, nrgb = X_train.shape\n",
    "X_train = X_train.reshape((nimages,nX*ny*nrgb))\n",
    "nimages, nX, ny, nrgb = X_test.shape\n",
    "X_test = X_test.reshape((nimages,nX*ny*nrgb))"
   ]
  },
  {
   "cell_type": "code",
   "execution_count": 34,
   "id": "080ac3d0",
   "metadata": {},
   "outputs": [
    {
     "data": {
      "text/plain": [
       "((7333, 120000), (2445, 120000))"
      ]
     },
     "execution_count": 34,
     "metadata": {},
     "output_type": "execute_result"
    }
   ],
   "source": [
    "X_train.shape, X_test.shape"
   ]
  },
  {
   "cell_type": "code",
   "execution_count": 35,
   "id": "e714572d",
   "metadata": {},
   "outputs": [
    {
     "data": {
      "text/plain": [
       "GradientBoostingClassifier(learning_rate=0.05, max_features=5, n_estimators=500,\n",
       "                           random_state=100)"
      ]
     },
     "execution_count": 35,
     "metadata": {},
     "output_type": "execute_result"
    }
   ],
   "source": [
    "gbc.fit(X_train,y_train)"
   ]
  },
  {
   "cell_type": "code",
   "execution_count": 36,
   "id": "ac7f59a9",
   "metadata": {},
   "outputs": [],
   "source": [
    "y_pred = gbc.predict(X_test)"
   ]
  },
  {
   "cell_type": "code",
   "execution_count": 37,
   "id": "896139b0",
   "metadata": {},
   "outputs": [
    {
     "name": "stdout",
     "output_type": "stream",
     "text": [
      "[[ 778  295]\n",
      " [ 268 1104]]\n"
     ]
    }
   ],
   "source": [
    "print(confusion_matrix(y_test, y_pred))"
   ]
  },
  {
   "cell_type": "code",
   "execution_count": 38,
   "id": "36fb1879",
   "metadata": {},
   "outputs": [
    {
     "name": "stdout",
     "output_type": "stream",
     "text": [
      "GBC accuracy is 0.77\n"
     ]
    }
   ],
   "source": [
    "print(\"GBC accuracy is %2.2f\" % accuracy_score(y_test, y_pred))"
   ]
  },
  {
   "cell_type": "code",
   "execution_count": 39,
   "id": "9d82f029",
   "metadata": {},
   "outputs": [
    {
     "name": "stdout",
     "output_type": "stream",
     "text": [
      "              precision    recall  f1-score   support\n",
      "\n",
      "           0       0.74      0.73      0.73      1073\n",
      "           1       0.79      0.80      0.80      1372\n",
      "\n",
      "    accuracy                           0.77      2445\n",
      "   macro avg       0.77      0.76      0.77      2445\n",
      "weighted avg       0.77      0.77      0.77      2445\n",
      "\n"
     ]
    }
   ],
   "source": [
    "print(classification_report(y_test, y_pred))"
   ]
  },
  {
   "cell_type": "code",
   "execution_count": 41,
   "id": "1d724633-a88b-4dee-8e88-09166f9f76c8",
   "metadata": {},
   "outputs": [
    {
     "data": {
      "text/plain": [
       "array([1, 1, 1, 1, 1])"
      ]
     },
     "execution_count": 41,
     "metadata": {},
     "output_type": "execute_result"
    }
   ],
   "source": [
    "y_pred[0:5]"
   ]
  },
  {
   "cell_type": "markdown",
   "id": "be84ea1e-1342-4a3b-8535-f0710358d81e",
   "metadata": {},
   "source": [
    "The accuracy is 0.77 for the basic Gradient Boosting model. We can try some feature selection and feature extraction, dimension reduction or hyperparameter tuning to improve the accuracy. "
   ]
  },
  {
   "cell_type": "markdown",
   "id": "0e2d6238-f8f9-40f2-8cd0-86a96f57a634",
   "metadata": {},
   "source": [
    "### 4. race prediction"
   ]
  },
  {
   "cell_type": "code",
   "execution_count": 52,
   "id": "91e4b6f5-e871-4657-a4d7-cd14d40287db",
   "metadata": {},
   "outputs": [],
   "source": [
    "X2_train, X2_test, y2_train, y2_test = train_test_split(images, df['race'])"
   ]
  },
  {
   "cell_type": "code",
   "execution_count": 53,
   "id": "bcc5b454-995e-4531-8e2d-105bb229c09a",
   "metadata": {},
   "outputs": [],
   "source": [
    "X2_train = np.array(X2_train)/255\n",
    "X2_test = np.array(X2_test)/255"
   ]
  },
  {
   "cell_type": "code",
   "execution_count": 54,
   "id": "2ca108a2-4cc4-4964-9e91-0a5ab4d46320",
   "metadata": {},
   "outputs": [],
   "source": [
    "nimages, nX2, ny2, nrgb = X2_train.shape\n",
    "X2_train = X2_train.reshape((nimages,nX2*ny2*nrgb))\n",
    "nimages, nX2, ny, nrgb = X2_test.shape\n",
    "X2_test = X2_test.reshape((nimages,nX2*ny2*nrgb))"
   ]
  },
  {
   "cell_type": "code",
   "execution_count": 60,
   "id": "fcfc64f3",
   "metadata": {},
   "outputs": [
    {
     "data": {
      "text/plain": [
       "GradientBoostingClassifier(learning_rate=0.05, max_features=5, n_estimators=500,\n",
       "                           random_state=100)"
      ]
     },
     "execution_count": 60,
     "metadata": {},
     "output_type": "execute_result"
    }
   ],
   "source": [
    "gbc.fit(X2_train,y2_train)"
   ]
  },
  {
   "cell_type": "code",
   "execution_count": 61,
   "id": "4a2c52b1",
   "metadata": {},
   "outputs": [],
   "source": [
    "y2_pred = gbc.predict(X2_test)"
   ]
  },
  {
   "cell_type": "code",
   "execution_count": 62,
   "id": "023bdb93",
   "metadata": {},
   "outputs": [
    {
     "name": "stdout",
     "output_type": "stream",
     "text": [
      "[[1268    4   29   36   11]\n",
      " [  43   31    0   13    5]\n",
      " [ 110    1  239   15   10]\n",
      " [ 137    4   11  211   11]\n",
      " [ 162    1   12   41   40]]\n",
      "GBC accuracy is 0.73\n",
      "              precision    recall  f1-score   support\n",
      "\n",
      "           0       0.74      0.94      0.83      1348\n",
      "           1       0.76      0.34      0.47        92\n",
      "           2       0.82      0.64      0.72       375\n",
      "           3       0.67      0.56      0.61       374\n",
      "           4       0.52      0.16      0.24       256\n",
      "\n",
      "    accuracy                           0.73      2445\n",
      "   macro avg       0.70      0.53      0.57      2445\n",
      "weighted avg       0.72      0.73      0.70      2445\n",
      "\n"
     ]
    }
   ],
   "source": [
    "print(confusion_matrix(y2_test, y2_pred))\n",
    "print(\"GBC accuracy is %2.2f\" % accuracy_score(y2_test, y2_pred))\n",
    "print(classification_report(y2_test, y2_pred))"
   ]
  },
  {
   "cell_type": "markdown",
   "id": "55d1f91f-2175-457e-a202-22d02484a0bd",
   "metadata": {},
   "source": [
    "### 5. age prediction"
   ]
  },
  {
   "cell_type": "code",
   "execution_count": 63,
   "id": "3d491389",
   "metadata": {},
   "outputs": [
    {
     "data": {
      "text/html": [
       "<div>\n",
       "<style scoped>\n",
       "    .dataframe tbody tr th:only-of-type {\n",
       "        vertical-align: middle;\n",
       "    }\n",
       "\n",
       "    .dataframe tbody tr th {\n",
       "        vertical-align: top;\n",
       "    }\n",
       "\n",
       "    .dataframe thead th {\n",
       "        text-align: right;\n",
       "    }\n",
       "</style>\n",
       "<table border=\"1\" class=\"dataframe\">\n",
       "  <thead>\n",
       "    <tr style=\"text-align: right;\">\n",
       "      <th></th>\n",
       "      <th>age</th>\n",
       "      <th>gender</th>\n",
       "      <th>race</th>\n",
       "      <th>file</th>\n",
       "    </tr>\n",
       "  </thead>\n",
       "  <tbody>\n",
       "    <tr>\n",
       "      <th>0</th>\n",
       "      <td>9</td>\n",
       "      <td>1</td>\n",
       "      <td>2</td>\n",
       "      <td>/Users/yinzi/Downloads/crop_part1/9_1_2_201612...</td>\n",
       "    </tr>\n",
       "    <tr>\n",
       "      <th>1</th>\n",
       "      <td>1</td>\n",
       "      <td>1</td>\n",
       "      <td>2</td>\n",
       "      <td>/Users/yinzi/Downloads/crop_part1/1_1_2_201612...</td>\n",
       "    </tr>\n",
       "    <tr>\n",
       "      <th>2</th>\n",
       "      <td>16</td>\n",
       "      <td>0</td>\n",
       "      <td>0</td>\n",
       "      <td>/Users/yinzi/Downloads/crop_part1/16_0_0_20170...</td>\n",
       "    </tr>\n",
       "  </tbody>\n",
       "</table>\n",
       "</div>"
      ],
      "text/plain": [
       "   age  gender  race                                               file\n",
       "0    9       1     2  /Users/yinzi/Downloads/crop_part1/9_1_2_201612...\n",
       "1    1       1     2  /Users/yinzi/Downloads/crop_part1/1_1_2_201612...\n",
       "2   16       0     0  /Users/yinzi/Downloads/crop_part1/16_0_0_20170..."
      ]
     },
     "execution_count": 63,
     "metadata": {},
     "output_type": "execute_result"
    }
   ],
   "source": [
    "df.head(3)"
   ]
  },
  {
   "cell_type": "code",
   "execution_count": 66,
   "id": "aa159dca",
   "metadata": {},
   "outputs": [
    {
     "data": {
      "text/plain": [
       "array([  9,   1,  16,  26,   2,  53,  36,  37,  10,  52,  18,  34,  30,\n",
       "        75,  24,  86,   3,  54,  60,  59,  41,   5,  45,  35,   8,  56,\n",
       "         4,  15,  96,  44,  23,  61,  12,  40,  25,  19,  38,  71,  49,\n",
       "        89,  21,  22,  68,  27,  33,  80,  57,   7,  69,  55,  85,  39,\n",
       "        32,  58,  17,  29,  90,  13,  48,  51,  46,  65,  20,  79,  31,\n",
       "        83,  11,  50,  28,  87,  77,  63,  67,  14,  62,   6,  47,  42,\n",
       "        76,  74,  92,  66,  73,  78,  64,  43,  70,  72,  82,  88,  84,\n",
       "        81,  93,  95, 110, 101, 100,  99,  91])"
      ]
     },
     "execution_count": 66,
     "metadata": {},
     "output_type": "execute_result"
    }
   ],
   "source": [
    "df['age'].unique()"
   ]
  },
  {
   "cell_type": "code",
   "execution_count": 68,
   "id": "eed16dad",
   "metadata": {},
   "outputs": [
    {
     "data": {
      "text/plain": [
       "99"
      ]
     },
     "execution_count": 68,
     "metadata": {},
     "output_type": "execute_result"
    }
   ],
   "source": [
    "len(df['age'].unique())"
   ]
  },
  {
   "cell_type": "code",
   "execution_count": 69,
   "id": "10fcdfac",
   "metadata": {},
   "outputs": [
    {
     "data": {
      "text/plain": [
       "(110, 1)"
      ]
     },
     "execution_count": 69,
     "metadata": {},
     "output_type": "execute_result"
    }
   ],
   "source": [
    "df['age'].max(), df['age'].min()"
   ]
  },
  {
   "cell_type": "markdown",
   "id": "9fe178b5-e905-4a86-a72f-285516d8e17e",
   "metadata": {},
   "source": [
    "* According to the \"Stage of life\": Infancy = 0-2 year, Toddler = 2-4 years, Child = 5-12 years, Teen = 13-19 years, Adult = 20-39 years, Middle Age Adult = 40-59 years, Senior Adult = 60+"
   ]
  },
  {
   "cell_type": "code",
   "execution_count": null,
   "id": "c7018810-2f5f-4bec-9ffc-89e71edca99a",
   "metadata": {},
   "outputs": [],
   "source": []
  }
 ],
 "metadata": {
  "kernelspec": {
   "display_name": "Python 3 (ipykernel)",
   "language": "python",
   "name": "python3"
  },
  "language_info": {
   "codemirror_mode": {
    "name": "ipython",
    "version": 3
   },
   "file_extension": ".py",
   "mimetype": "text/x-python",
   "name": "python",
   "nbconvert_exporter": "python",
   "pygments_lexer": "ipython3",
   "version": "3.9.7"
  }
 },
 "nbformat": 4,
 "nbformat_minor": 5
}
