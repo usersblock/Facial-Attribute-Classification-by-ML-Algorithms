{
 "cells": [
  {
   "cell_type": "code",
   "execution_count": 1,
   "id": "3510ed38-b0db-4101-9f2d-8e6c2158ab2a",
   "metadata": {},
   "outputs": [],
   "source": [
    "from io import StringIO\n",
    "from PIL import Image\n",
    "import numpy as np\n",
    "import pandas as pd\n",
    "import numpy as np\n",
    "from os import listdir\n",
    "from os.path import isfile, join\n",
    "import matplotlib.pyplot as plt\n",
    "import os\n",
    "from skimage.color import rgb2gray\n",
    "#np.asarray(Image.open(StringIO(rawdata)))\n",
    "from sklearn.decomposition import PCA\n",
    "\n",
    "from os.path import isfile, join\n",
    "from sklearn.model_selection import train_test_split\n",
    "\n",
    "#from imblearn.over_sampling import RandomOverSampler\n",
    "from ImagesProcessingFunctions1 import *\n",
    "from sklearn.model_selection import train_test_split\n",
    "import os\n",
    "from sklearn.ensemble import RandomForestClassifier\n",
    "from sklearn.metrics import accuracy_score,confusion_matrix,classification_report\n",
    "import timeit\n",
    "import seaborn as sns\n",
    "from sklearn.tree import DecisionTreeClassifier\n",
    "from sklearn.metrics import roc_curve, auc\n",
    "import timeit"
   ]
  },
  {
   "cell_type": "markdown",
   "id": "6c910806-ef77-4475-b9f3-3a1b5d490109",
   "metadata": {},
   "source": [
    "### loading the labels"
   ]
  },
  {
   "cell_type": "code",
   "execution_count": 2,
   "id": "0c4c8787-61d1-4663-8932-fd2d3e12d96a",
   "metadata": {},
   "outputs": [],
   "source": [
    "mypath = \"/Users/jenifervivar/Desktop/Desktop - jenifer’s MacBook Air/Machine_learning_code/crop_part1/\"\n",
    "filenames = np.array([f for f in listdir(mypath) if isfile(join(mypath, f))])\n",
    "splitcolumns = [x.split('_')[0:3] + [mypath  + x] for x in filenames if x.count('_') == 3]\n",
    "filecolumns = ['age','gender','race','file']\n",
    "filedf = pd.DataFrame(data = splitcolumns, columns = filecolumns)\n",
    "filedfnona = filedf.dropna()\n",
    "filedfnona['age']  = filedfnona['age'].astype(int)\n",
    "filedfnona['race'] = filedfnona['race'].astype(int)\n",
    "filedfnona['gender'] = filedfnona['gender'].astype(int)"
   ]
  },
  {
   "cell_type": "markdown",
   "id": "1527607a-26e0-4a17-b1da-33fc5db7c8ce",
   "metadata": {},
   "source": [
    "#### making all the images black and white"
   ]
  },
  {
   "cell_type": "code",
   "execution_count": 3,
   "id": "3f69e097-e73b-426b-9e07-c921cd0718c9",
   "metadata": {},
   "outputs": [],
   "source": [
    "images = []\n",
    "for img in filedfnona['file']:\n",
    "    image = plt.imread(img)\n",
    "    image = rgb2gray(image)\n",
    "    images.append(image)"
   ]
  },
  {
   "cell_type": "code",
   "execution_count": 4,
   "id": "4858e3fc-703c-4ae2-8c5d-4524ed229880",
   "metadata": {},
   "outputs": [
    {
     "name": "stdout",
     "output_type": "stream",
     "text": [
      "9777 9777\n"
     ]
    }
   ],
   "source": [
    "print(len(images), len(filedfnona))"
   ]
  },
  {
   "cell_type": "code",
   "execution_count": 5,
   "id": "c4d0edaa-e462-46e3-b19e-905674fc4584",
   "metadata": {},
   "outputs": [],
   "source": [
    "def confusion_plot(y_test, y_pred, title, labelsx, labelsy):\n",
    "    cf_matrix = confusion_matrix(y_test, y_pred)\n",
    "\n",
    "    ax = sns.heatmap(cf_matrix, annot=True, fmt = 'd', cmap='Blues')\n",
    "\n",
    "    ax.set_title(title);\n",
    "    ax.set_xlabel('\\nPredicted Values')\n",
    "    ax.set_ylabel('Actual Values ');\n",
    "\n",
    "## Ticket labels - List must be in alphabetical order\n",
    "    ax.xaxis.set_ticklabels(labelsx)\n",
    "    ax.yaxis.set_ticklabels(labelsy)\n",
    "\n",
    "## Display the visualization of the Confusion Matrix.\n",
    "    plt.show()"
   ]
  },
  {
   "cell_type": "code",
   "execution_count": null,
   "id": "cd75a226-3292-4e94-a337-1627d2414ef3",
   "metadata": {},
   "outputs": [],
   "source": []
  },
  {
   "cell_type": "markdown",
   "id": "1c9a66ef-0473-4b27-9419-d8f7364312b3",
   "metadata": {},
   "source": [
    "### using pca to reduce features in my images and precerving 300 features"
   ]
  },
  {
   "cell_type": "code",
   "execution_count": 6,
   "id": "78c81007-ba77-4559-b9de-7d727e70a405",
   "metadata": {},
   "outputs": [],
   "source": [
    "def randomForest_pca(imagesArray, labelsToPredict):\n",
    "    \n",
    "    model=RandomForestClassifier()\n",
    "    X_train, X_test, y_train, y_test = train_test_split(np.array(imagesArray), labelsToPredict)\n",
    "    \n",
    "    #flattening the images\n",
    "    nsamples, nx, ny= X_train.shape\n",
    "    X_train2 = X_train.reshape((nsamples,nx*ny))\n",
    "    \n",
    "    #only reducing X_train subset for now\n",
    "    pca = PCA(n_components = 195)\n",
    "    reduced_images = pca.fit_transform(X_train2)\n",
    "    recovered_images = pca.inverse_transform(reduced_images)\n",
    "    model.fit(recovered_images,y_train)\n",
    "    \n",
    "    #now doing the same for testing subset\n",
    "    nsamples, nx, ny= X_test.shape\n",
    "    X_test2 = X_test.reshape((nsamples,nx*ny))\n",
    "    reduced_images_test = pca.fit_transform(X_test2)\n",
    "    recovered_images_test = pca.inverse_transform(reduced_images_test)\n",
    "    #model.fit(recovered_images_test,y_test)\n",
    "    \n",
    "    y_pred=model.predict(recovered_images_test)\n",
    "    \n",
    "    return y_pred, y_test"
   ]
  },
  {
   "cell_type": "code",
   "execution_count": 7,
   "id": "2543c4f5-a088-4dc2-850d-4d4425b62d2b",
   "metadata": {},
   "outputs": [],
   "source": [
    "def randomForest(imagesArray, labelsToPredict):\n",
    "    \n",
    "    model=RandomForestClassifier()\n",
    "    X_train, X_test, y_train, y_test = train_test_split(np.array(imagesArray), labelsToPredict)\n",
    "    \n",
    "    #flattening the images\n",
    "    nsamples, nx, ny= X_train.shape\n",
    "    X_train2 = X_train.reshape((nsamples,nx*ny))\n",
    "    \n",
    "    #only reducing X_train subset for now\n",
    "    #pca = PCA(n_components = 195)\n",
    "    #reduced_images = pca.fit_transform(X_train2)\n",
    "    #recovered_images = pca.inverse_transform(reduced_images)\n",
    "    #model.fit(recovered_images,y_train)\n",
    "    model.fit(X_train2, y_train)\n",
    "    #now doing the same for testing subset\n",
    "    nsamples, nx, ny= X_test.shape\n",
    "    X_test2 = X_test.reshape((nsamples,nx*ny))\n",
    "    #reduced_images_test = pca.fit_transform(X_test2)\n",
    "    #recovered_images_test = pca.inverse_transform(reduced_images_test)\n",
    "    #model.fit(recovered_images_test,y_test)\n",
    "    \n",
    "    #y_pred=model.predict(recovered_images_test)\n",
    "    y_pred = model.predict(X_test2)\n",
    "    \n",
    "    return y_pred, y_test"
   ]
  },
  {
   "cell_type": "code",
   "execution_count": null,
   "id": "fc2109c2-4047-44c7-94d4-59265c8aa494",
   "metadata": {},
   "outputs": [
    {
     "name": "stdout",
     "output_type": "stream",
     "text": [
      "The start time is : 294.419105042\n"
     ]
    }
   ],
   "source": [
    "starttime = timeit.default_timer()\n",
    "print(\"The start time is :\",starttime)\n",
    "y_pred_gender, y_test_gender = randomForest_pca(np.array(images), filedfnona['gender'])\n",
    "print(\"The time difference is :\", timeit.default_timer() - starttime)\n",
    "print(classification_report(y_pred_gender,y_test_gender))\n",
    "print(confusion_matrix(y_pred_gender,y_test_gender))\n",
    "t = \"Predictions on Gender Labels with Accuracy = 75\"\n",
    "x = ['Male', \"Female\"]\n",
    "\n",
    "confusion_plot(y_test_gender, y_pred_gender, t, x, x)\n",
    "score = accuracy_score(y_pred_gender,y_test_gender)\n",
    "#scores.append(scorle\n",
    "\n",
    "fig = plt.figure(figsize=(15, 10))"
   ]
  },
  {
   "cell_type": "code",
   "execution_count": null,
   "id": "eade1c07-49f6-4f08-80af-9cb31fa006a2",
   "metadata": {},
   "outputs": [],
   "source": [
    "fpr, tpr, _ = roc_curve(y_test_gender,  y_pred_gender)\n",
    "\n",
    "#create ROC curve\n",
    "plt.plot(fpr,tpr)\n",
    "plt.ylabel('True Positive Rate')\n",
    "plt.xlabel('False Positive Rate')\n",
    "plt.show()"
   ]
  },
  {
   "cell_type": "code",
   "execution_count": null,
   "id": "d663be23-7a10-46b8-9f7a-ad709dfac2be",
   "metadata": {},
   "outputs": [],
   "source": [
    "print(_)"
   ]
  },
  {
   "cell_type": "markdown",
   "id": "72065a25-1bd4-4814-95c7-231af833fe21",
   "metadata": {},
   "source": [
    "#hard one\n",
    "\n",
    "y_pred_age, y_test_age = randomForest_pca(np.array(images), filedfnona['age'])\n",
    "accuracy_score(y_pred_age,y_test_age)\n",
    "print(classification_report(y_pred_age,y_test_age))\n",
    "print(confusion_matrix(y_pred_age,y_test_age))\n",
    "#ignore because is confusing\n",
    "#confusion_plot(y_test_age, y_pred_age)\n",
    "score = accuracy_score(y_pred_age,y_test_age)\n",
    "#scores.append(score)\n",
    "\n",
    "#fig = plt.figure(figsize=(15, 10))"
   ]
  },
  {
   "cell_type": "code",
   "execution_count": 9,
   "id": "ed0efddc-c446-48f9-92ee-fe7f31634d49",
   "metadata": {},
   "outputs": [
    {
     "name": "stdout",
     "output_type": "stream",
     "text": [
      "The start time is : 199.899109708\n",
      "The time difference is : 199.127284042\n"
     ]
    },
    {
     "data": {
      "text/plain": [
       "0.6838445807770961"
      ]
     },
     "execution_count": 9,
     "metadata": {},
     "output_type": "execute_result"
    }
   ],
   "source": [
    "starttime = timeit.default_timer()\n",
    "print(\"The start time is :\",starttime)\n",
    "y_pred_r, y_test_r = randomForest_pca(images, filedfnona['race'])\n",
    "print(\"The time difference is :\", timeit.default_timer() - starttime)\n",
    "accuracy_score(y_pred_r,y_test_r)\n"
   ]
  },
  {
   "cell_type": "code",
   "execution_count": 10,
   "id": "922e7703-6c1a-489c-bc62-4228e358b123",
   "metadata": {},
   "outputs": [
    {
     "name": "stdout",
     "output_type": "stream",
     "text": [
      "              precision    recall  f1-score   support\n",
      "\n",
      "           0       0.95      0.67      0.79      1880\n",
      "           1       0.13      0.70      0.22        20\n",
      "           2       0.52      0.83      0.64       242\n",
      "           3       0.44      0.66      0.53       245\n",
      "           4       0.13      0.59      0.21        58\n",
      "\n",
      "    accuracy                           0.68      2445\n",
      "   macro avg       0.43      0.69      0.48      2445\n",
      "weighted avg       0.83      0.68      0.73      2445\n",
      "\n",
      "[[1261   75  173  189  182]\n",
      " [   1   14    0    3    2]\n",
      " [  25    2  202    6    7]\n",
      " [  27   14    9  161   34]\n",
      " [   7    4    5    8   34]]\n"
     ]
    },
    {
     "data": {
      "image/png": "[encoded data removed]",
      "text/plain": [
       "<Figure size 432x288 with 2 Axes>"
      ]
     },
     "metadata": {
      "needs_background": "light"
     },
     "output_type": "display_data"
    },
    {
     "data": {
      "text/plain": [
       "<Figure size 1080x720 with 0 Axes>"
      ]
     },
     "metadata": {},
     "output_type": "display_data"
    }
   ],
   "source": [
    "print(classification_report(y_pred_r,y_test_r))\n",
    "print(confusion_matrix(y_pred_r,y_test_r))\n",
    "t = \"Clasification Report with Accuracy 68% for the Race Label\"\n",
    "x = ['White', 'Black', 'Asian', 'Indian', 'Others'] \n",
    "confusion_plot(y_test_r, y_pred_r, t, x, x)\n",
    "score = accuracy_score(y_pred_r,y_test_r)\n",
    "#scores.append(score)\n",
    "\n",
    "fig = plt.figure(figsize=(15, 10))"
   ]
  },
  {
   "cell_type": "code",
   "execution_count": null,
   "id": "fe9a24e2-a317-42f9-9634-173b33a42e96",
   "metadata": {},
   "outputs": [],
   "source": []
  },
  {
   "cell_type": "code",
   "execution_count": null,
   "id": "21847723-5450-4d2e-acf4-e94d7a8d63fb",
   "metadata": {},
   "outputs": [],
   "source": []
  },
  {
   "cell_type": "code",
   "execution_count": 11,
   "id": "f5a479b3-dc04-4eed-8555-5ccadda0c588",
   "metadata": {},
   "outputs": [],
   "source": [
    "#n_components = 10000"
   ]
  },
  {
   "cell_type": "markdown",
   "id": "69ce97e1-f52f-4cc1-8e70-269b4d997cb7",
   "metadata": {},
   "source": [
    "### this is what the images looks like after pca compared to the original one"
   ]
  },
  {
   "cell_type": "code",
   "execution_count": null,
   "id": "cf05dcd8-7fab-4f89-8797-db6b250a7544",
   "metadata": {},
   "outputs": [],
   "source": []
  },
  {
   "cell_type": "code",
   "execution_count": null,
   "id": "006768ce-1e23-4e30-8fbd-9c3e89e58095",
   "metadata": {},
   "outputs": [],
   "source": []
  },
  {
   "cell_type": "code",
   "execution_count": null,
   "id": "87890fcd-5d1d-45ba-b083-84d7f58bc00f",
   "metadata": {},
   "outputs": [],
   "source": []
  },
  {
   "cell_type": "markdown",
   "id": "67a51a79-03bf-45b4-a0e8-8c25da998958",
   "metadata": {},
   "source": [
    "#### Balancing Labels"
   ]
  },
  {
   "cell_type": "markdown",
   "id": "7be172eb-0dd0-4ea7-af3c-857e0444eb81",
   "metadata": {},
   "source": [
    "# Import image labels and paths to dataframe\n",
    "mypath = \"C:/Users/User/Desktop/CUNY/Faces_img/cropped.tar/cropped/crop_part1/\"\n",
    "filenames = np.array([f for f in listdir(mypath) if isfile(join(mypath, f))])\n",
    "splitcolumns = [x.split('_')[0:3] + [mypath +'/'+ x] for x in filenames if x.count('_') == 3]\n",
    "filecolumns = ['age','gender','race','file']\n",
    "filedf = pd.DataFrame(data = splitcolumns, columns = filecolumns).astype({'age': 'int', 'gender': 'int', 'race': 'int'})\n",
    "\n",
    "# Convert age to appropriate labels\n",
    "filedfnona['age']=np.where((filedfnona.age<3), 0, filedfnona.age)\n",
    "filedfnona['age']=np.where(((filedfnona.age>=3) & (filedfnona.age<6)), 1, filedfnona.age)\n",
    "filedfnona['age']=np.where(((filedfnona.age>=6) & (filedfnona.age<9)), 2, filedfnona.age)\n",
    "filedfnona['age']=np.where(((filedfnona.age>=9) & (filedfnona.age<12)), 3, filedfnona.age)\n",
    "filedfnona['age']=np.where(((filedfnona.age>=12) & (filedfnona.age<21)), 4, filedfnona.age)\n",
    "filedfnona['age']=np.where(((filedfnona.age>=21) & (filedfnona.age<36)), 5, filedfnona.age)\n",
    "filedfnona['age']=np.where(((filedfnona.age>=36) & (filedfnona.age<51)), 6, filedfnona.age)\n",
    "filedfnona['age']=np.where(((filedfnona.age>=51) & (filedfnona.age<80)), 7, filedfnona.age)\n",
    "filedfnona['age']=np.where((filedfnona.age>=80), 8, filedfnona.age)\n",
    "\n",
    "dfx = filedfnona.loc[:,'file']\n",
    "dfy = filedfnona.loc[:,Labeltype]\n",
    "\n",
    "# Get Train/Test\n",
    "X_train, X_test, y_train, y_test = train_test_split(dfx, dfy, test_size=0.3, random_state=42)\n",
    "\n",
    "# Get Train/Test/Validation dataset 0.25 * 8 = 0.2\n",
    "X_train_2, X_val, y_train_2, y_val = train_test_split(X_train, y_train, test_size=0.25, random_state=42)\n",
    "\n",
    "# Encode training labels and initialize random over sampler\n",
    "yencoded = LabelEncoder().fit_transform(y_train)\n",
    "oversample = RandomOverSampler()\n",
    "\n",
    "# Over sample until training classes are balanced\n",
    "X_train_balanced, y_train_balanced = oversample.fit_resample(np.array(X_train).reshape(-1,1), yencoded)\n",
    "\n",
    "# Of all classes, proportionally sample 10000\n",
    "dxy = {'file': X_train_balanced.reshape(len(X_train_balanced)), 'label': y_train_balanced}\n",
    "dfbalanced = pd.DataFrame(data = dxy)\n",
    "balancedsamples = int(5000/len(set(dfbalanced.loc[:,'label'])))\n",
    "dfbalancedsubset = dfbalanced.groupby('label', group_keys=False).apply(lambda x: x.sample(balancedsamples)).sample(frac=1)\n",
    "\n",
    "# Count and print balanced classes\n",
    "counter = Counter(y_train_balanced)\n",
    "for k,v in counter.items():\n",
    "    per = v / len(y_train_balanced) * 100\n",
    "    print('Class=%d, n=%d (%.3f%%)' % (k, v, per))\n",
    "\n",
    "# Count and print balanced classes subsets (Total should be 10000)\n",
    "counter = Counter(dfbalancedsubset.loc[:,'label'])\n",
    "for k,v in counter.items():\n",
    "    per = v / len(dfbalancedsubset.loc[:,'label']) * 100\n",
    "    print('Class=%d, n=%d (%.3f%%)' % (k, v, per))"
   ]
  },
  {
   "cell_type": "markdown",
   "id": "30eb452c-21ab-4871-9f1c-9329ed21d721",
   "metadata": {},
   "source": [
    "### training on best performing filters for age + pca"
   ]
  },
  {
   "cell_type": "code",
   "execution_count": 12,
   "id": "ed4c3329-7059-4bf9-bc20-8e2386e4bf25",
   "metadata": {},
   "outputs": [],
   "source": [
    "sobelEdgesImg = sobelEdges(images)"
   ]
  },
  {
   "cell_type": "code",
   "execution_count": 13,
   "id": "7170563c-e252-445a-9c8c-8aa8591f8b18",
   "metadata": {},
   "outputs": [
    {
     "name": "stdout",
     "output_type": "stream",
     "text": [
      "The start time is : 410.851099\n",
      "The time difference is : 131.277228208\n",
      "              precision    recall  f1-score   support\n",
      "\n",
      "           0       0.97      0.59      0.73      2193\n",
      "           1       0.00      0.00      0.00         1\n",
      "           2       0.43      0.76      0.55       200\n",
      "           3       0.07      0.65      0.13        43\n",
      "           4       0.03      1.00      0.05         8\n",
      "\n",
      "    accuracy                           0.60      2445\n",
      "   macro avg       0.30      0.60      0.29      2445\n",
      "weighted avg       0.91      0.60      0.71      2445\n",
      "\n",
      "[[1291   88  199  341  274]\n",
      " [   0    0    0    0    1]\n",
      " [  27    4  152    9    8]\n",
      " [   8    1    4   28    2]\n",
      " [   0    0    0    0    8]]\n"
     ]
    }
   ],
   "source": [
    "starttime = timeit.default_timer()\n",
    "print(\"The start time is :\",starttime)\n",
    "y_pred_r, y_test_r = randomForest(sobelEdgesImg, filedfnona['race'])\n",
    "print(\"The time difference is :\", timeit.default_timer() - starttime)\n",
    "accuracy_score(y_pred_r,y_test_r)\n",
    "print(classification_report(y_pred_r,y_test_r))\n",
    "print(confusion_matrix(y_pred_r,y_test_r))"
   ]
  },
  {
   "cell_type": "code",
   "execution_count": 14,
   "id": "86c2aa1e-d8d9-45f0-94ad-d3caa5574d7c",
   "metadata": {},
   "outputs": [
    {
     "data": {
      "image/png": "[encoded data removed]",
      "text/plain": [
       "<Figure size 432x288 with 2 Axes>"
      ]
     },
     "metadata": {
      "needs_background": "light"
     },
     "output_type": "display_data"
    },
    {
     "data": {
      "text/plain": [
       "<Figure size 1080x720 with 0 Axes>"
      ]
     },
     "metadata": {},
     "output_type": "display_data"
    }
   ],
   "source": [
    "t = \"Clasification Report with Accuracy 60% for the Race Label Using Sobel Filter only\"\n",
    "x = ['White', 'Black', 'Asian', 'Indian', 'Others'] \n",
    "confusion_plot(y_test_r, y_pred_r, t, x, x)\n",
    "fig = plt.figure(figsize=(15, 10))"
   ]
  },
  {
   "cell_type": "code",
   "execution_count": 15,
   "id": "5df1afcc-f512-4f12-a773-840474f53a02",
   "metadata": {},
   "outputs": [
    {
     "name": "stdout",
     "output_type": "stream",
     "text": [
      "The start time is : 542.275299291\n",
      "The time difference is : 128.73135612499993\n",
      "              precision    recall  f1-score   support\n",
      "\n",
      "           0       0.65      0.74      0.69       967\n",
      "           1       0.82      0.74      0.78      1478\n",
      "\n",
      "    accuracy                           0.74      2445\n",
      "   macro avg       0.73      0.74      0.73      2445\n",
      "weighted avg       0.75      0.74      0.74      2445\n",
      "\n",
      "[[ 719  248]\n",
      " [ 385 1093]]\n"
     ]
    }
   ],
   "source": [
    "starttime = timeit.default_timer()\n",
    "print(\"The start time is :\",starttime)\n",
    "y_pred_gender, y_test_gender = randomForest(sobelEdgesImg, filedfnona['gender'])\n",
    "accuracy_score(y_pred_gender,y_test_gender)\n",
    "print(\"The time difference is :\", timeit.default_timer() - starttime)\n",
    "print(classification_report(y_pred_gender,y_test_gender))\n",
    "print(confusion_matrix(y_pred_gender,y_test_gender))"
   ]
  },
  {
   "cell_type": "code",
   "execution_count": 16,
   "id": "1c1aa085-b0d9-4d0f-92d7-ced4969f8441",
   "metadata": {},
   "outputs": [
    {
     "data": {
      "image/png": "[encoded data removed]",
      "text/plain": [
       "<Figure size 432x288 with 2 Axes>"
      ]
     },
     "metadata": {
      "needs_background": "light"
     },
     "output_type": "display_data"
    },
    {
     "data": {
      "text/plain": [
       "<Figure size 1080x720 with 0 Axes>"
      ]
     },
     "metadata": {},
     "output_type": "display_data"
    }
   ],
   "source": [
    "t = \"Predictions on Gender Labels with Accuracy 74% using Sobel Filter Only\"\n",
    "x = ['Male', \"Female\"]\n",
    "confusion_plot(y_test_gender, y_pred_gender, t, x, x)\n",
    "#score = accuracy_score(y_pred_gender,y_test_gender)\n",
    "fig = plt.figure(figsize=(15, 10))"
   ]
  },
  {
   "cell_type": "markdown",
   "id": "614a8265-7f83-434b-b49e-bfe02187ee43",
   "metadata": {},
   "source": [
    "y_pred_age, y_test_age = randomForest_pca(sobelEdgesImg, filedfnona['age'])\n",
    "accuracy_score(y_pred_age,y_test_age)\n",
    "print(classification_report(y_pred_age,y_test_age))\n",
    "print(confusion_matrix(y_pred_age,y_test_age))\n",
    "#confusion_plot(y_test_age, y_pred_age)\n",
    "score = accuracy_score(y_pred_age,y_test_age)\n",
    "#scores.append(score)\n",
    "\n",
    "#fig = plt.figure(figsize=(15, 10))"
   ]
  },
  {
   "cell_type": "code",
   "execution_count": 17,
   "id": "20ab6d3b-dd04-40a6-b331-511e6448057a",
   "metadata": {},
   "outputs": [
    {
     "name": "stdout",
     "output_type": "stream",
     "text": [
      "The start time is : 671.130049375\n",
      "The time difference is : 242.77092737500004\n",
      "              precision    recall  f1-score   support\n",
      "\n",
      "           0       0.96      0.61      0.75      2039\n",
      "           1       0.00      0.00      0.00         0\n",
      "           2       0.47      0.76      0.58       249\n",
      "           3       0.25      0.56      0.34       151\n",
      "           4       0.01      0.33      0.01         6\n",
      "\n",
      "    accuracy                           0.62      2445\n",
      "   macro avg       0.34      0.45      0.34      2445\n",
      "weighted avg       0.86      0.62      0.70      2445\n",
      "\n",
      "[[1248   93  204  249  245]\n",
      " [   0    0    0    0    0]\n",
      " [  29    6  188   11   15]\n",
      " [  25    5    9   85   27]\n",
      " [   3    0    1    0    2]]\n"
     ]
    },
    {
     "name": "stderr",
     "output_type": "stream",
     "text": [
      "/opt/anaconda3/lib/python3.9/site-packages/sklearn/metrics/_classification.py:1327: UndefinedMetricWarning: Recall and F-score are ill-defined and being set to 0.0 in labels with no true samples. Use `zero_division` parameter to control this behavior.\n",
      "  _warn_prf(average, modifier, msg_start, len(result))\n",
      "/opt/anaconda3/lib/python3.9/site-packages/sklearn/metrics/_classification.py:1327: UndefinedMetricWarning: Recall and F-score are ill-defined and being set to 0.0 in labels with no true samples. Use `zero_division` parameter to control this behavior.\n",
      "  _warn_prf(average, modifier, msg_start, len(result))\n",
      "/opt/anaconda3/lib/python3.9/site-packages/sklearn/metrics/_classification.py:1327: UndefinedMetricWarning: Recall and F-score are ill-defined and being set to 0.0 in labels with no true samples. Use `zero_division` parameter to control this behavior.\n",
      "  _warn_prf(average, modifier, msg_start, len(result))\n"
     ]
    }
   ],
   "source": [
    "starttime = timeit.default_timer()\n",
    "print(\"The start time is :\",starttime)\n",
    "y_pred_r, y_test_r = randomForest_pca(sobelEdgesImg, filedfnona['race'])\n",
    "print(\"The time difference is :\", timeit.default_timer() - starttime)\n",
    "\n",
    "accuracy_score(y_pred_r,y_test_r)\n",
    "print(classification_report(y_pred_r,y_test_r))\n",
    "print(confusion_matrix(y_pred_r,y_test_r))\n"
   ]
  },
  {
   "cell_type": "code",
   "execution_count": 18,
   "id": "dcf7989c-a42e-41c7-8436-72ec1e5ef32b",
   "metadata": {},
   "outputs": [
    {
     "data": {
      "image/png": "[encoded data removed]",
      "text/plain": [
       "<Figure size 432x288 with 2 Axes>"
      ]
     },
     "metadata": {
      "needs_background": "light"
     },
     "output_type": "display_data"
    },
    {
     "data": {
      "text/plain": [
       "<Figure size 1080x720 with 0 Axes>"
      ]
     },
     "metadata": {},
     "output_type": "display_data"
    }
   ],
   "source": [
    "t = \"Clasification Accuracy 61% for the Race Label Using Sobel Filter + PCA\"\n",
    "x = ['White', 'Black', 'Asian', 'Indian', 'Others'] \n",
    "confusion_plot(y_test_r, y_pred_r, t, x, x)\n",
    "fig = plt.figure(figsize=(15, 10))"
   ]
  },
  {
   "cell_type": "code",
   "execution_count": 19,
   "id": "69d4c140-d565-4ec8-adaa-ae09a9b180fa",
   "metadata": {},
   "outputs": [
    {
     "name": "stdout",
     "output_type": "stream",
     "text": [
      "The start time is : 914.130429375\n",
      "The time difference is : 228.51706416599995\n",
      "              precision    recall  f1-score   support\n",
      "\n",
      "           0       0.68      0.70      0.69      1066\n",
      "           1       0.76      0.74      0.75      1379\n",
      "\n",
      "    accuracy                           0.73      2445\n",
      "   macro avg       0.72      0.72      0.72      2445\n",
      "weighted avg       0.73      0.73      0.73      2445\n",
      "\n",
      "[[ 751  315]\n",
      " [ 355 1024]]\n"
     ]
    }
   ],
   "source": [
    "starttime = timeit.default_timer()\n",
    "print(\"The start time is :\",starttime)\n",
    "y_pred_gender, y_test_gender = randomForest_pca(sobelEdgesImg, filedfnona['gender'])\n",
    "print(\"The time difference is :\", timeit.default_timer() - starttime)\n",
    "accuracy_score(y_pred_gender,y_test_gender)\n",
    "print(classification_report(y_pred_gender,y_test_gender))\n",
    "print(confusion_matrix(y_pred_gender,y_test_gender))\n"
   ]
  },
  {
   "cell_type": "code",
   "execution_count": 20,
   "id": "8b83f415-bf1f-441f-91df-ac114cbe873a",
   "metadata": {},
   "outputs": [
    {
     "data": {
      "image/png": "[encoded data removed]",
      "text/plain": [
       "<Figure size 432x288 with 2 Axes>"
      ]
     },
     "metadata": {
      "needs_background": "light"
     },
     "output_type": "display_data"
    },
    {
     "data": {
      "text/plain": [
       "<Figure size 1080x720 with 0 Axes>"
      ]
     },
     "metadata": {},
     "output_type": "display_data"
    }
   ],
   "source": [
    "t = \"Predictions on Gender Labels with Accuracy 75% using Sobel Filter + PCA\"\n",
    "x = ['Male', \"Female\"]\n",
    "confusion_plot(y_test_gender, y_pred_gender, t, x, x)\n",
    "#score = accuracy_score(y_pred_gender,y_test_gender)\n",
    "fig = plt.figure(figsize=(15, 10))"
   ]
  },
  {
   "cell_type": "markdown",
   "id": "da42a9c1-f113-4f04-b10b-26d75032818d",
   "metadata": {},
   "source": [
    "\n",
    "\n",
    "\n",
    "y_pred_age, y_test_age = randomForestPcaSobel(np.array(images), filedfnona['age'])\n",
    "accuracy_score(y_pred_age,y_test_age)\n",
    "print(classification_report(y_pred_age,y_test_age))\n",
    "print(confusion_matrix(y_pred_age,y_test_age))\n",
    "confusion_plot(y_test_age, y_pred_age)\n",
    "score = accuracy_score(y_pred_age,y_test_age)\n",
    "#scores.append(score)\n",
    "\n",
    "fig = plt.figure(figsize=(15, 10))"
   ]
  },
  {
   "cell_type": "code",
   "execution_count": 21,
   "id": "07a2869f-1fad-46fe-96d3-dbf68ef39353",
   "metadata": {},
   "outputs": [],
   "source": [
    "adaptist = adaptistEqualizer(images)"
   ]
  },
  {
   "cell_type": "code",
   "execution_count": 22,
   "id": "dc71b752-15ed-4cbf-821e-790e32582422",
   "metadata": {},
   "outputs": [
    {
     "name": "stdout",
     "output_type": "stream",
     "text": [
      "The start time is : 1196.105542125\n",
      "The time difference is : 175.6892083329999\n",
      "              precision    recall  f1-score   support\n",
      "\n",
      "           0       0.97      0.62      0.76      2045\n",
      "           1       0.03      0.75      0.06         4\n",
      "           2       0.49      0.76      0.60       270\n",
      "           3       0.22      0.75      0.33       104\n",
      "           4       0.07      0.82      0.12        22\n",
      "\n",
      "    accuracy                           0.64      2445\n",
      "   macro avg       0.36      0.74      0.37      2445\n",
      "weighted avg       0.88      0.64      0.71      2445\n",
      "\n",
      "[[1265   84  206  268  222]\n",
      " [   0    3    0    0    1]\n",
      " [  24    5  204   16   21]\n",
      " [   8    5    4   78    9]\n",
      " [   3    0    1    0   18]]\n"
     ]
    }
   ],
   "source": [
    "starttime = timeit.default_timer()\n",
    "print(\"The start time is :\",starttime)\n",
    "y_pred_r, y_test_r = randomForest(adaptist, filedfnona['race'])\n",
    "\n",
    "print(\"The time difference is :\", timeit.default_timer() - starttime)\n",
    "accuracy_score(y_pred_r,y_test_r)\n",
    "print(classification_report(y_pred_r,y_test_r))\n",
    "print(confusion_matrix(y_pred_r,y_test_r))"
   ]
  },
  {
   "cell_type": "code",
   "execution_count": 23,
   "id": "c46b8f42-073d-4433-9cad-503f0eb5e7c1",
   "metadata": {},
   "outputs": [
    {
     "data": {
      "image/png": "[encoded data removed]",
      "text/plain": [
       "<Figure size 432x288 with 2 Axes>"
      ]
     },
     "metadata": {
      "needs_background": "light"
     },
     "output_type": "display_data"
    },
    {
     "data": {
      "text/plain": [
       "<Figure size 1080x720 with 0 Axes>"
      ]
     },
     "metadata": {},
     "output_type": "display_data"
    }
   ],
   "source": [
    "t = \"Clasification Accuracy 66% for the Race Label Using Adaptist Filter Only\"\n",
    "x = ['White', 'Black', 'Asian', 'Indian', 'Others'] \n",
    "confusion_plot(y_test_r, y_pred_r, t, x, x)\n",
    "fig = plt.figure(figsize=(15, 10))"
   ]
  },
  {
   "cell_type": "code",
   "execution_count": 24,
   "id": "9e19807c-2826-4ddc-affc-15fa8b241990",
   "metadata": {},
   "outputs": [
    {
     "name": "stdout",
     "output_type": "stream",
     "text": [
      "The start time is : 1371.941773958\n",
      "The time difference is : 123.04385141699981\n",
      "              precision    recall  f1-score   support\n",
      "\n",
      "           0       0.72      0.76      0.74      1018\n",
      "           1       0.82      0.79      0.80      1427\n",
      "\n",
      "    accuracy                           0.78      2445\n",
      "   macro avg       0.77      0.77      0.77      2445\n",
      "weighted avg       0.78      0.78      0.78      2445\n",
      "\n",
      "[[ 770  248]\n",
      " [ 299 1128]]\n"
     ]
    }
   ],
   "source": [
    "starttime = timeit.default_timer()\n",
    "print(\"The start time is :\",starttime)\n",
    "y_pred_gender, y_test_gender = randomForest(adaptist, filedfnona['gender'])\n",
    "print(\"The time difference is :\", timeit.default_timer() - starttime)\n",
    "accuracy_score(y_pred_gender,y_test_gender)\n",
    "print(classification_report(y_pred_gender,y_test_gender))\n",
    "print(confusion_matrix(y_pred_gender,y_test_gender))"
   ]
  },
  {
   "cell_type": "code",
   "execution_count": 25,
   "id": "c5d0ed80-131a-4e40-b0f3-94de4fa8f9fd",
   "metadata": {},
   "outputs": [
    {
     "data": {
      "image/png": "[encoded data removed]",
      "text/plain": [
       "<Figure size 432x288 with 2 Axes>"
      ]
     },
     "metadata": {
      "needs_background": "light"
     },
     "output_type": "display_data"
    },
    {
     "data": {
      "text/plain": [
       "<Figure size 1080x720 with 0 Axes>"
      ]
     },
     "metadata": {},
     "output_type": "display_data"
    }
   ],
   "source": [
    "t = \"Predictions on Gender Labels with Accuracy 76% using Adaptist Filter Only\"\n",
    "x = ['Male', \"Female\"]\n",
    "confusion_plot(y_test_gender, y_pred_gender, t, x, x)\n",
    "#score = accuracy_score(y_pred_gender,y_test_gender)\n",
    "fig = plt.figure(figsize=(15, 10))"
   ]
  },
  {
   "cell_type": "code",
   "execution_count": 26,
   "id": "b1338ce4-4e8c-4be9-a75c-1ee30fa023ec",
   "metadata": {},
   "outputs": [],
   "source": [
    "sobel_channel = sobelChannel(images)"
   ]
  },
  {
   "cell_type": "code",
   "execution_count": 27,
   "id": "bf03e4fa-038c-4774-b606-ea0922345a39",
   "metadata": {},
   "outputs": [
    {
     "name": "stdout",
     "output_type": "stream",
     "text": [
      "The start time is : 1515.551448083\n"
     ]
    },
    {
     "ename": "KeyboardInterrupt",
     "evalue": "",
     "output_type": "error",
     "traceback": [
      "\u001b[0;31m---------------------------------------------------------------------------\u001b[0m",
      "\u001b[0;31mKeyboardInterrupt\u001b[0m                         Traceback (most recent call last)",
      "\u001b[0;32m/var/folders/sk/km6c1g654036cmvl40zycd0m0000gn/T/ipykernel_5758/3370395437.py\u001b[0m in \u001b[0;36m<module>\u001b[0;34m\u001b[0m\n\u001b[1;32m      1\u001b[0m \u001b[0mstarttime\u001b[0m \u001b[0;34m=\u001b[0m \u001b[0mtimeit\u001b[0m\u001b[0;34m.\u001b[0m\u001b[0mdefault_timer\u001b[0m\u001b[0;34m(\u001b[0m\u001b[0;34m)\u001b[0m\u001b[0;34m\u001b[0m\u001b[0;34m\u001b[0m\u001b[0m\n\u001b[1;32m      2\u001b[0m \u001b[0mprint\u001b[0m\u001b[0;34m(\u001b[0m\u001b[0;34m\"The start time is :\"\u001b[0m\u001b[0;34m,\u001b[0m\u001b[0mstarttime\u001b[0m\u001b[0;34m)\u001b[0m\u001b[0;34m\u001b[0m\u001b[0;34m\u001b[0m\u001b[0m\n\u001b[0;32m----> 3\u001b[0;31m \u001b[0my_pred_r\u001b[0m\u001b[0;34m,\u001b[0m \u001b[0my_test_r\u001b[0m \u001b[0;34m=\u001b[0m \u001b[0mrandomForest\u001b[0m\u001b[0;34m(\u001b[0m\u001b[0msobel_channel\u001b[0m\u001b[0;34m,\u001b[0m \u001b[0mfiledfnona\u001b[0m\u001b[0;34m[\u001b[0m\u001b[0;34m'race'\u001b[0m\u001b[0;34m]\u001b[0m\u001b[0;34m)\u001b[0m\u001b[0;34m\u001b[0m\u001b[0;34m\u001b[0m\u001b[0m\n\u001b[0m\u001b[1;32m      4\u001b[0m \u001b[0mprint\u001b[0m\u001b[0;34m(\u001b[0m\u001b[0;34m\"The time difference is :\"\u001b[0m\u001b[0;34m,\u001b[0m \u001b[0mtimeit\u001b[0m\u001b[0;34m.\u001b[0m\u001b[0mdefault_timer\u001b[0m\u001b[0;34m(\u001b[0m\u001b[0;34m)\u001b[0m \u001b[0;34m-\u001b[0m \u001b[0mstarttime\u001b[0m\u001b[0;34m)\u001b[0m\u001b[0;34m\u001b[0m\u001b[0;34m\u001b[0m\u001b[0m\n\u001b[1;32m      5\u001b[0m \u001b[0maccuracy_score\u001b[0m\u001b[0;34m(\u001b[0m\u001b[0my_pred_r\u001b[0m\u001b[0;34m,\u001b[0m\u001b[0my_test_r\u001b[0m\u001b[0;34m)\u001b[0m\u001b[0;34m\u001b[0m\u001b[0;34m\u001b[0m\u001b[0m\n",
      "\u001b[0;32m/var/folders/sk/km6c1g654036cmvl40zycd0m0000gn/T/ipykernel_5758/1433275671.py\u001b[0m in \u001b[0;36mrandomForest\u001b[0;34m(imagesArray, labelsToPredict)\u001b[0m\n\u001b[1;32m     13\u001b[0m     \u001b[0;31m#recovered_images = pca.inverse_transform(reduced_images)\u001b[0m\u001b[0;34m\u001b[0m\u001b[0;34m\u001b[0m\u001b[0m\n\u001b[1;32m     14\u001b[0m     \u001b[0;31m#model.fit(recovered_images,y_train)\u001b[0m\u001b[0;34m\u001b[0m\u001b[0;34m\u001b[0m\u001b[0m\n\u001b[0;32m---> 15\u001b[0;31m     \u001b[0mmodel\u001b[0m\u001b[0;34m.\u001b[0m\u001b[0mfit\u001b[0m\u001b[0;34m(\u001b[0m\u001b[0mX_train2\u001b[0m\u001b[0;34m,\u001b[0m \u001b[0my_train\u001b[0m\u001b[0;34m)\u001b[0m\u001b[0;34m\u001b[0m\u001b[0;34m\u001b[0m\u001b[0m\n\u001b[0m\u001b[1;32m     16\u001b[0m     \u001b[0;31m#now doing the same for testing subset\u001b[0m\u001b[0;34m\u001b[0m\u001b[0;34m\u001b[0m\u001b[0m\n\u001b[1;32m     17\u001b[0m     \u001b[0mnsamples\u001b[0m\u001b[0;34m,\u001b[0m \u001b[0mnx\u001b[0m\u001b[0;34m,\u001b[0m \u001b[0mny\u001b[0m\u001b[0;34m=\u001b[0m \u001b[0mX_test\u001b[0m\u001b[0;34m.\u001b[0m\u001b[0mshape\u001b[0m\u001b[0;34m\u001b[0m\u001b[0;34m\u001b[0m\u001b[0m\n",
      "\u001b[0;32m/opt/anaconda3/lib/python3.9/site-packages/sklearn/ensemble/_forest.py\u001b[0m in \u001b[0;36mfit\u001b[0;34m(self, X, y, sample_weight)\u001b[0m\n\u001b[1;32m    474\u001b[0m             \u001b[0;31m# parallel_backend contexts set at a higher level,\u001b[0m\u001b[0;34m\u001b[0m\u001b[0;34m\u001b[0m\u001b[0m\n\u001b[1;32m    475\u001b[0m             \u001b[0;31m# since correctness does not rely on using threads.\u001b[0m\u001b[0;34m\u001b[0m\u001b[0;34m\u001b[0m\u001b[0m\n\u001b[0;32m--> 476\u001b[0;31m             trees = Parallel(\n\u001b[0m\u001b[1;32m    477\u001b[0m                 \u001b[0mn_jobs\u001b[0m\u001b[0;34m=\u001b[0m\u001b[0mself\u001b[0m\u001b[0;34m.\u001b[0m\u001b[0mn_jobs\u001b[0m\u001b[0;34m,\u001b[0m\u001b[0;34m\u001b[0m\u001b[0;34m\u001b[0m\u001b[0m\n\u001b[1;32m    478\u001b[0m                 \u001b[0mverbose\u001b[0m\u001b[0;34m=\u001b[0m\u001b[0mself\u001b[0m\u001b[0;34m.\u001b[0m\u001b[0mverbose\u001b[0m\u001b[0;34m,\u001b[0m\u001b[0;34m\u001b[0m\u001b[0;34m\u001b[0m\u001b[0m\n",
      "\u001b[0;32m/opt/anaconda3/lib/python3.9/site-packages/joblib/parallel.py\u001b[0m in \u001b[0;36m__call__\u001b[0;34m(self, iterable)\u001b[0m\n\u001b[1;32m   1044\u001b[0m                 \u001b[0mself\u001b[0m\u001b[0;34m.\u001b[0m\u001b[0m_iterating\u001b[0m \u001b[0;34m=\u001b[0m \u001b[0mself\u001b[0m\u001b[0;34m.\u001b[0m\u001b[0m_original_iterator\u001b[0m \u001b[0;32mis\u001b[0m \u001b[0;32mnot\u001b[0m \u001b[0;32mNone\u001b[0m\u001b[0;34m\u001b[0m\u001b[0;34m\u001b[0m\u001b[0m\n\u001b[1;32m   1045\u001b[0m \u001b[0;34m\u001b[0m\u001b[0m\n\u001b[0;32m-> 1046\u001b[0;31m             \u001b[0;32mwhile\u001b[0m \u001b[0mself\u001b[0m\u001b[0;34m.\u001b[0m\u001b[0mdispatch_one_batch\u001b[0m\u001b[0;34m(\u001b[0m\u001b[0miterator\u001b[0m\u001b[0;34m)\u001b[0m\u001b[0;34m:\u001b[0m\u001b[0;34m\u001b[0m\u001b[0;34m\u001b[0m\u001b[0m\n\u001b[0m\u001b[1;32m   1047\u001b[0m                 \u001b[0;32mpass\u001b[0m\u001b[0;34m\u001b[0m\u001b[0;34m\u001b[0m\u001b[0m\n\u001b[1;32m   1048\u001b[0m \u001b[0;34m\u001b[0m\u001b[0m\n",
      "\u001b[0;32m/opt/anaconda3/lib/python3.9/site-packages/joblib/parallel.py\u001b[0m in \u001b[0;36mdispatch_one_batch\u001b[0;34m(self, iterator)\u001b[0m\n\u001b[1;32m    859\u001b[0m                 \u001b[0;32mreturn\u001b[0m \u001b[0;32mFalse\u001b[0m\u001b[0;34m\u001b[0m\u001b[0;34m\u001b[0m\u001b[0m\n\u001b[1;32m    860\u001b[0m             \u001b[0;32melse\u001b[0m\u001b[0;34m:\u001b[0m\u001b[0;34m\u001b[0m\u001b[0;34m\u001b[0m\u001b[0m\n\u001b[0;32m--> 861\u001b[0;31m                 \u001b[0mself\u001b[0m\u001b[0;34m.\u001b[0m\u001b[0m_dispatch\u001b[0m\u001b[0;34m(\u001b[0m\u001b[0mtasks\u001b[0m\u001b[0;34m)\u001b[0m\u001b[0;34m\u001b[0m\u001b[0;34m\u001b[0m\u001b[0m\n\u001b[0m\u001b[1;32m    862\u001b[0m                 \u001b[0;32mreturn\u001b[0m \u001b[0;32mTrue\u001b[0m\u001b[0;34m\u001b[0m\u001b[0;34m\u001b[0m\u001b[0m\n\u001b[1;32m    863\u001b[0m \u001b[0;34m\u001b[0m\u001b[0m\n",
      "\u001b[0;32m/opt/anaconda3/lib/python3.9/site-packages/joblib/parallel.py\u001b[0m in \u001b[0;36m_dispatch\u001b[0;34m(self, batch)\u001b[0m\n\u001b[1;32m    777\u001b[0m         \u001b[0;32mwith\u001b[0m \u001b[0mself\u001b[0m\u001b[0;34m.\u001b[0m\u001b[0m_lock\u001b[0m\u001b[0;34m:\u001b[0m\u001b[0;34m\u001b[0m\u001b[0;34m\u001b[0m\u001b[0m\n\u001b[1;32m    778\u001b[0m             \u001b[0mjob_idx\u001b[0m \u001b[0;34m=\u001b[0m \u001b[0mlen\u001b[0m\u001b[0;34m(\u001b[0m\u001b[0mself\u001b[0m\u001b[0;34m.\u001b[0m\u001b[0m_jobs\u001b[0m\u001b[0;34m)\u001b[0m\u001b[0;34m\u001b[0m\u001b[0;34m\u001b[0m\u001b[0m\n\u001b[0;32m--> 779\u001b[0;31m             \u001b[0mjob\u001b[0m \u001b[0;34m=\u001b[0m \u001b[0mself\u001b[0m\u001b[0;34m.\u001b[0m\u001b[0m_backend\u001b[0m\u001b[0;34m.\u001b[0m\u001b[0mapply_async\u001b[0m\u001b[0;34m(\u001b[0m\u001b[0mbatch\u001b[0m\u001b[0;34m,\u001b[0m \u001b[0mcallback\u001b[0m\u001b[0;34m=\u001b[0m\u001b[0mcb\u001b[0m\u001b[0;34m)\u001b[0m\u001b[0;34m\u001b[0m\u001b[0;34m\u001b[0m\u001b[0m\n\u001b[0m\u001b[1;32m    780\u001b[0m             \u001b[0;31m# A job can complete so quickly than its callback is\u001b[0m\u001b[0;34m\u001b[0m\u001b[0;34m\u001b[0m\u001b[0m\n\u001b[1;32m    781\u001b[0m             \u001b[0;31m# called before we get here, causing self._jobs to\u001b[0m\u001b[0;34m\u001b[0m\u001b[0;34m\u001b[0m\u001b[0m\n",
      "\u001b[0;32m/opt/anaconda3/lib/python3.9/site-packages/joblib/_parallel_backends.py\u001b[0m in \u001b[0;36mapply_async\u001b[0;34m(self, func, callback)\u001b[0m\n\u001b[1;32m    206\u001b[0m     \u001b[0;32mdef\u001b[0m \u001b[0mapply_async\u001b[0m\u001b[0;34m(\u001b[0m\u001b[0mself\u001b[0m\u001b[0;34m,\u001b[0m \u001b[0mfunc\u001b[0m\u001b[0;34m,\u001b[0m \u001b[0mcallback\u001b[0m\u001b[0;34m=\u001b[0m\u001b[0;32mNone\u001b[0m\u001b[0;34m)\u001b[0m\u001b[0;34m:\u001b[0m\u001b[0;34m\u001b[0m\u001b[0;34m\u001b[0m\u001b[0m\n\u001b[1;32m    207\u001b[0m         \u001b[0;34m\"\"\"Schedule a func to be run\"\"\"\u001b[0m\u001b[0;34m\u001b[0m\u001b[0;34m\u001b[0m\u001b[0m\n\u001b[0;32m--> 208\u001b[0;31m         \u001b[0mresult\u001b[0m \u001b[0;34m=\u001b[0m \u001b[0mImmediateResult\u001b[0m\u001b[0;34m(\u001b[0m\u001b[0mfunc\u001b[0m\u001b[0;34m)\u001b[0m\u001b[0;34m\u001b[0m\u001b[0;34m\u001b[0m\u001b[0m\n\u001b[0m\u001b[1;32m    209\u001b[0m         \u001b[0;32mif\u001b[0m \u001b[0mcallback\u001b[0m\u001b[0;34m:\u001b[0m\u001b[0;34m\u001b[0m\u001b[0;34m\u001b[0m\u001b[0m\n\u001b[1;32m    210\u001b[0m             \u001b[0mcallback\u001b[0m\u001b[0;34m(\u001b[0m\u001b[0mresult\u001b[0m\u001b[0;34m)\u001b[0m\u001b[0;34m\u001b[0m\u001b[0;34m\u001b[0m\u001b[0m\n",
      "\u001b[0;32m/opt/anaconda3/lib/python3.9/site-packages/joblib/_parallel_backends.py\u001b[0m in \u001b[0;36m__init__\u001b[0;34m(self, batch)\u001b[0m\n\u001b[1;32m    570\u001b[0m         \u001b[0;31m# Don't delay the application, to avoid keeping the input\u001b[0m\u001b[0;34m\u001b[0m\u001b[0;34m\u001b[0m\u001b[0m\n\u001b[1;32m    571\u001b[0m         \u001b[0;31m# arguments in memory\u001b[0m\u001b[0;34m\u001b[0m\u001b[0;34m\u001b[0m\u001b[0m\n\u001b[0;32m--> 572\u001b[0;31m         \u001b[0mself\u001b[0m\u001b[0;34m.\u001b[0m\u001b[0mresults\u001b[0m \u001b[0;34m=\u001b[0m \u001b[0mbatch\u001b[0m\u001b[0;34m(\u001b[0m\u001b[0;34m)\u001b[0m\u001b[0;34m\u001b[0m\u001b[0;34m\u001b[0m\u001b[0m\n\u001b[0m\u001b[1;32m    573\u001b[0m \u001b[0;34m\u001b[0m\u001b[0m\n\u001b[1;32m    574\u001b[0m     \u001b[0;32mdef\u001b[0m \u001b[0mget\u001b[0m\u001b[0;34m(\u001b[0m\u001b[0mself\u001b[0m\u001b[0;34m)\u001b[0m\u001b[0;34m:\u001b[0m\u001b[0;34m\u001b[0m\u001b[0;34m\u001b[0m\u001b[0m\n",
      "\u001b[0;32m/opt/anaconda3/lib/python3.9/site-packages/joblib/parallel.py\u001b[0m in \u001b[0;36m__call__\u001b[0;34m(self)\u001b[0m\n\u001b[1;32m    260\u001b[0m         \u001b[0;31m# change the default number of processes to -1\u001b[0m\u001b[0;34m\u001b[0m\u001b[0;34m\u001b[0m\u001b[0m\n\u001b[1;32m    261\u001b[0m         \u001b[0;32mwith\u001b[0m \u001b[0mparallel_backend\u001b[0m\u001b[0;34m(\u001b[0m\u001b[0mself\u001b[0m\u001b[0;34m.\u001b[0m\u001b[0m_backend\u001b[0m\u001b[0;34m,\u001b[0m \u001b[0mn_jobs\u001b[0m\u001b[0;34m=\u001b[0m\u001b[0mself\u001b[0m\u001b[0;34m.\u001b[0m\u001b[0m_n_jobs\u001b[0m\u001b[0;34m)\u001b[0m\u001b[0;34m:\u001b[0m\u001b[0;34m\u001b[0m\u001b[0;34m\u001b[0m\u001b[0m\n\u001b[0;32m--> 262\u001b[0;31m             return [func(*args, **kwargs)\n\u001b[0m\u001b[1;32m    263\u001b[0m                     for func, args, kwargs in self.items]\n\u001b[1;32m    264\u001b[0m \u001b[0;34m\u001b[0m\u001b[0m\n",
      "\u001b[0;32m/opt/anaconda3/lib/python3.9/site-packages/joblib/parallel.py\u001b[0m in \u001b[0;36m<listcomp>\u001b[0;34m(.0)\u001b[0m\n\u001b[1;32m    260\u001b[0m         \u001b[0;31m# change the default number of processes to -1\u001b[0m\u001b[0;34m\u001b[0m\u001b[0;34m\u001b[0m\u001b[0m\n\u001b[1;32m    261\u001b[0m         \u001b[0;32mwith\u001b[0m \u001b[0mparallel_backend\u001b[0m\u001b[0;34m(\u001b[0m\u001b[0mself\u001b[0m\u001b[0;34m.\u001b[0m\u001b[0m_backend\u001b[0m\u001b[0;34m,\u001b[0m \u001b[0mn_jobs\u001b[0m\u001b[0;34m=\u001b[0m\u001b[0mself\u001b[0m\u001b[0;34m.\u001b[0m\u001b[0m_n_jobs\u001b[0m\u001b[0;34m)\u001b[0m\u001b[0;34m:\u001b[0m\u001b[0;34m\u001b[0m\u001b[0;34m\u001b[0m\u001b[0m\n\u001b[0;32m--> 262\u001b[0;31m             return [func(*args, **kwargs)\n\u001b[0m\u001b[1;32m    263\u001b[0m                     for func, args, kwargs in self.items]\n\u001b[1;32m    264\u001b[0m \u001b[0;34m\u001b[0m\u001b[0m\n",
      "\u001b[0;32m/opt/anaconda3/lib/python3.9/site-packages/sklearn/utils/fixes.py\u001b[0m in \u001b[0;36m__call__\u001b[0;34m(self, *args, **kwargs)\u001b[0m\n\u001b[1;32m    115\u001b[0m     \u001b[0;32mdef\u001b[0m \u001b[0m__call__\u001b[0m\u001b[0;34m(\u001b[0m\u001b[0mself\u001b[0m\u001b[0;34m,\u001b[0m \u001b[0;34m*\u001b[0m\u001b[0margs\u001b[0m\u001b[0;34m,\u001b[0m \u001b[0;34m**\u001b[0m\u001b[0mkwargs\u001b[0m\u001b[0;34m)\u001b[0m\u001b[0;34m:\u001b[0m\u001b[0;34m\u001b[0m\u001b[0;34m\u001b[0m\u001b[0m\n\u001b[1;32m    116\u001b[0m         \u001b[0;32mwith\u001b[0m \u001b[0mconfig_context\u001b[0m\u001b[0;34m(\u001b[0m\u001b[0;34m**\u001b[0m\u001b[0mself\u001b[0m\u001b[0;34m.\u001b[0m\u001b[0mconfig\u001b[0m\u001b[0;34m)\u001b[0m\u001b[0;34m:\u001b[0m\u001b[0;34m\u001b[0m\u001b[0;34m\u001b[0m\u001b[0m\n\u001b[0;32m--> 117\u001b[0;31m             \u001b[0;32mreturn\u001b[0m \u001b[0mself\u001b[0m\u001b[0;34m.\u001b[0m\u001b[0mfunction\u001b[0m\u001b[0;34m(\u001b[0m\u001b[0;34m*\u001b[0m\u001b[0margs\u001b[0m\u001b[0;34m,\u001b[0m \u001b[0;34m**\u001b[0m\u001b[0mkwargs\u001b[0m\u001b[0;34m)\u001b[0m\u001b[0;34m\u001b[0m\u001b[0;34m\u001b[0m\u001b[0m\n\u001b[0m\u001b[1;32m    118\u001b[0m \u001b[0;34m\u001b[0m\u001b[0m\n\u001b[1;32m    119\u001b[0m \u001b[0;34m\u001b[0m\u001b[0m\n",
      "\u001b[0;32m/opt/anaconda3/lib/python3.9/site-packages/sklearn/ensemble/_forest.py\u001b[0m in \u001b[0;36m_parallel_build_trees\u001b[0;34m(tree, bootstrap, X, y, sample_weight, tree_idx, n_trees, verbose, class_weight, n_samples_bootstrap)\u001b[0m\n\u001b[1;32m    187\u001b[0m             \u001b[0mcurr_sample_weight\u001b[0m \u001b[0;34m*=\u001b[0m \u001b[0mcompute_sample_weight\u001b[0m\u001b[0;34m(\u001b[0m\u001b[0;34m\"balanced\"\u001b[0m\u001b[0;34m,\u001b[0m \u001b[0my\u001b[0m\u001b[0;34m,\u001b[0m \u001b[0mindices\u001b[0m\u001b[0;34m=\u001b[0m\u001b[0mindices\u001b[0m\u001b[0;34m)\u001b[0m\u001b[0;34m\u001b[0m\u001b[0;34m\u001b[0m\u001b[0m\n\u001b[1;32m    188\u001b[0m \u001b[0;34m\u001b[0m\u001b[0m\n\u001b[0;32m--> 189\u001b[0;31m         \u001b[0mtree\u001b[0m\u001b[0;34m.\u001b[0m\u001b[0mfit\u001b[0m\u001b[0;34m(\u001b[0m\u001b[0mX\u001b[0m\u001b[0;34m,\u001b[0m \u001b[0my\u001b[0m\u001b[0;34m,\u001b[0m \u001b[0msample_weight\u001b[0m\u001b[0;34m=\u001b[0m\u001b[0mcurr_sample_weight\u001b[0m\u001b[0;34m,\u001b[0m \u001b[0mcheck_input\u001b[0m\u001b[0;34m=\u001b[0m\u001b[0;32mFalse\u001b[0m\u001b[0;34m)\u001b[0m\u001b[0;34m\u001b[0m\u001b[0;34m\u001b[0m\u001b[0m\n\u001b[0m\u001b[1;32m    190\u001b[0m     \u001b[0;32melse\u001b[0m\u001b[0;34m:\u001b[0m\u001b[0;34m\u001b[0m\u001b[0;34m\u001b[0m\u001b[0m\n\u001b[1;32m    191\u001b[0m         \u001b[0mtree\u001b[0m\u001b[0;34m.\u001b[0m\u001b[0mfit\u001b[0m\u001b[0;34m(\u001b[0m\u001b[0mX\u001b[0m\u001b[0;34m,\u001b[0m \u001b[0my\u001b[0m\u001b[0;34m,\u001b[0m \u001b[0msample_weight\u001b[0m\u001b[0;34m=\u001b[0m\u001b[0msample_weight\u001b[0m\u001b[0;34m,\u001b[0m \u001b[0mcheck_input\u001b[0m\u001b[0;34m=\u001b[0m\u001b[0;32mFalse\u001b[0m\u001b[0;34m)\u001b[0m\u001b[0;34m\u001b[0m\u001b[0;34m\u001b[0m\u001b[0m\n",
      "\u001b[0;32m/opt/anaconda3/lib/python3.9/site-packages/sklearn/tree/_classes.py\u001b[0m in \u001b[0;36mfit\u001b[0;34m(self, X, y, sample_weight, check_input)\u001b[0m\n\u001b[1;32m    967\u001b[0m         \"\"\"\n\u001b[1;32m    968\u001b[0m \u001b[0;34m\u001b[0m\u001b[0m\n\u001b[0;32m--> 969\u001b[0;31m         super().fit(\n\u001b[0m\u001b[1;32m    970\u001b[0m             \u001b[0mX\u001b[0m\u001b[0;34m,\u001b[0m\u001b[0;34m\u001b[0m\u001b[0;34m\u001b[0m\u001b[0m\n\u001b[1;32m    971\u001b[0m             \u001b[0my\u001b[0m\u001b[0;34m,\u001b[0m\u001b[0;34m\u001b[0m\u001b[0;34m\u001b[0m\u001b[0m\n",
      "\u001b[0;32m/opt/anaconda3/lib/python3.9/site-packages/sklearn/tree/_classes.py\u001b[0m in \u001b[0;36mfit\u001b[0;34m(self, X, y, sample_weight, check_input)\u001b[0m\n\u001b[1;32m    456\u001b[0m             )\n\u001b[1;32m    457\u001b[0m \u001b[0;34m\u001b[0m\u001b[0m\n\u001b[0;32m--> 458\u001b[0;31m         \u001b[0mbuilder\u001b[0m\u001b[0;34m.\u001b[0m\u001b[0mbuild\u001b[0m\u001b[0;34m(\u001b[0m\u001b[0mself\u001b[0m\u001b[0;34m.\u001b[0m\u001b[0mtree_\u001b[0m\u001b[0;34m,\u001b[0m \u001b[0mX\u001b[0m\u001b[0;34m,\u001b[0m \u001b[0my\u001b[0m\u001b[0;34m,\u001b[0m \u001b[0msample_weight\u001b[0m\u001b[0;34m)\u001b[0m\u001b[0;34m\u001b[0m\u001b[0;34m\u001b[0m\u001b[0m\n\u001b[0m\u001b[1;32m    459\u001b[0m \u001b[0;34m\u001b[0m\u001b[0m\n\u001b[1;32m    460\u001b[0m         \u001b[0;32mif\u001b[0m \u001b[0mself\u001b[0m\u001b[0;34m.\u001b[0m\u001b[0mn_outputs_\u001b[0m \u001b[0;34m==\u001b[0m \u001b[0;36m1\u001b[0m \u001b[0;32mand\u001b[0m \u001b[0mis_classifier\u001b[0m\u001b[0;34m(\u001b[0m\u001b[0mself\u001b[0m\u001b[0;34m)\u001b[0m\u001b[0;34m:\u001b[0m\u001b[0;34m\u001b[0m\u001b[0;34m\u001b[0m\u001b[0m\n",
      "\u001b[0;31mKeyboardInterrupt\u001b[0m: "
     ]
    }
   ],
   "source": [
    "starttime = timeit.default_timer()\n",
    "print(\"The start time is :\",starttime)\n",
    "y_pred_r, y_test_r = randomForest(sobel_channel, filedfnona['race'])\n",
    "print(\"The time difference is :\", timeit.default_timer() - starttime)\n",
    "accuracy_score(y_pred_r,y_test_r)\n",
    "print(classification_report(y_pred_r,y_test_r))\n",
    "print(confusion_matrix(y_pred_r,y_test_r))"
   ]
  },
  {
   "cell_type": "code",
   "execution_count": null,
   "id": "4c4f0b23-a414-48af-bef6-3ec83caa2328",
   "metadata": {},
   "outputs": [],
   "source": [
    "t = \"Clasification Accuracy 61% using Race Label with Sobel Channels Filter Only\"\n",
    "x = ['White', 'Black', 'Asian', 'Indian', 'Others'] \n",
    "confusion_plot(y_test_r, y_pred_r, t, x, x)\n",
    "fig = plt.figure(figsize=(15, 10))"
   ]
  },
  {
   "cell_type": "code",
   "execution_count": null,
   "id": "37b96342-0e76-423e-95cb-32e41a53ba8a",
   "metadata": {},
   "outputs": [],
   "source": [
    "starttime = timeit.default_timer()\n",
    "print(\"The start time is :\",starttime)\n",
    "y_pred_gender, y_test_gender = randomForest(sobel_channel, filedfnona['gender'])\n",
    "print(\"The time difference is :\", timeit.default_timer() - starttime)\n",
    "accuracy_score(y_pred_gender,y_test_gender)\n",
    "print(classification_report(y_pred_gender,y_test_gender))\n",
    "print(confusion_matrix(y_pred_gender,y_test_gender))"
   ]
  },
  {
   "cell_type": "code",
   "execution_count": null,
   "id": "3a803b57-a7ca-44a1-807e-328d16d82647",
   "metadata": {},
   "outputs": [],
   "source": [
    "t = \"Predictions on Gender Labels. Accuracy:74% using Sobel Channels Filter Only\"\n",
    "x = ['Male', \"Female\"]\n",
    "confusion_plot(y_test_gender, y_pred_gender, t, x, x)\n",
    "#score = accuracy_score(y_pred_gender,y_test_gender)\n",
    "fig = plt.figure(figsize=(15, 10))"
   ]
  },
  {
   "cell_type": "code",
   "execution_count": null,
   "id": "8192f961-aa34-4e49-904f-ffffa07c9876",
   "metadata": {},
   "outputs": [],
   "source": []
  },
  {
   "cell_type": "code",
   "execution_count": null,
   "id": "13def361-e34b-4427-8fa0-981883c7435e",
   "metadata": {},
   "outputs": [],
   "source": []
  },
  {
   "cell_type": "code",
   "execution_count": null,
   "id": "7ffcdc31-4864-46ec-a10a-8d0befac695d",
   "metadata": {},
   "outputs": [],
   "source": []
  },
  {
   "cell_type": "code",
   "execution_count": null,
   "id": "3299975b-9c23-41b4-b225-e549fc2929aa",
   "metadata": {},
   "outputs": [],
   "source": [
    "#adaptist = adaptistEqualizer(images)\n",
    "starttime = timeit.default_timer()\n",
    "print(\"The start time is :\",starttime)\n",
    "y_pred_r, y_test_r = randomForest_pca(adaptist, filedfnona['race'])\n",
    "print(\"The time difference is :\", timeit.default_timer() - starttime)\n",
    "accuracy_score(y_pred_r,y_test_r)\n",
    "print(classification_report(y_pred_r,y_test_r))\n",
    "print(confusion_matrix(y_pred_r,y_test_r))\n"
   ]
  },
  {
   "cell_type": "code",
   "execution_count": null,
   "id": "1cf14cbc-b7ee-4fa6-96b6-d062bba85dc0",
   "metadata": {},
   "outputs": [],
   "source": [
    "t = \"Clasification Accuracy 67% for the Race Label Using Adaptist +PCA Histogram Filter\"\n",
    "x = ['White', 'Black', 'Asian', 'Indian', 'Others'] \n",
    "confusion_plot(y_test_r, y_pred_r, t, x, x)\n",
    "\n",
    "score = accuracy_score(y_pred_r,y_test_r)\n",
    "#scores.append(score)\n",
    "\n",
    "fig = plt.figure(figsize=(15, 10))"
   ]
  },
  {
   "cell_type": "code",
   "execution_count": null,
   "id": "0450cff2-0f67-4212-a5d2-81df254c359e",
   "metadata": {},
   "outputs": [],
   "source": []
  },
  {
   "cell_type": "code",
   "execution_count": null,
   "id": "1a70d621-0298-4f4c-b6d0-c5730d79cc6e",
   "metadata": {},
   "outputs": [],
   "source": []
  },
  {
   "cell_type": "code",
   "execution_count": null,
   "id": "07f8b38c-af0b-4a62-84d2-2db83a7a2c35",
   "metadata": {},
   "outputs": [],
   "source": []
  },
  {
   "cell_type": "code",
   "execution_count": null,
   "id": "cce4aa0f-7776-4d09-831c-7efe11177df4",
   "metadata": {},
   "outputs": [],
   "source": []
  },
  {
   "cell_type": "code",
   "execution_count": null,
   "id": "58f5d6c3-a793-4ce7-8622-a6f4c93a2b07",
   "metadata": {},
   "outputs": [],
   "source": []
  },
  {
   "cell_type": "code",
   "execution_count": null,
   "id": "a21fbed6-9017-4330-820f-337609b0402e",
   "metadata": {},
   "outputs": [],
   "source": []
  },
  {
   "cell_type": "code",
   "execution_count": null,
   "id": "d414c8b0-1b1e-4a4f-8cb4-f3a928f83710",
   "metadata": {},
   "outputs": [],
   "source": []
  },
  {
   "cell_type": "markdown",
   "id": "063baff6-8514-4ea2-8d9b-d7a5ebc031e3",
   "metadata": {},
   "source": [
    "y_pred_gender, y_test_gender = randomForest_pca(adaptist, filedfnona['gender'])\n",
    "accuracy_score(y_pred_gender,y_test_gender)\n",
    "print(classification_report(y_pred_gender,y_test_gender))\n",
    "print(confusion_matrix(y_pred_gender,y_test_gender))\n"
   ]
  },
  {
   "cell_type": "markdown",
   "id": "d19a9fd3-3734-441d-a627-bc033517e1d0",
   "metadata": {},
   "source": [
    "t = \"Predictions on Gender Labels with Accuracy using Adaptist Histogram Filter\"\n",
    "x = ['Male', \"Female\"]\n",
    "confusion_plot(y_test_gender, y_pred_gender)\n",
    "score = accuracy_score(y_pred_gender,y_test_gender)\n",
    "#scores.append(score)\n",
    "\n",
    "fig = plt.figure(figsize=(15, 10))"
   ]
  },
  {
   "cell_type": "code",
   "execution_count": null,
   "id": "1c61689a-60e9-49fb-93f0-12c49d9b1ab0",
   "metadata": {},
   "outputs": [],
   "source": []
  },
  {
   "cell_type": "markdown",
   "id": "9ba73621-d5b7-474c-9c24-1132e5c82d94",
   "metadata": {},
   "source": [
    "#### best performing filters for age + pca"
   ]
  },
  {
   "cell_type": "code",
   "execution_count": null,
   "id": "4efb5189-4e37-46a4-87b4-0b48b96073df",
   "metadata": {},
   "outputs": [],
   "source": []
  },
  {
   "cell_type": "markdown",
   "id": "3be86924-ffdd-4b9b-8fdd-561e9ef88543",
   "metadata": {},
   "source": [
    "### best performing filter for race + pca"
   ]
  },
  {
   "cell_type": "code",
   "execution_count": null,
   "id": "765c0ee0-a475-4621-9263-70e195d21b90",
   "metadata": {},
   "outputs": [],
   "source": []
  },
  {
   "cell_type": "markdown",
   "id": "9ec9544b-df35-4c2b-af83-d084b23ade99",
   "metadata": {},
   "source": [
    "#### random forest and sift"
   ]
  },
  {
   "cell_type": "markdown",
   "id": "b0a63734-8e9e-4d2b-99cb-8faffe89fb91",
   "metadata": {},
   "source": [
    "import pandas as pd\n",
    "import numpy as np\n",
    "from PIL import Image\n",
    "from os import listdir\n",
    "from os.path import isfile, join\n",
    "#import tensorflow as tf\n",
    "import cv2\n",
    "#from tensorflow.keras import layers, models\n",
    "import matplotlib.pyplot as plt\n",
    "from sklearn.model_selection import train_test_split\n",
    "from sklearn.metrics import confusion_matrix\n",
    "#from keras import Model\n",
    "#from tensorflow.keras.layers import Input,Activation,Add, MaxPooling2D, Flatten, Dense\n",
    "import gc"
   ]
  },
  {
   "cell_type": "markdown",
   "id": "8c684bc3-4d03-494c-8610-98432e91f140",
   "metadata": {},
   "source": [
    "def get_descriptors(links):\n",
    "    container = []\n",
    "    sift = cv2.SIFT_create()\n",
    "    for i in links:\n",
    "        img = cv2.imread(i)\n",
    "        img_bw = cv2.cvtColor(img, cv2.COLOR_BGR2GRAY)\n",
    "        keypoint,descriptor = sift.detectAndCompute(img_bw,None)\n",
    "        container.append([keypoint,descriptor])\n",
    "    return container\n",
    "\n",
    "#For a collection of image area descriptions, get the Kmeans of n clusters. This will be what future images are compared to.\n",
    "\n",
    "\n",
    "def get_vocab(descriptors,n):\n",
    "    descriptor_container = []\n",
    "    for i in descriptors:\n",
    "        if i[1] is None:\n",
    "            continue\n",
    "        for j in i[1]:\n",
    "            descriptor_container.append(j)\n",
    "    vocab = kmeans(descriptor_container,n)\n",
    "    return vocab\n",
    "\n",
    "# For each image, get its descriptors. For each descriptor, get the closest Kmean descriptor in vocab and add 1 to its index in a histogram.\n",
    "# Return a histogram per image. This histogram will be passed as a feature for modeling.\n",
    "\n",
    "def descriptor_to_vocab(nparrays,vocab):\n",
    "    sift = cv2.SIFT_create()\n",
    "    container = []\n",
    "    for i in nparrays:\n",
    "        img_bw = i\n",
    "        if(len(i.shape)==3):\n",
    "            img_bw = cv2.cvtColor(i, cv2.COLOR_BGR2GRAY)\n",
    "        keypoint,descriptor = sift.detectAndCompute(img_bw,None)\n",
    "        if descriptor is not None:\n",
    "            dist = cdist(descriptor,vocab[0],'euclidean')\n",
    "            bin_assignment = np.argmin(dist,axis = 1)\n",
    "        else:\n",
    "            bin_assignment = []\n",
    "        image_feats = np.zeros(len(vocab[0]))\n",
    "        for j in bin_assignment:\n",
    "            image_feats[j] += 1\n",
    "        container.append(image_feats)\n",
    "    return container\n",
    "\n",
    "# Normalizes histograms from images so that they may be used in ML inputs\n",
    "\n",
    "def normalize_histograms(histarray):\n",
    "    histarray = np.array(histarray)\n",
    "    feats_norm_div = np.linalg.norm(histarray,axis = 1)\n",
    "    for i in range(0,histarray.shape[0]):\n",
    "        divi = feats_norm_div[i]\n",
    "        histarray[i] = histarray[i]/divi\n",
    "        if(np.isnan(histarray[i][0])):\n",
    "            histarray[i] = np.zeros(len(histarray[i]))\n",
    "    return histarray\n",
    "\n",
    "# Pipeline for SIFT to histogram features per image\n",
    "# Returns a dataframe for training and testing datasets\n",
    "'''\n",
    "path - path to the image directory\n",
    "column - what type of label to return\n",
    "nvocab - how many vectors will appear in the descriptor 'vocabulary'\n",
    "test_size - percentage of images that will be used as tests\n",
    "random_state - seed for randomization\n",
    "n_features - For each image, return at most n descriptors\n",
    "'''\n",
    "\n",
    "def SIFT_path_to_Features(path,column,nvocab = 200,test_size = 0.33,random_state = 42,n_features = 100):\n",
    "    filedf = md.get_image_label_filepath_df('./Data/CroppedImages/')\n",
    "    X,y = md.get_labels_npimages(filedf,column)\n",
    "    X_train, X_test, y_train, y_test = train_test_split(X, y, test_size=test_size, random_state=random_state)\n",
    "    X_train_np = np.array(X_train)\n",
    "    X_test_np = np.array(X_test)\n",
    "    y_train_np = np.array(y_train)\n",
    "    y_test_np = np.array(y_test)\n",
    "    descriptors = get_descriptors(X_train_np[:,1],n_features)\n",
    "    vocab = get_vocab(descriptors[:100],nvocab)\n",
    "    histarraytrain = descriptor_to_vocab(X_train_np[:,1],vocab)\n",
    "    histarraytest = descriptor_to_vocab(X_test_np[:,1],vocab)\n",
    "    normalizehisttrain = normalize_histograms(histarraytrain)\n",
    "    normalizehisttest = normalize_histograms(histarraytest)\n",
    "    traindf = pd.DataFrame((X_train_np[:,0],normalizehisttrain,y_train_np))\n",
    "    testdf = pd.DataFrame((X_test_np[:,0],normalizehisttest,y_test_np))\n",
    "    traindf = traindf.transpose()\n",
    "    testdf = testdf.transpose()\n",
    "    return [traindf,testdf]\n",
    "\n",
    "# X[:,0] should be file names and X[:,1] should be nparrays of images\n",
    "\n",
    "def SIFT_nparray_to_Features(X_train,X_test,nvocab = 200,n_features = 100):\n",
    "    X_train_np = np.array(X_train)\n",
    "    X_test_np = np.array(X_test)\n",
    "    descriptors = get_descriptors(X_train_np,n_features)\n",
    "    vocab = get_vocab(descriptors[:100],nvocab)\n",
    "    histarraytrain = descriptor_to_vocab(X_train_np,vocab)\n",
    "    histarraytest = descriptor_to_vocab(X_test_np,vocab)\n",
    "    normalizehisttrain = normalize_histograms(histarraytrain)\n",
    "    normalizehisttest = normalize_histograms(histarraytest)\n",
    "    nonantrain = np.nan_to_num(normalizehisttrain)\n",
    "    nonantest = np.nan_to_num(normalizehisttest)\n",
    "    return nonantrain,nonantest\n",
    "\n",
    "def SIFT_np_to_Features(filenames,X,y,nvocab = 200,test_size = 0.33,random_state = 42,n_features = 100):\n",
    "    X_train, X_test, y_train, y_test = train_test_split(X, y, test_size=test_size, random_state=random_state)\n",
    "    X_train_np = np.array(X_train)\n",
    "    X_test_np = np.array(X_test)\n",
    "    y_train_np = np.array(y_train)\n",
    "    y_test_np = np.array(y_test)\n",
    "    descriptors = get_descriptors(X_train_np,n_features)\n",
    "    vocab = get_vocab(descriptors[:100],nvocab)\n",
    "    histarraytrain = descriptor_to_vocab(X_train_np,vocab)\n",
    "    histarraytest = descriptor_to_vocab(X_test_np,vocab)\n",
    "    normalizehisttrain = normalize_histograms(histarraytrain)\n",
    "    normalizehisttest = normalize_histograms(histarraytest)\n",
    "    traindf = pd.DataFrame((filenames,normalizehisttrain,y_train_np))\n",
    "    testdf = pd.DataFrame((filenames,normalizehisttest,y_test_np))\n",
    "    traindf = traindf.transpose()\n",
    "    testdf = testdf.transpose()\n",
    "    return [traindf,testdf]\n",
    "def get_similarity(train,queries):\n",
    "    matcher = cv2.BFMatcher()\n",
    "    similarity = []\n",
    "    for j in train:\n",
    "        container = []\n",
    "        for i in queries:\n",
    "            if(any(elem is None for elem in [i[0],i[1],j[0],j[1]])):\n",
    "                container.append(0)\n",
    "                continue\n",
    "            matches = matcher.knnMatch(i[1],j[1], k=2)\n",
    "            number_keypoints = 0\n",
    "            if len(j[0]) <= len(i[0]):\n",
    "                number_keypoints = len(j[0])\n",
    "            else:\n",
    "                number_keypoints = len(i[0])\n",
    "            # Apply ratio test\n",
    "            good = []\n",
    "            for m,n in matches:\n",
    "                if m.distance < 0.75*n.distance:\n",
    "                    good.append([m])        \n",
    "            \n",
    "            percent=(len(good)*100)/number_keypoints\n",
    "            container.append(percent)\n",
    "        similarity.append(container)\n",
    "    return similarity\n",
    "\n",
    "\n",
    "def get_image_average(links):\n",
    "    img_container = []\n",
    "    for i in links:\n",
    "        img = cv2.imread(i)\n",
    "        img_container.append(img)\n",
    "    return np.mean(img_container,axis = 0)"
   ]
  },
  {
   "cell_type": "markdown",
   "id": "2dc54e99-4ca2-4e9a-8802-c822cd181e13",
   "metadata": {},
   "source": [
    "#mypath = \"./Data/CroppedImages/\"\n",
    "mypath = \"/Users/jenifervivar/Desktop/Desktop - jenifer’s MacBook Air/Machine_learning_code/crop_part1/\"\n",
    "filenames = np.array([f for f in listdir(mypath) if isfile(join(mypath, f))])\n",
    "splitcolumns = [x.split('_')[0:3] + [mypath + x] for x in filenames if x.count('_') == 3]\n",
    "filecolumns = ['age','gender','race','file']\n",
    "filedf = pd.DataFrame(data = splitcolumns, columns = filecolumns)"
   ]
  },
  {
   "cell_type": "markdown",
   "id": "57ed93d7-87d6-4126-86fe-8925fde84cf2",
   "metadata": {},
   "source": [
    "genderzerodf = filedf[filedf['gender'] == '0']\n",
    "genderonedf = filedf[filedf['gender'] == '1']\n",
    "traingender = genderzerodf.groupby('age', group_keys=False).apply(lambda x: x.sample(frac = 0.2))"
   ]
  },
  {
   "cell_type": "markdown",
   "id": "25a0e16f-7b33-4e42-bfd8-21735d804366",
   "metadata": {},
   "source": [
    "testzero = genderzerodf.groupby('age', group_keys=False).apply(lambda x: x.sample(frac = 0.5))\n",
    "# Get '1' test examples\n",
    "testone = genderonedf.groupby('age', group_keys=False).apply(lambda x: x.sample(frac = 0.5))"
   ]
  },
  {
   "cell_type": "markdown",
   "id": "8423d4a3-511f-459f-aa7b-ee4bb71fd309",
   "metadata": {},
   "source": [
    "train = get_descriptors(traingender.loc[:,'file'])\n",
    "test0 = get_descriptors(testzero.loc[:,'file'])\n",
    "test1 = get_descriptors(testone.loc[:,'file'])"
   ]
  },
  {
   "cell_type": "markdown",
   "id": "7d83ff09-f2e0-4b3f-8eb2-90cf86d11e98",
   "metadata": {},
   "source": [
    "similarityzero = get_similarity(train,test0[:100])\n",
    "similarityone = get_similarity(train,test1[:100])"
   ]
  },
  {
   "cell_type": "markdown",
   "id": "b089b2e9-1147-4902-831c-b84b3c97e628",
   "metadata": {},
   "source": [
    "np.mean(similarityzero)"
   ]
  },
  {
   "cell_type": "markdown",
   "id": "7d8ee6fa-aca7-4ffb-a44f-d0d7d22a5af6",
   "metadata": {},
   "source": [
    "np.mean(similarityone)"
   ]
  },
  {
   "cell_type": "markdown",
   "id": "ed9fee9e-df82-4c1b-9944-f21b7a49899b",
   "metadata": {},
   "source": [
    "gender_zero_img = get_image_average(genderzerodf.loc[:,'file'])\n",
    "gender_zero_img"
   ]
  },
  {
   "cell_type": "code",
   "execution_count": null,
   "id": "1061d2cb-b46e-4d22-a7ca-1c67c53fd3dd",
   "metadata": {},
   "outputs": [],
   "source": [
    "plt.imshow(gender_zero_img)"
   ]
  },
  {
   "cell_type": "code",
   "execution_count": null,
   "id": "91473bf8-8cc5-41f6-8aae-6d3ed82af36c",
   "metadata": {},
   "outputs": [],
   "source": [
    "from PIL import Image\n",
    "im = Image.fromarray(gender_zero_img.astype(np.uint8))\n",
    "im.save(\"test_zero_img.png\")"
   ]
  },
  {
   "cell_type": "code",
   "execution_count": null,
   "id": "68be563a-b3b4-4804-9945-ecd030b9d59e",
   "metadata": {},
   "outputs": [],
   "source": [
    "gender_one_img = get_image_average(genderonedf.loc[:,'file'])"
   ]
  },
  {
   "cell_type": "code",
   "execution_count": null,
   "id": "9ee666dd-c761-4221-acac-b2fd49977ad4",
   "metadata": {},
   "outputs": [],
   "source": [
    "sift = cv2.SIFT_create()\n",
    "#sift = cv2.xfeatures2d.SIFT_create()\n",
    "img = cv2.imread(filedfnona['file'][0])\n",
    "\n",
    "img_bw = cv2.cvtColor(img, cv2.COLOR_BGR2GRAY)\n",
    "keypoint,descriptor = sift.detectAndCompute(img_bw,None)\n",
    "similarity_zero_avg = get_similarity([[keypoint_mean,descriptor_mean]],test0)"
   ]
  },
  {
   "cell_type": "code",
   "execution_count": null,
   "id": "ec54959e-037f-449d-8d40-65d3fa919511",
   "metadata": {},
   "outputs": [],
   "source": []
  },
  {
   "cell_type": "code",
   "execution_count": null,
   "id": "0ef2d080-5b65-490f-b694-781d1602c1dc",
   "metadata": {},
   "outputs": [],
   "source": [
    "sift_image = cv2.drawKeypoints(img_bw, keypoint, img)\n",
    "# show the image\n",
    "cv2.imshow('image', sift_image)\n",
    "# save the image\n",
    "cv2.imwrite(\"table-sift.jpg\", sift_image)\n",
    "cv2.waitKey(0)\n",
    "cv2.destroyAllWindows()"
   ]
  },
  {
   "cell_type": "code",
   "execution_count": null,
   "id": "ee1043a4-a3e1-4825-8ab2-acb9d36d60ee",
   "metadata": {},
   "outputs": [],
   "source": [
    "plt.imshow(similarity_zero_avg)"
   ]
  },
  {
   "cell_type": "code",
   "execution_count": null,
   "id": "98ce7917-8cd2-4756-8efd-af2899a5ea90",
   "metadata": {},
   "outputs": [],
   "source": []
  },
  {
   "cell_type": "markdown",
   "id": "44a27924-cd10-4f0d-92a4-cdf32faf2525",
   "metadata": {},
   "source": [
    "### dummy comparison, is it doing better than a nonse model?"
   ]
  },
  {
   "cell_type": "code",
   "execution_count": null,
   "id": "22b61a20-0c77-4814-bec0-959c55584b79",
   "metadata": {},
   "outputs": [],
   "source": []
  },
  {
   "cell_type": "markdown",
   "id": "8126acac-a93e-4fb8-a376-e11d8f6ca48a",
   "metadata": {},
   "source": [
    "#### ROC curves"
   ]
  },
  {
   "cell_type": "code",
   "execution_count": null,
   "id": "3e874db6-39a5-43d8-bc1b-c9637fb35641",
   "metadata": {},
   "outputs": [],
   "source": [
    "# Binarize the output\n",
    "y = label_binarize(y, classes=[0, 1, 2])\n",
    "n_classes = y.shape[1]\n",
    "\n",
    "# Compute ROC curve and ROC area for each class\n",
    "\n",
    "fpr = dict()\n",
    "tpr = dict()\n",
    "roc_auc = dict()\n",
    "for i in range(n_classes):\n",
    "    fpr[i], tpr[i], _ = roc_curve(y_test[:, i], y_score[:, i])\n",
    "    roc_auc[i] = auc(fpr[i], tpr[i])\n",
    "fpr[\"micro\"], tpr[\"micro\"], _ = roc_curve(y_test.ravel(), y_score.ravel())\n",
    "roc_auc[\"micro\"] = auc(fpr[\"micro\"], tpr[\"micro\"])"
   ]
  },
  {
   "cell_type": "code",
   "execution_count": null,
   "id": "2b543199-083d-4951-8da5-61b4a627938e",
   "metadata": {},
   "outputs": [],
   "source": [
    "plt.figure()\n",
    "lw = 2\n",
    "plt.plot(\n",
    "    fpr[2],\n",
    "    tpr[2],\n",
    "    color=\"darkorange\",\n",
    "    lw=lw,\n",
    "    label=\"ROC curve (area = %0.2f)\" % roc_auc[2],\n",
    ")\n",
    "plt.plot([0, 1], [0, 1], color=\"navy\", lw=lw, linestyle=\"--\")\n",
    "plt.xlim([0.0, 1.0])\n",
    "plt.ylim([0.0, 1.05])\n",
    "plt.xlabel(\"False Positive Rate\")\n",
    "plt.ylabel(\"True Positive Rate\")\n",
    "plt.title(\"Receiver operating characteristic example\")\n",
    "plt.legend(loc=\"lower right\")\n",
    "plt.show()"
   ]
  }
 ],
 "metadata": {
  "kernelspec": {
   "display_name": "Python 3 (ipykernel)",
   "language": "python",
   "name": "python3"
  },
  "language_info": {
   "codemirror_mode": {
    "name": "ipython",
    "version": 3
   },
   "file_extension": ".py",
   "mimetype": "text/x-python",
   "name": "python",
   "nbconvert_exporter": "python",
   "pygments_lexer": "ipython3",
   "version": "3.9.7"
  },
  "widgets": {
   "application/vnd.jupyter.widget-state+json": {
    "state": {},
    "version_major": 2,
    "version_minor": 0
   }
  }
 },
 "nbformat": 4,
 "nbformat_minor": 5
}
