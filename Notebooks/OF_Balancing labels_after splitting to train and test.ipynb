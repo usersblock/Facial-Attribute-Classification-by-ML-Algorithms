{
 "cells": [
  {
   "cell_type": "code",
   "execution_count": 182,
   "id": "476d9130",
   "metadata": {},
   "outputs": [],
   "source": [
    "import numpy as np\n",
    "from sklearn.datasets import fetch_openml\n",
    "from sklearn.model_selection import train_test_split\n",
    "from sklearn.metrics import accuracy_score\n",
    "from sklearn.metrics import roc_auc_score\n",
    "from sklearn import metrics\n",
    "from sklearn.linear_model import SGDRegressor\n",
    "from sklearn.pipeline import make_pipeline\n",
    "from sklearn.preprocessing import StandardScaler\n",
    "from sklearn.linear_model import LogisticRegression\n",
    "import matplotlib.pyplot as plt\n",
    "import seaborn as sns\n",
    "import statsmodels.api as sm\n",
    "import pandas as pd\n",
    "from os import listdir\n",
    "from os.path import isfile, join\n",
    "import os\n",
    "import cv2\n",
    "from collections import Counter\n",
    "from sklearn.datasets import make_classification\n",
    "from imblearn.over_sampling import RandomOverSampler\n",
    "from sklearn.preprocessing import LabelEncoder"
   ]
  },
  {
   "cell_type": "code",
   "execution_count": 183,
   "id": "5b8889ba",
   "metadata": {},
   "outputs": [],
   "source": [
    "from imblearn.over_sampling import SMOTE"
   ]
  },
  {
   "cell_type": "code",
   "execution_count": 184,
   "id": "3cd2bc63",
   "metadata": {},
   "outputs": [],
   "source": [
    "from sklearn import svm\n",
    "from sklearn.svm import SVC, SVR"
   ]
  },
  {
   "cell_type": "code",
   "execution_count": 185,
   "id": "2309823c",
   "metadata": {},
   "outputs": [],
   "source": [
    "mypath = \"C:/Users/User/Desktop/CUNY/Faces_img/cropped.tar/cropped/crop_part1\"\n"
   ]
  },
  {
   "cell_type": "code",
   "execution_count": 186,
   "id": "ea673945",
   "metadata": {},
   "outputs": [],
   "source": [
    "filenames = np.array([f for f in listdir(mypath) if isfile(join(mypath, f))])\n",
    "splitcolumns = [x.split('_')[0:3] + [mypath +'/' + x] for x in filenames if x.count('_') == 3]\n",
    "filecolumns = ['age','gender','race','file']\n",
    "filedf = pd.DataFrame(data = splitcolumns, columns = filecolumns)\n",
    "filedfnona = filedf.dropna()\n",
    "filedfnona['age']  = filedfnona['age'].astype(int)\n",
    "filedfnona['race'] = filedfnona['race'].astype(int)\n",
    "filedfnona['gender'] = filedfnona['gender'].astype(int)"
   ]
  },
  {
   "cell_type": "code",
   "execution_count": 5,
   "id": "d0eb06fa",
   "metadata": {},
   "outputs": [
    {
     "name": "stderr",
     "output_type": "stream",
     "text": [
      " 49%|████▉     | 9778/20000 [00:20<00:21, 486.61it/s]\n"
     ]
    }
   ],
   "source": [
    "from tqdm import tqdm\n",
    "images = []\n",
    "age = []\n",
    "gender = []\n",
    "race = []\n",
    "for index, row in tqdm(filedfnona.iterrows(), total=20000):\n",
    "    img = np.array(cv2.imread(mypath+'/'+row[3]))\n",
    "    img = cv2.cvtColor(img, cv2.COLOR_BGR2GRAY).ravel()\n",
    "    images.append(img)\n",
    "    age.append([row[0]])\n",
    "    gender.append([row[1]])\n",
    "    race.append([row[2]])"
   ]
  },
  {
   "cell_type": "code",
   "execution_count": 187,
   "id": "a29105cf",
   "metadata": {},
   "outputs": [
    {
     "data": {
      "text/html": [
       "<div>\n",
       "<style scoped>\n",
       "    .dataframe tbody tr th:only-of-type {\n",
       "        vertical-align: middle;\n",
       "    }\n",
       "\n",
       "    .dataframe tbody tr th {\n",
       "        vertical-align: top;\n",
       "    }\n",
       "\n",
       "    .dataframe thead th {\n",
       "        text-align: right;\n",
       "    }\n",
       "</style>\n",
       "<table border=\"1\" class=\"dataframe\">\n",
       "  <thead>\n",
       "    <tr style=\"text-align: right;\">\n",
       "      <th></th>\n",
       "      <th>age</th>\n",
       "      <th>gender</th>\n",
       "      <th>race</th>\n",
       "      <th>file</th>\n",
       "    </tr>\n",
       "  </thead>\n",
       "  <tbody>\n",
       "    <tr>\n",
       "      <th>0</th>\n",
       "      <td>100</td>\n",
       "      <td>1</td>\n",
       "      <td>0</td>\n",
       "      <td>C:/Users/User/Desktop/CUNY/Faces_img/cropped.t...</td>\n",
       "    </tr>\n",
       "    <tr>\n",
       "      <th>1</th>\n",
       "      <td>100</td>\n",
       "      <td>1</td>\n",
       "      <td>2</td>\n",
       "      <td>C:/Users/User/Desktop/CUNY/Faces_img/cropped.t...</td>\n",
       "    </tr>\n",
       "    <tr>\n",
       "      <th>2</th>\n",
       "      <td>101</td>\n",
       "      <td>1</td>\n",
       "      <td>2</td>\n",
       "      <td>C:/Users/User/Desktop/CUNY/Faces_img/cropped.t...</td>\n",
       "    </tr>\n",
       "    <tr>\n",
       "      <th>3</th>\n",
       "      <td>10</td>\n",
       "      <td>0</td>\n",
       "      <td>0</td>\n",
       "      <td>C:/Users/User/Desktop/CUNY/Faces_img/cropped.t...</td>\n",
       "    </tr>\n",
       "    <tr>\n",
       "      <th>4</th>\n",
       "      <td>10</td>\n",
       "      <td>0</td>\n",
       "      <td>0</td>\n",
       "      <td>C:/Users/User/Desktop/CUNY/Faces_img/cropped.t...</td>\n",
       "    </tr>\n",
       "  </tbody>\n",
       "</table>\n",
       "</div>"
      ],
      "text/plain": [
       "   age  gender  race                                               file\n",
       "0  100       1     0  C:/Users/User/Desktop/CUNY/Faces_img/cropped.t...\n",
       "1  100       1     2  C:/Users/User/Desktop/CUNY/Faces_img/cropped.t...\n",
       "2  101       1     2  C:/Users/User/Desktop/CUNY/Faces_img/cropped.t...\n",
       "3   10       0     0  C:/Users/User/Desktop/CUNY/Faces_img/cropped.t...\n",
       "4   10       0     0  C:/Users/User/Desktop/CUNY/Faces_img/cropped.t..."
      ]
     },
     "execution_count": 187,
     "metadata": {},
     "output_type": "execute_result"
    }
   ],
   "source": [
    "filedfnona.head()"
   ]
  },
  {
   "cell_type": "code",
   "execution_count": 188,
   "id": "b8b55714",
   "metadata": {},
   "outputs": [
    {
     "data": {
      "text/plain": [
       "9778"
      ]
     },
     "execution_count": 188,
     "metadata": {},
     "output_type": "execute_result"
    }
   ],
   "source": [
    "filedfnona['age'].count()"
   ]
  },
  {
   "cell_type": "code",
   "execution_count": 189,
   "id": "ea1490fc",
   "metadata": {},
   "outputs": [
    {
     "data": {
      "text/plain": [
       "count    9778.000000\n",
       "mean       29.415116\n",
       "std        24.775750\n",
       "min         1.000000\n",
       "25%         7.000000\n",
       "50%        25.000000\n",
       "75%        49.000000\n",
       "max       110.000000\n",
       "Name: age, dtype: float64"
      ]
     },
     "execution_count": 189,
     "metadata": {},
     "output_type": "execute_result"
    }
   ],
   "source": [
    "filedfnona['age'].describe()"
   ]
  },
  {
   "cell_type": "code",
   "execution_count": 190,
   "id": "f0b37965",
   "metadata": {},
   "outputs": [
    {
     "data": {
      "text/plain": [
       "1      1112\n",
       "2       475\n",
       "3       284\n",
       "26      279\n",
       "4       260\n",
       "       ... \n",
       "110       2\n",
       "99        2\n",
       "100       2\n",
       "91        1\n",
       "101       1\n",
       "Name: age, Length: 99, dtype: int64"
      ]
     },
     "execution_count": 190,
     "metadata": {},
     "output_type": "execute_result"
    }
   ],
   "source": [
    "filedfnona['age'].value_counts()"
   ]
  },
  {
   "cell_type": "code",
   "execution_count": 191,
   "id": "b71e0612",
   "metadata": {},
   "outputs": [
    {
     "data": {
      "text/plain": [
       "(array([3149., 1393., 1532.,  945.,  962.,  851.,  483.,  348.,  110.,\n",
       "           5.]),\n",
       " array([  1. ,  11.9,  22.8,  33.7,  44.6,  55.5,  66.4,  77.3,  88.2,\n",
       "         99.1, 110. ]),\n",
       " <BarContainer object of 10 artists>)"
      ]
     },
     "execution_count": 191,
     "metadata": {},
     "output_type": "execute_result"
    },
    {
     "data": {
      "image/png": "[encoded data removed]",
      "text/plain": [
       "<Figure size 432x288 with 1 Axes>"
      ]
     },
     "metadata": {
      "needs_background": "light"
     },
     "output_type": "display_data"
    }
   ],
   "source": [
    "plt.hist(filedfnona['age'], bins=10)"
   ]
  },
  {
   "cell_type": "code",
   "execution_count": 192,
   "id": "55d0fcbf",
   "metadata": {},
   "outputs": [
    {
     "data": {
      "text/plain": [
       "(array([5265.,    0.,  405.,    0.,    0., 1553.,    0., 1452.,    0.,\n",
       "        1103.]),\n",
       " array([0. , 0.4, 0.8, 1.2, 1.6, 2. , 2.4, 2.8, 3.2, 3.6, 4. ]),\n",
       " <BarContainer object of 10 artists>)"
      ]
     },
     "execution_count": 192,
     "metadata": {},
     "output_type": "execute_result"
    },
    {
     "data": {
      "image/png": "[encoded data removed]",
      "text/plain": [
       "<Figure size 432x288 with 1 Axes>"
      ]
     },
     "metadata": {
      "needs_background": "light"
     },
     "output_type": "display_data"
    }
   ],
   "source": [
    "plt.hist(filedfnona['race'])"
   ]
  },
  {
   "cell_type": "code",
   "execution_count": 193,
   "id": "150d23a5",
   "metadata": {},
   "outputs": [
    {
     "data": {
      "text/plain": [
       "(array([4372.,    0.,    0.,    0.,    0.,    0.,    0.,    0.,    0.,\n",
       "        5406.]),\n",
       " array([0. , 0.1, 0.2, 0.3, 0.4, 0.5, 0.6, 0.7, 0.8, 0.9, 1. ]),\n",
       " <BarContainer object of 10 artists>)"
      ]
     },
     "execution_count": 193,
     "metadata": {},
     "output_type": "execute_result"
    },
    {
     "data": {
      "image/png": "[encoded data removed]",
      "text/plain": [
       "<Figure size 432x288 with 1 Axes>"
      ]
     },
     "metadata": {
      "needs_background": "light"
     },
     "output_type": "display_data"
    }
   ],
   "source": [
    "plt.hist(filedfnona['gender'])"
   ]
  },
  {
   "cell_type": "code",
   "execution_count": 194,
   "id": "0865a585",
   "metadata": {},
   "outputs": [
    {
     "data": {
      "text/html": [
       "<div>\n",
       "<style scoped>\n",
       "    .dataframe tbody tr th:only-of-type {\n",
       "        vertical-align: middle;\n",
       "    }\n",
       "\n",
       "    .dataframe tbody tr th {\n",
       "        vertical-align: top;\n",
       "    }\n",
       "\n",
       "    .dataframe thead th {\n",
       "        text-align: right;\n",
       "    }\n",
       "</style>\n",
       "<table border=\"1\" class=\"dataframe\">\n",
       "  <thead>\n",
       "    <tr style=\"text-align: right;\">\n",
       "      <th></th>\n",
       "      <th>age</th>\n",
       "      <th>gender</th>\n",
       "      <th>race</th>\n",
       "      <th>file</th>\n",
       "    </tr>\n",
       "  </thead>\n",
       "  <tbody>\n",
       "    <tr>\n",
       "      <th>0</th>\n",
       "      <td>100</td>\n",
       "      <td>1</td>\n",
       "      <td>0</td>\n",
       "      <td>C:/Users/User/Desktop/CUNY/Faces_img/cropped.t...</td>\n",
       "    </tr>\n",
       "    <tr>\n",
       "      <th>1</th>\n",
       "      <td>100</td>\n",
       "      <td>1</td>\n",
       "      <td>2</td>\n",
       "      <td>C:/Users/User/Desktop/CUNY/Faces_img/cropped.t...</td>\n",
       "    </tr>\n",
       "    <tr>\n",
       "      <th>2</th>\n",
       "      <td>101</td>\n",
       "      <td>1</td>\n",
       "      <td>2</td>\n",
       "      <td>C:/Users/User/Desktop/CUNY/Faces_img/cropped.t...</td>\n",
       "    </tr>\n",
       "    <tr>\n",
       "      <th>3</th>\n",
       "      <td>10</td>\n",
       "      <td>0</td>\n",
       "      <td>0</td>\n",
       "      <td>C:/Users/User/Desktop/CUNY/Faces_img/cropped.t...</td>\n",
       "    </tr>\n",
       "    <tr>\n",
       "      <th>4</th>\n",
       "      <td>10</td>\n",
       "      <td>0</td>\n",
       "      <td>0</td>\n",
       "      <td>C:/Users/User/Desktop/CUNY/Faces_img/cropped.t...</td>\n",
       "    </tr>\n",
       "  </tbody>\n",
       "</table>\n",
       "</div>"
      ],
      "text/plain": [
       "   age  gender  race                                               file\n",
       "0  100       1     0  C:/Users/User/Desktop/CUNY/Faces_img/cropped.t...\n",
       "1  100       1     2  C:/Users/User/Desktop/CUNY/Faces_img/cropped.t...\n",
       "2  101       1     2  C:/Users/User/Desktop/CUNY/Faces_img/cropped.t...\n",
       "3   10       0     0  C:/Users/User/Desktop/CUNY/Faces_img/cropped.t...\n",
       "4   10       0     0  C:/Users/User/Desktop/CUNY/Faces_img/cropped.t..."
      ]
     },
     "execution_count": 194,
     "metadata": {},
     "output_type": "execute_result"
    }
   ],
   "source": [
    "balanced = filedfnona\n",
    "balanced.head()"
   ]
  },
  {
   "cell_type": "code",
   "execution_count": null,
   "id": "981cdf71",
   "metadata": {},
   "outputs": [],
   "source": [
    "#1 infancy (0-2)\n",
    "#2 Early Childhood (Ages 3-5)\n",
    "#3 Middle Childhood (Ages 6-8)\n",
    "#4 Late Childhood (Ages 9-11)\n",
    "#5 Adolescence (Ages 12-20)\n",
    "#6 Early Adulthood (Ages 21-35)\n",
    "#7 Midlife (Ages 36-50)\n",
    "#8 Mature Adulthood (Ages 51-79)\n",
    "#9 Late Adulthood (Age 80+)"
   ]
  },
  {
   "cell_type": "code",
   "execution_count": 195,
   "id": "e6180ef2",
   "metadata": {},
   "outputs": [],
   "source": [
    "balanced['age']=np.where((balanced.age==2), 1, balanced.age)\n",
    "#balanced['age']=np.where(((balanced.age>=3) & (balanced.age<6)), 2, balanced.age)\n",
    "#balanced['age']=np.where(((balanced.age>=6) & (balanced.age<9)), 3, balanced.age)\n",
    "#balanced['age']=np.where(((balanced.age>=9) & (balanced.age<12)), 4, balanced.age)\n",
    "#balanced['age']=np.where(((balanced.age>=12) & (balanced.age<21)), 5, balanced.age)\n",
    "#balanced['age']=np.where(((balanced.age>=21) & (balanced.age<36)), 6, balanced.age)\n",
    "#balanced['age']=np.where(((balanced.age>=36) & (balanced.age<51)), 7, balanced.age)\n",
    "#balanced['age']=np.where(((balanced.age>=51) & (balanced.age<80)), 8, balanced.age)\n",
    "#balanced['age']=np.where((balanced.age>=80), 9, balanced.age)"
   ]
  },
  {
   "cell_type": "code",
   "execution_count": 196,
   "id": "3be02b49",
   "metadata": {},
   "outputs": [],
   "source": [
    "balanced['age']=np.where(((balanced.age>=3) & (balanced.age<6)), 2, balanced.age)"
   ]
  },
  {
   "cell_type": "code",
   "execution_count": 197,
   "id": "dcd7fa72",
   "metadata": {},
   "outputs": [],
   "source": [
    "balanced['age']=np.where(((balanced.age>=6) & (balanced.age<9)), 3, balanced.age)"
   ]
  },
  {
   "cell_type": "code",
   "execution_count": 198,
   "id": "800be09d",
   "metadata": {},
   "outputs": [],
   "source": [
    "balanced['age']=np.where(((balanced.age>=9) & (balanced.age<12)), 4, balanced.age)"
   ]
  },
  {
   "cell_type": "code",
   "execution_count": 199,
   "id": "1a6cf2e5",
   "metadata": {},
   "outputs": [],
   "source": [
    "balanced['age']=np.where(((balanced.age>=12) & (balanced.age<21)), 5, balanced.age)"
   ]
  },
  {
   "cell_type": "code",
   "execution_count": 200,
   "id": "536c0f6c",
   "metadata": {},
   "outputs": [],
   "source": [
    "balanced['age']=np.where(((balanced.age>=21) & (balanced.age<36)), 6, balanced.age)"
   ]
  },
  {
   "cell_type": "code",
   "execution_count": 201,
   "id": "0029c25c",
   "metadata": {},
   "outputs": [],
   "source": [
    "balanced['age']=np.where(((balanced.age>=36) & (balanced.age<51)), 7, balanced.age)"
   ]
  },
  {
   "cell_type": "code",
   "execution_count": 202,
   "id": "9ac0cb0a",
   "metadata": {},
   "outputs": [],
   "source": [
    "balanced['age']=np.where(((balanced.age>=51) & (balanced.age<80)), 8, balanced.age)"
   ]
  },
  {
   "cell_type": "code",
   "execution_count": 203,
   "id": "de9329f1",
   "metadata": {},
   "outputs": [],
   "source": [
    "balanced['age']=np.where((balanced.age>=80), 9, balanced.age)"
   ]
  },
  {
   "cell_type": "code",
   "execution_count": 204,
   "id": "9b58d811",
   "metadata": {},
   "outputs": [
    {
     "data": {
      "text/plain": [
       "6    2015\n",
       "8    1866\n",
       "1    1587\n",
       "7    1213\n",
       "5    1118\n",
       "2     724\n",
       "3     476\n",
       "9     417\n",
       "4     362\n",
       "Name: age, dtype: int64"
      ]
     },
     "execution_count": 204,
     "metadata": {},
     "output_type": "execute_result"
    }
   ],
   "source": [
    "balanced['age'].value_counts()"
   ]
  },
  {
   "cell_type": "code",
   "execution_count": 205,
   "id": "89f47e45",
   "metadata": {},
   "outputs": [
    {
     "data": {
      "text/plain": [
       "0    5265\n",
       "2    1553\n",
       "3    1452\n",
       "4    1103\n",
       "1     405\n",
       "Name: race, dtype: int64"
      ]
     },
     "execution_count": 205,
     "metadata": {},
     "output_type": "execute_result"
    }
   ],
   "source": [
    "balanced['race'].value_counts()"
   ]
  },
  {
   "cell_type": "code",
   "execution_count": 206,
   "id": "24503541",
   "metadata": {},
   "outputs": [
    {
     "data": {
      "text/plain": [
       "1    5406\n",
       "0    4372\n",
       "Name: gender, dtype: int64"
      ]
     },
     "execution_count": 206,
     "metadata": {},
     "output_type": "execute_result"
    }
   ],
   "source": [
    "balanced['gender'].value_counts()"
   ]
  },
  {
   "cell_type": "code",
   "execution_count": 207,
   "id": "050b0ac6",
   "metadata": {},
   "outputs": [
    {
     "data": {
      "text/plain": [
       "(array([1587.,  724.,  476.,  362.,    0., 1118., 2015., 1213., 1866.,\n",
       "         417.]),\n",
       " array([1. , 1.8, 2.6, 3.4, 4.2, 5. , 5.8, 6.6, 7.4, 8.2, 9. ]),\n",
       " <BarContainer object of 10 artists>)"
      ]
     },
     "execution_count": 207,
     "metadata": {},
     "output_type": "execute_result"
    },
    {
     "data": {
      "image/png": "[encoded data removed]",
      "text/plain": [
       "<Figure size 432x288 with 1 Axes>"
      ]
     },
     "metadata": {
      "needs_background": "light"
     },
     "output_type": "display_data"
    }
   ],
   "source": [
    "plt.hist(balanced['age'], bins=10)"
   ]
  },
  {
   "cell_type": "code",
   "execution_count": 208,
   "id": "4b6b7f69",
   "metadata": {},
   "outputs": [
    {
     "data": {
      "text/plain": [
       "(9778,)"
      ]
     },
     "execution_count": 208,
     "metadata": {},
     "output_type": "execute_result"
    }
   ],
   "source": [
    "balanced['file'].shape"
   ]
  },
  {
   "cell_type": "code",
   "execution_count": 209,
   "id": "4af2224c",
   "metadata": {},
   "outputs": [
    {
     "data": {
      "text/html": [
       "<div>\n",
       "<style scoped>\n",
       "    .dataframe tbody tr th:only-of-type {\n",
       "        vertical-align: middle;\n",
       "    }\n",
       "\n",
       "    .dataframe tbody tr th {\n",
       "        vertical-align: top;\n",
       "    }\n",
       "\n",
       "    .dataframe thead th {\n",
       "        text-align: right;\n",
       "    }\n",
       "</style>\n",
       "<table border=\"1\" class=\"dataframe\">\n",
       "  <thead>\n",
       "    <tr style=\"text-align: right;\">\n",
       "      <th></th>\n",
       "      <th>age</th>\n",
       "      <th>gender</th>\n",
       "      <th>race</th>\n",
       "      <th>file</th>\n",
       "    </tr>\n",
       "  </thead>\n",
       "  <tbody>\n",
       "    <tr>\n",
       "      <th>0</th>\n",
       "      <td>9</td>\n",
       "      <td>1</td>\n",
       "      <td>0</td>\n",
       "      <td>C:/Users/User/Desktop/CUNY/Faces_img/cropped.t...</td>\n",
       "    </tr>\n",
       "    <tr>\n",
       "      <th>1</th>\n",
       "      <td>9</td>\n",
       "      <td>1</td>\n",
       "      <td>2</td>\n",
       "      <td>C:/Users/User/Desktop/CUNY/Faces_img/cropped.t...</td>\n",
       "    </tr>\n",
       "    <tr>\n",
       "      <th>2</th>\n",
       "      <td>9</td>\n",
       "      <td>1</td>\n",
       "      <td>2</td>\n",
       "      <td>C:/Users/User/Desktop/CUNY/Faces_img/cropped.t...</td>\n",
       "    </tr>\n",
       "    <tr>\n",
       "      <th>3</th>\n",
       "      <td>4</td>\n",
       "      <td>0</td>\n",
       "      <td>0</td>\n",
       "      <td>C:/Users/User/Desktop/CUNY/Faces_img/cropped.t...</td>\n",
       "    </tr>\n",
       "    <tr>\n",
       "      <th>4</th>\n",
       "      <td>4</td>\n",
       "      <td>0</td>\n",
       "      <td>0</td>\n",
       "      <td>C:/Users/User/Desktop/CUNY/Faces_img/cropped.t...</td>\n",
       "    </tr>\n",
       "  </tbody>\n",
       "</table>\n",
       "</div>"
      ],
      "text/plain": [
       "   age  gender  race                                               file\n",
       "0    9       1     0  C:/Users/User/Desktop/CUNY/Faces_img/cropped.t...\n",
       "1    9       1     2  C:/Users/User/Desktop/CUNY/Faces_img/cropped.t...\n",
       "2    9       1     2  C:/Users/User/Desktop/CUNY/Faces_img/cropped.t...\n",
       "3    4       0     0  C:/Users/User/Desktop/CUNY/Faces_img/cropped.t...\n",
       "4    4       0     0  C:/Users/User/Desktop/CUNY/Faces_img/cropped.t..."
      ]
     },
     "execution_count": 209,
     "metadata": {},
     "output_type": "execute_result"
    }
   ],
   "source": [
    "balanced.head()"
   ]
  },
  {
   "cell_type": "code",
   "execution_count": 25,
   "id": "bf0672f7",
   "metadata": {},
   "outputs": [],
   "source": [
    "df = balanced[['age', 'gender', 'race']]"
   ]
  },
  {
   "cell_type": "code",
   "execution_count": 210,
   "id": "e172377a",
   "metadata": {},
   "outputs": [],
   "source": [
    "df4 = balanced.values"
   ]
  },
  {
   "cell_type": "code",
   "execution_count": 211,
   "id": "facd4c12",
   "metadata": {},
   "outputs": [
    {
     "data": {
      "text/plain": [
       "array([[9, 1, 0,\n",
       "        'C:/Users/User/Desktop/CUNY/Faces_img/cropped.tar/cropped/crop_part1/100_1_0_20170110183726390.jpg.chip.jpg'],\n",
       "       [9, 1, 2,\n",
       "        'C:/Users/User/Desktop/CUNY/Faces_img/cropped.tar/cropped/crop_part1/100_1_2_20170105174847679.jpg.chip.jpg'],\n",
       "       [9, 1, 2,\n",
       "        'C:/Users/User/Desktop/CUNY/Faces_img/cropped.tar/cropped/crop_part1/101_1_2_20170105174739309.jpg.chip.jpg'],\n",
       "       ...,\n",
       "       [4, 1, 4,\n",
       "        'C:/Users/User/Desktop/CUNY/Faces_img/cropped.tar/cropped/crop_part1/9_1_4_20170103200637399.jpg.chip.jpg'],\n",
       "       [4, 1, 4,\n",
       "        'C:/Users/User/Desktop/CUNY/Faces_img/cropped.tar/cropped/crop_part1/9_1_4_20170103200814791.jpg.chip.jpg'],\n",
       "       [4, 1, 4,\n",
       "        'C:/Users/User/Desktop/CUNY/Faces_img/cropped.tar/cropped/crop_part1/9_1_4_20170103213057382.jpg.chip.jpg']],\n",
       "      dtype=object)"
      ]
     },
     "execution_count": 211,
     "metadata": {},
     "output_type": "execute_result"
    }
   ],
   "source": [
    "df4"
   ]
  },
  {
   "cell_type": "code",
   "execution_count": 238,
   "id": "9b32a0a6",
   "metadata": {},
   "outputs": [],
   "source": [
    "X_train, X_test, y_train, y_test = train_test_split(df4[:, 1:4], df4[:,0], test_size=0.33, random_state=42)"
   ]
  },
  {
   "cell_type": "code",
   "execution_count": 239,
   "id": "596e7954",
   "metadata": {},
   "outputs": [
    {
     "data": {
      "text/plain": [
       "(6551, 3)"
      ]
     },
     "execution_count": 239,
     "metadata": {},
     "output_type": "execute_result"
    }
   ],
   "source": [
    "X_train.shape"
   ]
  },
  {
   "cell_type": "code",
   "execution_count": 240,
   "id": "4510573f",
   "metadata": {},
   "outputs": [
    {
     "data": {
      "text/plain": [
       "array([[0, 2,\n",
       "        'C:/Users/User/Desktop/CUNY/Faces_img/cropped.tar/cropped/crop_part1/1_0_2_20161219185955277.jpg.chip.jpg'],\n",
       "       [1, 3,\n",
       "        'C:/Users/User/Desktop/CUNY/Faces_img/cropped.tar/cropped/crop_part1/67_1_3_20170109151006621.jpg.chip.jpg'],\n",
       "       [0, 1,\n",
       "        'C:/Users/User/Desktop/CUNY/Faces_img/cropped.tar/cropped/crop_part1/12_0_1_20170110224244673.jpg.chip.jpg'],\n",
       "       ...,\n",
       "       [0, 0,\n",
       "        'C:/Users/User/Desktop/CUNY/Faces_img/cropped.tar/cropped/crop_part1/3_0_0_20170110213048070.jpg.chip.jpg'],\n",
       "       [1, 3,\n",
       "        'C:/Users/User/Desktop/CUNY/Faces_img/cropped.tar/cropped/crop_part1/16_1_3_20170104221802006.jpg.chip.jpg'],\n",
       "       [1, 0,\n",
       "        'C:/Users/User/Desktop/CUNY/Faces_img/cropped.tar/cropped/crop_part1/56_1_0_20170110153005989.jpg.chip.jpg']],\n",
       "      dtype=object)"
      ]
     },
     "execution_count": 240,
     "metadata": {},
     "output_type": "execute_result"
    }
   ],
   "source": [
    "X_train"
   ]
  },
  {
   "cell_type": "code",
   "execution_count": 241,
   "id": "439b7278",
   "metadata": {},
   "outputs": [],
   "source": [
    "X3, y3 = X_train, y_train"
   ]
  },
  {
   "cell_type": "code",
   "execution_count": 242,
   "id": "cccc45b0",
   "metadata": {},
   "outputs": [
    {
     "name": "stdout",
     "output_type": "stream",
     "text": [
      "Class=0, n=1059 (16.165%)\n",
      "Class=7, n=1274 (19.447%)\n",
      "Class=4, n=747 (11.403%)\n",
      "Class=2, n=305 (4.656%)\n",
      "Class=5, n=1328 (20.272%)\n",
      "Class=1, n=490 (7.480%)\n",
      "Class=6, n=828 (12.639%)\n",
      "Class=3, n=230 (3.511%)\n",
      "Class=8, n=290 (4.427%)\n"
     ]
    }
   ],
   "source": [
    "y3 = LabelEncoder().fit_transform(y3)\n",
    "# summarize distribution\n",
    "counter = Counter(y3)\n",
    "for k,v in counter.items():\n",
    "    per = v / len(y3) * 100\n",
    "    print('Class=%d, n=%d (%.3f%%)' % (k, v, per))\n"
   ]
  },
  {
   "cell_type": "code",
   "execution_count": 243,
   "id": "bfc812d3",
   "metadata": {},
   "outputs": [
    {
     "data": {
      "image/png": "[encoded data removed]",
      "text/plain": [
       "<Figure size 432x288 with 1 Axes>"
      ]
     },
     "metadata": {
      "needs_background": "light"
     },
     "output_type": "display_data"
    }
   ],
   "source": [
    "# plot the distribution\n",
    "plt.bar(counter.keys(), counter.values())\n",
    "plt.show()"
   ]
  },
  {
   "cell_type": "code",
   "execution_count": 244,
   "id": "f86371e9",
   "metadata": {},
   "outputs": [],
   "source": [
    "from imblearn.over_sampling import (RandomOverSampler, \n",
    "                                    SMOTE, \n",
    "                                    ADASYN)"
   ]
  },
  {
   "cell_type": "code",
   "execution_count": 245,
   "id": "ad450b67",
   "metadata": {},
   "outputs": [
    {
     "name": "stdout",
     "output_type": "stream",
     "text": [
      "Class=0, n=1328 (11.111%)\n",
      "Class=7, n=1328 (11.111%)\n",
      "Class=4, n=1328 (11.111%)\n",
      "Class=2, n=1328 (11.111%)\n",
      "Class=5, n=1328 (11.111%)\n",
      "Class=1, n=1328 (11.111%)\n",
      "Class=6, n=1328 (11.111%)\n",
      "Class=3, n=1328 (11.111%)\n",
      "Class=8, n=1328 (11.111%)\n"
     ]
    }
   ],
   "source": [
    "# transform the dataset\n",
    "oversample = RandomOverSampler()\n",
    "X3, y3 = oversample.fit_resample(X3, y3)\n",
    "# summarize distribution\n",
    "counter = Counter(y3)\n",
    "for k,v in counter.items():\n",
    "    per = v / len(y3) * 100\n",
    "    print('Class=%d, n=%d (%.3f%%)' % (k, v, per))"
   ]
  },
  {
   "cell_type": "code",
   "execution_count": 246,
   "id": "e4c8307d",
   "metadata": {},
   "outputs": [
    {
     "data": {
      "image/png": "[encoded data removed]",
      "text/plain": [
       "<Figure size 432x288 with 1 Axes>"
      ]
     },
     "metadata": {
      "needs_background": "light"
     },
     "output_type": "display_data"
    }
   ],
   "source": [
    "# plot the distribution\n",
    "plt.bar(counter.keys(), counter.values())\n",
    "plt.xlabel('The Stages of the Human Life Cycle')\n",
    "plt.show()"
   ]
  },
  {
   "cell_type": "code",
   "execution_count": 247,
   "id": "cae0a87d",
   "metadata": {},
   "outputs": [
    {
     "data": {
      "text/plain": [
       "(11952, 3)"
      ]
     },
     "execution_count": 247,
     "metadata": {},
     "output_type": "execute_result"
    }
   ],
   "source": [
    "X3.shape"
   ]
  },
  {
   "cell_type": "code",
   "execution_count": 248,
   "id": "712d88cc",
   "metadata": {},
   "outputs": [
    {
     "data": {
      "text/plain": [
       "(11952,)"
      ]
     },
     "execution_count": 248,
     "metadata": {},
     "output_type": "execute_result"
    }
   ],
   "source": [
    "y3.shape"
   ]
  },
  {
   "cell_type": "code",
   "execution_count": 249,
   "id": "0b512ba0",
   "metadata": {},
   "outputs": [],
   "source": [
    "age_b_array = np.column_stack( (X3, y3) )"
   ]
  },
  {
   "cell_type": "code",
   "execution_count": 250,
   "id": "51aa73a6",
   "metadata": {},
   "outputs": [
    {
     "data": {
      "text/plain": [
       "array([[0, 2,\n",
       "        'C:/Users/User/Desktop/CUNY/Faces_img/cropped.tar/cropped/crop_part1/1_0_2_20161219185955277.jpg.chip.jpg',\n",
       "        0],\n",
       "       [1, 3,\n",
       "        'C:/Users/User/Desktop/CUNY/Faces_img/cropped.tar/cropped/crop_part1/67_1_3_20170109151006621.jpg.chip.jpg',\n",
       "        7],\n",
       "       [0, 1,\n",
       "        'C:/Users/User/Desktop/CUNY/Faces_img/cropped.tar/cropped/crop_part1/12_0_1_20170110224244673.jpg.chip.jpg',\n",
       "        4],\n",
       "       ...,\n",
       "       [1, 0,\n",
       "        'C:/Users/User/Desktop/CUNY/Faces_img/cropped.tar/cropped/crop_part1/85_1_0_20170110181551074.jpg.chip.jpg',\n",
       "        8],\n",
       "       [1, 0,\n",
       "        'C:/Users/User/Desktop/CUNY/Faces_img/cropped.tar/cropped/crop_part1/85_1_0_20170110182111721.jpg.chip.jpg',\n",
       "        8],\n",
       "       [0, 0,\n",
       "        'C:/Users/User/Desktop/CUNY/Faces_img/cropped.tar/cropped/crop_part1/90_0_0_20170111210220723.jpg.chip.jpg',\n",
       "        8]], dtype=object)"
      ]
     },
     "execution_count": 250,
     "metadata": {},
     "output_type": "execute_result"
    }
   ],
   "source": [
    "age_b_array"
   ]
  },
  {
   "cell_type": "code",
   "execution_count": 251,
   "id": "cf53d1ac",
   "metadata": {},
   "outputs": [],
   "source": [
    "#gender\n",
    "Xr, yr = age_b_array[:, 1:4], age_b_array[:,0]"
   ]
  },
  {
   "cell_type": "code",
   "execution_count": 252,
   "id": "2c6aba33",
   "metadata": {},
   "outputs": [
    {
     "name": "stdout",
     "output_type": "stream",
     "text": [
      "Class=0, n=5246 (43.892%)\n",
      "Class=1, n=6706 (56.108%)\n"
     ]
    }
   ],
   "source": [
    "yr = LabelEncoder().fit_transform(yr)\n",
    "# summarize distribution\n",
    "counter = Counter(yr)\n",
    "for k,v in counter.items():\n",
    "    per = v / len(yr) * 100\n",
    "    print('Class=%d, n=%d (%.3f%%)' % (k, v, per))\n"
   ]
  },
  {
   "cell_type": "code",
   "execution_count": 253,
   "id": "18c4a989",
   "metadata": {},
   "outputs": [
    {
     "data": {
      "image/png": "[encoded data removed]",
      "text/plain": [
       "<Figure size 432x288 with 1 Axes>"
      ]
     },
     "metadata": {
      "needs_background": "light"
     },
     "output_type": "display_data"
    }
   ],
   "source": [
    "#imbalanced gender\n",
    "plt.bar(counter.keys(), counter.values())\n",
    "plt.show()"
   ]
  },
  {
   "cell_type": "code",
   "execution_count": 254,
   "id": "2bb27090",
   "metadata": {},
   "outputs": [
    {
     "name": "stdout",
     "output_type": "stream",
     "text": [
      "Class=0, n=6706 (50.000%)\n",
      "Class=1, n=6706 (50.000%)\n"
     ]
    }
   ],
   "source": [
    "# transform the dataset\n",
    "oversample = RandomOverSampler()\n",
    "Xr, yr = oversample.fit_resample(Xr, yr)\n",
    "# summarize distribution\n",
    "counter = Counter(yr)\n",
    "for k,v in counter.items():\n",
    "    per = v / len(yr) * 100\n",
    "    print('Class=%d, n=%d (%.3f%%)' % (k, v, per))"
   ]
  },
  {
   "cell_type": "code",
   "execution_count": 255,
   "id": "6cb9bb35",
   "metadata": {},
   "outputs": [
    {
     "data": {
      "image/png": "[encoded data removed]",
      "text/plain": [
       "<Figure size 432x288 with 1 Axes>"
      ]
     },
     "metadata": {
      "needs_background": "light"
     },
     "output_type": "display_data"
    }
   ],
   "source": [
    "# plot the distribution balanced gender\n",
    "plt.bar(counter.keys(), counter.values())\n",
    "plt.xlabel('Gender 0-male 1-female')\n",
    "plt.show()"
   ]
  },
  {
   "cell_type": "code",
   "execution_count": 256,
   "id": "0b0cc61f",
   "metadata": {},
   "outputs": [
    {
     "data": {
      "text/plain": [
       "(13412, 3)"
      ]
     },
     "execution_count": 256,
     "metadata": {},
     "output_type": "execute_result"
    }
   ],
   "source": [
    "Xr.shape"
   ]
  },
  {
   "cell_type": "code",
   "execution_count": 257,
   "id": "7f09a397",
   "metadata": {},
   "outputs": [],
   "source": [
    "gender_b_array = np.column_stack( (Xr, yr) )"
   ]
  },
  {
   "cell_type": "code",
   "execution_count": 258,
   "id": "b7e4c28f",
   "metadata": {},
   "outputs": [
    {
     "data": {
      "text/plain": [
       "array([[2,\n",
       "        'C:/Users/User/Desktop/CUNY/Faces_img/cropped.tar/cropped/crop_part1/1_0_2_20161219185955277.jpg.chip.jpg',\n",
       "        0, 0],\n",
       "       [3,\n",
       "        'C:/Users/User/Desktop/CUNY/Faces_img/cropped.tar/cropped/crop_part1/67_1_3_20170109151006621.jpg.chip.jpg',\n",
       "        7, 1],\n",
       "       [1,\n",
       "        'C:/Users/User/Desktop/CUNY/Faces_img/cropped.tar/cropped/crop_part1/12_0_1_20170110224244673.jpg.chip.jpg',\n",
       "        4, 0],\n",
       "       ...,\n",
       "       [3,\n",
       "        'C:/Users/User/Desktop/CUNY/Faces_img/cropped.tar/cropped/crop_part1/26_0_3_20170104214719799.jpg.chip.jpg',\n",
       "        5, 0],\n",
       "       [0,\n",
       "        'C:/Users/User/Desktop/CUNY/Faces_img/cropped.tar/cropped/crop_part1/63_0_0_20170111195517664.jpg.chip.jpg',\n",
       "        7, 0],\n",
       "       [0,\n",
       "        'C:/Users/User/Desktop/CUNY/Faces_img/cropped.tar/cropped/crop_part1/9_0_0_20170110224738342.jpg.chip.jpg',\n",
       "        3, 0]], dtype=object)"
      ]
     },
     "execution_count": 258,
     "metadata": {},
     "output_type": "execute_result"
    }
   ],
   "source": [
    "gender_b_array"
   ]
  },
  {
   "cell_type": "code",
   "execution_count": 259,
   "id": "89e8a8ba",
   "metadata": {},
   "outputs": [],
   "source": [
    "#race\n",
    "Xrace, yrace = gender_b_array[:, 1:4], gender_b_array[:,0]"
   ]
  },
  {
   "cell_type": "code",
   "execution_count": 260,
   "id": "5b069b6b",
   "metadata": {},
   "outputs": [
    {
     "name": "stdout",
     "output_type": "stream",
     "text": [
      "Class=2, n=2105 (15.695%)\n",
      "Class=3, n=1628 (12.138%)\n",
      "Class=1, n=611 (4.556%)\n",
      "Class=0, n=7700 (57.411%)\n",
      "Class=4, n=1368 (10.200%)\n"
     ]
    }
   ],
   "source": [
    "yrace = LabelEncoder().fit_transform(yrace)\n",
    "# summarize distribution\n",
    "counter = Counter(yrace)\n",
    "for k,v in counter.items():\n",
    "    per = v / len(yrace) * 100\n",
    "    print('Class=%d, n=%d (%.3f%%)' % (k, v, per))"
   ]
  },
  {
   "cell_type": "code",
   "execution_count": 261,
   "id": "6a752ab2",
   "metadata": {},
   "outputs": [
    {
     "data": {
      "image/png": "[encoded data removed]",
      "text/plain": [
       "<Figure size 432x288 with 1 Axes>"
      ]
     },
     "metadata": {
      "needs_background": "light"
     },
     "output_type": "display_data"
    }
   ],
   "source": [
    "#imbalanced race\n",
    "plt.bar(counter.keys(), counter.values())\n",
    "plt.show()"
   ]
  },
  {
   "cell_type": "code",
   "execution_count": 262,
   "id": "32639d01",
   "metadata": {},
   "outputs": [
    {
     "name": "stdout",
     "output_type": "stream",
     "text": [
      "Class=2, n=7700 (20.000%)\n",
      "Class=3, n=7700 (20.000%)\n",
      "Class=1, n=7700 (20.000%)\n",
      "Class=0, n=7700 (20.000%)\n",
      "Class=4, n=7700 (20.000%)\n"
     ]
    }
   ],
   "source": [
    "# transform the dataset\n",
    "oversample = RandomOverSampler()\n",
    "Xrace, yrace = oversample.fit_resample(Xrace, yrace)\n",
    "# summarize distribution\n",
    "counter = Counter(yrace)\n",
    "for k,v in counter.items():\n",
    "    per = v / len(yrace) * 100\n",
    "    print('Class=%d, n=%d (%.3f%%)' % (k, v, per))"
   ]
  },
  {
   "cell_type": "code",
   "execution_count": 263,
   "id": "4b8ada43",
   "metadata": {},
   "outputs": [
    {
     "data": {
      "image/png": "[encoded data removed]",
      "text/plain": [
       "<Figure size 432x288 with 1 Axes>"
      ]
     },
     "metadata": {
      "needs_background": "light"
     },
     "output_type": "display_data"
    }
   ],
   "source": [
    "# plot the distribution balanced race\n",
    "plt.bar(counter.keys(), counter.values())\n",
    "plt.xlabel('Race 0-White, 1-Black, 2-Asian, 3-Indian, 4-Others')\n",
    "plt.show()"
   ]
  },
  {
   "cell_type": "code",
   "execution_count": 264,
   "id": "40c1ac19",
   "metadata": {},
   "outputs": [
    {
     "data": {
      "text/plain": [
       "(38500, 3)"
      ]
     },
     "execution_count": 264,
     "metadata": {},
     "output_type": "execute_result"
    }
   ],
   "source": [
    "Xrace.shape"
   ]
  },
  {
   "cell_type": "code",
   "execution_count": 265,
   "id": "ef45a3d3",
   "metadata": {},
   "outputs": [],
   "source": [
    "race_b_array = np.column_stack( (Xrace, yrace) )"
   ]
  },
  {
   "cell_type": "code",
   "execution_count": 266,
   "id": "7ce8b5f1",
   "metadata": {},
   "outputs": [
    {
     "data": {
      "text/plain": [
       "array([['C:/Users/User/Desktop/CUNY/Faces_img/cropped.tar/cropped/crop_part1/1_0_2_20161219185955277.jpg.chip.jpg',\n",
       "        0, 0, 2],\n",
       "       ['C:/Users/User/Desktop/CUNY/Faces_img/cropped.tar/cropped/crop_part1/67_1_3_20170109151006621.jpg.chip.jpg',\n",
       "        7, 1, 3],\n",
       "       ['C:/Users/User/Desktop/CUNY/Faces_img/cropped.tar/cropped/crop_part1/12_0_1_20170110224244673.jpg.chip.jpg',\n",
       "        4, 0, 1],\n",
       "       ...,\n",
       "       ['C:/Users/User/Desktop/CUNY/Faces_img/cropped.tar/cropped/crop_part1/8_0_4_20170103201939191.jpg.chip.jpg',\n",
       "        2, 0, 4],\n",
       "       ['C:/Users/User/Desktop/CUNY/Faces_img/cropped.tar/cropped/crop_part1/23_1_4_20170103223410718.jpg.chip.jpg',\n",
       "        5, 1, 4],\n",
       "       ['C:/Users/User/Desktop/CUNY/Faces_img/cropped.tar/cropped/crop_part1/41_0_4_20170104173222571.jpg.chip.jpg',\n",
       "        6, 0, 4]], dtype=object)"
      ]
     },
     "execution_count": 266,
     "metadata": {},
     "output_type": "execute_result"
    }
   ],
   "source": [
    "race_b_array"
   ]
  },
  {
   "cell_type": "code",
   "execution_count": 267,
   "id": "94a2cde7",
   "metadata": {},
   "outputs": [],
   "source": [
    "df2 = pd.DataFrame(race_b_array, columns = ['file','age','gender', 'race'])\n"
   ]
  },
  {
   "cell_type": "code",
   "execution_count": 268,
   "id": "a55af651",
   "metadata": {},
   "outputs": [
    {
     "name": "stdout",
     "output_type": "stream",
     "text": [
      "                                                    file age gender race\n",
      "0      C:/Users/User/Desktop/CUNY/Faces_img/cropped.t...   0      0    2\n",
      "1      C:/Users/User/Desktop/CUNY/Faces_img/cropped.t...   7      1    3\n",
      "2      C:/Users/User/Desktop/CUNY/Faces_img/cropped.t...   4      0    1\n",
      "3      C:/Users/User/Desktop/CUNY/Faces_img/cropped.t...   4      1    2\n",
      "4      C:/Users/User/Desktop/CUNY/Faces_img/cropped.t...   7      0    0\n",
      "...                                                  ...  ..    ...  ...\n",
      "38495  C:/Users/User/Desktop/CUNY/Faces_img/cropped.t...   6      1    4\n",
      "38496  C:/Users/User/Desktop/CUNY/Faces_img/cropped.t...   5      0    4\n",
      "38497  C:/Users/User/Desktop/CUNY/Faces_img/cropped.t...   2      0    4\n",
      "38498  C:/Users/User/Desktop/CUNY/Faces_img/cropped.t...   5      1    4\n",
      "38499  C:/Users/User/Desktop/CUNY/Faces_img/cropped.t...   6      0    4\n",
      "\n",
      "[38500 rows x 4 columns]\n",
      "<class 'pandas.core.frame.DataFrame'>\n"
     ]
    }
   ],
   "source": [
    "print(df2)\n",
    "print(type(df2))"
   ]
  },
  {
   "cell_type": "code",
   "execution_count": 269,
   "id": "443c6401",
   "metadata": {},
   "outputs": [
    {
     "data": {
      "text/plain": [
       "'C:/Users/User/Desktop/CUNY/Faces_img/cropped.tar/cropped/crop_part1/1_0_2_20161219185955277.jpg.chip.jpg'"
      ]
     },
     "execution_count": 269,
     "metadata": {},
     "output_type": "execute_result"
    }
   ],
   "source": [
    "df2['file'][0]"
   ]
  },
  {
   "cell_type": "code",
   "execution_count": 270,
   "id": "173a2d4d",
   "metadata": {},
   "outputs": [],
   "source": [
    "train=df2['file']"
   ]
  },
  {
   "cell_type": "code",
   "execution_count": 271,
   "id": "0a3c6ae7",
   "metadata": {},
   "outputs": [
    {
     "data": {
      "text/plain": [
       "(38500,)"
      ]
     },
     "execution_count": 271,
     "metadata": {},
     "output_type": "execute_result"
    }
   ],
   "source": [
    "train.shape"
   ]
  },
  {
   "cell_type": "code",
   "execution_count": 272,
   "id": "cac50d3d",
   "metadata": {},
   "outputs": [],
   "source": [
    "#gender\n",
    "Xg, yg = race_b_array[:,-1], race_b_array[:,-1]"
   ]
  },
  {
   "cell_type": "code",
   "execution_count": 273,
   "id": "b7eb22d5",
   "metadata": {},
   "outputs": [],
   "source": [
    "Xg = Xg/ 255.0"
   ]
  },
  {
   "cell_type": "code",
   "execution_count": 274,
   "id": "d812d5d2",
   "metadata": {},
   "outputs": [
    {
     "data": {
      "text/plain": [
       "(38500,)"
      ]
     },
     "execution_count": 274,
     "metadata": {},
     "output_type": "execute_result"
    }
   ],
   "source": [
    "Xg.shape"
   ]
  },
  {
   "cell_type": "code",
   "execution_count": 275,
   "id": "8b50576c",
   "metadata": {},
   "outputs": [
    {
     "data": {
      "text/plain": [
       "array([[0.00784313725490196],\n",
       "       [0.011764705882352941],\n",
       "       [0.00392156862745098],\n",
       "       ...,\n",
       "       [0.01568627450980392],\n",
       "       [0.01568627450980392],\n",
       "       [0.01568627450980392]], dtype=object)"
      ]
     },
     "execution_count": 275,
     "metadata": {},
     "output_type": "execute_result"
    }
   ],
   "source": [
    "Xg.reshape(-1, 1)"
   ]
  },
  {
   "cell_type": "code",
   "execution_count": 276,
   "id": "9432b498",
   "metadata": {},
   "outputs": [
    {
     "data": {
      "text/plain": [
       "array([0.00784313725490196, 0.011764705882352941, 0.00392156862745098,\n",
       "       0.00784313725490196, 0.0], dtype=object)"
      ]
     },
     "execution_count": 276,
     "metadata": {},
     "output_type": "execute_result"
    }
   ],
   "source": [
    "Xg[0:5]"
   ]
  },
  {
   "cell_type": "code",
   "execution_count": null,
   "id": "2e18073a",
   "metadata": {},
   "outputs": [],
   "source": []
  }
 ],
 "metadata": {
  "kernelspec": {
   "display_name": "Python 3 (ipykernel)",
   "language": "python",
   "name": "python3"
  },
  "language_info": {
   "codemirror_mode": {
    "name": "ipython",
    "version": 3
   },
   "file_extension": ".py",
   "mimetype": "text/x-python",
   "name": "python",
   "nbconvert_exporter": "python",
   "pygments_lexer": "ipython3",
   "version": "3.10.2"
  }
 },
 "nbformat": 4,
 "nbformat_minor": 5
}
