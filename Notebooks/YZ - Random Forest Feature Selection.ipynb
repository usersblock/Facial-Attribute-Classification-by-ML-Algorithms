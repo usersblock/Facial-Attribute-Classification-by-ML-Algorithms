{
 "cells": [
  {
   "cell_type": "markdown",
   "id": "657ab9f7",
   "metadata": {},
   "source": [
    "## Feature Selection\n",
    "* Only keep the important features"
   ]
  },
  {
   "cell_type": "code",
   "execution_count": 10,
   "id": "a887db36",
   "metadata": {},
   "outputs": [],
   "source": [
    "import pandas as pd\n",
    "import numpy as np\n",
    "from os import listdir\n",
    "from os.path import isfile, join\n",
    "import matplotlib.pyplot as plt\n",
    "from skimage import io"
   ]
  },
  {
   "cell_type": "code",
   "execution_count": 11,
   "id": "931ae190",
   "metadata": {},
   "outputs": [],
   "source": [
    "mypath = 'C:/Users/Yinzi/Desktop/ML PROJECT/Part 3/dataset/crop_part1'\n",
    "filenames = np.array([f for f in listdir(mypath) if isfile(join(mypath, f))])\n",
    "splitcolumns = [x.split('_')[0:3] + [mypath +'/' + x] for x in filenames if x.count('_') == 3]\n",
    "filecolumns = ['age','gender','race','file']\n",
    "df = pd.DataFrame(data = splitcolumns, columns = filecolumns)"
   ]
  },
  {
   "cell_type": "code",
   "execution_count": 12,
   "id": "ff2ff260",
   "metadata": {},
   "outputs": [],
   "source": [
    "images = []\n",
    "for img_path in df['file']:\n",
    "    img = io.imread(img_path)\n",
    "    images.append(img)"
   ]
  },
  {
   "cell_type": "code",
   "execution_count": 14,
   "id": "ca260a42",
   "metadata": {},
   "outputs": [],
   "source": [
    "from sklearn.model_selection import train_test_split\n",
    "X_train, X_test, y_train, y_test = train_test_split(images, df['gender'], test_size=0.3, random_state=42)"
   ]
  },
  {
   "cell_type": "code",
   "execution_count": 16,
   "id": "ab80fbe3",
   "metadata": {},
   "outputs": [],
   "source": [
    "from skimage import color\n",
    "X_grays = []\n",
    "for img in X_train:\n",
    "    img_gray = color.rgb2gray(img)\n",
    "    X_grays.append(img_gray)"
   ]
  },
  {
   "cell_type": "code",
   "execution_count": 17,
   "id": "26fd9864",
   "metadata": {},
   "outputs": [
    {
     "data": {
      "text/plain": [
       "(6844, 40000)"
      ]
     },
     "execution_count": 17,
     "metadata": {},
     "output_type": "execute_result"
    }
   ],
   "source": [
    "X_flat = np.array(X_grays).reshape((6844, 200*200))\n",
    "X_flat.shape"
   ]
  },
  {
   "cell_type": "markdown",
   "id": "857ee1b3",
   "metadata": {},
   "source": [
    "## 1. Random Forest feature selection"
   ]
  },
  {
   "cell_type": "code",
   "execution_count": 26,
   "id": "19f0af2f",
   "metadata": {},
   "outputs": [],
   "source": [
    "from sklearn.ensemble import RandomForestClassifier\n",
    "from sklearn.feature_selection import SelectFromModel\n",
    "X_flat_df = pd.DataFrame(X_flat)"
   ]
  },
  {
   "cell_type": "code",
   "execution_count": 38,
   "id": "9bb5e10a",
   "metadata": {},
   "outputs": [
    {
     "data": {
      "text/plain": [
       "RangeIndex(start=0, stop=40000, step=1)"
      ]
     },
     "execution_count": 38,
     "metadata": {},
     "output_type": "execute_result"
    }
   ],
   "source": [
    "X_flat_df.columns"
   ]
  },
  {
   "cell_type": "code",
   "execution_count": 27,
   "id": "6b40762d",
   "metadata": {},
   "outputs": [
    {
     "data": {
      "text/plain": [
       "SelectFromModel(estimator=RandomForestClassifier())"
      ]
     },
     "execution_count": 27,
     "metadata": {},
     "output_type": "execute_result"
    }
   ],
   "source": [
    "# SelectFromModel will select those features which importance is greater than the mean importance of all the features by default\n",
    "selector = SelectFromModel(RandomForestClassifier(n_estimators = 100))\n",
    "selector.fit(X_flat_df, y_train)"
   ]
  },
  {
   "cell_type": "code",
   "execution_count": 28,
   "id": "9475e80b",
   "metadata": {},
   "outputs": [
    {
     "data": {
      "text/plain": [
       "array([ True, False, False, ..., False,  True, False])"
      ]
     },
     "execution_count": 28,
     "metadata": {},
     "output_type": "execute_result"
    }
   ],
   "source": [
    "# To see which features are important\n",
    "selector.get_support()"
   ]
  },
  {
   "cell_type": "code",
   "execution_count": 30,
   "id": "bd023c30",
   "metadata": {},
   "outputs": [
    {
     "data": {
      "text/plain": [
       "12791"
      ]
     },
     "execution_count": 30,
     "metadata": {},
     "output_type": "execute_result"
    }
   ],
   "source": [
    "selected_feature= X_flat_df.columns[(selector.get_support())]\n",
    "len(selected_feature)"
   ]
  },
  {
   "cell_type": "code",
   "execution_count": 32,
   "id": "e00d0029",
   "metadata": {},
   "outputs": [
    {
     "name": "stdout",
     "output_type": "stream",
     "text": [
      "Int64Index([0, 5, 7, 8, 9, 11, 12, 18, 19, 22, 23, 24, 28, 30, 31, 32, 34, 38,\n",
      "            39, 42],\n",
      "           dtype='int64')\n"
     ]
    }
   ],
   "source": [
    "print(selected_feature[0:20])"
   ]
  },
  {
   "cell_type": "code",
   "execution_count": 45,
   "id": "6df80fc8",
   "metadata": {},
   "outputs": [
    {
     "data": {
      "text/plain": [
       "array([5.78871241e-05, 1.12362207e-05, 0.00000000e+00, 0.00000000e+00,\n",
       "       0.00000000e+00, 4.30653797e-05, 2.02474167e-05, 5.43121539e-05,\n",
       "       3.32301754e-05, 3.02619149e-05])"
      ]
     },
     "execution_count": 45,
     "metadata": {},
     "output_type": "execute_result"
    }
   ],
   "source": [
    "importances = selector.estimator_.feature_importances_\n",
    "importances[0:10]"
   ]
  },
  {
   "cell_type": "code",
   "execution_count": 48,
   "id": "aa5755a6",
   "metadata": {},
   "outputs": [
    {
     "data": {
      "text/plain": [
       "(6844, 12791)"
      ]
     },
     "execution_count": 48,
     "metadata": {},
     "output_type": "execute_result"
    }
   ],
   "source": [
    "selected_df = X_flat_df.loc[:, selected_feature]\n",
    "selected_df.shape"
   ]
  },
  {
   "cell_type": "code",
   "execution_count": 49,
   "id": "bd504a2b",
   "metadata": {},
   "outputs": [],
   "source": [
    "X_selected_df = selected_df"
   ]
  },
  {
   "cell_type": "code",
   "execution_count": null,
   "id": "93c403a3",
   "metadata": {},
   "outputs": [],
   "source": []
  },
  {
   "cell_type": "code",
   "execution_count": null,
   "id": "e517c624",
   "metadata": {},
   "outputs": [],
   "source": []
  },
  {
   "cell_type": "code",
   "execution_count": null,
   "id": "aa4a7b7a",
   "metadata": {},
   "outputs": [],
   "source": []
  },
  {
   "cell_type": "code",
   "execution_count": null,
   "id": "282d626b",
   "metadata": {},
   "outputs": [],
   "source": []
  }
 ],
 "metadata": {
  "kernelspec": {
   "display_name": "Python 3",
   "language": "python",
   "name": "python3"
  },
  "language_info": {
   "codemirror_mode": {
    "name": "ipython",
    "version": 3
   },
   "file_extension": ".py",
   "mimetype": "text/x-python",
   "name": "python",
   "nbconvert_exporter": "python",
   "pygments_lexer": "ipython3",
   "version": "3.8.8"
  }
 },
 "nbformat": 4,
 "nbformat_minor": 5
}
