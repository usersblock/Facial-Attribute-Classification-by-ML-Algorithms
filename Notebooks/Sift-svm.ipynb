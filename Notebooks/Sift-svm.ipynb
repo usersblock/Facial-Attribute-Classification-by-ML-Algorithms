{
 "cells": [
  {
   "cell_type": "code",
   "execution_count": 2,
   "id": "90ba913f",
   "metadata": {},
   "outputs": [],
   "source": [
    "import sys\n",
    "sys.path.insert(0, '..\\src\\data')\n",
    "#import make_dataset_beta as md\n",
    "from sklearn.model_selection import train_test_split\n",
    "import matplotlib.pyplot as plt\n",
    "from scipy.cluster.vq import vq, kmeans\n",
    "from scipy.spatial.distance import cdist\n",
    "import pandas as pd\n",
    "import cv2"
   ]
  },
  {
   "cell_type": "code",
   "execution_count": 6,
   "id": "43f40fb2",
   "metadata": {},
   "outputs": [],
   "source": [
    "import numpy as np\n",
    "from sklearn.datasets import fetch_openml\n",
    "from sklearn.model_selection import train_test_split\n",
    "from sklearn.metrics import accuracy_score, confusion_matrix\n",
    "from sklearn.metrics import roc_auc_score\n",
    "from sklearn import metrics\n",
    "from sklearn.linear_model import SGDRegressor\n",
    "from sklearn.pipeline import make_pipeline\n",
    "from sklearn.preprocessing import StandardScaler\n",
    "from sklearn.linear_model import LogisticRegression\n",
    "import matplotlib.pyplot as plt\n",
    "import seaborn as sns\n",
    "import statsmodels.api as sm\n",
    "import pandas as pd\n",
    "from os import listdir\n",
    "from os.path import isfile, join\n",
    "from sklearn.metrics import classification_report\n",
    "from sklearn.metrics import mean_squared_error\n",
    "from sklearn.metrics import mean_absolute_error\n",
    "from sklearn import svm\n",
    "from sklearn.svm import SVC, SVR\n",
    "import os\n",
    "import cv2"
   ]
  },
  {
   "cell_type": "code",
   "execution_count": 4,
   "id": "010b33c1",
   "metadata": {},
   "outputs": [],
   "source": [
    "mypath = \"C:/Users/User/Desktop/CUNY/Faces_img/cropped.tar/cropped/crop_part1\""
   ]
  },
  {
   "cell_type": "code",
   "execution_count": 7,
   "id": "879c39e6",
   "metadata": {},
   "outputs": [],
   "source": [
    "filenames = np.array([f for f in listdir(mypath) if isfile(join(mypath, f))])\n",
    "splitcolumns = [x.split('_')[0:3] + [mypath +'/' + x] for x in filenames if x.count('_') == 3]\n",
    "filecolumns = ['age','gender','race','file']\n",
    "filedf = pd.DataFrame(data = splitcolumns, columns = filecolumns)\n",
    "filedfnona = filedf.dropna()\n",
    "filedfnona['age']  = filedfnona['age'].astype(int)\n",
    "filedfnona['race'] = filedfnona['race'].astype(int)\n",
    "filedfnona['gender'] = filedfnona['gender'].astype(int)"
   ]
  },
  {
   "cell_type": "code",
   "execution_count": 33,
   "id": "cc5223d2",
   "metadata": {},
   "outputs": [
    {
     "data": {
      "text/plain": [
       "0       1\n",
       "1       1\n",
       "2       1\n",
       "3       0\n",
       "4       0\n",
       "       ..\n",
       "9773    1\n",
       "9774    1\n",
       "9775    1\n",
       "9776    1\n",
       "9777    1\n",
       "Name: gender, Length: 9778, dtype: int32"
      ]
     },
     "execution_count": 33,
     "metadata": {},
     "output_type": "execute_result"
    }
   ],
   "source": [
    "filedfnona['gender']"
   ]
  },
  {
   "cell_type": "code",
   "execution_count": 8,
   "id": "774645c8",
   "metadata": {},
   "outputs": [],
   "source": [
    "images = []\n",
    "for img_path in filedfnona['file']:\n",
    "    image = plt.imread(img_path)\n",
    "    images.append(image) "
   ]
  },
  {
   "cell_type": "code",
   "execution_count": 9,
   "id": "c968d2d9",
   "metadata": {},
   "outputs": [],
   "source": [
    "X_img = np.array(images)"
   ]
  },
  {
   "cell_type": "code",
   "execution_count": 3,
   "id": "06620190",
   "metadata": {},
   "outputs": [],
   "source": [
    "# Get Image Descriptors, which are a combination of points on an image and the description of surrounding pixels.\n",
    "\n",
    "def get_descriptors(nparrays,nfeatures):\n",
    "    sift = cv2.SIFT_create(nfeatures = nfeatures)\n",
    "    container = []\n",
    "    for i in nparrays:\n",
    "        img_bw = i\n",
    "        if(len(i.shape)==3):\n",
    "            img_bw = cv2.cvtColor(i, cv2.COLOR_BGR2GRAY)\n",
    "        keypoint,descriptor = sift.detectAndCompute(img_bw,None)\n",
    "        container.append([keypoint,descriptor])\n",
    "    return container\n",
    "\n",
    "#For a collection of image area descriptions, get the Kmeans of n clusters. This will be what future images are compared to.\n",
    "\n",
    "def get_vocab(descriptors,n):\n",
    "    descriptor_container = []\n",
    "    for i in descriptors:\n",
    "        if i[1] is None:\n",
    "            continue\n",
    "        for j in i[1]:\n",
    "            descriptor_container.append(j)\n",
    "    vocab = kmeans(descriptor_container,n)\n",
    "    return vocab\n",
    "\n",
    "# For each image, get its descriptors. For each descriptor, get the closest Kmean descriptor in vocab and add 1 to its index in a histogram.\n",
    "# Return a histogram per image. This histogram will be passed as a feature for modeling.\n",
    "\n",
    "def descriptor_to_vocab(nparrays,vocab):\n",
    "    sift = cv2.SIFT_create()\n",
    "    container = []\n",
    "    for i in nparrays:\n",
    "        \n",
    "        img_bw = i\n",
    "        if(len(i.shape)==3):\n",
    "            img_bw = cv2.cvtColor(i, cv2.COLOR_BGR2GRAY)\n",
    "        keypoint,descriptor = sift.detectAndCompute(img_bw,None)\n",
    "        if descriptor is not None:\n",
    "            dist = cdist(descriptor,vocab[0],'euclidean')\n",
    "            bin_assignment = np.argmin(dist,axis = 1)\n",
    "        else:\n",
    "            bin_assignment = []\n",
    "        image_feats = np.zeros(len(vocab[0]))\n",
    "        for j in bin_assignment:\n",
    "            image_feats[j] += 1\n",
    "        container.append(image_feats)\n",
    "    return container\n",
    "\n",
    "# Normalizes histograms from images so that they may be used in ML inputs\n",
    "\n",
    "def normalize_histograms(histarray):\n",
    "    histarray = np.array(histarray)\n",
    "    feats_norm_div = np.linalg.norm(histarray,axis = 1)\n",
    "    for i in range(0,histarray.shape[0]):\n",
    "        divi = feats_norm_div[i]\n",
    "        histarray[i] = histarray[i]/divi\n",
    "        if(np.isnan(histarray[i][0])):\n",
    "            histarray[i] = np.zeros(len(histarray[i]))\n",
    "    return histarray\n",
    "\n",
    "# Pipeline for SIFT to histogram features per image\n",
    "# Returns a dataframe for training and testing datasets\n",
    "'''\n",
    "path - path to the image directory\n",
    "column - what type of label to return\n",
    "nvocab - how many vectors will appear in the descriptor 'vocabulary'\n",
    "test_size - percentage of images that will be used as tests\n",
    "random_state - seed for randomization\n",
    "n_features - For each image, return at most n descriptors\n",
    "'''\n",
    "\n",
    "\n",
    "\n",
    "# X[:,0] should be file names and X[:,1] should be nparrays of images\n",
    "\n",
    "def SIFT_nparray_to_Features(X_train,X_test,nvocab = 200,n_features = 100):\n",
    "    X_train_np = np.array(X_train)\n",
    "    X_test_np = np.array(X_test)\n",
    "    descriptors = get_descriptors(X_train_np,n_features)\n",
    "    vocab = get_vocab(descriptors[:100],nvocab)\n",
    "    histarraytrain = descriptor_to_vocab(X_train_np,vocab)\n",
    "    histarraytest = descriptor_to_vocab(X_test_np,vocab)\n",
    "    normalizehisttrain = normalize_histograms(histarraytrain)\n",
    "    normalizehisttest = normalize_histograms(histarraytest)\n",
    "    nonantrain = np.nan_to_num(normalizehisttrain)\n",
    "    nonantest = np.nan_to_num(normalizehisttest)\n",
    "    return nonantrain,nonantest\n",
    "\n"
   ]
  },
  {
   "cell_type": "code",
   "execution_count": 10,
   "id": "5065ae7e",
   "metadata": {},
   "outputs": [],
   "source": [
    "#gender\n",
    "X_train, X_test, y_train, y_test = train_test_split(X_img, filedfnona['gender'], test_size=0.33, random_state=42)"
   ]
  },
  {
   "cell_type": "code",
   "execution_count": 11,
   "id": "04027285",
   "metadata": {},
   "outputs": [
    {
     "name": "stderr",
     "output_type": "stream",
     "text": [
      "C:\\Users\\User\\AppData\\Local\\Temp/ipykernel_9524/2970605708.py:56: RuntimeWarning: invalid value encountered in true_divide\n",
      "  histarray[i] = histarray[i]/divi\n"
     ]
    }
   ],
   "source": [
    "X_train_sift,X_test_sift = SIFT_nparray_to_Features(X_train, X_test)"
   ]
  },
  {
   "cell_type": "code",
   "execution_count": 13,
   "id": "b388e0ed",
   "metadata": {},
   "outputs": [],
   "source": [
    "X_scaled=X_train_sift/255.0\n",
    "X_test_sc=X_test_sift/255.0"
   ]
  },
  {
   "cell_type": "code",
   "execution_count": 17,
   "id": "00a312df",
   "metadata": {},
   "outputs": [],
   "source": [
    "model = SVC(kernel = 'linear', C=1.0, random_state=42, verbose = True)"
   ]
  },
  {
   "cell_type": "code",
   "execution_count": 18,
   "id": "54fd60d8",
   "metadata": {},
   "outputs": [
    {
     "name": "stdout",
     "output_type": "stream",
     "text": [
      "[LibSVM]"
     ]
    },
    {
     "data": {
      "text/plain": [
       "SVC(kernel='linear', random_state=42, verbose=True)"
      ]
     },
     "execution_count": 18,
     "metadata": {},
     "output_type": "execute_result"
    }
   ],
   "source": [
    "model.fit(X_scaled, y_train)"
   ]
  },
  {
   "cell_type": "code",
   "execution_count": 19,
   "id": "3009d47b",
   "metadata": {},
   "outputs": [],
   "source": [
    "y_pred_gender = model.predict(X_scaled)"
   ]
  },
  {
   "cell_type": "code",
   "execution_count": 20,
   "id": "ebf4b756",
   "metadata": {},
   "outputs": [
    {
     "name": "stdout",
     "output_type": "stream",
     "text": [
      "accuracy: 0.5541138757441612\n",
      "              precision    recall  f1-score   support\n",
      "\n",
      "           0       0.00      0.00      0.00      2921\n",
      "           1       0.55      1.00      0.71      3630\n",
      "\n",
      "    accuracy                           0.55      6551\n",
      "   macro avg       0.28      0.50      0.36      6551\n",
      "weighted avg       0.31      0.55      0.40      6551\n",
      "\n"
     ]
    },
    {
     "name": "stderr",
     "output_type": "stream",
     "text": [
      "C:\\Users\\User\\anaconda3\\lib\\site-packages\\sklearn\\metrics\\_classification.py:1318: UndefinedMetricWarning: Precision and F-score are ill-defined and being set to 0.0 in labels with no predicted samples. Use `zero_division` parameter to control this behavior.\n",
      "  _warn_prf(average, modifier, msg_start, len(result))\n",
      "C:\\Users\\User\\anaconda3\\lib\\site-packages\\sklearn\\metrics\\_classification.py:1318: UndefinedMetricWarning: Precision and F-score are ill-defined and being set to 0.0 in labels with no predicted samples. Use `zero_division` parameter to control this behavior.\n",
      "  _warn_prf(average, modifier, msg_start, len(result))\n",
      "C:\\Users\\User\\anaconda3\\lib\\site-packages\\sklearn\\metrics\\_classification.py:1318: UndefinedMetricWarning: Precision and F-score are ill-defined and being set to 0.0 in labels with no predicted samples. Use `zero_division` parameter to control this behavior.\n",
      "  _warn_prf(average, modifier, msg_start, len(result))\n"
     ]
    }
   ],
   "source": [
    "print(f\"accuracy: {accuracy_score(y_train, y_pred_gender)}\")\n",
    "print(f\"{classification_report(y_train, y_pred_gender)}\")"
   ]
  },
  {
   "cell_type": "code",
   "execution_count": 21,
   "id": "2a36970a",
   "metadata": {},
   "outputs": [
    {
     "name": "stdout",
     "output_type": "stream",
     "text": [
      "accuracy: 0.5503563681437867\n",
      "              precision    recall  f1-score   support\n",
      "\n",
      "           0       0.00      0.00      0.00      1451\n",
      "           1       0.55      1.00      0.71      1776\n",
      "\n",
      "    accuracy                           0.55      3227\n",
      "   macro avg       0.28      0.50      0.35      3227\n",
      "weighted avg       0.30      0.55      0.39      3227\n",
      "\n"
     ]
    },
    {
     "name": "stderr",
     "output_type": "stream",
     "text": [
      "C:\\Users\\User\\anaconda3\\lib\\site-packages\\sklearn\\metrics\\_classification.py:1318: UndefinedMetricWarning: Precision and F-score are ill-defined and being set to 0.0 in labels with no predicted samples. Use `zero_division` parameter to control this behavior.\n",
      "  _warn_prf(average, modifier, msg_start, len(result))\n",
      "C:\\Users\\User\\anaconda3\\lib\\site-packages\\sklearn\\metrics\\_classification.py:1318: UndefinedMetricWarning: Precision and F-score are ill-defined and being set to 0.0 in labels with no predicted samples. Use `zero_division` parameter to control this behavior.\n",
      "  _warn_prf(average, modifier, msg_start, len(result))\n",
      "C:\\Users\\User\\anaconda3\\lib\\site-packages\\sklearn\\metrics\\_classification.py:1318: UndefinedMetricWarning: Precision and F-score are ill-defined and being set to 0.0 in labels with no predicted samples. Use `zero_division` parameter to control this behavior.\n",
      "  _warn_prf(average, modifier, msg_start, len(result))\n"
     ]
    }
   ],
   "source": [
    "y_pred_test_gender = model.predict(X_test_sc)\n",
    "print(f\"accuracy: {accuracy_score(y_test, y_pred_test_gender)}\")\n",
    "print(f\"{classification_report(y_test, y_pred_test_gender)}\")"
   ]
  },
  {
   "cell_type": "code",
   "execution_count": 22,
   "id": "5b848cd9",
   "metadata": {},
   "outputs": [
    {
     "data": {
      "text/plain": [
       "Text(0.5, 1.0, 'Heatmap for gender')"
      ]
     },
     "execution_count": 22,
     "metadata": {},
     "output_type": "execute_result"
    },
    {
     "data": {
      "image/png": "[encoded data removed]",
      "text/plain": [
       "<Figure size 432x288 with 1 Axes>"
      ]
     },
     "metadata": {
      "needs_background": "light"
     },
     "output_type": "display_data"
    }
   ],
   "source": [
    "mat = metrics.confusion_matrix(y_test, y_pred_test_gender)\n",
    "sns.heatmap(mat, square = True, annot=True, fmt = 'd', cbar = False)\n",
    "plt.title('Heatmap for gender', size = 20)"
   ]
  },
  {
   "cell_type": "code",
   "execution_count": 23,
   "id": "d537b65c",
   "metadata": {},
   "outputs": [],
   "source": [
    "# Sift race\n",
    "X_train_sift_race, X_test_sift_race, y_train_sift_race, y_test_sift_race = train_test_split(X_img, filedfnona['race'], test_size=0.33, random_state=42)"
   ]
  },
  {
   "cell_type": "code",
   "execution_count": 24,
   "id": "3be9501c",
   "metadata": {},
   "outputs": [
    {
     "name": "stderr",
     "output_type": "stream",
     "text": [
      "C:\\Users\\User\\AppData\\Local\\Temp/ipykernel_9524/2970605708.py:56: RuntimeWarning: invalid value encountered in true_divide\n",
      "  histarray[i] = histarray[i]/divi\n"
     ]
    }
   ],
   "source": [
    "X_train_sift_race,X_test_sift_race = SIFT_nparray_to_Features(X_train_sift_race, X_test_sift_race)"
   ]
  },
  {
   "cell_type": "code",
   "execution_count": 25,
   "id": "3de478df",
   "metadata": {},
   "outputs": [],
   "source": [
    "X_scaled_race=X_train_sift_race/255.0\n",
    "X_test_sc_race=X_test_sift_race/255.0"
   ]
  },
  {
   "cell_type": "code",
   "execution_count": 46,
   "id": "ff3094ed",
   "metadata": {},
   "outputs": [],
   "source": [
    "model_race = SVC(kernel = 'linear', C=1.0, random_state=42, verbose = True)"
   ]
  },
  {
   "cell_type": "code",
   "execution_count": 47,
   "id": "16ae0f25",
   "metadata": {},
   "outputs": [
    {
     "name": "stdout",
     "output_type": "stream",
     "text": [
      "[LibSVM]"
     ]
    },
    {
     "data": {
      "text/plain": [
       "SVC(kernel='linear', random_state=42, verbose=True)"
      ]
     },
     "execution_count": 47,
     "metadata": {},
     "output_type": "execute_result"
    }
   ],
   "source": [
    "model_race.fit(X_scaled_race, y_train_sift_race)"
   ]
  },
  {
   "cell_type": "code",
   "execution_count": 48,
   "id": "a148da2d",
   "metadata": {},
   "outputs": [],
   "source": [
    "y_pred_race = model_race.predict(X_scaled_race)"
   ]
  },
  {
   "cell_type": "code",
   "execution_count": 49,
   "id": "2c8f9bdf",
   "metadata": {},
   "outputs": [
    {
     "name": "stdout",
     "output_type": "stream",
     "text": [
      "accuracy: 0.5380857884292475\n",
      "              precision    recall  f1-score   support\n",
      "\n",
      "           0       0.54      1.00      0.70      3525\n",
      "           1       0.00      0.00      0.00       281\n",
      "           2       0.00      0.00      0.00      1035\n",
      "           3       0.00      0.00      0.00       955\n",
      "           4       0.00      0.00      0.00       755\n",
      "\n",
      "    accuracy                           0.54      6551\n",
      "   macro avg       0.11      0.20      0.14      6551\n",
      "weighted avg       0.29      0.54      0.38      6551\n",
      "\n"
     ]
    },
    {
     "name": "stderr",
     "output_type": "stream",
     "text": [
      "C:\\Users\\User\\anaconda3\\lib\\site-packages\\sklearn\\metrics\\_classification.py:1318: UndefinedMetricWarning: Precision and F-score are ill-defined and being set to 0.0 in labels with no predicted samples. Use `zero_division` parameter to control this behavior.\n",
      "  _warn_prf(average, modifier, msg_start, len(result))\n",
      "C:\\Users\\User\\anaconda3\\lib\\site-packages\\sklearn\\metrics\\_classification.py:1318: UndefinedMetricWarning: Precision and F-score are ill-defined and being set to 0.0 in labels with no predicted samples. Use `zero_division` parameter to control this behavior.\n",
      "  _warn_prf(average, modifier, msg_start, len(result))\n",
      "C:\\Users\\User\\anaconda3\\lib\\site-packages\\sklearn\\metrics\\_classification.py:1318: UndefinedMetricWarning: Precision and F-score are ill-defined and being set to 0.0 in labels with no predicted samples. Use `zero_division` parameter to control this behavior.\n",
      "  _warn_prf(average, modifier, msg_start, len(result))\n"
     ]
    }
   ],
   "source": [
    "print(f\"accuracy: {accuracy_score(y_train_sift_race, y_pred_race)}\")\n",
    "print(f\"{classification_report(y_train_sift_race, y_pred_race)}\")"
   ]
  },
  {
   "cell_type": "code",
   "execution_count": 50,
   "id": "f6483087",
   "metadata": {},
   "outputs": [
    {
     "name": "stdout",
     "output_type": "stream",
     "text": [
      "accuracy: 0.5392004958165478\n",
      "              precision    recall  f1-score   support\n",
      "\n",
      "           0       0.54      1.00      0.70      1740\n",
      "           1       0.00      0.00      0.00       124\n",
      "           2       0.00      0.00      0.00       518\n",
      "           3       0.00      0.00      0.00       497\n",
      "           4       0.00      0.00      0.00       348\n",
      "\n",
      "    accuracy                           0.54      3227\n",
      "   macro avg       0.11      0.20      0.14      3227\n",
      "weighted avg       0.29      0.54      0.38      3227\n",
      "\n"
     ]
    },
    {
     "name": "stderr",
     "output_type": "stream",
     "text": [
      "C:\\Users\\User\\anaconda3\\lib\\site-packages\\sklearn\\metrics\\_classification.py:1318: UndefinedMetricWarning: Precision and F-score are ill-defined and being set to 0.0 in labels with no predicted samples. Use `zero_division` parameter to control this behavior.\n",
      "  _warn_prf(average, modifier, msg_start, len(result))\n",
      "C:\\Users\\User\\anaconda3\\lib\\site-packages\\sklearn\\metrics\\_classification.py:1318: UndefinedMetricWarning: Precision and F-score are ill-defined and being set to 0.0 in labels with no predicted samples. Use `zero_division` parameter to control this behavior.\n",
      "  _warn_prf(average, modifier, msg_start, len(result))\n",
      "C:\\Users\\User\\anaconda3\\lib\\site-packages\\sklearn\\metrics\\_classification.py:1318: UndefinedMetricWarning: Precision and F-score are ill-defined and being set to 0.0 in labels with no predicted samples. Use `zero_division` parameter to control this behavior.\n",
      "  _warn_prf(average, modifier, msg_start, len(result))\n"
     ]
    }
   ],
   "source": [
    "y_pred_test_race = model_race.predict(X_test_sc_race)\n",
    "print(f\"accuracy: {accuracy_score(y_test_sift_race, y_pred_test_race)}\")\n",
    "print(f\"{classification_report(y_test_sift_race, y_pred_test_race)}\")"
   ]
  },
  {
   "cell_type": "code",
   "execution_count": 51,
   "id": "a8a9d5ea",
   "metadata": {},
   "outputs": [
    {
     "data": {
      "text/plain": [
       "Text(0.5, 1.0, 'Heatmap for race/sift')"
      ]
     },
     "execution_count": 51,
     "metadata": {},
     "output_type": "execute_result"
    },
    {
     "data": {
      "image/png": "[encoded data removed]",
      "text/plain": [
       "<Figure size 432x288 with 1 Axes>"
      ]
     },
     "metadata": {
      "needs_background": "light"
     },
     "output_type": "display_data"
    }
   ],
   "source": [
    "mat_race = metrics.confusion_matrix(y_test_sift_race, y_pred_test_race)\n",
    "sns.heatmap(mat_race, square = True, annot=True, fmt = 'd', cbar = False)\n",
    "plt.title('Heatmap for race/sift', size = 20)"
   ]
  },
  {
   "cell_type": "code",
   "execution_count": 52,
   "id": "e2b1540a",
   "metadata": {},
   "outputs": [],
   "source": [
    "filedfnona['age']=np.where((filedfnona.age==2), 1, filedfnona.age)"
   ]
  },
  {
   "cell_type": "code",
   "execution_count": 53,
   "id": "e14c5720",
   "metadata": {},
   "outputs": [],
   "source": [
    "filedfnona['age']=np.where(((filedfnona.age>=3) & (filedfnona.age<6)), 2, filedfnona.age)"
   ]
  },
  {
   "cell_type": "code",
   "execution_count": 54,
   "id": "9201e9b5",
   "metadata": {},
   "outputs": [],
   "source": [
    "filedfnona['age']=np.where(((filedfnona.age>=6) & (filedfnona.age<9)), 3, filedfnona.age)"
   ]
  },
  {
   "cell_type": "code",
   "execution_count": 55,
   "id": "b9ae84e5",
   "metadata": {},
   "outputs": [],
   "source": [
    "filedfnona['age']=np.where(((filedfnona.age>=9) & (filedfnona.age<12)), 4, filedfnona.age)"
   ]
  },
  {
   "cell_type": "code",
   "execution_count": 56,
   "id": "62132c63",
   "metadata": {},
   "outputs": [],
   "source": [
    "filedfnona['age']=np.where(((filedfnona.age>=12) & (filedfnona.age<21)), 5, filedfnona.age)"
   ]
  },
  {
   "cell_type": "code",
   "execution_count": 57,
   "id": "e9bb0f89",
   "metadata": {},
   "outputs": [],
   "source": [
    "filedfnona['age']=np.where(((filedfnona.age>=21) & (filedfnona.age<36)), 6, filedfnona.age)"
   ]
  },
  {
   "cell_type": "code",
   "execution_count": 58,
   "id": "1a3bd516",
   "metadata": {},
   "outputs": [],
   "source": [
    "filedfnona['age']=np.where(((filedfnona.age>=36) & (filedfnona.age<51)), 7, filedfnona.age)"
   ]
  },
  {
   "cell_type": "code",
   "execution_count": 59,
   "id": "087edf30",
   "metadata": {},
   "outputs": [],
   "source": [
    "filedfnona['age']=np.where(((filedfnona.age>=51) & (filedfnona.age<80)), 8, filedfnona.age)"
   ]
  },
  {
   "cell_type": "code",
   "execution_count": 60,
   "id": "d641c7f8",
   "metadata": {},
   "outputs": [],
   "source": [
    "filedfnona['age']=np.where((filedfnona.age>=80), 9, filedfnona.age)"
   ]
  },
  {
   "cell_type": "code",
   "execution_count": 61,
   "id": "dd7d46cd",
   "metadata": {},
   "outputs": [
    {
     "data": {
      "text/plain": [
       "6    2015\n",
       "8    1866\n",
       "1    1587\n",
       "7    1213\n",
       "5    1118\n",
       "2     724\n",
       "3     476\n",
       "9     417\n",
       "4     362\n",
       "Name: age, dtype: int64"
      ]
     },
     "execution_count": 61,
     "metadata": {},
     "output_type": "execute_result"
    }
   ],
   "source": [
    "filedfnona['age'].value_counts()"
   ]
  },
  {
   "cell_type": "code",
   "execution_count": 73,
   "id": "1cbbdf1b",
   "metadata": {},
   "outputs": [],
   "source": [
    "# Sift age\n",
    "X_train_sift_age, X_test_sift_age, y_train_sift_age, y_test_sift_age = train_test_split(X_img, filedfnona['age'], test_size=0.33, random_state=42)"
   ]
  },
  {
   "cell_type": "code",
   "execution_count": 74,
   "id": "b4240a4e",
   "metadata": {},
   "outputs": [
    {
     "name": "stderr",
     "output_type": "stream",
     "text": [
      "C:\\Users\\User\\AppData\\Local\\Temp/ipykernel_9524/2970605708.py:56: RuntimeWarning: invalid value encountered in true_divide\n",
      "  histarray[i] = histarray[i]/divi\n"
     ]
    }
   ],
   "source": [
    "X_train_sift_age,X_test_sift_age = SIFT_nparray_to_Features(X_train_sift_age, X_test_sift_age)"
   ]
  },
  {
   "cell_type": "code",
   "execution_count": 75,
   "id": "f13a2c79",
   "metadata": {},
   "outputs": [],
   "source": [
    "X_scaled_age=X_train_sift_age/255.0\n",
    "X_test_sift_age=X_test_sift_age/255.0"
   ]
  },
  {
   "cell_type": "code",
   "execution_count": 70,
   "id": "d6dfb0fe",
   "metadata": {},
   "outputs": [],
   "source": [
    "#nimages, nX, ny, nrgb = X_test_sc_age.shape\n",
    "#X_test_sc_age = X_test_sc_age.reshape((nimages,nX*ny*nrgb))"
   ]
  },
  {
   "cell_type": "code",
   "execution_count": 77,
   "id": "1ab69cce",
   "metadata": {},
   "outputs": [
    {
     "name": "stdout",
     "output_type": "stream",
     "text": [
      "[LibSVM]"
     ]
    },
    {
     "data": {
      "text/plain": [
       "SVC(kernel='linear', random_state=42, verbose=True)"
      ]
     },
     "execution_count": 77,
     "metadata": {},
     "output_type": "execute_result"
    }
   ],
   "source": [
    "model_age = SVC(kernel = 'linear', C=1.0, random_state=42, verbose = True)\n",
    "model_age.fit(X_scaled_age, y_train_sift_age)"
   ]
  },
  {
   "cell_type": "code",
   "execution_count": 78,
   "id": "1398b41b",
   "metadata": {},
   "outputs": [
    {
     "name": "stdout",
     "output_type": "stream",
     "text": [
      "accuracy: 0.20271714242100441\n",
      "              precision    recall  f1-score   support\n",
      "\n",
      "           1       0.00      0.00      0.00      1059\n",
      "           2       0.00      0.00      0.00       490\n",
      "           3       0.00      0.00      0.00       305\n",
      "           4       0.00      0.00      0.00       230\n",
      "           5       0.00      0.00      0.00       747\n",
      "           6       0.20      1.00      0.34      1328\n",
      "           7       0.00      0.00      0.00       828\n",
      "           8       0.00      0.00      0.00      1274\n",
      "           9       0.00      0.00      0.00       290\n",
      "\n",
      "    accuracy                           0.20      6551\n",
      "   macro avg       0.02      0.11      0.04      6551\n",
      "weighted avg       0.04      0.20      0.07      6551\n",
      "\n"
     ]
    },
    {
     "name": "stderr",
     "output_type": "stream",
     "text": [
      "C:\\Users\\User\\anaconda3\\lib\\site-packages\\sklearn\\metrics\\_classification.py:1318: UndefinedMetricWarning: Precision and F-score are ill-defined and being set to 0.0 in labels with no predicted samples. Use `zero_division` parameter to control this behavior.\n",
      "  _warn_prf(average, modifier, msg_start, len(result))\n",
      "C:\\Users\\User\\anaconda3\\lib\\site-packages\\sklearn\\metrics\\_classification.py:1318: UndefinedMetricWarning: Precision and F-score are ill-defined and being set to 0.0 in labels with no predicted samples. Use `zero_division` parameter to control this behavior.\n",
      "  _warn_prf(average, modifier, msg_start, len(result))\n",
      "C:\\Users\\User\\anaconda3\\lib\\site-packages\\sklearn\\metrics\\_classification.py:1318: UndefinedMetricWarning: Precision and F-score are ill-defined and being set to 0.0 in labels with no predicted samples. Use `zero_division` parameter to control this behavior.\n",
      "  _warn_prf(average, modifier, msg_start, len(result))\n"
     ]
    }
   ],
   "source": [
    "y_pred_age = model_age.predict(X_scaled_age)\n",
    "print(f\"accuracy: {accuracy_score(y_train_sift_age, y_pred_age)}\")\n",
    "print(f\"{classification_report(y_train_sift_age, y_pred_age)}\")"
   ]
  },
  {
   "cell_type": "code",
   "execution_count": 81,
   "id": "ea88e524",
   "metadata": {},
   "outputs": [
    {
     "name": "stdout",
     "output_type": "stream",
     "text": [
      "accuracy: 0.2128912302448094\n",
      "              precision    recall  f1-score   support\n",
      "\n",
      "           1       0.00      0.00      0.00       528\n",
      "           2       0.00      0.00      0.00       234\n",
      "           3       0.00      0.00      0.00       171\n",
      "           4       0.00      0.00      0.00       132\n",
      "           5       0.00      0.00      0.00       371\n",
      "           6       0.21      1.00      0.35       687\n",
      "           7       0.00      0.00      0.00       385\n",
      "           8       0.00      0.00      0.00       592\n",
      "           9       0.00      0.00      0.00       127\n",
      "\n",
      "    accuracy                           0.21      3227\n",
      "   macro avg       0.02      0.11      0.04      3227\n",
      "weighted avg       0.05      0.21      0.07      3227\n",
      "\n"
     ]
    },
    {
     "name": "stderr",
     "output_type": "stream",
     "text": [
      "C:\\Users\\User\\anaconda3\\lib\\site-packages\\sklearn\\metrics\\_classification.py:1318: UndefinedMetricWarning: Precision and F-score are ill-defined and being set to 0.0 in labels with no predicted samples. Use `zero_division` parameter to control this behavior.\n",
      "  _warn_prf(average, modifier, msg_start, len(result))\n",
      "C:\\Users\\User\\anaconda3\\lib\\site-packages\\sklearn\\metrics\\_classification.py:1318: UndefinedMetricWarning: Precision and F-score are ill-defined and being set to 0.0 in labels with no predicted samples. Use `zero_division` parameter to control this behavior.\n",
      "  _warn_prf(average, modifier, msg_start, len(result))\n",
      "C:\\Users\\User\\anaconda3\\lib\\site-packages\\sklearn\\metrics\\_classification.py:1318: UndefinedMetricWarning: Precision and F-score are ill-defined and being set to 0.0 in labels with no predicted samples. Use `zero_division` parameter to control this behavior.\n",
      "  _warn_prf(average, modifier, msg_start, len(result))\n"
     ]
    }
   ],
   "source": [
    "y_pred_test_age = model_age.predict(X_test_sift_age)\n",
    "print(f\"accuracy: {accuracy_score(y_test_sift_age, y_pred_test_age)}\")\n",
    "print(f\"{classification_report(y_test_sift_age, y_pred_test_age)}\")"
   ]
  },
  {
   "cell_type": "code",
   "execution_count": 82,
   "id": "2576167c",
   "metadata": {},
   "outputs": [
    {
     "data": {
      "text/plain": [
       "Text(0.5, 1.0, 'Heatmap for age/sift')"
      ]
     },
     "execution_count": 82,
     "metadata": {},
     "output_type": "execute_result"
    },
    {
     "data": {
      "image/png": "[encoded data removed]",
      "text/plain": [
       "<Figure size 432x288 with 1 Axes>"
      ]
     },
     "metadata": {
      "needs_background": "light"
     },
     "output_type": "display_data"
    }
   ],
   "source": [
    "mat_age = metrics.confusion_matrix(y_test_sift_age, y_pred_test_age)\n",
    "sns.heatmap(mat_age, square = True, annot=True, fmt = 'd', cbar = False)\n",
    "plt.title('Heatmap for age/sift', size = 20)"
   ]
  },
  {
   "cell_type": "code",
   "execution_count": null,
   "id": "a1743b1f",
   "metadata": {},
   "outputs": [],
   "source": []
  }
 ],
 "metadata": {
  "kernelspec": {
   "display_name": "Python 3 (ipykernel)",
   "language": "python",
   "name": "python3"
  },
  "language_info": {
   "codemirror_mode": {
    "name": "ipython",
    "version": 3
   },
   "file_extension": ".py",
   "mimetype": "text/x-python",
   "name": "python",
   "nbconvert_exporter": "python",
   "pygments_lexer": "ipython3",
   "version": "3.9.7"
  }
 },
 "nbformat": 4,
 "nbformat_minor": 5
}
