{
 "cells": [
  {
   "cell_type": "code",
   "execution_count": 1,
   "id": "cec78119",
   "metadata": {},
   "outputs": [],
   "source": [
    "import pandas as pd\n",
    "import numpy as np\n",
    "from os import listdir\n",
    "from os.path import isfile, join\n",
    "import matplotlib.pyplot as plt\n",
    "from sklearn.ensemble import GradientBoostingClassifier\n",
    "from sklearn.preprocessing import StandardScaler\n",
    "from sklearn.model_selection import train_test_split\n",
    "from sklearn.metrics import accuracy_score, confusion_matrix\n",
    "from sklearn import preprocessing\n",
    "from sklearn.metrics import classification_report\n",
    "\n",
    "%matplotlib inline"
   ]
  },
  {
   "cell_type": "markdown",
   "id": "3e0c8ba3",
   "metadata": {},
   "source": [
    "## Load the dataset"
   ]
  },
  {
   "cell_type": "code",
   "execution_count": 2,
   "id": "48d8ca83",
   "metadata": {},
   "outputs": [],
   "source": [
    "mypath = '/Users/yinzi/Downloads/crop_part1'\n",
    "filenames = np.array([f for f in listdir(mypath) if isfile(join(mypath, f))])\n",
    "splitcolumns = [x.split('_')[0:3] + [mypath +'/' + x] for x in filenames if x.count('_') == 3]\n",
    "filecolumns = ['age','gender','race','file']\n",
    "df = pd.DataFrame(data = splitcolumns, columns = filecolumns)"
   ]
  },
  {
   "cell_type": "code",
   "execution_count": 3,
   "id": "24197027",
   "metadata": {},
   "outputs": [
    {
     "data": {
      "text/html": [
       "<div>\n",
       "<style scoped>\n",
       "    .dataframe tbody tr th:only-of-type {\n",
       "        vertical-align: middle;\n",
       "    }\n",
       "\n",
       "    .dataframe tbody tr th {\n",
       "        vertical-align: top;\n",
       "    }\n",
       "\n",
       "    .dataframe thead th {\n",
       "        text-align: right;\n",
       "    }\n",
       "</style>\n",
       "<table border=\"1\" class=\"dataframe\">\n",
       "  <thead>\n",
       "    <tr style=\"text-align: right;\">\n",
       "      <th></th>\n",
       "      <th>age</th>\n",
       "      <th>gender</th>\n",
       "      <th>race</th>\n",
       "      <th>file</th>\n",
       "    </tr>\n",
       "  </thead>\n",
       "  <tbody>\n",
       "    <tr>\n",
       "      <th>0</th>\n",
       "      <td>9</td>\n",
       "      <td>1</td>\n",
       "      <td>2</td>\n",
       "      <td>/Users/yinzi/Downloads/crop_part1/9_1_2_201612...</td>\n",
       "    </tr>\n",
       "    <tr>\n",
       "      <th>1</th>\n",
       "      <td>1</td>\n",
       "      <td>1</td>\n",
       "      <td>2</td>\n",
       "      <td>/Users/yinzi/Downloads/crop_part1/1_1_2_201612...</td>\n",
       "    </tr>\n",
       "    <tr>\n",
       "      <th>2</th>\n",
       "      <td>16</td>\n",
       "      <td>0</td>\n",
       "      <td>0</td>\n",
       "      <td>/Users/yinzi/Downloads/crop_part1/16_0_0_20170...</td>\n",
       "    </tr>\n",
       "  </tbody>\n",
       "</table>\n",
       "</div>"
      ],
      "text/plain": [
       "  age gender race                                               file\n",
       "0   9      1    2  /Users/yinzi/Downloads/crop_part1/9_1_2_201612...\n",
       "1   1      1    2  /Users/yinzi/Downloads/crop_part1/1_1_2_201612...\n",
       "2  16      0    0  /Users/yinzi/Downloads/crop_part1/16_0_0_20170..."
      ]
     },
     "execution_count": 3,
     "metadata": {},
     "output_type": "execute_result"
    }
   ],
   "source": [
    "df.head(3)"
   ]
  },
  {
   "cell_type": "code",
   "execution_count": 4,
   "id": "863167c1",
   "metadata": {},
   "outputs": [
    {
     "name": "stdout",
     "output_type": "stream",
     "text": [
      "<class 'pandas.core.frame.DataFrame'>\n",
      "RangeIndex: 9778 entries, 0 to 9777\n",
      "Data columns (total 4 columns):\n",
      " #   Column  Non-Null Count  Dtype \n",
      "---  ------  --------------  ----- \n",
      " 0   age     9778 non-null   object\n",
      " 1   gender  9778 non-null   object\n",
      " 2   race    9778 non-null   object\n",
      " 3   file    9778 non-null   object\n",
      "dtypes: object(4)\n",
      "memory usage: 305.7+ KB\n"
     ]
    }
   ],
   "source": [
    "df.info()"
   ]
  },
  {
   "cell_type": "code",
   "execution_count": 5,
   "id": "16b0607a",
   "metadata": {},
   "outputs": [
    {
     "name": "stdout",
     "output_type": "stream",
     "text": [
      "['1' '0']\n",
      "['2' '0' '3' '1' '4']\n",
      "['9' '1' '16' '26' '2' '53' '36' '37' '10' '52' '18' '34' '30' '75' '24'\n",
      " '86' '3' '54' '60' '59' '41' '5' '45' '35' '8' '56' '4' '15' '96' '44'\n",
      " '23' '61' '12' '40' '25' '19' '38' '71' '49' '89' '21' '22' '68' '27'\n",
      " '33' '80' '57' '7' '69' '55' '85' '39' '32' '58' '17' '29' '90' '13' '48'\n",
      " '51' '46' '65' '20' '79' '31' '83' '11' '50' '28' '87' '77' '63' '67'\n",
      " '14' '62' '6' '47' '42' '76' '74' '92' '66' '73' '78' '64' '43' '70' '72'\n",
      " '82' '88' '84' '81' '93' '95' '110' '101' '100' '99' '91']\n",
      "99\n"
     ]
    }
   ],
   "source": [
    "print(df['gender'].unique())  # 2 labels on gender \n",
    "print(df['race'].unique())  # 5 lables on race\n",
    "print(df['age'].unique())   # 99 ages on target variable age\n",
    "print(len(df['age'].unique()))"
   ]
  },
  {
   "cell_type": "code",
   "execution_count": 6,
   "id": "5821ab46",
   "metadata": {},
   "outputs": [
    {
     "data": {
      "text/plain": [
       "age        int64\n",
       "gender     int64\n",
       "race       int64\n",
       "file      object\n",
       "dtype: object"
      ]
     },
     "execution_count": 6,
     "metadata": {},
     "output_type": "execute_result"
    }
   ],
   "source": [
    "# convert all the object data type to numerical data\n",
    "df['age']= df['age'].astype('int')\n",
    "df['gender']= df['gender'].astype('int')\n",
    "df['race']= df['race'].astype('int')\n",
    "df.dtypes"
   ]
  },
  {
   "cell_type": "code",
   "execution_count": 7,
   "id": "a0ad27c4",
   "metadata": {},
   "outputs": [],
   "source": [
    "images = []\n",
    "for img_path in df['file']:\n",
    "    image = plt.imread(img_path)\n",
    "    images.append(image)"
   ]
  },
  {
   "cell_type": "code",
   "execution_count": 8,
   "id": "dbdc6a71",
   "metadata": {},
   "outputs": [],
   "source": [
    "from skimage import color\n",
    "from skimage import io"
   ]
  },
  {
   "cell_type": "markdown",
   "id": "323312d3",
   "metadata": {},
   "source": [
    "## Image Preprocessing + Gray scale image + Data Frame"
   ]
  },
  {
   "cell_type": "code",
   "execution_count": 9,
   "id": "ad50d472",
   "metadata": {},
   "outputs": [],
   "source": [
    "gray_images = []\n",
    "for img in images:\n",
    "    img_gray = color.rgb2gray(img)\n",
    "    gray_images.append(img_gray)"
   ]
  },
  {
   "cell_type": "code",
   "execution_count": 10,
   "id": "43d78c1f",
   "metadata": {},
   "outputs": [],
   "source": [
    "# scaling the features so that each feature takes on a value between 0 and 1\n",
    "images_gray = np.array(gray_images)/255"
   ]
  },
  {
   "cell_type": "code",
   "execution_count": 11,
   "id": "34450b5b",
   "metadata": {},
   "outputs": [
    {
     "data": {
      "text/plain": [
       "(9778, 200, 200)"
      ]
     },
     "execution_count": 11,
     "metadata": {},
     "output_type": "execute_result"
    }
   ],
   "source": [
    "images_gray.shape"
   ]
  },
  {
   "cell_type": "code",
   "execution_count": 12,
   "id": "a52cc35e",
   "metadata": {},
   "outputs": [
    {
     "data": {
      "text/html": [
       "<div>\n",
       "<style scoped>\n",
       "    .dataframe tbody tr th:only-of-type {\n",
       "        vertical-align: middle;\n",
       "    }\n",
       "\n",
       "    .dataframe tbody tr th {\n",
       "        vertical-align: top;\n",
       "    }\n",
       "\n",
       "    .dataframe thead th {\n",
       "        text-align: right;\n",
       "    }\n",
       "</style>\n",
       "<table border=\"1\" class=\"dataframe\">\n",
       "  <thead>\n",
       "    <tr style=\"text-align: right;\">\n",
       "      <th></th>\n",
       "      <th>0</th>\n",
       "      <th>1</th>\n",
       "      <th>2</th>\n",
       "      <th>3</th>\n",
       "      <th>4</th>\n",
       "      <th>5</th>\n",
       "      <th>6</th>\n",
       "      <th>7</th>\n",
       "      <th>8</th>\n",
       "      <th>9</th>\n",
       "      <th>...</th>\n",
       "      <th>39990</th>\n",
       "      <th>39991</th>\n",
       "      <th>39992</th>\n",
       "      <th>39993</th>\n",
       "      <th>39994</th>\n",
       "      <th>39995</th>\n",
       "      <th>39996</th>\n",
       "      <th>39997</th>\n",
       "      <th>39998</th>\n",
       "      <th>39999</th>\n",
       "    </tr>\n",
       "  </thead>\n",
       "  <tbody>\n",
       "    <tr>\n",
       "      <th>0</th>\n",
       "      <td>0.398611</td>\n",
       "      <td>0.386846</td>\n",
       "      <td>0.375081</td>\n",
       "      <td>0.359395</td>\n",
       "      <td>0.345390</td>\n",
       "      <td>0.341469</td>\n",
       "      <td>0.347057</td>\n",
       "      <td>0.347057</td>\n",
       "      <td>0.344817</td>\n",
       "      <td>0.360503</td>\n",
       "      <td>...</td>\n",
       "      <td>0.606749</td>\n",
       "      <td>0.614592</td>\n",
       "      <td>0.634200</td>\n",
       "      <td>0.645965</td>\n",
       "      <td>0.657729</td>\n",
       "      <td>0.661651</td>\n",
       "      <td>0.657164</td>\n",
       "      <td>0.653242</td>\n",
       "      <td>0.657164</td>\n",
       "      <td>0.657164</td>\n",
       "    </tr>\n",
       "    <tr>\n",
       "      <th>1</th>\n",
       "      <td>0.271999</td>\n",
       "      <td>0.264156</td>\n",
       "      <td>0.248470</td>\n",
       "      <td>0.240627</td>\n",
       "      <td>0.242867</td>\n",
       "      <td>0.266396</td>\n",
       "      <td>0.297203</td>\n",
       "      <td>0.324654</td>\n",
       "      <td>0.339775</td>\n",
       "      <td>0.363304</td>\n",
       "      <td>...</td>\n",
       "      <td>0.833958</td>\n",
       "      <td>0.837880</td>\n",
       "      <td>0.828065</td>\n",
       "      <td>0.824143</td>\n",
       "      <td>0.820222</td>\n",
       "      <td>0.808457</td>\n",
       "      <td>0.796692</td>\n",
       "      <td>0.784927</td>\n",
       "      <td>0.773163</td>\n",
       "      <td>0.765320</td>\n",
       "    </tr>\n",
       "    <tr>\n",
       "      <th>2</th>\n",
       "      <td>0.025426</td>\n",
       "      <td>0.037191</td>\n",
       "      <td>0.041113</td>\n",
       "      <td>0.037191</td>\n",
       "      <td>0.027376</td>\n",
       "      <td>0.039140</td>\n",
       "      <td>0.070513</td>\n",
       "      <td>0.101885</td>\n",
       "      <td>0.083111</td>\n",
       "      <td>0.083111</td>\n",
       "      <td>...</td>\n",
       "      <td>0.045965</td>\n",
       "      <td>0.045965</td>\n",
       "      <td>0.043182</td>\n",
       "      <td>0.043182</td>\n",
       "      <td>0.039260</td>\n",
       "      <td>0.035339</td>\n",
       "      <td>0.035339</td>\n",
       "      <td>0.031417</td>\n",
       "      <td>0.027496</td>\n",
       "      <td>0.027496</td>\n",
       "    </tr>\n",
       "  </tbody>\n",
       "</table>\n",
       "<p>3 rows × 40000 columns</p>\n",
       "</div>"
      ],
      "text/plain": [
       "      0         1         2         3         4         5         6      \\\n",
       "0  0.398611  0.386846  0.375081  0.359395  0.345390  0.341469  0.347057   \n",
       "1  0.271999  0.264156  0.248470  0.240627  0.242867  0.266396  0.297203   \n",
       "2  0.025426  0.037191  0.041113  0.037191  0.027376  0.039140  0.070513   \n",
       "\n",
       "      7         8         9      ...     39990     39991     39992     39993  \\\n",
       "0  0.347057  0.344817  0.360503  ...  0.606749  0.614592  0.634200  0.645965   \n",
       "1  0.324654  0.339775  0.363304  ...  0.833958  0.837880  0.828065  0.824143   \n",
       "2  0.101885  0.083111  0.083111  ...  0.045965  0.045965  0.043182  0.043182   \n",
       "\n",
       "      39994     39995     39996     39997     39998     39999  \n",
       "0  0.657729  0.661651  0.657164  0.653242  0.657164  0.657164  \n",
       "1  0.820222  0.808457  0.796692  0.784927  0.773163  0.765320  \n",
       "2  0.039260  0.035339  0.035339  0.031417  0.027496  0.027496  \n",
       "\n",
       "[3 rows x 40000 columns]"
      ]
     },
     "execution_count": 12,
     "metadata": {},
     "output_type": "execute_result"
    }
   ],
   "source": [
    "df_gray_images = pd.DataFrame(np.array(gray_images).reshape(9778, 200*200))\n",
    "df_gray_images.head(3)"
   ]
  },
  {
   "cell_type": "markdown",
   "id": "52f214ba",
   "metadata": {},
   "source": [
    "## 1. Race Classification\n",
    "### 1.1 Gradient Boosting with original feature"
   ]
  },
  {
   "cell_type": "code",
   "execution_count": 13,
   "id": "be37a4b0",
   "metadata": {},
   "outputs": [
    {
     "name": "stdout",
     "output_type": "stream",
     "text": [
      "[2, 2, 0, 3, 1]\n"
     ]
    }
   ],
   "source": [
    "X = df_gray_images\n",
    "y = df['race']\n",
    "print(list(y[0:5]))"
   ]
  },
  {
   "cell_type": "code",
   "execution_count": 14,
   "id": "614190f2",
   "metadata": {},
   "outputs": [],
   "source": [
    "X_train, X_test, y_train, y_test = train_test_split(X, y, test_size=0.3, random_state=42)"
   ]
  },
  {
   "cell_type": "code",
   "execution_count": 15,
   "id": "b902273b",
   "metadata": {},
   "outputs": [
    {
     "data": {
      "text/plain": [
       "((6844, 40000), (2934, 40000))"
      ]
     },
     "execution_count": 15,
     "metadata": {},
     "output_type": "execute_result"
    }
   ],
   "source": [
    "X_train.shape, X_test.shape"
   ]
  },
  {
   "cell_type": "code",
   "execution_count": 16,
   "id": "674a34d6",
   "metadata": {},
   "outputs": [],
   "source": [
    "gbc=GradientBoostingClassifier(n_estimators=500,learning_rate=0.05,random_state=100,max_features=5, max_depth = 3)"
   ]
  },
  {
   "cell_type": "code",
   "execution_count": 17,
   "id": "4430dac8",
   "metadata": {},
   "outputs": [
    {
     "data": {
      "text/plain": [
       "GradientBoostingClassifier(learning_rate=0.05, max_features=5, n_estimators=500,\n",
       "                           random_state=100)"
      ]
     },
     "execution_count": 17,
     "metadata": {},
     "output_type": "execute_result"
    }
   ],
   "source": [
    "gbc.fit(X_train,y_train)"
   ]
  },
  {
   "cell_type": "code",
   "execution_count": 18,
   "id": "ed43b591",
   "metadata": {},
   "outputs": [],
   "source": [
    "y_pred = gbc.predict(X_test)"
   ]
  },
  {
   "cell_type": "code",
   "execution_count": 19,
   "id": "db270cb3",
   "metadata": {},
   "outputs": [
    {
     "name": "stdout",
     "output_type": "stream",
     "text": [
      "[[1443    1   42   68   24]\n",
      " [  52   37    2   20    8]\n",
      " [ 163    2  271   10   11]\n",
      " [ 150    5   18  249   23]\n",
      " [ 213    3   19   49   51]]\n"
     ]
    }
   ],
   "source": [
    "print(confusion_matrix(y_test, y_pred))"
   ]
  },
  {
   "cell_type": "code",
   "execution_count": 20,
   "id": "a08c92dc",
   "metadata": {},
   "outputs": [
    {
     "name": "stdout",
     "output_type": "stream",
     "text": [
      "GBC accuracy is 0.70\n"
     ]
    }
   ],
   "source": [
    "GBC_accuracy_score = accuracy_score(y_test, y_pred)\n",
    "print(\"GBC accuracy is %2.2f\" % GBC_accuracy_score)"
   ]
  },
  {
   "cell_type": "code",
   "execution_count": 21,
   "id": "10e8500d",
   "metadata": {},
   "outputs": [
    {
     "name": "stdout",
     "output_type": "stream",
     "text": [
      "              precision    recall  f1-score   support\n",
      "\n",
      "           0       0.71      0.91      0.80      1578\n",
      "           1       0.77      0.31      0.44       119\n",
      "           2       0.77      0.59      0.67       457\n",
      "           3       0.63      0.56      0.59       445\n",
      "           4       0.44      0.15      0.23       335\n",
      "\n",
      "    accuracy                           0.70      2934\n",
      "   macro avg       0.66      0.51      0.55      2934\n",
      "weighted avg       0.68      0.70      0.67      2934\n",
      "\n"
     ]
    }
   ],
   "source": [
    "print(classification_report(y_test, y_pred))"
   ]
  },
  {
   "cell_type": "markdown",
   "id": "5efeca71",
   "metadata": {},
   "source": [
    "* Convert RGB image to gray scale image and no other feature extraction, the Gradient Boosting accuracy_socre is 0.70"
   ]
  },
  {
   "cell_type": "markdown",
   "id": "a451dac5",
   "metadata": {},
   "source": [
    "### 1.2 Gradient Boosting + PCA"
   ]
  },
  {
   "cell_type": "code",
   "execution_count": 22,
   "id": "cb4efd00",
   "metadata": {},
   "outputs": [],
   "source": [
    "from sklearn.decomposition import PCA"
   ]
  },
  {
   "cell_type": "code",
   "execution_count": 23,
   "id": "33eeb757",
   "metadata": {},
   "outputs": [],
   "source": [
    "pca = PCA(n_components = 195)\n",
    "X_train_pca = pca.fit_transform(X_train)\n",
    "X_test_pca = pca.transform(X_test)"
   ]
  },
  {
   "cell_type": "code",
   "execution_count": 24,
   "id": "a53c45b7",
   "metadata": {},
   "outputs": [],
   "source": [
    "gbc.fit(X_train_pca,y_train)\n",
    "y_pred_pca = gbc.predict(X_test_pca)"
   ]
  },
  {
   "cell_type": "code",
   "execution_count": 25,
   "id": "18ad9c26",
   "metadata": {},
   "outputs": [
    {
     "name": "stdout",
     "output_type": "stream",
     "text": [
      "[[1473    7   41   44   13]\n",
      " [  74   18    3   17    7]\n",
      " [ 199    3  239   10    6]\n",
      " [ 198    4   19  213   11]\n",
      " [ 243    2   20   29   41]]\n"
     ]
    }
   ],
   "source": [
    "print(confusion_matrix(y_test, y_pred_pca))"
   ]
  },
  {
   "cell_type": "code",
   "execution_count": 26,
   "id": "56f89aaa",
   "metadata": {},
   "outputs": [
    {
     "name": "stdout",
     "output_type": "stream",
     "text": [
      "GBC accuracy is 0.68\n"
     ]
    }
   ],
   "source": [
    "GBC_accuracy_pca_score = accuracy_score(y_test, y_pred_pca)\n",
    "print(\"GBC accuracy is %2.2f\" % GBC_accuracy_pca_score)"
   ]
  },
  {
   "cell_type": "code",
   "execution_count": 27,
   "id": "d2cec205",
   "metadata": {},
   "outputs": [
    {
     "name": "stdout",
     "output_type": "stream",
     "text": [
      "              precision    recall  f1-score   support\n",
      "\n",
      "           0       0.67      0.93      0.78      1578\n",
      "           1       0.53      0.15      0.24       119\n",
      "           2       0.74      0.52      0.61       457\n",
      "           3       0.68      0.48      0.56       445\n",
      "           4       0.53      0.12      0.20       335\n",
      "\n",
      "    accuracy                           0.68      2934\n",
      "   macro avg       0.63      0.44      0.48      2934\n",
      "weighted avg       0.66      0.68      0.63      2934\n",
      "\n"
     ]
    }
   ],
   "source": [
    "print(classification_report(y_test, y_pred_pca))"
   ]
  },
  {
   "cell_type": "markdown",
   "id": "c24195c2",
   "metadata": {},
   "source": [
    "* The pca didn't improve the Gradient Boosting Classifier prediction accuracy. The prediction accuracy is decrease to 0.68"
   ]
  },
  {
   "cell_type": "markdown",
   "id": "b0b95520",
   "metadata": {},
   "source": [
    "### 1.3 Gradient Boosting + Random Forest Feature importance feature selection"
   ]
  },
  {
   "cell_type": "code",
   "execution_count": 28,
   "id": "5a8a0898",
   "metadata": {},
   "outputs": [],
   "source": [
    "from sklearn.ensemble import RandomForestClassifier\n",
    "from sklearn.feature_selection import SelectFromModel"
   ]
  },
  {
   "cell_type": "code",
   "execution_count": 29,
   "id": "2f0f0a83",
   "metadata": {},
   "outputs": [
    {
     "data": {
      "text/plain": [
       "SelectFromModel(estimator=RandomForestClassifier())"
      ]
     },
     "execution_count": 29,
     "metadata": {},
     "output_type": "execute_result"
    }
   ],
   "source": [
    "selector = SelectFromModel(RandomForestClassifier(n_estimators = 100))\n",
    "selector.fit(X_train, y_train)"
   ]
  },
  {
   "cell_type": "code",
   "execution_count": 30,
   "id": "37a6f13e",
   "metadata": {},
   "outputs": [
    {
     "data": {
      "text/plain": [
       "13432"
      ]
     },
     "execution_count": 30,
     "metadata": {},
     "output_type": "execute_result"
    }
   ],
   "source": [
    "selected_feature= X_train.columns[(selector.get_support())]\n",
    "len(selected_feature)"
   ]
  },
  {
   "cell_type": "code",
   "execution_count": 31,
   "id": "f5eb1658",
   "metadata": {},
   "outputs": [
    {
     "data": {
      "text/plain": [
       "(6844, 13432)"
      ]
     },
     "execution_count": 31,
     "metadata": {},
     "output_type": "execute_result"
    }
   ],
   "source": [
    "X_train_selected = X_train.loc[:, selected_feature]\n",
    "X_train_selected.shape"
   ]
  },
  {
   "cell_type": "code",
   "execution_count": 32,
   "id": "7665d1d0",
   "metadata": {},
   "outputs": [
    {
     "data": {
      "text/plain": [
       "(2934, 13432)"
      ]
     },
     "execution_count": 32,
     "metadata": {},
     "output_type": "execute_result"
    }
   ],
   "source": [
    "X_test_selected = X_test.loc[:, selected_feature]\n",
    "X_test_selected.shape"
   ]
  },
  {
   "cell_type": "code",
   "execution_count": 33,
   "id": "e6ca83e9",
   "metadata": {},
   "outputs": [],
   "source": [
    "gbc.fit(X_train_selected,y_train)\n",
    "y_pred_selected = gbc.predict(X_test_selected)"
   ]
  },
  {
   "cell_type": "code",
   "execution_count": 34,
   "id": "6dc6d792",
   "metadata": {},
   "outputs": [
    {
     "name": "stdout",
     "output_type": "stream",
     "text": [
      "[[1423    1   54   68   32]\n",
      " [  50   39    2   18   10]\n",
      " [ 139    1  299    7   11]\n",
      " [ 139    4   14  266   22]\n",
      " [ 207    0   16   50   62]]\n"
     ]
    }
   ],
   "source": [
    "print(confusion_matrix(y_test, y_pred_selected))"
   ]
  },
  {
   "cell_type": "code",
   "execution_count": 35,
   "id": "3069e641",
   "metadata": {},
   "outputs": [
    {
     "name": "stdout",
     "output_type": "stream",
     "text": [
      "GBC accuracy is 0.71\n"
     ]
    }
   ],
   "source": [
    "GBC_accuracy_selected_score = accuracy_score(y_test, y_pred_selected)\n",
    "print(\"GBC accuracy is %2.2f\" % GBC_accuracy_selected_score)"
   ]
  },
  {
   "cell_type": "code",
   "execution_count": 36,
   "id": "452e5e94",
   "metadata": {},
   "outputs": [
    {
     "name": "stdout",
     "output_type": "stream",
     "text": [
      "              precision    recall  f1-score   support\n",
      "\n",
      "           0       0.73      0.90      0.80      1578\n",
      "           1       0.87      0.33      0.48       119\n",
      "           2       0.78      0.65      0.71       457\n",
      "           3       0.65      0.60      0.62       445\n",
      "           4       0.45      0.19      0.26       335\n",
      "\n",
      "    accuracy                           0.71      2934\n",
      "   macro avg       0.69      0.53      0.58      2934\n",
      "weighted avg       0.70      0.71      0.69      2934\n",
      "\n"
     ]
    }
   ],
   "source": [
    "print(classification_report(y_test, y_pred_selected))"
   ]
  },
  {
   "cell_type": "markdown",
   "id": "a6a462ce",
   "metadata": {},
   "source": [
    "* Using Random forest importance for feature selection before the Gradient Boosting model. The prediction accuracy increase a little, but not that much."
   ]
  },
  {
   "cell_type": "markdown",
   "id": "90f49b09",
   "metadata": {},
   "source": [
    "### 1.4 Gradient Boosting + Random Forest feature selection + PCA"
   ]
  },
  {
   "cell_type": "code",
   "execution_count": 37,
   "id": "9c01ddcf",
   "metadata": {},
   "outputs": [],
   "source": [
    "X_train_selected_pca = pca.fit_transform(X_train_selected)\n",
    "X_test_selected_pca = pca.transform(X_test_selected)"
   ]
  },
  {
   "cell_type": "code",
   "execution_count": 38,
   "id": "4aed2660",
   "metadata": {},
   "outputs": [
    {
     "data": {
      "text/plain": [
       "((6844, 195), (2934, 195))"
      ]
     },
     "execution_count": 38,
     "metadata": {},
     "output_type": "execute_result"
    }
   ],
   "source": [
    "X_train_selected_pca.shape, X_test_selected_pca.shape"
   ]
  },
  {
   "cell_type": "code",
   "execution_count": 39,
   "id": "2a628617",
   "metadata": {},
   "outputs": [],
   "source": [
    "gbc.fit(X_train_selected_pca,y_train)\n",
    "y_pred_selected_pca = gbc.predict(X_test_selected_pca)"
   ]
  },
  {
   "cell_type": "code",
   "execution_count": 40,
   "id": "ced465bb",
   "metadata": {},
   "outputs": [
    {
     "name": "stdout",
     "output_type": "stream",
     "text": [
      "[[1471    3   38   48   18]\n",
      " [  77   21    5   11    5]\n",
      " [ 176    2  259   11    9]\n",
      " [ 193    5   17  220   10]\n",
      " [ 240    1   19   39   36]]\n"
     ]
    }
   ],
   "source": [
    "print(confusion_matrix(y_test, y_pred_selected_pca))"
   ]
  },
  {
   "cell_type": "code",
   "execution_count": 41,
   "id": "b7fafdb4",
   "metadata": {},
   "outputs": [
    {
     "name": "stdout",
     "output_type": "stream",
     "text": [
      "GBC accuracy is 0.68\n"
     ]
    }
   ],
   "source": [
    "GBC_accuracy_selected_pca_score = accuracy_score(y_test, y_pred_selected_pca)\n",
    "print(\"GBC accuracy is %2.2f\" % GBC_accuracy_selected_pca_score)"
   ]
  },
  {
   "cell_type": "code",
   "execution_count": 42,
   "id": "baded653",
   "metadata": {},
   "outputs": [
    {
     "name": "stdout",
     "output_type": "stream",
     "text": [
      "              precision    recall  f1-score   support\n",
      "\n",
      "           0       0.68      0.93      0.79      1578\n",
      "           1       0.66      0.18      0.28       119\n",
      "           2       0.77      0.57      0.65       457\n",
      "           3       0.67      0.49      0.57       445\n",
      "           4       0.46      0.11      0.17       335\n",
      "\n",
      "    accuracy                           0.68      2934\n",
      "   macro avg       0.65      0.46      0.49      2934\n",
      "weighted avg       0.67      0.68      0.64      2934\n",
      "\n"
     ]
    }
   ],
   "source": [
    "print(classification_report(y_test, y_pred_selected_pca))"
   ]
  },
  {
   "cell_type": "markdown",
   "id": "3b687b4c",
   "metadata": {},
   "source": [
    "* Gradient Boosting model with Random forest feature selection and pca, the model predication accuracy decrease to 0.68."
   ]
  },
  {
   "cell_type": "code",
   "execution_count": 43,
   "id": "1d739ee9",
   "metadata": {},
   "outputs": [],
   "source": [
    "# GB stands for Gradient Boosting\n",
    "# PCA stands for principle component Analysis\n",
    "# RFS stands for Random Forest Fature Selection\n",
    "columns = ['GB', 'GB+PCA', 'GB+RFS', 'GB+RFS+PCA'] "
   ]
  },
  {
   "cell_type": "code",
   "execution_count": 45,
   "id": "89bb8b33",
   "metadata": {},
   "outputs": [],
   "source": [
    "data = [GBC_accuracy_score, GBC_accuracy_pca_score, GBC_accuracy_selected_score, GBC_accuracy_selected_pca_score]"
   ]
  },
  {
   "cell_type": "code",
   "execution_count": 46,
   "id": "bdc8cd56",
   "metadata": {},
   "outputs": [
    {
     "name": "stdout",
     "output_type": "stream",
     "text": [
      "[[0.69904567 0.67620995 0.71199727 0.68404908]]\n"
     ]
    }
   ],
   "source": [
    "data = np.array([data])\n",
    "print (data)"
   ]
  },
  {
   "cell_type": "code",
   "execution_count": 47,
   "id": "704ed69c",
   "metadata": {},
   "outputs": [
    {
     "data": {
      "text/html": [
       "<div>\n",
       "<style scoped>\n",
       "    .dataframe tbody tr th:only-of-type {\n",
       "        vertical-align: middle;\n",
       "    }\n",
       "\n",
       "    .dataframe tbody tr th {\n",
       "        vertical-align: top;\n",
       "    }\n",
       "\n",
       "    .dataframe thead th {\n",
       "        text-align: right;\n",
       "    }\n",
       "</style>\n",
       "<table border=\"1\" class=\"dataframe\">\n",
       "  <thead>\n",
       "    <tr style=\"text-align: right;\">\n",
       "      <th></th>\n",
       "      <th>GB</th>\n",
       "      <th>GB+PCA</th>\n",
       "      <th>GB+RFS</th>\n",
       "      <th>GB+RFS+PCA</th>\n",
       "    </tr>\n",
       "  </thead>\n",
       "  <tbody>\n",
       "    <tr>\n",
       "      <th>0</th>\n",
       "      <td>0.699046</td>\n",
       "      <td>0.67621</td>\n",
       "      <td>0.711997</td>\n",
       "      <td>0.684049</td>\n",
       "    </tr>\n",
       "  </tbody>\n",
       "</table>\n",
       "</div>"
      ],
      "text/plain": [
       "         GB   GB+PCA    GB+RFS  GB+RFS+PCA\n",
       "0  0.699046  0.67621  0.711997    0.684049"
      ]
     },
     "execution_count": 47,
     "metadata": {},
     "output_type": "execute_result"
    }
   ],
   "source": [
    "df = pd.DataFrame(data, columns=columns)\n",
    "df"
   ]
  },
  {
   "cell_type": "code",
   "execution_count": 48,
   "id": "d1d5988c",
   "metadata": {},
   "outputs": [],
   "source": [
    "data1 = {'GB':GBC_accuracy_score, 'GB+PCA':GBC_accuracy_pca_score, 'GB+RFS':GBC_accuracy_selected_score, 'GB+RFS+PCA':GBC_accuracy_selected_score  \n",
    "}"
   ]
  },
  {
   "cell_type": "code",
   "execution_count": 49,
   "id": "d9881893",
   "metadata": {},
   "outputs": [],
   "source": [
    "values = list(data1.values())\n",
    "names = list(data1.keys())"
   ]
  },
  {
   "cell_type": "code",
   "execution_count": 51,
   "id": "f63f6e9e",
   "metadata": {},
   "outputs": [
    {
     "data": {
      "image/png": "[encoded data removed]",
      "text/plain": [
       "<Figure size 720x360 with 1 Axes>"
      ]
     },
     "metadata": {
      "needs_background": "light"
     },
     "output_type": "display_data"
    }
   ],
   "source": [
    "fig = plt.figure(figsize = (10, 5))\n",
    "plt.bar(names, values, color = 'green', width=0.4)\n",
    "plt.xlabel(\"Model\")\n",
    "plt.ylabel('Accuracy')\n",
    "plt.title(\"Histogram for Race prediction accuracy\")\n",
    "plt.show()"
   ]
  },
  {
   "cell_type": "markdown",
   "id": "3a261e49",
   "metadata": {},
   "source": [
    "* As we can see this bar graph, those accuracy are similar"
   ]
  },
  {
   "cell_type": "code",
   "execution_count": null,
   "id": "fa861a01",
   "metadata": {},
   "outputs": [],
   "source": []
  }
 ],
 "metadata": {
  "kernelspec": {
   "display_name": "Python 3 (ipykernel)",
   "language": "python",
   "name": "python3"
  },
  "language_info": {
   "codemirror_mode": {
    "name": "ipython",
    "version": 3
   },
   "file_extension": ".py",
   "mimetype": "text/x-python",
   "name": "python",
   "nbconvert_exporter": "python",
   "pygments_lexer": "ipython3",
   "version": "3.9.7"
  }
 },
 "nbformat": 4,
 "nbformat_minor": 5
}
