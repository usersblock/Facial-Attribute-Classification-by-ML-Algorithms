{
 "cells": [
  {
   "cell_type": "code",
   "execution_count": 21,
   "id": "418020ec-5dc9-4496-a38c-9e6efea37e71",
   "metadata": {},
   "outputs": [],
   "source": [
    "import numpy as np\n",
    "import pandas as pd\n",
    "from os import listdir\n",
    "from os.path import isfile, join\n",
    "from sklearn.model_selection import train_test_split\n",
    "from imblearn.over_sampling import RandomOverSampler\n",
    "from sklearn.preprocessing import LabelEncoder\n",
    "from collections import Counter\n",
    "import cv2\n",
    "from sklearn.metrics import confusion_matrix, accuracy_score, precision_score, recall_score,f1_score\n",
    "from keras import Model\n",
    "from tensorflow.keras.layers import Input,Activation,Add, MaxPooling2D, MaxPooling1D, Flatten, Dense, Conv1D, Dropout\n",
    "from tensorflow import keras\n",
    "from tensorflow.keras import layers, models\n",
    "from skimage import color\n",
    "from skimage import filters\n",
    "import tensorflow as tf\n",
    "from sklearn.neighbors import KNeighborsClassifier"
   ]
  },
  {
   "cell_type": "code",
   "execution_count": 6,
   "id": "e2fd1cbe-35d9-4265-8758-c7520a4e9788",
   "metadata": {},
   "outputs": [],
   "source": [
    "# Choose the label type\n",
    "Labeltype = 'age'"
   ]
  },
  {
   "cell_type": "code",
   "execution_count": 14,
   "id": "0a0474db-51f5-40d8-b1e6-c084364a5c8b",
   "metadata": {},
   "outputs": [
    {
     "name": "stdout",
     "output_type": "stream",
     "text": [
      "Class=5, n=6093 (11.111%)\n",
      "Class=2, n=6093 (11.111%)\n",
      "Class=6, n=6093 (11.111%)\n",
      "Class=0, n=6093 (11.111%)\n",
      "Class=8, n=6093 (11.111%)\n",
      "Class=7, n=6093 (11.111%)\n",
      "Class=3, n=6093 (11.111%)\n",
      "Class=4, n=6093 (11.111%)\n",
      "Class=1, n=6093 (11.111%)\n",
      "Class=3, n=555 (11.111%)\n",
      "Class=7, n=555 (11.111%)\n",
      "Class=0, n=555 (11.111%)\n",
      "Class=5, n=555 (11.111%)\n",
      "Class=4, n=555 (11.111%)\n",
      "Class=2, n=555 (11.111%)\n",
      "Class=6, n=555 (11.111%)\n",
      "Class=1, n=555 (11.111%)\n",
      "Class=8, n=555 (11.111%)\n"
     ]
    }
   ],
   "source": [
    "# Import image labels and paths to dataframe\n",
    "mypath = \"../data/raw/CroppedImages/\"\n",
    "filenames = np.array([f for f in listdir(mypath) if isfile(join(mypath, f))])\n",
    "splitcolumns = [x.split('_')[0:3] + [mypath + x] for x in filenames if x.count('_') == 3]\n",
    "filecolumns = ['age','gender','race','file']\n",
    "filedf = pd.DataFrame(data = splitcolumns, columns = filecolumns).astype({'age': 'int', 'gender': 'int', 'race': 'int'})\n",
    "\n",
    "# Convert age to appropriate labels\n",
    "filedf['age']=np.where((filedf.age<3), 0, filedf.age)\n",
    "filedf['age']=np.where(((filedf.age>=3) & (filedf.age<6)), 1, filedf.age)\n",
    "filedf['age']=np.where(((filedf.age>=6) & (filedf.age<9)), 2, filedf.age)\n",
    "filedf['age']=np.where(((filedf.age>=9) & (filedf.age<12)), 3, filedf.age)\n",
    "filedf['age']=np.where(((filedf.age>=12) & (filedf.age<21)), 4, filedf.age)\n",
    "filedf['age']=np.where(((filedf.age>=21) & (filedf.age<36)), 5, filedf.age)\n",
    "filedf['age']=np.where(((filedf.age>=36) & (filedf.age<51)), 6, filedf.age)\n",
    "filedf['age']=np.where(((filedf.age>=51) & (filedf.age<80)), 7, filedf.age)\n",
    "filedf['age']=np.where((filedf.age>=80), 8, filedf.age)\n",
    "\n",
    "dfx = filedf.loc[:,'file']\n",
    "dfy = filedf.loc[:,Labeltype]\n",
    "\n",
    "# Get Train/Test\n",
    "X_train, X_test, y_train, y_test = train_test_split(dfx, dfy, test_size=0.2, random_state=42)\n",
    "\n",
    "# Get Train/Test/Validation dataset 0.25 * 8 = 0.2\n",
    "X_train_2, X_val, y_train_2, y_val = train_test_split(X_train, y_train, test_size=0.25, random_state=42)\n",
    "\n",
    "# Encode training labels and initialize random over sampler\n",
    "yencoded = LabelEncoder().fit_transform(y_train_2)\n",
    "oversample = RandomOverSampler()\n",
    "\n",
    "# Over sample until training classes are balanced\n",
    "X_train_balanced, y_train_balanced = oversample.fit_resample(np.array(X_train_2).reshape(-1,1), yencoded)\n",
    "\n",
    "# Of all classes, proportionally sample 10000\n",
    "dxy = {'file': X_train_balanced.reshape(len(X_train_balanced)), 'label': y_train_balanced}\n",
    "dfbalanced = pd.DataFrame(data = dxy)\n",
    "balancedsamples = int(5000/len(set(dfbalanced.loc[:,'label'])))\n",
    "dfbalancedsubset = dfbalanced.groupby('label', group_keys=False).apply(lambda x: x.sample(balancedsamples)).sample(frac=1)\n",
    "\n",
    "# Count and print balanced classes\n",
    "counter = Counter(y_train_balanced)\n",
    "for k,v in counter.items():\n",
    "    per = v / len(y_train_balanced) * 100\n",
    "    print('Class=%d, n=%d (%.3f%%)' % (k, v, per))\n",
    "\n",
    "# Count and print balanced classes subsets (Total should be 10000)\n",
    "counter = Counter(dfbalancedsubset.loc[:,'label'])\n",
    "for k,v in counter.items():\n",
    "    per = v / len(dfbalancedsubset.loc[:,'label']) * 100\n",
    "    print('Class=%d, n=%d (%.3f%%)' % (k, v, per))"
   ]
  },
  {
   "cell_type": "code",
   "execution_count": 15,
   "id": "65118257-d0a4-4d8c-9275-8d4764dd3171",
   "metadata": {},
   "outputs": [],
   "source": [
    "# Get training images\n",
    "train_img_container = []\n",
    "for i in dfbalancedsubset.loc[:,'file']:\n",
    "    img = cv2.imread(i)\n",
    "    train_img_container.append(img)\n",
    "train_img_container = np.array(train_img_container)\n",
    "\n",
    "# Get validation images\n",
    "validation_img_container = []\n",
    "for i in X_val:\n",
    "    img = cv2.imread(i)\n",
    "    validation_img_container.append(img)\n",
    "validation_img_container = np.array(validation_img_container)\n",
    "\n",
    "# Get testing images\n",
    "test_img_container = []\n",
    "for i in X_test:\n",
    "    img = cv2.imread(i)\n",
    "    test_img_container.append(img)\n",
    "test_img_container = np.array(test_img_container)\n"
   ]
  },
  {
   "cell_type": "code",
   "execution_count": 16,
   "id": "b43e348f-ec53-4c13-8e5b-05652aa844db",
   "metadata": {},
   "outputs": [],
   "source": [
    "# Expand array dimensions to 4D so that they may be used as inputs\n",
    "X_train_expand = train_img_container.reshape(len(train_img_container),200*200*3)\n",
    "X_val_expand = validation_img_container.reshape(len(validation_img_container),200*200*3)\n",
    "X_test_expand = test_img_container.reshape(len(test_img_container),200*200*3)"
   ]
  },
  {
   "cell_type": "code",
   "execution_count": 17,
   "id": "92935c7e-2a63-4e20-8c3e-4d38d3f7e7d7",
   "metadata": {},
   "outputs": [
    {
     "data": {
      "text/plain": [
       "(4995, 120000)"
      ]
     },
     "execution_count": 17,
     "metadata": {},
     "output_type": "execute_result"
    }
   ],
   "source": [
    "X_train_expand.shape"
   ]
  },
  {
   "cell_type": "code",
   "execution_count": 18,
   "id": "5b1c0e91-a2dd-406b-bf98-f5a810a8de4c",
   "metadata": {},
   "outputs": [
    {
     "data": {
      "text/plain": [
       "(4741, 120000)"
      ]
     },
     "execution_count": 18,
     "metadata": {},
     "output_type": "execute_result"
    }
   ],
   "source": [
    "X_val_expand.shape"
   ]
  },
  {
   "cell_type": "code",
   "execution_count": 19,
   "id": "f155f680-2508-40d6-9ead-b9eca0f3a3bc",
   "metadata": {},
   "outputs": [
    {
     "data": {
      "text/plain": [
       "(4741, 120000)"
      ]
     },
     "execution_count": 19,
     "metadata": {},
     "output_type": "execute_result"
    }
   ],
   "source": [
    "X_test_expand.shape"
   ]
  },
  {
   "cell_type": "code",
   "execution_count": 28,
   "id": "0727b72d-c04e-4162-9f0a-a9a8a2157159",
   "metadata": {},
   "outputs": [
    {
     "data": {
      "text/plain": [
       "4995"
      ]
     },
     "execution_count": 28,
     "metadata": {},
     "output_type": "execute_result"
    }
   ],
   "source": [
    "len(dfbalancedsubset.loc[:,'label'])"
   ]
  },
  {
   "cell_type": "code",
   "execution_count": 37,
   "id": "e327b836-e414-4352-9fb5-31e5487171f5",
   "metadata": {},
   "outputs": [],
   "source": [
    "neigh = KNeighborsClassifier(n_neighbors=1)\n",
    "neigh.fit(X_train_expand, dfbalancedsubset.loc[:,'label'])\n",
    "ypred = neigh.predict(X_val_expand)\n",
    "ypredtest = neigh.predict(X_test_expand)"
   ]
  },
  {
   "cell_type": "code",
   "execution_count": 38,
   "id": "bd81be86-cf0c-4249-a669-e5d4ec9cbc01",
   "metadata": {},
   "outputs": [
    {
     "name": "stdout",
     "output_type": "stream",
     "text": [
      "Validation Accuracy\n",
      "0.27568023623708077\n"
     ]
    }
   ],
   "source": [
    "print(\"Validation Accuracy\")\n",
    "print(accuracy_score(ypred,y_val))"
   ]
  },
  {
   "cell_type": "code",
   "execution_count": 39,
   "id": "92b78f48-8a7b-4c9c-ae88-a11d954effac",
   "metadata": {},
   "outputs": [
    {
     "name": "stdout",
     "output_type": "stream",
     "text": [
      "Testing Accuracy\n",
      "0.2754693102720945\n"
     ]
    }
   ],
   "source": [
    "print(\"Testing Accuracy\")\n",
    "print(accuracy_score(ypredtest,y_test))"
   ]
  },
  {
   "cell_type": "code",
   "execution_count": null,
   "id": "f4134857-716a-4a05-aa1f-3227d1bd7fe7",
   "metadata": {},
   "outputs": [],
   "source": []
  }
 ],
 "metadata": {
  "kernelspec": {
   "display_name": "Python 3 (ipykernel)",
   "language": "python",
   "name": "python3"
  },
  "language_info": {
   "codemirror_mode": {
    "name": "ipython",
    "version": 3
   },
   "file_extension": ".py",
   "mimetype": "text/x-python",
   "name": "python",
   "nbconvert_exporter": "python",
   "pygments_lexer": "ipython3",
   "version": "3.10.2"
  }
 },
 "nbformat": 4,
 "nbformat_minor": 5
}
