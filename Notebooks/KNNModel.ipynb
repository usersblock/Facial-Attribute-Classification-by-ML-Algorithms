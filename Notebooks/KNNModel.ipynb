{
 "cells": [
  {
   "cell_type": "code",
   "execution_count": 1,
   "id": "c30fe66c-f612-4930-9007-15d7dbee7708",
   "metadata": {},
   "outputs": [],
   "source": [
    "import numpy as np\n",
    "import pandas as pd\n",
    "from os import listdir\n",
    "from os.path import isfile, join\n",
    "from sklearn.model_selection import train_test_split\n",
    "from imblearn.over_sampling import RandomOverSampler\n",
    "from sklearn.preprocessing import LabelEncoder\n",
    "from collections import Counter\n",
    "\n",
    "\n",
    "import cv2\n",
    "from sklearn.metrics import confusion_matrix, classification_report\n",
    "from sklearn.neighbors import KNeighborsClassifier\n",
    "from sklearn.metrics import ConfusionMatrixDisplay\n",
    "from sklearn.metrics import confusion_matrix\n",
    "import matplotlib.pyplot as plt"
   ]
  },
  {
   "cell_type": "markdown",
   "id": "37bfc2eb-09c1-4d81-9c04-a66198a17712",
   "metadata": {},
   "source": [
    "### Choose Label Type and sample size"
   ]
  },
  {
   "cell_type": "code",
   "execution_count": 2,
   "id": "e2fd1cbe-35d9-4265-8758-c7520a4e9788",
   "metadata": {
    "tags": []
   },
   "outputs": [],
   "source": [
    "Labeltype = 'age'\n",
    "samplesize = 5000"
   ]
  },
  {
   "cell_type": "markdown",
   "id": "a39ee8a0-2b03-40ca-82c4-b26d41b05f83",
   "metadata": {},
   "source": [
    "### Train test split imported data and balance train"
   ]
  },
  {
   "cell_type": "code",
   "execution_count": 4,
   "id": "9aa15b8f-cbd3-4b69-a957-44fe4a7460c1",
   "metadata": {},
   "outputs": [],
   "source": [
    "# Import image labels and paths to dataframe\n",
    "#mypath = \"../data/raw/CroppedImages/\"\n",
    "mypath = '../data/raw/CroppedImages/'\n",
    "filenames = np.array([f for f in listdir(mypath) if isfile(join(mypath, f))])\n",
    "splitcolumns = [x.split('_')[0:3] + [mypath + x] for x in filenames if x.count('_') == 3]\n",
    "filecolumns = ['age','gender','race','file']\n",
    "filedf = pd.DataFrame(data = splitcolumns, columns = filecolumns).astype({'age': 'int', 'gender': 'int', 'race': 'int'})\n",
    "\n",
    "# Convert age to appropriate labels\n",
    "filedf['age']=np.where((filedf.age<3), 0, filedf.age)\n",
    "filedf['age']=np.where(((filedf.age>=3) & (filedf.age<6)), 1, filedf.age)\n",
    "filedf['age']=np.where(((filedf.age>=6) & (filedf.age<9)), 2, filedf.age)\n",
    "filedf['age']=np.where(((filedf.age>=9) & (filedf.age<12)), 3, filedf.age)\n",
    "filedf['age']=np.where(((filedf.age>=12) & (filedf.age<21)), 4, filedf.age)\n",
    "filedf['age']=np.where(((filedf.age>=21) & (filedf.age<36)), 5, filedf.age)\n",
    "filedf['age']=np.where(((filedf.age>=36) & (filedf.age<51)), 6, filedf.age)\n",
    "filedf['age']=np.where(((filedf.age>=51) & (filedf.age<80)), 7, filedf.age)\n",
    "filedf['age']=np.where((filedf.age>=80), 8, filedf.age)\n",
    "\n",
    "dfx = filedf.loc[:,'file']\n",
    "dfy = filedf.loc[:,Labeltype]\n",
    "\n",
    "# Get Train/Test\n",
    "X_train, X_test, y_train, y_test = train_test_split(dfx, dfy, test_size=0.2, random_state=42)\n",
    "\n",
    "# Get Train/Test/Validation dataset 0.25 * 8 = 0.2\n",
    "X_train_2, X_val, y_train_2, y_val = train_test_split(X_train, y_train, test_size=0.25, random_state=42)\n",
    "\n",
    "# Encode training labels and initialize random over sampler\n",
    "yencoded = LabelEncoder().fit_transform(y_train_2)\n",
    "oversample = RandomOverSampler()\n",
    "\n",
    "# Over sample until training classes are balanced\n",
    "X_train_balanced, y_train_balanced = oversample.fit_resample(np.array(X_train_2).reshape(-1,1), yencoded)\n",
    "\n",
    "# Of all classes, proportionally sample 10000\n",
    "dxy = {'file': X_train_balanced.reshape(len(X_train_balanced)), 'label': y_train_balanced}\n",
    "dfbalanced = pd.DataFrame(data = dxy)\n",
    "balancedsamples = int(samplesize/len(set(dfbalanced.loc[:,'label'])))\n",
    "dfbalancedsubset = dfbalanced.groupby('label', group_keys=False).apply(lambda x: x.sample(balancedsamples)).sample(frac=1)"
   ]
  },
  {
   "cell_type": "markdown",
   "id": "4b061600-fa7f-457c-86d5-0f709f985ed3",
   "metadata": {},
   "source": [
    "### Count unbalanced, balanced, & balanced + sampled classes"
   ]
  },
  {
   "cell_type": "code",
   "execution_count": 5,
   "id": "fb9470f9-995b-437d-9132-29b1b53c3369",
   "metadata": {},
   "outputs": [
    {
     "name": "stdout",
     "output_type": "stream",
     "text": [
      "Class=5, n=6093 (42.839%)\n",
      "Class=2, n=331 (2.327%)\n",
      "Class=6, n=2393 (16.825%)\n",
      "Class=0, n=969 (6.813%)\n",
      "Class=8, n=396 (2.784%)\n",
      "Class=7, n=2405 (16.909%)\n",
      "Class=3, n=231 (1.624%)\n",
      "Class=4, n=954 (6.707%)\n",
      "Class=1, n=451 (3.171%)\n",
      "Class=5, n=6093 (11.111%)\n",
      "Class=2, n=6093 (11.111%)\n",
      "Class=6, n=6093 (11.111%)\n",
      "Class=0, n=6093 (11.111%)\n",
      "Class=8, n=6093 (11.111%)\n",
      "Class=7, n=6093 (11.111%)\n",
      "Class=3, n=6093 (11.111%)\n",
      "Class=4, n=6093 (11.111%)\n",
      "Class=1, n=6093 (11.111%)\n",
      "Class=1, n=555 (11.111%)\n",
      "Class=3, n=555 (11.111%)\n",
      "Class=8, n=555 (11.111%)\n",
      "Class=2, n=555 (11.111%)\n",
      "Class=6, n=555 (11.111%)\n",
      "Class=5, n=555 (11.111%)\n",
      "Class=0, n=555 (11.111%)\n",
      "Class=4, n=555 (11.111%)\n",
      "Class=7, n=555 (11.111%)\n"
     ]
    }
   ],
   "source": [
    "# Count and print unbalanced classes\n",
    "counter = Counter(y_train_2)\n",
    "for k,v in counter.items():\n",
    "    per = v / len(y_train_2) * 100\n",
    "    print('Class=%d, n=%d (%.3f%%)' % (k, v, per))\n",
    "\n",
    "# Count and print balanced classes\n",
    "counter = Counter(y_train_balanced)\n",
    "for k,v in counter.items():\n",
    "    per = v / len(y_train_balanced) * 100\n",
    "    print('Class=%d, n=%d (%.3f%%)' % (k, v, per))\n",
    "\n",
    "# Count and print balanced classes subsets\n",
    "counter = Counter(dfbalancedsubset.loc[:,'label'])\n",
    "for k,v in counter.items():\n",
    "    per = v / len(dfbalancedsubset.loc[:,'label']) * 100\n",
    "    print('Class=%d, n=%d (%.3f%%)' % (k, v, per))"
   ]
  },
  {
   "cell_type": "markdown",
   "id": "f7fb1a9c-0a93-41ec-8dcd-ae5717fa1e29",
   "metadata": {},
   "source": [
    "### Function to get image data from urls"
   ]
  },
  {
   "cell_type": "code",
   "execution_count": 5,
   "id": "65118257-d0a4-4d8c-9275-8d4764dd3171",
   "metadata": {},
   "outputs": [],
   "source": [
    "def get_images(filelist,rgb = True):\n",
    "    dims = 0\n",
    "    if(rgb):\n",
    "        dims=3\n",
    "    else:\n",
    "        dims=1\n",
    "    container = np.zeros((len(filelist),200,200,dims))\n",
    "    for index,i in enumerate(filelist):\n",
    "        img = cv2.imread(i)\n",
    "        if(not rgb):\n",
    "            img = color.rgb2gray(img)\n",
    "        container[index,:,:,:dims]=img\n",
    "    return container"
   ]
  },
  {
   "cell_type": "markdown",
   "id": "3c28cd09-fb24-4d1d-8c0c-4e528d6be845",
   "metadata": {},
   "source": [
    "### Image data of train,test, and validation"
   ]
  },
  {
   "cell_type": "code",
   "execution_count": 6,
   "id": "65413dc4-87aa-4d24-9ec8-59fed1c9f938",
   "metadata": {
    "tags": []
   },
   "outputs": [],
   "source": [
    "train_img_container = get_images(dfbalancedsubset.loc[:,'file'],rgb = True)\n",
    "validation_img_container = get_images(X_val,rgb = True)\n",
    "test_img_container = get_images(X_test,rgb = True)"
   ]
  },
  {
   "cell_type": "markdown",
   "id": "b53c4d30-8d0b-4c58-be3e-0e3411902ac9",
   "metadata": {},
   "source": [
    "### Flatten Images"
   ]
  },
  {
   "cell_type": "code",
   "execution_count": 7,
   "id": "0b380ebd-2ae6-4ae2-9bef-82590d48d068",
   "metadata": {},
   "outputs": [],
   "source": [
    "train_img_container = train_img_container.reshape(len(train_img_container),200*200*3)\n",
    "validation_img_container = validation_img_container.reshape(len(validation_img_container),200*200*3)\n",
    "test_img_container = test_img_container.reshape(len(test_img_container),200*200*3)"
   ]
  },
  {
   "cell_type": "markdown",
   "id": "ecc9a2f2-e2ed-4c57-bf8a-239e8455686f",
   "metadata": {},
   "source": [
    "### Get y values"
   ]
  },
  {
   "cell_type": "code",
   "execution_count": 8,
   "id": "8528fed1-7a60-4194-b215-e477e1e05cc4",
   "metadata": {},
   "outputs": [],
   "source": [
    "y_train_label = dfbalancedsubset.loc[:,'label']\n",
    "y_test = y_test\n",
    "y_val = y_val"
   ]
  },
  {
   "cell_type": "markdown",
   "id": "1f0750e9-59ea-43bd-98ac-34e71355d6d6",
   "metadata": {},
   "source": [
    "### Run to clear memory if necessary"
   ]
  },
  {
   "cell_type": "markdown",
   "id": "cc96ee91-3d41-453a-bb54-f474c7500591",
   "metadata": {},
   "source": [
    "del train_img_container\n",
    "del validation_img_container\n",
    "del test_img_container\n",
    "del CNNmodel"
   ]
  },
  {
   "cell_type": "markdown",
   "id": "669ac3db-a341-42a7-b80d-b18cb33408e0",
   "metadata": {},
   "source": [
    "### Fit Classifier"
   ]
  },
  {
   "cell_type": "code",
   "execution_count": 9,
   "id": "e327b836-e414-4352-9fb5-31e5487171f5",
   "metadata": {},
   "outputs": [
    {
     "data": {
      "text/html": [
       "<style>#sk-container-id-1 {color: black;background-color: white;}#sk-container-id-1 pre{padding: 0;}#sk-container-id-1 div.sk-toggleable {background-color: white;}#sk-container-id-1 label.sk-toggleable__label {cursor: pointer;display: block;width: 100%;margin-bottom: 0;padding: 0.3em;box-sizing: border-box;text-align: center;}#sk-container-id-1 label.sk-toggleable__label-arrow:before {content: \"▸\";float: left;margin-right: 0.25em;color: #696969;}#sk-container-id-1 label.sk-toggleable__label-arrow:hover:before {color: black;}#sk-container-id-1 div.sk-estimator:hover label.sk-toggleable__label-arrow:before {color: black;}#sk-container-id-1 div.sk-toggleable__content {max-height: 0;max-width: 0;overflow: hidden;text-align: left;background-color: #f0f8ff;}#sk-container-id-1 div.sk-toggleable__content pre {margin: 0.2em;color: black;border-radius: 0.25em;background-color: #f0f8ff;}#sk-container-id-1 input.sk-toggleable__control:checked~div.sk-toggleable__content {max-height: 200px;max-width: 100%;overflow: auto;}#sk-container-id-1 input.sk-toggleable__control:checked~label.sk-toggleable__label-arrow:before {content: \"▾\";}#sk-container-id-1 div.sk-estimator input.sk-toggleable__control:checked~label.sk-toggleable__label {background-color: #d4ebff;}#sk-container-id-1 div.sk-label input.sk-toggleable__control:checked~label.sk-toggleable__label {background-color: #d4ebff;}#sk-container-id-1 input.sk-hidden--visually {border: 0;clip: rect(1px 1px 1px 1px);clip: rect(1px, 1px, 1px, 1px);height: 1px;margin: -1px;overflow: hidden;padding: 0;position: absolute;width: 1px;}#sk-container-id-1 div.sk-estimator {font-family: monospace;background-color: #f0f8ff;border: 1px dotted black;border-radius: 0.25em;box-sizing: border-box;margin-bottom: 0.5em;}#sk-container-id-1 div.sk-estimator:hover {background-color: #d4ebff;}#sk-container-id-1 div.sk-parallel-item::after {content: \"\";width: 100%;border-bottom: 1px solid gray;flex-grow: 1;}#sk-container-id-1 div.sk-label:hover label.sk-toggleable__label {background-color: #d4ebff;}#sk-container-id-1 div.sk-serial::before {content: \"\";position: absolute;border-left: 1px solid gray;box-sizing: border-box;top: 0;bottom: 0;left: 50%;z-index: 0;}#sk-container-id-1 div.sk-serial {display: flex;flex-direction: column;align-items: center;background-color: white;padding-right: 0.2em;padding-left: 0.2em;position: relative;}#sk-container-id-1 div.sk-item {position: relative;z-index: 1;}#sk-container-id-1 div.sk-parallel {display: flex;align-items: stretch;justify-content: center;background-color: white;position: relative;}#sk-container-id-1 div.sk-item::before, #sk-container-id-1 div.sk-parallel-item::before {content: \"\";position: absolute;border-left: 1px solid gray;box-sizing: border-box;top: 0;bottom: 0;left: 50%;z-index: -1;}#sk-container-id-1 div.sk-parallel-item {display: flex;flex-direction: column;z-index: 1;position: relative;background-color: white;}#sk-container-id-1 div.sk-parallel-item:first-child::after {align-self: flex-end;width: 50%;}#sk-container-id-1 div.sk-parallel-item:last-child::after {align-self: flex-start;width: 50%;}#sk-container-id-1 div.sk-parallel-item:only-child::after {width: 0;}#sk-container-id-1 div.sk-dashed-wrapped {border: 1px dashed gray;margin: 0 0.4em 0.5em 0.4em;box-sizing: border-box;padding-bottom: 0.4em;background-color: white;}#sk-container-id-1 div.sk-label label {font-family: monospace;font-weight: bold;display: inline-block;line-height: 1.2em;}#sk-container-id-1 div.sk-label-container {text-align: center;}#sk-container-id-1 div.sk-container {/* jupyter's `normalize.less` sets `[hidden] { display: none; }` but bootstrap.min.css set `[hidden] { display: none !important; }` so we also need the `!important` here to be able to override the default hidden behavior on the sphinx rendered scikit-learn.org. See: https://github.com/scikit-learn/scikit-learn/issues/21755 */display: inline-block !important;position: relative;}#sk-container-id-1 div.sk-text-repr-fallback {display: none;}</style><div id=\"sk-container-id-1\" class=\"sk-top-container\"><div class=\"sk-text-repr-fallback\"><pre>KNeighborsClassifier(n_neighbors=3)</pre><b>In a Jupyter environment, please rerun this cell to show the HTML representation or trust the notebook. <br />On GitHub, the HTML representation is unable to render, please try loading this page with nbviewer.org.</b></div><div class=\"sk-container\" hidden><div class=\"sk-item\"><div class=\"sk-estimator sk-toggleable\"><input class=\"sk-toggleable__control sk-hidden--visually\" id=\"sk-estimator-id-1\" type=\"checkbox\" checked><label for=\"sk-estimator-id-1\" class=\"sk-toggleable__label sk-toggleable__label-arrow\">KNeighborsClassifier</label><div class=\"sk-toggleable__content\"><pre>KNeighborsClassifier(n_neighbors=3)</pre></div></div></div></div></div>"
      ],
      "text/plain": [
       "KNeighborsClassifier(n_neighbors=3)"
      ]
     },
     "execution_count": 9,
     "metadata": {},
     "output_type": "execute_result"
    }
   ],
   "source": [
    "KNN = KNeighborsClassifier(n_neighbors=3)\n",
    "KNN.fit(train_img_container, y_train_label)"
   ]
  },
  {
   "cell_type": "markdown",
   "id": "979890ae-fa53-4b93-a6ec-5e1729db4a02",
   "metadata": {},
   "source": [
    "### Get Predictions"
   ]
  },
  {
   "cell_type": "code",
   "execution_count": 2,
   "id": "5fd2d65a-8207-447d-a802-cd955a4e4d21",
   "metadata": {},
   "outputs": [
    {
     "ename": "NameError",
     "evalue": "name 'KNN' is not defined",
     "output_type": "error",
     "traceback": [
      "\u001b[0;31m---------------------------------------------------------------------------\u001b[0m",
      "\u001b[0;31mNameError\u001b[0m                                 Traceback (most recent call last)",
      "Input \u001b[0;32mIn [2]\u001b[0m, in \u001b[0;36m<cell line: 1>\u001b[0;34m()\u001b[0m\n\u001b[0;32m----> 1\u001b[0m ypredtrain \u001b[38;5;241m=\u001b[39m \u001b[43mKNN\u001b[49m\u001b[38;5;241m.\u001b[39mpredict(train_img_container)\n\u001b[1;32m      2\u001b[0m ypredtest \u001b[38;5;241m=\u001b[39m KNN\u001b[38;5;241m.\u001b[39mpredict(test_img_container)\n\u001b[1;32m      3\u001b[0m ypredval \u001b[38;5;241m=\u001b[39m KNN\u001b[38;5;241m.\u001b[39mpredict(validation_img_container)\n",
      "\u001b[0;31mNameError\u001b[0m: name 'KNN' is not defined"
     ]
    }
   ],
   "source": [
    "ypredtrain = KNN.predict(train_img_container)\n",
    "ypredtest = KNN.predict(test_img_container)\n",
    "ypredval = KNN.predict(validation_img_container)"
   ]
  },
  {
   "cell_type": "markdown",
   "id": "37ea3151-e859-4429-8777-c927eaeb6fcd",
   "metadata": {},
   "source": [
    "### Training Report"
   ]
  },
  {
   "cell_type": "code",
   "execution_count": 1,
   "id": "ca8fba85-40d5-4137-b847-f1c67d0221dc",
   "metadata": {},
   "outputs": [
    {
     "ename": "NameError",
     "evalue": "name 'classification_report' is not defined",
     "output_type": "error",
     "traceback": [
      "\u001b[0;31m---------------------------------------------------------------------------\u001b[0m",
      "\u001b[0;31mNameError\u001b[0m                                 Traceback (most recent call last)",
      "Input \u001b[0;32mIn [1]\u001b[0m, in \u001b[0;36m<cell line: 1>\u001b[0;34m()\u001b[0m\n\u001b[0;32m----> 1\u001b[0m \u001b[38;5;28mprint\u001b[39m(\u001b[43mclassification_report\u001b[49m(ypredtrain,y_train_label))\n",
      "\u001b[0;31mNameError\u001b[0m: name 'classification_report' is not defined"
     ]
    }
   ],
   "source": [
    "print(classification_report(ypredtrain,y_train_label))"
   ]
  },
  {
   "cell_type": "markdown",
   "id": "9aeca0e3-1d52-406d-8d9d-f7d264fa55f3",
   "metadata": {},
   "source": [
    "### Validation Report"
   ]
  },
  {
   "cell_type": "code",
   "execution_count": null,
   "id": "bd81be86-cf0c-4249-a669-e5d4ec9cbc01",
   "metadata": {},
   "outputs": [],
   "source": [
    "print(classification_report(ypredval,y_val))"
   ]
  },
  {
   "cell_type": "markdown",
   "id": "5f52b439-4ccc-48c3-8c84-b1fa67b19476",
   "metadata": {},
   "source": [
    "### Testing Report"
   ]
  },
  {
   "cell_type": "code",
   "execution_count": null,
   "id": "92b78f48-8a7b-4c9c-ae88-a11d954effac",
   "metadata": {},
   "outputs": [],
   "source": [
    "print(classification_report(ypredtest,y_test))"
   ]
  },
  {
   "cell_type": "code",
   "execution_count": null,
   "id": "cd223782-acdd-4ad0-9d28-fb380f2a43ab",
   "metadata": {},
   "outputs": [],
   "source": [
    "labels = []\n",
    "title = ''\n",
    "if(Labeltype == 'age'):\n",
    "    labels = ['0 infancy(0-2','1 Early Childhood(3-5)','2 Middle Childhood(6-8)','3 Late Childhood(9-11)','4 Adolescence(12-20)'\n",
    "          ,'5 Early Adulthood(21-35)','6 Midlife(36-50)','7 Mature Adulthood(51-79)','8 Late Adulthood(80+)']\n",
    "    title = 'Confusion Matrix for age '\n",
    "if(Labeltype == 'race'):\n",
    "    labels = ['0 White','1 Black','2 Asian','3 Indian','4 Other']\n",
    "    title = 'Confusion Matrix for race '\n",
    "if(Labeltype == 'gender'):\n",
    "    labels = ['0 Male','1 Female']\n",
    "    title = 'Confusion Matrix for age '"
   ]
  },
  {
   "cell_type": "code",
   "execution_count": null,
   "id": "f4134857-716a-4a05-aa1f-3227d1bd7fe7",
   "metadata": {},
   "outputs": [],
   "source": [
    "cm = confusion_matrix(ypredval,y_val,normalize='true')\n",
    "disp = ConfusionMatrixDisplay(confusion_matrix=cm, display_labels=labels)\n",
    "fig, ax = plt.subplots(figsize=(10,10))\n",
    "disp.plot(cmap=plt.cm.Blues,ax=ax)\n",
    "plt.title(title + 'validation set')\n",
    "plt.xticks(rotation = 90)\n",
    "plt.show()"
   ]
  },
  {
   "cell_type": "code",
   "execution_count": null,
   "id": "6a99d5a9-ee80-438a-81c1-652fe1369a1e",
   "metadata": {},
   "outputs": [],
   "source": [
    "cm = confusion_matrix(ypredtest,y_test,normalize='true')\n",
    "disp = ConfusionMatrixDisplay(confusion_matrix=cm, display_labels=labels)\n",
    "fig, ax = plt.subplots(figsize=(10,10))\n",
    "disp.plot(cmap=plt.cm.Blues,ax=ax)\n",
    "plt.title(title + 'test set')\n",
    "plt.xticks(rotation = 90)\n",
    "\n",
    "plt.show()\n",
    "plt.show()"
   ]
  },
  {
   "cell_type": "code",
   "execution_count": null,
   "id": "6c3112df-6cd3-40dd-98ad-99390c364f21",
   "metadata": {},
   "outputs": [],
   "source": []
  }
 ],
 "metadata": {
  "kernelspec": {
   "display_name": "Python 3 (ipykernel)",
   "language": "python",
   "name": "python3"
  },
  "language_info": {
   "codemirror_mode": {
    "name": "ipython",
    "version": 3
   },
   "file_extension": ".py",
   "mimetype": "text/x-python",
   "name": "python",
   "nbconvert_exporter": "python",
   "pygments_lexer": "ipython3",
   "version": "3.10.2"
  }
 },
 "nbformat": 4,
 "nbformat_minor": 5
}
