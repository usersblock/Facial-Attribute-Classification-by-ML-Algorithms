{
 "cells": [
  {
   "cell_type": "code",
   "execution_count": 7,
   "id": "fb5bbb8b-3ea1-47f8-b973-ea1addfd38dd",
   "metadata": {},
   "outputs": [],
   "source": [
    "import numpy as np\n",
    "import pandas as pd\n",
    "from os import listdir\n",
    "from os.path import isfile, join\n",
    "from sklearn.model_selection import train_test_split\n",
    "from imblearn.over_sampling import RandomOverSampler\n",
    "from sklearn.preprocessing import LabelEncoder\n",
    "from collections import Counter\n",
    "import cv2\n",
    "from sklearn.metrics import confusion_matrix, accuracy_score, precision_score, recall_score,f1_score\n",
    "from keras import Model\n",
    "from tensorflow.keras.layers import Input,Activation,Add, MaxPooling2D, MaxPooling1D, Flatten, Dense, Conv1D, Dropout\n",
    "from tensorflow import keras\n",
    "from tensorflow.keras import layers, models\n",
    "from skimage import color\n",
    "from skimage import filters\n",
    "import tensorflow as tf"
   ]
  },
  {
   "cell_type": "code",
   "execution_count": 8,
   "id": "09f2dc63-e19e-456f-b6da-57e50c7d980a",
   "metadata": {},
   "outputs": [],
   "source": [
    "def robertsSobelEdges(imagesArray):\n",
    "    \"\"\"\n",
    "    returns two numpy arrays with pictures in black and white and with the edges define using Roberts filter\n",
    "    on the first one and the Sobel filter on the second one. The images are in black and white\n",
    "    \"\"\"\n",
    "    sobel_ = []\n",
    "    for image in imagesArray:\n",
    "        grayImg = color.rgb2gray(image)\n",
    "        edge_sobel = filters.sobel(grayImg)\n",
    "        sobel_.append(edge_sobel)\n",
    "    return np.array(sobel_)"
   ]
  },
  {
   "cell_type": "code",
   "execution_count": 9,
   "id": "48a9d507-00c6-4497-afbb-90dc1a20a89d",
   "metadata": {},
   "outputs": [],
   "source": [
    "# Choose the label type\n",
    "Labeltype = 'age'"
   ]
  },
  {
   "cell_type": "code",
   "execution_count": 10,
   "id": "485b943f-1435-4b58-986b-6819542fb635",
   "metadata": {},
   "outputs": [
    {
     "name": "stdout",
     "output_type": "stream",
     "text": [
      "Class=5, n=7150 (11.111%)\n",
      "Class=6, n=7150 (11.111%)\n",
      "Class=4, n=7150 (11.111%)\n",
      "Class=2, n=7150 (11.111%)\n",
      "Class=7, n=7150 (11.111%)\n",
      "Class=0, n=7150 (11.111%)\n",
      "Class=8, n=7150 (11.111%)\n",
      "Class=3, n=7150 (11.111%)\n",
      "Class=1, n=7150 (11.111%)\n",
      "Class=0, n=555 (11.111%)\n",
      "Class=8, n=555 (11.111%)\n",
      "Class=7, n=555 (11.111%)\n",
      "Class=2, n=555 (11.111%)\n",
      "Class=6, n=555 (11.111%)\n",
      "Class=4, n=555 (11.111%)\n",
      "Class=1, n=555 (11.111%)\n",
      "Class=3, n=555 (11.111%)\n",
      "Class=5, n=555 (11.111%)\n"
     ]
    }
   ],
   "source": [
    "# Import image labels and paths to dataframe\n",
    "mypath = \"../data/raw/CroppedImages/\"\n",
    "filenames = np.array([f for f in listdir(mypath) if isfile(join(mypath, f))])\n",
    "splitcolumns = [x.split('_')[0:3] + [mypath + x] for x in filenames if x.count('_') == 3]\n",
    "filecolumns = ['age','gender','race','file']\n",
    "filedf = pd.DataFrame(data = splitcolumns, columns = filecolumns).astype({'age': 'int', 'gender': 'int', 'race': 'int'})\n",
    "\n",
    "# Convert age to appropriate labels\n",
    "filedf['age']=np.where((filedf.age<3), 0, filedf.age)\n",
    "filedf['age']=np.where(((filedf.age>=3) & (filedf.age<6)), 1, filedf.age)\n",
    "filedf['age']=np.where(((filedf.age>=6) & (filedf.age<9)), 2, filedf.age)\n",
    "filedf['age']=np.where(((filedf.age>=9) & (filedf.age<12)), 3, filedf.age)\n",
    "filedf['age']=np.where(((filedf.age>=12) & (filedf.age<21)), 4, filedf.age)\n",
    "filedf['age']=np.where(((filedf.age>=21) & (filedf.age<36)), 5, filedf.age)\n",
    "filedf['age']=np.where(((filedf.age>=36) & (filedf.age<51)), 6, filedf.age)\n",
    "filedf['age']=np.where(((filedf.age>=51) & (filedf.age<80)), 7, filedf.age)\n",
    "filedf['age']=np.where((filedf.age>=80), 8, filedf.age)\n",
    "\n",
    "dfx = filedf.loc[:,'file']\n",
    "dfy = filedf.loc[:,Labeltype]\n",
    "\n",
    "# Get Train/Test\n",
    "X_train, X_test, y_train, y_test = train_test_split(dfx, dfy, test_size=0.3, random_state=42)\n",
    "\n",
    "# Get Train/Test/Validation dataset 0.25 * 8 = 0.2\n",
    "X_train_2, X_val, y_train_2, y_val = train_test_split(X_train, y_train, test_size=0.25, random_state=42)\n",
    "\n",
    "# Encode training labels and initialize random over sampler\n",
    "yencoded = LabelEncoder().fit_transform(y_train)\n",
    "oversample = RandomOverSampler()\n",
    "\n",
    "# Over sample until training classes are balanced\n",
    "X_train_balanced, y_train_balanced = oversample.fit_resample(np.array(X_train).reshape(-1,1), yencoded)\n",
    "\n",
    "# Of all classes, proportionally sample 10000\n",
    "dxy = {'file': X_train_balanced.reshape(len(X_train_balanced)), 'label': y_train_balanced}\n",
    "dfbalanced = pd.DataFrame(data = dxy)\n",
    "balancedsamples = int(5000/len(set(dfbalanced.loc[:,'label'])))\n",
    "dfbalancedsubset = dfbalanced.groupby('label', group_keys=False).apply(lambda x: x.sample(balancedsamples)).sample(frac=1)\n",
    "\n",
    "# Count and print balanced classes\n",
    "counter = Counter(y_train_balanced)\n",
    "for k,v in counter.items():\n",
    "    per = v / len(y_train_balanced) * 100\n",
    "    print('Class=%d, n=%d (%.3f%%)' % (k, v, per))\n",
    "\n",
    "# Count and print balanced classes subsets (Total should be 10000)\n",
    "counter = Counter(dfbalancedsubset.loc[:,'label'])\n",
    "for k,v in counter.items():\n",
    "    per = v / len(dfbalancedsubset.loc[:,'label']) * 100\n",
    "    print('Class=%d, n=%d (%.3f%%)' % (k, v, per))"
   ]
  },
  {
   "cell_type": "code",
   "execution_count": 14,
   "id": "a78082cb-bd1f-4cad-94f9-dff5cf19deab",
   "metadata": {},
   "outputs": [],
   "source": [
    "# Get training images\n",
    "train_img_container = []\n",
    "for i in dfbalancedsubset.loc[:,'file']:\n",
    "    img = cv2.imread(i)\n",
    "    train_img_container.append(img)\n",
    "train_img_container = np.array(train_img_container)\n",
    "\n",
    "# Get validation images\n",
    "validation_img_container = []\n",
    "for i in X_val:\n",
    "    img = cv2.imread(i)\n",
    "    validation_img_container.append(img)\n",
    "validation_img_container = np.array(validation_img_container)\n",
    "\n",
    "# Get testing images\n",
    "test_img_container = []\n",
    "for i in X_test:\n",
    "    img = cv2.imread(i)\n",
    "    test_img_container.append(img)\n",
    "test_img_container = np.array(test_img_container)\n",
    "\n",
    "# Convert images to sobel edges\n",
    "train_img_container = robertsSobelEdges(train_img_container)\n",
    "validation_img_container = robertsSobelEdges(validation_img_container)\n",
    "test_img_container = robertsSobelEdges(test_img_container)"
   ]
  },
  {
   "cell_type": "code",
   "execution_count": 12,
   "id": "20e19a87-ef77-4dec-897a-92ddc70b519c",
   "metadata": {},
   "outputs": [],
   "source": [
    "# Expand array dimensions to 4D so that they may be used as inputs\n",
    "X_train_expand = tf.expand_dims(train_img_container, axis=-1)\n",
    "X_val_expand = tf.expand_dims(validation_img_container, axis=-1)\n",
    "X_test_expand = tf.expand_dims(test_img_container, axis=-1)"
   ]
  },
  {
   "cell_type": "code",
   "execution_count": 16,
   "id": "ea96d888-6834-4534-b30d-3c7c5fc37cbd",
   "metadata": {},
   "outputs": [
    {
     "data": {
      "text/plain": [
       "TensorShape([4995, 200, 200, 1])"
      ]
     },
     "execution_count": 16,
     "metadata": {},
     "output_type": "execute_result"
    }
   ],
   "source": [
    "X_train_expand.shape"
   ]
  },
  {
   "cell_type": "code",
   "execution_count": 17,
   "id": "f8dbf1fa-b3c2-486d-a06d-e3a0f55d15cf",
   "metadata": {},
   "outputs": [
    {
     "data": {
      "text/plain": [
       "TensorShape([7112, 200, 200, 1])"
      ]
     },
     "execution_count": 17,
     "metadata": {},
     "output_type": "execute_result"
    }
   ],
   "source": [
    "X_test_expand.shape"
   ]
  },
  {
   "cell_type": "code",
   "execution_count": 15,
   "id": "20bc3aaa-2343-4481-9940-b36142abaa4f",
   "metadata": {},
   "outputs": [],
   "source": [
    "# Pick number of final nodes based on label picked\n",
    "Nlabels = -1\n",
    "if(Labeltype == 'age'):\n",
    "    Nlabels = 9\n",
    "if(Labeltype == 'gender'):\n",
    "    Nlabels = 2\n",
    "if(Labeltype == 'race'):\n",
    "    Nlabels = 5\n",
    "\n",
    "# Model creation\n",
    "CNNmodel = models.Sequential()\n",
    "CNNmodel.add(layers.Conv2D(32, (3, 3), activation='relu', input_shape=X_train_expand[0].shape))\n",
    "CNNmodel.add(layers.MaxPooling2D((2, 2)))\n",
    "CNNmodel.add(layers.Conv2D(32, (3, 3), activation='relu'))\n",
    "CNNmodel.add(layers.MaxPooling2D((2, 2)))\n",
    "CNNmodel.add(layers.Conv2D(32, (3, 3), activation='relu'))\n",
    "CNNmodel.add(layers.MaxPooling2D((2, 2)))\n",
    "CNNmodel.add(layers.Conv2D(32, (3, 3), activation='relu'))\n",
    "CNNmodel.add(layers.MaxPooling2D((2, 2)))\n",
    "CNNmodel.add(layers.Conv2D(32, (3, 3), activation='relu'))\n",
    "CNNmodel.add(layers.MaxPooling2D((2, 2)))\n",
    "CNNmodel.add(layers.Flatten())\n",
    "CNNmodel.add(layers.Dense(64, activation='relu'))\n",
    "CNNmodel.add(layers.Dense(Nlabels))\n",
    "CNNmodel.compile(optimizer='adam',\n",
    "              loss=tf.keras.losses.SparseCategoricalCrossentropy(from_logits=True),\n",
    "              metrics=['accuracy'])"
   ]
  },
  {
   "cell_type": "code",
   "execution_count": 18,
   "id": "100322b5-40e6-41e3-bbe9-77a403840b85",
   "metadata": {},
   "outputs": [
    {
     "name": "stdout",
     "output_type": "stream",
     "text": [
      "Epoch 1/10\n",
      "157/157 [==============================] - 102s 647ms/step - loss: 1.8622 - accuracy: 0.2835 - val_loss: 1.9221 - val_accuracy: 0.2743\n",
      "Epoch 2/10\n",
      "157/157 [==============================] - 100s 635ms/step - loss: 1.4864 - accuracy: 0.4194 - val_loss: 1.4530 - val_accuracy: 0.4613\n",
      "Epoch 3/10\n",
      "157/157 [==============================] - 107s 682ms/step - loss: 1.3225 - accuracy: 0.4903 - val_loss: 1.3416 - val_accuracy: 0.4809\n",
      "Epoch 4/10\n",
      "157/157 [==============================] - 98s 626ms/step - loss: 1.2266 - accuracy: 0.5167 - val_loss: 1.4582 - val_accuracy: 0.4324\n",
      "Epoch 5/10\n",
      "157/157 [==============================] - 107s 685ms/step - loss: 1.0752 - accuracy: 0.5830 - val_loss: 1.5902 - val_accuracy: 0.3996\n",
      "Epoch 6/10\n",
      "157/157 [==============================] - 103s 656ms/step - loss: 0.9567 - accuracy: 0.6372 - val_loss: 1.4469 - val_accuracy: 0.4297\n",
      "Epoch 7/10\n",
      "157/157 [==============================] - 104s 661ms/step - loss: 0.8639 - accuracy: 0.6785 - val_loss: 1.6242 - val_accuracy: 0.4104\n",
      "Epoch 8/10\n",
      "157/157 [==============================] - 102s 649ms/step - loss: 0.7557 - accuracy: 0.7151 - val_loss: 1.4680 - val_accuracy: 0.4762\n",
      "Epoch 9/10\n",
      "157/157 [==============================] - 103s 658ms/step - loss: 0.6572 - accuracy: 0.7566 - val_loss: 1.7696 - val_accuracy: 0.3661\n",
      "Epoch 10/10\n",
      "157/157 [==============================] - 96s 614ms/step - loss: 0.5634 - accuracy: 0.7966 - val_loss: 1.5849 - val_accuracy: 0.4807\n"
     ]
    }
   ],
   "source": [
    "# Validation training and testing\n",
    "val_history = CNNmodel.fit(X_train_expand, dfbalancedsubset.loc[:,'label'], epochs=10, validation_data=(X_test_expand, y_test))"
   ]
  },
  {
   "cell_type": "code",
   "execution_count": 35,
   "id": "0e3f2be4-5ed7-4b0b-8b57-9b2281b2e757",
   "metadata": {},
   "outputs": [
    {
     "name": "stdout",
     "output_type": "stream",
     "text": [
      "[0.3516135811805725, 0.39675173163414, 0.4944104552268982, 0.4184771180152893, 0.4062434136867523, 0.4589748978614807, 0.40202489495277405, 0.4351402521133423, 0.4663573205471039, 0.4528580605983734]\n",
      "[[212  33   4   2   3   6   1   3   1]\n",
      " [ 76  85  33  18  18  30  11   7   1]\n",
      " [  6  14  14  16  14  23   6   3   0]\n",
      " [  4  13  22  21  28  50  18  10   3]\n",
      " [  2   5  11  23 107 339  48  19   1]\n",
      " [  5   5   7   8 113 997 213  93   4]\n",
      " [  2   2   4   3  42 505 345 249  20]\n",
      " [  0   0   0   1   8 107 143 296  45]\n",
      " [  1   0   0   0   3  16  21  49  70]]\n"
     ]
    }
   ],
   "source": [
    "# Get validation accuracy and confusion matrix\n",
    "val_accuracy = val_history.history['val_accuracy']\n",
    "ypred = CNNmodel.predict(X_val_expand)\n",
    "valconmatrix = confusion_matrix(np.argmax(ypred, axis=-1),y_val)\n",
    "print(val_accuracy)\n",
    "print(valconmatrix)"
   ]
  },
  {
   "cell_type": "code",
   "execution_count": 39,
   "id": "b9551ffe-83da-493a-bc7f-c7ea5b498f12",
   "metadata": {},
   "outputs": [
    {
     "name": "stdout",
     "output_type": "stream",
     "text": [
      "0.46150601139000214\n",
      "[[224  27   2   0   3   7   1   2   0]\n",
      " [ 97  86  33   9  19  32   9   5   1]\n",
      " [  2  13  33  18  23  27   8   7   2]\n",
      " [  0   7  13  15  29  73   7  12   2]\n",
      " [  1  14  19  16 102 347  59  37   4]\n",
      " [  2   1   4   4  91 973 200  94   1]\n",
      " [  1   2   3   2  23 484 368 247  12]\n",
      " [  1   0   0   0  14 110 124 331  54]\n",
      " [  0   0   0   0   0  11  17  64  56]]\n"
     ]
    }
   ],
   "source": [
    "# Get test accuracy and confusion matrix\n",
    "ypred = CNNmodel.predict(X_test_expand)\n",
    "testconmatrix = confusion_matrix(np.argmax(ypred, axis=-1),y_test)\n",
    "test_accuracy = accuracy_score(y_test, np.argmax(ypred, axis=-1))\n",
    "print(test_accuracy)\n",
    "print(testconmatrix)"
   ]
  }
 ],
 "metadata": {
  "kernelspec": {
   "display_name": "Python 3 (ipykernel)",
   "language": "python",
   "name": "python3"
  },
  "language_info": {
   "codemirror_mode": {
    "name": "ipython",
    "version": 3
   },
   "file_extension": ".py",
   "mimetype": "text/x-python",
   "name": "python",
   "nbconvert_exporter": "python",
   "pygments_lexer": "ipython3",
   "version": "3.10.2"
  }
 },
 "nbformat": 4,
 "nbformat_minor": 5
}
