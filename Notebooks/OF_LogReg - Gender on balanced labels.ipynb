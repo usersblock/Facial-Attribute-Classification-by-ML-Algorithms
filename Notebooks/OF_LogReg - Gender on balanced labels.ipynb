{
 "cells": [
  {
   "cell_type": "code",
   "execution_count": 11,
   "id": "a1ea33ce",
   "metadata": {},
   "outputs": [],
   "source": [
    "import numpy as np\n",
    "import pandas as pd\n",
    "from os import listdir\n",
    "from os.path import isfile, join\n",
    "from sklearn.model_selection import train_test_split\n",
    "from imblearn.over_sampling import RandomOverSampler\n",
    "from sklearn.preprocessing import LabelEncoder\n",
    "from collections import Counter\n",
    "import cv2\n",
    "from sklearn.metrics import confusion_matrix, accuracy_score, precision_score, recall_score,f1_score\n",
    "from keras import Model\n",
    "from tensorflow.keras.layers import Input,Activation,Add, MaxPooling2D, MaxPooling1D, Flatten, Dense, Conv1D, Dropout\n",
    "from tensorflow import keras\n",
    "from tensorflow.keras import layers, models\n",
    "from skimage import color\n",
    "from skimage import filters\n",
    "import tensorflow as tf"
   ]
  },
  {
   "cell_type": "code",
   "execution_count": 2,
   "id": "43e8f982",
   "metadata": {},
   "outputs": [],
   "source": [
    "from sklearn.linear_model import LogisticRegression\n",
    "from sklearn.metrics import classification_report\n",
    "from sklearn.metrics import mean_squared_error\n",
    "from sklearn.metrics import mean_absolute_error\n",
    "import matplotlib.pyplot as plt\n",
    "from sklearn import metrics"
   ]
  },
  {
   "cell_type": "code",
   "execution_count": 3,
   "id": "4ebd1486",
   "metadata": {},
   "outputs": [],
   "source": [
    "# Choose the label type\n",
    "Labeltype = 'gender'"
   ]
  },
  {
   "cell_type": "code",
   "execution_count": 4,
   "id": "af518322",
   "metadata": {},
   "outputs": [
    {
     "name": "stdout",
     "output_type": "stream",
     "text": [
      "Class=1, n=3796 (50.000%)\n",
      "Class=0, n=3796 (50.000%)\n",
      "Class=0, n=2500 (50.000%)\n",
      "Class=1, n=2500 (50.000%)\n"
     ]
    }
   ],
   "source": [
    "# Import image labels and paths to dataframe\n",
    "mypath = \"C:/Users/User/Desktop/CUNY/Faces_img/cropped.tar/cropped/crop_part1\"\n",
    "filenames = np.array([f for f in listdir(mypath) if isfile(join(mypath, f))])\n",
    "splitcolumns = [x.split('_')[0:3] + [mypath +'/'+ x] for x in filenames if x.count('_') == 3]\n",
    "filecolumns = ['age','gender','race','file']\n",
    "filedf = pd.DataFrame(data = splitcolumns, columns = filecolumns).astype({'age': 'int', 'gender': 'int', 'race': 'int'})\n",
    "\n",
    "# Convert age to appropriate labels\n",
    "filedf['age']=np.where((filedf.age<3), 0, filedf.age)\n",
    "filedf['age']=np.where(((filedf.age>=3) & (filedf.age<6)), 1, filedf.age)\n",
    "filedf['age']=np.where(((filedf.age>=6) & (filedf.age<9)), 2, filedf.age)\n",
    "filedf['age']=np.where(((filedf.age>=9) & (filedf.age<12)), 3, filedf.age)\n",
    "filedf['age']=np.where(((filedf.age>=12) & (filedf.age<21)), 4, filedf.age)\n",
    "filedf['age']=np.where(((filedf.age>=21) & (filedf.age<36)), 5, filedf.age)\n",
    "filedf['age']=np.where(((filedf.age>=36) & (filedf.age<51)), 6, filedf.age)\n",
    "filedf['age']=np.where(((filedf.age>=51) & (filedf.age<80)), 7, filedf.age)\n",
    "filedf['age']=np.where((filedf.age>=80), 8, filedf.age)\n",
    "\n",
    "dfx = filedf.loc[:,'file']\n",
    "dfy = filedf.loc[:,Labeltype]\n",
    "\n",
    "# Get Train/Test\n",
    "X_train, X_test, y_train, y_test = train_test_split(dfx, dfy, test_size=0.3, random_state=42)\n",
    "\n",
    "# Get Train/Test/Validation dataset 0.25 * 8 = 0.2\n",
    "X_train_2, X_val, y_train_2, y_val = train_test_split(X_train, y_train, test_size=0.25, random_state=42)\n",
    "\n",
    "# Encode training labels and initialize random over sampler\n",
    "yencoded = LabelEncoder().fit_transform(y_train)\n",
    "oversample = RandomOverSampler()\n",
    "\n",
    "# Over sample until training classes are balanced\n",
    "X_train_balanced, y_train_balanced = oversample.fit_resample(np.array(X_train).reshape(-1,1), yencoded)\n",
    "\n",
    "# Of all classes, proportionally sample 10000\n",
    "dxy = {'file': X_train_balanced.reshape(len(X_train_balanced)), 'label': y_train_balanced}\n",
    "dfbalanced = pd.DataFrame(data = dxy)\n",
    "balancedsamples = int(5000/len(set(dfbalanced.loc[:,'label'])))\n",
    "dfbalancedsubset = dfbalanced.groupby('label', group_keys=False).apply(lambda x: x.sample(balancedsamples)).sample(frac=1)\n",
    "\n",
    "# Count and print balanced classes\n",
    "counter = Counter(y_train_balanced)\n",
    "for k,v in counter.items():\n",
    "    per = v / len(y_train_balanced) * 100\n",
    "    print('Class=%d, n=%d (%.3f%%)' % (k, v, per))\n",
    "\n",
    "# Count and print balanced classes subsets (Total should be 10000)\n",
    "counter = Counter(dfbalancedsubset.loc[:,'label'])\n",
    "for k,v in counter.items():\n",
    "    per = v / len(dfbalancedsubset.loc[:,'label']) * 100\n",
    "    print('Class=%d, n=%d (%.3f%%)' % (k, v, per))"
   ]
  },
  {
   "cell_type": "code",
   "execution_count": 5,
   "id": "976f9f24",
   "metadata": {},
   "outputs": [
    {
     "data": {
      "text/html": [
       "<div>\n",
       "<style scoped>\n",
       "    .dataframe tbody tr th:only-of-type {\n",
       "        vertical-align: middle;\n",
       "    }\n",
       "\n",
       "    .dataframe tbody tr th {\n",
       "        vertical-align: top;\n",
       "    }\n",
       "\n",
       "    .dataframe thead th {\n",
       "        text-align: right;\n",
       "    }\n",
       "</style>\n",
       "<table border=\"1\" class=\"dataframe\">\n",
       "  <thead>\n",
       "    <tr style=\"text-align: right;\">\n",
       "      <th></th>\n",
       "      <th>file</th>\n",
       "      <th>label</th>\n",
       "    </tr>\n",
       "  </thead>\n",
       "  <tbody>\n",
       "    <tr>\n",
       "      <th>4247</th>\n",
       "      <td>C:/Users/User/Desktop/CUNY/Faces_img/cropped.t...</td>\n",
       "      <td>0</td>\n",
       "    </tr>\n",
       "    <tr>\n",
       "      <th>6552</th>\n",
       "      <td>C:/Users/User/Desktop/CUNY/Faces_img/cropped.t...</td>\n",
       "      <td>1</td>\n",
       "    </tr>\n",
       "    <tr>\n",
       "      <th>4114</th>\n",
       "      <td>C:/Users/User/Desktop/CUNY/Faces_img/cropped.t...</td>\n",
       "      <td>1</td>\n",
       "    </tr>\n",
       "    <tr>\n",
       "      <th>4900</th>\n",
       "      <td>C:/Users/User/Desktop/CUNY/Faces_img/cropped.t...</td>\n",
       "      <td>1</td>\n",
       "    </tr>\n",
       "    <tr>\n",
       "      <th>529</th>\n",
       "      <td>C:/Users/User/Desktop/CUNY/Faces_img/cropped.t...</td>\n",
       "      <td>0</td>\n",
       "    </tr>\n",
       "  </tbody>\n",
       "</table>\n",
       "</div>"
      ],
      "text/plain": [
       "                                                   file  label\n",
       "4247  C:/Users/User/Desktop/CUNY/Faces_img/cropped.t...      0\n",
       "6552  C:/Users/User/Desktop/CUNY/Faces_img/cropped.t...      1\n",
       "4114  C:/Users/User/Desktop/CUNY/Faces_img/cropped.t...      1\n",
       "4900  C:/Users/User/Desktop/CUNY/Faces_img/cropped.t...      1\n",
       "529   C:/Users/User/Desktop/CUNY/Faces_img/cropped.t...      0"
      ]
     },
     "execution_count": 5,
     "metadata": {},
     "output_type": "execute_result"
    }
   ],
   "source": [
    "dfbalancedsubset.head()"
   ]
  },
  {
   "cell_type": "code",
   "execution_count": 6,
   "id": "22252406",
   "metadata": {},
   "outputs": [],
   "source": [
    "# Get training images\n",
    "train_img_container = []\n",
    "for i in dfbalancedsubset['file']:\n",
    "    img = cv2.imread(i)\n",
    "    train_img_container.append(img)\n",
    "train_img_container = np.array(train_img_container)"
   ]
  },
  {
   "cell_type": "code",
   "execution_count": 7,
   "id": "cdc38ed0",
   "metadata": {},
   "outputs": [
    {
     "data": {
      "text/plain": [
       "(5000, 200, 200, 3)"
      ]
     },
     "execution_count": 7,
     "metadata": {},
     "output_type": "execute_result"
    }
   ],
   "source": [
    "train_img_container.shape"
   ]
  },
  {
   "cell_type": "code",
   "execution_count": 8,
   "id": "34cc6b11",
   "metadata": {},
   "outputs": [],
   "source": [
    "nimages, nX, ny, nrgb = train_img_container.shape\n",
    "train_img_container = train_img_container.reshape((nimages,nX*ny*nrgb))"
   ]
  },
  {
   "cell_type": "code",
   "execution_count": 9,
   "id": "82edf617",
   "metadata": {},
   "outputs": [],
   "source": [
    "lr_gender=LogisticRegression()"
   ]
  },
  {
   "cell_type": "code",
   "execution_count": 12,
   "id": "228128f3",
   "metadata": {},
   "outputs": [
    {
     "name": "stderr",
     "output_type": "stream",
     "text": [
      "C:\\Users\\User\\anaconda3\\lib\\site-packages\\sklearn\\linear_model\\_logistic.py:814: ConvergenceWarning: lbfgs failed to converge (status=1):\n",
      "STOP: TOTAL NO. of ITERATIONS REACHED LIMIT.\n",
      "\n",
      "Increase the number of iterations (max_iter) or scale the data as shown in:\n",
      "    https://scikit-learn.org/stable/modules/preprocessing.html\n",
      "Please also refer to the documentation for alternative solver options:\n",
      "    https://scikit-learn.org/stable/modules/linear_model.html#logistic-regression\n",
      "  n_iter_i = _check_optimize_result(\n"
     ]
    },
    {
     "data": {
      "text/plain": [
       "LogisticRegression()"
      ]
     },
     "execution_count": 12,
     "metadata": {},
     "output_type": "execute_result"
    }
   ],
   "source": [
    "lr_gender.fit(train_img_container, dfbalancedsubset['label'])"
   ]
  },
  {
   "cell_type": "code",
   "execution_count": 13,
   "id": "23cab1fb",
   "metadata": {},
   "outputs": [],
   "source": [
    "prediction=lr_gender.predict(train_img_container)"
   ]
  },
  {
   "cell_type": "code",
   "execution_count": 14,
   "id": "14e39523",
   "metadata": {},
   "outputs": [
    {
     "name": "stdout",
     "output_type": "stream",
     "text": [
      "accuracy: 0.891\n",
      "              precision    recall  f1-score   support\n",
      "\n",
      "           0       0.88      0.90      0.89      2500\n",
      "           1       0.90      0.88      0.89      2500\n",
      "\n",
      "    accuracy                           0.89      5000\n",
      "   macro avg       0.89      0.89      0.89      5000\n",
      "weighted avg       0.89      0.89      0.89      5000\n",
      "\n"
     ]
    }
   ],
   "source": [
    "print(f\"accuracy: {accuracy_score(dfbalancedsubset['label'], prediction)}\")\n",
    "print(f\"{classification_report(dfbalancedsubset['label'], prediction)}\")"
   ]
  },
  {
   "cell_type": "code",
   "execution_count": 15,
   "id": "a93aa02d",
   "metadata": {},
   "outputs": [],
   "source": [
    "# Get testing images\n",
    "test_img_container = []\n",
    "for i in X_test:\n",
    "    img = cv2.imread(i)\n",
    "    test_img_container.append(img)\n",
    "test_img_container = np.array(test_img_container)"
   ]
  },
  {
   "cell_type": "code",
   "execution_count": 16,
   "id": "fe2be4a4",
   "metadata": {},
   "outputs": [],
   "source": [
    "nimages, nX, ny, nrgb = test_img_container.shape\n",
    "test_img_container = test_img_container.reshape((nimages,nX*ny*nrgb))"
   ]
  },
  {
   "cell_type": "code",
   "execution_count": 17,
   "id": "76ed2baf",
   "metadata": {},
   "outputs": [],
   "source": [
    "pred_test=lr_gender.predict(test_img_container)"
   ]
  },
  {
   "cell_type": "code",
   "execution_count": 18,
   "id": "12b34aab",
   "metadata": {},
   "outputs": [
    {
     "name": "stdout",
     "output_type": "stream",
     "text": [
      "accuracy: 0.7903885480572597\n",
      "              precision    recall  f1-score   support\n",
      "\n",
      "           0       0.76      0.78      0.77      1324\n",
      "           1       0.82      0.80      0.81      1610\n",
      "\n",
      "    accuracy                           0.79      2934\n",
      "   macro avg       0.79      0.79      0.79      2934\n",
      "weighted avg       0.79      0.79      0.79      2934\n",
      "\n"
     ]
    }
   ],
   "source": [
    "print(f\"accuracy: {accuracy_score(y_test, pred_test)}\")\n",
    "print(f\"{classification_report(y_test, pred_test)}\")"
   ]
  },
  {
   "cell_type": "code",
   "execution_count": 19,
   "id": "f0298796",
   "metadata": {},
   "outputs": [
    {
     "data": {
      "text/plain": [
       "0.109"
      ]
     },
     "execution_count": 19,
     "metadata": {},
     "output_type": "execute_result"
    }
   ],
   "source": [
    "mean_squared_error(dfbalancedsubset['label'], prediction)"
   ]
  },
  {
   "cell_type": "code",
   "execution_count": 20,
   "id": "db1ec50f",
   "metadata": {},
   "outputs": [
    {
     "data": {
      "text/plain": [
       "0.109"
      ]
     },
     "execution_count": 20,
     "metadata": {},
     "output_type": "execute_result"
    }
   ],
   "source": [
    "mean_absolute_error(dfbalancedsubset['label'], prediction)"
   ]
  },
  {
   "cell_type": "code",
   "execution_count": 22,
   "id": "89cee0b3",
   "metadata": {},
   "outputs": [],
   "source": [
    "# Compute confusion matrix\n",
    "cm_gender = metrics.confusion_matrix(y_test, pred_test)"
   ]
  },
  {
   "cell_type": "code",
   "execution_count": 23,
   "id": "011e883d",
   "metadata": {},
   "outputs": [
    {
     "data": {
      "image/png": "[encoded data removed]",
      "text/plain": [
       "<Figure size 648x648 with 2 Axes>"
      ]
     },
     "metadata": {
      "needs_background": "light"
     },
     "output_type": "display_data"
    }
   ],
   "source": [
    "plt.figure(figsize=(9,9))\n",
    "plt.imshow(cm_gender, interpolation='nearest', cmap='Pastel1')\n",
    "plt.title('Confusion Matrix for gender', size = 30)\n",
    "plt.colorbar()\n",
    "tick_marks = np.arange(2)\n",
    "plt.xticks(tick_marks, [\"0 Male\", \"1 Female\"], rotation=90, size = 10)\n",
    "plt.yticks(tick_marks, [\"0 Male\", \"1 Female\"], size = 10)\n",
    "plt.tight_layout()\n",
    "plt.ylabel('Actual label', size = 15)\n",
    "plt.xlabel('Predicted label', size = 15)\n",
    "width, height = cm_gender.shape\n",
    "for x in range(width):\n",
    " for y in range(height):\n",
    "  plt.annotate(str(cm_gender[x][y]), xy=(y, x), \n",
    "  horizontalalignment='center',\n",
    "  verticalalignment='center')"
   ]
  },
  {
   "cell_type": "code",
   "execution_count": null,
   "id": "2b44705b",
   "metadata": {},
   "outputs": [],
   "source": []
  }
 ],
 "metadata": {
  "kernelspec": {
   "display_name": "Python 3 (ipykernel)",
   "language": "python",
   "name": "python3"
  },
  "language_info": {
   "codemirror_mode": {
    "name": "ipython",
    "version": 3
   },
   "file_extension": ".py",
   "mimetype": "text/x-python",
   "name": "python",
   "nbconvert_exporter": "python",
   "pygments_lexer": "ipython3",
   "version": "3.9.7"
  }
 },
 "nbformat": 4,
 "nbformat_minor": 5
}
