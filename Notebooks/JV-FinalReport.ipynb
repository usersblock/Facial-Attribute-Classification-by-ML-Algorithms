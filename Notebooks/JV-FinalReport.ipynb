{
 "cells": [
  {
   "cell_type": "markdown",
   "id": "508618cf-4903-4fb8-91b5-ecddbe8a2b2a",
   "metadata": {},
   "source": [
    "# Race, Age, and Gender Classifcation Improvement Using Feature Engineering on Pictures of Faces\n",
    "<center>\n",
    "<img src = \"https://raw.githubusercontent.com/usersblock/Facial-Attribute-Classification-by-ML-Algorithms/main/images/Screen%20Shot%202022-05-22%20at%204.25.31%20PM.png\" width = 300 height = 300 ></center>"
   ]
  },
  {
   "cell_type": "code",
   "execution_count": null,
   "id": "81564f51-bb2a-4cea-9ea7-8a3e8e375e1b",
   "metadata": {},
   "outputs": [],
   "source": []
  },
  {
   "cell_type": "markdown",
   "id": "426eb9f7-bef6-4967-bf79-1b3d6a0607fa",
   "metadata": {},
   "source": [
    "### Abstract"
   ]
  },
  {
   "cell_type": "code",
   "execution_count": null,
   "id": "a45b0db5-0364-401e-9c25-37679f4e1ab6",
   "metadata": {},
   "outputs": [],
   "source": []
  },
  {
   "cell_type": "markdown",
   "id": "90f1b4af-5289-45e2-952c-07641c167eb7",
   "metadata": {},
   "source": [
    "## Introduction"
   ]
  },
  {
   "cell_type": "code",
   "execution_count": null,
   "id": "c3eab3d4-f609-4330-93bc-39f28284dd7b",
   "metadata": {},
   "outputs": [],
   "source": []
  },
  {
   "cell_type": "markdown",
   "id": "3b06abd2-9b63-4878-acc6-3651bb4ccb17",
   "metadata": {},
   "source": [
    "## Background"
   ]
  },
  {
   "cell_type": "code",
   "execution_count": null,
   "id": "91cc1207-eda7-4b0e-8369-c6b3224ee01f",
   "metadata": {},
   "outputs": [],
   "source": []
  },
  {
   "cell_type": "markdown",
   "id": "366d0be5-ed23-4102-a521-8f5aa2fd8730",
   "metadata": {},
   "source": [
    "## Data"
   ]
  },
  {
   "cell_type": "code",
   "execution_count": null,
   "id": "5e81dbc1-1c79-4d5d-9e29-7a8e08f6cbf2",
   "metadata": {},
   "outputs": [],
   "source": []
  },
  {
   "cell_type": "markdown",
   "id": "c370c137-219a-4f90-af33-4c129cfd3f05",
   "metadata": {},
   "source": [
    "## Methods"
   ]
  },
  {
   "cell_type": "code",
   "execution_count": null,
   "id": "de2c7ab7-0eb8-45bb-baa8-3e1eb96362b0",
   "metadata": {},
   "outputs": [],
   "source": []
  },
  {
   "cell_type": "markdown",
   "id": "2725582c-dc2a-45d1-b39c-2ce8e0dda5c8",
   "metadata": {},
   "source": [
    "## Evaluation "
   ]
  },
  {
   "cell_type": "code",
   "execution_count": null,
   "id": "531ec0c8-c9d9-4b45-8a28-f55ce84c301c",
   "metadata": {},
   "outputs": [],
   "source": []
  },
  {
   "cell_type": "markdown",
   "id": "a70b0345-080e-4db4-a2bb-2e717ac27158",
   "metadata": {},
   "source": [
    "## Conclusion"
   ]
  },
  {
   "cell_type": "code",
   "execution_count": null,
   "id": "5e54d789-75b6-4798-a1fc-6d7a3d4b111e",
   "metadata": {},
   "outputs": [],
   "source": []
  },
  {
   "cell_type": "markdown",
   "id": "16599d02-e2e0-4a52-8261-08ed5adae99f",
   "metadata": {},
   "source": [
    "## Attribution"
   ]
  },
  {
   "cell_type": "code",
   "execution_count": null,
   "id": "1ff58971-c971-45a4-a4e4-0530b7b3a306",
   "metadata": {},
   "outputs": [],
   "source": []
  },
  {
   "cell_type": "markdown",
   "id": "5e785c7b-a9aa-4337-90a0-9ac0101f4805",
   "metadata": {},
   "source": [
    "## Citations"
   ]
  },
  {
   "cell_type": "markdown",
   "id": "eb30a499-7f4a-4270-847c-56e09b701e7f",
   "metadata": {},
   "source": [
    "<ol>\n",
    "    <li>Wang, L., &amp; Rajan, D. (2020, June 26). An image similarity descriptor for classification tasks. Journal of Visual Communication and Image Representation. Retrieved May 22, 2022, from https://www.sciencedirect.com/science/article/pii/S1047320320300985?casa_token=hgph9GEVymkAAAAA%3AXpMKKoIT21hFFDJYO3DwyeC1IH3QsWGg6KN27ir5GUs30az1xgc_OAXCYlh20T7nxrwlcKBGnIc </li>\n",
    "    <li>Wang, L., &amp; Rajan, D. (2020, June 26). An image similarity descriptor for classification tasks. Journal of Visual Communication and Image Representation. Retrieved May 22, 2022, from https://www.sciencedirect.com/science/article/pii/S1047320320300985?casa_token=hgph9GEVymkAAAAA%3AXpMKKoIT21hFFDJYO3DwyeC1IH3QsWGg6KN27ir5GUs30az1xgc_OAXCYlh20T7nxrwlcKBGnIc </li>\n",
    "</ol>"
   ]
  },
  {
   "cell_type": "code",
   "execution_count": null,
   "id": "7a207d7b-47bc-4255-b3c7-2a5dcb2e3c89",
   "metadata": {},
   "outputs": [],
   "source": []
  }
 ],
 "metadata": {
  "kernelspec": {
   "display_name": "Python 3 (ipykernel)",
   "language": "python",
   "name": "python3"
  },
  "language_info": {
   "codemirror_mode": {
    "name": "ipython",
    "version": 3
   },
   "file_extension": ".py",
   "mimetype": "text/x-python",
   "name": "python",
   "nbconvert_exporter": "python",
   "pygments_lexer": "ipython3",
   "version": "3.9.12"
  }
 },
 "nbformat": 4,
 "nbformat_minor": 5
}
