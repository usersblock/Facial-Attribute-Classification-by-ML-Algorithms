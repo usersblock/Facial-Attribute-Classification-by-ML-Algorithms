{
 "cells": [
  {
   "cell_type": "markdown",
   "id": "508618cf-4903-4fb8-91b5-ecddbe8a2b2a",
   "metadata": {},
   "source": [
    "# Race, Age, and Gender Classifcation Improvement Using Feature Engineering on Images\n",
    "<figure>\n",
    "<center>\n",
    "<img src = \"https://raw.githubusercontent.com/usersblock/Facial-Attribute-Classification-by-ML-Algorithms/main/images/Screen%20Shot%202022-05-22%20at%204.25.31%20PM.png\" width = 300 height = 300 >\n",
    "<br>\n",
    "    \n",
    "<caption> Image of Faces</caption>\n",
    "</center>\n",
    " <figure>"
   ]
  },
  {
   "cell_type": "code",
   "execution_count": null,
   "id": "81564f51-bb2a-4cea-9ea7-8a3e8e375e1b",
   "metadata": {},
   "outputs": [],
   "source": []
  },
  {
   "cell_type": "markdown",
   "id": "426eb9f7-bef6-4967-bf79-1b3d6a0607fa",
   "metadata": {},
   "source": [
    "### Abstract"
   ]
  },
  {
   "cell_type": "code",
   "execution_count": null,
   "id": "a45b0db5-0364-401e-9c25-37679f4e1ab6",
   "metadata": {},
   "outputs": [],
   "source": []
  },
  {
   "cell_type": "markdown",
   "id": "90f1b4af-5289-45e2-952c-07641c167eb7",
   "metadata": {},
   "source": [
    "## Introduction"
   ]
  },
  {
   "cell_type": "markdown",
   "id": "2954f166-2f44-436a-8631-aa3605fd84ff",
   "metadata": {},
   "source": [
    "Image classification techniques are widely apply in the machine learning community and well understood by many. Today's world rely more and more on advance features to protect our identities online and to protect many sensitive information such as SSN and banck accounts. While basic features, such as eye color, nose, etc. are easiily recognisable to the models there are many others that remain still abstract and not easily recognized by the algorithms. Some of this features include age, gender and race.Many models attempt to solve this problems but the criteria and actual performance are still inadequate. Adding these features to the basic features could potencially increase the level of security in face recognision applications. The combinations of unique physical features combined with other variables like age, gender and race could add an extra layer of security protection to any application that needs this for sensible online transaction and for our right to privacy while online. \n",
    "<br>\n",
    "<br>\n",
    "Based on previous workd done on the field it is clear that there is no one way to solve this problem. There is a diversity of algorithms apply to solve this problem as well as a diversity of benchmarks to asses test performace. In this project the focus was on two particular models, Gradient Boosting and Neural Networks. Moreover, an emphasis was applied to data engineering and various pre-processing techniques.\n",
    "\n",
    "\n",
    "\n",
    "\n"
   ]
  },
  {
   "cell_type": "markdown",
   "id": "3b06abd2-9b63-4878-acc6-3651bb4ccb17",
   "metadata": {},
   "source": [
    "## Background"
   ]
  },
  {
   "cell_type": "code",
   "execution_count": null,
   "id": "91cc1207-eda7-4b0e-8369-c6b3224ee01f",
   "metadata": {},
   "outputs": [],
   "source": []
  },
  {
   "cell_type": "markdown",
   "id": "366d0be5-ed23-4102-a521-8f5aa2fd8730",
   "metadata": {},
   "source": [
    "## Data"
   ]
  },
  {
   "cell_type": "code",
   "execution_count": null,
   "id": "5e81dbc1-1c79-4d5d-9e29-7a8e08f6cbf2",
   "metadata": {},
   "outputs": [],
   "source": []
  },
  {
   "cell_type": "markdown",
   "id": "c370c137-219a-4f90-af33-4c129cfd3f05",
   "metadata": {},
   "source": [
    "## Methods"
   ]
  },
  {
   "cell_type": "markdown",
   "id": "61772dae-b97b-4a1f-9354-dd215c9497e2",
   "metadata": {},
   "source": [
    "One of the techniques used in this project was SIFT, which stands for Scale Invariant Feature Transform. Th reason for using this algorithm to our images is because SIFT's ability to detect major key points in an image. This is particularly useful for the three features we're focusing on in this project (age, gender, and age). The SIFT program is particularly useful because the quality of the images and angle of them have a known low inpact on the prediction of key features in the images. The algorithm was implemented as benchmark results anaylsis as it one of the most use algorithms use for facial recognition.\n",
    "\n",
    "<img src=\"https://raw.githubusercontent.com/usersblock/Facial-Attribute-Classification-by-ML-Algorithms/main/Reports/figures/Screen%20Shot%202022-05-24%20at%202.02.26%20PM.png\" width = \"200\" height = \"200\">\n",
    "<caption> SIFT Facial Attributes Recognition</caption>\n",
    "\n",
    "\n",
    "[ADD MORE ABOUT SIFT?]\n",
    "\n",
    "\n",
    "Haar Cascade\n",
    "Haar Cascade is an object detection algorithm. The algorithm selected important features from the images and bounds them into squares. The number of features scalate very quickly. Because of the high number of features created with theis program the Adaboost algorithm is used to select only the most important features. Adaboost does this by using a collection of weak classifers to create a strong classifier. In this project the Haar Cascade algorithm was trained with the haar cascade collection of face recognition images in their library. The goal of using Haar Cascade was to find the bounds of the faces in the images and zero out all of the pixels outside of the face boundary. This was done with the goal of maximizing the features pass onto each model and reducing surrounding noise and objects.\n"
   ]
  },
  {
   "cell_type": "markdown",
   "id": "2725582c-dc2a-45d1-b39c-2ce8e0dda5c8",
   "metadata": {},
   "source": [
    "## Evaluation "
   ]
  },
  {
   "cell_type": "code",
   "execution_count": null,
   "id": "531ec0c8-c9d9-4b45-8a28-f55ce84c301c",
   "metadata": {},
   "outputs": [],
   "source": []
  },
  {
   "cell_type": "markdown",
   "id": "a70b0345-080e-4db4-a2bb-2e717ac27158",
   "metadata": {},
   "source": [
    "## Conclusion"
   ]
  },
  {
   "cell_type": "code",
   "execution_count": null,
   "id": "5e54d789-75b6-4798-a1fc-6d7a3d4b111e",
   "metadata": {},
   "outputs": [],
   "source": []
  },
  {
   "cell_type": "markdown",
   "id": "16599d02-e2e0-4a52-8261-08ed5adae99f",
   "metadata": {},
   "source": [
    "## Attribution"
   ]
  },
  {
   "cell_type": "code",
   "execution_count": null,
   "id": "1ff58971-c971-45a4-a4e4-0530b7b3a306",
   "metadata": {},
   "outputs": [],
   "source": []
  },
  {
   "cell_type": "markdown",
   "id": "5e785c7b-a9aa-4337-90a0-9ac0101f4805",
   "metadata": {},
   "source": [
    "## Citations"
   ]
  },
  {
   "cell_type": "markdown",
   "id": "eb30a499-7f4a-4270-847c-56e09b701e7f",
   "metadata": {},
   "source": [
    "<ol>\n",
    "    <li>Wang, L., &amp; Rajan, D. (2020, June 26). An image similarity descriptor for classification tasks. Journal of Visual Communication and Image Representation. Retrieved May 22, 2022, from https://www.sciencedirect.com/science/article/pii/S1047320320300985?casa_token=hgph9GEVymkAAAAA%3AXpMKKoIT21hFFDJYO3DwyeC1IH3QsWGg6KN27ir5GUs30az1xgc_OAXCYlh20T7nxrwlcKBGnIc </li>\n",
    "    <li>Kumar, V. (2020, July 1). Age Prediction using Image Dataset using Machine Learning (K. Vijay, Ed.) [Review of Age Prediction using Image Dataset using Machine Learning]. Research Gate; Research Gate. https://www.researchgate.net/publication/343162970_Age_Prediction_using_Image_Dataset_using_Machine_Learning\n",
    "        ‌</li>\n",
    "    <li>Khaung Tin, H. H. (2012, May 12). Subjective Age Prediction of Face Images Using PCA (H. H. Khaung Tin, Ed.). Research Gate; International Journal of Innovative Technology and Exploring Engineering (IJITEE). https://www.researchgate.net/publication/263547273_Subjective_Age_Prediction_of_Face_Images_Using_PCA\n",
    "‌</li>\n",
    "    <li>MAICS 2016. (2016, June). Comparison of recent machine learning techniques for gender recognition ... Research Gate. Retrieved May 24, 2022, from https://www.researchgate.net/profile/Joseph-Lemley/publication/301780360_Comparison_of_Recent_Machine_Learning_Techniques_for_Gender_Recognition_from_Facial_Images/links/5727ecda08aee491cb414eb9/Comparison-of-Recent-Machine-Learning-Techniques-for-Gender-Recognition-from-Facial-Images.pdf </li>\n",
    "    \n",
    "</ol>"
   ]
  },
  {
   "cell_type": "code",
   "execution_count": null,
   "id": "7a207d7b-47bc-4255-b3c7-2a5dcb2e3c89",
   "metadata": {},
   "outputs": [],
   "source": []
  }
 ],
 "metadata": {
  "kernelspec": {
   "display_name": "Python 3 (ipykernel)",
   "language": "python",
   "name": "python3"
  },
  "language_info": {
   "codemirror_mode": {
    "name": "ipython",
    "version": 3
   },
   "file_extension": ".py",
   "mimetype": "text/x-python",
   "name": "python",
   "nbconvert_exporter": "python",
   "pygments_lexer": "ipython3",
   "version": "3.9.12"
  }
 },
 "nbformat": 4,
 "nbformat_minor": 5
}
