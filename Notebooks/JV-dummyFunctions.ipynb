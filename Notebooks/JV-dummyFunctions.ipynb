{
 "cells": [
  {
   "cell_type": "code",
   "execution_count": null,
   "id": "5b2559c6-3b34-4d42-9b78-c15dd69a14e5",
   "metadata": {},
   "outputs": [],
   "source": [
    "import numpy as np"
   ]
  },
  {
   "cell_type": "markdown",
   "id": "9e18ff26-6282-4992-a48d-923ff063e388",
   "metadata": {},
   "source": [
    "#### This dummy function is basically saying that of there are half as many males as females then the code will likely be true half of the time. If this dummy code doesnt perform better than our more complex code then we must be doing something wrong."
   ]
  },
  {
   "cell_type": "code",
   "execution_count": 2,
   "id": "6cefbd59-6373-4555-b870-9191398259e8",
   "metadata": {},
   "outputs": [],
   "source": [
    "predGenDumm = []\n",
    "def dummyGender(imagesArray):\n",
    "    for _ in range(len(imagesArray)):\n",
    "        x = np.random.randint(0, 2)\n",
    "        if x == 0:\n",
    "            predGenDumm.append(x)\n",
    "        else:\n",
    "            predGenDumm.append(x)"
   ]
  },
  {
   "cell_type": "markdown",
   "id": "1f0debd1-f01e-4fff-8ad1-a6b77d79ee3d",
   "metadata": {},
   "source": [
    "#### There are a lot of todlers in our data set. They are in fact one of the largers sets in the images followed by teenagers and adults. Elderly people are not there that often that this dummy model will skip them all together."
   ]
  },
  {
   "cell_type": "code",
   "execution_count": 1,
   "id": "2f46e85c-8600-4509-9bf6-6b56e71811c0",
   "metadata": {},
   "outputs": [],
   "source": [
    "predictAgeDumm = []\n",
    "def dummyAge(imagesArray):\n",
    "    options = [1, 2, 3, 4]\n",
    "    for _ in range(len(imagesArray)):\n",
    "        x = np.random.choice(options, p = [.55, .25, .13, .07] )\n",
    "        #this would mean the img is a 1 yo (majority)\n",
    "        if x ==1:\n",
    "            predictAgeDumm.append(x)\n",
    "        if x == 2:\n",
    "        #could be any age in that range (second largest)\n",
    "            randomAge = np.random.randint(2, 5)\n",
    "            predictAgeDumm.append(randomAge)\n",
    "        if x == 3:\n",
    "            randomAge = np.random.randint(20, 41)\n",
    "            predictAgeDumm.append(randomAge)\n",
    "        if x ==4:\n",
    "            randomAge = np.random.randint(60, 85)\n",
    "            predictAgeDumm.append(randomAge)"
   ]
  },
  {
   "cell_type": "code",
   "execution_count": null,
   "id": "ad0127b6-1893-4f9b-ab95-937b96ada6b1",
   "metadata": {},
   "outputs": [],
   "source": []
  },
  {
   "cell_type": "code",
   "execution_count": 3,
   "id": "9cc9eec4-9d80-41cc-ad08-2b5e263ebe14",
   "metadata": {},
   "outputs": [],
   "source": [
    "predictRaceDumm = []\n",
    "def dummyRace(imagesArray):\n",
    "    options = [1, 2, 3, 4]\n",
    "    for _ in range(len(imagesArray)):\n",
    "        x =np.random.choice(options, p = [.55, .05, .16, .15, .09] )\n",
    "        if x == 0:\n",
    "            predictRaceDumm.append(x)\n",
    "        if x == 1:\n",
    "            predictRaceDumm.append(x)\n",
    "        if x ==2:\n",
    "            predictRaceDumm.append(x)\n",
    "        if x == 3:\n",
    "            predictRaceDumm.append(x)\n",
    "        if x == 4:\n",
    "            predictRaceDumm.append(x)\n",
    "        "
   ]
  },
  {
   "cell_type": "code",
   "execution_count": null,
   "id": "84144f77-a7a2-4e20-920e-fb8e8ff73089",
   "metadata": {},
   "outputs": [],
   "source": []
  }
 ],
 "metadata": {
  "kernelspec": {
   "display_name": "Python 3 (ipykernel)",
   "language": "python",
   "name": "python3"
  },
  "language_info": {
   "codemirror_mode": {
    "name": "ipython",
    "version": 3
   },
   "file_extension": ".py",
   "mimetype": "text/x-python",
   "name": "python",
   "nbconvert_exporter": "python",
   "pygments_lexer": "ipython3",
   "version": "3.9.7"
  },
  "widgets": {
   "application/vnd.jupyter.widget-state+json": {
    "state": {},
    "version_major": 2,
    "version_minor": 0
   }
  }
 },
 "nbformat": 4,
 "nbformat_minor": 5
}
