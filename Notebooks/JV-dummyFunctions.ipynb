{
 "cells": [
  {
   "cell_type": "code",
   "execution_count": 51,
   "id": "5b2559c6-3b34-4d42-9b78-c15dd69a14e5",
   "metadata": {},
   "outputs": [],
   "source": [
    "import numpy as np\n",
    "import seaborn as sns\n",
    "from sklearn.metrics import accuracy_score,confusion_matrix,classification_report"
   ]
  },
  {
   "cell_type": "markdown",
   "id": "9e18ff26-6282-4992-a48d-923ff063e388",
   "metadata": {},
   "source": [
    "#### This dummy function is basically saying that of there are half as many males as females then the code will likely be true half of the time. If this dummy code doesnt perform better than our more complex code then we must be doing something wrong."
   ]
  },
  {
   "cell_type": "code",
   "execution_count": 90,
   "id": "6cefbd59-6373-4555-b870-9191398259e8",
   "metadata": {},
   "outputs": [],
   "source": [
    "def dummyGender(imagesArray):\n",
    "    predGenDumm = []\n",
    "    for _ in range(len(imagesArray)):\n",
    "        \n",
    "        x = np.random.randint(0, 2)\n",
    "        \n",
    "        predGenDumm.append(x)\n",
    "        \n",
    "    return predGenDumm "
   ]
  },
  {
   "cell_type": "code",
   "execution_count": 77,
   "id": "1d426d0b-7ff4-4b42-9a95-320c258def2c",
   "metadata": {},
   "outputs": [
    {
     "data": {
      "text/plain": [
       "1.0000000000000002"
      ]
     },
     "execution_count": 77,
     "metadata": {},
     "output_type": "execute_result"
    }
   ],
   "source": [
    "options = np.arange(1,10)\n",
    "p1 = [[.22], .19, [], [.12],[.11],[.07], [0.05], 0.04, [0.04]\n",
    "sum(p1)\n",
    "p = [.16, .07, 0.05,0.04,.11,.22, .12,  .19, 0.04]"
   ]
  },
  {
   "cell_type": "code",
   "execution_count": null,
   "id": "e1696e26-b2bc-4e58-b2e5-79c5adfc51b3",
   "metadata": {},
   "outputs": [],
   "source": [
    "6    2015\n",
    "8    1866\n",
    "1    1586\n",
    "7    1213\n",
    "5    1118\n",
    "2     724\n",
    "3     476\n",
    "9     417\n",
    "4     362\n",
    "if x ==1:\n",
    "            predictAgeDumm.append(x)\n",
    "        if x == 2:\n",
    "        #could be any age in that range (second largest)\n",
    "            randomAge = np.random.randint(2, 5)\n",
    "            predictAgeDumm.append(randomAge)\n",
    "        if x == 3:\n",
    "            randomAge = np.random.randint(20, 41)\n",
    "            predictAgeDumm.append(randomAge)\n",
    "        if x ==4:\n",
    "            randomAge = np.random.randint(60, 85)\n",
    "            predictAgeDumm.append(randomAge"
   ]
  },
  {
   "cell_type": "markdown",
   "id": "1f0debd1-f01e-4fff-8ad1-a6b77d79ee3d",
   "metadata": {},
   "source": [
    "#### There are a lot of todlers in our data set. They are in fact one of the largers sets in the images followed by teenagers and adults. Elderly people are not there that often that this dummy model will skip them all together."
   ]
  },
  {
   "cell_type": "code",
   "execution_count": 82,
   "id": "2f46e85c-8600-4509-9bf6-6b56e71811c0",
   "metadata": {},
   "outputs": [],
   "source": [
    "def dummyAge(imagesArray):\n",
    "    predictAgeDumm = []\n",
    "    options = np.arange(1,10)\n",
    "    for _ in range(len(imagesArray)):\n",
    "        x = np.random.choice(options, p = [.16, .07, 0.05,0.04,.11,.22, .12,  .19, 0.04])\n",
    "        #this would mean the img is a 1 yo (majority)\n",
    "        predictAgeDumm.append(x)\n",
    "    return predictAgeDumm "
   ]
  },
  {
   "cell_type": "code",
   "execution_count": null,
   "id": "ad0127b6-1893-4f9b-ab95-937b96ada6b1",
   "metadata": {},
   "outputs": [],
   "source": [
    "6    0.039695\n",
    "8    0.036760\n",
    "1    0.031244\n",
    "7    0.023896\n",
    "5    0.022024\n",
    "2    0.014263\n",
    "3    0.009377\n",
    "9    0.008215\n",
    "4    0.007131"
   ]
  },
  {
   "cell_type": "code",
   "execution_count": 98,
   "id": "9cc9eec4-9d80-41cc-ad08-2b5e263ebe14",
   "metadata": {},
   "outputs": [],
   "source": [
    "\n",
    "def dummyRace(imagesArray):\n",
    "    predictRaceDumm = []\n",
    "    options = [1, 2, 3, 4]\n",
    "    for _ in range(len(imagesArray)):\n",
    "        x =np.random.choice(options, p = [.55, .1, .18, .17,] )\n",
    "        predictRaceDumm.append(x)\n",
    "    return predictRaceDumm   "
   ]
  },
  {
   "cell_type": "code",
   "execution_count": 32,
   "id": "84144f77-a7a2-4e20-920e-fb8e8ff73089",
   "metadata": {},
   "outputs": [],
   "source": [
    "\"\"\"Labels and images collector\"\"\"\n",
    "import os\n",
    "import numpy as np\n",
    "from os import listdir\n",
    "from os.path import isfile, join\n",
    "import pandas as pd\n",
    "import matplotlib.pyplot as plt\n",
    "mypath = \"/Users/jenifervivar/Desktop/Desktop - jenifer’s MacBook Air/Machine_learning_code/crop_part1/\"\n",
    " \n",
    "#mypath = '/Users/jenifervivar/Desktop/crop_part1/'#'./Data/CroppedImages'\n",
    "filenames = np.array([f for f in listdir(mypath) if isfile(join(mypath, f))])\n",
    "splitcolumns = [x.split('_')[0:3] + [x] for x in filenames if x.count('_') == 3]\n",
    "filecolumns = ['age','gender','race','file']\n",
    "filedf = pd.DataFrame(data = splitcolumns, columns = filecolumns)\n",
    "filedfnona = filedf.dropna()\n",
    "filedfnona['age']  = filedfnona['age'].astype(int)\n",
    "filedfnona['race'] = filedfnona['race'].astype(int)\n",
    "filedfnona['gender'] = filedfnona['gender'].astype(int)\n",
    "\n",
    "#path = '/Users/jenifervivar/Desktop/UTKface_inthewild/part3'\n",
    "#listing = os.listdir(mypath) \n",
    "images = []\n",
    "for img in filedfnona['file']:\n",
    "    image = plt.imread(mypath + img)\n",
    "    #image = rgb2gray(image)\n",
    "    images.append(image)"
   ]
  },
  {
   "cell_type": "code",
   "execution_count": 45,
   "id": "e7578a82-d388-497a-8a57-0559eeeda124",
   "metadata": {},
   "outputs": [
    {
     "data": {
      "text/plain": [
       "9777"
      ]
     },
     "execution_count": 45,
     "metadata": {},
     "output_type": "execute_result"
    }
   ],
   "source": [
    "len(images)"
   ]
  },
  {
   "cell_type": "code",
   "execution_count": null,
   "id": "5c0215d3-e7a4-473a-92e8-d663d2cf5922",
   "metadata": {},
   "outputs": [],
   "source": [
    "#1 infancy (0-2)\n",
    "#2 Early Childhood (Ages 3-5)\n",
    "#3 Middle Childhood (Ages 6-8)\n",
    "#4 Late Childhood (Ages 9-11)\n",
    "#5 Adolescence (Ages 12-20)\n",
    "#6 Early Adulthood (Ages 21-35)\n",
    "#7 Midlife (Ages 36-50)\n",
    "#8 Mature Adulthood (Ages 51-79)\n",
    "#9 Late Adulthood (Age 80+)"
   ]
  },
  {
   "cell_type": "code",
   "execution_count": 33,
   "id": "adfe7269-6ddf-485b-be88-647cf14d9b0f",
   "metadata": {},
   "outputs": [],
   "source": [
    "balanced = filedfnona"
   ]
  },
  {
   "cell_type": "code",
   "execution_count": 34,
   "id": "06df9ef4-04e8-4973-961e-08fdfa8ff445",
   "metadata": {},
   "outputs": [],
   "source": [
    "balanced['age']=np.where((balanced.age==2), 1, balanced.age)"
   ]
  },
  {
   "cell_type": "code",
   "execution_count": 35,
   "id": "90fd6679-4f64-46a9-983f-8e736905e70f",
   "metadata": {},
   "outputs": [],
   "source": [
    "balanced['age']=np.where(((balanced.age>=3) & (balanced.age<6)), 2, balanced.age)"
   ]
  },
  {
   "cell_type": "code",
   "execution_count": 36,
   "id": "5cf5d9ce-fb6a-497b-8944-e1927d4b0378",
   "metadata": {},
   "outputs": [],
   "source": [
    "balanced['age']=np.where(((balanced.age>=6) & (balanced.age<9)), 3, balanced.age)\n"
   ]
  },
  {
   "cell_type": "code",
   "execution_count": 37,
   "id": "16f83e8b-d1fb-4490-854a-679d1f07937c",
   "metadata": {},
   "outputs": [],
   "source": [
    "balanced['age']=np.where(((balanced.age>=9) & (balanced.age<12)), 4, balanced.age)\n"
   ]
  },
  {
   "cell_type": "code",
   "execution_count": 38,
   "id": "a298cc04-4a2f-4d74-a1bd-9eabd9759db4",
   "metadata": {},
   "outputs": [],
   "source": [
    "balanced['age']=np.where(((balanced.age>=12) & (balanced.age<21)), 5, balanced.age)\n"
   ]
  },
  {
   "cell_type": "code",
   "execution_count": 39,
   "id": "fef10bd8-6835-4fb6-bdea-f0e97696d442",
   "metadata": {},
   "outputs": [],
   "source": [
    "balanced['age']=np.where(((balanced.age>=21) & (balanced.age<36)), 6, balanced.age)\n"
   ]
  },
  {
   "cell_type": "code",
   "execution_count": 40,
   "id": "97e3a932-b391-45ae-8903-fd74797e2ba3",
   "metadata": {},
   "outputs": [],
   "source": [
    "balanced['age']=np.where(((balanced.age>=36) & (balanced.age<51)), 7, balanced.age)\n"
   ]
  },
  {
   "cell_type": "code",
   "execution_count": 41,
   "id": "d8e8c05d-5d7b-458d-a6b1-ba0e9dbdaaab",
   "metadata": {},
   "outputs": [],
   "source": [
    "balanced['age']=np.where(((balanced.age>=51) & (balanced.age<80)), 8, balanced.age)\n"
   ]
  },
  {
   "cell_type": "code",
   "execution_count": 42,
   "id": "b48d491d-9077-4ac4-a893-36569f45dbee",
   "metadata": {},
   "outputs": [],
   "source": [
    "balanced['age']=np.where((balanced.age>=80), 9, balanced.age)"
   ]
  },
  {
   "cell_type": "code",
   "execution_count": 71,
   "id": "a0db1df0-787b-456f-abb1-03626e7b527a",
   "metadata": {},
   "outputs": [
    {
     "data": {
      "text/plain": [
       "6    2015\n",
       "8    1866\n",
       "1    1586\n",
       "7    1213\n",
       "5    1118\n",
       "2     724\n",
       "3     476\n",
       "9     417\n",
       "4     362\n",
       "Name: age, dtype: int64"
      ]
     },
     "execution_count": 71,
     "metadata": {},
     "output_type": "execute_result"
    }
   ],
   "source": [
    "balanced['age'].value_counts()"
   ]
  },
  {
   "cell_type": "code",
   "execution_count": 44,
   "id": "81f20b11-a686-42ed-8b4b-63bf4f2a7143",
   "metadata": {},
   "outputs": [
    {
     "data": {
      "text/plain": [
       "9777"
      ]
     },
     "execution_count": 44,
     "metadata": {},
     "output_type": "execute_result"
    }
   ],
   "source": [
    "len(balanced['age'])"
   ]
  },
  {
   "cell_type": "code",
   "execution_count": 53,
   "id": "b32f8888-afec-4abe-a431-c4f7da7c6cea",
   "metadata": {},
   "outputs": [
    {
     "data": {
      "text/plain": [
       "0    5264\n",
       "2    1553\n",
       "3    1452\n",
       "4    1103\n",
       "1     405\n",
       "Name: race, dtype: int64"
      ]
     },
     "execution_count": 53,
     "metadata": {},
     "output_type": "execute_result"
    }
   ],
   "source": [
    "balanced['race'].value_counts()"
   ]
  },
  {
   "cell_type": "code",
   "execution_count": 54,
   "id": "62e5c502-af87-4769-93bb-a4c24e50652c",
   "metadata": {},
   "outputs": [
    {
     "data": {
      "text/plain": [
       "1    5406\n",
       "0    4371\n",
       "Name: gender, dtype: int64"
      ]
     },
     "execution_count": 54,
     "metadata": {},
     "output_type": "execute_result"
    }
   ],
   "source": [
    "balanced['gender'].value_counts()"
   ]
  },
  {
   "cell_type": "code",
   "execution_count": 92,
   "id": "7e139bd0-7bdf-4998-9602-14134ca8b6af",
   "metadata": {},
   "outputs": [],
   "source": [
    "ydummy_Gender = dummyGender(images)\n",
    "y_dummy_race = dummyRace(images)\n",
    "y_dummy_age = dummyAge(images)"
   ]
  },
  {
   "cell_type": "code",
   "execution_count": 93,
   "id": "0505a68e-2685-47c3-a3c4-7b6dde874dcf",
   "metadata": {},
   "outputs": [],
   "source": [
    "def confusion_plot(y_test, y_pred, title, labelsx, labelsy):\n",
    "    cf_matrix = confusion_matrix(y_test, y_pred)\n",
    "\n",
    "    ax = sns.heatmap(cf_matrix, annot=True, fmt = 'd', cmap='Blues')\n",
    "\n",
    "    ax.set_title(title);\n",
    "    ax.set_xlabel('\\nPredicted Values')\n",
    "    ax.set_ylabel('Actual Values ');\n",
    "\n",
    "## Ticket labels - List must be in alphabetical order\n",
    "    ax.xaxis.set_ticklabels(labelsx)\n",
    "    ax.yaxis.set_ticklabels(labelsy)\n",
    "\n",
    "## Display the visualization of the Confusion Matrix.\n",
    "    plt.show()"
   ]
  },
  {
   "cell_type": "code",
   "execution_count": 94,
   "id": "10f3e3f4-b5f4-480d-bbc0-b34a7c6e52ad",
   "metadata": {},
   "outputs": [],
   "source": [
    "dummy_gr_score = accuracy_score(balanced['gender'],ydummy_Gender)\n",
    "dummy_rc_score  = accuracy_score(balanced['race'],y_dummy_race)\n",
    "dumy_age_score = accuracy_score(balanced['age'],y_dummy_age)"
   ]
  },
  {
   "cell_type": "code",
   "execution_count": 101,
   "id": "caea4ddf-daf3-4f5a-abe4-79dd29a02716",
   "metadata": {},
   "outputs": [
    {
     "name": "stdout",
     "output_type": "stream",
     "text": [
      "       Classififcation Report of Dummy Model on Gender\n",
      "  \n",
      "              precision    recall  f1-score   support\n",
      "\n",
      "           0       0.45      0.51      0.48      4371\n",
      "           1       0.56      0.50      0.53      5406\n",
      "\n",
      "    accuracy                           0.51      9777\n",
      "   macro avg       0.51      0.51      0.50      9777\n",
      "weighted avg       0.51      0.51      0.51      9777\n",
      "\n"
     ]
    }
   ],
   "source": [
    "print(\"       Classififcation Report of Dummy Model on Gender\")\n",
    "print(\"  \")\n",
    "print(classification_report(balanced['gender'],ydummy_Gender))\n"
   ]
  },
  {
   "cell_type": "code",
   "execution_count": 102,
   "id": "d4bfb77c-71e8-4b74-a990-4848557d1d30",
   "metadata": {},
   "outputs": [
    {
     "name": "stdout",
     "output_type": "stream",
     "text": [
      "       Classififcation Report of Dummy Model on Race\n",
      "  \n",
      "              precision    recall  f1-score   support\n",
      "\n",
      "           0       0.00      0.00      0.00      5264\n",
      "           1       0.04      0.53      0.07       405\n",
      "           2       0.16      0.10      0.13      1553\n",
      "           3       0.14      0.17      0.15      1452\n",
      "           4       0.09      0.15      0.11      1103\n",
      "\n",
      "    accuracy                           0.08      9777\n",
      "   macro avg       0.09      0.19      0.09      9777\n",
      "weighted avg       0.06      0.08      0.06      9777\n",
      "\n"
     ]
    },
    {
     "name": "stderr",
     "output_type": "stream",
     "text": [
      "/Users/jenifervivar/opt/anaconda3/lib/python3.9/site-packages/sklearn/metrics/_classification.py:1327: UndefinedMetricWarning: Precision and F-score are ill-defined and being set to 0.0 in labels with no predicted samples. Use `zero_division` parameter to control this behavior.\n",
      "  _warn_prf(average, modifier, msg_start, len(result))\n",
      "/Users/jenifervivar/opt/anaconda3/lib/python3.9/site-packages/sklearn/metrics/_classification.py:1327: UndefinedMetricWarning: Precision and F-score are ill-defined and being set to 0.0 in labels with no predicted samples. Use `zero_division` parameter to control this behavior.\n",
      "  _warn_prf(average, modifier, msg_start, len(result))\n",
      "/Users/jenifervivar/opt/anaconda3/lib/python3.9/site-packages/sklearn/metrics/_classification.py:1327: UndefinedMetricWarning: Precision and F-score are ill-defined and being set to 0.0 in labels with no predicted samples. Use `zero_division` parameter to control this behavior.\n",
      "  _warn_prf(average, modifier, msg_start, len(result))\n"
     ]
    }
   ],
   "source": [
    "print(\"       Classififcation Report of Dummy Model on Race\")\n",
    "print(\"  \")\n",
    "print(classification_report(balanced['race'],y_dummy_race))"
   ]
  },
  {
   "cell_type": "code",
   "execution_count": 103,
   "id": "6569177d-96c4-4c7a-bc61-6e65e4e9d0d3",
   "metadata": {},
   "outputs": [
    {
     "name": "stdout",
     "output_type": "stream",
     "text": [
      "       Classififcation Report of Dummy Model on Age\n",
      "  \n",
      "              precision    recall  f1-score   support\n",
      "\n",
      "           1       0.16      0.16      0.16      1586\n",
      "           2       0.06      0.06      0.06       724\n",
      "           3       0.04      0.04      0.04       476\n",
      "           4       0.03      0.04      0.04       362\n",
      "           5       0.11      0.11      0.11      1118\n",
      "           6       0.20      0.22      0.21      2015\n",
      "           7       0.12      0.11      0.11      1213\n",
      "           8       0.20      0.20      0.20      1866\n",
      "           9       0.03      0.03      0.03       417\n",
      "\n",
      "    accuracy                           0.14      9777\n",
      "   macro avg       0.11      0.11      0.11      9777\n",
      "weighted avg       0.14      0.14      0.14      9777\n",
      "\n"
     ]
    }
   ],
   "source": [
    "print(\"       Classififcation Report of Dummy Model on Age\")\n",
    "print(\"  \")\n",
    "print(classification_report(balanced['age'],y_dummy_age))"
   ]
  },
  {
   "cell_type": "code",
   "execution_count": 57,
   "id": "16011c12-2658-4736-bc18-f83539a1b7fe",
   "metadata": {},
   "outputs": [
    {
     "data": {
      "image/png": "[encoded data removed]",
      "text/plain": [
       "<Figure size 432x288 with 2 Axes>"
      ]
     },
     "metadata": {
      "needs_background": "light"
     },
     "output_type": "display_data"
    }
   ],
   "source": [
    "x = [\"Male\", \"Female\"]\n",
    "confusion_plot(balanced['gender'],ydummy_Gender, \"Dummy Model prediction on Genger\",x,x )"
   ]
  },
  {
   "cell_type": "code",
   "execution_count": 58,
   "id": "10f558f0-d1d7-4259-a91e-39e4c2c6b3ea",
   "metadata": {},
   "outputs": [
    {
     "data": {
      "image/png": "[encoded data removed]",
      "text/plain": [
       "<Figure size 432x288 with 2 Axes>"
      ]
     },
     "metadata": {
      "needs_background": "light"
     },
     "output_type": "display_data"
    }
   ],
   "source": [
    "x = [\"White\", \"Black\", \"Asian\", \"Indian\", \"Others\"]\n",
    "\n",
    "confusion_plot(balanced['race'],y_dummy_race, \"Dummy Model prediction on Race\",x,x )"
   ]
  },
  {
   "cell_type": "code",
   "execution_count": 60,
   "id": "dd888043-cb68-4fe2-8973-8af070bcd780",
   "metadata": {},
   "outputs": [
    {
     "ename": "ValueError",
     "evalue": "The number of FixedLocator locations (19), usually from a call to set_ticks, does not match the number of ticklabels (9).",
     "output_type": "error",
     "traceback": [
      "\u001b[0;31m---------------------------------------------------------------------------\u001b[0m",
      "\u001b[0;31mValueError\u001b[0m                                Traceback (most recent call last)",
      "Input \u001b[0;32mIn [60]\u001b[0m, in \u001b[0;36m<cell line: 11>\u001b[0;34m()\u001b[0m\n\u001b[1;32m      1\u001b[0m x \u001b[38;5;241m=\u001b[39m[ \u001b[38;5;124m\"\u001b[39m\u001b[38;5;124minfancy(0-2)\u001b[39m\u001b[38;5;124m\"\u001b[39m,\u001b[38;5;124m\"\u001b[39m\u001b[38;5;124mEarly Childhood(Ages 3-5)\u001b[39m\u001b[38;5;124m\"\u001b[39m,\u001b[38;5;124m\"\u001b[39m\u001b[38;5;124mMiddle Childhood (Ages 6-8)\u001b[39m\u001b[38;5;124m\"\u001b[39m,\u001b[38;5;124m\"\u001b[39m\u001b[38;5;124mLate Childhood (Ages 9-11)\u001b[39m\u001b[38;5;124m\"\u001b[39m,\\\n\u001b[1;32m      2\u001b[0m    \u001b[38;5;124m\"\u001b[39m\u001b[38;5;124mAdolescence (Ages 12-20)\u001b[39m\u001b[38;5;124m\"\u001b[39m,\u001b[38;5;124m\"\u001b[39m\u001b[38;5;124mEarly Adulthood (Ages 21-35)\u001b[39m\u001b[38;5;124m\"\u001b[39m,\u001b[38;5;124m\"\u001b[39m\u001b[38;5;124mMidlife (Ages 36-50)\u001b[39m\u001b[38;5;124m\"\u001b[39m,\\\n\u001b[1;32m      3\u001b[0m     \u001b[38;5;124m\"\u001b[39m\u001b[38;5;124mMature Adulthood (Ages 51-79)\u001b[39m\u001b[38;5;124m\"\u001b[39m,\u001b[38;5;124m\"\u001b[39m\u001b[38;5;124mLate Adulthood (Age 80+)\u001b[39m\u001b[38;5;124m\"\u001b[39m]\n\u001b[1;32m      5\u001b[0m \u001b[38;5;66;03m#5 Adolescence (Ages 12-20)\u001b[39;00m\n\u001b[1;32m      6\u001b[0m \u001b[38;5;66;03m#6 Early Adulthood (Ages 21-35)\u001b[39;00m\n\u001b[1;32m      7\u001b[0m \u001b[38;5;66;03m#7 Midlife (Ages 36-50)\u001b[39;00m\n\u001b[1;32m      8\u001b[0m \u001b[38;5;66;03m#8 Mature Adulthood (Ages 51-79)\u001b[39;00m\n\u001b[1;32m      9\u001b[0m \u001b[38;5;66;03m#9 Late Adulthood (Age 80+)\u001b[39;00m\n\u001b[0;32m---> 11\u001b[0m \u001b[43mconfusion_plot\u001b[49m\u001b[43m(\u001b[49m\u001b[43mbalanced\u001b[49m\u001b[43m[\u001b[49m\u001b[38;5;124;43m'\u001b[39;49m\u001b[38;5;124;43mage\u001b[39;49m\u001b[38;5;124;43m'\u001b[39;49m\u001b[43m]\u001b[49m\u001b[43m,\u001b[49m\u001b[43my_dummy_age\u001b[49m\u001b[43m,\u001b[49m\u001b[43m \u001b[49m\u001b[38;5;124;43m\"\u001b[39;49m\u001b[38;5;124;43mDummy Model prediction on Age\u001b[39;49m\u001b[38;5;124;43m\"\u001b[39;49m\u001b[43m,\u001b[49m\u001b[43mx\u001b[49m\u001b[43m,\u001b[49m\u001b[43mx\u001b[49m\u001b[43m \u001b[49m\u001b[43m)\u001b[49m\n",
      "Input \u001b[0;32mIn [50]\u001b[0m, in \u001b[0;36mconfusion_plot\u001b[0;34m(y_test, y_pred, title, labelsx, labelsy)\u001b[0m\n\u001b[1;32m      8\u001b[0m     ax\u001b[38;5;241m.\u001b[39mset_ylabel(\u001b[38;5;124m'\u001b[39m\u001b[38;5;124mActual Values \u001b[39m\u001b[38;5;124m'\u001b[39m);\n\u001b[1;32m     10\u001b[0m \u001b[38;5;66;03m## Ticket labels - List must be in alphabetical order\u001b[39;00m\n\u001b[0;32m---> 11\u001b[0m     \u001b[43max\u001b[49m\u001b[38;5;241;43m.\u001b[39;49m\u001b[43mxaxis\u001b[49m\u001b[38;5;241;43m.\u001b[39;49m\u001b[43mset_ticklabels\u001b[49m\u001b[43m(\u001b[49m\u001b[43mlabelsx\u001b[49m\u001b[43m)\u001b[49m\n\u001b[1;32m     12\u001b[0m     ax\u001b[38;5;241m.\u001b[39myaxis\u001b[38;5;241m.\u001b[39mset_ticklabels(labelsy)\n\u001b[1;32m     14\u001b[0m \u001b[38;5;66;03m## Display the visualization of the Confusion Matrix.\u001b[39;00m\n",
      "File \u001b[0;32m~/opt/anaconda3/lib/python3.9/site-packages/matplotlib/axis.py:1720\u001b[0m, in \u001b[0;36mAxis.set_ticklabels\u001b[0;34m(self, ticklabels, minor, **kwargs)\u001b[0m\n\u001b[1;32m   1716\u001b[0m \u001b[38;5;28;01mif\u001b[39;00m \u001b[38;5;28misinstance\u001b[39m(locator, mticker\u001b[38;5;241m.\u001b[39mFixedLocator):\n\u001b[1;32m   1717\u001b[0m     \u001b[38;5;66;03m# Passing [] as a list of ticklabels is often used as a way to\u001b[39;00m\n\u001b[1;32m   1718\u001b[0m     \u001b[38;5;66;03m# remove all tick labels, so only error for > 0 ticklabels\u001b[39;00m\n\u001b[1;32m   1719\u001b[0m     \u001b[38;5;28;01mif\u001b[39;00m \u001b[38;5;28mlen\u001b[39m(locator\u001b[38;5;241m.\u001b[39mlocs) \u001b[38;5;241m!=\u001b[39m \u001b[38;5;28mlen\u001b[39m(ticklabels) \u001b[38;5;129;01mand\u001b[39;00m \u001b[38;5;28mlen\u001b[39m(ticklabels) \u001b[38;5;241m!=\u001b[39m \u001b[38;5;241m0\u001b[39m:\n\u001b[0;32m-> 1720\u001b[0m         \u001b[38;5;28;01mraise\u001b[39;00m \u001b[38;5;167;01mValueError\u001b[39;00m(\n\u001b[1;32m   1721\u001b[0m             \u001b[38;5;124m\"\u001b[39m\u001b[38;5;124mThe number of FixedLocator locations\u001b[39m\u001b[38;5;124m\"\u001b[39m\n\u001b[1;32m   1722\u001b[0m             \u001b[38;5;124mf\u001b[39m\u001b[38;5;124m\"\u001b[39m\u001b[38;5;124m (\u001b[39m\u001b[38;5;132;01m{\u001b[39;00m\u001b[38;5;28mlen\u001b[39m(locator\u001b[38;5;241m.\u001b[39mlocs)\u001b[38;5;132;01m}\u001b[39;00m\u001b[38;5;124m), usually from a call to\u001b[39m\u001b[38;5;124m\"\u001b[39m\n\u001b[1;32m   1723\u001b[0m             \u001b[38;5;124m\"\u001b[39m\u001b[38;5;124m set_ticks, does not match\u001b[39m\u001b[38;5;124m\"\u001b[39m\n\u001b[1;32m   1724\u001b[0m             \u001b[38;5;124mf\u001b[39m\u001b[38;5;124m\"\u001b[39m\u001b[38;5;124m the number of ticklabels (\u001b[39m\u001b[38;5;132;01m{\u001b[39;00m\u001b[38;5;28mlen\u001b[39m(ticklabels)\u001b[38;5;132;01m}\u001b[39;00m\u001b[38;5;124m).\u001b[39m\u001b[38;5;124m\"\u001b[39m)\n\u001b[1;32m   1725\u001b[0m     tickd \u001b[38;5;241m=\u001b[39m {loc: lab \u001b[38;5;28;01mfor\u001b[39;00m loc, lab \u001b[38;5;129;01min\u001b[39;00m \u001b[38;5;28mzip\u001b[39m(locator\u001b[38;5;241m.\u001b[39mlocs, ticklabels)}\n\u001b[1;32m   1726\u001b[0m     func \u001b[38;5;241m=\u001b[39m functools\u001b[38;5;241m.\u001b[39mpartial(\u001b[38;5;28mself\u001b[39m\u001b[38;5;241m.\u001b[39m_format_with_dict, tickd)\n",
      "\u001b[0;31mValueError\u001b[0m: The number of FixedLocator locations (19), usually from a call to set_ticks, does not match the number of ticklabels (9)."
     ]
    },
    {
     "data": {
      "image/png": "[encoded data removed]",
      "text/plain": [
       "<Figure size 432x288 with 2 Axes>"
      ]
     },
     "metadata": {
      "needs_background": "light"
     },
     "output_type": "display_data"
    }
   ],
   "source": [
    "x =[ \"infancy(0-2)\",\"Early Childhood(Ages 3-5)\",\"Middle Childhood (Ages 6-8)\",\"Late Childhood (Ages 9-11)\",\\\n",
    "   \"Adolescence (Ages 12-20)\",\"Early Adulthood (Ages 21-35)\",\"Midlife (Ages 36-50)\",\\\n",
    "    \"Mature Adulthood (Ages 51-79)\",\"Late Adulthood (Age 80+)\"]\n",
    "\n",
    "#5 Adolescence (Ages 12-20)\n",
    "#6 Early Adulthood (Ages 21-35)\n",
    "#7 Midlife (Ages 36-50)\n",
    "#8 Mature Adulthood (Ages 51-79)\n",
    "#9 Late Adulthood (Age 80+)\n",
    "\n",
    "confusion_plot(balanced['age'],y_dummy_age, \"Dummy Model prediction on Age\",x,x )"
   ]
  },
  {
   "cell_type": "code",
   "execution_count": null,
   "id": "b54a0bf4-cf11-412f-8b32-fc082fcfc482",
   "metadata": {},
   "outputs": [],
   "source": []
  }
 ],
 "metadata": {
  "kernelspec": {
   "display_name": "Python 3 (ipykernel)",
   "language": "python",
   "name": "python3"
  },
  "language_info": {
   "codemirror_mode": {
    "name": "ipython",
    "version": 3
   },
   "file_extension": ".py",
   "mimetype": "text/x-python",
   "name": "python",
   "nbconvert_exporter": "python",
   "pygments_lexer": "ipython3",
   "version": "3.9.12"
  },
  "widgets": {
   "application/vnd.jupyter.widget-state+json": {
    "state": {},
    "version_major": 2,
    "version_minor": 0
   }
  }
 },
 "nbformat": 4,
 "nbformat_minor": 5
}
