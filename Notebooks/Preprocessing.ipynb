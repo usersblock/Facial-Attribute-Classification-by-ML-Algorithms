{
 "cells": [
  {
   "cell_type": "code",
   "execution_count": 22,
   "id": "8695a78a-53c7-49be-8194-c46500d79116",
   "metadata": {},
   "outputs": [],
   "source": [
    "import sys\n",
    "import pandas as pd\n",
    "import numpy as np\n",
    "from ipynb.fs.full.SIFT_to_Features import SIFT_path_to_Features,SIFT_df_to_Features,SIFT_np_to_Features\n",
    "sys.path.insert(0, '..\\src\\data')\n",
    "import make_dataset_beta as md\n",
    "from sklearn.model_selection import train_test_split\n",
    "from sklearn.preprocessing import LabelEncoder\n",
    "from imblearn.over_sampling import (RandomOverSampler, \n",
    "                                    SMOTE, \n",
    "                                    ADASYN)\n",
    "from sklearn.decomposition import PCA\n",
    "from sklearn.ensemble import RandomForestClassifier\n",
    "from sklearn.feature_selection import SelectFromModel"
   ]
  },
  {
   "cell_type": "code",
   "execution_count": 42,
   "id": "c22f1770-9226-4bc0-8907-afdfbfdb887f",
   "metadata": {},
   "outputs": [],
   "source": [
    "import sys\n",
    "import numpy as np\n",
    "from sklearn.model_selection import train_test_split\n",
    "import matplotlib.pyplot as plt\n",
    "from scipy.cluster.vq import vq, kmeans\n",
    "from scipy.spatial.distance import cdist\n",
    "import pandas as pd\n",
    "import cv2"
   ]
  },
  {
   "cell_type": "code",
   "execution_count": 40,
   "id": "6c4b169b-23f9-43ee-a0a8-fb71174e3be5",
   "metadata": {},
   "outputs": [],
   "source": [
    "# Get Image Descriptors, which are a combination of points on an image and the description of surrounding pixels.\n",
    "\n",
    "def get_descriptors(nparrays,nfeatures):\n",
    "    sift = cv2.SIFT_create(nfeatures = nfeatures)\n",
    "    container = []\n",
    "    for i in nparrays:\n",
    "        img_bw = cv2.cvtColor(i, cv2.COLOR_BGR2GRAY)\n",
    "        keypoint,descriptor = sift.detectAndCompute(img_bw,None)\n",
    "        container.append([keypoint,descriptor])\n",
    "    return container\n",
    "\n",
    "#For a collection of image area descriptions, get the Kmeans of n clusters. This will be what future images are compared to.\n",
    "\n",
    "def get_vocab(descriptors,n):\n",
    "    descriptor_container = []\n",
    "    for i in descriptors:\n",
    "        if i[1] is None:\n",
    "            continue\n",
    "        for j in i[1]:\n",
    "            descriptor_container.append(j)\n",
    "    vocab = kmeans(descriptor_container,n)\n",
    "    return vocab\n",
    "\n",
    "# For each image, get its descriptors. For each descriptor, get the closest Kmean descriptor in vocab and add 1 to its index in a histogram.\n",
    "# Return a histogram per image. This histogram will be passed as a feature for modeling.\n",
    "\n",
    "def descriptor_to_vocab(nparrays,vocab):\n",
    "    sift = cv2.SIFT_create()\n",
    "    container = []\n",
    "    for i in nparrays:\n",
    "        img_bw = cv2.cvtColor(i, cv2.COLOR_BGR2GRAY)\n",
    "        keypoint,descriptor = sift.detectAndCompute(img_bw,None)\n",
    "        if descriptor is not None:\n",
    "            dist = cdist(descriptor,vocab[0],'euclidean')\n",
    "            bin_assignment = np.argmin(dist,axis = 1)\n",
    "        else:\n",
    "            bin_assignment = []\n",
    "        image_feats = np.zeros(len(vocab[0]))\n",
    "        for j in bin_assignment:\n",
    "            image_feats[j] += 1\n",
    "        container.append(image_feats)\n",
    "    return container\n",
    "\n",
    "# Normalizes histograms from images so that they may be used in ML inputs\n",
    "\n",
    "def normalize_histograms(histarray):\n",
    "    histarray = np.array(histarray)\n",
    "    feats_norm_div = np.linalg.norm(histarray,axis = 1)\n",
    "    for i in range(0,histarray.shape[0]):\n",
    "        histarray[i] = histarray[i]/feats_norm_div[i]\n",
    "    return histarray"
   ]
  },
  {
   "cell_type": "code",
   "execution_count": 23,
   "id": "9740cae4-2102-40d6-9b7c-8450a48809f4",
   "metadata": {},
   "outputs": [],
   "source": [
    "# Rebalancing labels\n",
    "def Rebalance_Labels(Xdf,column):\n",
    "    nonadf = Xdf.dropna()\n",
    "    X = nonadf['file']\n",
    "    y = nonadf[column].astype(int)\n",
    "    X_train, X_test, y_train, y_test = train_test_split(X, y, test_size=0.33, random_state=42)\n",
    "    y_train_encoded = LabelEncoder().fit_transform(y_train)\n",
    "    oversample = RandomOverSampler()\n",
    "    X_balanced_train, y_balanced_train = oversample.fit_resample(X_train, y_train_encoded)\n",
    "    train_df = pd.DataFrame(np.column_stack((X_balanced_train, y_balanced_train)))\n",
    "    test_df = pd.DataFrame(np.column_stack((X_test, y_test)))\n",
    "    return [train_df,test_df]"
   ]
  },
  {
   "cell_type": "code",
   "execution_count": 24,
   "id": "1045d909-541f-431f-9f95-4c770896ba26",
   "metadata": {},
   "outputs": [],
   "source": [
    "# PCA\n",
    "def PCA_pipeline(Xcolumn,n_components):\n",
    "    pca = PCA(n_components = n_components)\n",
    "    reduced_column = pca.fit_transform(Xcolumn)\n",
    "    return reduced_column"
   ]
  },
  {
   "cell_type": "code",
   "execution_count": 25,
   "id": "88ce158b-f3e1-4ddb-9874-c724ae167c9a",
   "metadata": {},
   "outputs": [],
   "source": [
    "# RFS\n",
    "def RFS_pipeline(Xdf,ydf,n_estimators):\n",
    "    selector = SelectFromModel(RandomForestClassifier(n_estimators = n_estimators))\n",
    "    selector.fit(Xdf, ydf)\n",
    "    selected_feature= Xdf.columns[(selector.get_support())]\n",
    "    selected_df = Xdf.loc[:, selected_feature]\n",
    "    return [selected_df,ydf]"
   ]
  },
  {
   "cell_type": "code",
   "execution_count": 37,
   "id": "8680349c-c79c-4800-9f09-71a853802d5b",
   "metadata": {},
   "outputs": [],
   "source": [
    "agetestnp = np.load('../data/raw/BalancedRaw/nprawtestbalancedlabelsage.npy',allow_pickle=True)"
   ]
  },
  {
   "cell_type": "code",
   "execution_count": 39,
   "id": "fbd3f35f-c695-4ee8-be66-66fa78322af8",
   "metadata": {},
   "outputs": [],
   "source": [
    "agetrainnp = np.load('../data/raw/BalancedRaw/nprawtrainbalancedlabelsage.npy',allow_pickle=True)"
   ]
  },
  {
   "cell_type": "code",
   "execution_count": 44,
   "id": "457085a5-c8ef-4f2c-938f-0cd3946af624",
   "metadata": {},
   "outputs": [
    {
     "name": "stderr",
     "output_type": "stream",
     "text": [
      "C:\\Users\\thanh\\AppData\\Local\\Temp\\ipykernel_22272\\2020256902.py:50: RuntimeWarning: invalid value encountered in true_divide\n",
      "  histarray[i] = histarray[i]/feats_norm_div[i]\n"
     ]
    }
   ],
   "source": [
    "descriptors = get_descriptors(agetrainnp,100)\n",
    "vocab = get_vocab(descriptors[:100],200)\n",
    "histarraytrain = descriptor_to_vocab(agetrainnp,vocab)\n",
    "histarraytest = descriptor_to_vocab(agetestnp,vocab)\n",
    "normalizehisttrain = normalize_histograms(histarraytrain)\n",
    "normalizehisttest = normalize_histograms(histarraytest)"
   ]
  },
  {
   "cell_type": "code",
   "execution_count": 50,
   "id": "9fb3770e-8f08-4af9-b05d-f2bdb7dc0262",
   "metadata": {},
   "outputs": [],
   "source": [
    "np.save('../data/processed/SIFT/BalancedSIFT/npsifttrainbalancedlabelsage.npy',normalizehisttrain)"
   ]
  },
  {
   "cell_type": "code",
   "execution_count": 51,
   "id": "5d36d144-8a79-4c23-8bfe-98e20da6bb99",
   "metadata": {},
   "outputs": [],
   "source": [
    "np.save('../data/processed/SIFT/BalancedSIFT/npsifttestbalancedlabelsage.npy',normalizehisttest)"
   ]
  },
  {
   "cell_type": "code",
   "execution_count": 56,
   "id": "163c2756-b1a5-4e53-a433-34c75a5f6767",
   "metadata": {},
   "outputs": [],
   "source": [
    "gendertestnp = np.load('../data/raw/BalancedRaw/nprawtestbalancedlabelsgender.npy',allow_pickle=True)\n",
    "gendertrainnp = np.load('../data/raw/BalancedRaw/nprawtrainbalancedlabelsgender.npy',allow_pickle=True)"
   ]
  },
  {
   "cell_type": "code",
   "execution_count": 58,
   "id": "c52c85d5-9bf7-4b32-80c7-e652dc30e7b4",
   "metadata": {},
   "outputs": [
    {
     "name": "stderr",
     "output_type": "stream",
     "text": [
      "C:\\Users\\thanh\\AppData\\Local\\Temp\\ipykernel_22272\\2020256902.py:50: RuntimeWarning: invalid value encountered in true_divide\n",
      "  histarray[i] = histarray[i]/feats_norm_div[i]\n"
     ]
    }
   ],
   "source": [
    "descriptors = get_descriptors(agetrainnp,100)\n",
    "vocab = get_vocab(descriptors[:100],200)\n",
    "histarraytrain = descriptor_to_vocab(gendertrainnp,vocab)\n",
    "histarraytest = descriptor_to_vocab(gendertestnp,vocab)\n",
    "normalizehisttrain = normalize_histograms(histarraytrain)\n",
    "normalizehisttest = normalize_histograms(histarraytest)"
   ]
  },
  {
   "cell_type": "code",
   "execution_count": 59,
   "id": "28589035-f359-4ce1-8c4f-9a7c4136d890",
   "metadata": {},
   "outputs": [],
   "source": [
    "np.save('../data/processed/SIFT/BalancedSIFT/gender/npsifttrainbalancedlabelsgender.npy',normalizehisttrain)"
   ]
  },
  {
   "cell_type": "code",
   "execution_count": 60,
   "id": "8a7ec700-a2d5-4f0e-89fc-0e83f187ffee",
   "metadata": {},
   "outputs": [],
   "source": [
    "np.save('../data/processed/SIFT/BalancedSIFT/gender/npsifttestbalancedlabelsgender.npy',normalizehisttest)"
   ]
  },
  {
   "cell_type": "code",
   "execution_count": 61,
   "id": "6bfe4a2f-7a1d-4334-b0a6-81e60074f2ab",
   "metadata": {},
   "outputs": [],
   "source": [
    "racetestnp = np.load('../data/raw/BalancedRaw/nprawtestbalancedlabelsrace.npy',allow_pickle=True)\n",
    "racetrainnp = np.load('../data/raw/BalancedRaw/nprawtrainbalancedlabelsrace.npy',allow_pickle=True)"
   ]
  },
  {
   "cell_type": "code",
   "execution_count": 62,
   "id": "17716c3c-cd9c-42b4-b9ca-dc25124b160d",
   "metadata": {},
   "outputs": [
    {
     "name": "stderr",
     "output_type": "stream",
     "text": [
      "C:\\Users\\thanh\\AppData\\Local\\Temp\\ipykernel_22272\\2020256902.py:50: RuntimeWarning: invalid value encountered in true_divide\n",
      "  histarray[i] = histarray[i]/feats_norm_div[i]\n"
     ]
    }
   ],
   "source": [
    "descriptors = get_descriptors(agetrainnp,100)\n",
    "vocab = get_vocab(descriptors[:100],200)\n",
    "histarraytrain = descriptor_to_vocab(racetrainnp,vocab)\n",
    "histarraytest = descriptor_to_vocab(racetestnp,vocab)\n",
    "normalizehisttrain = normalize_histograms(histarraytrain)\n",
    "normalizehisttest = normalize_histograms(histarraytest)"
   ]
  },
  {
   "cell_type": "code",
   "execution_count": 63,
   "id": "23049d31-8f57-4d85-a71f-9ad1a6201c24",
   "metadata": {},
   "outputs": [],
   "source": [
    "np.save('../data/processed/SIFT/BalancedSIFT/race/npsifttrainbalancedlabelsrace.npy',normalizehisttrain)"
   ]
  },
  {
   "cell_type": "code",
   "execution_count": 64,
   "id": "b138d37e-b9c9-4517-9c3f-118623af2160",
   "metadata": {},
   "outputs": [],
   "source": [
    "np.save('../data/processed/SIFT/BalancedSIFT/race/npsifttestbalancedlabelsrace.npy',normalizehisttest)"
   ]
  },
  {
   "cell_type": "code",
   "execution_count": null,
   "id": "172fa183-07e9-4816-b142-12a1d035b219",
   "metadata": {},
   "outputs": [],
   "source": []
  }
 ],
 "metadata": {
  "kernelspec": {
   "display_name": "Python 3 (ipykernel)",
   "language": "python",
   "name": "python3"
  },
  "language_info": {
   "codemirror_mode": {
    "name": "ipython",
    "version": 3
   },
   "file_extension": ".py",
   "mimetype": "text/x-python",
   "name": "python",
   "nbconvert_exporter": "python",
   "pygments_lexer": "ipython3",
   "version": "3.10.2"
  }
 },
 "nbformat": 4,
 "nbformat_minor": 5
}
