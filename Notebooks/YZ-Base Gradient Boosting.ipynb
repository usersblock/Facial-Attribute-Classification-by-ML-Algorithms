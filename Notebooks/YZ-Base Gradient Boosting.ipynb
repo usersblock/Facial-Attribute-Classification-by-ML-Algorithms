{
 "cells": [
  {
   "cell_type": "code",
   "execution_count": 1,
   "id": "d4fb08cf",
   "metadata": {},
   "outputs": [],
   "source": [
    "import pandas as pd\n",
    "import numpy as np\n",
    "from os import listdir\n",
    "from os.path import isfile, join\n",
    "import matplotlib.pyplot as plt\n",
    "from sklearn.ensemble import GradientBoostingClassifier\n",
    "from sklearn.preprocessing import StandardScaler\n",
    "from sklearn.model_selection import train_test_split\n",
    "from sklearn.metrics import accuracy_score, confusion_matrix\n",
    "from sklearn import preprocessing\n",
    "from sklearn.metrics import classification_report\n",
    "# for balance labels\n",
    "from sklearn.datasets import fetch_openml\n",
    "from sklearn.model_selection import train_test_split\n",
    "import seaborn as sns\n",
    "import statsmodels.api as sm\n",
    "import cv2\n",
    "from collections import Counter\n",
    "from imblearn.over_sampling import RandomOverSampler\n",
    "from sklearn.preprocessing import LabelEncoder\n",
    "from imblearn.over_sampling import (RandomOverSampler, SMOTE, ADASYN)\n",
    "from skimage import color\n",
    "\n",
    "%matplotlib inline"
   ]
  },
  {
   "cell_type": "code",
   "execution_count": 2,
   "id": "c0d632fc",
   "metadata": {},
   "outputs": [],
   "source": [
    "mypath = '/Users/yinzi/Downloads/UTKFace'\n",
    "filenames = np.array([f for f in listdir(mypath) if isfile(join(mypath, f))])\n",
    "splitcolumns = [x.split('_')[0:3] + [mypath +'/' + x] for x in filenames if x.count('_') == 3]\n",
    "filecolumns = ['age','gender','race','file']\n",
    "df = pd.DataFrame(data = splitcolumns, columns = filecolumns)\n",
    "df['age']= df['age'].astype('int')\n",
    "df['gender']= df['gender'].astype('int')\n",
    "df['race']= df['race'].astype('int')\n",
    "\n",
    "# put the age in different interval\n",
    "df['age']=np.where(((df.age>=1) & (df.age<=2)), 0, df.age)\n",
    "df['age']=np.where(((df.age>=3) & (df.age<6)), 1, df.age)\n",
    "df['age']=np.where(((df.age>=6) & (df.age<9)), 2, df.age)\n",
    "df['age']=np.where(((df.age>=9) & (df.age<12)), 3, df.age)\n",
    "df['age']=np.where(((df.age>=12) & (df.age<21)), 4, df.age)\n",
    "df['age']=np.where(((df.age>=21) & (df.age<36)), 5, df.age)\n",
    "df['age']=np.where(((df.age>=36) & (df.age<51)), 6, df.age)\n",
    "df['age']=np.where(((df.age>=51) & (df.age<80)), 7, df.age)\n",
    "df['age']=np.where((df.age>=80), 8, df.age)"
   ]
  },
  {
   "cell_type": "code",
   "execution_count": 3,
   "id": "9b167ac0-369f-4f3c-972d-fd2a1571244b",
   "metadata": {},
   "outputs": [
    {
     "data": {
      "text/html": [
       "<div>\n",
       "<style scoped>\n",
       "    .dataframe tbody tr th:only-of-type {\n",
       "        vertical-align: middle;\n",
       "    }\n",
       "\n",
       "    .dataframe tbody tr th {\n",
       "        vertical-align: top;\n",
       "    }\n",
       "\n",
       "    .dataframe thead th {\n",
       "        text-align: right;\n",
       "    }\n",
       "</style>\n",
       "<table border=\"1\" class=\"dataframe\">\n",
       "  <thead>\n",
       "    <tr style=\"text-align: right;\">\n",
       "      <th></th>\n",
       "      <th>age</th>\n",
       "      <th>gender</th>\n",
       "      <th>race</th>\n",
       "      <th>file</th>\n",
       "    </tr>\n",
       "  </thead>\n",
       "  <tbody>\n",
       "    <tr>\n",
       "      <th>0</th>\n",
       "      <td>3</td>\n",
       "      <td>1</td>\n",
       "      <td>2</td>\n",
       "      <td>/Users/yinzi/Downloads/UTKFace/9_1_2_201612192...</td>\n",
       "    </tr>\n",
       "    <tr>\n",
       "      <th>1</th>\n",
       "      <td>6</td>\n",
       "      <td>0</td>\n",
       "      <td>1</td>\n",
       "      <td>/Users/yinzi/Downloads/UTKFace/36_0_1_20170117...</td>\n",
       "    </tr>\n",
       "    <tr>\n",
       "      <th>2</th>\n",
       "      <td>8</td>\n",
       "      <td>1</td>\n",
       "      <td>0</td>\n",
       "      <td>/Users/yinzi/Downloads/UTKFace/86_1_0_20170120...</td>\n",
       "    </tr>\n",
       "    <tr>\n",
       "      <th>3</th>\n",
       "      <td>5</td>\n",
       "      <td>1</td>\n",
       "      <td>0</td>\n",
       "      <td>/Users/yinzi/Downloads/UTKFace/26_1_0_20170116...</td>\n",
       "    </tr>\n",
       "    <tr>\n",
       "      <th>4</th>\n",
       "      <td>0</td>\n",
       "      <td>1</td>\n",
       "      <td>2</td>\n",
       "      <td>/Users/yinzi/Downloads/UTKFace/1_1_2_201612191...</td>\n",
       "    </tr>\n",
       "  </tbody>\n",
       "</table>\n",
       "</div>"
      ],
      "text/plain": [
       "   age  gender  race                                               file\n",
       "0    3       1     2  /Users/yinzi/Downloads/UTKFace/9_1_2_201612192...\n",
       "1    6       0     1  /Users/yinzi/Downloads/UTKFace/36_0_1_20170117...\n",
       "2    8       1     0  /Users/yinzi/Downloads/UTKFace/86_1_0_20170120...\n",
       "3    5       1     0  /Users/yinzi/Downloads/UTKFace/26_1_0_20170116...\n",
       "4    0       1     2  /Users/yinzi/Downloads/UTKFace/1_1_2_201612191..."
      ]
     },
     "execution_count": 3,
     "metadata": {},
     "output_type": "execute_result"
    }
   ],
   "source": [
    "df.head()"
   ]
  },
  {
   "cell_type": "code",
   "execution_count": 172,
   "id": "8b920a50-5880-4fc7-9254-3e5a0518913f",
   "metadata": {},
   "outputs": [],
   "source": [
    "df1 = df.values\n",
    "X = df1[:, 3:4]\n",
    "y1 = df1[:, 0]"
   ]
  },
  {
   "cell_type": "code",
   "execution_count": 173,
   "id": "622cb45d-91c4-4a02-9bef-c5014360efba",
   "metadata": {},
   "outputs": [
    {
     "data": {
      "text/plain": [
       "(array([['/Users/yinzi/Downloads/UTKFace/9_1_2_20161219204347420.jpg.chip.jpg'],\n",
       "        ['/Users/yinzi/Downloads/UTKFace/36_0_1_20170117163203851.jpg.chip.jpg'],\n",
       "        ['/Users/yinzi/Downloads/UTKFace/86_1_0_20170120225751953.jpg.chip.jpg'],\n",
       "        ['/Users/yinzi/Downloads/UTKFace/26_1_0_20170116171048641.jpg.chip.jpg'],\n",
       "        ['/Users/yinzi/Downloads/UTKFace/1_1_2_20161219154612988.jpg.chip.jpg']],\n",
       "       dtype=object),\n",
       " numpy.ndarray)"
      ]
     },
     "execution_count": 173,
     "metadata": {},
     "output_type": "execute_result"
    }
   ],
   "source": [
    "X[0:5], type(X)"
   ]
  },
  {
   "cell_type": "code",
   "execution_count": 174,
   "id": "e594ad6a-7f53-4c3c-a8a4-e5b37072ef75",
   "metadata": {},
   "outputs": [
    {
     "data": {
      "text/plain": [
       "(array([3, 6, 8, 5, 0], dtype=object), numpy.ndarray)"
      ]
     },
     "execution_count": 174,
     "metadata": {},
     "output_type": "execute_result"
    }
   ],
   "source": [
    "y1[0:5], type(y1)"
   ]
  },
  {
   "cell_type": "code",
   "execution_count": 175,
   "id": "2032af99-7da0-4ddf-baa1-b2488a9950b0",
   "metadata": {},
   "outputs": [],
   "source": [
    "# train and test split\n",
    "X_train, X_test, y_train, y_test = train_test_split(X, y1, test_size=0.30, random_state=42)\n",
    "# train and validation dataset split\n",
    "X_train_2, X_val, y_train_2, y_val = train_test_split(X_train, y_train, test_size=0.25, random_state=42)"
   ]
  },
  {
   "cell_type": "code",
   "execution_count": 176,
   "id": "08e19de3-32f6-4948-8fd7-71db693334be",
   "metadata": {},
   "outputs": [
    {
     "data": {
      "text/plain": [
       "((16593, 1), (16593,), (7112, 1), (7112,))"
      ]
     },
     "execution_count": 176,
     "metadata": {},
     "output_type": "execute_result"
    }
   ],
   "source": [
    "X_train.shape, y_train.shape, X_test.shape, y_test.shape, "
   ]
  },
  {
   "cell_type": "code",
   "execution_count": 177,
   "id": "161cc122-40b5-409f-8e62-60eb1a379801",
   "metadata": {},
   "outputs": [
    {
     "data": {
      "text/plain": [
       "((12444, 1), (12444,), (4149, 1), (4149,))"
      ]
     },
     "execution_count": 177,
     "metadata": {},
     "output_type": "execute_result"
    }
   ],
   "source": [
    "X_train_2.shape, y_train_2.shape, X_val.shape, y_val.shape"
   ]
  },
  {
   "cell_type": "code",
   "execution_count": 178,
   "id": "8bfce016-11c4-4617-9a85-182da9cfef7a",
   "metadata": {},
   "outputs": [],
   "source": [
    "X3, y3 = X_train_2, y_train_2"
   ]
  },
  {
   "cell_type": "code",
   "execution_count": 179,
   "id": "7d5b1eca-d9ec-4924-8e3d-1c07b95e45d0",
   "metadata": {},
   "outputs": [
    {
     "name": "stdout",
     "output_type": "stream",
     "text": [
      "Class=5, n=5394 (11.111%)\n",
      "Class=7, n=5394 (11.111%)\n",
      "Class=6, n=5394 (11.111%)\n",
      "Class=4, n=5394 (11.111%)\n",
      "Class=8, n=5394 (11.111%)\n",
      "Class=1, n=5394 (11.111%)\n",
      "Class=3, n=5394 (11.111%)\n",
      "Class=0, n=5394 (11.111%)\n",
      "Class=2, n=5394 (11.111%)\n"
     ]
    }
   ],
   "source": [
    "y3 = LabelEncoder().fit_transform(y3)\n",
    "# summarize distribution\n",
    "#counter = Counter(y3)\n",
    "#for k,v in counter.items():\n",
    "    #per = v / len(y3) * 100\n",
    "    #print('Class=%d, n=%d (%.3f%%)' % (k, v, per))\n",
    "# transform the dataset\n",
    "oversample = RandomOverSampler()\n",
    "X3, y3 = oversample.fit_resample(X3, y3)\n",
    "# summarize distribution\n",
    "counter = Counter(y3)\n",
    "for k,v in counter.items():\n",
    "    per = v / len(y3) * 100\n",
    "    print('Class=%d, n=%d (%.3f%%)' % (k, v, per))"
   ]
  },
  {
   "cell_type": "code",
   "execution_count": 180,
   "id": "6a3eb453-6b67-474d-83b8-083daacd3453",
   "metadata": {},
   "outputs": [
    {
     "data": {
      "text/plain": [
       "(array([['/Users/yinzi/Downloads/UTKFace/22_1_2_20170116165351984.jpg.chip.jpg'],\n",
       "        ['/Users/yinzi/Downloads/UTKFace/68_0_0_20170111221718605.jpg.chip.jpg'],\n",
       "        ['/Users/yinzi/Downloads/UTKFace/45_0_2_20170116164410975.jpg.chip.jpg'],\n",
       "        ['/Users/yinzi/Downloads/UTKFace/23_1_0_20170116221719806.jpg.chip.jpg'],\n",
       "        ['/Users/yinzi/Downloads/UTKFace/69_1_0_20170110141848983.jpg.chip.jpg']],\n",
       "       dtype=object),\n",
       " numpy.ndarray,\n",
       " (48546, 1))"
      ]
     },
     "execution_count": 180,
     "metadata": {},
     "output_type": "execute_result"
    }
   ],
   "source": [
    "X3[0:5], type(X3), X3.shape"
   ]
  },
  {
   "cell_type": "code",
   "execution_count": 181,
   "id": "ed23da33-bc61-46bf-8967-6de75df6d588",
   "metadata": {},
   "outputs": [
    {
     "data": {
      "text/plain": [
       "(array([5, 7, 6, 5, 7]), numpy.ndarray, (48546,))"
      ]
     },
     "execution_count": 181,
     "metadata": {},
     "output_type": "execute_result"
    }
   ],
   "source": [
    "y3[0:5], type(y3), y3.shape"
   ]
  },
  {
   "cell_type": "code",
   "execution_count": 182,
   "id": "0441b9e4-dd25-4a95-85c0-7f46ef15b896",
   "metadata": {},
   "outputs": [
    {
     "data": {
      "text/plain": [
       "48546"
      ]
     },
     "execution_count": 182,
     "metadata": {},
     "output_type": "execute_result"
    }
   ],
   "source": [
    "X4 = X3[:,0]\n",
    "len(X4)"
   ]
  },
  {
   "cell_type": "code",
   "execution_count": 183,
   "id": "e119f057-4e75-411c-b97c-6bb07bce4aa1",
   "metadata": {},
   "outputs": [
    {
     "data": {
      "text/plain": [
       "(array(['/Users/yinzi/Downloads/UTKFace/22_1_2_20170116165351984.jpg.chip.jpg',\n",
       "        '/Users/yinzi/Downloads/UTKFace/68_0_0_20170111221718605.jpg.chip.jpg',\n",
       "        '/Users/yinzi/Downloads/UTKFace/45_0_2_20170116164410975.jpg.chip.jpg',\n",
       "        '/Users/yinzi/Downloads/UTKFace/23_1_0_20170116221719806.jpg.chip.jpg',\n",
       "        '/Users/yinzi/Downloads/UTKFace/69_1_0_20170110141848983.jpg.chip.jpg'],\n",
       "       dtype=object),\n",
       " numpy.ndarray,\n",
       " (48546,))"
      ]
     },
     "execution_count": 183,
     "metadata": {},
     "output_type": "execute_result"
    }
   ],
   "source": [
    "X4[0:5], type(X4), X4.shape"
   ]
  },
  {
   "cell_type": "code",
   "execution_count": 184,
   "id": "9d234c03-991b-4ed7-93d8-9195c466bc11",
   "metadata": {},
   "outputs": [
    {
     "data": {
      "text/html": [
       "<div>\n",
       "<style scoped>\n",
       "    .dataframe tbody tr th:only-of-type {\n",
       "        vertical-align: middle;\n",
       "    }\n",
       "\n",
       "    .dataframe tbody tr th {\n",
       "        vertical-align: top;\n",
       "    }\n",
       "\n",
       "    .dataframe thead th {\n",
       "        text-align: right;\n",
       "    }\n",
       "</style>\n",
       "<table border=\"1\" class=\"dataframe\">\n",
       "  <thead>\n",
       "    <tr style=\"text-align: right;\">\n",
       "      <th></th>\n",
       "      <th>file1</th>\n",
       "      <th>age1</th>\n",
       "    </tr>\n",
       "  </thead>\n",
       "  <tbody>\n",
       "    <tr>\n",
       "      <th>0</th>\n",
       "      <td>/Users/yinzi/Downloads/UTKFace/22_1_2_20170116...</td>\n",
       "      <td>5</td>\n",
       "    </tr>\n",
       "    <tr>\n",
       "      <th>1</th>\n",
       "      <td>/Users/yinzi/Downloads/UTKFace/68_0_0_20170111...</td>\n",
       "      <td>7</td>\n",
       "    </tr>\n",
       "    <tr>\n",
       "      <th>2</th>\n",
       "      <td>/Users/yinzi/Downloads/UTKFace/45_0_2_20170116...</td>\n",
       "      <td>6</td>\n",
       "    </tr>\n",
       "    <tr>\n",
       "      <th>3</th>\n",
       "      <td>/Users/yinzi/Downloads/UTKFace/23_1_0_20170116...</td>\n",
       "      <td>5</td>\n",
       "    </tr>\n",
       "    <tr>\n",
       "      <th>4</th>\n",
       "      <td>/Users/yinzi/Downloads/UTKFace/69_1_0_20170110...</td>\n",
       "      <td>7</td>\n",
       "    </tr>\n",
       "  </tbody>\n",
       "</table>\n",
       "</div>"
      ],
      "text/plain": [
       "                                               file1  age1\n",
       "0  /Users/yinzi/Downloads/UTKFace/22_1_2_20170116...     5\n",
       "1  /Users/yinzi/Downloads/UTKFace/68_0_0_20170111...     7\n",
       "2  /Users/yinzi/Downloads/UTKFace/45_0_2_20170116...     6\n",
       "3  /Users/yinzi/Downloads/UTKFace/23_1_0_20170116...     5\n",
       "4  /Users/yinzi/Downloads/UTKFace/69_1_0_20170110...     7"
      ]
     },
     "execution_count": 184,
     "metadata": {},
     "output_type": "execute_result"
    }
   ],
   "source": [
    "dfbalanced = pd.DataFrame({'file1':X4, 'age1': y3})\n",
    "dfbalanced.head()"
   ]
  },
  {
   "cell_type": "code",
   "execution_count": 185,
   "id": "581d6282-3cb1-4a8f-af9c-415e7437c364",
   "metadata": {},
   "outputs": [
    {
     "data": {
      "text/plain": [
       "((48546, 2), pandas.core.frame.DataFrame)"
      ]
     },
     "execution_count": 185,
     "metadata": {},
     "output_type": "execute_result"
    }
   ],
   "source": [
    "dfbalanced.shape, type(dfbalanced)"
   ]
  },
  {
   "cell_type": "code",
   "execution_count": 186,
   "id": "ebd9f656-fcc6-4abc-a815-9c08bbe107a9",
   "metadata": {},
   "outputs": [
    {
     "data": {
      "text/plain": [
       "(pandas.core.series.Series, pandas.core.series.Series)"
      ]
     },
     "execution_count": 186,
     "metadata": {},
     "output_type": "execute_result"
    }
   ],
   "source": [
    "type(dfbalanced['file1']), type(dfbalanced['age1'])"
   ]
  },
  {
   "cell_type": "code",
   "execution_count": 187,
   "id": "e5b4c1e5-50d2-4d32-ab98-1b57e9d9dc1e",
   "metadata": {},
   "outputs": [
    {
     "data": {
      "text/plain": [
       "array([5, 7, 6, 4, 8, 1, 3, 0, 2])"
      ]
     },
     "execution_count": 187,
     "metadata": {},
     "output_type": "execute_result"
    }
   ],
   "source": [
    "dfbalanced['age1'].unique()"
   ]
  },
  {
   "cell_type": "code",
   "execution_count": 188,
   "id": "c4005e8e-3532-43fe-87f4-5c5650343f8f",
   "metadata": {},
   "outputs": [],
   "source": [
    "n = int(5000/len(set(dfbalanced.loc[:,'age1'])))\n",
    "dfbalancedsubset = dfbalanced.groupby('age1', group_keys=False).apply(lambda x: x.sample(n)).sample(frac=1)"
   ]
  },
  {
   "cell_type": "code",
   "execution_count": 189,
   "id": "9259e0fd-5e01-4a42-a541-3ee3a3d88123",
   "metadata": {},
   "outputs": [
    {
     "data": {
      "text/plain": [
       "file1    4995\n",
       "age1     4995\n",
       "dtype: int64"
      ]
     },
     "execution_count": 189,
     "metadata": {},
     "output_type": "execute_result"
    }
   ],
   "source": [
    "dfbalancedsubset.count()"
   ]
  },
  {
   "cell_type": "code",
   "execution_count": 190,
   "id": "bebf4faf-02b5-4c80-b838-43500d208cba",
   "metadata": {},
   "outputs": [
    {
     "data": {
      "text/html": [
       "<div>\n",
       "<style scoped>\n",
       "    .dataframe tbody tr th:only-of-type {\n",
       "        vertical-align: middle;\n",
       "    }\n",
       "\n",
       "    .dataframe tbody tr th {\n",
       "        vertical-align: top;\n",
       "    }\n",
       "\n",
       "    .dataframe thead th {\n",
       "        text-align: right;\n",
       "    }\n",
       "</style>\n",
       "<table border=\"1\" class=\"dataframe\">\n",
       "  <thead>\n",
       "    <tr style=\"text-align: right;\">\n",
       "      <th></th>\n",
       "      <th>file1</th>\n",
       "      <th>age1</th>\n",
       "    </tr>\n",
       "  </thead>\n",
       "  <tbody>\n",
       "    <tr>\n",
       "      <th>32921</th>\n",
       "      <td>/Users/yinzi/Downloads/UTKFace/16_1_0_20170109...</td>\n",
       "      <td>4</td>\n",
       "    </tr>\n",
       "    <tr>\n",
       "      <th>43574</th>\n",
       "      <td>/Users/yinzi/Downloads/UTKFace/81_1_0_20170120...</td>\n",
       "      <td>8</td>\n",
       "    </tr>\n",
       "  </tbody>\n",
       "</table>\n",
       "</div>"
      ],
      "text/plain": [
       "                                                   file1  age1\n",
       "32921  /Users/yinzi/Downloads/UTKFace/16_1_0_20170109...     4\n",
       "43574  /Users/yinzi/Downloads/UTKFace/81_1_0_20170120...     8"
      ]
     },
     "execution_count": 190,
     "metadata": {},
     "output_type": "execute_result"
    }
   ],
   "source": [
    "dfbalancedsubset.head(2)"
   ]
  },
  {
   "cell_type": "code",
   "execution_count": 191,
   "id": "7eb8cbcb-4097-43bd-abeb-8d6004e48f9b",
   "metadata": {},
   "outputs": [],
   "source": [
    "dfbalancedsubset['age1'].value_counts()\n",
    "y_balanced_train = dfbalancedsubset['age1']"
   ]
  },
  {
   "cell_type": "code",
   "execution_count": 192,
   "id": "7ab35f71",
   "metadata": {},
   "outputs": [],
   "source": [
    "gray_images = []\n",
    "for img_path in dfbalancedsubset['file1']:\n",
    "    image = plt.imread(img_path)\n",
    "    img_gray = color.rgb2gray(image)\n",
    "    gray_images.append(img_gray)"
   ]
  },
  {
   "cell_type": "code",
   "execution_count": 193,
   "id": "aea79efc",
   "metadata": {},
   "outputs": [],
   "source": [
    "gbc=GradientBoostingClassifier(n_estimators=500,learning_rate=0.05,random_state=100,max_features=5 )"
   ]
  },
  {
   "cell_type": "code",
   "execution_count": 194,
   "id": "7c502830-ca0b-4208-be37-de48e198accc",
   "metadata": {},
   "outputs": [
    {
     "data": {
      "text/plain": [
       "(4995, 200, 200)"
      ]
     },
     "execution_count": 194,
     "metadata": {},
     "output_type": "execute_result"
    }
   ],
   "source": [
    "X_train_balanced = np.array(gray_images)\n",
    "X_train_balanced.shape"
   ]
  },
  {
   "cell_type": "code",
   "execution_count": 195,
   "id": "4931c21f-1851-439c-afa4-403437526f6e",
   "metadata": {},
   "outputs": [
    {
     "data": {
      "text/plain": [
       "array(['/Users/yinzi/Downloads/UTKFace/21_0_2_20170116170741864.jpg.chip.jpg'],\n",
       "      dtype=object)"
      ]
     },
     "execution_count": 195,
     "metadata": {},
     "output_type": "execute_result"
    }
   ],
   "source": [
    "X_test[0]"
   ]
  },
  {
   "cell_type": "code",
   "execution_count": 196,
   "id": "9e3aa2df-2110-4751-9bf4-877dbbf97856",
   "metadata": {},
   "outputs": [
    {
     "data": {
      "text/plain": [
       "array(['/Users/yinzi/Downloads/UTKFace/21_0_2_20170116170741864.jpg.chip.jpg',\n",
       "       '/Users/yinzi/Downloads/UTKFace/39_0_4_20170104205430619.jpg.chip.jpg'],\n",
       "      dtype=object)"
      ]
     },
     "execution_count": 196,
     "metadata": {},
     "output_type": "execute_result"
    }
   ],
   "source": [
    "X_test1 = X_test[:,0]\n",
    "X_test1[0:2]"
   ]
  },
  {
   "cell_type": "code",
   "execution_count": 197,
   "id": "383186b0-6bb3-4459-b327-6d374210181a",
   "metadata": {},
   "outputs": [
    {
     "data": {
      "text/plain": [
       "7112"
      ]
     },
     "execution_count": 197,
     "metadata": {},
     "output_type": "execute_result"
    }
   ],
   "source": [
    "len(X_test1)"
   ]
  },
  {
   "cell_type": "code",
   "execution_count": 198,
   "id": "f1c4622f-bd8b-48b7-9d98-e9c2101e64fa",
   "metadata": {},
   "outputs": [],
   "source": [
    "gray_images_test = []\n",
    "for img_path in X_test1:\n",
    "    image = plt.imread(img_path)\n",
    "    img_gray = color.rgb2gray(image)\n",
    "    gray_images_test.append(img_gray)"
   ]
  },
  {
   "cell_type": "code",
   "execution_count": 199,
   "id": "2be6bca8-5e40-404e-8623-e72ca1501e65",
   "metadata": {},
   "outputs": [
    {
     "data": {
      "text/plain": [
       "(7112, 200, 200)"
      ]
     },
     "execution_count": 199,
     "metadata": {},
     "output_type": "execute_result"
    }
   ],
   "source": [
    "X_test2 = np.array(gray_images_test)\n",
    "X_test2.shape"
   ]
  },
  {
   "cell_type": "code",
   "execution_count": 200,
   "id": "417ae27a-823c-4c80-8706-9d34a159855c",
   "metadata": {},
   "outputs": [],
   "source": [
    "nimages, nX, ny = X_train_balanced.shape\n",
    "X_train_balanced = X_train_balanced.reshape((nimages,nX*ny))\n",
    "nimages, nX, ny= X_test2.shape\n",
    "X_test2 = X_test2.reshape((nimages,nX*ny))"
   ]
  },
  {
   "cell_type": "code",
   "execution_count": 201,
   "id": "2a52d856-529b-4d3f-8623-c44e4d6d651c",
   "metadata": {},
   "outputs": [
    {
     "data": {
      "text/plain": [
       "((4995, 40000), (7112, 40000))"
      ]
     },
     "execution_count": 201,
     "metadata": {},
     "output_type": "execute_result"
    }
   ],
   "source": [
    "X_train_balanced.shape, X_test2.shape"
   ]
  },
  {
   "cell_type": "code",
   "execution_count": 202,
   "id": "a7c75274-3da0-4637-b349-526505f95eaf",
   "metadata": {},
   "outputs": [
    {
     "data": {
      "text/plain": [
       "((4995,), (7112,))"
      ]
     },
     "execution_count": 202,
     "metadata": {},
     "output_type": "execute_result"
    }
   ],
   "source": [
    "y_balanced_train.shape, y_test.shape"
   ]
  },
  {
   "cell_type": "code",
   "execution_count": 203,
   "id": "9a741812-a7fc-464b-9f5e-212b931cd6f7",
   "metadata": {},
   "outputs": [
    {
     "data": {
      "text/plain": [
       "GradientBoostingClassifier(learning_rate=0.05, max_features=5, n_estimators=500,\n",
       "                           random_state=100)"
      ]
     },
     "execution_count": 203,
     "metadata": {},
     "output_type": "execute_result"
    }
   ],
   "source": [
    "gbc.fit(X_train_balanced,y_balanced_train)"
   ]
  },
  {
   "cell_type": "code",
   "execution_count": 204,
   "id": "6c7cc358-f27c-474e-bb72-30c8fe5dfea8",
   "metadata": {},
   "outputs": [],
   "source": [
    "y_pred = gbc.predict(X_test2)"
   ]
  },
  {
   "cell_type": "code",
   "execution_count": 209,
   "id": "b73d0bf1-7f15-418e-bc26-65c960789b53",
   "metadata": {},
   "outputs": [
    {
     "data": {
      "text/plain": [
       "(array([5, 6, 5, 6, 6]), numpy.ndarray, numpy.int64)"
      ]
     },
     "execution_count": 209,
     "metadata": {},
     "output_type": "execute_result"
    }
   ],
   "source": [
    "y_pred[0:5], type(y_pred), type(y_pred[0])"
   ]
  },
  {
   "cell_type": "code",
   "execution_count": 208,
   "id": "ee16acb8-cb90-40db-bfcb-b87566a9af1f",
   "metadata": {},
   "outputs": [
    {
     "data": {
      "text/plain": [
       "(array([5, 6, 6, 5, 5], dtype=object), numpy.ndarray)"
      ]
     },
     "execution_count": 208,
     "metadata": {},
     "output_type": "execute_result"
    }
   ],
   "source": [
    "y_test[0:5], type(y_test)"
   ]
  },
  {
   "cell_type": "code",
   "execution_count": 214,
   "id": "450b1bfd-7e3c-4bd6-9f93-63bf8c10f360",
   "metadata": {},
   "outputs": [
    {
     "data": {
      "text/plain": [
       "(array([5, 6, 6, 5, 5]), numpy.ndarray)"
      ]
     },
     "execution_count": 214,
     "metadata": {},
     "output_type": "execute_result"
    }
   ],
   "source": [
    "y_test1 = []\n",
    "for y in y_test:\n",
    "    data = int(y)\n",
    "    y_test1.append(int(data))\n",
    "y_test1[0:5], type(y_test1)\n",
    "y_test = np.array(y_test1)\n",
    "y_test[0:5], type(y_test)"
   ]
  },
  {
   "cell_type": "code",
   "execution_count": 215,
   "id": "11511c67-93d3-459b-a474-c87ef39f11cd",
   "metadata": {},
   "outputs": [
    {
     "name": "stdout",
     "output_type": "stream",
     "text": [
      "0.45683352080989875\n"
     ]
    }
   ],
   "source": [
    "print(accuracy_score(y_test, y_pred))"
   ]
  },
  {
   "cell_type": "code",
   "execution_count": 216,
   "id": "b28ee7c9-0d92-43f2-854d-da204d0687e2",
   "metadata": {},
   "outputs": [
    {
     "name": "stdout",
     "output_type": "stream",
     "text": [
      "[[ 397   72   11    3    5   12    1    7    4]\n",
      " [  65   74   28    9   17   17    4    6    2]\n",
      " [  15   29   32   18   35   21    5    7    2]\n",
      " [   8   24   24   17   21   13    5   15    2]\n",
      " [   9   14   41   31  155  144   46   35    5]\n",
      " [  43   54   45   26  487 1443  632  259   41]\n",
      " [   8    7   16   14  111  268  477  239   34]\n",
      " [  13   16   17   13   62  134  247  556  143]\n",
      " [   0    2    5    1    6   15   14   59   98]]\n"
     ]
    }
   ],
   "source": [
    "print(confusion_matrix(y_test, y_pred))"
   ]
  },
  {
   "cell_type": "code",
   "execution_count": 217,
   "id": "6088f6d8-6607-475c-9961-3904224b7e3d",
   "metadata": {},
   "outputs": [
    {
     "name": "stdout",
     "output_type": "stream",
     "text": [
      "              precision    recall  f1-score   support\n",
      "\n",
      "           0       0.71      0.78      0.74       512\n",
      "           1       0.25      0.33      0.29       222\n",
      "           2       0.15      0.20      0.17       164\n",
      "           3       0.13      0.13      0.13       129\n",
      "           4       0.17      0.32      0.22       480\n",
      "           5       0.70      0.48      0.57      3030\n",
      "           6       0.33      0.41      0.37      1174\n",
      "           7       0.47      0.46      0.47      1201\n",
      "           8       0.30      0.49      0.37       200\n",
      "\n",
      "    accuracy                           0.46      7112\n",
      "   macro avg       0.36      0.40      0.37      7112\n",
      "weighted avg       0.52      0.46      0.47      7112\n",
      "\n"
     ]
    }
   ],
   "source": [
    "print(classification_report(y_test, y_pred))"
   ]
  },
  {
   "cell_type": "code",
   "execution_count": 222,
   "id": "baa75b1b-8577-4797-b01a-e61c86aaa6f1",
   "metadata": {},
   "outputs": [
    {
     "data": {
      "image/png": "[encoded data removed]",
      "text/plain": [
       "<Figure size 648x648 with 2 Axes>"
      ]
     },
     "metadata": {
      "needs_background": "light"
     },
     "output_type": "display_data"
    }
   ],
   "source": [
    "cm = confusion_matrix(y_test, y_pred)\n",
    "plt.figure(figsize=(9,9))\n",
    "plt.imshow(cm, interpolation='nearest', cmap='Pastel1')\n",
    "plt.title('Confusion Matrix for age', size = 30)\n",
    "plt.colorbar()\n",
    "tick_marks = np.arange(9)\n",
    "#plt.xticks(tick_marks, [\"1 infancy (0-2)\", \"2 Early Childhood (Ages 3-5)\", \"3 Middle Childhood (Ages 6-8)\", \"4 Late Childhood (Ages 9-11)\", \"5 Adolescence (Ages 12-20)\", \"6 Early Adulthood (Ages 21-35)\", \"7 Midlife (Ages 36-50)\", \"8 Mature Adulthood (Ages 51-79)\", \"9 Late Adulthood (Age 80+)\"], rotation=90, size = 10)\n",
    "#plt.yticks(tick_marks, [\"1 infancy (0-2)\", \"2 Early Childhood (Ages 3-5)\", \"3 Middle Childhood (Ages 6-8)\", \"4 Late Childhood (Ages 9-11)\", \"5 Adolescence (Ages 12-20)\", \"6 Early Adulthood (Ages 21-35)\", \"7 Midlife (Ages 36-50)\", \"8 Mature Adulthood (Ages 51-79)\", \"9 Late Adulthood (Age 80+)\"], size = 10)\n",
    "plt.tight_layout()\n",
    "plt.ylabel('Actual label', size = 15)\n",
    "plt.xlabel('Predicted label', size = 15)\n",
    "width, height = cm.shape\n",
    "for x in range(width):\n",
    " for y in range(height):\n",
    "  plt.annotate(str(cm[x][y]), xy=(y, x), \n",
    "  horizontalalignment='center',\n",
    "  verticalalignment='center')"
   ]
  },
  {
   "cell_type": "code",
   "execution_count": null,
   "id": "6b361f32-9782-4d29-9769-0a4e31491a2f",
   "metadata": {},
   "outputs": [],
   "source": []
  },
  {
   "cell_type": "code",
   "execution_count": null,
   "id": "5faeba50-5291-4b0f-b68f-6baace611352",
   "metadata": {},
   "outputs": [],
   "source": []
  },
  {
   "cell_type": "code",
   "execution_count": null,
   "id": "465ae08a-8766-4bfd-abec-30e5c558a15e",
   "metadata": {},
   "outputs": [],
   "source": []
  },
  {
   "cell_type": "code",
   "execution_count": null,
   "id": "566be818-81d1-4632-b917-222d7ae3fa18",
   "metadata": {},
   "outputs": [],
   "source": []
  },
  {
   "cell_type": "code",
   "execution_count": null,
   "id": "58bad665-38fd-49fd-a702-9c29bb878c1b",
   "metadata": {},
   "outputs": [],
   "source": []
  },
  {
   "cell_type": "code",
   "execution_count": null,
   "id": "a294e021-1fb8-4496-83aa-90f8c0efbc33",
   "metadata": {},
   "outputs": [],
   "source": []
  },
  {
   "cell_type": "code",
   "execution_count": null,
   "id": "8cb4cb02-1d3e-41b8-b7d8-ab3c27cc54f1",
   "metadata": {},
   "outputs": [],
   "source": []
  },
  {
   "cell_type": "code",
   "execution_count": null,
   "id": "8e169bad-24a4-4192-ae5e-6ca5eda8e5a0",
   "metadata": {},
   "outputs": [],
   "source": []
  }
 ],
 "metadata": {
  "kernelspec": {
   "display_name": "Python 3 (ipykernel)",
   "language": "python",
   "name": "python3"
  },
  "language_info": {
   "codemirror_mode": {
    "name": "ipython",
    "version": 3
   },
   "file_extension": ".py",
   "mimetype": "text/x-python",
   "name": "python",
   "nbconvert_exporter": "python",
   "pygments_lexer": "ipython3",
   "version": "3.9.12"
  }
 },
 "nbformat": 4,
 "nbformat_minor": 5
}
