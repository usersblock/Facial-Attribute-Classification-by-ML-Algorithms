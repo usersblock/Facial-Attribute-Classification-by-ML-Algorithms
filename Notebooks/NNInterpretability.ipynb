{
 "cells": [
  {
   "cell_type": "code",
   "execution_count": 1,
   "id": "3f90d456-faca-4ea1-bf91-14d9b610d1e6",
   "metadata": {},
   "outputs": [],
   "source": [
    "import numpy as np\n",
    "import pandas as pd\n",
    "from os import listdir\n",
    "from os.path import isfile, join\n",
    "from sklearn.model_selection import train_test_split\n",
    "from imblearn.over_sampling import RandomOverSampler\n",
    "from sklearn.preprocessing import LabelEncoder\n",
    "from collections import Counter\n",
    "import cv2\n",
    "from sklearn.metrics import confusion_matrix, accuracy_score, precision_score, recall_score,f1_score,mean_absolute_error,classification_report\n",
    "from keras import Model\n",
    "from tensorflow.keras.layers import Input,Activation,Add, MaxPooling2D, MaxPooling1D, Flatten, Dense, Dropout\n",
    "from tensorflow import keras\n",
    "from tensorflow.keras import layers, models\n",
    "from skimage import color\n",
    "from skimage import filters\n",
    "import tensorflow as tf\n",
    "from tensorflow.keras.regularizers import L1L2\n",
    "from sklearn.metrics import ConfusionMatrixDisplay\n",
    "from sklearn.metrics import confusion_matrix\n",
    "import matplotlib.pyplot as plt\n",
    "import numpy as np\n",
    "from keras.layers import Conv2D, LeakyReLU\n",
    "\n",
    "\n",
    "# Model to examine\n",
    "model = tf.keras.models.load_model('CNNmodel8000_lr0001_age.h5')"
   ]
  },
  {
   "cell_type": "code",
   "execution_count": 2,
   "id": "c2737cc8-dbee-4f48-8d97-6d88b7f7a4b2",
   "metadata": {},
   "outputs": [],
   "source": [
    "# Choose the label type\n",
    "Labeltype = 'gender'\n",
    "samplesize = 8000\n",
    "replacev = False\n",
    "Nlabels = -1\n",
    "if(Labeltype == 'age'):\n",
    "    Nlabels = 9\n",
    "if(Labeltype == 'gender'):\n",
    "    Nlabels = 2\n",
    "if(Labeltype == 'race'):\n",
    "    Nlabels = 5"
   ]
  },
  {
   "cell_type": "markdown",
   "id": "70f177c0-7c1e-4564-9ec2-e6ec37c791a6",
   "metadata": {},
   "source": [
    "### Get the file paths and labels\n",
    "### Split into train-test-validate\n",
    "### Balance the train paths and labels"
   ]
  },
  {
   "cell_type": "code",
   "execution_count": 3,
   "id": "4ddb8441-164e-460f-96b2-55db3cd3a48f",
   "metadata": {},
   "outputs": [
    {
     "name": "stdout",
     "output_type": "stream",
     "text": [
      "Class=1, n=9047 (47.706%)\n",
      "Class=0, n=9917 (52.294%)\n",
      "Class=0, n=7470 (50.000%)\n",
      "Class=1, n=7470 (50.000%)\n",
      "Class=1, n=4000 (50.000%)\n",
      "Class=0, n=4000 (50.000%)\n"
     ]
    }
   ],
   "source": [
    "# Import image labels and paths to dataframe\n",
    "mypath = \"../data/raw/CroppedImages/\"\n",
    "filenames = np.array([f for f in listdir(mypath) if isfile(join(mypath, f))])\n",
    "splitcolumns = [x.split('_')[0:3] + [mypath + x] for x in filenames if x.count('_') == 3]\n",
    "filecolumns = ['age','gender','race','file']\n",
    "filedf = pd.DataFrame(data = splitcolumns, columns = filecolumns).astype({'age': 'int', 'gender': 'int', 'race': 'int'})\n",
    "\n",
    "# Convert age to appropriate labels\n",
    "filedf['age']=np.where((filedf.age<3), 0, filedf.age)\n",
    "filedf['age']=np.where(((filedf.age>=3) & (filedf.age<6)), 1, filedf.age)\n",
    "filedf['age']=np.where(((filedf.age>=6) & (filedf.age<9)), 2, filedf.age)\n",
    "filedf['age']=np.where(((filedf.age>=9) & (filedf.age<12)), 3, filedf.age)\n",
    "filedf['age']=np.where(((filedf.age>=12) & (filedf.age<21)), 4, filedf.age)\n",
    "filedf['age']=np.where(((filedf.age>=21) & (filedf.age<36)), 5, filedf.age)\n",
    "filedf['age']=np.where(((filedf.age>=36) & (filedf.age<51)), 6, filedf.age)\n",
    "filedf['age']=np.where(((filedf.age>=51) & (filedf.age<80)), 7, filedf.age)\n",
    "filedf['age']=np.where((filedf.age>=80), 8, filedf.age)\n",
    "\n",
    "dfx = filedf.loc[:,'file']\n",
    "dfy = filedf.loc[:,Labeltype]\n",
    "\n",
    "# Get Train/Test\n",
    "X_train, X_test, y_train, y_test = train_test_split(dfx, dfy, test_size=0.2, random_state=2)\n",
    "\n",
    "# Get Train/Test/Validation dataset 0.25 * 8 = 0.2\n",
    "X_train_2, X_val, y_train_2, y_val = train_test_split(X_train, y_train, test_size=0.25, random_state=2)\n",
    "\n",
    "# Encode training labels and initialize random over sampler\n",
    "yencoded = LabelEncoder().fit_transform(y_train_2)\n",
    "oversample = RandomOverSampler()\n",
    "\n",
    "# Over sample until training classes are balanced\n",
    "X_train_balanced, y_train_balanced = oversample.fit_resample(np.array(X_train_2).reshape(-1,1), yencoded)\n",
    "\n",
    "# Of all classes, proportionally sample 10000\n",
    "dxy = {'file': X_train_balanced.reshape(len(X_train_balanced)), 'label': y_train_balanced}\n",
    "dfbalanced = pd.DataFrame(data = dxy)\n",
    "balancedsamples = int(samplesize/len(set(dfbalanced.loc[:,'label'])))\n",
    "dfbalancedsubset = dfbalanced.groupby('label', group_keys=False).apply(lambda x: x.sample(balancedsamples, replace = replacev)).sample(frac=1)\n",
    "\n",
    "# Count and print prebalanced classes\n",
    "counter = Counter(y_train)\n",
    "for k,v in counter.items():\n",
    "    per = v / len(y_train) * 100\n",
    "    print('Class=%d, n=%d (%.3f%%)' % (k, v, per))\n",
    "\n",
    "# Count and print balanced classes\n",
    "counter = Counter(y_train_balanced)\n",
    "for k,v in counter.items():\n",
    "    per = v / len(y_train_balanced) * 100\n",
    "    print('Class=%d, n=%d (%.3f%%)' % (k, v, per))\n",
    "\n",
    "# Count and print balanced classes subsets (Total should be 10000)\n",
    "counter = Counter(dfbalancedsubset.loc[:,'label'])\n",
    "for k,v in counter.items():\n",
    "    per = v / len(dfbalancedsubset.loc[:,'label']) * 100\n",
    "    print('Class=%d, n=%d (%.3f%%)' % (k, v, per))"
   ]
  },
  {
   "cell_type": "markdown",
   "id": "9b4f45a7-c874-4f1f-be1a-fb0de9df5da5",
   "metadata": {},
   "source": [
    "### Function to get images"
   ]
  },
  {
   "cell_type": "code",
   "execution_count": 4,
   "id": "346aee46-7f3d-4ec9-85b0-83b990bbe7fa",
   "metadata": {},
   "outputs": [],
   "source": [
    "def get_images(filelist,rgb = True):\n",
    "    dims = 0\n",
    "    if(rgb):\n",
    "        dims=3\n",
    "    else:\n",
    "        dims=1\n",
    "    container = np.zeros((len(filelist),200,200,dims),dtype = np.int16)\n",
    "    for index,i in enumerate(filelist):\n",
    "        img = cv2.imread(i)\n",
    "        if(not rgb):\n",
    "            img = color.rgb2gray(img)\n",
    "        container[index,:,:,:dims]=img\n",
    "    return container"
   ]
  },
  {
   "cell_type": "code",
   "execution_count": 68,
   "id": "efdec514-b935-4247-b4a2-edd2769d9485",
   "metadata": {},
   "outputs": [],
   "source": [
    "validation_img_container = get_images(X_val,rgb = True)\n",
    "test_img_container = get_images(X_test,rgb = True)"
   ]
  },
  {
   "cell_type": "code",
   "execution_count": null,
   "id": "7931e51e-d919-457f-8569-20eea722d9e4",
   "metadata": {},
   "outputs": [],
   "source": []
  }
 ],
 "metadata": {
  "kernelspec": {
   "display_name": "Python 3 (ipykernel)",
   "language": "python",
   "name": "python3"
  },
  "language_info": {
   "codemirror_mode": {
    "name": "ipython",
    "version": 3
   },
   "file_extension": ".py",
   "mimetype": "text/x-python",
   "name": "python",
   "nbconvert_exporter": "python",
   "pygments_lexer": "ipython3",
   "version": "3.10.2"
  }
 },
 "nbformat": 4,
 "nbformat_minor": 5
}
